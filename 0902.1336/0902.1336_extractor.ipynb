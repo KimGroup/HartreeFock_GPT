{
 "cells": [
  {
   "cell_type": "code",
   "execution_count": 1,
   "metadata": {},
   "outputs": [],
   "source": [
    "import openai\n",
    "import pandas as pd\n",
    "import json\n",
    "import yaml\n",
    "from IPython.display import Markdown\n",
    "import sys\n",
    "import yaml\n",
    "from tqdm import tqdm"
   ]
  },
  {
   "cell_type": "code",
   "execution_count": 2,
   "metadata": {},
   "outputs": [],
   "source": [
    "zz=openai.Model.list()"
   ]
  },
  {
   "cell_type": "code",
   "execution_count": 3,
   "metadata": {},
   "outputs": [
    {
     "data": {
      "text/plain": [
       "62"
      ]
     },
     "execution_count": 3,
     "metadata": {},
     "output_type": "execute_result"
    }
   ],
   "source": [
    "len(zz['data'])"
   ]
  },
  {
   "cell_type": "code",
   "execution_count": 4,
   "metadata": {},
   "outputs": [],
   "source": [
    "model_params = {\n",
    "    'model': \"gpt-4\",\n",
    "    'temperature': 0,\n",
    "}"
   ]
  },
  {
   "cell_type": "code",
   "execution_count": 5,
   "metadata": {},
   "outputs": [],
   "source": [
    "def print_save(string, file='../cmp2.md'):\n",
    "    print(string)\n",
    "    with open(file,'w') as f:\n",
    "        f.write(string)"
   ]
  },
  {
   "cell_type": "markdown",
   "metadata": {},
   "source": [
    "## Load prompt_template.md"
   ]
  },
  {
   "cell_type": "code",
   "execution_count": 6,
   "metadata": {},
   "outputs": [],
   "source": [
    "sys.path.append('..')\n",
    "from utils import *\n",
    "from functools import partial"
   ]
  },
  {
   "cell_type": "code",
   "execution_count": 7,
   "metadata": {},
   "outputs": [],
   "source": [
    "prompt_dict = partial(load_prompt_template,file='../prompt_template.md')"
   ]
  },
  {
   "cell_type": "code",
   "execution_count": 8,
   "metadata": {},
   "outputs": [
    {
     "data": {
      "text/plain": [
       "dict_keys(['Preamble', 'Problem-solver', 'Conversation summarizer', 'Construct Kinetic Hamiltonian (continuum version, single-particle)', 'Construct Kinetic Hamiltonian (continuum version, second-quantized)', 'Construct Kinetic Hamiltonian (lattice version)', 'Define each term in Kinetic Hamiltonian (continuum version)', 'Construct Potential Hamiltonian (continuum version)', 'Define each term in Potential Hamiltonian (continuum version)', 'Construct interaction Hamiltonian (real space, lattice version)', 'Construct interaction Hamiltonian (momentum space)', 'Convert from single-particle to second-quantized form, return in matrix', 'Convert from single-particle to second-quantized form, return in summation (expand the matrix)', 'Convert noninteracting Hamiltonian in real space to momentum space (continuum version)', 'Convert noninteracting Hamiltonian in real space to momentum space (lattice version)', 'Convert interacting Hamiltonian in real space to momentum space (lattice version)', 'Particle-hole transformation', 'Simplify the Hamiltonian in the particle-hole basis', \"Wick's theorem\", 'Extract quadratic term', 'Hartree term only', 'Fock term only', 'Expand interaction', 'Swap the index only', 'Swap the index to combine Hartree and Fock terms', 'Reduce momentum in Hartree term (momentum in BZ + reciprocal lattice)', 'Reduce momentum in Hartree term (momentum in BZ)', 'Reduce momentum in Fock term (momentum in BZ + reciprocal lattice)', 'Reduce momentum in Fock term (momentum in BZ)', 'Combine the Hartree and Fock term', 'Construct full Hamiltonian after HF', 'Mathematical simplify: inner product expansion', \"Mathematical simplify: Euler's formula\", 'Mathematical simplify: prosthaphaeresis', 'Mathematical simplify: Expand the product using Associative property', 'Mathematical simplify: Combine using Associative property', 'Mathematical simplify: reduce index'])"
      ]
     },
     "execution_count": 8,
     "metadata": {},
     "output_type": "execute_result"
    }
   ],
   "source": [
    "prompt_dict().keys()"
   ]
  },
  {
   "cell_type": "code",
   "execution_count": null,
   "metadata": {},
   "outputs": [],
   "source": []
  },
  {
   "cell_type": "markdown",
   "metadata": {},
   "source": [
    "# Prompt fill place holder"
   ]
  },
  {
   "cell_type": "code",
   "execution_count": 9,
   "metadata": {},
   "outputs": [],
   "source": [
    "import json"
   ]
  },
  {
   "cell_type": "code",
   "execution_count": 10,
   "metadata": {},
   "outputs": [],
   "source": [
    "pwd=os.getcwd()"
   ]
  },
  {
   "cell_type": "code",
   "execution_count": 11,
   "metadata": {},
   "outputs": [],
   "source": [
    "arxiv_number=pwd.split('/')[-1]"
   ]
  },
  {
   "cell_type": "code",
   "execution_count": 12,
   "metadata": {},
   "outputs": [],
   "source": [
    "with open(f'{arxiv_number}.yaml','r') as f:\n",
    "    kwargs_yaml = yaml.safe_load(f)\n",
    "# with open(f'{arxiv_number}.jsonl','r') as f:\n",
    "#     kwargs_jsonl= [json.loads(line) for line in f]"
   ]
  },
  {
   "cell_type": "code",
   "execution_count": 13,
   "metadata": {},
   "outputs": [],
   "source": [
    "def load_excerpt(sources):\n",
    "    excerpt=''\n",
    "    for tex, lines in sources.items():\n",
    "        with open(tex,'r') as f:\n",
    "            f_list=list(f)\n",
    "            for line in lines:\n",
    "                excerpt=excerpt+''.join(f_list[line[0]:line[1]])\n",
    "    return excerpt"
   ]
  },
  {
   "cell_type": "code",
   "execution_count": 14,
   "metadata": {},
   "outputs": [],
   "source": [
    "prompt_system='''I will provide you a Excerpt of physics paper, and a Template. You will need to fill the placeholders in the template using the correct information from the excerpt.\n",
    "Here are conventions: \n",
    "{..} means a placeholder which you need to fill by extracting information from the excerpt.\n",
    "{A|B} means you need to make a choice between A and B\n",
    "[..] means optional sentence. You should decide whether to use it depending on the excerpt.\n",
    "{{..}} DOES NOT mean a placeholder. You should not change the content inside double curly braces {{..}}.\n",
    "`You should recall that {expression_second_nonint}.` : this sentence should be kept as is.\n",
    "\n",
    "\n",
    "Finally, if you cannot figure out the placeholder, you should leave it as is.'''"
   ]
  },
  {
   "cell_type": "code",
   "execution_count": 15,
   "metadata": {},
   "outputs": [],
   "source": [
    "def drop_text_after(string):\n",
    "    string_new=''\n",
    "    for line in string.split('\\n'):\n",
    "        if '===' in line:\n",
    "            break\n",
    "        else:\n",
    "            if 'You should recall that' not in line:\n",
    "                string_new='\\n'.join([string_new,line])\n",
    "    return string_new[1:]\n"
   ]
  },
  {
   "cell_type": "code",
   "execution_count": 16,
   "metadata": {},
   "outputs": [],
   "source": [
    "def extractor(descriptor,message=False):\n",
    "    sys_msg=[{'role': 'system', 'content': prompt_system}]\n",
    "    question_prompt='\\nTemplate:\\n {template} \\n\\n Excerpt:\\n {excerpt}'.format(template=drop_text_after(prompt_dict()[descriptor['task']]), excerpt=load_excerpt(descriptor['source']))\n",
    "    user_msg=[{'role':'user','content':question_prompt}]\n",
    "    messages = sys_msg + user_msg\n",
    "    if message:\n",
    "        return sys_msg[0]['content']+user_msg[0]['content']\n",
    "    rs= openai.ChatCompletion.create(messages=messages, **model_params)\n",
    "    response=rs['choices'][0]['message'].content\n",
    "    return response\n"
   ]
  },
  {
   "cell_type": "markdown",
   "metadata": {},
   "source": [
    "## GPT4"
   ]
  },
  {
   "cell_type": "code",
   "execution_count": 17,
   "metadata": {},
   "outputs": [
    {
     "name": "stderr",
     "output_type": "stream",
     "text": [
      "100%|██████████| 12/12 [05:46<00:00, 28.89s/it]\n"
     ]
    }
   ],
   "source": [
    "string=''\n",
    "for kwargs in tqdm(kwargs_yaml):\n",
    "    string+='# '+kwargs['task']+'\\n'\n",
    "    response=(extractor(kwargs, message=False))\n",
    "    string+=response+'\\n\\n'\n",
    "    \n",
    "    "
   ]
  },
  {
   "cell_type": "code",
   "execution_count": 18,
   "metadata": {},
   "outputs": [
    {
     "name": "stdout",
     "output_type": "stream",
     "text": [
      "# Construct Kinetic Hamiltonian (lattice version)\n",
      "You will be instructed to describe the kinetic term of Hamiltonian in a system organized according to a hierarchy of scales in the real space in the second-quantized form.   \n",
      "The degrees of freedom of the system are: spin polarization, horizontal position, layer, and orbital.     \n",
      "The kinetic term is a tight-binding model composed of the following hopping process: \n",
      "between two neighboring identical d-orbitals along the crystalline directions.\n",
      "[You should ensure the hermiticity of the Hamiltonian]\n",
      "The summation should be taken over all degrees of freedom and all real space positions.  \n",
      "Return the Kinetic Hamiltonian H_1.\n",
      "\n",
      "Use the following conventions for the symbols:  \n",
      "d^†_{α, σ,  𝐑, λ} creates an electron with spin polarization σ at horizontal position 𝐑, in layer λ = ± 1, and in orbital α=x,y,z corresponding to the d_{xz}, d_{yz}, or d_{xy} orbital respectively. \n",
      "Ψ^†_{α σ}(𝐑, λ)= d^†_{α , σ , 𝐑 , λ} ,  α = x,y,z is a spinor field.\n",
      "n_{λ,α,𝐑}=∑_{σ}d^†_{α , σ , 𝐑 , λ} d_{α , σ , 𝐑 , λ} is the number operator.\n",
      "H_1 is the kinetic Hamiltonian.\n",
      "T^i_{α β; σ σ '} = δ_{α β} δ^i_{α} δ_{σ σ'} are the hopping matrices.\n",
      "L^i_{α β; σ σ'} = ℓ^i_{α β} δ_{σ σ'} are the orbital angular momenta projected onto the t_{2g} states.\n",
      "S^i_{α β; σ σ'} = δ_{α β} τ^i_{σ σ'} are the Pauli matrices.\n",
      "H_{s.o.} is the on-site spin-orbit coupling Hamiltonian.\n",
      "H_2 represents the kinetic energy terms due to weaker overlaps between the orbitals.\n",
      "\n",
      "# Construct interaction Hamiltonian (real space, lattice version)\n",
      "You will be instructed to construct the interaction part of the Hamiltonian, H_1 in the real space in the second-quantized form.   \n",
      "The interacting Hamiltonian has the same degrees of freedom as the kinetic Hamiltonian -t.  \n",
      "The interaction is a density-density interaction composed of the following process:\n",
      "between two electrons in the same orbital (U), as well as between two electrons in different orbitals (V).\n",
      "The summation should be taken over all orbitals and all real space positions.  \n",
      "Return the interaction term H_1 in terms of n_{\\lambda,\\alpha,\\vec  R}.\n",
      "\n",
      "Use the following conventions for the symbols (You should also obey the conventions in all my previous prompts if you encounter undefined symbols. If you find it is never defined or has conflicts in the conventions, you should stop and let me know): \n",
      "H_1 is the interaction part of the Hamiltonian, -t is the kinetic Hamiltonian, U and V are the interaction strengths, n_{\\lambda,\\alpha,\\vec  R} is the density operator, \\lambda represents the orbital, \\alpha represents the spin, and \\vec{R} represents the real space positions.\n",
      "\n",
      "# Convert noninteracting Hamiltonian in real space to momentum space (lattice version)\n",
      "You will be instructed to convert the noninteracting Hamiltonian H(\\vec{k}) in the second quantized form from the basis in real space to the basis in momentum space. \n",
      "To do that, you should apply the Fourier transformation to H_{a}(\\vec{k}) in the real space to the H(\\vec{k}) in the momentum space, which is defined as H_{a}(\\vec{k}) =-2t \\cos{k_a} \\hat{1}_{4 \\times 4} + \\left( \\begin{array}{cccc}\n",
      "\\delta \\mu_{a, \\uparrow}^{(1)} - h& 0 & -t & 0  \\\\\n",
      "0 & \\delta \\mu_{a, \\downarrow}^{(1)}+h& 0 & -t  \\\\\n",
      "-t & 0 & \\delta \\mu_{a, \\uparrow}^{(-1)}-h& 0  \\\\\n",
      "0 & -t & 0 &\\delta \\mu_{a, \\downarrow}^{(-1)} +h \\end{array} \\right), where \\vec{k} is integrated over all sites in the entire real space. You should follow the EXAMPLE below to apply the Fourier transformation. [Note that hopping have no position dependence now.]\n",
      "Express the total noninteracting Hamiltonian H(\\vec{k}) in terms of H_{a}(\\vec{k}). Simplify any summation index if possible.\n",
      "\n",
      "Use the following conventions for the symbols (You should also obey the conventions in all my previous prompts if you encounter undefined symbols. If you find it is never defined or has conflicts in the conventions, you should stop and let me know):\n",
      "\\delta \\mu_{x, \\sigma}^{(\\lambda)} = \\frac{U}{4} \\left( N_o^{\\lambda} - \\sigma M^{\\lambda} - \\sigma N_s^{\\lambda} \\right)\n",
      " - \\frac{V}{2}N_o^{\\lambda}, \\delta \\mu_{y ,\\sigma}^{(\\lambda)} =  \\frac{U}{4} \\left( -N_o^{\\lambda} - \\sigma M^{\\lambda} + \\sigma N_s^{\\lambda} \\right)\n",
      " + \\frac{V}{2}N_o^{\\lambda}.\n",
      "\n",
      "# Convert interacting Hamiltonian in real space to momentum space (lattice version)\n",
      "You will be instructed to convert the interacting Hamiltonian, H(\\vec{k}), in the single-particle form the basis in real space to the basis in momentum space.\n",
      "To do that, you should apply the Fourier transformation to H_{x} (\\vec{k}) and H_{y} (\\vec{k}) in the real space to the \\epsilon^{x}_{\\pm \\sigma} and \\epsilon^{y}_{\\pm \\sigma} in the momentum space, which is defined as H_{a}(\\vec{k}) =-2t \\cos{k_a} \\hat{1}_{4 \\times 4}, where \\vec{k} is integrated over all sites in the entire real space, and \\epsilon^{x}_{\\pm \\sigma} and \\epsilon^{y}_{\\pm \\sigma} is defined within the first Brillouin zone. You should follow the EXAMPLE below to apply the Fourier transformation. [Note that interaction have no position dependence now]\n",
      "Express H(\\vec{k}) in terms of \\epsilon^{x}_{\\pm \\sigma} and \\epsilon^{y}_{\\pm \\sigma}. Simplify any summation index if possible.\n",
      "\n",
      "# Wick's theorem\n",
      "You will be instructed to perform a Hartree-Fock approximation to expand the interaction term, {second_int_symbol}.  \n",
      "You should use Wick's theorem to expand the four-fermion term in {second_int_symbol} into quadratic terms. You should strictly follow the EXAMPLE below to expand using Wick's theorem, select the correct EXAMPLE by noticing the order of four term product with and without ${{}}^\\dagger$, and be extremely cautious about the order of the index and sign before each term.  \n",
      "You should only preserve the normal terms. Here, the normal terms mean the product of a creation operator and an annihilation operator.  \n",
      "Return the expanded interaction term after Hartree-Fock approximation as {Hartree_Fock_symbol}.\n",
      "\n",
      "Use the following conventions for the symbols (You should also obey the conventions in all my previous prompts if you encounter undefined symbols. If you find it is never defined or has conflicts in the conventions, you should stop and let me know):  \n",
      "N_{\\lambda} = \\sum_{ \\vec{R}} \\langle \\Psi^{\\dagger}({\\vec R} , \\lambda) \\left( \\hat{T}^x + \\hat{T}^y \\right) \\Psi({\\vec R} , \\lambda) \\rangle  \n",
      "\\vec{ M}_{\\lambda} = \\sum_{ \\vec{R}} \\langle \\Psi^{\\dagger}({\\vec R} , \\lambda) \\left[ \\vec{S} \\left( \\hat{T}^x + \\hat{T}^y \\right) \\right] \\Psi({\\vec R} , \\lambda) \\rangle  \n",
      "N^o_{\\lambda} = \\sum_{ \\vec{R}} \\langle \\Psi^{\\dagger}({\\vec R} , \\lambda) \\left( \\hat{T}^x - \\hat{T}^y \\right) \\Psi({\\vec R} , \\lambda) \\rangle  \n",
      "\\vec{ N}^s_{\\lambda} = \\sum_{ \\vec{R}} \\langle \\Psi^{\\dagger}({\\vec R} , \\lambda) \\left[ \\vec{S} \\left( \\hat{T}^x - \\hat{T}^y \\right) \\right] \\Psi({\\vec R} , \\lambda) \\rangle\n",
      "\n",
      "# Extract quadratic term\n",
      "You will be instructed to extract the quadratic terms in the one-particle Hamiltonian.  \n",
      "The quadratic terms mean terms that are proportional to the bilinear operator, which excludes terms that are solely expectations or products of expectations.  \n",
      "You should only preserve the quadratic terms in the one-particle Hamiltonian, denoted as H_{a}(\\vec{k}).  \n",
      "Return H_{a}(\\vec{k}).  \n",
      "\n",
      "Use the following conventions for the symbols (You should also obey the conventions in all my previous prompts if you encounter undefined symbols. If you find it is never defined or has conflicts in the conventions, you should stop and let me know):  \n",
      "H_{a}(\\vec{k}) is the quadratic term in the one-particle Hamiltonian, where a = x, y. The quantities \\delta \\mu_{x, \\sigma}^{(\\lambda)} and \\delta \\mu_{y ,\\sigma}^{(\\lambda)} are defined as \\frac{U}{4} \\left( N_o^{\\lambda} - \\sigma M^{\\lambda} - \\sigma N_s^{\\lambda} \\right) - \\frac{V}{2}N_o^{\\lambda} and \\frac{U}{4} \\left( -N_o^{\\lambda} - \\sigma M^{\\lambda} + \\sigma N_s^{\\lambda} \\right) + \\frac{V}{2}N_o^{\\lambda} respectively.\n",
      "\n",
      "# Expand interaction\n",
      "You will be instructed to expand interaction term $V(q)$ in the MF quadratic term $H(\\vec{k})$.\n",
      "If you find the $V(q)$ in $H(\\vec{k})$ does not contain any momentum that is not in the summation sign. The interaction term is already expanded. No action to perform on interaction term.\n",
      "Otherwise, you will expand $V(q)$ by replacing $q$ with the momentum $\\vec{k}$.\n",
      "Return $H(\\vec{k})$ with expanded interaction.\n",
      "\n",
      "# Swap the index only\n",
      "You will be instructed to simplify the quadratic term {Hartree_Fock_second_quantized_symbol} through relabeling the index.  \n",
      "The logic is that the expected value ({N_{\\lambda}, \\vec{ M}_{\\lambda}, N^o_{\\lambda}, \\vec{ N}^s_{\\lambda}}) in the first Hartree term ({H_{x} (\\vec{k}), H_{y} (\\vec{k})}) has the same form as the quadratic operators in the second Hartree term ({\\delta \\mu_{x, \\sigma}^{(\\lambda)}, \\delta \\mu_{y ,\\sigma}^{(\\lambda)}}), and vice versa. The same applies to the Fock term.  \n",
      "Namely, a replacement of {N_{\\lambda}, \\vec{ M}_{\\lambda}, N^o_{\\lambda}, \\vec{ N}^s_{\\lambda}} is applied to ONLY the second Hartree or Fock term. You should not swap any index that is not in the summation, which includes {\\vec{R}, \\lambda}.  \n",
      "This means, if you relabel the index by swapping the index in the \"expected value\" and \"quadratic operators\" in the second Hartree or Fock term, you can make the second Hartree or Fock term look identical to the first Hartree or Fock term, as long as $V(q)=V(-q)$, which is naturally satisfied in Coulomb interaction. You should follow the EXAMPLE below to simplify it through relabeling the index.  \n",
      "Return the simplified {Hartree_Fock_second_quantized_symbol}.\n",
      "\n",
      "# Reduce momentum in Hartree term (momentum in BZ)\n",
      "You will be instructed to simplify the Hartree term, {Hartree_second_quantized_symbol}, by reducing the momentum inside the expected value {expected_value}.  \n",
      "The expected value {expected_value} is only nonzero when the two momenta $k_i,k_j$ are the same, namely, {expected_value_nonzero}.  \n",
      "You should use the property of Kronecker delta function $\\delta_{{k_i,k_j}}$ to reduce one momentum $k_i$.\n",
      "Once you reduce one momentum inside the expected value $\\langle\\dots\\rangle$. You will also notice the total momentum conservation will reduce another momentum in the quadratic term. Therefore, you should end up with only two momenta left in the summation.  \n",
      "You should follow the EXAMPLE below to reduce one momentum in the Hartree term, and another momentum in the quadratic term.  \n",
      "Return the final simplified Hartree term {Hartree_second_quantized_symbol}.\n",
      "\n",
      "# Reduce momentum in Fock term (momentum in BZ)\n",
      "You will be instructed to simplify the Fock term in {Fock_second_quantized_symbol} by reducing the momentum inside the expected value {expected_value}.  \n",
      "The expected value {expected_value} is only nonzero when the two momenta $k_i,k_j$ are the same, namely, {expected_value_nonzero}.  \n",
      "You should use the property of Kronecker delta function $\\delta_{{k_i,k_j}}$ to reduce one momentum $k_i$.  \n",
      "Once you reduce one momentum inside the expected value $\\langle\\dots\\rangle$. You will also notice the total momentum conservation will reduce another momentum in the quadratic term. Therefore, you should end up with only two momenta left in the summation.\n",
      "You should follow the EXAMPLE below to reduce one momentum in the Fock term, and another momentum in the quadratic term.    \n",
      "Return the final simplified Fock term {Fock_second_quantized_symbol}.\n",
      "\n",
      "# Combine the Hartree and Fock term\n",
      "You will now be instructed to combine the Hartree term {U} and the Fock term {V}.  \n",
      "You should perform the same trick of relabeling the index in the Fock term to make the quadratic operators in the Fock term the same as those in the Hartree term. The relabeling should be done with a swap : {N_o^{\\lambda} <-> M^{\\lambda}, N_s^{\\lambda}}.\n",
      "You should add them, relabel the index in Fock term, and simply their sum. \n",
      "Return the final sum of Hartree and Fock term.\n",
      "\n",
      "# Construct full Hamiltonian after HF\n",
      "You will be instructed to construct the entire Hamiltonian after the Hartree-Fock approximation H(\\vec{k}). \n",
      "You should first recall the Kinetic Hamiltonian H_{a}(\\vec{k}) is -2t \\cos{k_a} \\hat{1}_{4 \\times 4}.  \n",
      "You should then recall the interacting Hamiltonian \\delta \\mu_{x, \\sigma}^{(\\lambda)} is \\frac{U}{4} \\left( N_o^{\\lambda} - \\sigma M^{\\lambda} - \\sigma N_s^{\\lambda} \\right) - \\frac{V}{2}N_o^{\\lambda}.  \n",
      "You should then combine H_{a}(\\vec{k}) with the interacting Hamiltonian \\delta \\mu_{x, \\sigma}^{(\\lambda)} after the Hartree-Fock approximation, which is the entire Hamiltonian H(\\vec{k}) after Hartree-Fock.  \n",
      "Return the expression for H(\\vec{k}).  \n",
      "\n",
      "Use the following conventions for the symbols (You should also obey the conventions in all my previous prompts if you encounter undefined symbols. If you find it is never defined or has conflicts in the conventions, you should stop and let me know):  \n",
      "H_{a}(\\vec{k}) represents the Kinetic Hamiltonian, \\delta \\mu_{x, \\sigma}^{(\\lambda)} represents the interacting Hamiltonian, and H(\\vec{k}) represents the entire Hamiltonian after the Hartree-Fock approximation.\n",
      "\n",
      "\n"
     ]
    }
   ],
   "source": [
    "print(string)"
   ]
  },
  {
   "cell_type": "code",
   "execution_count": 19,
   "metadata": {},
   "outputs": [],
   "source": [
    "with open(pwd.split('/')[-1]+'_extractor.md','w') as f:\n",
    "    f.write(string)"
   ]
  },
  {
   "cell_type": "code",
   "execution_count": null,
   "metadata": {},
   "outputs": [],
   "source": []
  }
 ],
 "metadata": {
  "kernelspec": {
   "display_name": "base",
   "language": "python",
   "name": "python3"
  },
  "language_info": {
   "codemirror_mode": {
    "name": "ipython",
    "version": 3
   },
   "file_extension": ".py",
   "mimetype": "text/x-python",
   "name": "python",
   "nbconvert_exporter": "python",
   "pygments_lexer": "ipython3",
   "version": "3.8.11"
  },
  "orig_nbformat": 4
 },
 "nbformat": 4,
 "nbformat_minor": 2
}
