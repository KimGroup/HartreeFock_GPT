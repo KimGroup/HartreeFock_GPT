{
 "cells": [
  {
   "cell_type": "code",
   "execution_count": 1,
   "metadata": {},
   "outputs": [],
   "source": [
    "import openai\n",
    "import pandas as pd\n",
    "import json\n",
    "import yaml\n",
    "from IPython.display import Markdown\n",
    "import sys\n",
    "import yaml\n",
    "from tqdm import tqdm"
   ]
  },
  {
   "cell_type": "code",
   "execution_count": 2,
   "metadata": {},
   "outputs": [],
   "source": [
    "zz=openai.Model.list()"
   ]
  },
  {
   "cell_type": "code",
   "execution_count": 3,
   "metadata": {},
   "outputs": [
    {
     "data": {
      "text/plain": [
       "62"
      ]
     },
     "execution_count": 3,
     "metadata": {},
     "output_type": "execute_result"
    }
   ],
   "source": [
    "len(zz['data'])"
   ]
  },
  {
   "cell_type": "code",
   "execution_count": 4,
   "metadata": {},
   "outputs": [],
   "source": [
    "model_params = {\n",
    "    'model': \"gpt-4\",\n",
    "    'temperature': 0,\n",
    "}"
   ]
  },
  {
   "cell_type": "code",
   "execution_count": 5,
   "metadata": {},
   "outputs": [],
   "source": [
    "def print_save(string, file='../cmp2.md'):\n",
    "    print(string)\n",
    "    with open(file,'w') as f:\n",
    "        f.write(string)"
   ]
  },
  {
   "cell_type": "markdown",
   "metadata": {},
   "source": [
    "## Load prompt_template.md"
   ]
  },
  {
   "cell_type": "code",
   "execution_count": 6,
   "metadata": {},
   "outputs": [],
   "source": [
    "sys.path.append('..')\n",
    "from utils import *\n",
    "from functools import partial"
   ]
  },
  {
   "cell_type": "code",
   "execution_count": 7,
   "metadata": {},
   "outputs": [],
   "source": [
    "prompt_dict = partial(load_prompt_template,file='../prompt_template.md')"
   ]
  },
  {
   "cell_type": "code",
   "execution_count": 8,
   "metadata": {},
   "outputs": [
    {
     "data": {
      "text/plain": [
       "dict_keys(['Preamble', 'Problem-solver', 'Conversation summarizer', 'Construct Kinetic Hamiltonian (continuum version, single-particle)', 'Construct Kinetic Hamiltonian (continuum version, second-quantized)', 'Construct Kinetic Hamiltonian (lattice version)', 'Define each term in Kinetic Hamiltonian (continuum version)', 'Construct Potential Hamiltonian (continuum version)', 'Define each term in Potential Hamiltonian (continuum version)', 'Construct interaction Hamiltonian (real space, lattice version)', 'Construct interaction Hamiltonian (momentum space)', 'Convert from single-particle to second-quantized form, return in matrix', 'Convert from single-particle to second-quantized form, return in summation (expand the matrix)', 'Convert noninteracting Hamiltonian in real space to momentum space (continuum version)', 'Convert noninteracting Hamiltonian in real space to momentum space (lattice version)', 'Convert interacting Hamiltonian in real space to momentum space (lattice version)', 'Particle-hole transformation', 'Simplify the Hamiltonian in the particle-hole basis', \"Wick's theorem\", 'Extract quadratic term', 'Hartree term only', 'Fock term only', 'Expand interaction', 'Swap the index only', 'Swap the index to combine Hartree and Fock terms', 'Reduce momentum in Hartree term (momentum in BZ + reciprocal lattice)', 'Reduce momentum in Hartree term (momentum in BZ)', 'Reduce momentum in Fock term (momentum in BZ + reciprocal lattice)', 'Reduce momentum in Fock term (momentum in BZ)', 'Combine the Hartree and Fock term', 'Construct full Hamiltonian after HF', 'Mathematical simplify: inner product expansion', \"Mathematical simplify: Euler's formula\", 'Mathematical simplify: prosthaphaeresis', 'Mathematical simplify: Expand the product using Associative property', 'Mathematical simplify: Combine using Associative property', 'Mathematical simplify: reduce index'])"
      ]
     },
     "execution_count": 8,
     "metadata": {},
     "output_type": "execute_result"
    }
   ],
   "source": [
    "prompt_dict().keys()"
   ]
  },
  {
   "cell_type": "code",
   "execution_count": null,
   "metadata": {},
   "outputs": [],
   "source": []
  },
  {
   "cell_type": "markdown",
   "metadata": {},
   "source": [
    "# Prompt fill place holder"
   ]
  },
  {
   "cell_type": "code",
   "execution_count": 9,
   "metadata": {},
   "outputs": [],
   "source": [
    "import json"
   ]
  },
  {
   "cell_type": "code",
   "execution_count": 10,
   "metadata": {},
   "outputs": [],
   "source": [
    "pwd=os.getcwd()"
   ]
  },
  {
   "cell_type": "code",
   "execution_count": 11,
   "metadata": {},
   "outputs": [],
   "source": [
    "arxiv_number=pwd.split('/')[-1]"
   ]
  },
  {
   "cell_type": "code",
   "execution_count": 12,
   "metadata": {},
   "outputs": [],
   "source": [
    "with open(f'{arxiv_number}.yaml','r') as f:\n",
    "    kwargs_yaml = yaml.safe_load(f)\n",
    "# with open(f'{arxiv_number}.jsonl','r') as f:\n",
    "#     kwargs_jsonl= [json.loads(line) for line in f]"
   ]
  },
  {
   "cell_type": "code",
   "execution_count": 13,
   "metadata": {},
   "outputs": [],
   "source": [
    "def load_excerpt(sources):\n",
    "    excerpt=''\n",
    "    for tex, lines in sources.items():\n",
    "        with open(tex,'r') as f:\n",
    "            f_list=list(f)\n",
    "            for line in lines:\n",
    "                excerpt=excerpt+''.join(f_list[line[0]:line[1]])\n",
    "    return excerpt"
   ]
  },
  {
   "cell_type": "code",
   "execution_count": 14,
   "metadata": {},
   "outputs": [],
   "source": [
    "prompt_system='''I will provide you a Excerpt of physics paper, and a Template. You will need to fill the placeholders in the template using the correct information from the excerpt.\n",
    "Here are conventions: \n",
    "{..} means a placeholder which you need to fill by extracting information from the excerpt.\n",
    "{A|B} means you need to make a choice between A and B\n",
    "[..] means optional sentence. You should decide whether to use it depending on the excerpt.\n",
    "{{..}} DOES NOT mean a placeholder. You should not change the content inside double curly braces {{..}}.\n",
    "`You should recall that {expression_second_nonint}.` : this sentence should be kept as is.\n",
    "\n",
    "\n",
    "Finally, if you cannot figure out the placeholder, you should leave it as is.'''"
   ]
  },
  {
   "cell_type": "code",
   "execution_count": 15,
   "metadata": {},
   "outputs": [],
   "source": [
    "def drop_text_after(string):\n",
    "    string_new=''\n",
    "    for line in string.split('\\n'):\n",
    "        if '===' in line:\n",
    "            break\n",
    "        else:\n",
    "            if 'You should recall that' not in line:\n",
    "                string_new='\\n'.join([string_new,line])\n",
    "    return string_new[1:]\n"
   ]
  },
  {
   "cell_type": "code",
   "execution_count": 16,
   "metadata": {},
   "outputs": [],
   "source": [
    "def extractor(descriptor,message=False):\n",
    "    sys_msg=[{'role': 'system', 'content': prompt_system}]\n",
    "    question_prompt='\\nTemplate:\\n {template} \\n\\n Excerpt:\\n {excerpt}'.format(template=drop_text_after(prompt_dict()[descriptor['task']]), excerpt=load_excerpt(descriptor['source']))\n",
    "    user_msg=[{'role':'user','content':question_prompt}]\n",
    "    messages = sys_msg + user_msg\n",
    "    if message:\n",
    "        return sys_msg[0]['content']+user_msg[0]['content']\n",
    "    rs= openai.ChatCompletion.create(messages=messages, **model_params)\n",
    "    response=rs['choices'][0]['message'].content\n",
    "    return response\n"
   ]
  },
  {
   "cell_type": "markdown",
   "metadata": {},
   "source": [
    "## GPT4"
   ]
  },
  {
   "cell_type": "code",
   "execution_count": 20,
   "metadata": {},
   "outputs": [
    {
     "name": "stderr",
     "output_type": "stream",
     "text": [
      "100%|██████████| 12/12 [06:34<00:00, 32.90s/it]\n"
     ]
    }
   ],
   "source": [
    "string=''\n",
    "for kwargs in tqdm(kwargs_yaml):\n",
    "    string+='# '+kwargs['task']+'\\n'\n",
    "    response=(extractor(kwargs, message=False))\n",
    "    string+=response+'\\n\\n'\n",
    "    \n",
    "    "
   ]
  },
  {
   "cell_type": "code",
   "execution_count": 21,
   "metadata": {},
   "outputs": [
    {
     "name": "stdout",
     "output_type": "stream",
     "text": [
      "# Construct Kinetic Hamiltonian (lattice version)\n",
      "You will be instructed to describe the kinetic term of Hamiltonian in TBG in the real space in the second-quantized form.   \n",
      "The degrees of freedom of the system are: spin and sublattice   \n",
      "The kinetic term is a tight-binding model composed of the following hopping process: \n",
      "site i and site j with the amplitude h_{\\alpha\\beta}(R_{i}-R_{j})\n",
      "[You should ensure the hermiticity of the Hamiltonian]\n",
      "The summation should be taken over all degrees of freedom and all real space positions.  \n",
      "Return the Kinetic Hamiltonian H_{0}.\n",
      "\n",
      "Use the following conventions for the symbols:  \n",
      "d_{\\alpha,i,\\sigma} is the annihilation operator of an electron with spin σ=↑,↓ on sublattice α of unit cell i, and h_{\\alpha\\beta}(R_{i}-R_{j}) is the corresponding tight-binding matrix element between sublattices α and β located in unit cells centered at R_{i} and R_{j} respectively.\n",
      "\n",
      "# Construct interaction Hamiltonian (real space, lattice version)\n",
      "You will be instructed to construct the interaction part of the Hamiltonian, $\\mathcal{H}_{\\text{C}}$ in the real space in the second-quantized form.   \n",
      "The interacting Hamiltonian has the same degrees of freedom as the kinetic Hamiltonian {kinetic_symbol}.  \n",
      "The interaction is a density-density interaction composed of the following process:\n",
      "site i and site j with the interaction strength $V_{\\alpha\\beta}(\\mathbf{R}_{i}-\\mathbf{R}_{j})$\n",
      "The summation should be taken over all $\\alpha\\beta$ and all real space positions.  \n",
      "Return the interaction term $\\mathcal{H}_{\\text{C}}$ in terms of $\\hat{n}_{\\alpha,i}$.\n",
      "\n",
      "Use the following conventions for the symbols (You should also obey the conventions in all my previous prompts if you encounter undefined symbols. If you find it is never defined or has conflicts in the conventions, you should stop and let me know): \n",
      "$\\hat{n}_{\\alpha,i}=\\sum_{\\sigma}d_{\\alpha,i,\\sigma}^{\\dagger}d_{\\alpha,i,\\sigma}$ is the local density operator and $V_{\\alpha\\beta}(\\mathbf{R})=e^{2}/(\\varepsilon\\xi)\\sum_{m=-\\infty}^{\\infty}(-1)^{m}[(|\\boldsymbol{\\tau}_{\\alpha}-\\boldsymbol{\\mathbf{\\tau}}_{\\beta}+\\mathbf{R}|/\\xi)^{2}+m^{2}]^{-\\frac{1}{2}}$ is the screened form of the interaction in the presence of symmetric gates located at the top and bottom of the TBG heterostructure.\n",
      "\n",
      "# Convert noninteracting Hamiltonian in real space to momentum space (lattice version)\n",
      "You will be instructed to convert the noninteracting Hamiltonian \\mathcal{H} in the second quantized form from the basis in real space to the basis in momentum space. \n",
      "To do that, you should apply the Fourier transform to d_{\\alpha,\\mathbf{k},\\sigma}^{\\dagger} in the real space to the d_{\\alpha,\\mathbf{k},\\sigma}^{\\dagger} in the momentum space, which is defined as {definition_of_Fourier_Transformation}, where {real_variable} is integrated over all sites in the entire real space. You should follow the EXAMPLE below to apply the Fourier transform. [Note that hopping have no position dependence now.]\n",
      "Express the total noninteracting Hamiltonian \\mathcal{H} in terms of d_{\\alpha,\\mathbf{k},\\sigma}^{\\dagger}. Simplify any summation index if possible.\n",
      "\n",
      "Use the following conventions for the symbols (You should also obey the conventions in all my previous prompts if you encounter undefined symbols. If you find it is never defined or has conflicts in the conventions, you should stop and let me know):\n",
      "{definition_of_variables}\n",
      "\n",
      "# Convert interacting Hamiltonian in real space to momentum space (lattice version)\n",
      "You will be instructed to convert the interacting Hamiltonian, $\\mathcal{H}_{\\text{C}}$, in the second-quantized form the basis in real space to the basis in momentum space.\n",
      "To do that, you should apply the Fourier transform to $\\hat{n}_{\\alpha}$ in the real space to $\\hat{n}_{\\alpha}(\\mathbf{q})$ in the momentum space, which is defined as $V_{\\alpha\\beta}(\\mathbf{q})$, where $\\alpha$ is integrated over all sites in the entire real space, and $\\mathbf{q}$ is defined within the first Brillouin zone. You should follow the EXAMPLE below to apply the Fourier transform. [Note that interaction have no position dependence now]\n",
      "Express $\\mathcal{H}_{\\text{C}}$ in terms of $\\hat{n}_{\\alpha}(\\mathbf{q})$. Simplify any summation index if possible.\n",
      "\n",
      "# Wick's theorem\n",
      "Template:\n",
      "You will be instructed to perform a Hartree-Fock approximation to expand the interaction term, $\\mathcal{H}_{\\text{HF}}$.  \n",
      "You should use Wick's theorem to expand the four-fermion term in $\\mathcal{H}_{\\text{HF}}$ into quadratic terms. You should strictly follow the EXAMPLE below to expand using Wick's theorem, select the correct EXAMPLE by noticing the order of four-term product with and without ${{}}^\\dagger$, and be extremely cautious about the order of the index and sign before each term.  \n",
      "You should only preserve the normal terms. Here, the normal terms mean the product of a creation operator and an annihilation operator.  \n",
      "Return the expanded interaction term after Hartree-Fock approximation as $\\bar{h}_{\\alpha\\beta}(\\mathbf{k},\\sigma)$.\n",
      "\n",
      "Use the following conventions for the symbols (You should also obey the conventions in all my previous prompts if you encounter undefined symbols. If you find it is never defined or has conflicts in the conventions, you should stop and let me know):  \n",
      "$\\mathcal{H}_{\\text{HF}}$ is the Hartree-Fock Hamiltonian, $\\bar{h}_{\\alpha\\beta}(\\mathbf{k},\\sigma)$ is the renormalized matrix elements due to both Hartree and Fock contributions, $h_{\\alpha\\beta}^{\\text{H}}(\\mathbf{k},\\sigma)$ and $h_{\\alpha\\beta}^{\\text{F}}(\\mathbf{k},\\sigma)$ are the Hartree and Fock contributions respectively, $\\rho_{\\alpha\\beta}(\\mathbf{k},\\sigma)$ is the zero-temperature density matrix for a given momentum and spin, and $\\phi_{\\alpha,\\mathbf{k}}^{(n)}(\\sigma)$ are the exact eigenvectors of $\\mathcal{H}_{\\text{HF}}$.\n",
      "\n",
      "# Extract quadratic term\n",
      "You will be instructed to extract the quadratic terms in the Hartree-Fock term.  \n",
      "The quadratic terms mean terms that are proportional to $d_{\\alpha,\\mathbf{k},\\sigma}^{\\dagger}d_{\\beta,\\mathbf{k},\\sigma}$, which excludes terms that are solely expectations or products of expectations.  \n",
      "You should only preserve the quadratic terms in the Hartree-Fock term, denoted as $\\mathcal{H}_{\\text{HF}}$.  \n",
      "Return $\\mathcal{H}_{\\text{HF}}$.  \n",
      "\n",
      "Use the following conventions for the symbols (You should also obey the conventions in all my previous prompts if you encounter undefined symbols. If you find it is never defined or has conflicts in the conventions, you should stop and let me know):  \n",
      "$\\mathcal{H}_{\\text{HF}}$ is the Hartree-Fock term, $\\bar{h}_{\\alpha\\beta}(\\mathbf{k},\\sigma)$ is the renormalized matrix elements due to both Hartree and Fock contributions, $d_{\\alpha,\\mathbf{k},\\sigma}^{\\dagger}$ and $d_{\\beta,\\mathbf{k},\\sigma}$ are creation and annihilation operators respectively, and $\\rho_{\\alpha\\beta}(\\mathbf{k},\\sigma)$ is the zero-temperature density matrix for a given momentum and spin.\n",
      "\n",
      "# Expand interaction\n",
      "You will be instructed to expand interaction term $V(q)$ in the MF quadratic term $\\mathcal{H}_{\\text{HF}}$.\n",
      "If you find the $V(q)$ in $\\mathcal{H}_{\\text{HF}}$ does not contain any momentum that is not in the summation sign. The interaction term is already expanded. No action to perform on interaction term.\n",
      "Otherwise, you will expand $V(q)$ by replacing $q$ with the momentum $\\mathbf{k}$.\n",
      "Return $\\mathcal{H}_{\\text{HF}}$ with expanded interaction.\n",
      "\n",
      "# Swap the index only\n",
      "You will be instructed to simplify the quadratic term $\\mathcal{H}_{\\text{HF}}$ through relabeling the index.  \n",
      "The logic is that the expected value ($\\rho_{\\alpha\\beta}(\\mathbf{k},\\sigma)$) in the first Hartree term ($h_{\\alpha\\beta}^{\\text{H}}(\\mathbf{k},\\sigma)$) has the same form as the quadratic operators in the second Hartree term ($h_{\\alpha\\beta}^{\\text{H}}(\\mathbf{k},\\sigma)$), and vice versa. The same applies to the Fock term.  \n",
      "Namely, a replacement of {$\\alpha$ and $\\beta$} is applied to ONLY the second Hartree or Fock term. You should not swap any index that is not in the summation, which includes {$\\mathbf{k},\\sigma$}.  \n",
      "This means, if you relabel the index by swapping the index in the \"expected value\" and \"quadratic operators\" in the second Hartree or Fock term, you can make the second Hartree or Fock term look identical to the first Hartree or Fock term, as long as $V(q)=V(-q)$, which is naturally satisfied in Coulomb interaction. You should follow the EXAMPLE below to simplify it through relabeling the index.  \n",
      "Return the simplified $\\mathcal{H}_{\\text{HF}}$.\n",
      "\n",
      "# Reduce momentum in Hartree term (momentum in BZ)\n",
      "You will be instructed to simplify the Hartree term, $h_{\\alpha\\beta}^{\\text{H}}(\\mathbf{k},\\sigma)$, by reducing the momentum inside the expected value $\\rho_{\\alpha\\beta}(\\mathbf{k},\\sigma)$.  \n",
      "The expected value $\\rho_{\\alpha\\beta}(\\mathbf{k},\\sigma)$ is only nonzero when the two momenta $\\mathbf{k},\\mathbf{k}^{\\prime}$ are the same, namely, $\\rho_{\\alpha\\beta}(\\mathbf{k},\\sigma)=\\delta_{\\alpha\\beta}\\sum_{\\gamma,\\mathbf{k}^{\\prime},\\sigma^{\\prime}}V_{\\beta\\gamma}(0)\\rho_{\\gamma\\gamma}(\\mathbf{k}^{\\prime},\\sigma^{\\prime})$.  \n",
      "You should use the property of Kronecker delta function $\\delta_{{\\mathbf{k},\\mathbf{k}^{\\prime}}}$ to reduce one momentum $\\mathbf{k}$.\n",
      "Once you reduce one momentum inside the expected value $\\langle\\dots\\rangle$. You will also notice the total momentum conservation will reduce another momentum in the quadratic term. Therefore, you should end up with only two momenta left in the summation.  \n",
      "You should follow the EXAMPLE below to reduce one momentum in the Hartree term, and another momentum in the quadratic term.  \n",
      "Return the final simplified Hartree term $h_{\\alpha\\beta}^{\\text{H}}(\\mathbf{k},\\sigma)$.\n",
      "\n",
      "# Reduce momentum in Fock term (momentum in BZ)\n",
      "You will be instructed to simplify the Fock term in $h_{\\alpha\\beta}^{\\text{F}}(\\mathbf{k},\\sigma)$ by reducing the momentum inside the expected value $\\rho_{\\alpha\\beta}(\\mathbf{k},\\sigma)$.  \n",
      "The expected value $\\rho_{\\alpha\\beta}(\\mathbf{k},\\sigma)$ is only nonzero when the two momenta $\\mathbf{k},\\mathbf{k}^{\\prime}$ are the same, namely, $\\rho_{\\alpha\\beta}(\\mathbf{k},\\sigma)=\\sum_{n}^{\\text{occupied}}\\phi_{\\alpha,\\mathbf{k}}^{(n)}(\\sigma)\\phi_{\\beta,\\mathbf{k}}^{(n)*}(\\sigma)$.  \n",
      "You should use the property of Kronecker delta function $\\delta_{{\\mathbf{k},\\mathbf{k}^{\\prime}}}$ to reduce one momentum $\\mathbf{k}$.  \n",
      "Once you reduce one momentum inside the expected value $\\langle\\dots\\rangle$. You will also notice the total momentum conservation will reduce another momentum in the quadratic term. Therefore, you should end up with only two momenta left in the summation.\n",
      "You should follow the EXAMPLE below to reduce one momentum in the Fock term, and another momentum in the quadratic term.    \n",
      "Return the final simplified Fock term $h_{\\alpha\\beta}^{\\text{F}}(\\mathbf{k},\\sigma)$.\n",
      "\n",
      "# Combine the Hartree and Fock term\n",
      "You will now be instructed to combine the Hartree term $h_{\\alpha\\beta}^{\\text{H}}(\\mathbf{k},\\sigma)$ and the Fock term $h_{\\alpha\\beta}^{\\text{F}}(\\mathbf{k},\\sigma)$.  \n",
      "You should perform the same trick of relabeling the index in the Fock term to make the quadratic operators in the Fock term the same as those in the Hartree term. The relabeling should be done with a swap : {swap rule}.\n",
      "You should add them, relabel the index in Fock term, and simply their sum. \n",
      "Return the final sum of Hartree and Fock term.\n",
      "\n",
      "# Construct full Hamiltonian after HF\n",
      "You will be instructed to construct the entire Hamiltonian after the Hartree-Fock approximation $\\mathcal{H}_{\\text{HF}}$. \n",
      "You should first recall the Kinetic Hamiltonian $h_{\\alpha\\beta}(\\mathbf{k})$ is not explicitly given in the excerpt.  \n",
      "You should then recall the interacting Hamiltonian $\\bar{h}_{\\alpha\\beta}(\\mathbf{k},\\sigma)$ is $h_{\\alpha\\beta}(\\mathbf{k})+h_{\\alpha\\beta}^{\\text{H}}(\\mathbf{k},\\sigma)+h_{\\alpha\\beta}^{\\text{F}}(\\mathbf{k},\\sigma)$, where $h_{\\alpha\\beta}^{\\text{H}}(\\mathbf{k},\\sigma)$ and $h_{\\alpha\\beta}^{\\text{F}}(\\mathbf{k},\\sigma)$ are the Hartree and Fock contributions respectively.  \n",
      "You should then combine $h_{\\alpha\\beta}(\\mathbf{k})$ with the interacting Hamiltonian $\\bar{h}_{\\alpha\\beta}(\\mathbf{k},\\sigma)$ after the Hartree-Fock approximation, which is the entire Hamiltonian $\\mathcal{H}_{\\text{HF}}$ after Hartree-Fock.  \n",
      "Return the expression for $\\mathcal{H}_{\\text{HF}}$.  \n",
      "\n",
      "Use the following conventions for the symbols (You should also obey the conventions in all my previous prompts if you encounter undefined symbols. If you find it is never defined or has conflicts in the conventions, you should stop and let me know):  \n",
      "$\\mathcal{H}_{\\text{HF}}$ is the entire Hamiltonian after the Hartree-Fock approximation, $h_{\\alpha\\beta}(\\mathbf{k})$ is the kinetic Hamiltonian, $\\bar{h}_{\\alpha\\beta}(\\mathbf{k},\\sigma)$ is the interacting Hamiltonian, $h_{\\alpha\\beta}^{\\text{H}}(\\mathbf{k},\\sigma)$ and $h_{\\alpha\\beta}^{\\text{F}}(\\mathbf{k},\\sigma)$ are the Hartree and Fock contributions respectively.\n",
      "\n",
      "\n"
     ]
    }
   ],
   "source": [
    "print(string)"
   ]
  },
  {
   "cell_type": "code",
   "execution_count": 22,
   "metadata": {},
   "outputs": [],
   "source": [
    "with open(pwd.split('/')[-1]+'_extractor.md','w') as f:\n",
    "    f.write(string)"
   ]
  },
  {
   "cell_type": "code",
   "execution_count": null,
   "metadata": {},
   "outputs": [],
   "source": []
  }
 ],
 "metadata": {
  "kernelspec": {
   "display_name": "base",
   "language": "python",
   "name": "python3"
  },
  "language_info": {
   "codemirror_mode": {
    "name": "ipython",
    "version": 3
   },
   "file_extension": ".py",
   "mimetype": "text/x-python",
   "name": "python",
   "nbconvert_exporter": "python",
   "pygments_lexer": "ipython3",
   "version": "3.8.11"
  },
  "orig_nbformat": 4
 },
 "nbformat": 4,
 "nbformat_minor": 2
}
