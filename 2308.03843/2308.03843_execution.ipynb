{
 "cells": [
  {
   "cell_type": "code",
   "execution_count": 1,
   "metadata": {},
   "outputs": [],
   "source": [
    "from IPython.display import Markdown\n",
    "\n",
    "import sys\n",
    "sys.path.append('..')\n",
    "from utils import *"
   ]
  },
  {
   "cell_type": "code",
   "execution_count": 94,
   "metadata": {},
   "outputs": [],
   "source": [
    "prompt_template='../prompt_template.md'\n",
    "arxiv_number='2308.03843'\n",
    "prompt_dict=load_prompt_template(prompt_template)\n",
    "with open(f'{arxiv_number}.yaml','r') as f:\n",
    "    kwargs= yaml.safe_load(f)"
   ]
  },
  {
   "cell_type": "code",
   "execution_count": 95,
   "metadata": {},
   "outputs": [
    {
     "data": {
      "text/markdown": [
       "You will now be instructed to combine the Hartree term $h_{\\alpha\\beta}^{\\text{H}}(\\mathbf{k},\\sigma)$ and the Fock term $h_{\\alpha\\beta}^{\\text{F}}(\\mathbf{k},\\sigma)$.  \n",
       "You should recall that the Hartree term $h_{\\alpha\\beta}^{\\text{H}}(\\mathbf{k},\\sigma) = \\frac{1}{N} \\sum_{\\alpha,\\beta} \\sum_{\\sigma,\\sigma'} \\sum_{\\mathbf{k}_1,\\mathbf{k}_3} V_{\\alpha\\beta}(0) \\langle d_{\\alpha,\\mathbf{k}_1,\\sigma}^{\\dagger} d_{\\alpha,\\mathbf{k}_1,\\sigma} \\rangle d_{\\beta,\\mathbf{k}_3,\\sigma'}^{\\dagger} d_{\\beta,\\mathbf{k}_3,\\sigma'}$,  \n",
       "and the Fock term $h_{\\alpha\\beta}^{\\text{F}}(\\mathbf{k},\\sigma) = -\\frac{1}{N} \\sum_{\\alpha,\\beta} \\sum_{\\sigma,\\sigma'} \\sum_{\\mathbf{k}_1,\\mathbf{k}_2} V_{\\alpha\\beta}(\\mathbf{k}_1 - \\mathbf{k}_2) \\langle d_{\\alpha,\\mathbf{k}_1,\\sigma}^{\\dagger} d_{\\beta,\\mathbf{k}_1,\\sigma'} \\rangle d_{\\beta,\\mathbf{k}_2,\\sigma'}^{\\dagger} d_{\\alpha,\\mathbf{k}_2,\\sigma}$.  \n",
       "You should perform the same trick of relabeling the index in the Fock term to make the quadratic operators in the Fock term the same as those in the Hartree term. The relabeling should be done with a swap : Not needed.\n",
       "You should add them, relabel the index in Fock term, and simply their sum. \n",
       "Return the final sum of Hartree and Fock term."
      ],
      "text/plain": [
       "<IPython.core.display.Markdown object>"
      ]
     },
     "execution_count": 95,
     "metadata": {},
     "output_type": "execute_result"
    }
   ],
   "source": [
    "prompt=generate_prompt(kwargs[11],prompt_dict)\n",
    "Markdown(prompt['content'])"
   ]
  },
  {
   "cell_type": "code",
   "execution_count": 77,
   "metadata": {},
   "outputs": [
    {
     "name": "stdout",
     "output_type": "stream",
     "text": [
      "You will be instructed to simplify the Hartree term, $h_{\\alpha\\beta}^{\\text{H}}(\\mathbf{k},\\sigma)$, by reducing the momentum inside the expected value $\\langle d_{\\alpha,\\mathbf{k}_1,\\sigma}^{\\dagger} d_{\\alpha,\\mathbf{k}_2,\\sigma} \\rangle$.  \n",
      "The expected value $\\langle d_{\\alpha,\\mathbf{k}_1,\\sigma}^{\\dagger} d_{\\alpha,\\mathbf{k}_2,\\sigma} \\rangle$ is only nonzero when the two momenta $k_i,k_j$ are the same, namely, $\\langle d_{\\alpha,\\mathbf{k}_1,\\sigma}^{\\dagger} d_{\\alpha,\\mathbf{k}_2,\\sigma} \\rangle = \\delta_{k_1,k_2}\\langle d_{\\alpha,\\mathbf{k}_1,\\sigma}^{\\dagger} d_{\\alpha,\\mathbf{k}_2,\\sigma} \\rangle$.  \n",
      "You should use the property of Kronecker delta function $\\delta_{k_i,k_j}$ to reduce one momentum $k_i$.\n",
      "Once you reduce one momentum inside the expected value $\\langle\\dots\\rangle$. You will also notice the total momentum conservation will reduce another momentum in the quadratic term. Therefore, you should end up with only two momenta left in the summation.  \n",
      "You should follow the EXAMPLE below to reduce one momentum in the Hartree term, and another momentum in the quadratic term.  \n",
      "You should recall that $h_{\\alpha\\beta}^{\\text{H}}(\\mathbf{k},\\sigma)$ is $\\mathcal{H}_{\\text{HF},2} = \\frac{1}{N} \\sum_{\\alpha,\\beta} \\sum_{\\sigma,\\sigma'} \\sum_{\\mathbf{k}_1,\\mathbf{k}_2,\\mathbf{k}_3,\\mathbf{k}_4} V_{\\alpha\\beta}(\\mathbf{k}_1 - \\mathbf{k}_2) \\sum_{\\mathbf{G}} \\delta(\\mathbf{k}_1-\\mathbf{k}_2+\\mathbf{k}_3-\\mathbf{k}_4,\\mathbf{G})  \\langle d_{\\alpha,\\mathbf{k}_1,\\sigma}^{\\dagger} d_{\\alpha,\\mathbf{k}_2,\\sigma} \\rangle d_{\\beta,\\mathbf{k}_3,\\sigma'}^{\\dagger} d_{\\beta,\\mathbf{k}_4,\\sigma'} $.  \n",
      "Return the final simplified Hartree term $h_{\\alpha\\beta}^{\\text{H}}(\\mathbf{k},\\sigma)$.\n",
      "\n",
      "===  \n",
      "EXAMPLE:  \n",
      "Given a Hamiltonian where the Hartree term $\\hat{H}^{Hartree}=\\sum_{k_1,k_2, k_3, k_4,s_1,s_2} V(k_1-k_4) \\langle c_{s_1}^\\dagger(k_1) c_{s_1}(k_4) \\rangle c_{s_2}^\\dagger(k_2) c_{s_2}(k_3) \\sum_{G}\\delta_{k_1+k_2-k_3-k_4,G}$, where $k_i$ is the momentum inside first Brilloun zone, $G$ is the reciprocal lattice vectors, and $s_i$ is a certain index for the degree of freedom other than momentum.   \n",
      "Inside the expected value, we realize $\\langle c_{s_1}^\\dagger(k_1) c_{s_1}(k_4) \\rangle$ is nonzero only when $k_1=k_4$, i.e., $\\langle c_{s_1}^\\dagger(k_1) c_{s_1}(k_4) \\rangle=\\langle c_{s_1}^\\dagger(k_1) c_{s_1}(k_4) \\rangle\\delta_{k_1,k_4}$.  \n",
      "Thus, the Hartree term becomes $\\sum_{k_1,k_2, k_3, k_4,s_1,s_2} V(k_1-k_4) \\langle c_{s_1}^\\dagger(k_1) c_{s_1}(k_4) \\rangle \\delta_{k_1,k_4} c_{s_2}^\\dagger(k_2) c_{s_2}(k_3) \\sum_{G}\\delta_{k_1+k_2-k_3-k_4,G}$.  \n",
      "Use the property of Kronecker delta function $\\delta_{k_1,k_4}$ to sum over $k_4$, we have $\\sum_{k_1, k_2, k_3,s_1,s_2} V(k_1-k_1) \\langle c_{s_1}^\\dagger(k_1) c_{s_1}(k_1) \\rangle c_{s_2}^\\dagger(k_2) c_{s_2}(k_3) \\sum_{G}\\delta_{k_1+k_2-k_3-k_1,G}=\\sum_{k_1, k_2, k_3,s_1,s_2} V(0) \\langle c_{s_1}^\\dagger(k_1) c_{s_1}(k_1) \\rangle c_{s_2}^\\dagger(k_2) c_{s_2}(k_3) \\sum_{G}\\delta_{k_2-k_3,G}$.  \n",
      "We can further simplify $\\sum_{G}\\delta_{k_2-k_3,G}$. Because $k_i$ is momentum inside first Brilloun zone, and the difference between $k_2$ and $k_3$ cannot exceed the first shell of reciprocal lattice vector, which means $G$ can only take the value of the origin point in the reciprocal lattice, therefore, $\\sum_{G}\\delta_{k_2-k_3,G}=\\delta_{k_2-k_3,0}$.   \n",
      "Thus, the Hartree term simplifies to $\\sum_{k_1, k_2, k_3,s_1,s_2} V(0) \\langle c_{s_1}^\\dagger(k_1) c_{s_1}(k_1) \\rangle c_{s_2}^\\dagger(k_2) c_{s_2}(k_3) \\delta_{k_2-k_3,0}=\\sum_{k_1, k_2,s_1,s_2} V(0) \\langle c_{s_1}^\\dagger(k_1) c_{s_1}(k_1) \\rangle c_{s_2}^\\dagger(k_2) c_{s_2}(k_2)$.  \n",
      "Therefore, the final simplified Hartree term after reducing one momentum is $\\hat{H}^{Hartree}=\\sum_{k_1, k_2,s_1,s_2} V(0) \\langle c_{s_1}^\\dagger(k_1) c_{s_1}(k_1) \\rangle c_{s_2}^\\dagger(k_2) c_{s_2}(k_2)$\n"
     ]
    }
   ],
   "source": [
    "print(prompt['content'])"
   ]
  },
  {
   "cell_type": "code",
   "execution_count": null,
   "metadata": {},
   "outputs": [],
   "source": []
  }
 ],
 "metadata": {
  "kernelspec": {
   "display_name": "base",
   "language": "python",
   "name": "python3"
  },
  "language_info": {
   "codemirror_mode": {
    "name": "ipython",
    "version": 3
   },
   "file_extension": ".py",
   "mimetype": "text/x-python",
   "name": "python",
   "nbconvert_exporter": "python",
   "pygments_lexer": "ipython3",
   "version": "3.11.4"
  }
 },
 "nbformat": 4,
 "nbformat_minor": 2
}
