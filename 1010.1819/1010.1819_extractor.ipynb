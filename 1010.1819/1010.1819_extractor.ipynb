{
 "cells": [
  {
   "cell_type": "code",
   "execution_count": 1,
   "metadata": {},
   "outputs": [],
   "source": [
    "import openai\n",
    "import pandas as pd\n",
    "import json\n",
    "import yaml\n",
    "from IPython.display import Markdown\n",
    "import sys\n",
    "import yaml\n",
    "from tqdm import tqdm"
   ]
  },
  {
   "cell_type": "code",
   "execution_count": 2,
   "metadata": {},
   "outputs": [],
   "source": [
    "zz=openai.Model.list()"
   ]
  },
  {
   "cell_type": "code",
   "execution_count": 3,
   "metadata": {},
   "outputs": [
    {
     "data": {
      "text/plain": [
       "74"
      ]
     },
     "execution_count": 3,
     "metadata": {},
     "output_type": "execute_result"
    }
   ],
   "source": [
    "len(zz['data'])"
   ]
  },
  {
   "cell_type": "code",
   "execution_count": 4,
   "metadata": {},
   "outputs": [],
   "source": [
    "model_params = {\n",
    "    'model': \"gpt-4\",\n",
    "    'temperature': 0,\n",
    "}"
   ]
  },
  {
   "cell_type": "code",
   "execution_count": 5,
   "metadata": {},
   "outputs": [],
   "source": [
    "def print_save(string, file='../cmp2.md'):\n",
    "    print(string)\n",
    "    with open(file,'w') as f:\n",
    "        f.write(string)"
   ]
  },
  {
   "cell_type": "markdown",
   "metadata": {},
   "source": [
    "## Load prompt_template.md"
   ]
  },
  {
   "cell_type": "code",
   "execution_count": 6,
   "metadata": {},
   "outputs": [],
   "source": [
    "sys.path.append('..')\n",
    "from utils import *\n",
    "from functools import partial"
   ]
  },
  {
   "cell_type": "code",
   "execution_count": 7,
   "metadata": {},
   "outputs": [],
   "source": [
    "prompt_dict = partial(load_prompt_template,file='../prompt_template.md')"
   ]
  },
  {
   "cell_type": "code",
   "execution_count": 8,
   "metadata": {},
   "outputs": [
    {
     "data": {
      "text/plain": [
       "dict_keys(['Preamble', 'Problem-solver', 'Conversation summarizer', 'Construct Kinetic Hamiltonian (continuum version, single-particle)', 'Construct Kinetic Hamiltonian (continuum version, second-quantized)', 'Construct Kinetic Hamiltonian (lattice version)', 'Define each term in Kinetic Hamiltonian (continuum version)', 'Construct Potential Hamiltonian (continuum version)', 'Define each term in Potential Hamiltonian (continuum version)', 'Construct interaction Hamiltonian (real space, lattice version)', 'Construct interaction Hamiltonian (momentum space)', 'Convert from single-particle to second-quantized form, return in matrix', 'Convert from single-particle to second-quantized form, return in summation (expand the matrix)', 'Convert noninteracting Hamiltonian in real space to momentum space (continuum version)', 'Convert noninteracting Hamiltonian in real space to momentum space (lattice version)', 'Convert interacting Hamiltonian in real space to momentum space (lattice version)', 'Particle-hole transformation', 'Simplify the Hamiltonian in the particle-hole basis', \"Wick's theorem\", 'Extract quadratic term', 'Hartree term only', 'Fock term only', 'Expand interaction', 'Swap the index only', 'Swap the index to combine Hartree and Fock terms', 'Reduce momentum in Hartree term (momentum in BZ + reciprocal lattice)', 'Reduce momentum in Hartree term (momentum in BZ)', 'Reduce momentum in Fock term (momentum in BZ + reciprocal lattice)', 'Reduce momentum in Fock term (momentum in BZ)', 'Combine the Hartree and Fock term', 'Mathematical simplify: inner product expansion', \"Mathematical simplify: Euler's formula\", 'Mathematical simplify: prosthaphaeresis', 'Mathematical simplify: Expand the product using Associative property', 'Mathematical simplify: Combine using Associative property', 'Mathematical simplify: reduce index'])"
      ]
     },
     "execution_count": 8,
     "metadata": {},
     "output_type": "execute_result"
    }
   ],
   "source": [
    "prompt_dict().keys()"
   ]
  },
  {
   "cell_type": "code",
   "execution_count": null,
   "metadata": {},
   "outputs": [],
   "source": []
  },
  {
   "cell_type": "markdown",
   "metadata": {},
   "source": [
    "# Prompt fill place holder"
   ]
  },
  {
   "cell_type": "code",
   "execution_count": 9,
   "metadata": {},
   "outputs": [],
   "source": [
    "import json"
   ]
  },
  {
   "cell_type": "code",
   "execution_count": 10,
   "metadata": {},
   "outputs": [],
   "source": [
    "pwd=os.getcwd()"
   ]
  },
  {
   "cell_type": "code",
   "execution_count": 11,
   "metadata": {},
   "outputs": [],
   "source": [
    "arxiv_number=pwd.split('/')[-1]"
   ]
  },
  {
   "cell_type": "code",
   "execution_count": 12,
   "metadata": {},
   "outputs": [],
   "source": [
    "with open(f'{arxiv_number}.yaml','r') as f:\n",
    "    kwargs_yaml = yaml.safe_load(f)\n",
    "# with open(f'{arxiv_number}.jsonl','r') as f:\n",
    "#     kwargs_jsonl= [json.loads(line) for line in f]"
   ]
  },
  {
   "cell_type": "code",
   "execution_count": 13,
   "metadata": {},
   "outputs": [],
   "source": [
    "def load_excerpt(sources):\n",
    "    excerpt=''\n",
    "    for tex, lines in sources.items():\n",
    "        with open(tex,'r') as f:\n",
    "            f_list=list(f)\n",
    "            for line in lines:\n",
    "                excerpt=excerpt+''.join(f_list[line[0]:line[1]])\n",
    "    return excerpt"
   ]
  },
  {
   "cell_type": "code",
   "execution_count": 56,
   "metadata": {},
   "outputs": [],
   "source": [
    "prompt_system='''I will provide you a Excerpt of physics paper, and a Template. You will need to fill the placeholders in the template using the correct information from the excerpt.\n",
    "Here are conventions:  \n",
    "{..} means a placeholder which you need to fill by extracting information from the excerpt.  \n",
    "{A|B} means you need to make a choice between A and B  \n",
    "[..] means optional sentence. You should decide whether to use it depending on the excerpt.  \n",
    "{{..}} DOES NOT mean a placeholder. You should not change the content inside double curly braces {{..}}.  \n",
    "'You should recall that {..}.' : this sentence should be kept as is.\n",
    "\n",
    "Finally, if you cannot figure out the placeholder, you should leave it as is.\n",
    "'''"
   ]
  },
  {
   "cell_type": "code",
   "execution_count": 16,
   "metadata": {},
   "outputs": [],
   "source": [
    "def drop_text_after(string):\n",
    "    string_new=''\n",
    "    for line in string.split('\\n'):\n",
    "        if '===' in line:\n",
    "            break\n",
    "        else:\n",
    "            if 'You should recall that' not in line:\n",
    "                string_new='\\n'.join([string_new,line])\n",
    "    return string_new[1:]\n"
   ]
  },
  {
   "cell_type": "code",
   "execution_count": 17,
   "metadata": {},
   "outputs": [],
   "source": [
    "def extractor(descriptor,message=False):\n",
    "    sys_msg=[{'role': 'system', 'content': prompt_system}]\n",
    "    question_prompt='\\nTemplate:\\n {template} \\n\\n Excerpt:\\n {excerpt}'.format(template=drop_text_after(prompt_dict()[descriptor['task']]), excerpt=load_excerpt(descriptor['source']))\n",
    "    user_msg=[{'role':'user','content':question_prompt}]\n",
    "    messages = sys_msg + user_msg\n",
    "    if message:\n",
    "        return sys_msg[0]['content']+user_msg[0]['content']\n",
    "    rs= openai.ChatCompletion.create(messages=messages, **model_params)\n",
    "    response=rs['choices'][0]['message'].content\n",
    "    return response\n"
   ]
  },
  {
   "cell_type": "markdown",
   "metadata": {},
   "source": [
    "# Check tex un-unicode-8 character"
   ]
  },
  {
   "cell_type": "code",
   "execution_count": 23,
   "metadata": {},
   "outputs": [
    {
     "name": "stdout",
     "output_type": "stream",
     "text": [
      "No invalid utf-8 sequences found.\n"
     ]
    }
   ],
   "source": [
    "def find_invalid_utf8(filename, context=20):\n",
    "    \"\"\"\n",
    "    Locate invalid utf-8 byte sequences in a file.\n",
    "\n",
    "    Parameters:\n",
    "    - filename: The path to the file to check.\n",
    "    - context: Number of bytes to show before and after the problematic byte.\n",
    "    \"\"\"\n",
    "\n",
    "    with open(filename, 'rb') as f:\n",
    "        data = f.read()\n",
    "\n",
    "    try:\n",
    "        data.decode('utf-8')\n",
    "    except UnicodeDecodeError as e:\n",
    "        byte_pos = e.start\n",
    "        start = max(0, byte_pos - context)\n",
    "        end = min(len(data), byte_pos + context)\n",
    "\n",
    "        # Attempt to decode the context, replacing invalid characters with '?' for visualization.\n",
    "        context_str = data[start:end].decode('utf-8', errors='replace')\n",
    "        \n",
    "        print(f\"Invalid byte at position {byte_pos}:\")\n",
    "        print(context_str)\n",
    "    else:\n",
    "        print(\"No invalid utf-8 sequences found.\")\n",
    "\n",
    "filename = f\"{arxiv_number}.tex\"\n",
    "find_invalid_utf8(filename)\n"
   ]
  },
  {
   "cell_type": "markdown",
   "metadata": {},
   "source": [
    "## GPT4"
   ]
  },
  {
   "cell_type": "code",
   "execution_count": 19,
   "metadata": {},
   "outputs": [
    {
     "name": "stderr",
     "output_type": "stream",
     "text": [
      "100%|██████████| 12/12 [00:00<00:00, 54.26it/s]\n"
     ]
    }
   ],
   "source": [
    "string=''\n",
    "for kwargs in tqdm(kwargs_yaml[1:]):\n",
    "    string+='# '+kwargs['task']+'\\n'\n",
    "    response=(extractor(kwargs, message=True))\n",
    "    string+=response+'\\n\\n'\n",
    "    \n",
    "    "
   ]
  },
  {
   "cell_type": "code",
   "execution_count": 23,
   "metadata": {},
   "outputs": [
    {
     "name": "stdout",
     "output_type": "stream",
     "text": [
      "# Construct Kinetic Hamiltonian (continuum version, single-particle)\n",
      "You will be instructed to describe the kinetic term of Hamiltonian in the model's Bloch basis states in the real space in the second-quantized form.   \n",
      "The degrees of freedom of the system are: the total number of unit cells in the system, the band's Wannier wavefunction, and the carbon site with position relative to a the triangular lattice vector.  \n",
      "Express the Kinetic Hamiltonian using variables which are only on the diagonal terms, and arrange the basis in the order of the four sublattice indexes. Note that the sublattice degrees of freedom is suppressed for now and will be stated later.\n",
      "\n",
      "Use the following conventions for the symbols:  \n",
      "N is the total number of unit cells in the system, φ is the band's Wannier wavefunction, and κ labels the carbon site with position τκ relative to a the triangular lattice vector R_i. The notations A, B, Ā, B̄ are used for the four sublattice indexes κ, where B and Ā are the opposite-layer near-neighbor-pair sites.\n",
      "\n",
      "# Define each term in Kinetic Hamiltonian (continuum version)\n",
      "Template:\n",
      " You will be instructed to construct each term, namely {H}_0.  \n",
      "For all energy dispersions, {H}_0, it characterizes the {parabolic|Dirac|cos} dispersion for {electrons|holes}.   \n",
      "[In addition, a shift of {momentum_shift} in the momentum {k} for {shifted_Ek}, respectively.]  \n",
      "You should follow the EXAMPLE below to obtain the correct energy dispersion, select the correct EXAMPLE by noticing the type of dispersion.  \n",
      "Finally, in the real space, the momentum ${k}=-i \\partial_{r}$. You should keep the form of ${k}$ in the Hamiltonian for short notations but should remember ${k}$ is an operator.  \n",
      "Return the expression for {H}_0 in the Kinetic Hamiltonian, and substitute it into the Kinetic Hamiltonian {H}_0.  \n",
      "\n",
      "Use the following conventions for the symbols (You should also obey the conventions in all my previous prompts if you encounter undefined symbols. If you find it is never defined or has conflicts in the conventions, you should stop and let me know):  \n",
      "{f\\left( {\\bf k} \\right) &=&   e^{ i k_y a / \\sqrt{3} } \\left( 1 + 2 e^{-i 3 k_{y} a / 2\\sqrt{3}}  \n",
      "                                       \\cos \\left(  \\frac{k_x a}{2} \\right)    \\right)  \n",
      "\\end{eqnarray}\n",
      "with $a = 2.46 \\AA$ arises from a sum over the three near-neighbor hops within a layer. \n",
      "We have neglected differences in on-site energies and next nearest neighbor hopping processes \n",
      "which give rise to electron-hole asymmetry and do not play an important role in pseudospin ferromagnetism.\n",
      "The tight-binding model parameters $\\gamma_i$ should not be confused with the \n",
      "Slonczewski-Weiss, McClure \\cite{swm} model parameters for bulk graphite,\n",
      "despite the obvious similarities in notation. \n",
      "In our calculations we adopt conventions similar to those of Ref.[\\onlinecite{gamma3}]\n",
      "for bilayer graphene, taking the values $\\gamma_0 = -3.12 \\,\\, eV$, $\\gamma_1 = -0.377$,\n",
      "$\\gamma_3 = -0.29 \\,\\, eV$ and $\\gamma_4 = -0.12 \\,\\, eV$ for the hopping parameters.\n",
      "Only the intralayer nearest neighbor ($\\gamma_0$) process and interlayer tunneling ($\\gamma_1$) \n",
      "process are retained in the minimal tight-binding model. \n",
      "The trigonal warping ($\\gamma_3$) process which connects the $A$ and $\\widetilde{B}$ sites \n",
      "is responsible for the leading circular symmetry breaking near the \n",
      "valley points,\n",
      "while the ($\\gamma_4$) process which connects $A$ and $\\widetilde{A}$ sites \n",
      "influences the intralayer charge imbalance between sublattices $A$ and $B$. }\n",
      "\n",
      "# Convert from single-particle to second-quantized form, return in matrix\n",
      "You will be instructed to construct the second quantized form of the total noninteracting Hamiltonian in the momentum space.  \n",
      "The noninteracting Hamiltonian in the momentum space $H_0$ is the sum of Kinetic Hamiltonian and Potential Hamiltonian.  \n",
      "To construct the second quantized form of a Hamiltonian. You should construct the creation and annihilation operators from the basis explicitly. You should follow the EXAMPLE below to convert a Hamiltonian from the single-particle form to second-quantized form.  \n",
      "Finally by \"total\", it means you need to take a summation over the momentum space position $k$.   \n",
      "Return the second quantized form of the total noninteracting Hamiltonian.  \n",
      "\n",
      "Use the following conventions for the symbols (You should also obey the conventions in all my previous prompts if you encounter undefined symbols. If you find it is never defined or has conflicts in the conventions, you should stop and let me know):  \n",
      "The model's Bloch basis states are written as $\\psi_{{\\bf k}\\kappa} \\left({\\mathbf r} \\right) = \\frac{1}{\\sqrt{N}} \\sum_{i} e^{i {\\mathbf k} \\left( {\\mathbf R}_i + {\\bf \\tau}_{\\kappa} \\right)} \n",
      "\\phi \\left({\\mathbf r} - {\\mathbf R}_i - {\\bf \\tau}_{\\kappa} \\right)$, where $N$ is the total number of unit cells in the system, $\\phi  \\left({\\mathbf r} \\right)$ is the band's \n",
      "Wannier wavefunction, and $\\kappa$ labels the carbon site with position \n",
      "${\\bf \\tau}_{\\kappa}$ relative to a the triangular lattice vector ${\\mathbf R}_i$. The four band tight-binding model Hamiltonian of a graphene bilayer is represented as $H_0$. The tight-binding model parameters are represented as $\\gamma_i$.\n",
      "\n",
      "# Convert from single-particle to second-quantized form, return in summation (expand the matrix)\n",
      "You will be instructed to expand the second-quantized form Hamiltonian {H}_0 using {gamma_i} and {\\psi_{{\\bf k}\\kappa}}. You should follow the EXAMPLE below to expand the Hamiltonian.  \n",
      "You should use any previous knowledge to simplify it. For example, if any term of {gamma_i} is zero, you should remove it from the summation.\n",
      "Return the expanded form of {H}_0 after simplification.  \n",
      "\n",
      "Use the following conventions for the symbols (You should also obey the conventions in all my previous prompts if you encounter undefined symbols. If you find it is never defined or has conflicts in the conventions, you should stop and let me know):  \n",
      "{H}_0 is the four band tight-binding model Hamiltonian of a graphene bilayer, {\\psi_{{\\bf k}\\kappa}} is the model's Bloch basis states, and {gamma_i} are the tight-binding model parameters.\n",
      "\n",
      "# Construct interaction Hamiltonian (momentum space)\n",
      "Template:\n",
      "You will be instructed to construct the interaction part of the Hamiltonian $V^{\\kappa \\kappa^{\\prime}}$ in the momentum space.  \n",
      "The interaction Hamiltonian is a product of four parts.\n",
      "The first part is the product of four operators with two creation and two annihilation operators following the normal order, namely, creation operators are before annihilation operators. You should follow the order of $\\kappa, \\kappa^{\\prime}, \\kappa^{\\prime}, \\kappa$ for the index of operator, and $1,2,3,4$ for the momentum. \n",
      "The second part is the constraint of total momentum conservation, namely the total momentum of all creation operators should be the same as that of all annihilation operators.  \n",
      "The third part is the interaction form. You should use the interaction form with $V(q)=2 \\pi e^2 / \\left(  \\left| \\bf q \\right|   \\epsilon_r \\right)$ when $\\kappa$ and $\\kappa^{\\prime}$ refer to the same layer and $\\left( 2 \\pi e^2 /\\left( { \\left| \\bf q \\right|}   \\epsilon_r \\right)  \\right)  \\exp{ \\left[  - \\left| {\\bf q} \\right|  c \\right] }$ when $\\kappa$ and $\\kappa^{\\prime}$ refer to the opposite layers, where $q$ is the transferred total momentum between a creation operator and an annihilation operator with the same index of operator, namely $q=k_1-k_4$.  \n",
      "The fourth part is the normalization factor, you should use $A$ here.\n",
      "Finally, the summation should be running over all index of operator $\\kappa, \\kappa^{\\prime}$, and momentum $q$\n",
      "Return the interaction term $V^{\\kappa \\kappa^{\\prime}}$ in terms of creation and annihilation operators and $V(q)$ (with $q$ expressed in terms of momentum).  \n",
      "\n",
      "Use the following conventions for the symbols (You should also obey the conventions in all my previous prompts if you encounter undefined symbols. If you find it is never defined or has conflicts in the conventions, you should stop and let me know):  \n",
      "$\\kappa, \\kappa^{\\prime}$ are the indices of operators, $q$ is the momentum, $V^{\\kappa \\kappa^{\\prime}}$ is the interaction Hamiltonian, $\\epsilon_r$ is the relative dielectric constant, $c=3.35 \\AA$ is the interlayer separation, $A$ is the total area of the graphene sheet, $r_0 = 3 \\widetilde{a}_0$ is the root mean square radius corresponding to the covalent radius of the carbon atom $a_0 = 0.77 \\AA$.\n",
      "\n",
      "# Wick's theorem\n",
      "You will be instructed to perform a Hartree-Fock approximation to expand the interaction term, $V^{HF}$.  \n",
      "You should use Wick's theorem to expand the four-fermion term in $V^{HF}$ into quadratic terms. You should strictly follow the EXAMPLE below to expand using Wick's theorem, select the correct EXAMPLE by noticing the order of four-term product with and without ${{}}^\\dagger$, and be extremely cautious about the order of the index and sign before each term.  \n",
      "You should only preserve the normal terms. Here, the normal terms mean the product of a creation operator and an annihilation operator.  \n",
      "Return the expanded interaction term after Hartree-Fock approximation as $V^{HF}$.\n",
      "\n",
      "Use the following conventions for the symbols (You should also obey the conventions in all my previous prompts if you encounter undefined symbols. If you find it is never defined or has conflicts in the conventions, you should stop and let me know):  \n",
      "$\\lambda$ is a composite label for sublattice $\\kappa$ and spin $\\sigma$. $N_{\\lambda}$ is the Hartree term and $W^{X}_{{\\bf k} \\lambda \\lambda'}$ is the Fock (exchange) term. ${\\bf G}$ is a reciprocal lattice vector.\n",
      "\n",
      "# Extract quadratic term\n",
      "You will be instructed to extract the quadratic terms in the Hamiltonian, denoted as V^{HF}.  \n",
      "The quadratic terms mean terms that are proportional to c_{{\\bf k} \\lambda}^{\\dag} c_{{\\bf k} \\lambda}, which excludes terms that are solely expectations or products of expectations.  \n",
      "You should only preserve the quadratic terms in V^{HF}, denoted as V^{HF}_{quadratic}.  \n",
      "Return V^{HF}_{quadratic}.  \n",
      "\n",
      "Use the following conventions for the symbols (You should also obey the conventions in all my previous prompts if you encounter undefined symbols. If you find it is never defined or has conflicts in the conventions, you should stop and let me know):  \n",
      "$\\lambda$ is a composite label for sublattice $\\kappa$ and spin $\\sigma$.  \n",
      "N_{\\lambda} is the expectation value of the number operator.  \n",
      "U_H^{\\lambda \\lambda'} is the Hartree term.  \n",
      "W^{X}_{{\\bf k} \\lambda \\lambda'} is the Fock (exchange) term.  \n",
      "U_X^{\\kappa \\kappa'} is the exchange interaction.  \n",
      "${\\bf G}$ is a reciprocal lattice vector.\n",
      "\n",
      "# Expand interaction\n",
      "You will be instructed to expand interaction term $V^{HF}$ in the MF quadratic term $V^{HF} = \\sum_{{\\bf k} \\lambda \\lambda'} U_H^{\\lambda \\lambda'} N_{\\lambda'} c_{{\\bf k} \\lambda}^{\\dag} c_{{\\bf k} \\lambda} \n",
      "-W^{X}_{{\\bf k} {\\lambda' \\lambda}}  c_{{\\bf k} \\lambda}^{\\dag} c_{{\\bf k} \\lambda'}$.\n",
      "If you find the $V^{HF}$ in $V^{HF} = \\sum_{{\\bf k} \\lambda \\lambda'} U_H^{\\lambda \\lambda'} N_{\\lambda'} c_{{\\bf k} \\lambda}^{\\dag} c_{{\\bf k} \\lambda} \n",
      "-W^{X}_{{\\bf k} {\\lambda' \\lambda}}  c_{{\\bf k} \\lambda}^{\\dag} c_{{\\bf k} \\lambda'}$ does not contain any momentum that is not in the summation sign. The interaction term is already expanded. No action to perform on interaction term.\n",
      "Otherwise, you will expand $V^{HF}$ by replacing $q$ with the momentum ${\\bf k}$.\n",
      "Return $V^{HF} = \\sum_{{\\bf k} \\lambda \\lambda'} U_H^{\\lambda \\lambda'} N_{\\lambda'} c_{{\\bf k} \\lambda}^{\\dag} c_{{\\bf k} \\lambda} \n",
      "-W^{X}_{{\\bf k} {\\lambda' \\lambda}}  c_{{\\bf k} \\lambda}^{\\dag} c_{{\\bf k} \\lambda'}$ with expanded interaction.\n",
      "\n",
      "# Swap the index to combine Hartree and Fock terms\n",
      "You will be instructed to simplify the quadratic term $V^{HF}$ through relabeling the index to combine the two Hartree/Fock term into one Hartree/Fock term.  \n",
      "The logic is that the expected value ($N_{\\lambda}$ in the first Hartree term and $\\left<c_{{\\bf k}' \\lambda'}^{\\dag} c_{{\\bf k}' \\lambda} \\right>$ in the second Fock term) in the first Hartree term ($U_H^{\\lambda \\lambda'} N_{\\lambda'} c_{{\\bf k} \\lambda}^{\\dag} c_{{\\bf k} \\lambda}$) has the same form as the quadratic operators in the second Hartree term ($W^{X}_{{\\bf k} {\\lambda' \\lambda}}  c_{{\\bf k} \\lambda}^{\\dag} c_{{\\bf k} \\lambda'}$), and vice versa. The same applies to the Fock term.  \n",
      "This means, if you relabel the index by swapping the index in the \"expected value\" and \"quadratic operators\" in the second Hartree term, you can make the second Hartree term look identical to the first Hartree term, as long as $V(q)=V(-q)$, which is naturally satisfied in Coulomb interaction. You should follow the EXAMPLE below to simplify it through relabeling the index.  \n",
      "You should perform this trick of \"relabeling the index\" for both two Hartree terms and two Fock terms to reduce them to one Hartree term, and one Fock term.  \n",
      "Return the simplified $V^{HF}$ which reduces from four terms (two Hartree and two Fock terms) to only two terms (one Hartree and one Fock term).\n",
      "\n",
      "# Reduce momentum in Hartree term (momentum in BZ + reciprocal lattice)\n",
      "You will be instructed to simplify the Hartree term in $V^{HF}$ by reducing the momentum inside the expected value $N_{\\lambda}$.  \n",
      "The expected value $N_{\\lambda}$ is only nonzero when the two momenta $k_i,k_j$ are the same, namely, $N_{\\lambda} =\\sum_{{\\bf k}'} \\left< c^{\\dag}_{{\\bf k}' \\lambda} c_{{\\bf k}' \\lambda} \\right>  = \\sum_{{\\bf k}'} n_{{\\bf k}' \\lambda}$.  \n",
      "You should use the property of Kronecker delta function $\\delta_{{k_i,k_j}}$ to reduce one momentum $k_i$ but not $b_i$.\n",
      "Once you reduce one momentum inside the expected value $\\langle\\dots\\rangle$. You will also notice the total momentum conservation will reduce another momentum in the quadratic term. Therefore, you should end up with only two momenta left in the summation.  \n",
      "You should follow the EXAMPLE below to reduce one momentum in the Hartree term, and another momentum in the quadratic term.  \n",
      "Return the final simplified Hartree term $V^{HF}$.\n",
      "\n",
      "# Reduce momentum in Fock term (momentum in BZ + reciprocal lattice)\n",
      "You will be instructed to simplify the Fock term in $V^{HF}$ by reducing the momentum inside the expected value $\\left< c^{\\dag}_{{\\bf k}' \\lambda} c_{{\\bf k}' \\lambda} \\right>$.  \n",
      "The expected value $\\left< c^{\\dag}_{{\\bf k}' \\lambda} c_{{\\bf k}' \\lambda} \\right>$ is only nonzero when the two momenta $k_i,k_j$ are the same, namely, $\\left< c^{\\dag}_{{\\bf k}' \\lambda} c_{{\\bf k}' \\lambda} \\right> = \\sum_{{\\bf k}'} n_{{\\bf k}' \\lambda}$.  \n",
      "You should use the property of Kronecker delta function $\\delta_{{k_i,k_j}}$ to reduce one momentum $k_i$ but not $b_i$.  \n",
      "Once you reduce one momentum inside the expected value $\\langle\\dots\\rangle$. You will also notice the total momentum conservation will reduce another momentum in the quadratic term. Therefore, you should end up with only two momenta left in the summation.\n",
      "You should follow the EXAMPLE below to reduce one momentum in the Fock term, and another momentum in the quadratic term.    \n",
      "Return the final simplified Fock term $V^{HF}$.\n",
      "\n",
      "# Combine the Hartree and Fock term\n",
      "You will now be instructed to combine the Hartree term U_H^{\\lambda \\lambda'} and the Fock term W^{X}_{{\\bf k} {\\lambda' \\lambda}}.  \n",
      "You should perform the same trick of relabeling the index in the Fock term to make the quadratic operators in the Fock term the same as those in the Hartree term. The relabeling should be done with a swap : {swap rule}.\n",
      "You should add them, relabel the index in Fock term, and simply their sum. \n",
      "Return the final sum of Hartree and Fock term.\n",
      "\n",
      "# Construct full Hamiltonian after HF\n",
      "You will be instructed to construct the entire Hamiltonian after the Hartree-Fock approximation V^{HF}. \n",
      "You should first recall the Kinetic Hamiltonian {kinetic_symbol} is {expression_kinetic}.  \n",
      "You should then recall the interacting Hamiltonian {int_symbol} is \\sum_{{\\bf k} \\lambda \\lambda'} U_H^{\\lambda \\lambda'} N_{\\lambda'} c_{{\\bf k} \\lambda}^{\\dag} c_{{\\bf k} \\lambda} \n",
      "-W^{X}_{{\\bf k} {\\lambda' \\lambda}}  c_{{\\bf k} \\lambda}^{\\dag} c_{{\\bf k} \\lambda'}.  \n",
      "You should then combine {kinetic_symbol} with the interacting Hamiltonian {int_symbol} after the Hartree-Fock approximation, which is the entire Hamiltonian V^{HF} after Hartree-Fock.  \n",
      "Return the expression for V^{HF}.  \n",
      "\n",
      "Use the following conventions for the symbols (You should also obey the conventions in all my previous prompts if you encounter undefined symbols. If you find it is never defined or has conflicts in the conventions, you should stop and let me know):  \n",
      "$\\lambda$ is a composite label for sublattice $\\kappa$ and spin $\\sigma$. ${\\bf G}$ is a reciprocal lattice vector.\n",
      "\n",
      "\n"
     ]
     "data": {
      "text/plain": [
       "'1010.1819'"
      ]
     },
     "execution_count": 23,
     "metadata": {},
     "output_type": "execute_result"
    }
   ],
   "source": []
  },
  {
   "cell_type": "code",
   "execution_count": 32,
   "metadata": {},
   "outputs": [],
   "source": [
    "with open('../Naming.yaml','r') as f:\n",
    "    naming=yaml.safe_load(f)"
   ]
  },
  {
   "cell_type": "code",
   "execution_count": 57,
   "metadata": {},
   "outputs": [],
   "source": [
    "with open(os.getcwd().split('/')[-1]+'_extractor.md','r') as f:\n",
    "    completions=[]\n",
    "    new_name=''\n",
    "    for line in f:\n",
    "        if line.startswith('#'):\n",
    "            if new_name!='':\n",
    "                completions.append((new_name,contents))\n",
    "            task_name=line.replace('#','').strip()\n",
    "            new_name=task_name\n",
    "            contents=''\n",
    "        else:\n",
    "            contents+=line\n",
    "    completions.append((new_name,contents))        \n",
    "            "
   ]
  },
  {
   "cell_type": "code",
   "execution_count": 58,
   "metadata": {},
   "outputs": [],
   "source": [
    "string=''\n",
    "for kwargs,(name,completion) in zip(kwargs_yaml[1:],completions):\n",
    "    assert name==kwargs['task'], f\"name {name} and task {kwargs['task']} do not match\"\n",
    "    string+='# '+naming[name]+'\\n'\n",
    "    response=(extractor(kwargs, message=True))\n",
    "    string+='**Prompt**  \\n'+response+'\\n\\n'\n",
    "    string+='**Completion**  \\n'+completion+'\\n\\n'\n",
    "    "
   ]
  },
  {
   "cell_type": "code",
   "execution_count": 59,
   "metadata": {},
   "outputs": [],
   "source": [
    "with open(os.getcwd().split('/')[-1]+'_extractor_example.md','w') as f:\n",
    "    f.write(string)"
   ]
  },
  {
   "cell_type": "code",
   "execution_count": null,
   "metadata": {},
   "outputs": [],
   "source": []
  }
 ],
 "metadata": {
  "kernelspec": {
   "display_name": "base",
   "language": "python",
   "name": "python3"
  },
  "language_info": {
   "codemirror_mode": {
    "name": "ipython",
    "version": 3
   },
   "file_extension": ".py",
   "mimetype": "text/x-python",
   "name": "python",
   "nbconvert_exporter": "python",
   "pygments_lexer": "ipython3",
   "version": "3.11.4"
  },
  "orig_nbformat": 4
 },
 "nbformat": 4,
 "nbformat_minor": 2
}
