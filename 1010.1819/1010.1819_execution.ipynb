{
 "cells": [
  {
   "cell_type": "code",
   "execution_count": 29,
   "metadata": {},
   "outputs": [],
   "source": [
    "from IPython.display import Markdown\n",
    "\n",
    "import sys\n",
    "sys.path.append('..')\n",
    "from utils import *"
   ]
  },
  {
   "cell_type": "code",
   "execution_count": 168,
   "metadata": {},
   "outputs": [],
   "source": [
    "prompt_template='../prompt_template.md'\n",
    "arxiv_number='1010.1819'\n",
    "prompt_dict=load_prompt_template(prompt_template)\n",
    "with open(f'{arxiv_number}.yaml','r') as f:\n",
    "    kwargs= yaml.safe_load(f)"
   ]
  },
  {
   "cell_type": "code",
   "execution_count": 169,
   "metadata": {},
   "outputs": [],
   "source": [
    "prompt=generate_prompt(kwargs[12],prompt_dict)"
   ]
  },
  {
   "cell_type": "code",
   "execution_count": 170,
   "metadata": {},
   "outputs": [
    {
     "data": {
      "text/markdown": [
       "You will now be instructed to combine the Hartree term $V^{Hartree}_{quadratic}$ and the Fock term $V^{Fock}_{quadratic}$.  \n",
       "You should recall that the Hartree term $V^{Hartree}_{quadratic} = \\frac{1}{A} \\sum_{\\lambda, \\lambda^{\\prime}, k_1, k_2}  \\langle c_{k_1,\\lambda}^\\dagger c_{k_1,\\lambda} \\rangle c_{k_2,\\lambda^{\\prime}}^\\dagger c_{k_2,\\lambda^{\\prime}}  \\times V(0)$,  \n",
       "and the Fock term $V^{Fock}_{quadratic} = -\\frac{1}{A} \\sum_{\\lambda, \\lambda^{\\prime}, k_1, k_2}  \\langle c_{k_1,\\lambda}^\\dagger c_{k_1,\\lambda^{\\prime}} \\rangle c_{k_2,\\lambda^{\\prime}}^\\dagger c_{k_2,\\lambda}  \\times V(k_1-k_2)$.  \n",
       "You should perform the same trick of relabeling the index in the Fock term to make the quadratic operators in the Fock term the same as those in the Hartree term. The relabeling should be done with a swap : Not needed.\n",
       "You should add them, relabel the index in Fock term, and simply their sum. \n",
       "Return the final sum of Hartree and Fock term."
      ],
      "text/plain": [
       "<IPython.core.display.Markdown object>"
      ]
     },
     "execution_count": 170,
     "metadata": {},
     "output_type": "execute_result"
    }
   ],
   "source": [
    "Markdown(prompt['content'])"
   ]
  },
  {
   "cell_type": "code",
   "execution_count": 54,
   "metadata": {},
   "outputs": [
    {
     "name": "stdout",
     "output_type": "stream",
     "text": [
      "You will be instructed to expand the second-quantized form Hamiltonian $\\hat{H}_0$ using {gamma_i} \n",
      " and {\\psi_{{\\bf k}\\kappa}}\n",
      ". You should follow the EXAMPLE below to expand the Hamiltonian.  \n",
      "You should use any previous knowledge to simplify it. For example, if any term of {gamma_i} \n",
      " is zero, you should remove it from the summation.\n",
      "You should recall that $\\hat{H}_0$ is $\\hat{H}_0 = \\sum_{k} \\vec{\\psi}_k^\\dagger H_k \\vec{\\psi}_k$, where $\\vec{\\psi}=\\begin{pmatrix} \\psi_A \\\\ \\psi_B \\\\ \\psi_{\\widetilde{A}} \\\\ \\psi_{\\widetilde{B}} \\end{pmatrix}$ and $\\vec{\\psi}^\\dagger=\\begin{pmatrix} \\psi_A^\\dagger & \\psi_B^\\dagger & \\psi_{\\widetilde{A}}^\\dagger & \\psi_{\\widetilde{B}}^\\dagger \\end{pmatrix}$.  \n",
      "Return the expanded form of $\\hat{H}_0$ after simplification.  \n",
      "\n",
      "Use the following conventions for the symbols (You should also obey the conventions in all my previous prompts if you encounter undefined symbols. If you find it is never defined or has conflicts in the conventions, you should stop and let me know):  \n",
      "{H}_0 is the four band tight-binding model Hamiltonian of a graphene bilayer, {\\psi_{{\\bf k}\\kappa}} is the model's Bloch basis states, and {gamma_i} are the tight-binding model parameters.\n",
      "\n",
      "\n",
      "===  \n",
      "EXAMPLE:  \n",
      "For a $\\hat{H}=\\vec{\\psi}^\\dagger H \\vec{\\psi}$, where $\\vec{\\psi}=\\begin{pmatrix} \\psi_a \\\\ \\psi_b \\end{pmatrix}$ and $\\vec{\\psi}^\\dagger=\\begin{pmatrix} \\psi_a^\\dagger & \\psi_b^\\dagger \\end{pmatrix}$, we can expand it as  $\\hat{H}=\\sum_{i,j=\\{a,b\\}} \\psi_i^\\dagger H_{i,j} \\psi_j$.\n"
     ]
    }
   ],
   "source": [
    "print(prompt['content'])"
   ]
  },
  {
   "cell_type": "code",
   "execution_count": null,
   "metadata": {},
   "outputs": [],
   "source": []
  }
 ],
 "metadata": {
  "kernelspec": {
   "display_name": "base",
   "language": "python",
   "name": "python3"
  },
  "language_info": {
   "codemirror_mode": {
    "name": "ipython",
    "version": 3
   },
   "file_extension": ".py",
   "mimetype": "text/x-python",
   "name": "python",
   "nbconvert_exporter": "python",
   "pygments_lexer": "ipython3",
   "version": "3.11.4"
  }
 },
 "nbformat": 4,
 "nbformat_minor": 2
}
