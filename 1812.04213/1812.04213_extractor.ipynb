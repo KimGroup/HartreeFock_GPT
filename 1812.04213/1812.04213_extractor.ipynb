{
 "cells": [
  {
   "cell_type": "code",
   "execution_count": 1,
   "metadata": {},
   "outputs": [],
   "source": [
    "import openai\n",
    "import pandas as pd\n",
    "import json\n",
    "from IPython.display import Markdown\n",
    "import sys\n",
    "from tqdm import tqdm"
   ]
  },
  {
   "cell_type": "code",
   "execution_count": 2,
   "metadata": {},
   "outputs": [],
   "source": [
    "zz=openai.Model.list()"
   ]
  },
  {
   "cell_type": "code",
   "execution_count": 3,
   "metadata": {},
   "outputs": [
    {
     "data": {
      "text/plain": [
       "62"
      ]
     },
     "execution_count": 3,
     "metadata": {},
     "output_type": "execute_result"
    }
   ],
   "source": [
    "len(zz['data'])"
   ]
  },
  {
   "cell_type": "code",
   "execution_count": 4,
   "metadata": {},
   "outputs": [],
   "source": [
    "model_params = {\n",
    "    'model': \"gpt-4\",\n",
    "    'temperature': 0,\n",
    "}"
   ]
  },
  {
   "cell_type": "code",
   "execution_count": 5,
   "metadata": {},
   "outputs": [],
   "source": [
    "def print_save(string, file='../cmp2.md'):\n",
    "    print(string)\n",
    "    with open(file,'w') as f:\n",
    "        f.write(string)"
   ]
  },
  {
   "cell_type": "markdown",
   "metadata": {},
   "source": [
    "## Load prompt_template.md"
   ]
  },
  {
   "cell_type": "code",
   "execution_count": 6,
   "metadata": {},
   "outputs": [],
   "source": [
    "sys.path.append('..')\n",
    "from utils import *\n",
    "from functools import partial"
   ]
  },
  {
   "cell_type": "code",
   "execution_count": 7,
   "metadata": {},
   "outputs": [],
   "source": [
    "prompt_dict = partial(load_prompt_template,file='../prompt_template.md')"
   ]
  },
  {
   "cell_type": "code",
   "execution_count": 8,
   "metadata": {},
   "outputs": [
    {
     "data": {
      "text/plain": [
       "dict_keys(['Preamble', 'Problem-solver', 'Conversation summarizer', 'Construct Kinetic Hamiltonian (continuum version, single-particle)', 'Construct Kinetic Hamiltonian (continuum version, second-quantized)', 'Construct Kinetic Hamiltonian (lattice version)', 'Define each term in Kinetic Hamiltonian (continuum version)', 'Construct Potential Hamiltonian (continuum version)', 'Define each term in Potential Hamiltonian (continuum version)', 'Construct interaction Hamiltonian (real space, lattice version)', 'Construct interaction Hamiltonian (momentum space)', 'Convert from single-particle to second-quantized form, return in matrix', 'Convert from single-particle to second-quantized form, return in summation (expand the matrix)', 'Convert noninteracting Hamiltonian in real space to momentum space (continuum version)', 'Convert noninteracting Hamiltonian in real space to momentum space (lattice version)', 'Convert interacting Hamiltonian in real space to momentum space (lattice version)', 'Particle-hole transformation', 'Simplify the Hamiltonian in the particle-hole basis', \"Wick's theorem\", 'Extract quadratic term', 'Hartree term only', 'Fock term only', 'Expand interaction', 'Swap the index only', 'Swap the index to combine Hartree and Fock terms', 'Reduce momentum in Hartree term (momentum in BZ + reciprocal lattice)', 'Reduce momentum in Hartree term (momentum in BZ)', 'Reduce momentum in Fock term (momentum in BZ + reciprocal lattice)', 'Combine the Hartree and Fock term', 'Construct full Hamiltonian after HF', 'Mathematical simplify: inner product expansion', \"Mathematical simplify: Euler's formula\", 'Mathematical simplify: prosthaphaeresis', 'Mathematical simplify: Expand the product using Associative property', 'Mathematical simplify: Combine using Associative property', 'Mathematical simplify: reduce index'])"
      ]
     },
     "execution_count": 8,
     "metadata": {},
     "output_type": "execute_result"
    }
   ],
   "source": [
    "prompt_dict().keys()"
   ]
  },
  {
   "cell_type": "markdown",
   "metadata": {},
   "source": [
    "# Prompt fill place holder"
   ]
  },
  {
   "cell_type": "code",
   "execution_count": 9,
   "metadata": {},
   "outputs": [],
   "source": [
    "import json"
   ]
  },
  {
   "cell_type": "code",
   "execution_count": 10,
   "metadata": {},
   "outputs": [],
   "source": [
    "with open('1812.04213.jsonl','r') as f:\n",
    "    kwargs_jsonl= [json.loads(line) for line in f]"
   ]
  },
  {
   "cell_type": "code",
   "execution_count": 11,
   "metadata": {},
   "outputs": [],
   "source": [
    "def load_excerpt(sources):\n",
    "    excerpt=''\n",
    "    for tex, lines in sources.items():\n",
    "        with open(tex,'r') as f:\n",
    "            f_list=list(f)\n",
    "            for line in lines:\n",
    "                excerpt=excerpt+''.join(f_list[line[0]:line[1]])\n",
    "    return excerpt"
   ]
  },
  {
   "cell_type": "code",
   "execution_count": 12,
   "metadata": {},
   "outputs": [],
   "source": [
    "prompt_system='''I will provide you a Excerpt of physics paper, and a Template. You will need to fill the placeholders in the template using the correct information from the excerpt.\n",
    "Here are conventions: \n",
    "{..} means a placeholder which you need to fill by extracting information from the excerpt.\n",
    "{A|B} means you need to make a choice between A and B\n",
    "[..] means optional sentence. You should decide whether to use it depending on the excerpt.\n",
    "{{..}} DOES NOT mean a placeholder. You should not change the content inside double curly braces {{..}}.\n",
    "`You should recall that {expression_second_nonint}.` : this sentence should be kept as is.\n",
    "\n",
    "\n",
    "Finally, if you cannot figure out the placeholder, you should leave it as is.'''"
   ]
  },
  {
   "cell_type": "code",
   "execution_count": 13,
   "metadata": {},
   "outputs": [],
   "source": [
    "def drop_text_after(string):\n",
    "    string_new=''\n",
    "    for line in string.split('\\n'):\n",
    "        if '===' in line:\n",
    "            break\n",
    "        else:\n",
    "            if 'You should recall that' not in line:\n",
    "                string_new='\\n'.join([string_new,line])\n",
    "    return string_new[1:]\n"
   ]
  },
  {
   "cell_type": "code",
   "execution_count": 14,
   "metadata": {},
   "outputs": [],
   "source": [
    "def extractor(descriptor,message=False):\n",
    "    sys_msg=[{'role': 'system', 'content': prompt_system}]\n",
    "    question_prompt='\\nTemplate:\\n {template} \\n\\n Excerpt:\\n {excerpt}'.format(template=drop_text_after(prompt_dict()[descriptor['task']]), excerpt=load_excerpt(descriptor['source']))\n",
    "    user_msg=[{'role':'user','content':question_prompt}]\n",
    "    messages = sys_msg + user_msg\n",
    "    if message:\n",
    "        return sys_msg[0]['content']+user_msg[0]['content']\n",
    "    rs= openai.ChatCompletion.create(messages=messages, **model_params)\n",
    "    response=rs['choices'][0]['message'].content\n",
    "    return response\n"
   ]
  },
  {
   "cell_type": "code",
   "execution_count": 15,
   "metadata": {},
   "outputs": [
    {
     "name": "stderr",
     "output_type": "stream",
     "text": [
      "100%|██████████| 11/11 [07:13<00:00, 39.41s/it]\n"
     ]
    }
   ],
   "source": [
    "string=''\n",
    "for kwargs in tqdm(kwargs_jsonl):\n",
    "    string+='# '+kwargs['task']+'\\n'\n",
    "    response=(extractor(kwargs))\n",
    "    string+=response+'\\n\\n'\n",
    "    \n",
    "    "
   ]
  },
  {
   "cell_type": "code",
   "execution_count": 16,
   "metadata": {},
   "outputs": [
    {
     "name": "stdout",
     "output_type": "stream",
     "text": [
      "# Construct Kinetic Hamiltonian (continuum version, single-particle)\n",
      "You will be instructed to describe the kinetic term of Hamiltonian in the flavorless case, i.e. the valley projected and spinless case in the real space in the single-particle form.   \n",
      "The degrees of freedom of the system are: spin and valley.  \n",
      "Express the Kinetic Hamiltonian $\\mathcal{\\hat{H}}^{\\rm{K}}_{0}$ using $\\psi_{\\alpha, \\bm{k}}(\\bm{r})$ which are only on the diagonal terms, and arrange the basis in the order of $A1, B1, A2, B2$. Note that the sublattice degrees of freedom is suppressed for now and will be stated later.\n",
      "\n",
      "Use the following conventions for the symbols:  \n",
      "$\\alpha=\\{A1, \\ B1,\\ A2,\\ B2\\}$ where $A(B)$ in the first index specifies sublattice and $1(2)$ in the second index specifies layer. $\\hat{h}_{\\pm \\theta/2}$ are the Dirac Hamiltonians for isolated rotated graphene layers. $\\theta_{\\bar{\\bm{k}}}$ is the orientation angle of momentum measured from the Dirac point $\\bar{\\bm{k}}=\\bm{k}-\\bm{K}_{\\theta}$. $\\bm{K}_{\\pm\\theta/2}$ is the Dirac momentum of top(bottom) layer. $\\bm{b}_{1,2}=(\\pm 1/2,\\sqrt{3}/2)4\\pi/(\\sqrt{3}a_M)$ are the basis vectors of moir\\'{e} reciprocal lattice, where $a_M=a/(2\\sin(\\theta/2))$ is the lattice constant of moire pattern and $a$ the lattice constant of monolayer graphene. $h_T(\\bm{r}) = \\sum_{j=0}^3 T_j e^{-i\\bm{q}_j\\cdot \\bm{r}}$ where $T_j = \\omega_0\\sigma_0 + \\omega_1\\cos(j\\phi)\\sigma_x + \\omega_1\\sin(j\\phi)\\sigma_y$.\n",
      "\n",
      "# Define each term in Kinetic Hamiltonian (continuum version)\n",
      "You will be instructed to construct each term, namely h_{\\theta}(\\bm{k}).  \n",
      "For all energy dispersions, h_{\\theta}(\\bm{k}), it characterizes the Dirac dispersion for electrons.   \n",
      "In addition, a shift of $\\bm{K}_{\\pm\\theta/2}$ in the momentum $\\bm{k}$ for $\\bar{\\bm{k}}=\\bm{k}-\\bm{K}_{\\theta}$, respectively.  \n",
      "You should follow the EXAMPLE below to obtain the correct energy dispersion, select the correct EXAMPLE by noticing the type of dispersion.  \n",
      "Finally, in the real space, the momentum $\\bm{k}=-i \\partial_{\\bm{r}}$. You should keep the form of $\\bm{k}$ in the Hamiltonian for short notations but should remember $\\bm{k}$ is an operator.  \n",
      "Return the expression for h_{\\theta}(\\bm{k}) in the Kinetic Hamiltonian, and substitute it into the Kinetic Hamiltonian $\\mathcal{\\hat{H}}^{\\rm{K}}_{0}$.  \n",
      "\n",
      "Use the following conventions for the symbols (You should also obey the conventions in all my previous prompts if you encounter undefined symbols. If you find it is never defined or has conflicts in the conventions, you should stop and let me know):  \n",
      "$\\alpha=\\{A1, \\ B1,\\ A2,\\ B2\\}$, where $A(B)$ in the first index specifies sublattice and $1(2)$ in the second index specifies layer. $\\theta_{\\bar{\\bm{k}}}$ is the orientation angle of momentum measured from the Dirac point $\\bar{\\bm{k}}=\\bm{k}-\\bm{K}_{\\theta}$.  ($\\bm{K}_{\\pm\\theta/2}$ is the Dirac momentum of top(bottom) layer.) $\\bm{b}_{1,2}=(\\pm 1/2,\\sqrt{3}/2)4\\pi/(\\sqrt{3}a_M)$ are the basis vectors of moir\\'{e} reciprocal lattice, where $a_M=a/(2\\sin(\\theta/2))$ is the lattice constant of moire pattern and $a$ the lattice constant of monolayer graphene.\n",
      "\n",
      "# Construct Potential Hamiltonian (continuum version)\n",
      "You will be instructed to describe the potential term of Hamiltonian $\\mathcal{\\hat{H}}^{\\rm{K}}_{0}$ in the real space in the single-particle form.  \n",
      "The potential Hamiltonian has the same degrees of freedom as the kinetic Hamiltonian. The diagonal terms are $h_{\\theta/2}(\\bm{k})$ and $h_{-\\theta/2}(\\bm{k}')$.  \n",
      "The off-diagonal terms are the coupling between $A1, \\ B1,\\ A2,\\ B2$, $h_{T}(\\bm{r})$ and $h^\\dagger_{T}(\\bm{r})$, which should be kept hermitian.  \n",
      "All other terms are zero.\n",
      "Express the potential Hamiltonian $\\mathcal{\\hat{H}}^{\\rm{K}}_{0}$ using $h_{\\theta/2}(\\bm{k})$, $h_{-\\theta/2}(\\bm{k}')$ and $h_{T}(\\bm{r})$, $h^\\dagger_{T}(\\bm{r})$.  \n",
      "\n",
      "Use the following conventions for the symbols (You should also obey the conventions in all my previous prompts if you encounter undefined symbols. If you find it is never defined or has conflicts in the conventions, you should stop and let me know):  \n",
      "$\\alpha=\\{A1, \\ B1,\\ A2,\\ B2\\}$, where $A(B)$ in the first index specifies sublattice and $1(2)$ in the second index specifies layer. $\\theta_{\\bar{\\bm{k}}}$ is the orientation angle of momentum measured from the Dirac point $\\bar{\\bm{k}}=\\bm{k}-\\bm{K}_{\\theta}$. $\\bm{b}_{1,2}=(\\pm 1/2,\\sqrt{3}/2)4\\pi/(\\sqrt{3}a_M)$ are the basis vectors of moir\\'{e} reciprocal lattice, where $a_M=a/(2\\sin(\\theta/2))$ is the lattice constant of moire pattern and $a$ the lattice constant of monolayer graphene. $T_j = \\omega_0\\sigma_0 + \\omega_1\\cos(j\\phi)\\sigma_x + \\omega_1\\sin(j\\phi)\\sigma_y$.\n",
      "\n",
      "# Define each term in Potential Hamiltonian (continuum version)\n",
      "You will be instructed to construct each term $\\mathcal{\\hat{H}}^{\\rm{K}}_{0}$, namely, $h_{\\theta/2}(\\bm{k})$, $h_{T}(\\bm{r})$, $h^\\dagger_{T}(\\bm{r})$, and $h_{-\\theta/2}(\\bm{k}')$.  \n",
      "The expression for diagonal terms are: $h_{\\theta/2}(\\bm{k})$ and $h_{-\\theta/2}(\\bm{k}')$.  \n",
      "The expression for off-diagonal terms are: $h_{T}(\\bm{r})$ and $h^\\dagger_{T}(\\bm{r})$.  \n",
      "Return the expressions for $h_{\\theta/2}(\\bm{k})$, $h_{T}(\\bm{r})$, $h^\\dagger_{T}(\\bm{r})$, and $h_{-\\theta/2}(\\bm{k}')$, and substitute it into the potential Hamiltonian $\\mathcal{\\hat{H}}^{\\rm{K}}_{0}$.  \n",
      "\n",
      "Use the following conventions for the symbols (You should also obey the conventions in all my previous prompts if you encounter undefined symbols. If you find it is never defined or has conflicts in the conventions, you should stop and let me know):  \n",
      "$h_{\\theta}(\\bm{k}) = -\\hbar v_D |\\bar{\\bm{k}}| \n",
      "\\begin{pmatrix}\n",
      "0 & e^{i (\\theta_{\\bar{\\bm{k}}}- \\theta)} \\\\\n",
      "e^{-i  (\\theta_{\\bar{\\bm{k}}}- \\theta)}  & 0\n",
      "\\end{pmatrix}$, where $\\theta_{\\bar{\\bm{k}}}$ is the orientation angle of momentum measured from the Dirac point \n",
      "$\\bar{\\bm{k}}=\\bm{k}-\\bm{K}_{\\theta}$.  \n",
      "$h_T(\\bm{r}) = \\sum_{j=0}^3 T_j e^{-i\\bm{q}_j\\cdot \\bm{r}}$, where $T_j = \\omega_0\\sigma_0 + \\omega_1\\cos(j\\phi)\\sigma_x + \\omega_1\\sin(j\\phi)\\sigma_y$.\n",
      "\n",
      "# Construct interaction Hamiltonian (momentum space)\n",
      "You will be instructed to construct the interaction part of the Hamiltonian {second_int_symbol} in the momentum space.  \n",
      "The interaction Hamiltonian is a product of four parts.\n",
      "The first part is the product of four operators with two creation and two annihilation operators following the normal order, namely, creation operators are before annihilation operators. You should follow the order of $1,2,2,1$ for the {index_of_operator}, and $1,2,3,4$ for the {momentum}. \n",
      "The second part is the constraint of total momentum conservation, namely the total momentum of all creation operators should be the same as that of all annihilation operators. [For each operator, the total momentum is the sum of moire reciprocal lattice $b_i$ and momentum with in the first BZ $k_i$]  \n",
      "The third part is the interaction form. You should use {interaction} with $V(q)={int_form}$, where $q$ is the transferred total momentum between a creation operator and an annihilation operator with the same {index_of_operator}, namely $q=k_1-k_4$.  \n",
      "The fourth part is the normalization factor, you should use {normalization_factor} here.\n",
      "Finally, the summation should be running over all {index_of_operator}, and {momentum}\n",
      "Return the interaction term {second_int_symbol} in terms of {op} and $V(q)$ (with $q$ expressed in terms of {momentum}).  \n",
      "\n",
      "Use the following conventions for the symbols (You should also obey the conventions in all my previous prompts if you encounter undefined symbols. If you find it is never defined or has conflicts in the conventions, you should stop and let me know):  \n",
      "{definition_of_variables}\n",
      "\n",
      "The excerpt provided does not contain any information that can be used to fill the placeholders in the template.\n",
      "\n",
      "# Wick's theorem\n",
      "You will be instructed to perform a Hartree-Fock approximation to expand the interaction term, $\\Sigma^{\\rm{H}} + \\Sigma^{\\rm{F}}$.  \n",
      "You should use Wick's theorem to expand the four-fermion term in $\\Sigma^{\\rm{H}} + \\Sigma^{\\rm{F}}$ into quadratic terms. You should strictly follow the EXAMPLE below to expand using Wick's theorem, select the correct EXAMPLE by noticing the order of four-term product with and without ${{}}^\\dagger$, and be extremely cautious about the order of the index and sign before each term.  \n",
      "You should only preserve the normal terms. Here, the normal terms mean the product of a creation operator and an annihilation operator.  \n",
      "Return the expanded interaction term after Hartree-Fock approximation as $\\mathcal{H}$.\n",
      "\n",
      "Use the following conventions for the symbols (You should also obey the conventions in all my previous prompts if you encounter undefined symbols. If you find it is never defined or has conflicts in the conventions, you should stop and let me know):  \n",
      "$\\omega_1\\equiv T_{AB}=110meV$ and $\\omega_0\\equiv T_{AA}=0.8\\omega_1$ are the magnitudes of interlayer tunneling. $\\bm{k}$ is restricted to the first moir\\'{e} Brillouin zone (mBZ) ($\\bm{k} \\in$ mBZ). The plane-wave expansion basis is $|\\psi_{\\alpha, \\bm{G},\\bm{k}}\\rangle$ where $\\bm{G}=m\\bm{b}_1+n\\bm{b}_2$ and $m,n$ are integers. The single-particle Hamiltonian $\\mathcal{\\hat{H}}^{\\rm{K}}_{0}$ has both terms that are diagonal in reciprocal lattice vector and terms that are off-diagonal in reciprocal lattice vector. The Hartree and Fock self-energies are $\\Sigma^{H}_{\\alpha, \\bm{G}; \\beta, \\bm{G}'}(\\bm{k})$ and $\\Sigma^{F}_{\\alpha, \\bm{G}; \\beta, \\bm{G}'}(\\bm{k})$ respectively. The density-matrix $\\rho$ is defined in a plane wave basis as $\\rho_{\\alpha,\\bm{G};\\beta,\\bm{G}'}(\\bm{k}) = \\sum_{n} \\; z^{n*}_{\\beta,\\bm{G}',\\bm{k}}z^n_{\\alpha,\\bm{G},\\bm{k}}$ where the summation is over filled bands. $z_{\\alpha, \\bm{G},\\bm{k}}^n$ is a numerical eigenvector in the plane-wave expansion.\n",
      "\n",
      "# Extract quadratic term\n",
      "You will be instructed to extract the quadratic terms in the Hartree-Fock method.  \n",
      "The quadratic terms mean terms that are proportional to $\\rho_{\\alpha,\\bm{G};\\beta,\\bm{G}'}(\\bm{k}) = \\sum_{n} \\; z^{n*}_{\\beta,\\bm{G}',\\bm{k}}z^n_{\\alpha,\\bm{G},\\bm{k}}$, which excludes terms that are solely expectations or products of expectations.  \n",
      "You should only preserve the quadratic terms in Hartree-Fock method, denoted as $\\mathcal{H} = \\mathcal{H}^{\\rm{K}}_0 +  \\Sigma^{\\rm{H}} + \\Sigma^{\\rm{F}}$.  \n",
      "Return $\\mathcal{H} = \\mathcal{H}^{\\rm{K}}_0 +  \\Sigma^{\\rm{H}} + \\Sigma^{\\rm{F}}$.  \n",
      "\n",
      "Use the following conventions for the symbols (You should also obey the conventions in all my previous prompts if you encounter undefined symbols. If you find it is never defined or has conflicts in the conventions, you should stop and let me know):  \n",
      "$\\mathcal{H}^{\\rm{K}}_0$ is the single-particle Hamiltonian, $\\Sigma^{\\rm{H}}$ and $\\Sigma^{\\rm{F}}$ are the Hartree and Fock self-energies respectively, $\\rho_{\\alpha,\\bm{G};\\beta,\\bm{G}'}(\\bm{k})$ is the density-matrix defined in a plane wave basis, and $z_{\\alpha, \\bm{G},\\bm{k}}^n$ is a numerical eigenvector in the plane-wave expansion.\n",
      "\n",
      "# Expand interaction\n",
      "You will be instructed to expand interaction term $V(q)$ in the MF quadratic term $\\Sigma^{H}_{\\alpha, \\bm{G}; \\beta, \\bm{G}'}(\\bm{k})$ and $\\Sigma^{F}_{\\alpha, \\bm{G}; \\beta, \\bm{G}'}(\\bm{k})$.\n",
      "If you find the $V(q)$ in $\\Sigma^{H}_{\\alpha, \\bm{G}; \\beta, \\bm{G}'}(\\bm{k})$ and $\\Sigma^{F}_{\\alpha, \\bm{G}; \\beta, \\bm{G}'}(\\bm{k})$ does not contain any momentum that is not in the summation sign. The interaction term is already expanded. No action to perform on interaction term.\n",
      "Otherwise, you will expand $V(q)$ by replacing $q$ with the momentum $\\bm{k}$.\n",
      "Return $\\Sigma^{H}_{\\alpha, \\bm{G}; \\beta, \\bm{G}'}(\\bm{k})$ and $\\Sigma^{F}_{\\alpha, \\bm{G}; \\beta, \\bm{G}'}(\\bm{k})$ with expanded interaction.\n",
      "\n",
      "# Swap the index to combine Hartree and Fock terms\n",
      "You will be instructed to simplify the quadratic term $\\mathcal{H} = \\mathcal{H}^{\\rm{K}}_0 +  \\Sigma^{\\rm{H}} + \\Sigma^{\\rm{F}}$ through relabeling the index to combine the two Hartree/Fock term into one Hartree/Fock term.  \n",
      "The logic is that the expected value ($\\delta \\rho_{\\alpha\\beta}(\\bm{G})\\equiv\\sum_{\\bm{k},\\bm{G}_1}\\delta \\rho_{\\alpha,\\bm{G}_1+\\bm{G}; \\beta, \\bm{G}_1}(\\bm{k})$) in the first Hartree term ($\\Sigma^{H}_{\\alpha, \\bm{G}; \\beta, \\bm{G}'}(\\bm{k}) \n",
      "= \\frac{1}{A} \\sum_{\\alpha'}\n",
      "V_{\\alpha'\\alpha}(\\bm{G}'-\\bm{G}) \n",
      "\\delta \\rho_{\\alpha'\\alpha'}(\\bm{G}-\\bm{G}')  \\delta_{\\alpha\\beta}$) has the same form as the quadratic operators in the second Hartree term, and vice versa. The same applies to the Fock term.  \n",
      "This means, if you relabel the index by swapping the index in the \"expected value\" and \"quadratic operators\" in the second Hartree term, you can make the second Hartree term look identical to the first Hartree term, as long as $V(q)=V(-q)$, which is naturally satisfied in Coulomb interaction. You should follow the EXAMPLE below to simplify it through relabeling the index.  \n",
      "You should perform this trick of \"relabeling the index\" for both two Hartree terms and two Fock terms to reduce them to one Hartree term, and one Fock term.  \n",
      "Return the simplified $\\mathcal{H} = \\mathcal{H}^{\\rm{K}}_0 +  \\Sigma^{\\rm{H}} + \\Sigma^{\\rm{F}}$ which reduces from four terms (two Hartree and two Fock terms) to only two terms (one Hartree and one Fock term).\n",
      "\n",
      "# Reduce momentum in Hartree term (momentum in BZ + reciprocal lattice)\n",
      "You will be instructed to simplify the Hartree term in $\\Sigma^{H}_{\\alpha, \\bm{G}; \\beta, \\bm{G}'}(\\bm{k})$ by reducing the momentum inside the expected value $\\delta \\rho_{\\alpha'\\alpha'}(\\bm{G}-\\bm{G}')$.  \n",
      "The expected value $\\delta \\rho_{\\alpha'\\alpha'}(\\bm{G}-\\bm{G}')$ is only nonzero when the two momenta $\\bm{G},\\bm{G}'$ are the same, namely, $\\delta_{\\bm{G}\\bm{G}'}$.  \n",
      "You should use the property of Kronecker delta function $\\delta_{\\bm{G}\\bm{G}'}$ to reduce one momentum $\\bm{G}$ but not $\\bm{b}_i$.\n",
      "Once you reduce one momentum inside the expected value $\\langle\\dots\\rangle$. You will also notice the total momentum conservation will reduce another momentum in the quadratic term. Therefore, you should end up with only two momenta left in the summation.  \n",
      "You should follow the EXAMPLE below to reduce one momentum in the Hartree term, and another momentum in the quadratic term.  \n",
      "Return the final simplified Hartree term $\\Sigma^{H}_{\\alpha, \\bm{G}; \\beta, \\bm{G}'}(\\bm{k})$.\n",
      "\n",
      "# Reduce momentum in Fock term (momentum in BZ + reciprocal lattice)\n",
      "You will be instructed to simplify the Fock term in $\\Sigma^{F}_{\\alpha, \\bm{G}; \\beta, \\bm{G}'}(\\bm{k})$ by reducing the momentum inside the expected value $\\rho_{\\alpha,\\bm{G};\\beta,\\bm{G}'}(\\bm{k})$.  \n",
      "The expected value $\\rho_{\\alpha,\\bm{G};\\beta,\\bm{G}'}(\\bm{k})$ is only nonzero when the two momenta $\\bm{G},\\bm{G}'$ are the same, namely, $\\rho_{\\alpha,\\bm{G};\\beta,\\bm{G}}(\\bm{k})$.  \n",
      "You should use the property of Kronecker delta function $\\delta_{{\\bm{G},\\bm{G}'}}$ to reduce one momentum $\\bm{G}$ but not $\\bm{b}_i$.  \n",
      "Once you reduce one momentum inside the expected value $\\langle\\dots\\rangle$. You will also notice the total momentum conservation will reduce another momentum in the quadratic term. Therefore, you should end up with only two momenta left in the summation.\n",
      "You should follow the EXAMPLE below to reduce one momentum in the Fock term, and another momentum in the quadratic term.    \n",
      "Return the final simplified Fock term $\\Sigma^{F}_{\\alpha, \\bm{G}; \\beta, \\bm{G}}(\\bm{k})$.\n",
      "\n",
      "\n"
     ]
    }
   ],
   "source": [
    "print(string)"
   ]
  },
  {
   "cell_type": "code",
   "execution_count": 17,
   "metadata": {},
   "outputs": [],
   "source": [
    "pwd=os.getcwd()"
   ]
  },
  {
   "cell_type": "code",
   "execution_count": 18,
   "metadata": {},
   "outputs": [],
   "source": [
    "with open(pwd.split('/')[-1]+'_extractor.md','w') as f:\n",
    "    f.write(string)"
   ]
  },
  {
   "cell_type": "code",
   "execution_count": null,
   "metadata": {},
   "outputs": [],
   "source": []
  }
 ],
 "metadata": {
  "kernelspec": {
   "display_name": "base",
   "language": "python",
   "name": "python3"
  },
  "language_info": {
   "codemirror_mode": {
    "name": "ipython",
    "version": 3
   },
   "file_extension": ".py",
   "mimetype": "text/x-python",
   "name": "python",
   "nbconvert_exporter": "python",
   "pygments_lexer": "ipython3",
   "version": "3.8.11"
  },
  "orig_nbformat": 4
 },
 "nbformat": 4,
 "nbformat_minor": 2
}
