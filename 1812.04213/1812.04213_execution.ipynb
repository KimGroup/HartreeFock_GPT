{
 "cells": [
  {
   "cell_type": "code",
   "execution_count": 1,
   "metadata": {},
   "outputs": [],
   "source": [
    "from IPython.display import Markdown\n",
    "\n",
    "import sys\n",
    "sys.path.append('..')\n",
    "from utils import *"
   ]
  },
  {
   "cell_type": "code",
   "execution_count": 7,
   "metadata": {},
   "outputs": [],
   "source": [
    "prompt_template='../prompt_template.md'\n",
    "arxiv_number='1812.04213'\n",
    "prompt_dict=load_prompt_template(prompt_template)\n",
    "with open(f'{arxiv_number}.yaml','r') as f:\n",
    "    kwargs= yaml.safe_load(f)"
   ]
  },
  {
   "cell_type": "code",
   "execution_count": 8,
   "metadata": {},
   "outputs": [],
   "source": [
    "prompt=generate_prompt(kwargs[12],prompt_dict)"
   ]
  },
  {
   "cell_type": "code",
   "execution_count": 9,
   "metadata": {},
   "outputs": [
    {
     "data": {
      "text/markdown": [
       "You will now be instructed to combine the Hartree term $\\hat{H}^{int,Hartree,2}$ and the Fock term $\\hat{H}^{int,Fock,2}$.  \n",
       "You should recall that the Hartree term $\\hat{H}^{int,HF,2}= \\frac{1}{N V} \\sum_{\\substack{s_1,s_2\\\\ \\tau_1,\\tau_2 \\\\ l_1,l_2 \\\\ \\alpha_1, \\alpha_2}} \\sum_{\\substack{b_1,b_2 \\\\ b_3,b_4}} \\sum_{k_1,k_2} V(b_1-b_4) \\times \\delta_{b_1+b_2, b_3+b_4} \\langle c^\\dagger_{s_1,\\tau_1,l_1,\\alpha_1,b_1}(k_1) c_{s_1,\\tau_1,l_1,\\alpha_1,b_4}(k_1) \\rangle c^\\dagger_{s_2,\\tau_2,l_2,\\alpha_2,b_2}(k_2) c_{s_2,\\tau_2,l_2,\\alpha_2,b_3}(k_2)$,  \n",
       "and the Fock term $\\hat{H}^{int,Fock,2} = -\\frac{1}{N V} \\sum_{\\substack{s_1,s_2\\\\ \\tau_1,\\tau_2 \\\\ l_1,l_2 \\\\ \\alpha_1, \\alpha_2}} \\sum_{\\substack{b_1,b_2 \\\\ b_3,b_4}} \\sum_{k_1,k_2} V(k_1+b_1-k_2-b_4) \\times \\delta_{b_1+b_2, b_3+b_4} \\times \\langle c^\\dagger_{s_1,\\tau_1,l_1,\\alpha_1,b_1}(k_1) c_{s_2,\\tau_2,l_2,\\alpha_2,b_3}(k_1) \\rangle c^\\dagger_{s_2,\\tau_2,l_2,\\alpha_2,b_2}(k_2) c_{s_1,\\tau_1,l_1,\\alpha_1,b_4}(k_2)$..  \n",
       "You should perform the same trick of relabeling the index in the Fock term to make the quadratic operators in the Fock term the same as those in the Hartree term. The relabeling should be done with a swap : Not needed.\n",
       "You should add them, relabel the index in Fock term, and simply their sum. \n",
       "Return the final sum of Hartree and Fock term."
      ],
      "text/plain": [
       "<IPython.core.display.Markdown object>"
      ]
     },
     "execution_count": 9,
     "metadata": {},
     "output_type": "execute_result"
    }
   ],
   "source": [
    "Markdown(prompt['content'])"
   ]
  },
  {
   "cell_type": "code",
   "execution_count": 18,
   "metadata": {},
   "outputs": [
    {
     "name": "stdout",
     "output_type": "stream",
     "text": [
      "You will be instructed to construct each term, namely $h_{\\theta}(\\bm{k})$.  \n",
      "For all energy dispersions, $h_{\\theta}(\\bm{k})$, it characterizes the Dirac dispersion for electrons.   \n",
      "In addition, a shift of $K_{\\theta}$ in the momentum $\\bm{k}$ for $h_{s,\\tau,l}(k)$, respectively.  \n",
      "You should follow the EXAMPLE below to obtain the correct energy dispersion, select the correct EXAMPLE by noticing the type of dispersion.  \n",
      "Finally, in the real space, the momentum $\\bm{k}=-i \\partial_{$\\bm{r}$}$. You should keep the form of $\\bm{k}$ in the Hamiltonian for short notations but should remember $\\bm{k}$ is an operator.  \n",
      "You should recall that $$H_{Kinetic}(r) = \\begin{bmatrix}\n",
      "h_{\\uparrow,+K,t} & 0 & 0 & 0 & 0 & 0 & 0 & 0 \\\\\n",
      "0 & h_{\\uparrow,+K,b} & 0 & 0 & 0 & 0 & 0 & 0 \\\\\n",
      "0 & 0 & h_{\\uparrow,-K,t} & 0 & 0 & 0 & 0 & 0 \\\\\n",
      "0 & 0 & 0 & h_{\\uparrow,-K,b} & 0 & 0 & 0 & 0 \\\\\n",
      "0 & 0 & 0 & 0 & h_{\\downarrow,+K,t} & 0 & 0 & 0 \\\\\n",
      "0 & 0 & 0 & 0 & 0 & h_{\\downarrow,+K,b} & 0 & 0 \\\\\n",
      "0 & 0 & 0 & 0 & 0 & 0 & h_{\\downarrow,-K,t} & 0 \\\\\n",
      "0 & 0 & 0 & 0 & 0 & 0 & 0 & h_{\\downarrow,-K,b}\\end{bmatrix}$$\n",
      ".    \n",
      "Return the expression for $h_{\\theta}(\\bm{k})$ in the Kinetic Hamiltonian, and substitute it into the Kinetic Hamiltonian $\\mathcal{\\hat{H}}^{\\rm{K}}_{0}$.  \n",
      "\n",
      "Use the following conventions for the symbols (You should also obey the conventions in all my previous prompts if you encounter undefined symbols. If you find it is never defined or has conflicts in the conventions, you should stop and let me know):  \n",
      "$\\alpha=\\{A1, \\ B1,\\ A2,\\ B2\\}$, where $A(B)$ in the first index specifies sublattice and $1(2)$ in the second index specifies layer. $\\theta_{\\bar{\\bm{k}}}$ is the orientation angle of momentum measured from the Dirac point $\\bar{\\bm{k}}=\\bm{k}-\\bm{K}_{\\theta}$.  ($\\bm{K}_{\\pm\\theta/2}$ is the Dirac momentum of top(bottom) layer.) $\\bm{b}_{1,2}=(\\pm 1/2,\\sqrt{3}/2)4\\pi/(\\sqrt{3}a_M)$ are the basis vectors of moir\\'{e} reciprocal lattice, where $a_M=a/(2\\sin(\\theta/2))$ is the lattice constant of moire pattern and $a$ the lattice constant of monolayer graphene.\n",
      "\n",
      "===  \n",
      "EXAMPLE 1:  \n",
      "A parabolic dispersion for electron is $E_{\\alpha}=\\frac{\\hbar^2 k^2}{2m_{\\alpha}}$, where $\\alpha$ indicates the type of electron.  If there is a further shift of $q$ in the momentum $k$, the dispersion will become $E_{\\alpha}=\\frac{\\hbar^2 (k-q)^2}{2m_{\\alpha}}$.\n",
      "\n",
      "EXAMPLE 2:\n",
      "A parabolic dispersion for hole is $E_{\\alpha}=-\\frac{\\hbar^2 k^2}{2m_{\\alpha}}$, where $\\alpha$ indicates the type of hole.  If there is a further shift of $q$ in the momentum $k$, the dispersion will become $E_{\\alpha}=-\\frac{\\hbar^2 (k-q)^2}{2m_{\\alpha}}$.\n",
      "\n",
      "EXAMPLE 3:  \n",
      "A dirac dispersion for electron/hole is a 2 by 2 matrix, i.e., $h_{\\theta}(k)=-\\hbar v_D |k| \\begin{pmatrix}  0 & e^{i(\\theta_{k}-\\theta)}\\\\ e^{-i(\\theta_{\\bar{k}}-\\theta)} & 0 \\end{pmatrix}$, where $v_D$ is the Fermi velocity, $\\theta$ is the twist angle, and $\\theta_k$ indicates the azumith angle of $k$. If there is a further shift of $K_{\\theta}$ in the momentum $k$, the dispersion will become $h_{\\theta}(k)=-\\hbar v_D |k-K_{\\theta}| \\begin{pmatrix}  0 & e^{i(\\theta_{k-K_{\\theta}}-\\theta)}\\\\ e^{-i(\\theta_{k-K_{\\theta}}-\\theta)} & 0 \\end{pmatrix}$.\n"
     ]
    }
   ],
   "source": [
    "print(prompt['content'])"
   ]
  },
  {
   "cell_type": "code",
   "execution_count": null,
   "metadata": {},
   "outputs": [],
   "source": []
  }
 ],
 "metadata": {
  "kernelspec": {
   "display_name": "base",
   "language": "python",
   "name": "python3"
  },
  "language_info": {
   "codemirror_mode": {
    "name": "ipython",
    "version": 3
   },
   "file_extension": ".py",
   "mimetype": "text/x-python",
   "name": "python",
   "nbconvert_exporter": "python",
   "pygments_lexer": "ipython3",
   "version": "3.11.4"
  }
 },
 "nbformat": 4,
 "nbformat_minor": 2
}
