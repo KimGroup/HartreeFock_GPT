{
 "cells": [
  {
   "cell_type": "code",
   "execution_count": 16,
   "metadata": {},
   "outputs": [],
   "source": [
    "import openai\n",
    "import pandas as pd\n",
    "import json\n",
    "from IPython.display import Markdown\n",
    "import sys\n",
    "from tqdm import tqdm"
   ]
  },
  {
   "cell_type": "code",
   "execution_count": 2,
   "metadata": {},
   "outputs": [],
   "source": [
    "zz=openai.Model.list()"
   ]
  },
  {
   "cell_type": "code",
   "execution_count": 3,
   "metadata": {},
   "outputs": [
    {
     "data": {
      "text/plain": [
       "62"
      ]
     },
     "execution_count": 3,
     "metadata": {},
     "output_type": "execute_result"
    }
   ],
   "source": [
    "len(zz['data'])"
   ]
  },
  {
   "cell_type": "code",
   "execution_count": 4,
   "metadata": {},
   "outputs": [],
   "source": [
    "model_params = {\n",
    "    'model': \"gpt-4\",\n",
    "    'temperature': 0,\n",
    "}"
   ]
  },
  {
   "cell_type": "code",
   "execution_count": 5,
   "metadata": {},
   "outputs": [],
   "source": [
    "def print_save(string, file='../cmp2.md'):\n",
    "    print(string)\n",
    "    with open(file,'w') as f:\n",
    "        f.write(string)"
   ]
  },
  {
   "cell_type": "markdown",
   "metadata": {},
   "source": [
    "## Load prompt_template.md"
   ]
  },
  {
   "cell_type": "code",
   "execution_count": 6,
   "metadata": {},
   "outputs": [],
   "source": [
    "sys.path.append('..')\n",
    "from utils import *\n",
    "from functools import partial"
   ]
  },
  {
   "cell_type": "code",
   "execution_count": 7,
   "metadata": {},
   "outputs": [],
   "source": [
    "prompt_dict = partial(load_prompt_template,file='../prompt_template.md')"
   ]
  },
  {
   "cell_type": "code",
   "execution_count": 8,
   "metadata": {},
   "outputs": [
    {
     "data": {
      "text/plain": [
       "dict_keys(['Preamble', 'Problem-solver', 'Conversation summarizer', 'Construct Kinetic Hamiltonian (continuum version, single-particle)', 'Construct Kinetic Hamiltonian (continuum version, second-quantized)', 'Construct Kinetic Hamiltonian (lattice version)', 'Define each term in Kinetic Hamiltonian (continuum version)', 'Construct Potential Hamiltonian (continuum version)', 'Define each term in Potential Hamiltonian (continuum version)', 'Construct interaction Hamiltonian (real space, lattice version)', 'Construct interaction Hamiltonian (momentum space)', 'Convert from single-particle to second-quantized form, return in matrix', 'Convert from single-particle to second-quantized form, return in summation (expand the matrix)', 'Convert noninteracting Hamiltonian in real space to momentum space (continuum version)', 'Convert noninteracting Hamiltonian in real space to momentum space (lattice version)', 'Convert interacting Hamiltonian in real space to momentum space (lattice version)', 'Particle-hole transformation', 'Simplify the Hamiltonian in the particle-hole basis', \"Wick's theorem\", 'Extract quadratic term', 'Hartree term only', 'Fock term only', 'Expand interaction', 'Swap the index only', 'Swap the index to combine Hartree and Fock terms', 'Reduce momentum in Hartree term (momentum in BZ + reciprocal lattice)', 'Reduce momentum in Hartree term (momentum in BZ)', 'Reduce momentum in Fock term (momentum in BZ + reciprocal lattice)', 'Combine the Hartree and Fock term', 'Construct full Hamiltonian after HF', 'Mathematical simplify: inner product expansion', \"Mathematical simplify: Euler's formula\", 'Mathematical simplify: prosthaphaeresis', 'Mathematical simplify: Expand the product using Associative property', 'Mathematical simplify: Combine using Associative property', 'Mathematical simplify: reduce index'])"
      ]
     },
     "execution_count": 8,
     "metadata": {},
     "output_type": "execute_result"
    }
   ],
   "source": [
    "prompt_dict().keys()"
   ]
  },
  {
   "cell_type": "markdown",
   "metadata": {},
   "source": [
    "# Prompt fill place holder"
   ]
  },
  {
   "cell_type": "code",
   "execution_count": 9,
   "metadata": {},
   "outputs": [],
   "source": [
    "import json"
   ]
  },
  {
   "cell_type": "code",
   "execution_count": 10,
   "metadata": {},
   "outputs": [],
   "source": [
    "with open('1106.6060.jsonl','r') as f:\n",
    "    kwargs_jsonl= [json.loads(line) for line in f]"
   ]
  },
  {
   "cell_type": "code",
   "execution_count": 11,
   "metadata": {},
   "outputs": [],
   "source": [
    "def load_excerpt(sources):\n",
    "    excerpt=''\n",
    "    for tex, lines in sources.items():\n",
    "        with open(tex,'r') as f:\n",
    "            f_list=list(f)\n",
    "            for line in lines:\n",
    "                excerpt=excerpt+''.join(f_list[line[0]:line[1]])\n",
    "    return excerpt"
   ]
  },
  {
   "cell_type": "code",
   "execution_count": 12,
   "metadata": {},
   "outputs": [],
   "source": [
    "prompt_system='''I will provide you a Excerpt of physics paper, and a Template. You will need to fill the placeholders in the template using the correct information from the excerpt.\n",
    "Here are conventions: \n",
    "{..} means a placeholder which you need to fill by extracting information from the excerpt.\n",
    "{A|B} means you need to make a choice between A and B\n",
    "[..] means optional sentence. You should decide whether to use it depending on the excerpt.\n",
    "{{..}} DOES NOT mean a placeholder. You should not change the content inside double curly braces {{..}}.\n",
    "`You should recall that {expression_second_nonint}.` : this sentence should be kept as is.\n",
    "\n",
    "\n",
    "Finally, if you cannot figure out the placeholder, you should leave it as is.'''"
   ]
  },
  {
   "cell_type": "code",
   "execution_count": 13,
   "metadata": {},
   "outputs": [],
   "source": [
    "def drop_text_after(string):\n",
    "    string_new=''\n",
    "    for line in string.split('\\n'):\n",
    "        if '===' in line:\n",
    "            break\n",
    "        else:\n",
    "            if 'You should recall that' not in line:\n",
    "                string_new='\\n'.join([string_new,line])\n",
    "    return string_new[1:]\n"
   ]
  },
  {
   "cell_type": "code",
   "execution_count": 14,
   "metadata": {},
   "outputs": [],
   "source": [
    "def extractor(descriptor,message=False):\n",
    "    sys_msg=[{'role': 'system', 'content': prompt_system}]\n",
    "    question_prompt='\\nTemplate:\\n {template} \\n\\n Excerpt:\\n {excerpt}'.format(template=drop_text_after(prompt_dict()[descriptor['task']]), excerpt=load_excerpt(descriptor['source']))\n",
    "    user_msg=[{'role':'user','content':question_prompt}]\n",
    "    messages = sys_msg + user_msg\n",
    "    if message:\n",
    "        return sys_msg[0]['content']+user_msg[0]['content']\n",
    "    rs= openai.ChatCompletion.create(messages=messages, **model_params)\n",
    "    response=rs['choices'][0]['message'].content\n",
    "    return response\n"
   ]
  },
  {
   "cell_type": "code",
   "execution_count": 17,
   "metadata": {},
   "outputs": [
    {
     "name": "stderr",
     "output_type": "stream",
     "text": [
      "100%|██████████| 33/33 [14:01<00:00, 25.51s/it]\n"
     ]
    }
   ],
   "source": [
    "string=''\n",
    "for kwargs in tqdm(kwargs_jsonl):\n",
    "    string+='# '+kwargs['task']+'\\n'\n",
    "    response=(extractor(kwargs))\n",
    "    string+=response+'\\n\\n'\n",
    "    \n",
    "    "
   ]
  },
  {
   "cell_type": "code",
   "execution_count": 18,
   "metadata": {},
   "outputs": [
    {
     "name": "stdout",
     "output_type": "stream",
     "text": [
      "# Construct Kinetic Hamiltonian (lattice version)\n",
      "You will be instructed to describe the kinetic term of Hamiltonian in the CuO$_2$ plane in the real space in the second-quantized form.   \n",
      "The degrees of freedom of the system are: spin $s$ and site $i$     \n",
      "The kinetic term is a tight-binding model composed of the following hopping process: \n",
      "between copper $d_{x^2-y^2}$ orbital at site $i$ and oxygen $p_\\nu$ orbital at site $i+\\hat{\\nu}/2$ with the amplitude $t_{pd}$, and between neighboring oxygen sites with the amplitude $t_{pp}$.\n",
      "You should ensure the hermiticity of the Hamiltonian.\n",
      "The summation should be taken over all spin $s$ and all real space positions.  \n",
      "Return the Kinetic Hamiltonian $\\HH_{0}$.\n",
      "\n",
      "Use the following conventions for the symbols:  \n",
      "$\\hat{d}^{\\dag}_{i,s}$ creates a hole in the copper $d_{x^2-y^2}$ orbital at site $i$ with spin $s$,\n",
      "$\\hat{p}^{\\dag}_{ i+\\hat{\\nu}/2, s}$ creates a hole in the oxygen $p_\\nu$ orbital at the site $i+\\hat{\\nu}/2$ for $\\nu = x, y$, and\n",
      "$\\hat{n}^{d}_{i,s}$, $\\hat{n}^{p}_{ i+\\hat{\\nu}, s}$ are the corresponding number operators. The Cu sites $i$ form a square lattice with unit vectors $\\hat{x}$ and $\\hat{y}$, and the total number of lattice sites is $N$. The chemical potential $\\mu$ and the charge transfer energy $\\Delta$ control the total and relative Cu/O hole densities, and $\\langle\\nu, \\nu'\\rangle$ point to neighboring oxygen sites.\n",
      "\n",
      "# Construct interaction Hamiltonian (real space, lattice version)\n",
      "You will be instructed to construct the interaction part of the Hamiltonian, \\HH' in the real space in the second-quantized form.   \n",
      "The interacting Hamiltonian has the same degrees of freedom as the kinetic Hamiltonian.  \n",
      "The interaction is a density-density interaction composed of the following processes:\n",
      "- Interaction between site i and itself with the interaction strength U_{d}\n",
      "- Interaction between site i and its neighboring site i+\\hat{\\nu}/2 with the interaction strength U_{p}/2\n",
      "- Interaction between site i and its neighboring site i+\\hat{\\nu}/2 with the interaction strength V_{pd}\n",
      "- Interaction between site i and its neighboring site i+\\hat{\\nu}/2' with the interaction strength V_{pp}\n",
      "The summation should be taken over all spin states (s, s') and all real space positions.  \n",
      "Return the interaction term \\HH' in terms of \\hat{n}.\n",
      "\n",
      "Use the following conventions for the symbols (You should also obey the conventions in all my previous prompts if you encounter undefined symbols. If you find it is never defined or has conflicts in the conventions, you should stop and let me know): \n",
      "- \\HH' is the interaction part of the Hamiltonian\n",
      "- U_{d}, U_{p}, V_{pd}, and V_{pp} are the interaction strengths\n",
      "- \\hat{n} is the density operator\n",
      "- i is the site index\n",
      "- \\nu is the direction index\n",
      "- s and s' are the spin states\n",
      "- d and p denote different orbitals\n",
      "- t_{pd}=1 sets the energy scale.\n",
      "\n",
      "# Convert noninteracting Hamiltonian in real space to momentum space (lattice version)\n",
      "You will be instructed to convert the noninteracting Hamiltonian $\\HH_{\\rm MF}$ in the second quantized form from the basis in real space to the basis in momentum space. \n",
      "To do that, you should apply the Fourier transformation to $\\hat{C}^{\\dag}_{\\kk s}$ in the real space to the $\\hat{p}^{\\dag}_{x\\kk s}, \\hat{p}^{\\dag}_{y\\kk s}, \\hat{d}^{\\dag}_{\\kk s}$ in the momentum space, which is defined as $\\HH_{\\kk s}$, where $\\kk$ is integrated over all sites in the entire real space. You should follow the EXAMPLE below to apply the Fourier transformation. [Note that hopping have no position dependence now.]\n",
      "Express the total noninteracting Hamiltonian $\\HH_{\\rm MF}$ in terms of $\\hat{p}^{\\dag}_{x\\kk s}, \\hat{p}^{\\dag}_{y\\kk s}, \\hat{d}^{\\dag}_{\\kk s}$. Simplify any summation index if possible.\n",
      "\n",
      "Use the following conventions for the symbols (You should also obey the conventions in all my previous prompts if you encounter undefined symbols. If you find it is never defined or has conflicts in the conventions, you should stop and let me know):\n",
      "$\\HH_{\\kk s}$ is the Hamiltonian in momentum space, $\\hat{C}^{\\dag}_{\\kk s}$ is the creation operator in real space, $\\hat{p}^{\\dag}_{x\\kk s}, \\hat{p}^{\\dag}_{y\\kk s}, \\hat{d}^{\\dag}_{\\kk s}$ are the creation operators in momentum space, $\\kk$ is the momentum, $s$ is the spin index, $n$ is the total density of holes, $n^p$ is the total density of holes on the oxygen sites, $\\eta$ is the nematic order parameter, $\\gamma_1(k_i)$ and $\\gamma_2(\\kk)$ are elements of the Hamiltonian matrix, $\\xi_{x}$, $\\xi_{y}$, and $\\xi_{d}$ are the diagonal elements of the Hamiltonian matrix, $\\tilde{U}_{p}$, $\\tilde{V}_{pp}$, and $\\tilde{U}_{d}$ are the effective interaction parameters, and $\\mu$ is the chemical potential.\n",
      "\n",
      "# Mathematical simplify: inner product expansion\n",
      "You will be instructed to simplify {symbol} by using $k\\cdot \\hat{{x}}=k_x$ and $k\\cdot \\hat{{y}}=k_y$ only.  \n",
      "Return the simplified {symbol}.\n",
      "\n",
      "# Mathematical simplify: Euler's formula\n",
      "You will be instructed to simplify {symbol} by converting the exponential to the trigonometrical functions using Euler's formula only. You should also apply basic trigonometrical function simplification afterwards if possible. \n",
      "Return the simplified {symbol}.\n",
      "\n",
      "# Mathematical simplify: prosthaphaeresis\n",
      "You will be instructed to simplify {symbol} by reducing trigonometrical functions using prosthaphaeresis.  \n",
      "Return the simplified {symbol}.\n",
      "\n",
      "# Convert interacting Hamiltonian in real space to momentum space (lattice version)\n",
      "You will be instructed to convert the interacting Hamiltonian, $\\HH_{\\rm MF}$, in the second-quantized form the basis in real space to the basis in momentum space.\n",
      "To do that, you should apply the Fourier transformation to $\\hat{C}^{\\dag}_{\\kk s}$ in the real space to the $\\hat{p}^{\\dag}_{x\\kk s}, \\hat{p}^{\\dag}_{y\\kk s}, \\hat{d}^{\\dag}_{\\kk s}$ in the momentum space, which is defined as $\\HH_{\\kk s}$, where $\\kk$ is integrated over all sites in the entire real space, and $s$ is defined within the first Brillouin zone. You should follow the EXAMPLE below to apply the Fourier transformation. [Note that interaction have no position dependence now]\n",
      "Express $\\HH_{\\rm MF}$ in terms of $\\hat{p}^{\\dag}_{x\\kk s}, \\hat{p}^{\\dag}_{y\\kk s}, \\hat{d}^{\\dag}_{\\kk s}$. Simplify any summation index if possible.\n",
      "\n",
      "# Convert interacting Hamiltonian in real space to momentum space (lattice version)\n",
      "You will be instructed to convert the interacting Hamiltonian, $\\HH_{\\rm MF}$, in the second-quantized form the basis in real space to the basis in momentum space.\n",
      "To do that, you should apply the Fourier transformation to $\\hat{C}^{\\dag}_{\\kk s}$ in the real space to the $\\hat{p}^{\\dag}_{x\\kk s}, \\hat{p}^{\\dag}_{y\\kk s}, \\hat{d}^{\\dag}_{\\kk s}$ in the momentum space, which is defined as $\\HH_{\\kk s}$, where $\\kk$ is integrated over all sites in the entire real space, and $s$ is defined within the first Brillouin zone. You should follow the EXAMPLE below to apply the Fourier transformation. [Note that interaction have no position dependence now]\n",
      "Express $\\HH_{\\rm MF}$ in terms of $\\hat{p}^{\\dag}_{x\\kk s}, \\hat{p}^{\\dag}_{y\\kk s}, \\hat{d}^{\\dag}_{\\kk s}$. Simplify any summation index if possible.\n",
      "\n",
      "# Mathematical simplify: Expand the product using Associative property\n",
      "You will be instructed to expand the product in {symbol}.  \n",
      "Express {symbol} in the expanded form.\n",
      "\n",
      "# Convert interacting Hamiltonian in real space to momentum space (lattice version)\n",
      "You will be instructed to convert the interacting Hamiltonian, $\\HH_{\\rm MF}$, in the second-quantized form the basis in real space to the basis in momentum space.\n",
      "To do that, you should apply the Fourier transformation to $\\hat{C}^{\\dag}_{\\kk s}$ in the real space to the $\\hat{p}^{\\dag}_{x\\kk s}, \\hat{p}^{\\dag}_{y\\kk s}, \\hat{d}^{\\dag}_{\\kk s}$ in the momentum space, which is defined as $\\HH_{\\kk s}$, where $\\kk$ is integrated over all sites in the entire real space, and $s$ is defined within the first Brillouin zone. You should follow the EXAMPLE below to apply the Fourier transformation. [Note that interaction have no position dependence now]\n",
      "Express $\\HH_{\\rm MF}$ in terms of $\\hat{p}^{\\dag}_{x\\kk s}, \\hat{p}^{\\dag}_{y\\kk s}, \\hat{d}^{\\dag}_{\\kk s}$. Simplify any summation index if possible.\n",
      "\n",
      "# Mathematical simplify: Combine using Associative property\n",
      "You will be instructed to expand the product in {symbol}.  \n",
      "After expansion, you can introduce a sign variable {variable}, which take values of {values} to combine the {num_of_terms} term in to one term.\n",
      "Express the {symbol} in the expanded form.\n",
      "\n",
      "# Convert interacting Hamiltonian in real space to momentum space (lattice version)\n",
      "You will be instructed to convert the interacting Hamiltonian, $\\HH_{\\rm MF}$, in the second-quantized form the basis in real space to the basis in momentum space.\n",
      "To do that, you should apply the Fourier transformation to $\\hat{C}^{\\dag}_{\\kk s}$ in the real space to the $\\hat{p}^{\\dag}_{x\\kk s}, \\hat{p}^{\\dag}_{y\\kk s}, \\hat{d}^{\\dag}_{\\kk s}$ in the momentum space, which is defined as $\\HH_{\\kk s}$, where $\\kk$ is integrated over all sites in the entire real space, and $s$ is defined within the first Brillouin zone. You should follow the EXAMPLE below to apply the Fourier transformation. [Note that interaction have no position dependence now]\n",
      "Express $\\HH_{\\rm MF}$ in terms of $\\hat{p}^{\\dag}_{x\\kk s}, \\hat{p}^{\\dag}_{y\\kk s}, \\hat{d}^{\\dag}_{\\kk s}$. Simplify any summation index if possible.\n",
      "\n",
      "# Wick's theorem\n",
      "You will be instructed to perform a Hartree-Fock approximation to expand the interaction term, $\\HH_{\\rm MF}$.  \n",
      "You should use Wick's theorem to expand the four-fermion term in $\\HH_{\\rm MF}$ into quadratic terms. You should strictly follow the EXAMPLE below to expand using Wick's theorem, select the correct EXAMPLE by noticing the order of four term product with and without ${{}}^\\dagger$, and be extremely cautious about the order of the index and sign before each term.  \n",
      "You should only preserve the normal terms. Here, the normal terms mean the product of a creation operator and an annihilation operator.  \n",
      "Return the expanded interaction term after Hartree-Fock approximation as $\\HH_{\\rm MF}$.\n",
      "\n",
      "Use the following conventions for the symbols (You should also obey the conventions in all my previous prompts if you encounter undefined symbols. If you find it is never defined or has conflicts in the conventions, you should stop and let me know):  \n",
      "$\\HH_{\\rm MF}$ is the mean-field Hamiltonian, $\\hat{C}^{\\dag}_{\\kk s}$ is the creation operator, $\\HH_{\\kk s}$ is the Hamiltonian, $f(n^{p}, \\eta)$ is a function of the total density of holes on the oxygen sites and the nematic order parameter, $n$ is the total density of holes, $n^p$ is the total density of holes on the oxygen sites, $\\eta$ is the nematic order parameter, $\\gamma_1(k_i)$, $\\gamma_2(\\kk)$, $\\xi_{x}$, $\\xi_{y}$, and $\\xi_{d}$ are elements of the matrix, $\\tilde{U}_{p}$, $\\tilde{V}_{pp}$, and $\\tilde{U}_{d}$ are the effective interaction parameters, and $\\mu$ is the chemical potential.\n",
      "\n",
      "# Wick's theorem\n",
      "You will be instructed to perform a Hartree-Fock approximation to expand the interaction term, $\\HH_{\\rm MF}$.  \n",
      "You should use Wick's theorem to expand the four-fermion term in $\\HH_{\\rm MF}$ into quadratic terms. You should strictly follow the EXAMPLE below to expand using Wick's theorem, select the correct EXAMPLE by noticing the order of four term product with and without ${{}}^\\dagger$, and be extremely cautious about the order of the index and sign before each term.  \n",
      "You should only preserve the normal terms. Here, the normal terms mean the product of a creation operator and an annihilation operator.  \n",
      "Return the expanded interaction term after Hartree-Fock approximation as $\\HH_{\\rm MF}$.\n",
      "\n",
      "Use the following conventions for the symbols (You should also obey the conventions in all my previous prompts if you encounter undefined symbols. If you find it is never defined or has conflicts in the conventions, you should stop and let me know):  \n",
      "$\\hat{C}^{\\dag}_{\\kk s} = (\\hat{p}^{\\dag}_{x\\kk s}, \\hat{p}^{\\dag}_{y\\kk s}, \\hat{d}^{\\dag}_{\\kk s})$,\n",
      "$\\HH_{\\kk s} = \\left(\\begin{array}{ccc} \\xi_{x}& \\gamma_2(\\kk)& \\gamma_1(k_x)\\\\ \\gamma_2(\\kk)&\\xi_{y}& \\gamma_1(k_y)\\\\ \\gamma_1(k_x)& \\gamma_1(k_y)&\\xi_{d}\\end{array}\\right)$,\n",
      "$f(n^{p}, \\eta) = -\\tilde{U}_{p} \\frac{(n^{p})^2}{8} + \\tilde{V}_{pp}\\frac{\\eta^{2}}{8} - \\tilde{U}_{d}\\frac{(n-n^{p})^2}{4}$,\n",
      "$n$ is the total density of holes, $n^p$ is the total density of holes on the oxygen sites, $\\eta$ is the nematic order parameter,\n",
      "$\\gamma_1(k_i) = -2t_{pd}\\cos\\frac{k_i}{2}$, $\\gamma_2(\\kk) = -4t_{pp}\\cos\\frac{k_x}{2}\\cos\\frac{k_y}{2}$,\n",
      "$\\xi_{x} = \\Delta + \\tilde{U}_{p} \\frac{n^{p}}{4} - \\tilde{V}_{pp}\\frac{\\eta}{4} - \\mu$,\n",
      "$\\xi_{y} = \\Delta + \\tilde{U}_{p} \\frac{n^{p}}{4} + \\tilde{V}_{pp}\\frac{\\eta}{4} - \\mu$,\n",
      "$\\xi_{d} = \\tilde{U}_{d} \\frac{(n-n^p)}{2} - \\mu$,\n",
      "$\\tilde{U}_{p} = U_{p} + 8V_{pp} - 8 V_{pd}$,\n",
      "$\\tilde{V}_{pp} =  8V_{pp} - U_{p}$,\n",
      "$\\tilde{U}_{d} = U_{d} - 4V_{pd}$.\n",
      "\n",
      "# Wick's theorem\n",
      "Template:\n",
      " You will be instructed to perform a Hartree-Fock approximation to expand the interaction term, $\\HH_{\\rm MF}$.  \n",
      "You should use Wick's theorem to expand the four-fermion term in $\\HH_{\\rm MF}$ into quadratic terms. You should strictly follow the EXAMPLE below to expand using Wick's theorem, select the correct EXAMPLE by noticing the order of four term product with and without ${{}}^\\dagger$, and be extremely cautious about the order of the index and sign before each term.  \n",
      "You should only preserve the normal terms. Here, the normal terms mean the product of a creation operator and an annihilation operator.  \n",
      "Return the expanded interaction term after Hartree-Fock approximation as $\\HH_{\\kk s}$.\n",
      "\n",
      "Use the following conventions for the symbols (You should also obey the conventions in all my previous prompts if you encounter undefined symbols. If you find it is never defined or has conflicts in the conventions, you should stop and let me know):  \n",
      "$\\hat{C}^{\\dag}_{\\kk s} = (\\hat{p}^{\\dag}_{x\\kk s}, \\hat{p}^{\\dag}_{y\\kk s}, \\hat{d}^{\\dag}_{\\kk s})$, $\\HH_{\\kk s} = \\left(\\begin{array}{ccc} \\xi_{x}& \\gamma_2(\\kk)& \\gamma_1(k_x)\\\\ \\gamma_2(\\kk)&\\xi_{y}& \\gamma_1(k_y)\\\\ \\gamma_1(k_x)& \\gamma_1(k_y)&\\xi_{d}\\end{array}\\right)$, $f(n^{p}, \\eta) = -\\tilde{U}_{p} \\frac{(n^{p})^2}{8} + \\tilde{V}_{pp}\\frac{\\eta^{2}}{8} - \\tilde{U}_{d}\\frac{(n-n^{p})^2}{4}$, $n$ is the total density of holes, $n^p$ is the total density of holes on the oxygen sites, $\\eta$ is the nematic order parameter, $\\gamma_1(k_i) = -2t_{pd}\\cos\\frac{k_i}{2}$, $\\gamma_2(\\kk) = -4t_{pp}\\cos\\frac{k_x}{2}\\cos\\frac{k_y}{2}$, $\\xi_{x} = \\Delta + \\tilde{U}_{p} \\frac{n^{p}}{4} - \\tilde{V}_{pp}\\frac{\\eta}{4} - \\mu$, $\\xi_{y} = \\Delta + \\tilde{U}_{p} \\frac{n^{p}}{4} + \\tilde{V}_{pp}\\frac{\\eta}{4} - \\mu$, $\\xi_{d} = \\tilde{U}_{d} \\frac{(n-n^p)}{2} - \\mu$, $\\tilde{U}_{p} = U_{p} + 8V_{pp} - 8 V_{pd}$, $\\tilde{V}_{pp} =  8V_{pp} - U_{p}$, $\\tilde{U}_{d} = U_{d} - 4V_{pd}$.\n",
      "\n",
      "# Wick's theorem\n",
      "You will be instructed to perform a Hartree-Fock approximation to expand the interaction term, $\\HH_{\\rm MF}$.  \n",
      "You should use Wick's theorem to expand the four-fermion term in $\\HH_{\\rm MF}$ into quadratic terms. You should strictly follow the EXAMPLE below to expand using Wick's theorem, select the correct EXAMPLE by noticing the order of four term product with and without ${{}}^\\dagger$, and be extremely cautious about the order of the index and sign before each term.  \n",
      "You should only preserve the normal terms. Here, the normal terms mean the product of a creation operator and an annihilation operator.  \n",
      "Return the expanded interaction term after Hartree-Fock approximation as $\\HH_{\\kk s}$.\n",
      "\n",
      "Use the following conventions for the symbols (You should also obey the conventions in all my previous prompts if you encounter undefined symbols. If you find it is never defined or has conflicts in the conventions, you should stop and let me know):  \n",
      "$\\HH_{\\rm MF}$ is the mean-field Hamiltonian, $\\hat{C}^{\\dag}_{\\kk s}$ is the creation operator, $\\HH_{\\kk s}$ is the Hamiltonian, $f(n^{p}, \\eta)$ is a function of the total density of holes on the oxygen sites and the nematic order parameter, $n$ is the total density of holes, $n^p$ is the total density of holes on the oxygen sites, $\\eta$ is the nematic order parameter, $\\gamma_1(k_i)$, $\\gamma_2(\\kk)$, $\\xi_{x}$, $\\xi_{y}$, and $\\xi_{d}$ are elements of the matrix, $\\tilde{U}_{p}$, $\\tilde{V}_{pp}$, and $\\tilde{U}_{d}$ are the effective interaction parameters, and $\\mu$ is the chemical potential.\n",
      "\n",
      "# Extract quadratic term\n",
      "You will be instructed to extract the quadratic terms in the $\\HH_{\\rm MF}$.  \n",
      "The quadratic terms mean terms that are proportional to $\\hat{C}^{\\dag}_{\\kk s}\\HH_{\\kk s}\\hat{C}^{\\phantom{\\dag}}_{\\kk s}$, which excludes terms that are solely expectations or products of expectations.  \n",
      "You should only preserve the quadratic terms in $\\HH_{\\rm MF}$, denoted as $\\HH_{\\kk s}$.  \n",
      "Return $\\HH_{\\kk s}$.  \n",
      "\n",
      "Use the following conventions for the symbols (You should also obey the conventions in all my previous prompts if you encounter undefined symbols. If you find it is never defined or has conflicts in the conventions, you should stop and let me know):  \n",
      "$\\HH_{\\rm MF}$ is the mean-field Hamiltonian, $\\hat{C}^{\\dag}_{\\kk s}$ is the creation operator, $\\HH_{\\kk s}$ is the Hamiltonian matrix, and $\\hat{C}^{\\phantom{\\dag}}_{\\kk s}$ is the annihilation operator. The elements of the matrix $\\HH_{\\kk s}$ are given by $\\gamma_1(k_i)$, $\\gamma_2(\\kk)$, $\\xi_{x}$, $\\xi_{y}$, and $\\xi_{d}$. The effective interaction parameters are $\\tilde{U}_{p}$, $\\tilde{V}_{pp}$, and $\\tilde{U}_{d}$. The total density of holes is denoted by $n$, the total density of holes on the oxygen sites is denoted by $n^p$, and the nematic order parameter is denoted by $\\eta$.\n",
      "\n",
      "# Extract quadratic term\n",
      "You will be instructed to extract the quadratic terms in the $\\HH_{\\rm MF}$.  \n",
      "The quadratic terms mean terms that are proportional to $\\hat{C}^{\\dag}_{\\kk s}\\HH_{\\kk s}\\hat{C}^{\\phantom{\\dag}}_{\\kk s}$, which excludes terms that are solely expectations or products of expectations.  \n",
      "You should only preserve the quadratic terms in $\\HH_{\\rm MF}$, denoted as $\\HH_{\\kk s}$.  \n",
      "Return $\\HH_{\\kk s}$.  \n",
      "\n",
      "Use the following conventions for the symbols (You should also obey the conventions in all my previous prompts if you encounter undefined symbols. If you find it is never defined or has conflicts in the conventions, you should stop and let me know):  \n",
      "$\\HH_{\\rm MF}$ is the mean-field Hamiltonian, $\\hat{C}^{\\dag}_{\\kk s}$ is the creation operator, $\\HH_{\\kk s}$ is the Hamiltonian matrix, and $\\hat{C}^{\\phantom{\\dag}}_{\\kk s}$ is the annihilation operator. The elements of the matrix $\\HH_{\\kk s}$ are given by $\\gamma_1(k_i)$, $\\gamma_2(\\kk)$, $\\xi_{x}$, $\\xi_{y}$, and $\\xi_{d}$. The effective interaction parameters are $\\tilde{U}_{p}$, $\\tilde{V}_{pp}$, and $\\tilde{U}_{d}$. The total density of holes is denoted by $n$, and the total density of holes on the oxygen sites is denoted by $n^p$. The nematic order parameter is denoted by $\\eta$.\n",
      "\n",
      "# Extract quadratic term\n",
      "You will be instructed to extract the quadratic terms in the $\\HH_{\\rm MF}$.  \n",
      "The quadratic terms mean terms that are proportional to $\\hat{C}^{\\dag}_{\\kk s}\\HH_{\\kk s}\\hat{C}^{\\phantom{\\dag}}_{\\kk s}$, which excludes terms that are solely expectations or products of expectations.  \n",
      "You should only preserve the quadratic terms in $\\HH_{\\rm MF}$, denoted as $\\HH_{\\kk s}$.  \n",
      "Return $\\HH_{\\kk s}$.  \n",
      "\n",
      "Use the following conventions for the symbols (You should also obey the conventions in all my previous prompts if you encounter undefined symbols. If you find it is never defined or has conflicts in the conventions, you should stop and let me know):  \n",
      "$\\HH_{\\rm MF}$ is the mean-field Hamiltonian, $\\hat{C}^{\\dag}_{\\kk s}$ is the creation operator, $\\HH_{\\kk s}$ is the Hamiltonian matrix, and $\\hat{C}^{\\phantom{\\dag}}_{\\kk s}$ is the annihilation operator. The elements of the matrix $\\HH_{\\kk s}$ are given by $\\gamma_1(k_i)$, $\\gamma_2(\\kk)$, $\\xi_{x}$, $\\xi_{y}$, and $\\xi_{d}$. The effective interaction parameters are $\\tilde{U}_{p}$, $\\tilde{V}_{pp}$, and $\\tilde{U}_{d}$. The total density of holes is denoted by $n$, the total density of holes on the oxygen sites is denoted by $n^p$, and the nematic order parameter is denoted by $\\eta$.\n",
      "\n",
      "# Extract quadratic term\n",
      "You will be instructed to extract the quadratic terms in the $\\HH_{\\rm MF}$.  \n",
      "The quadratic terms mean terms that are proportional to $\\hat{C}^{\\dag}_{\\kk s}\\HH_{\\kk s}\\hat{C}^{\\phantom{\\dag}}_{\\kk s}$, which excludes terms that are solely expectations or products of expectations.  \n",
      "You should only preserve the quadratic terms in $\\HH_{\\rm MF}$, denoted as $\\HH_{\\kk s}$.  \n",
      "Return $\\HH_{\\kk s}$.  \n",
      "\n",
      "Use the following conventions for the symbols (You should also obey the conventions in all my previous prompts if you encounter undefined symbols. If you find it is never defined or has conflicts in the conventions, you should stop and let me know):  \n",
      "$\\HH_{\\rm MF}$ is the Hartree-Fock term symbol, $\\hat{C}^{\\dag}_{\\kk s}\\HH_{\\kk s}\\hat{C}^{\\phantom{\\dag}}_{\\kk s}$ is the bilinear operator, and $\\HH_{\\kk s}$ is the Hartree-Fock second quantized symbol.\n",
      "\n",
      "# Hartree term only\n",
      "You will be instructed to keep only the Hartree term in Eq.~\\eqref{eq:interaction}.  \n",
      "Here, Hartree term only means that only the expected value in the form $\\langle \\hat{n}^{p}_{i+\\hat{\\nu}/2 , s}\\rangle$ (Note that the two indices are the same) should be the preserved. All other expected value terms should be dropped.\n",
      "Return the simplified Hamiltonian with $\\HH_{\\rm MF}$.\n",
      "\n",
      "# Hartree term only\n",
      "You will be instructed to keep only the Hartree term in Eq.~\\eqref{eq:interaction}.  \n",
      "Here, Hartree term only means that only the expected value in the form $\\langle \\hat{n}^{p}_{i+\\hat{\\nu}/2 , s}\\rangle$ (Note that the two indices are the same) should be the preserved. All other expected value terms should be dropped.\n",
      "Return the simplified Hamiltonian with $\\HH_{\\rm MF}$.\n",
      "\n",
      "# Hartree term only\n",
      "You will be instructed to keep only the Hartree term in Eq.~\\eqref{eq:interaction}.  \n",
      "Here, Hartree term only means that only the expected value in the form $\\langle \\hat{n}^{p}_{i+\\hat{\\nu}/2 , s}\\rangle$ (Note that the two indices are the same) should be the preserved. All other expected value terms should be dropped.\n",
      "Return the simplified Hamiltonian with $\\HH_{\\rm MF}$.\n",
      "\n",
      "# Hartree term only\n",
      "You will be instructed to keep only the Hartree term in Eq.~\\eqref{eq:interaction}.  \n",
      "Here, Hartree term only means that only the expected value in the form $\\langle \\hat{n}^{p}_{i+\\hat{\\nu}/2 , s}\\rangle$ (Note that the two indices are the same) should be the preserved. All other expected value terms should be dropped.\n",
      "Return the simplified Hamiltonian with $\\HH_{\\rm MF}$.\n",
      "\n",
      "# Swap the index only\n",
      "You will be instructed to simplify the quadratic term $\\HH_{\\rm MF}$ through relabeling the index.  \n",
      "The logic is that the expected value ($n^{p}_{\\nu s}$) in the first Hartree term ($\\tilde{U}_{p} \\frac{n^{p}}{4}$ and $\\tilde{V}_{pp}\\frac{\\eta}{4}$) has the same form as the quadratic operators in the second Hartree term ($\\tilde{U}_{d} \\frac{(n-n^p)}{2}$), and vice versa. The same applies to the Fock term.  \n",
      "Namely, a replacement of $n^{p}$ and $\\eta$ is applied to ONLY the second Hartree or Fock term. You should not swap any index that is not in the summation, which includes $n$, $\\eta$, and $\\mu$.  \n",
      "This means, if you relabel the index by swapping the index in the \"expected value\" and \"quadratic operators\" in the second Hartree or Fock term, you can make the second Hartree or Fock term look identical to the first Hartree or Fock term, as long as $V(q)=V(-q)$, which is naturally satisfied in Coulomb interaction. You should follow the EXAMPLE below to simplify it through relabeling the index.  \n",
      "Return the simplified $\\HH_{\\rm MF}$.\n",
      "\n",
      "# Swap the index only\n",
      "You will be instructed to simplify the quadratic term $\\HH_{\\rm MF}$ through relabeling the index.  \n",
      "The logic is that the expected value ($n^{p}_{\\nu s}$) in the first Hartree term ($\\tilde{U}_{p} \\frac{n^{p}}{4}$ and $\\tilde{V}_{pp}\\frac{\\eta}{4}$) has the same form as the quadratic operators in the second Hartree term ($\\tilde{U}_{d} \\frac{(n-n^p)}{2}$), and vice versa. The same applies to the Fock term.  \n",
      "Namely, a replacement of $n^{p}$ and $\\eta$ is applied to ONLY the second Hartree or Fock term. You should not swap any index that is not in the summation, which includes $n$, $\\eta$, and $\\mu$.  \n",
      "This means, if you relabel the index by swapping the index in the \"expected value\" and \"quadratic operators\" in the second Hartree or Fock term, you can make the second Hartree or Fock term look identical to the first Hartree or Fock term, as long as $V(q)=V(-q)$, which is naturally satisfied in Coulomb interaction. You should follow the EXAMPLE below to simplify it through relabeling the index.  \n",
      "Return the simplified $\\HH_{\\rm MF}$.\n",
      "\n",
      "# Swap the index only\n",
      "You will be instructed to simplify the quadratic term $\\HH_{\\rm MF}$ through relabeling the index.  \n",
      "The logic is that the expected value ($n^{p}_{\\nu s}$) in the first Hartree term ($\\tilde{U}_{p} \\frac{n^{p}}{4}$ and $\\tilde{V}_{pp}\\frac{\\eta}{4}$) has the same form as the quadratic operators in the second Hartree term ($-\\tilde{U}_{p} \\frac{(n^{p})^2}{8}$ and $\\tilde{V}_{pp}\\frac{\\eta^{2}}{8}$), and vice versa. The same applies to the Fock term.  \n",
      "Namely, a replacement of $n^{p}$ and $\\eta$ is applied to ONLY the second Hartree or Fock term. You should not swap any index that is not in the summation, which includes $n$, $\\mu$, and $\\Delta$.  \n",
      "This means, if you relabel the index by swapping the index in the \"expected value\" and \"quadratic operators\" in the second Hartree or Fock term, you can make the second Hartree or Fock term look identical to the first Hartree or Fock term, as long as $V(q)=V(-q)$, which is naturally satisfied in Coulomb interaction. You should follow the EXAMPLE below to simplify it through relabeling the index.  \n",
      "Return the simplified $\\HH_{\\rm MF}$.\n",
      "\n",
      "# Swap the index only\n",
      "You will be instructed to simplify the quadratic term $\\HH_{\\rm MF}$ through relabeling the index.  \n",
      "The logic is that the expected value ($n^{p}_{\\nu s}$) in the first Hartree term ($\\tilde{U}_{p} \\frac{n^{p}}{4}$ and $\\tilde{V}_{pp}\\frac{\\eta}{4}$) has the same form as the quadratic operators in the second Hartree term ($\\tilde{U}_{d} \\frac{(n-n^p)}{2}$), and vice versa. The same applies to the Fock term.  \n",
      "Namely, a replacement of $n^{p}$ and $\\eta$ is applied to ONLY the second Hartree or Fock term. You should not swap any index that is not in the summation, which includes $n$, $\\eta$, and $\\mu$.  \n",
      "This means, if you relabel the index by swapping the index in the \"expected value\" and \"quadratic operators\" in the second Hartree or Fock term, you can make the second Hartree or Fock term look identical to the first Hartree or Fock term, as long as $V(q)=V(-q)$, which is naturally satisfied in Coulomb interaction. You should follow the EXAMPLE below to simplify it through relabeling the index.  \n",
      "Return the simplified $\\HH_{\\rm MF}$.\n",
      "\n",
      "# Reduce momentum in Hartree term (momentum in BZ)\n",
      "You will be instructed to simplify the Hartree term, $\\HH_{\\rm MF}$, by reducing the momentum inside the expected value $n^{p}_{\\nu s}$.  \n",
      "The expected value $n^{p}_{\\nu s}$ is only nonzero when the two momenta $k_i,k_j$ are the same, namely, $n^{p}_{i+\\hat{\\nu}/2 , s}$.  \n",
      "You should use the property of Kronecker delta function $\\delta_{{k_i,k_j}}$ to reduce one momentum $k_i$.\n",
      "Once you reduce one momentum inside the expected value $\\langle\\dots\\rangle$. You will also notice the total momentum conservation will reduce another momentum in the quadratic term. Therefore, you should end up with only two momenta left in the summation.  \n",
      "You should follow the EXAMPLE below to reduce one momentum in the Hartree term, and another momentum in the quadratic term.  \n",
      "Return the final simplified Hartree term $\\HH_{\\rm MF}$.\n",
      "\n",
      "# Reduce momentum in Hartree term (momentum in BZ)\n",
      "You will be instructed to simplify the Hartree term, $\\HH_{\\rm MF}$, by reducing the momentum inside the expected value $n^{p}_{\\nu s}$.  \n",
      "The expected value $n^{p}_{\\nu s}$ is only nonzero when the two momenta $k_i,k_j$ are the same, namely, $n^{p}_{i+\\hat{\\nu}/2 , s}$.  \n",
      "You should use the property of Kronecker delta function $\\delta_{{k_i,k_j}}$ to reduce one momentum $k_i$.\n",
      "Once you reduce one momentum inside the expected value $\\langle\\dots\\rangle$. You will also notice the total momentum conservation will reduce another momentum in the quadratic term. Therefore, you should end up with only two momenta left in the summation.  \n",
      "You should follow the EXAMPLE below to reduce one momentum in the Hartree term, and another momentum in the quadratic term.  \n",
      "Return the final simplified Hartree term $\\HH_{\\rm MF}$.\n",
      "\n",
      "# Reduce momentum in Hartree term (momentum in BZ)\n",
      "You will be instructed to simplify the Hartree term, $\\HH_{\\rm MF}$, by reducing the momentum inside the expected value $n^{p}_{\\nu s}$.  \n",
      "The expected value $n^{p}_{\\nu s}$ is only nonzero when the two momenta $k_i,k_j$ are the same, namely, $n^{p}_{i+\\hat{\\nu}/2 , s}$.  \n",
      "You should use the property of Kronecker delta function $\\delta_{{k_i,k_j}}$ to reduce one momentum $k_i$.\n",
      "Once you reduce one momentum inside the expected value $\\langle\\dots\\rangle$. You will also notice the total momentum conservation will reduce another momentum in the quadratic term. Therefore, you should end up with only two momenta left in the summation.  \n",
      "You should follow the EXAMPLE below to reduce one momentum in the Hartree term, and another momentum in the quadratic term.  \n",
      "Return the final simplified Hartree term $\\HH_{\\rm MF}$.\n",
      "\n",
      "# Reduce momentum in Hartree term (momentum in BZ)\n",
      "You will be instructed to simplify the Hartree term, $\\HH_{\\rm MF}$, by reducing the momentum inside the expected value $n^{p}_{\\nu s}$.  \n",
      "The expected value $n^{p}_{\\nu s}$ is only nonzero when the two momenta $k_i,k_j$ are the same, namely, $n^{p}_{i+\\hat{\\nu}/2 , s}$.  \n",
      "You should use the property of Kronecker delta function $\\delta_{{k_i,k_j}}$ to reduce one momentum $k_i$.\n",
      "Once you reduce one momentum inside the expected value $\\langle\\dots\\rangle$. You will also notice the total momentum conservation will reduce another momentum in the quadratic term. Therefore, you should end up with only two momenta left in the summation.  \n",
      "You should follow the EXAMPLE below to reduce one momentum in the Hartree term, and another momentum in the quadratic term.  \n",
      "Return the final simplified Hartree term $\\HH_{\\rm MF}$.\n",
      "\n",
      "# Mathematical simplify: reduce index\n",
      "You will be instructed to simplify the {symbol} by performing constant term summation by reducing the unnecessary indices {index}.\n",
      "Return the simplified Kinetic Hamiltonian {symbol}.\n",
      "\n",
      "\n"
     ]
    }
   ],
   "source": [
    "print(string)"
   ]
  },
  {
   "cell_type": "code",
   "execution_count": 19,
   "metadata": {},
   "outputs": [],
   "source": [
    "pwd=os.getcwd()"
   ]
  },
  {
   "cell_type": "code",
   "execution_count": 20,
   "metadata": {},
   "outputs": [],
   "source": [
    "with open(pwd.split('/')[-1]+'_extractor.md','w') as f:\n",
    "    f.write(string)"
   ]
  },
  {
   "cell_type": "code",
   "execution_count": null,
   "metadata": {},
   "outputs": [],
   "source": []
  }
 ],
 "metadata": {
  "kernelspec": {
   "display_name": "base",
   "language": "python",
   "name": "python3"
  },
  "language_info": {
   "codemirror_mode": {
    "name": "ipython",
    "version": 3
   },
   "file_extension": ".py",
   "mimetype": "text/x-python",
   "name": "python",
   "nbconvert_exporter": "python",
   "pygments_lexer": "ipython3",
   "version": "3.8.11"
  },
  "orig_nbformat": 4
 },
 "nbformat": 4,
 "nbformat_minor": 2
}
