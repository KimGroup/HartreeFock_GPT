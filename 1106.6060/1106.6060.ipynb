{
 "cells": [
  {
   "cell_type": "code",
   "execution_count": 6,
   "metadata": {},
   "outputs": [],
   "source": [
    "import openai\n",
    "import pandas as pd\n",
    "import json\n",
    "from IPython.display import Markdown\n",
    "import sys"
   ]
  },
  {
   "cell_type": "code",
   "execution_count": 2,
   "metadata": {},
   "outputs": [],
   "source": [
    "zz=openai.Model.list()"
   ]
  },
  {
   "cell_type": "code",
   "execution_count": 3,
   "metadata": {},
   "outputs": [
    {
     "data": {
      "text/plain": [
       "62"
      ]
     },
     "execution_count": 3,
     "metadata": {},
     "output_type": "execute_result"
    }
   ],
   "source": [
    "len(zz['data'])"
   ]
  },
  {
   "cell_type": "code",
   "execution_count": 4,
   "metadata": {},
   "outputs": [
    {
     "data": {
      "text/plain": [
       "['gpt-4-0314',\n",
       " 'gpt-3.5-turbo-16k-0613',\n",
       " 'gpt-3.5-turbo-0301',\n",
       " 'gpt-3.5-turbo-16k',\n",
       " 'gpt-3.5-turbo',\n",
       " 'gpt-3.5-turbo-0613',\n",
       " 'gpt-4',\n",
       " 'gpt-4-0613']"
      ]
     },
     "execution_count": 4,
     "metadata": {},
     "output_type": "execute_result"
    }
   ],
   "source": [
    "[zz['data'][idx]['id'] for idx in range(len(zz['data'])) if 'gpt' in zz['data'][idx]['id']]"
   ]
  },
  {
   "cell_type": "code",
   "execution_count": 5,
   "metadata": {},
   "outputs": [],
   "source": [
    "model_params = {\n",
    "    'model': \"gpt-4\",\n",
    "    'temperature': 0,,\n",
    "}"
   ]
  },
  {
   "cell_type": "code",
   "execution_count": 7,
   "metadata": {},
   "outputs": [],
   "source": [
    "def print_save(string, file='../cmp2.md'):\n",
    "    print(string)\n",
    "    with open(file,'w') as f:\n",
    "        f.write(string)"
   ]
  },
  {
   "cell_type": "markdown",
   "metadata": {},
   "source": [
    "## Load `prompt_template.md`"
   ]
  },
  {
   "cell_type": "code",
   "execution_count": 8,
   "metadata": {},
   "outputs": [],
   "source": [
    "sys.path.append('..')\n",
    "from utils import *\n",
    "from functools import partial"
   ]
  },
  {
   "cell_type": "code",
   "execution_count": 9,
   "metadata": {},
   "outputs": [],
   "source": [
    "# prompt_dict=load_prompt_template('../prompt_template.md')\n",
    "prompt_dict = partial(load_prompt_template,file='../prompt_template.md')"
   ]
  },
  {
   "cell_type": "code",
   "execution_count": 9,
   "metadata": {},
   "outputs": [
    {
     "data": {
      "text/plain": [
       "dict_keys(['Preamble', 'Construct Kinetic Hamiltonian (continuum version, single-particle)', 'Construct Kinetic Hamiltonian (continuum version, second-quantized)', 'Construct Kinetic Hamiltonian (lattice version)', 'Define each term in Kinetic Hamiltonian (continuum version)', 'Construct Potential Hamiltonian (continuum version)', 'Define each term in Potential Hamiltonian (continuum version)', 'Construct interaction Hamiltonian (real space, lattice version)', 'Construct interaction Hamiltonian (momentum space)', 'Convert from single-particle to second-quantized form, return in matrix', 'Convert from single-particle to second-quantized form, return in summation (expand the matrix)', 'Convert noninteracting Hamiltonian in real space to momentum space (continuum version)', 'Convert noninteracting Hamiltonian in real space to momentum space (lattice version)', 'Convert interacting Hamiltonian in real space to momentum space (lattice version)', 'Particle-hole transformation', 'Simplify the Hamiltonian in the particle-hole basis', \"Wick's theorem\", 'Extract quadratic term', 'Hartree term only', 'Fock term only', 'Expand interaction', 'Swap the index only', 'Swap the index to combine Hartree and Fock terms', 'Reduce momentum in Hartree term (momentum in BZ + reciprocal lattice)', 'Reduce momentum in Hartree term (momentum in BZ)', 'Reduce momentum in Fock term (momentum in BZ + reciprocal lattice)', 'Combine the Hartree and Fock term', 'Construct full Hamiltonian after HF', \"Mathematical simplify: Euler's formula\", 'Mathematical simplify: prosthaphaeresis', 'Mathematical simplify: Expand the product using Associative property', 'Mathematical simplify: Combine using Associative property', 'Mathematical simplify: reduce index'])"
      ]
     },
     "execution_count": 9,
     "metadata": {},
     "output_type": "execute_result"
    }
   ],
   "source": [
    "prompt_dict().keys()"
   ]
  },
  {
   "cell_type": "code",
   "execution_count": 8,
   "metadata": {},
   "outputs": [],
   "source": [
    "with open('1106.6060.jsonl','r') as f:\n",
    "    kwargs= [json.loads(line) for line in f]\n"
   ]
  },
  {
   "cell_type": "code",
   "execution_count": 9,
   "metadata": {},
   "outputs": [],
   "source": [
    "import re\n",
    "import string\n",
    "def format_check(s, kwargs):\n",
    "    placeholders=  [v[1] for v in (string.Formatter().parse(s)) if v[1] is not None]\n",
    "    extra_args = set(kwargs.keys()) - set(placeholders+ ['task','answer'])  # Check for extra args.\n",
    "    return extra_args\n"
   ]
  },
  {
   "cell_type": "code",
   "execution_count": null,
   "metadata": {},
   "outputs": [],
   "source": [
    "[format_check(prompt_dict[kwarg['task']],kwarg) for kwarg in kwargs]"
   ]
  },
  {
   "cell_type": "code",
   "execution_count": 11,
   "metadata": {},
   "outputs": [],
   "source": [
    "df=pd.DataFrame(list(prompt_dict().items()),columns=['Task','Prompt'])"
   ]
  },
  {
   "cell_type": "markdown",
   "metadata": {},
   "source": [
    "## Construct Kinetic Hamiltonian (lattice version)"
   ]
  },
  {
   "cell_type": "code",
   "execution_count": 10,
   "metadata": {},
   "outputs": [],
   "source": [
    "user_msg=[]\n",
    "AI_msg=[]\n",
    "sys_msg=[{'role': 'system', 'content': prompt_dict()['Preamble']}]\n",
    "kwargs_list=[]"
   ]
  },
  {
   "cell_type": "code",
   "execution_count": 11,
   "metadata": {},
   "outputs": [],
   "source": [
    "kwargs = {\n",
    "    'task': 'Construct Kinetic Hamiltonian (lattice version)',\n",
    "    'system': 'CuO$_2$',\n",
    "    'real|momentum': 'real',\n",
    "    'single-particle|second-quantized': 'second-quantized',\n",
    "    'dof': r'spin index (spin up and spin down), orbital index ($d$ orbital in Cu atom, $p_x$ orbital in O atom, and $p_y$ orbital in O atom)',\n",
    "    'site i and site j with the amplitude hopping': r'''1. $c_{d,s}^\\dagger(R_i)$ and $c_{p_x,s}^\\dagger(R_i+\\hat{x}/2)$ with the hopping amplitude $-t_pd$.  \n",
    "2. $c_{d,s}^\\dagger(R_i)$ and $c_{p_x,s}^\\dagger(R_i-\\hat{x}/2)$ with the hopping amplitude $-t_pd$.  \n",
    "3. $c_{d,s}^\\dagger(R_i)$ and $c_{p_y,s}^\\dagger(R_i+\\hat{y}/2)$ with the hopping amplitude $-t_pd$.  \n",
    "4. $c_{d,s}^\\dagger(R_i)$ and $c_{p_y,s}^\\dagger(R_i-\\hat{y}/2)$ with the hopping amplitude $-t_pd$.  \n",
    "5. $c_{p_x,s}^\\dagger(R_i+\\hat{x}/2)$ and $c_{p_y,s}^\\dagger(R_i+\\hat{y}/2)$ with the hopping amplitude $-t_pp$.  \n",
    "6. $c_{p_x,s}^\\dagger(R_i+\\hat{x}/2)$ and $c_{p_y,s}^\\dagger(R_i-\\hat{y}/2)$ with the hopping amplitude $-t_pp$.  \n",
    "7. $c_{p_x,s}^\\dagger(R_i-\\hat{x}/2)$ and $c_{p_y,s}^\\dagger(R_i+\\hat{y}/2)$ with the hopping amplitude $-t_pp$.  \n",
    "8. $c_{p_x,s}^\\dagger(R_i-\\hat{x}/2)$ and $c_{p_y,s}^\\dagger(R_i-\\hat{y}/2)$ with the hopping amplitude $-t_pp$.''',\n",
    "    'kinetic_symbol': r'$H_0$',\n",
    "    'You should ensure the hermiticity of the Hamiltonian|None': 'You should ensure the hermiticity of the Hamiltonian.',\n",
    "    'def_var':r'''$s$ : spin index  \n",
    "$\\uparrow$ : spin up  \n",
    "$\\downarrow$ : spin down \n",
    "$\\alpha$ : orbital index\n",
    "$d$: $d$ orbital in Cu atom\n",
    "$p_x$: $p_x$ orbital in O atom\n",
    "$p_y$: $p_y$ orbital in O atom\n",
    "$c_{\\alpha,s}^\\dagger(R_i)$ : annihilation operator for a particle with orbital $\\alpha$ and spin $s$ at site $i$ \n",
    "$R_i$ : real space position of site $i$  \n",
    "$\\hat{x}$: unit vector along $x$ direction\n",
    "$\\hat{y}$: unit vector along $y$ direction\n",
    "$t_{pd}$: hopping amplitude between $p_x$ and $d$ orbital, or $p_y$ and $d$ orbital\n",
    "$t_{pp}$: hopping amplitude between $p_x$ and $p_y$ orbital''',\n",
    "    'answer':    r'''$$\n",
    "H_0 = -t_{pd}\\sum_{R_i, s} ( c_{d,s}^\\dagger(R_i) c_{p_x,s}(R_i+\\hat{x}/2) + c_{p_x,s}^\\dagger(R_i+\\hat{x}/2) c_{d,s}(R_i) \n",
    "+ c_{d,s}^\\dagger(R_i) c_{p_x,s}(R_i-\\hat{x}/2) + c_{p_x,s}^\\dagger(R_i-\\hat{x}/2) c_{d,s}(R_i)\n",
    "+ c_{d,s}^\\dagger(R_i) c_{p_y,s}(R_i+\\hat{y}/2) + c_{p_y,s}^\\dagger(R_i+\\hat{y}/2) c_{d,s}(R_i)\n",
    "+ c_{d,s}^\\dagger(R_i) c_{p_y,s}(R_i-\\hat{y}/2) + c_{p_y,s}^\\dagger(R_i-\\hat{y}/2) c_{d,s}(R_i) )\n",
    "-t_{pp}\\sum_{R_i, s} ( c_{p_x,s}^\\dagger(R_i+\\hat{x}/2) c_{p_y,s}(R_i+\\hat{y}/2) + c_{p_y,s}^\\dagger(R_i+\\hat{y}/2) c_{p_x,s}(R_i+\\hat{x}/2) \n",
    "+ c_{p_x,s}^\\dagger(R_i+\\hat{x}/2) c_{p_y,s}(R_i-\\hat{y}/2) + c_{p_y,s}^\\dagger(R_i-\\hat{y}/2) c_{p_x,s}(R_i+\\hat{x}/2) \n",
    "+ c_{p_x,s}^\\dagger(R_i-\\hat{x}/2) c_{p_y,s}(R_i+\\hat{y}/2) + c_{p_y,s}^\\dagger(R_i+\\hat{y}/2) c_{p_x,s}(R_i-\\hat{x}/2) \n",
    "+ c_{p_x,s}^\\dagger(R_i-\\hat{x}/2) c_{p_y,s}(R_i-\\hat{y}/2) + c_{p_y,s}^\\dagger(R_i-\\hat{y}/2) c_{p_x,s}(R_i-\\hat{x}/2) )\n",
    "$$''',\n",
    "'source': {'1106.6060.tex':[(126,145)]}\n",
    "}\n"
   ]
  },
  {
   "cell_type": "code",
   "execution_count": 12,
   "metadata": {},
   "outputs": [],
   "source": [
    "# text=''\n",
    "# for file, position in kwargs['source'].items():\n",
    "#     with open(file,'r') as f:\n",
    "#         f_list=list(f)\n",
    "#         for left,right in position:\n",
    "#             text+=''.join(f_list[left-1:right])\n",
    "# print(text)"
   ]
  },
  {
   "cell_type": "code",
   "execution_count": 13,
   "metadata": {},
   "outputs": [
    {
     "name": "stdout",
     "output_type": "stream",
     "text": [
      "You will be instructed to describe the kinetic term of Hamiltonian in CuO$_2$ in the real space in the second-quantized form.   \n",
      "The degrees of freedom of the system are: spin index (spin up and spin down), orbital index ($d$ orbital in Cu atom, $p_x$ orbital in O atom, and $p_y$ orbital in O atom)     \n",
      "The kinetic term is a tight-binding model composed of the following hopping process: \n",
      "1. $c_{d,s}^\\dagger(R_i)$ and $c_{p_x,s}^\\dagger(R_i+\\hat{x}/2)$ with the hopping amplitude $-t_pd$.  \n",
      "2. $c_{d,s}^\\dagger(R_i)$ and $c_{p_x,s}^\\dagger(R_i-\\hat{x}/2)$ with the hopping amplitude $-t_pd$.  \n",
      "3. $c_{d,s}^\\dagger(R_i)$ and $c_{p_y,s}^\\dagger(R_i+\\hat{y}/2)$ with the hopping amplitude $-t_pd$.  \n",
      "4. $c_{d,s}^\\dagger(R_i)$ and $c_{p_y,s}^\\dagger(R_i-\\hat{y}/2)$ with the hopping amplitude $-t_pd$.  \n",
      "5. $c_{p_x,s}^\\dagger(R_i+\\hat{x}/2)$ and $c_{p_y,s}^\\dagger(R_i+\\hat{y}/2)$ with the hopping amplitude $-t_pp$.  \n",
      "6. $c_{p_x,s}^\\dagger(R_i+\\hat{x}/2)$ and $c_{p_y,s}^\\dagger(R_i-\\hat{y}/2)$ with the hopping amplitude $-t_pp$.  \n",
      "7. $c_{p_x,s}^\\dagger(R_i-\\hat{x}/2)$ and $c_{p_y,s}^\\dagger(R_i+\\hat{y}/2)$ with the hopping amplitude $-t_pp$.  \n",
      "8. $c_{p_x,s}^\\dagger(R_i-\\hat{x}/2)$ and $c_{p_y,s}^\\dagger(R_i-\\hat{y}/2)$ with the hopping amplitude $-t_pp$.\n",
      "You should ensure the hermiticity of the Hamiltonian.\n",
      "The summation should be taken over all spin index (spin up and spin down), orbital index ($d$ orbital in Cu atom, $p_x$ orbital in O atom, and $p_y$ orbital in O atom) and all real space positions.  \n",
      "Return the Kinetic Hamiltonian $H_0$.\n",
      "\n",
      "Use the following conventions for the symbols:  \n",
      "$s$ : spin index  \n",
      "$\\uparrow$ : spin up  \n",
      "$\\downarrow$ : spin down \n",
      "$\\alpha$ : orbital index\n",
      "$d$: $d$ orbital in Cu atom\n",
      "$p_x$: $p_x$ orbital in O atom\n",
      "$p_y$: $p_y$ orbital in O atom\n",
      "$c_{\\alpha,s}^\\dagger(R_i)$ : annihilation operator for a particle with orbital $\\alpha$ and spin $s$ at site $i$ \n",
      "$R_i$ : real space position of site $i$  \n",
      "$\\hat{x}$: unit vector along $x$ direction\n",
      "$\\hat{y}$: unit vector along $y$ direction\n",
      "$t_{pd}$: hopping amplitude between $p_x$ and $d$ orbital, or $p_y$ and $d$ orbital\n",
      "$t_{pp}$: hopping amplitude between $p_x$ and $p_y$ orbital\n"
     ]
    }
   ],
   "source": [
    "print_save(generate_prompt(kwargs,prompt_dict=prompt_dict())['content'])"
   ]
  },
  {
   "cell_type": "code",
   "execution_count": 14,
   "metadata": {},
   "outputs": [],
   "source": [
    "# user_msg.append(generate_prompt(kwargs,prompt_dict=prompt_dict))"
   ]
  },
  {
   "cell_type": "code",
   "execution_count": 15,
   "metadata": {},
   "outputs": [],
   "source": [
    "# messages=assembly_message(sys_msg,user_msg,AI_msg)"
   ]
  },
  {
   "cell_type": "code",
   "execution_count": 16,
   "metadata": {},
   "outputs": [],
   "source": [
    "# rs = openai.ChatCompletion.create(messages=messages, **model_params)\n",
    "\n",
    "# Markdown(rs['choices'][0]['message'].content)"
   ]
  },
  {
   "cell_type": "code",
   "execution_count": 17,
   "metadata": {},
   "outputs": [],
   "source": [
    "# AI_msg.append(dict(rs['choices'][0]['message']))"
   ]
  },
  {
   "cell_type": "code",
   "execution_count": 18,
   "metadata": {},
   "outputs": [],
   "source": [
    "# rs['choices'][0]['message'].content"
   ]
  },
  {
   "cell_type": "code",
   "execution_count": 19,
   "metadata": {},
   "outputs": [],
   "source": [
    "kwargs_list.append(kwargs)"
   ]
  },
  {
   "cell_type": "markdown",
   "metadata": {},
   "source": [
    "## Construct interaction Hamiltonian (real space, lattice version)"
   ]
  },
  {
   "cell_type": "code",
   "execution_count": 20,
   "metadata": {},
   "outputs": [],
   "source": [
    "kwargs = {\n",
    "    'task':'Construct interaction Hamiltonian (real space, lattice version)',\n",
    "    'second_int_symbol':  r'$\\hat{H}^{int}$',\n",
    "    'kinetic_symbol': r'$H_0$',\n",
    "    'site i and site j with the interaction strength': r'''1. onsite interaction between $n_{d,\\uparrow}(R_i)$ and $n_{d,\\downarrow}(R_i)$ with interaction strength $U_d$\n",
    "2. onsite interaction between $n_{p_x,\\uparrow}(R_i+\\hat{x}/2)$ and $n_{p_x,\\downarrow}(R_i+\\hat{x}/2)$ with interaction strength $U_p/2$\n",
    "3. onsite interaction between $n_{p_y,\\uparrow}(R_i+\\hat{y}/2)$ and $n_{p_y,\\downarrow}(R_i+\\hat{y}/2)$ with interaction strength $U_p/2$\n",
    "4. Nearest neighbor interaction between $n_{d,s}(R_i)$ and $n_{p_x,s^{\\prime}}(R_i+\\hat{x}/2)$ with interaction strength $V_{pd}$\n",
    "5. Nearest neighbor interaction between $n_{d,s}(R_i)$ and $n_{p_x,s^{\\prime}}(R_i-\\hat{x}/2)$ with interaction strength $V_{pd}$\n",
    "6. Nearest neighbor interaction between $n_{d,s}(R_i)$ and $n_{p_y,s^{\\prime}}(R_i+\\hat{y}/2)$ with interaction strength $V_{pd}$\n",
    "7. Nearest neighbor interaction between $n_{d,s}(R_i)$ and $n_{p_y,s^{\\prime}}(R_i-\\hat{y}/2)$ with interaction strength $V_{pd}$\n",
    "8. Nearest neighbor interaction between $n_{p_x,s}(R_i+\\hat{x}/2)$ and $n_{p_y,s^{\\prime}}(R_i+\\hat{y}/2)$ with interaction strength $V_{pp}$\n",
    "9. Nearest neighbor interaction between $n_{p_x,s}(R_i+\\hat{x}/2)$ and $n_{p_y,s^{\\prime}}(R_i-\\hat{y}/2)$ with interaction strength $V_{pp}$\n",
    "10. Nearest neighbor interaction between $n_{p_x,s}(R_i-\\hat{x}/2)$ and $n_{p_y,s^{\\prime}}(R_i+\\hat{y}/2)$ with interaction strength $V_{pp}$\n",
    "11. Nearest neighbor interaction between $n_{p_x,s}(R_i-\\hat{x}/2)$ and $n_{p_y,s^{\\prime}}(R_i-\\hat{y}/2)$ with interaction strength $V_{pp}$  \n",
    "where density operator $n_{\\alpha,s}(R_i) = c_{\\alpha,s}^\\dagger(R_i) c_{\\alpha,s}(R_i)$. ''',\n",
    "    'dof':r'spin index (spin up and spin down), orbital index ($d$ orbital in Cu atom, $p_x$ orbital in O atom, and $p_y$ orbital in O atom)',\n",
    "    'density_symbol':r'$n_{\\alpha,s}(R_i)$',\n",
    "\n",
    "    'def_var': r'''$s^{\\prime}$: spin index  \n",
    "$n_{\\alpha,s}(R_i)$: density of particle with orbital $\\alpha$ and spin $s$ at site $R_i$  \n",
    "$U_d$: onsite interaction strength of $d$ orbital  \n",
    "$U_p$: onsite interaction strength of $p_x$ orbital or $p_y$ orbital  \n",
    "$V_{pd}$: Nearest neighbor interaction strength between $p_x$ orbital and $d$ orbital or between $p_y$ orbital and $d$ orbital  \n",
    "$V_{pp}$: Nearest neighbor interaction strength between $p_x$ orbital and $p_y$ orbital  ''',\n",
    "    'answer':r'''$$\n",
    "\\hat{H}^{int} = U_d \\sum_{R_i} n_{d,\\uparrow}(R_i) n_{d,\\downarrow}(R_i) + \\frac{U_p}{2} \\sum_{R_i} [n_{p_x,\\uparrow}(R_i+\\hat{x}/2) n_{p_x,\\downarrow}(R_i+\\hat{x}/2) + n_{p_y,\\uparrow}(R_i+\\hat{y}/2) n_{p_y,\\downarrow}(R_i+\\hat{y}/2)] \\\\ \n",
    "+ V_{pd} \\sum_{R_i, s, s^{\\prime}} [n_{d,s}(R_i) (n_{p_x,s^{\\prime}}(R_i+\\hat{x}/2) + n_{p_x,s^{\\prime}}(R_i-\\hat{x}/2) + n_{p_y,s^{\\prime}}(R_i+\\hat{y}/2) + n_{p_y,s^{\\prime}}(R_i-\\hat{y}/2)) ] \\\\\n",
    "+ V_{pp} \\sum_{R_i, s, s^{\\prime}} [(n_{p_x,s}(R_i+\\hat{x}/2) + n_{p_x,s}(R_i-\\hat{x}/2)) (n_{p_y,s^{\\prime}}(R_i+\\hat{y}/2) + n_{p_y,s^{\\prime}}(R_i-\\hat{y}/2))]\n",
    "$$''',\n",
    "'source': {'1106.6060.tex':[(147,156)]}\n",
    "}\n"
   ]
  },
  {
   "cell_type": "code",
   "execution_count": 21,
   "metadata": {},
   "outputs": [
    {
     "name": "stdout",
     "output_type": "stream",
     "text": [
      "You will be instructed to construct the interaction part of the Hamiltonian, $\\hat{H}^{int}$ in the real space in the second-quantized form.   \n",
      "The interacting Hamiltonian has the same degrees of freedom as the kinetic Hamiltonian $H_0$.  \n",
      "The interaction is a density-density interaction composed of the following process:\n",
      "1. onsite interaction between $n_{d,\\uparrow}(R_i)$ and $n_{d,\\downarrow}(R_i)$ with interaction strength $U_d$\n",
      "2. onsite interaction between $n_{p_x,\\uparrow}(R_i+\\hat{x}/2)$ and $n_{p_x,\\downarrow}(R_i+\\hat{x}/2)$ with interaction strength $U_p/2$\n",
      "3. onsite interaction between $n_{p_y,\\uparrow}(R_i+\\hat{y}/2)$ and $n_{p_y,\\downarrow}(R_i+\\hat{y}/2)$ with interaction strength $U_p/2$\n",
      "4. Nearest neighbor interaction between $n_{d,s}(R_i)$ and $n_{p_x,s^{\\prime}}(R_i+\\hat{x}/2)$ with interaction strength $V_{pd}$\n",
      "5. Nearest neighbor interaction between $n_{d,s}(R_i)$ and $n_{p_x,s^{\\prime}}(R_i-\\hat{x}/2)$ with interaction strength $V_{pd}$\n",
      "6. Nearest neighbor interaction between $n_{d,s}(R_i)$ and $n_{p_y,s^{\\prime}}(R_i+\\hat{y}/2)$ with interaction strength $V_{pd}$\n",
      "7. Nearest neighbor interaction between $n_{d,s}(R_i)$ and $n_{p_y,s^{\\prime}}(R_i-\\hat{y}/2)$ with interaction strength $V_{pd}$\n",
      "8. Nearest neighbor interaction between $n_{p_x,s}(R_i+\\hat{x}/2)$ and $n_{p_y,s^{\\prime}}(R_i+\\hat{y}/2)$ with interaction strength $V_{pp}$\n",
      "9. Nearest neighbor interaction between $n_{p_x,s}(R_i+\\hat{x}/2)$ and $n_{p_y,s^{\\prime}}(R_i-\\hat{y}/2)$ with interaction strength $V_{pp}$\n",
      "10. Nearest neighbor interaction between $n_{p_x,s}(R_i-\\hat{x}/2)$ and $n_{p_y,s^{\\prime}}(R_i+\\hat{y}/2)$ with interaction strength $V_{pp}$\n",
      "11. Nearest neighbor interaction between $n_{p_x,s}(R_i-\\hat{x}/2)$ and $n_{p_y,s^{\\prime}}(R_i-\\hat{y}/2)$ with interaction strength $V_{pp}$  \n",
      "where density operator $n_{\\alpha,s}(R_i) = c_{\\alpha,s}^\\dagger(R_i) c_{\\alpha,s}(R_i)$. \n",
      "The summation should be taken over all spin index (spin up and spin down), orbital index ($d$ orbital in Cu atom, $p_x$ orbital in O atom, and $p_y$ orbital in O atom) and all real space positions.  \n",
      "Return the interaction term $\\hat{H}^{int}$ in terms of $n_{\\alpha,s}(R_i)$.\n",
      "\n",
      "Use the following conventions for the symbols (You should also remember the conventions in my previous prompts if there are no conflicts. If you have conflicts in the conventions, you should stop and let me know): \n",
      "$s^{\\prime}$: spin index  \n",
      "$n_{\\alpha,s}(R_i)$: density of particle with orbital $\\alpha$ and spin $s$ at site $R_i$  \n",
      "$U_d$: onsite interaction strength of $d$ orbital  \n",
      "$U_p$: onsite interaction strength of $p_x$ orbital or $p_y$ orbital  \n",
      "$V_{pd}$: Nearest neighbor interaction strength between $p_x$ orbital and $d$ orbital or between $p_y$ orbital and $d$ orbital  \n",
      "$V_{pp}$: Nearest neighbor interaction strength between $p_x$ orbital and $p_y$ orbital\n"
     ]
    }
   ],
   "source": [
    "print_save(generate_prompt(kwargs,prompt_dict=prompt_dict())['content'])"
   ]
  },
  {
   "cell_type": "code",
   "execution_count": 22,
   "metadata": {},
   "outputs": [],
   "source": [
    "kwargs_list.append(kwargs)"
   ]
  },
  {
   "cell_type": "markdown",
   "metadata": {},
   "source": [
    "## Convert noninteracting Hamiltonian in real space to momentum space (lattice version)"
   ]
  },
  {
   "cell_type": "code",
   "execution_count": 23,
   "metadata": {},
   "outputs": [],
   "source": [
    "kwargs = {\n",
    "    'task':'Convert noninteracting Hamiltonian in real space to momentum space (lattice version)',\n",
    "    'nonint_symbol': r'$H_0$',\n",
    "    'real_creation_op': r'$c_{\\alpha,s}^\\dagger(R_i)$',\n",
    "    'momentum_creation_op': r'$c_{\\alpha,s}^\\dagger(k)$',\n",
    "    'def_FT': r'$c_{\\alpha,s}^\\dagger(k)= \\frac{1}{\\sqrt{N}} \\sum_i c_{\\alpha,s}^\\dagger(R_i) e^{i k \\cdot R_i}$',\n",
    "    'real_var': '$i$',\n",
    "    'Note that hopping have no position dependence now|None':r'Note that $t_{pp}$ and $t_{pd}$ have no position dependence now.',\n",
    "    'expression_nonint': r'''$H_0 = -t_{pd}\\sum_{R_i, s} ( c_{d,s}^\\dagger(R_i) c_{p_x,s}(R_i+\\hat{x}/2) + c_{p_x,s}^\\dagger(R_i+\\hat{x}/2) c_{d,s}(R_i) + c_{d,s}^\\dagger(R_i) c_{p_x,s}(R_i-\\hat{x}/2) + c_{p_x,s}^\\dagger(R_i-\\hat{x}/2) c_{d,s}(R_i)+ c_{d,s}^\\dagger(R_i) c_{p_y,s}(R_i+\\hat{y}/2) + c_{p_y,s}^\\dagger(R_i+\\hat{y}/2) c_{d,s}(R_i)+ c_{d,s}^\\dagger(R_i) c_{p_y,s}(R_i-\\hat{y}/2) + c_{p_y,s}^\\dagger(R_i-\\hat{y}/2) c_{d,s}(R_i) )-t_{pp}\\sum_{R_i, s} ( c_{p_x,s}^\\dagger(R_i+\\hat{x}/2) c_{p_y,s}(R_i+\\hat{y}/2) + c_{p_y,s}^\\dagger(R_i+\\hat{y}/2) c_{p_x,s}(R_i+\\hat{x}/2) + c_{p_x,s}^\\dagger(R_i+\\hat{x}/2) c_{p_y,s}(R_i-\\hat{y}/2) + c_{p_y,s}^\\dagger(R_i-\\hat{y}/2) c_{p_x,s}(R_i+\\hat{x}/2) + c_{p_x,s}^\\dagger(R_i-\\hat{x}/2) c_{p_y,s}(R_i+\\hat{y}/2) + c_{p_y,s}^\\dagger(R_i+\\hat{y}/2) c_{p_x,s}(R_i-\\hat{x}/2) + c_{p_x,s}^\\dagger(R_i-\\hat{x}/2) c_{p_y,s}(R_i-\\hat{y}/2) + c_{p_y,s}^\\dagger(R_i-\\hat{y}/2) c_{p_x,s}(R_i-\\hat{x}/2) )$''',\n",
    "    'def_var': r'''$c_{\\alpha,s}(k)$ : electron annihilation operator at momentum $k$, spin $s$ and orbital $\\alpha$\n",
    "$c_{\\alpha,s}^\\dagger(k)$ : electron creation operator at momentum $k$, spin $s$ and orbital $\\alpha$\n",
    "$N$ : number of the unit cells in the real space  ''',\n",
    "    'answer':r'''$$\n",
    "H_0 = -t_{pd}\\sum_{k, s} ( c_{d,s}^\\dagger(k) c_{p_x,s}(k) e^{i k_x /2} + c_{p_x,s}^\\dagger(k) c_{d,s}(k) e^{-i k_x /2}\n",
    "+ c_{d,s}^\\dagger(k) c_{p_x,s}(k) e^{-i k_x /2} + c_{p_x,s}^\\dagger(k) c_{d,s}(k) e^{i k_x /2}\n",
    "+ c_{d,s}^\\dagger(k) c_{p_y,s}(k) e^{i k_y /2} + c_{p_y,s}^\\dagger(k) c_{d,s}(k) e^{-i k_y /2}\n",
    "+ c_{d,s}^\\dagger(k) c_{p_y,s}(k) e^{-i k_y /2} + c_{p_y,s}^\\dagger(k) c_{d,s}(k) e^{i k_y /2} )\n",
    "-t_{pp}\\sum_{k, s} ( c_{p_x,s}^\\dagger(k) c_{p_y,s}(k) e^{i (k_x+k_y) /2} + c_{p_y,s}^\\dagger(k) c_{p_x,s}(k) e^{-i (k_x+k_y) /2} \n",
    "+ c_{p_x,s}^\\dagger(k) c_{p_y,s}(k) e^{i (k_x-k_y) /2} + c_{p_y,s}^\\dagger(k) c_{p_x,s}(k) e^{-i (k_x-k_y) /2} \n",
    "+ c_{p_x,s}^\\dagger(k) c_{p_y,s}(k) e^{i (-k_x+k_y) /2} + c_{p_y,s}^\\dagger(k) c_{p_x,s}(k) e^{-i (-k_x+k_y) /2} \n",
    "+ c_{p_x,s}^\\dagger(k) c_{p_y,s}(k) e^{i (-k_x-k_y) /2} + c_{p_y,s}^\\dagger(k) c_{p_x,s}(k) e^{-i (-k_x-k_y) /2} )\n",
    "$$''',\n",
    "'source': {'1106.6060.tex':[(221,267)]}\n",
    "}\n"
   ]
  },
  {
   "cell_type": "code",
   "execution_count": 24,
   "metadata": {},
   "outputs": [
    {
     "name": "stdout",
     "output_type": "stream",
     "text": [
      "You will be instructed to convert the noninteracting Hamiltonian $H_0$ in the second quantized form from the basis in real space to the basis in momentum space. \n",
      "To do that, you should apply the Fourier transformation to $c_{\\alpha,s}^\\dagger(R_i)$ in the real space to the $c_{\\alpha,s}^\\dagger(k)$ in the momentum space, which is defined as $c_{\\alpha,s}^\\dagger(k)= \\frac{1}{\\sqrt{N}} \\sum_i c_{\\alpha,s}^\\dagger(R_i) e^{i k \\cdot R_i}$, where $i$ is integrated over all sites in the entire real space. You should follow the EXAMPLE below to apply the Fourier transformation. Note that $t_{pp}$ and $t_{pd}$ have no position dependence now.\n",
      "You should recall that $H_0 = -t_{pd}\\sum_{R_i, s} ( c_{d,s}^\\dagger(R_i) c_{p_x,s}(R_i+\\hat{x}/2) + c_{p_x,s}^\\dagger(R_i+\\hat{x}/2) c_{d,s}(R_i) + c_{d,s}^\\dagger(R_i) c_{p_x,s}(R_i-\\hat{x}/2) + c_{p_x,s}^\\dagger(R_i-\\hat{x}/2) c_{d,s}(R_i)+ c_{d,s}^\\dagger(R_i) c_{p_y,s}(R_i+\\hat{y}/2) + c_{p_y,s}^\\dagger(R_i+\\hat{y}/2) c_{d,s}(R_i)+ c_{d,s}^\\dagger(R_i) c_{p_y,s}(R_i-\\hat{y}/2) + c_{p_y,s}^\\dagger(R_i-\\hat{y}/2) c_{d,s}(R_i) )-t_{pp}\\sum_{R_i, s} ( c_{p_x,s}^\\dagger(R_i+\\hat{x}/2) c_{p_y,s}(R_i+\\hat{y}/2) + c_{p_y,s}^\\dagger(R_i+\\hat{y}/2) c_{p_x,s}(R_i+\\hat{x}/2) + c_{p_x,s}^\\dagger(R_i+\\hat{x}/2) c_{p_y,s}(R_i-\\hat{y}/2) + c_{p_y,s}^\\dagger(R_i-\\hat{y}/2) c_{p_x,s}(R_i+\\hat{x}/2) + c_{p_x,s}^\\dagger(R_i-\\hat{x}/2) c_{p_y,s}(R_i+\\hat{y}/2) + c_{p_y,s}^\\dagger(R_i+\\hat{y}/2) c_{p_x,s}(R_i-\\hat{x}/2) + c_{p_x,s}^\\dagger(R_i-\\hat{x}/2) c_{p_y,s}(R_i-\\hat{y}/2) + c_{p_y,s}^\\dagger(R_i-\\hat{y}/2) c_{p_x,s}(R_i-\\hat{x}/2) )$\n",
      "Express the total noninteracting Hamiltonian $H_0$ in terms of $c_{\\alpha,s}^\\dagger(k)$. Simplify any summation index if possible.\n",
      "\n",
      "Use the following conventions for the symbols (You should also obey the conventions in all my previous prompts if you encounter undefined symbols. If you find it is never defined or has conflicts in the conventions, you should stop and let me know):\n",
      "$c_{\\alpha,s}(k)$ : electron annihilation operator at momentum $k$, spin $s$ and orbital $\\alpha$\n",
      "$c_{\\alpha,s}^\\dagger(k)$ : electron creation operator at momentum $k$, spin $s$ and orbital $\\alpha$\n",
      "$N$ : number of the unit cells in the real space  \n",
      "\n",
      "===\n",
      "EXAMPLE:  \n",
      "Write a Kinetic Hamiltonian $\\hat{H}$ in the second quantized form in the real space, $\\hat{H}=\\sum_{i,j} t(R_i-R_j) c^\\dagger(R_i) c(R_j)$, where $i,j$ are summed over the entire real space.  \n",
      "Define the Fourier transformation $c^\\dagger(k)=\\frac{1}{\\sqrt{N}} \\sum_{i}c^\\dagger(R_i) e^{i k \\cdot R_i}$, where $i$ is integrated over the entire real space containing $N$ unit cells, $N$ is the number of unit cells.  \n",
      "This leads to the inverse Fourier transformation $c^\\dagger(R_i) = \\frac{1}{\\sqrt{N}} \\sum_k c^\\dagger(k) e^{-i k \\cdot R_i}$, where $k$ is first Brillouin zone.  \n",
      "Thus, substitute $c^\\dagger(R_i)$ and $c(R_j)$ into $\\hat{H}$, we get  \n",
      "$$\\hat{H} = \\sum_{i,j} t(R_i-R_j) \\frac{1}{\\sqrt{N}} \\sum_{k_1} c^\\dagger(k_1) e^{-i k_1 \\cdot R_i} \\frac{1}{\\sqrt{N}} \\sum_{k_2} c(k_2) e^{i k_2 \\cdot R_j} =\\frac{1}{N} \\sum_{i,j}\\sum_{k_1,k_2} c^\\dagger(k_1)  c(k_2)  e^{-i k_1\\cdot R_i} e^{i k_2 \\cdot R_j} t(R_i-R_j) $$\n",
      "Now make a replacement by defining $n= R_i-R_j$  \n",
      "The Hamiltonian become  \n",
      "$$\\hat{H}=\\frac{1}{N} \\sum_{i,n} \\sum_{k_1,k_2} c^\\dagger(k_1)  c(k_2) t(n) e^{-i (k_1-k_2)\\cdot R_i} e^{-i k_2 \\cdot n}$$\n",
      "Because $\\frac{1}{N}\\sum_{i} e^{-i (k_1-k_2)\\cdot R_i} = \\delta(k_1,k_2)$, where $\\delta(k_1,k_2)$ is the Kronecker delta function.  \n",
      "therefore   \n",
      "$$\\hat{H}=\\sum_{k_1,k_2} \\sum_{n} t(n) e^{-i k_2 \\cdot n} c^\\dagger(k_1)  c(k_2) \\delta(k_1,k_2)$$\n",
      "Using the property of Kronecker delta function and sum over $k_2$, we obtain  \n",
      "$$\\hat{H}=\\sum_{k_1} \\sum_{n} t(n) e^{-i k_1 \\cdot n} c^\\dagger(k_1)  c(k_1) $$\n",
      "For simplicity, we replace $k_1$ with $k$, we obtain  \n",
      "$$\\hat{H}=\\sum_{k} \\sum_{n} t(n) e^{-i k \\cdot n} c^\\dagger(k)  c(k)$$\n",
      "If we define energy dispersion $E(k)=\\sum_{n} t(n) e^{-i k \\cdot n}$, where $n$ is the summation of all hopping pairs, the Hamiltonian in the momentum space is \n",
      "$$\\hat{H}=\\sum_{k} E(k) c^\\dagger(k)  c(k)$$\n"
     ]
    }
   ],
   "source": [
    "print_save(generate_prompt(kwargs,prompt_dict=prompt_dict())['content'])"
   ]
  },
  {
   "cell_type": "code",
   "execution_count": 25,
   "metadata": {},
   "outputs": [],
   "source": [
    "kwargs_list.append(kwargs)"
   ]
  },
  {
   "cell_type": "markdown",
   "metadata": {},
   "source": [
    "## Mathematical simplify: inner product expansion"
   ]
  },
  {
   "cell_type": "code",
   "execution_count": 26,
   "metadata": {},
   "outputs": [],
   "source": [
    "kwargs = {\n",
    "    'task':'Mathematical simplify: inner product expansion',\n",
    "    'symbol': r'$H_0$',\n",
    "    'expression_symbol': r'$H_0 = -t_{pd} \\sum_{k,s}  (e^{i k \\cdot \\hat{x}/2} c_{d,s}^\\dagger(k) c_{p_x,s}(k) + e^{-i k \\cdot \\hat{x}/2} c_{p_x,s}^\\dagger(k) c_{d,s}(k)+ e^{-i k \\cdot \\hat{x}/2} c_{d,s}^\\dagger(k) c_{p_x,s}(k) + e^{i k \\cdot \\hat{x}/2} c_{p_x,s}^\\dagger(k) c_{d,s}(k) + e^{i k \\cdot \\hat{y}/2} c_{d,s}^\\dagger(k) c_{p_y,s}(k) + e^{-i k \\cdot \\hat{y}/2} c_{p_y,s}^\\dagger(k) c_{d,s}(k)+ e^{-i k \\cdot \\hat{y}/2} c_{d,s}^\\dagger(k) c_{p_y,s}(k) + e^{i k \\cdot \\hat{y}/2} c_{p_y,s}^\\dagger(k) c_{d,s}(k)) - t_{pp} \\sum_{k,s}  (e^{i k \\cdot (\\hat{x}+\\hat{y})/2} c_{p_x,s}^\\dagger(k) c_{p_y,s}(k) + e^{-i k \\cdot (\\hat{x}+\\hat{y})/2} c_{p_y,s}^\\dagger(k) c_{p_x,s}(k) + e^{i k \\cdot (\\hat{x}-\\hat{y})/2} c_{p_x,s}^\\dagger(k) c_{p_y,s}(k) + e^{-i k \\cdot (\\hat{x}-\\hat{y})/2} c_{p_y,s}^\\dagger(k) c_{p_x,s}(k)+ e^{i k \\cdot (-\\hat{x}+\\hat{y})/2} c_{p_x,s}^\\dagger(k) c_{p_y,s}(k) + e^{-i k \\cdot (-\\hat{x}+\\hat{y})/2} c_{p_y,s}^\\dagger(k) c_{p_x,s}(k)+ e^{i k \\cdot (-\\hat{x}-\\hat{y})/2} c_{p_x,s}^\\dagger(k) c_{p_y,s}(k) + e^{-i k \\cdot (-\\hat{x}-\\hat{y})/2} c_{p_y,s}^\\dagger(k) c_{p_x,s}(k))$',\n",
    "    'answer':r'''$H_0 = -t_{pd} \\sum_{k,s}  (e^{i k_x/2} c_{d,s}^\\dagger(k) c_{p_x,s}(k) + e^{-i k_x/2} c_{p_x,s}^\\dagger(k) c_{d,s}(k)+ e^{-i k_x/2} c_{d,s}^\\dagger(k) c_{p_x,s}(k) + e^{i k_x/2} c_{p_x,s}^\\dagger(k) c_{d,s}(k) + e^{i k_y/2} c_{d,s}^\\dagger(k) c_{p_y,s}(k) + e^{-i k_y/2} c_{p_y,s}^\\dagger(k) c_{d,s}(k)+ e^{-i k_y/2} c_{d,s}^\\dagger(k) c_{p_y,s}(k) + e^{i k_y/2} c_{p_y,s}^\\dagger(k) c_{d,s}(k))- t_{pp} \\sum_{k,s}  (e^{i (k_x+k_y)/2} c_{p_x,s}^\\dagger(k) c_{p_y,s}(k) + e^{-i (k_x+k_y)/2} c_{p_y,s}^\\dagger(k) c_{p_x,s}(k) + e^{i (k_x-k_y)/2} c_{p_x,s}^\\dagger(k) c_{p_y,s}(k) + e^{-i (k_x-k_y)/2} c_{p_y,s}^\\dagger(k) c_{p_x,s}(k)+ e^{i (-k_x+k_y)/2} c_{p_x,s}^\\dagger(k) c_{p_y,s}(k) + e^{-i (-k_x+k_y)/2} c_{p_y,s}^\\dagger(k) c_{p_x,s}(k)+ e^{i (-k_x-k_y)/2} c_{p_x,s}^\\dagger(k) c_{p_y,s}(k) + e^{-i (-k_x-k_y)/2} c_{p_y,s}^\\dagger(k) c_{p_x,s}(k))$''',\n",
    "'source': {}\n",
    "}\n"
   ]
  },
  {
   "cell_type": "code",
   "execution_count": 27,
   "metadata": {},
   "outputs": [
    {
     "name": "stdout",
     "output_type": "stream",
     "text": [
      "You will be instructed to simplify $H_0$ by using $k\\cdot \\hat{x}=k_x$ and $k\\cdot \\hat{y}=k_y$ only.  \n",
      "You should recall that $H_0 = -t_{pd} \\sum_{k,s}  (e^{i k \\cdot \\hat{x}/2} c_{d,s}^\\dagger(k) c_{p_x,s}(k) + e^{-i k \\cdot \\hat{x}/2} c_{p_x,s}^\\dagger(k) c_{d,s}(k)+ e^{-i k \\cdot \\hat{x}/2} c_{d,s}^\\dagger(k) c_{p_x,s}(k) + e^{i k \\cdot \\hat{x}/2} c_{p_x,s}^\\dagger(k) c_{d,s}(k) + e^{i k \\cdot \\hat{y}/2} c_{d,s}^\\dagger(k) c_{p_y,s}(k) + e^{-i k \\cdot \\hat{y}/2} c_{p_y,s}^\\dagger(k) c_{d,s}(k)+ e^{-i k \\cdot \\hat{y}/2} c_{d,s}^\\dagger(k) c_{p_y,s}(k) + e^{i k \\cdot \\hat{y}/2} c_{p_y,s}^\\dagger(k) c_{d,s}(k)) - t_{pp} \\sum_{k,s}  (e^{i k \\cdot (\\hat{x}+\\hat{y})/2} c_{p_x,s}^\\dagger(k) c_{p_y,s}(k) + e^{-i k \\cdot (\\hat{x}+\\hat{y})/2} c_{p_y,s}^\\dagger(k) c_{p_x,s}(k) + e^{i k \\cdot (\\hat{x}-\\hat{y})/2} c_{p_x,s}^\\dagger(k) c_{p_y,s}(k) + e^{-i k \\cdot (\\hat{x}-\\hat{y})/2} c_{p_y,s}^\\dagger(k) c_{p_x,s}(k)+ e^{i k \\cdot (-\\hat{x}+\\hat{y})/2} c_{p_x,s}^\\dagger(k) c_{p_y,s}(k) + e^{-i k \\cdot (-\\hat{x}+\\hat{y})/2} c_{p_y,s}^\\dagger(k) c_{p_x,s}(k)+ e^{i k \\cdot (-\\hat{x}-\\hat{y})/2} c_{p_x,s}^\\dagger(k) c_{p_y,s}(k) + e^{-i k \\cdot (-\\hat{x}-\\hat{y})/2} c_{p_y,s}^\\dagger(k) c_{p_x,s}(k))$.  \n",
      "Return the simplified $H_0$.\n"
     ]
    }
   ],
   "source": [
    "print_save(generate_prompt(kwargs,prompt_dict=prompt_dict())['content'])"
   ]
  },
  {
   "cell_type": "code",
   "execution_count": 28,
   "metadata": {},
   "outputs": [],
   "source": [
    "kwargs_list.append(kwargs)"
   ]
  },
  {
   "cell_type": "markdown",
   "metadata": {},
   "source": [
    "## Mathematical simplify: Euler's formula"
   ]
  },
  {
   "cell_type": "code",
   "execution_count": 29,
   "metadata": {},
   "outputs": [],
   "source": [
    "kwargs = {\n",
    "    'task':\"Mathematical simplify: Euler's formula\",\n",
    "    'symbol': r'$H_0$',\n",
    "    'expression_symbol': r'$H_0 = -t_{pd} \\sum_{k,s}  (e^{i k_x/2} c_{d,s}^\\dagger(k) c_{p_x,s}(k) + e^{-i k_x/2} c_{p_x,s}^\\dagger(k) c_{d,s}(k)+ e^{-i k_x/2} c_{d,s}^\\dagger(k) c_{p_x,s}(k) + e^{i k_x/2} c_{p_x,s}^\\dagger(k) c_{d,s}(k) + e^{i k_y/2} c_{d,s}^\\dagger(k) c_{p_y,s}(k) + e^{-i k_y/2} c_{p_y,s}^\\dagger(k) c_{d,s}(k)+ e^{-i k_y/2} c_{d,s}^\\dagger(k) c_{p_y,s}(k) + e^{i k_y/2} c_{p_y,s}^\\dagger(k) c_{d,s}(k))- t_{pp} \\sum_{k,s}  (e^{i (k_x+k_y)/2} c_{p_x,s}^\\dagger(k) c_{p_y,s}(k) + e^{-i (k_x+k_y)/2} c_{p_y,s}^\\dagger(k) c_{p_x,s}(k) + e^{i (k_x-k_y)/2} c_{p_x,s}^\\dagger(k) c_{p_y,s}(k) + e^{-i (k_x-k_y)/2} c_{p_y,s}^\\dagger(k) c_{p_x,s}(k)+ e^{i (-k_x+k_y)/2} c_{p_x,s}^\\dagger(k) c_{p_y,s}(k) + e^{-i (-k_x+k_y)/2} c_{p_y,s}^\\dagger(k) c_{p_x,s}(k)+ e^{i (-k_x-k_y)/2} c_{p_x,s}^\\dagger(k) c_{p_y,s}(k) + e^{-i (-k_x-k_y)/2} c_{p_y,s}^\\dagger(k) c_{p_x,s}(k))$',\n",
    "    'answer':r'''$H_0 = -2 t_{pd}\\sum_{k, s} ( c_{d,s}^\\dagger(k) c_{p_x,s}(k) \\cos(k_x /2) + c_{p_x,s}^\\dagger(k) c_{d,s}(k) \\cos(k_x /2) + c_{d,s}^\\dagger(k) c_{p_y,s}(k) \\cos(k_y /2) + c_{p_y,s}^\\dagger(k) c_{d,s}(k) \\cos(k_y /2) )-2 t_{pp}\\sum_{k, s} ( c_{p_x,s}^\\dagger(k) c_{p_y,s}(k) \\cos((k_x+k_y) /2) + c_{p_y,s}^\\dagger(k) c_{p_x,s}(k) \\cos((k_x+k_y) /2)+ c_{p_x,s}^\\dagger(k) c_{p_y,s}(k) \\cos((k_x-k_y) /2) + c_{p_y,s}^\\dagger(k) c_{p_x,s}(k) \\cos((k_x-k_y) /2) )$''',\n",
    "'source': {}\n",
    "}\n"
   ]
  },
  {
   "cell_type": "code",
   "execution_count": 30,
   "metadata": {},
   "outputs": [
    {
     "name": "stdout",
     "output_type": "stream",
     "text": [
      "You will be instructed to simplify $H_0$ by converting the exponential to the trigonometrical functions using Euler's formula only. You should also apply basic trigonometrical function simplification afterwards if possible. \n",
      "You should recall that $H_0 = -t_{pd} \\sum_{k,s}  (e^{i k_x/2} c_{d,s}^\\dagger(k) c_{p_x,s}(k) + e^{-i k_x/2} c_{p_x,s}^\\dagger(k) c_{d,s}(k)+ e^{-i k_x/2} c_{d,s}^\\dagger(k) c_{p_x,s}(k) + e^{i k_x/2} c_{p_x,s}^\\dagger(k) c_{d,s}(k) + e^{i k_y/2} c_{d,s}^\\dagger(k) c_{p_y,s}(k) + e^{-i k_y/2} c_{p_y,s}^\\dagger(k) c_{d,s}(k)+ e^{-i k_y/2} c_{d,s}^\\dagger(k) c_{p_y,s}(k) + e^{i k_y/2} c_{p_y,s}^\\dagger(k) c_{d,s}(k))- t_{pp} \\sum_{k,s}  (e^{i (k_x+k_y)/2} c_{p_x,s}^\\dagger(k) c_{p_y,s}(k) + e^{-i (k_x+k_y)/2} c_{p_y,s}^\\dagger(k) c_{p_x,s}(k) + e^{i (k_x-k_y)/2} c_{p_x,s}^\\dagger(k) c_{p_y,s}(k) + e^{-i (k_x-k_y)/2} c_{p_y,s}^\\dagger(k) c_{p_x,s}(k)+ e^{i (-k_x+k_y)/2} c_{p_x,s}^\\dagger(k) c_{p_y,s}(k) + e^{-i (-k_x+k_y)/2} c_{p_y,s}^\\dagger(k) c_{p_x,s}(k)+ e^{i (-k_x-k_y)/2} c_{p_x,s}^\\dagger(k) c_{p_y,s}(k) + e^{-i (-k_x-k_y)/2} c_{p_y,s}^\\dagger(k) c_{p_x,s}(k))$.  \n",
      "Return the simplified $H_0$.\n"
     ]
    }
   ],
   "source": [
    "print_save(generate_prompt(kwargs,prompt_dict=prompt_dict())['content'])"
   ]
  },
  {
   "cell_type": "code",
   "execution_count": 31,
   "metadata": {},
   "outputs": [],
   "source": [
    "kwargs_list.append(kwargs)"
   ]
  },
  {
   "cell_type": "markdown",
   "metadata": {},
   "source": [
    "## Mathematical simplify: prosthaphaeresis"
   ]
  },
  {
   "cell_type": "code",
   "execution_count": 32,
   "metadata": {},
   "outputs": [],
   "source": [
    "kwargs = {\n",
    "    'task':\"Mathematical simplify: prosthaphaeresis\",\n",
    "    'symbol': r'$H_0$',\n",
    "    'expression_symbol': r'$H_0 = -2 t_{pd}\\sum_{k, s} ( c_{d,s}^\\dagger(k) c_{p_x,s}(k) \\cos(k_x /2) + c_{p_x,s}^\\dagger(k) c_{d,s}(k) \\cos(k_x /2) + c_{d,s}^\\dagger(k) c_{p_y,s}(k) \\cos(k_y /2) + c_{p_y,s}^\\dagger(k) c_{d,s}(k) \\cos(k_y /2) )-2 t_{pp}\\sum_{k, s} ( c_{p_x,s}^\\dagger(k) c_{p_y,s}(k) \\cos((k_x+k_y) /2) + c_{p_y,s}^\\dagger(k) c_{p_x,s}(k) \\cos((k_x+k_y) /2)+ c_{p_x,s}^\\dagger(k) c_{p_y,s}(k) \\cos((k_x-k_y) /2) + c_{p_y,s}^\\dagger(k) c_{p_x,s}(k) \\cos((k_x-k_y) /2) )$',\n",
    "    'answer':r'''$$\n",
    "H_0 = -2 t_{pd}\\sum_{k, s} ( c_{d,s}^\\dagger(k) c_{p_x,s}(k) \\cos(k_x /2) + c_{p_x,s}^\\dagger(k) c_{d,s}(k) \\cos(k_x /2) + c_{d,s}^\\dagger(k) c_{p_y,s}(k) \\cos(k_y /2) + c_{p_y,s}^\\dagger(k) c_{d,s}(k) \\cos(k_y /2) )-4 t_{pp}\\sum_{k, s} ( c_{p_x,s}^\\dagger(k) c_{p_y,s}(k) \\cos(k_x/2) \\cos(k_y/2) + c_{p_y,s}^\\dagger(k) c_{p_x,s}(k) \\cos(k_x/2) \\cos(k_y/2))\n",
    "$$''',\n",
    "'source': {}\n",
    "}\n"
   ]
  },
  {
   "cell_type": "code",
   "execution_count": 33,
   "metadata": {},
   "outputs": [
    {
     "name": "stdout",
     "output_type": "stream",
     "text": [
      "You will be instructed to simplify $H_0$ by reducing trigonometrical functions using prosthaphaeresis.  \n",
      "You should recall that $H_0 = -2 t_{pd}\\sum_{k, s} ( c_{d,s}^\\dagger(k) c_{p_x,s}(k) \\cos(k_x /2) + c_{p_x,s}^\\dagger(k) c_{d,s}(k) \\cos(k_x /2) + c_{d,s}^\\dagger(k) c_{p_y,s}(k) \\cos(k_y /2) + c_{p_y,s}^\\dagger(k) c_{d,s}(k) \\cos(k_y /2) )-2 t_{pp}\\sum_{k, s} ( c_{p_x,s}^\\dagger(k) c_{p_y,s}(k) \\cos((k_x+k_y) /2) + c_{p_y,s}^\\dagger(k) c_{p_x,s}(k) \\cos((k_x+k_y) /2)+ c_{p_x,s}^\\dagger(k) c_{p_y,s}(k) \\cos((k_x-k_y) /2) + c_{p_y,s}^\\dagger(k) c_{p_x,s}(k) \\cos((k_x-k_y) /2) )$.  \n",
      "Return the simplified $H_0$.\n"
     ]
    }
   ],
   "source": [
    "print_save(generate_prompt(kwargs,prompt_dict=prompt_dict())['content'])"
   ]
  },
  {
   "cell_type": "code",
   "execution_count": 34,
   "metadata": {},
   "outputs": [],
   "source": [
    "kwargs_list.append(kwargs)"
   ]
  },
  {
   "cell_type": "markdown",
   "metadata": {},
   "source": [
    "## Convert interacting Hamiltonian in real space to momentum space (lattice version) [first term]"
   ]
  },
  {
   "cell_type": "code",
   "execution_count": 35,
   "metadata": {},
   "outputs": [],
   "source": [
    "kwargs = {\n",
    "    'task':'Convert interacting Hamiltonian in real space to momentum space (lattice version)',\n",
    "    'second_int_symbol':  r'the first term in $\\hat{H}^{int}$',\n",
    "    'single-particle|second-quantized': r'second-quantized',\n",
    "    'real_creation_op': r'$c_{\\alpha,s}^\\dagger(R_i)$',\n",
    "    'momentum_creation_op': r'$c_{\\alpha,s}^\\dagger(k)$',\n",
    "    'def_FT': r'$c_{\\alpha,s}^\\dagger(k)= \\frac{1}{\\sqrt{N}} \\sum_i c_{\\alpha,s}^\\dagger(R_i) e^{i k \\cdot R_i}$',\n",
    "    'real_var': '$i$',\n",
    "    'momentum_var': '$k$',\n",
    "    'Note that interaction have no position dependence now|None':'Note that interaction have no position dependence',\n",
    "    'expression_int':r'''$U_d \\sum_{R_i} n_{d,\\uparrow}(R_i) n_{d,\\downarrow}(R_i)$''',\n",
    "    'momentum_creation_op': r'$c_{\\alpha,s}^\\dagger(k)$',\n",
    "    'answer':r'''$\\frac{U_d}{N}\\sum_{k_1,k_2,k_3,k_4} c_{d,\\uparrow}^\\dagger(k_1)c_{d,\\uparrow}(k_2)c_{d,\\downarrow}^\\dagger(k_3)c_{d,\\downarrow}(k_4) \\sum_{G} \\delta(k_1-k_2+k_3-k_4,G)$''',\n",
    "'source': {'1106.6060.tex':[(221,267)]}\n",
    "}\n"
   ]
  },
  {
   "cell_type": "code",
   "execution_count": 36,
   "metadata": {},
   "outputs": [
    {
     "name": "stdout",
     "output_type": "stream",
     "text": [
      "You will be instructed to convert the interacting Hamiltonian, the first term in $\\hat{H}^{int}$, in the second-quantized form the basis in real space to the basis in momentum space.\n",
      "To do that, you should apply the Fourier transformation to $c_{\\alpha,s}^\\dagger(R_i)$ in the real space to the $c_{\\alpha,s}^\\dagger(k)$ in the momentum space, which is defined as $c_{\\alpha,s}^\\dagger(k)= \\frac{1}{\\sqrt{N}} \\sum_i c_{\\alpha,s}^\\dagger(R_i) e^{i k \\cdot R_i}$, where $i$ is integrated over all sites in the entire real space, and $k$ is defined within the first Brillouin zone. You should follow the EXAMPLE below to apply the Fourier transformation. Note that interaction have no position dependence\n",
      "You should recall that the first term in $\\hat{H}^{int}$ is $U_d \\sum_{R_i} n_{d,\\uparrow}(R_i) n_{d,\\downarrow}(R_i)$.\n",
      "Express the first term in $\\hat{H}^{int}$ in terms of $c_{\\alpha,s}^\\dagger(k)$. Simplify any summation index if possible.  \n",
      "\n",
      "===  \n",
      "EXAMPLE:  \n",
      "Write an interacting Hamiltonian $\\hat{H}^{int}$ in the second quantized form in the real space, $\\hat{H}^{int}=\\sum_{s,s'}\\sum_{i,j} U(R_i-R_j) c_s^\\dagger(R_i) c_{s'}^\\dagger(R_j) c_{s'}(R_j) c_s(R_i)$, where $i,j$ are summed over the entire real space.  \n",
      "Define the Fourier transformation $c_s^\\dagger(k)=\\frac{1}{\\sqrt{N}} \\sum_{i}c_s^\\dagger(R_i) e^{i k \\cdot R_i}$, where $i$ is integrated over the entire real space containing $N$ unit cells, $N$ is the number of unit cells.  \n",
      "This leads to the inverse Fourier transformation $c_s^\\dagger(R_i) = \\frac{1}{\\sqrt{N}} \\sum_k c_s^\\dagger(k) e^{-i k \\cdot R_i}$, where $k$ is summed over the first Brillouin zone.  \n",
      "Thus, substitute $c^\\dagger(R_i)$ and $c(R_j)$ into $\\hat{H}^{int}$, we get  \n",
      "$$\\hat{H}^{int} = \\sum_{s,s'}\\sum_{i,j} U(R_i-R_j) \\frac{1}{\\sqrt{N}} \\sum_{k_1} c_s^\\dagger(k_1) e^{-i k_1 \\cdot R_i} \\frac{1}{\\sqrt{N}} \\sum_{k_2} c_{s'}^\\dagger(k_2) e^{-i k_2 \\cdot R_j} \\frac{1}{\\sqrt{N}} \\sum_{k_3} c_{s'}(k_3) e^{i k_3 \\cdot R_j} \\frac{1}{\\sqrt{N}} \\sum_{k_4} c_s(k_4) e^{i k_4 \\cdot R_i}=\\sum_{s,s'}\\sum_{i,j}\\frac{1}{N^2}\\sum_{k_1,k_2,k_3,k_4}U(R_i-R_j)c_s^\\dagger(k_1)c_{s'}^\\dagger(k_2)c_{s'}(k_3)c_s(k_4)e^{-i(k_1-k_4)\\cdot R_i} e^{-i(k_2-k_3)\\cdot R_j}$$\n",
      "Now make a replacement by defining $n= R_i-R_j$  \n",
      "The Hamiltonian become  \n",
      "$$\\hat{H}^{int}=\\frac{1}{N^2} \\sum_{j,n} \\sum_{s,s'} \\sum_{k_1,k_2,k_3,k_4} U(n) c_s^\\dagger(k_1)c_{s'}^\\dagger(k_2)c_{s'}(k_3)c_s(k_4)e^{-i(k_1-k_4)\\cdot n} e^{-i(k_1-k_4+k_2-k_3)\\cdot r_j }$$\n",
      "Because $\\frac{1}{N}\\sum_{i} e^{-i (k_1-k_4+k_2-k_3)\\cdot R_i} = \\sum\\delta(k_1-k_4+k_2-k_3,G)$, where $\\delta(..,..)$ is the Kronecker delta function, and $G$ is the all reciprocal lattices in the momentum space.  \n",
      "Therefore,  \n",
      "$$\\hat{H}^{int}=\\frac{1}{N}\\sum_{s,s'}\\sum_{k_1,k_2,k_3,k_4} \\sum_{n} U(n) e^{-i (k_1-k_4) \\cdot n} c_s^\\dagger(k_1)c_{s'}^\\dagger(k_2)c_{s'}(k_3)c_s(k_4) \\sum_{G} \\delta(k_1-k_4+k_2-k_3,G)$$\n",
      "If we define interaction in the momentum space $U(k)=\\sum_{n} U(n) e^{-i k \\cdot n}$, where $n$ is the summation of all hopping pairs, the interacting Hamiltonian in the momentum space is  \n",
      "$$\\hat{H}^{int}=\\frac{1}{N}\\sum_{s,s'}\\sum_{k_1,k_2,k_3,k_4}  U(k_1-k_4) c_s^\\dagger(k_1)c_{s'}^\\dagger(k_2)c_{s'}(k_3)c_s(k_4) \\sum_{G} \\delta(k_1-k_4+k_2-k_3,G)$$\n"
     ]
    }
   ],
   "source": [
    "print_save(generate_prompt(kwargs,prompt_dict=prompt_dict())['content'])"
   ]
  },
  {
   "cell_type": "code",
   "execution_count": 37,
   "metadata": {},
   "outputs": [],
   "source": [
    "kwargs_list.append(kwargs)"
   ]
  },
  {
   "cell_type": "markdown",
   "metadata": {},
   "source": [
    "## Convert interacting Hamiltonian in real space to momentum space (lattice version) [second term]"
   ]
  },
  {
   "cell_type": "code",
   "execution_count": 38,
   "metadata": {},
   "outputs": [],
   "source": [
    "kwargs = {\n",
    "    'task':'Convert interacting Hamiltonian in real space to momentum space (lattice version)',\n",
    "    'second_int_symbol':  r'the second term in $\\hat{H}^{int}$',\n",
    "    'single-particle|second-quantized': r'second-quantized',\n",
    "    'real_creation_op': r'$c_{\\alpha,s}^\\dagger(R_i)$',\n",
    "    'momentum_creation_op': r'$c_{\\alpha,s}^\\dagger(k)$',\n",
    "    'def_FT': r'$c_{\\alpha,s}^\\dagger(k)= \\frac{1}{\\sqrt{N}} \\sum_i c_{\\alpha,s}^\\dagger(R_i) e^{i k \\cdot R_i}$',\n",
    "    'real_var': '$i$',\n",
    "    'momentum_var': '$k$',\n",
    "    'Note that interaction have no position dependence now|None':'Note that interaction have no position dependence',\n",
    "    'expression_int':r'''$\\frac{U_p}{2} \\sum_{R_i} [n_{p_x,\\uparrow}(R_i+\\hat{x}/2) n_{p_x,\\downarrow}(R_i+\\hat{x}/2) + n_{p_y,\\uparrow}(R_i+\\hat{y}/2) n_{p_y,\\downarrow}(R_i+\\hat{y}/2)]$''',\n",
    "    'momentum_creation_op': r'$c_{\\alpha,s}^\\dagger(k)$',\n",
    "    'answer':r'''$\\hat{H}_{int}^{(2)} = \\frac{U_p}{2N} \\sum_{k_1,k_2,k_3,k_4} \\{c_{p_x,\\uparrow}^\\dagger(k_1) c_{p_x,\\uparrow}(k_2) c_{p_x,\\downarrow}^\\dagger(k_3) c_{p_x,\\downarrow}(k_4) \\sum_{G} \\delta(k_1-k_2+k_3-k_4,G) + c_{p_y,\\uparrow}^\\dagger(k_1) c_{p_y,\\uparrow}(k_2) c_{p_y,\\downarrow}^\\dagger(k_3) c_{p_y,\\downarrow}(k_4) \\sum_{G} \\delta(k_1-k_2+k_3-k_4,G) \\}.$''',\n",
    "'source': {'1106.6060.tex':[(221,267)]}\n",
    "}\n"
   ]
  },
  {
   "cell_type": "code",
   "execution_count": 39,
   "metadata": {},
   "outputs": [
    {
     "name": "stdout",
     "output_type": "stream",
     "text": [
      "You will be instructed to convert the interacting Hamiltonian, the second term in $\\hat{H}^{int}$, in the second-quantized form the basis in real space to the basis in momentum space.\n",
      "To do that, you should apply the Fourier transformation to $c_{\\alpha,s}^\\dagger(R_i)$ in the real space to the $c_{\\alpha,s}^\\dagger(k)$ in the momentum space, which is defined as $c_{\\alpha,s}^\\dagger(k)= \\frac{1}{\\sqrt{N}} \\sum_i c_{\\alpha,s}^\\dagger(R_i) e^{i k \\cdot R_i}$, where $i$ is integrated over all sites in the entire real space, and $k$ is defined within the first Brillouin zone. You should follow the EXAMPLE below to apply the Fourier transformation. Note that interaction have no position dependence\n",
      "You should recall that the second term in $\\hat{H}^{int}$ is $\\frac{U_p}{2} \\sum_{R_i} [n_{p_x,\\uparrow}(R_i+\\hat{x}/2) n_{p_x,\\downarrow}(R_i+\\hat{x}/2) + n_{p_y,\\uparrow}(R_i+\\hat{y}/2) n_{p_y,\\downarrow}(R_i+\\hat{y}/2)]$.\n",
      "Express the second term in $\\hat{H}^{int}$ in terms of $c_{\\alpha,s}^\\dagger(k)$. Simplify any summation index if possible.  \n",
      "\n",
      "===  \n",
      "EXAMPLE:  \n",
      "Write an interacting Hamiltonian $\\hat{H}^{int}$ in the second quantized form in the real space, $\\hat{H}^{int}=\\sum_{s,s'}\\sum_{i,j} U(R_i-R_j) c_s^\\dagger(R_i) c_{s'}^\\dagger(R_j) c_{s'}(R_j) c_s(R_i)$, where $i,j$ are summed over the entire real space.  \n",
      "Define the Fourier transformation $c_s^\\dagger(k)=\\frac{1}{\\sqrt{N}} \\sum_{i}c_s^\\dagger(R_i) e^{i k \\cdot R_i}$, where $i$ is integrated over the entire real space containing $N$ unit cells, $N$ is the number of unit cells.  \n",
      "This leads to the inverse Fourier transformation $c_s^\\dagger(R_i) = \\frac{1}{\\sqrt{N}} \\sum_k c_s^\\dagger(k) e^{-i k \\cdot R_i}$, where $k$ is summed over the first Brillouin zone.  \n",
      "Thus, substitute $c^\\dagger(R_i)$ and $c(R_j)$ into $\\hat{H}^{int}$, we get  \n",
      "$$\\hat{H}^{int} = \\sum_{s,s'}\\sum_{i,j} U(R_i-R_j) \\frac{1}{\\sqrt{N}} \\sum_{k_1} c_s^\\dagger(k_1) e^{-i k_1 \\cdot R_i} \\frac{1}{\\sqrt{N}} \\sum_{k_2} c_{s'}^\\dagger(k_2) e^{-i k_2 \\cdot R_j} \\frac{1}{\\sqrt{N}} \\sum_{k_3} c_{s'}(k_3) e^{i k_3 \\cdot R_j} \\frac{1}{\\sqrt{N}} \\sum_{k_4} c_s(k_4) e^{i k_4 \\cdot R_i}=\\sum_{s,s'}\\sum_{i,j}\\frac{1}{N^2}\\sum_{k_1,k_2,k_3,k_4}U(R_i-R_j)c_s^\\dagger(k_1)c_{s'}^\\dagger(k_2)c_{s'}(k_3)c_s(k_4)e^{-i(k_1-k_4)\\cdot R_i} e^{-i(k_2-k_3)\\cdot R_j}$$\n",
      "Now make a replacement by defining $n= R_i-R_j$  \n",
      "The Hamiltonian become  \n",
      "$$\\hat{H}^{int}=\\frac{1}{N^2} \\sum_{j,n} \\sum_{s,s'} \\sum_{k_1,k_2,k_3,k_4} U(n) c_s^\\dagger(k_1)c_{s'}^\\dagger(k_2)c_{s'}(k_3)c_s(k_4)e^{-i(k_1-k_4)\\cdot n} e^{-i(k_1-k_4+k_2-k_3)\\cdot r_j }$$\n",
      "Because $\\frac{1}{N}\\sum_{i} e^{-i (k_1-k_4+k_2-k_3)\\cdot R_i} = \\sum\\delta(k_1-k_4+k_2-k_3,G)$, where $\\delta(..,..)$ is the Kronecker delta function, and $G$ is the all reciprocal lattices in the momentum space.  \n",
      "Therefore,  \n",
      "$$\\hat{H}^{int}=\\frac{1}{N}\\sum_{s,s'}\\sum_{k_1,k_2,k_3,k_4} \\sum_{n} U(n) e^{-i (k_1-k_4) \\cdot n} c_s^\\dagger(k_1)c_{s'}^\\dagger(k_2)c_{s'}(k_3)c_s(k_4) \\sum_{G} \\delta(k_1-k_4+k_2-k_3,G)$$\n",
      "If we define interaction in the momentum space $U(k)=\\sum_{n} U(n) e^{-i k \\cdot n}$, where $n$ is the summation of all hopping pairs, the interacting Hamiltonian in the momentum space is  \n",
      "$$\\hat{H}^{int}=\\frac{1}{N}\\sum_{s,s'}\\sum_{k_1,k_2,k_3,k_4}  U(k_1-k_4) c_s^\\dagger(k_1)c_{s'}^\\dagger(k_2)c_{s'}(k_3)c_s(k_4) \\sum_{G} \\delta(k_1-k_4+k_2-k_3,G)$$\n"
     ]
    }
   ],
   "source": [
    "print_save(generate_prompt(kwargs,prompt_dict=prompt_dict())['content'])"
   ]
  },
  {
   "cell_type": "code",
   "execution_count": 40,
   "metadata": {},
   "outputs": [],
   "source": [
    "kwargs_list.append(kwargs)"
   ]
  },
  {
   "cell_type": "markdown",
   "metadata": {},
   "source": [
    "## Mathematical simplify: Expand the product using Associative property"
   ]
  },
  {
   "cell_type": "code",
   "execution_count": 41,
   "metadata": {},
   "outputs": [],
   "source": [
    "kwargs = {\n",
    "    'task':\"Mathematical simplify: Expand the product using Associative property\",\n",
    "    'symbol': r'the third term with $V_{pd}$ in $\\hat{H}^{int}$',\n",
    "    'expression_symbol': r'''the third term in $\\hat{H}^{int}$ is $V_{pd} \\sum_{R_i, s, s^{\\prime}} [n_{d,s}(R_i) (n_{p_x,s^{\\prime}}(R_i+\\hat{x}/2) + n_{p_x,s^{\\prime}}(R_i-\\hat{x}/2) + n_{p_y,s^{\\prime}}(R_i+\\hat{y}/2) + n_{p_y,s^{\\prime}}(R_i-\\hat{y}/2)) ]$''',\n",
    "\n",
    "    'answer':r'''$H_0 = -2 t_{pd}\\sum_{k, s} ( c_{d,s}^\\dagger(k) c_{p_x,s}(k) \\cos(k_x /2) + c_{p_x,s}^\\dagger(k) c_{d,s}(k) \\cos(k_x /2) + c_{d,s}^\\dagger(k) c_{p_y,s}(k) \\cos(k_y /2) + c_{p_y,s}^\\dagger(k) c_{d,s}(k) \\cos(k_y /2) )-2 t_{pp}\\sum_{k, s} ( c_{p_x,s}^\\dagger(k) c_{p_y,s}(k) \\cos((k_x+k_y) /2) + c_{p_y,s}^\\dagger(k) c_{p_x,s}(k) \\cos((k_x+k_y) /2)+ c_{p_x,s}^\\dagger(k) c_{p_y,s}(k) \\cos((k_x-k_y) /2) + c_{p_y,s}^\\dagger(k) c_{p_x,s}(k) \\cos((k_x-k_y) /2) )$''',\n",
    "'source': {}\n",
    "}\n"
   ]
  },
  {
   "cell_type": "code",
   "execution_count": 42,
   "metadata": {},
   "outputs": [
    {
     "name": "stdout",
     "output_type": "stream",
     "text": [
      "You will be instructed to expand the product in the third term with $V_{pd}$ in $\\hat{H}^{int}$.  \n",
      "You should recall that the third term in $\\hat{H}^{int}$ is $V_{pd} \\sum_{R_i, s, s^{\\prime}} [n_{d,s}(R_i) (n_{p_x,s^{\\prime}}(R_i+\\hat{x}/2) + n_{p_x,s^{\\prime}}(R_i-\\hat{x}/2) + n_{p_y,s^{\\prime}}(R_i+\\hat{y}/2) + n_{p_y,s^{\\prime}}(R_i-\\hat{y}/2)) ]$.   \n",
      "Express the third term with $V_{pd}$ in $\\hat{H}^{int}$ in the expanded form.\n"
     ]
    }
   ],
   "source": [
    "print_save(generate_prompt(kwargs,prompt_dict=prompt_dict())['content'])"
   ]
  },
  {
   "cell_type": "code",
   "execution_count": 43,
   "metadata": {},
   "outputs": [],
   "source": [
    "kwargs_list.append(kwargs)"
   ]
  },
  {
   "cell_type": "markdown",
   "metadata": {},
   "source": [
    "## Convert interacting Hamiltonian in real space to momentum space (lattice version) [third term]"
   ]
  },
  {
   "cell_type": "code",
   "execution_count": 44,
   "metadata": {},
   "outputs": [],
   "source": [
    "kwargs = {\n",
    "    'task':'Convert interacting Hamiltonian in real space to momentum space (lattice version)',\n",
    "    'second_int_symbol':  r'the third term in $\\hat{H}^{int}$',\n",
    "    'single-particle|second-quantized': r'second-quantized',\n",
    "    'real_creation_op': r'$c_{\\alpha,s}^\\dagger(R_i)$',\n",
    "    'momentum_creation_op': r'$c_{\\alpha,s}^\\dagger(k)$',\n",
    "    'def_FT': r'$c_{\\alpha,s}^\\dagger(k)= \\frac{1}{\\sqrt{N}} \\sum_i c_{\\alpha,s}^\\dagger(R_i) e^{i k \\cdot R_i}$',\n",
    "    'real_var': '$i$',\n",
    "    'momentum_var': '$k$',\n",
    "    'Note that interaction have no position dependence now|None':'Note that interaction have no position dependence',\n",
    "    'expression_int':r'''$$ V_{pd} \\sum_{R_i, s, s^{\\prime}} [n_{d,s}(R_i)n_{p_x,s^{\\prime}}(R_i+\\hat{x}/2) + n_{d,s}(R_i)n_{p_x,s^{\\prime}}(R_i-\\hat{x}/2) + n_{d,s}(R_i)n_{p_y,s^{\\prime}}(R_i+\\hat{y}/2) + n_{d,s}(R_i)n_{p_y,s^{\\prime}}(R_i-\\hat{y}/2)] $$''',\n",
    "    'momentum_creation_op': r'$c_{\\alpha,s}^\\dagger(k)$',\n",
    "    'answer':r'''$$\n",
    "\\hat{H}_{pd}^{int} = 2V_{pd} \\sum_{s, s^{\\prime}} \\frac{1}{N} \\sum_{k_1,k_2,k_3,k_4} \\Big[ c_{d,s}^\\dagger(k_1)c_{d,s}(k_2)c_{p_x,s^{\\prime}}^\\dagger(k_3)c_{p_x,s^{\\prime}}(k_4)\\cos\\left(\\frac{k_3-k_4}{2}\\cdot \\hat{x}\\right)+ c_{d,s}^\\dagger(k_1)c_{d,s}(k_2)c_{p_y,s^{\\prime}}^\\dagger(k_3)c_{p_y,s^{\\prime}}(k_4)\\cos\\left(\\frac{k_3-k_4}{2}\\cdot \\hat{y}\\right) \\Big] \\sum_{G} \\delta(k_1-k_2+k_3-k_4,G)\n",
    "$$''',\n",
    "'source': {'1106.6060.tex':[(221,267)]}\n",
    "}\n"
   ]
  },
  {
   "cell_type": "code",
   "execution_count": 45,
   "metadata": {},
   "outputs": [
    {
     "name": "stdout",
     "output_type": "stream",
     "text": [
      "You will be instructed to convert the interacting Hamiltonian, the third term in $\\hat{H}^{int}$, in the second-quantized form the basis in real space to the basis in momentum space.\n",
      "To do that, you should apply the Fourier transformation to $c_{\\alpha,s}^\\dagger(R_i)$ in the real space to the $c_{\\alpha,s}^\\dagger(k)$ in the momentum space, which is defined as $c_{\\alpha,s}^\\dagger(k)= \\frac{1}{\\sqrt{N}} \\sum_i c_{\\alpha,s}^\\dagger(R_i) e^{i k \\cdot R_i}$, where $i$ is integrated over all sites in the entire real space, and $k$ is defined within the first Brillouin zone. You should follow the EXAMPLE below to apply the Fourier transformation. Note that interaction have no position dependence\n",
      "You should recall that the third term in $\\hat{H}^{int}$ is $$ V_{pd} \\sum_{R_i, s, s^{\\prime}} [n_{d,s}(R_i)n_{p_x,s^{\\prime}}(R_i+\\hat{x}/2) + n_{d,s}(R_i)n_{p_x,s^{\\prime}}(R_i-\\hat{x}/2) + n_{d,s}(R_i)n_{p_y,s^{\\prime}}(R_i+\\hat{y}/2) + n_{d,s}(R_i)n_{p_y,s^{\\prime}}(R_i-\\hat{y}/2)] $$.\n",
      "Express the third term in $\\hat{H}^{int}$ in terms of $c_{\\alpha,s}^\\dagger(k)$. Simplify any summation index if possible.  \n",
      "\n",
      "===  \n",
      "EXAMPLE:  \n",
      "Write an interacting Hamiltonian $\\hat{H}^{int}$ in the second quantized form in the real space, $\\hat{H}^{int}=\\sum_{s,s'}\\sum_{i,j} U(R_i-R_j) c_s^\\dagger(R_i) c_{s'}^\\dagger(R_j) c_{s'}(R_j) c_s(R_i)$, where $i,j$ are summed over the entire real space.  \n",
      "Define the Fourier transformation $c_s^\\dagger(k)=\\frac{1}{\\sqrt{N}} \\sum_{i}c_s^\\dagger(R_i) e^{i k \\cdot R_i}$, where $i$ is integrated over the entire real space containing $N$ unit cells, $N$ is the number of unit cells.  \n",
      "This leads to the inverse Fourier transformation $c_s^\\dagger(R_i) = \\frac{1}{\\sqrt{N}} \\sum_k c_s^\\dagger(k) e^{-i k \\cdot R_i}$, where $k$ is summed over the first Brillouin zone.  \n",
      "Thus, substitute $c^\\dagger(R_i)$ and $c(R_j)$ into $\\hat{H}^{int}$, we get  \n",
      "$$\\hat{H}^{int} = \\sum_{s,s'}\\sum_{i,j} U(R_i-R_j) \\frac{1}{\\sqrt{N}} \\sum_{k_1} c_s^\\dagger(k_1) e^{-i k_1 \\cdot R_i} \\frac{1}{\\sqrt{N}} \\sum_{k_2} c_{s'}^\\dagger(k_2) e^{-i k_2 \\cdot R_j} \\frac{1}{\\sqrt{N}} \\sum_{k_3} c_{s'}(k_3) e^{i k_3 \\cdot R_j} \\frac{1}{\\sqrt{N}} \\sum_{k_4} c_s(k_4) e^{i k_4 \\cdot R_i}=\\sum_{s,s'}\\sum_{i,j}\\frac{1}{N^2}\\sum_{k_1,k_2,k_3,k_4}U(R_i-R_j)c_s^\\dagger(k_1)c_{s'}^\\dagger(k_2)c_{s'}(k_3)c_s(k_4)e^{-i(k_1-k_4)\\cdot R_i} e^{-i(k_2-k_3)\\cdot R_j}$$\n",
      "Now make a replacement by defining $n= R_i-R_j$  \n",
      "The Hamiltonian become  \n",
      "$$\\hat{H}^{int}=\\frac{1}{N^2} \\sum_{j,n} \\sum_{s,s'} \\sum_{k_1,k_2,k_3,k_4} U(n) c_s^\\dagger(k_1)c_{s'}^\\dagger(k_2)c_{s'}(k_3)c_s(k_4)e^{-i(k_1-k_4)\\cdot n} e^{-i(k_1-k_4+k_2-k_3)\\cdot r_j }$$\n",
      "Because $\\frac{1}{N}\\sum_{i} e^{-i (k_1-k_4+k_2-k_3)\\cdot R_i} = \\sum\\delta(k_1-k_4+k_2-k_3,G)$, where $\\delta(..,..)$ is the Kronecker delta function, and $G$ is the all reciprocal lattices in the momentum space.  \n",
      "Therefore,  \n",
      "$$\\hat{H}^{int}=\\frac{1}{N}\\sum_{s,s'}\\sum_{k_1,k_2,k_3,k_4} \\sum_{n} U(n) e^{-i (k_1-k_4) \\cdot n} c_s^\\dagger(k_1)c_{s'}^\\dagger(k_2)c_{s'}(k_3)c_s(k_4) \\sum_{G} \\delta(k_1-k_4+k_2-k_3,G)$$\n",
      "If we define interaction in the momentum space $U(k)=\\sum_{n} U(n) e^{-i k \\cdot n}$, where $n$ is the summation of all hopping pairs, the interacting Hamiltonian in the momentum space is  \n",
      "$$\\hat{H}^{int}=\\frac{1}{N}\\sum_{s,s'}\\sum_{k_1,k_2,k_3,k_4}  U(k_1-k_4) c_s^\\dagger(k_1)c_{s'}^\\dagger(k_2)c_{s'}(k_3)c_s(k_4) \\sum_{G} \\delta(k_1-k_4+k_2-k_3,G)$$\n"
     ]
    }
   ],
   "source": [
    "print_save(generate_prompt(kwargs,prompt_dict=prompt_dict())['content'])"
   ]
  },
  {
   "cell_type": "code",
   "execution_count": 46,
   "metadata": {},
   "outputs": [],
   "source": [
    "kwargs_list.append(kwargs)"
   ]
  },
  {
   "cell_type": "markdown",
   "metadata": {},
   "source": [
    "## Mathematical simplify: Combine using Associative property"
   ]
  },
  {
   "cell_type": "code",
   "execution_count": 47,
   "metadata": {},
   "outputs": [],
   "source": [
    "kwargs = {\n",
    "    'task':\"Mathematical simplify: Combine using Associative property\",\n",
    "    'symbol': r'the fourth term with $V_{pp}$ in $\\hat{H}^{int}$',\n",
    "    'var': r'$\\sigma_x$ before $\\hat{x}/2$ and $\\sigma_y$ before $\\hat{y}/2$',\n",
    "    'values': r'$\\pm 1$',\n",
    "    'num_of_terms': 'four',\n",
    "    'expressoin_symbol':r'''the fourth term in $\\hat{H}^{int}$ is $V_{pp} \\sum_{R_i, s, s^{\\prime}} [(n_{p_x,s}(R_i+\\hat{x}/2) + n_{p_x,s}(R_i-\\hat{x}/2)) (n_{p_y,s^{\\prime}}(R_i+\\hat{y}/2) + n_{p_y,s^{\\prime}}(R_i-\\hat{y}/2))]$''',\n",
    "\n",
    "    'answer':r'''$V_{pp} \\sum_{R_i, s, s^{\\prime}} \\sum_{\\sigma_x, \\sigma_y} n_{p_x,s}(R_i+\\sigma_x\\hat{x}/2) n_{p_y,s^{\\prime}}(R_i+\\sigma_y\\hat{y}/2)$''',\n",
    "'source': {}\n",
    "}\n"
   ]
  },
  {
   "cell_type": "code",
   "execution_count": 48,
   "metadata": {},
   "outputs": [
    {
     "name": "stdout",
     "output_type": "stream",
     "text": [
      "You will be instructed to expand the product in the fourth term with $V_{pp}$ in $\\hat{H}^{int}$.  \n",
      "After expansion, you can introduce a sign variable $\\sigma_x$ before $\\hat{x}/2$ and $\\sigma_y$ before $\\hat{y}/2$, which take values of $\\pm 1$ to combine the four term in to one term.\n",
      "You should recall that the fourth term in $\\hat{H}^{int}$ is $V_{pp} \\sum_{R_i, s, s^{\\prime}} [(n_{p_x,s}(R_i+\\hat{x}/2) + n_{p_x,s}(R_i-\\hat{x}/2)) (n_{p_y,s^{\\prime}}(R_i+\\hat{y}/2) + n_{p_y,s^{\\prime}}(R_i-\\hat{y}/2))]$.\n",
      "Express the the fourth term with $V_{pp}$ in $\\hat{H}^{int}$ in the expanded form.\n"
     ]
    }
   ],
   "source": [
    "print_save(generate_prompt(kwargs,prompt_dict=prompt_dict())['content'])"
   ]
  },
  {
   "cell_type": "code",
   "execution_count": 49,
   "metadata": {},
   "outputs": [],
   "source": [
    "kwargs_list.append(kwargs)"
   ]
  },
  {
   "cell_type": "markdown",
   "metadata": {},
   "source": [
    "## Convert interacting Hamiltonian in real space to momentum space (lattice version) [fourth term]"
   ]
  },
  {
   "cell_type": "code",
   "execution_count": 50,
   "metadata": {},
   "outputs": [],
   "source": [
    "kwargs = {\n",
    "    'task':'Convert interacting Hamiltonian in real space to momentum space (lattice version)',\n",
    "    'second_int_symbol':  r'the fourth term in $\\hat{H}^{int}$',\n",
    "    'single-particle|second-quantized': r'second-quantized',\n",
    "    'real_creation_op': r'$c_{\\alpha,s}^\\dagger(R_i)$',\n",
    "    'momentum_creation_op': r'$c_{\\alpha,s}^\\dagger(k)$',\n",
    "    'def_FT': r'$c_{\\alpha,s}^\\dagger(k)= \\frac{1}{\\sqrt{N}} \\sum_i c_{\\alpha,s}^\\dagger(R_i) e^{i k \\cdot R_i}$',\n",
    "    'real_var': '$i$',\n",
    "    'momentum_var': '$k$',\n",
    "    'Note that interaction have no position dependence now|None':'Note that interaction have no position dependence',\n",
    "    'expression_int':r'''$V_{pp} \\sum_{R_i, s, s^{\\prime}} \\sum_{\\sigma_x, \\sigma_y} n_{p_x,s}(R_i+\\sigma_x\\hat{x}/2) n_{p_y,s^{\\prime}}(R_i+\\sigma_y\\hat{y}/2)$, where $\\sigma_x$ and $\\sigma_y$ both take value of $\\pm 1$''',\n",
    "    'momentum_creation_op': r'$c_{\\alpha,s}^\\dagger(k)$',\n",
    "    'answer':r'''$$\n",
    "\\hat{H}_{pd}^{int} = 2V_{pd} \\sum_{s, s^{\\prime}} \\frac{1}{N} \\sum_{k_1,k_2,k_3,k_4} \\Big[ c_{d,s}^\\dagger(k_1)c_{d,s}(k_2)c_{p_x,s^{\\prime}}^\\dagger(k_3)c_{p_x,s^{\\prime}}(k_4)\\cos\\left(\\frac{k_3-k_4}{2}\\cdot \\hat{x}\\right)+ c_{d,s}^\\dagger(k_1)c_{d,s}(k_2)c_{p_y,s^{\\prime}}^\\dagger(k_3)c_{p_y,s^{\\prime}}(k_4)\\cos\\left(\\frac{k_3-k_4}{2}\\cdot \\hat{y}\\right) \\Big] \\sum_{G} \\delta(k_1-k_2+k_3-k_4,G)\n",
    "$$''',\n",
    "'source': {'1106.6060.tex':[(221,267)]}\n",
    "}\n"
   ]
  },
  {
   "cell_type": "code",
   "execution_count": 51,
   "metadata": {},
   "outputs": [
    {
     "name": "stdout",
     "output_type": "stream",
     "text": [
      "You will be instructed to convert the interacting Hamiltonian, the fourth term in $\\hat{H}^{int}$, in the second-quantized form the basis in real space to the basis in momentum space.\n",
      "To do that, you should apply the Fourier transformation to $c_{\\alpha,s}^\\dagger(R_i)$ in the real space to the $c_{\\alpha,s}^\\dagger(k)$ in the momentum space, which is defined as $c_{\\alpha,s}^\\dagger(k)= \\frac{1}{\\sqrt{N}} \\sum_i c_{\\alpha,s}^\\dagger(R_i) e^{i k \\cdot R_i}$, where $i$ is integrated over all sites in the entire real space, and $k$ is defined within the first Brillouin zone. You should follow the EXAMPLE below to apply the Fourier transformation. Note that interaction have no position dependence\n",
      "You should recall that the fourth term in $\\hat{H}^{int}$ is $V_{pp} \\sum_{R_i, s, s^{\\prime}} \\sum_{\\sigma_x, \\sigma_y} n_{p_x,s}(R_i+\\sigma_x\\hat{x}/2) n_{p_y,s^{\\prime}}(R_i+\\sigma_y\\hat{y}/2)$, where $\\sigma_x$ and $\\sigma_y$ both take value of $\\pm 1$.\n",
      "Express the fourth term in $\\hat{H}^{int}$ in terms of $c_{\\alpha,s}^\\dagger(k)$. Simplify any summation index if possible.  \n",
      "\n",
      "===  \n",
      "EXAMPLE:  \n",
      "Write an interacting Hamiltonian $\\hat{H}^{int}$ in the second quantized form in the real space, $\\hat{H}^{int}=\\sum_{s,s'}\\sum_{i,j} U(R_i-R_j) c_s^\\dagger(R_i) c_{s'}^\\dagger(R_j) c_{s'}(R_j) c_s(R_i)$, where $i,j$ are summed over the entire real space.  \n",
      "Define the Fourier transformation $c_s^\\dagger(k)=\\frac{1}{\\sqrt{N}} \\sum_{i}c_s^\\dagger(R_i) e^{i k \\cdot R_i}$, where $i$ is integrated over the entire real space containing $N$ unit cells, $N$ is the number of unit cells.  \n",
      "This leads to the inverse Fourier transformation $c_s^\\dagger(R_i) = \\frac{1}{\\sqrt{N}} \\sum_k c_s^\\dagger(k) e^{-i k \\cdot R_i}$, where $k$ is summed over the first Brillouin zone.  \n",
      "Thus, substitute $c^\\dagger(R_i)$ and $c(R_j)$ into $\\hat{H}^{int}$, we get  \n",
      "$$\\hat{H}^{int} = \\sum_{s,s'}\\sum_{i,j} U(R_i-R_j) \\frac{1}{\\sqrt{N}} \\sum_{k_1} c_s^\\dagger(k_1) e^{-i k_1 \\cdot R_i} \\frac{1}{\\sqrt{N}} \\sum_{k_2} c_{s'}^\\dagger(k_2) e^{-i k_2 \\cdot R_j} \\frac{1}{\\sqrt{N}} \\sum_{k_3} c_{s'}(k_3) e^{i k_3 \\cdot R_j} \\frac{1}{\\sqrt{N}} \\sum_{k_4} c_s(k_4) e^{i k_4 \\cdot R_i}=\\sum_{s,s'}\\sum_{i,j}\\frac{1}{N^2}\\sum_{k_1,k_2,k_3,k_4}U(R_i-R_j)c_s^\\dagger(k_1)c_{s'}^\\dagger(k_2)c_{s'}(k_3)c_s(k_4)e^{-i(k_1-k_4)\\cdot R_i} e^{-i(k_2-k_3)\\cdot R_j}$$\n",
      "Now make a replacement by defining $n= R_i-R_j$  \n",
      "The Hamiltonian become  \n",
      "$$\\hat{H}^{int}=\\frac{1}{N^2} \\sum_{j,n} \\sum_{s,s'} \\sum_{k_1,k_2,k_3,k_4} U(n) c_s^\\dagger(k_1)c_{s'}^\\dagger(k_2)c_{s'}(k_3)c_s(k_4)e^{-i(k_1-k_4)\\cdot n} e^{-i(k_1-k_4+k_2-k_3)\\cdot r_j }$$\n",
      "Because $\\frac{1}{N}\\sum_{i} e^{-i (k_1-k_4+k_2-k_3)\\cdot R_i} = \\sum\\delta(k_1-k_4+k_2-k_3,G)$, where $\\delta(..,..)$ is the Kronecker delta function, and $G$ is the all reciprocal lattices in the momentum space.  \n",
      "Therefore,  \n",
      "$$\\hat{H}^{int}=\\frac{1}{N}\\sum_{s,s'}\\sum_{k_1,k_2,k_3,k_4} \\sum_{n} U(n) e^{-i (k_1-k_4) \\cdot n} c_s^\\dagger(k_1)c_{s'}^\\dagger(k_2)c_{s'}(k_3)c_s(k_4) \\sum_{G} \\delta(k_1-k_4+k_2-k_3,G)$$\n",
      "If we define interaction in the momentum space $U(k)=\\sum_{n} U(n) e^{-i k \\cdot n}$, where $n$ is the summation of all hopping pairs, the interacting Hamiltonian in the momentum space is  \n",
      "$$\\hat{H}^{int}=\\frac{1}{N}\\sum_{s,s'}\\sum_{k_1,k_2,k_3,k_4}  U(k_1-k_4) c_s^\\dagger(k_1)c_{s'}^\\dagger(k_2)c_{s'}(k_3)c_s(k_4) \\sum_{G} \\delta(k_1-k_4+k_2-k_3,G)$$\n"
     ]
    }
   ],
   "source": [
    "print_save(generate_prompt(kwargs,prompt_dict=prompt_dict())['content'])"
   ]
  },
  {
   "cell_type": "code",
   "execution_count": 52,
   "metadata": {},
   "outputs": [],
   "source": [
    "kwargs_list.append(kwargs)"
   ]
  },
  {
   "cell_type": "markdown",
   "metadata": {},
   "source": [
    "## Wick's theorem [first term]"
   ]
  },
  {
   "cell_type": "code",
   "execution_count": 53,
   "metadata": {},
   "outputs": [],
   "source": [
    "kwargs = {\n",
    "    'task':\"Wick's theorem\",\n",
    "    'second_int_symbol':  r'the first term in $\\hat{H}^{int}$',\n",
    "    'HF_symbol': r'the first term in $\\hat{H}^{int,HF}$',\n",
    "    'expression_int': r'''the first term is $\\frac{U_d}{N}\\sum_{k_1,k_2,k_3,k_4} c_{d,\\uparrow}^\\dagger(k_1)c_{d,\\uparrow}(k_2)c_{d,\\downarrow}^\\dagger(k_3)c_{d,\\downarrow}(k_4) \\sum_{G} \\delta(k_1-k_2+k_3-k_4,G)$''',\n",
    "    'def_var': r'''$\\langle c_{\\alpha,s}^\\dagger(k_1) c_{\\alpha^{\\prime},s^{\\prime}}(k_2) \\rangle$ : expectation of $c_{\\alpha,s}^\\dagger(k_1) c_{\\alpha^{\\prime},s^{\\prime}}(k_2)$ over the many-body ground states   \n",
    "$\\hat{H}^{int,HF}$ : Interaction term after Hartree-Fock approximation  ''',\n",
    "    'answer':r'''$\\hat{H}^{int,HF,U_d} = \\frac{U_d}{N}\\sum_{k_1,k_2,k_3,k_4} \\sum_{G} \\delta(k_1-k_2+k_3-k_4,G) \\big[ \\langle c_{d,\\uparrow}^\\dagger(k_1) c_{d,\\uparrow}(k_2) \\rangle c_{d,\\downarrow}^\\dagger(k_3) c_{d,\\downarrow}(k_4)\n",
    "+ \\langle c_{d,\\downarrow}^\\dagger(k_3) c_{d,\\downarrow}(k_4) \\rangle c_{d,\\uparrow}^\\dagger(k_1) c_{d,\\uparrow}(k_2)\n",
    "- \\langle c_{d,\\uparrow}^\\dagger(k_1) c_{d,\\uparrow}(k_2) \\rangle \\langle c_{d,\\downarrow}^\\dagger(k_3) c_{d,\\downarrow}(k_4) \\rangle\n",
    "- \\langle c_{d,\\uparrow}^\\dagger(k_1) c_{d,\\downarrow}(k_4) \\rangle c_{d,\\downarrow}^\\dagger(k_3) c_{d,\\uparrow}(k_2)\n",
    "- \\langle c_{d,\\downarrow}^\\dagger(k_3) c_{d,\\uparrow}(k_2) \\rangle c_{d,\\uparrow}^\\dagger(k_1) c_{d,\\downarrow}(k_4)\n",
    "+ \\langle c_{d,\\uparrow}^\\dagger(k_1) c_{d,\\downarrow}(k_4) \\rangle \\langle c_{d,\\downarrow}^\\dagger(k_3) c_{d,\\uparrow}(k_2) \\rangle \\big]$''',\n",
    "'source': {'1106.6060.tex':[(221,267)]}\n",
    "}\n"
   ]
  },
  {
   "cell_type": "code",
   "execution_count": 54,
   "metadata": {},
   "outputs": [
    {
     "name": "stdout",
     "output_type": "stream",
     "text": [
      "You will be instructed to perform a Hartree-Fock approximation to expand the interaction term, the first term in $\\hat{H}^{int}$.  \n",
      "You should use Wick's theorem to expand the four-fermion term in the first term in $\\hat{H}^{int}$ into quadratic terms. You should strictly follow the EXAMPLE below to expand using Wick's theorem, select the correct EXAMPLE by noticing the order of four term product with and without ${}^\\dagger$, and be extremely cautious about the order of the index and sign before each term.  \n",
      "You should only preserve the normal terms. Here, the normal terms mean the product of a creation operator and an annihilation operator.  \n",
      "You should recall that the first term is $\\frac{U_d}{N}\\sum_{k_1,k_2,k_3,k_4} c_{d,\\uparrow}^\\dagger(k_1)c_{d,\\uparrow}(k_2)c_{d,\\downarrow}^\\dagger(k_3)c_{d,\\downarrow}(k_4) \\sum_{G} \\delta(k_1-k_2+k_3-k_4,G)$.  \n",
      "Return the expanded interaction term after Hartree-Fock approximation as the first term in $\\hat{H}^{int,HF}$.\n",
      "\n",
      "Use the following conventions for the symbols (You should also obey the conventions in all my previous prompts if you encounter undefined symbols. If you find it is never defined or has conflicts in the conventions, you should stop and let me know):  \n",
      "$\\langle c_{\\alpha,s}^\\dagger(k_1) c_{\\alpha^{\\prime},s^{\\prime}}(k_2) \\rangle$ : expectation of $c_{\\alpha,s}^\\dagger(k_1) c_{\\alpha^{\\prime},s^{\\prime}}(k_2)$ over the many-body ground states   \n",
      "$\\hat{H}^{int,HF}$ : Interaction term after Hartree-Fock approximation  \n",
      "\n",
      "===  \n",
      "EXAMPLE 1:  \n",
      "For a four-fermion term $a_1^\\dagger a_2^\\dagger a_3 a_4$, using Wick's theorem and preserving only the normal terms. this is expanded as $a_1^\\dagger a_2^\\dagger a_3 a_4 = \\langle a_1^\\dagger a_4 \\rangle a_2^\\dagger a_3 + \\langle a_2^\\dagger a_3 \\rangle a_1^\\dagger a_4 - \\langle a_1^\\dagger a_4 \\rangle \\langle a_2^\\dagger a_3\\rangle - \\langle a_1^\\dagger a_3 \\rangle a_2^\\dagger a_4 - \\langle a_2^\\dagger a_4 \\rangle a_1^\\dagger a_3 + \\langle a_1^\\dagger a_3\\rangle \\langle a_2^\\dagger a_4 \\rangle$  \n",
      "Be cautious about the order of the index and sign before each term here.\n",
      "\n",
      "EXAMPLE 2:  \n",
      "For a four-fermion term $a_1^\\dagger a_2 a_3^\\dagger a_4$, using Wick's theorem and preserving only the normal terms. this is expanded as $a_1^\\dagger a_2 a_3^\\dagger a_4 = \\langle a_1^\\dagger a_2 \\rangle a_3^\\dagger a_4 + \\langle a_3^\\dagger a_4 \\rangle a_1^\\dagger a_2 - \\langle a_1^\\dagger a_2 \\rangle \\langle a_3^\\dagger a_4\\rangle - \\langle a_1^\\dagger a_4 \\rangle a_3^\\dagger a_2 - \\langle a_3^\\dagger a_2 \\rangle a_1^\\dagger a_4 + \\langle a_1^\\dagger a_4\\rangle \\langle a_3^\\dagger a_2 \\rangle$  \n",
      "Be cautious about the order of the index and sign before each term here.\n"
     ]
    }
   ],
   "source": [
    "print_save(generate_prompt(kwargs,prompt_dict=prompt_dict())['content'])"
   ]
  },
  {
   "cell_type": "code",
   "execution_count": 55,
   "metadata": {},
   "outputs": [],
   "source": [
    "kwargs_list.append(kwargs)"
   ]
  },
  {
   "cell_type": "markdown",
   "metadata": {},
   "source": [
    "## Wick's theorem [second term]"
   ]
  },
  {
   "cell_type": "code",
   "execution_count": 56,
   "metadata": {},
   "outputs": [],
   "source": [
    "kwargs = {\n",
    "    'task':\"Wick's theorem\",\n",
    "    'second_int_symbol':  r'the second term in $\\hat{H}^{int}$',\n",
    "    'HF_symbol': r'the second term in $\\hat{H}^{int,HF}$',\n",
    "    'expression_int': r'''the second term is $\\frac{U_p}{2N} \\sum_{k_1,k_2,k_3,k_4} \\{c_{p_x,\\uparrow}^\\dagger(k_1) c_{p_x,\\uparrow}(k_2) c_{p_x,\\downarrow}^\\dagger(k_3) c_{p_x,\\downarrow}(k_4) \\sum_{G} \\delta(k_1-k_2+k_3-k_4,G) + c_{p_y,\\uparrow}^\\dagger(k_1) c_{p_y,\\uparrow}(k_2) c_{p_y,\\downarrow}^\\dagger(k_3) c_{p_y,\\downarrow}(k_4) \\sum_{G} \\delta(k_1-k_2+k_3-k_4,G) \\}$''',\n",
    "    'def_var': r'''$\\langle c_{\\alpha,s}^\\dagger(k_1) c_{\\alpha^{\\prime},s^{\\prime}}(k_2) \\rangle$ : expectation of $c_{\\alpha,s}^\\dagger(k_1) c_{\\alpha^{\\prime},s^{\\prime}}(k_2)$ over the many-body ground states   \n",
    "$\\hat{H}^{int,HF}$ : Interaction term after Hartree-Fock approximation  ''',\n",
    "    'answer':r'''$\\frac{U_p}{2N} \\sum_{k_1,k_2,k_3,k_4} \\sum_{G} \\delta(k_1-k_2+k_3-k_4,G) \\Big\\{ \\langle c_{p_x,\\uparrow}^\\dagger(k_1) c_{p_x,\\uparrow}(k_2) \\rangle c_{p_x,\\downarrow}^\\dagger(k_3) c_{p_x,\\downarrow}(k_4)\n",
    "+ \\langle c_{p_x,\\downarrow}^\\dagger(k_3) c_{p_x,\\downarrow}(k_4) \\rangle c_{p_x,\\uparrow}^\\dagger(k_1) c_{p_x,\\uparrow}(k_2)\n",
    "- \\langle c_{p_x,\\uparrow}^\\dagger(k_1) c_{p_x,\\uparrow}(k_2) \\rangle \\langle c_{p_x,\\downarrow}^\\dagger(k_3) c_{p_x,\\downarrow}(k_4) \\rangle\n",
    "- \\langle c_{p_x,\\uparrow}^\\dagger(k_1) c_{p_x,\\downarrow}(k_4) \\rangle c_{p_x,\\downarrow}^\\dagger(k_3) c_{p_x,\\uparrow}(k_2)\n",
    "- \\langle c_{p_x,\\downarrow}^\\dagger(k_3) c_{p_x,\\uparrow}(k_2) \\rangle c_{p_x,\\uparrow}^\\dagger(k_1) c_{p_x,\\downarrow}(k_4)\n",
    "+ \\langle c_{p_x,\\uparrow}^\\dagger(k_1) c_{p_x,\\downarrow}(k_4) \\rangle \\langle c_{p_x,\\downarrow}^\\dagger(k_3) c_{p_x,\\uparrow}(k_2) \\rangle + \\langle c_{p_y,\\uparrow}^\\dagger(k_1) c_{p_y,\\uparrow}(k_2) \\rangle c_{p_y,\\downarrow}^\\dagger(k_3) c_{p_y,\\downarrow}(k_4)\n",
    "+ \\langle c_{p_y,\\downarrow}^\\dagger(k_3) c_{p_y,\\downarrow}(k_4) \\rangle c_{p_y,\\uparrow}^\\dagger(k_1) c_{p_y,\\uparrow}(k_2)\n",
    "- \\langle c_{p_y,\\uparrow}^\\dagger(k_1) c_{p_y,\\uparrow}(k_2) \\rangle \\langle c_{p_y,\\downarrow}^\\dagger(k_3) c_{p_y,\\downarrow}(k_4) \\rangle\n",
    "- \\langle c_{p_y,\\uparrow}^\\dagger(k_1) c_{p_y,\\downarrow}(k_4) \\rangle c_{p_y,\\downarrow}^\\dagger(k_3) c_{p_y,\\uparrow}(k_2)\n",
    "- \\langle c_{p_y,\\downarrow}^\\dagger(k_3) c_{p_y,\\uparrow}(k_2) \\rangle c_{p_y,\\uparrow}^\\dagger(k_1) c_{p_y,\\downarrow}(k_4)\n",
    "+ \\langle c_{p_y,\\uparrow}^\\dagger(k_1) c_{p_y,\\downarrow}(k_4) \\rangle \\langle c_{p_y,\\downarrow}^\\dagger(k_3) c_{p_y,\\uparrow}(k_2) \\rangle \\Big\\}$''',\n",
    "'source': {'1106.6060.tex':[(221,267)]}\n",
    "\n",
    "}\n"
   ]
  },
  {
   "cell_type": "code",
   "execution_count": 57,
   "metadata": {},
   "outputs": [
    {
     "name": "stdout",
     "output_type": "stream",
     "text": [
      "You will be instructed to perform a Hartree-Fock approximation to expand the interaction term, the second term in $\\hat{H}^{int}$.  \n",
      "You should use Wick's theorem to expand the four-fermion term in the second term in $\\hat{H}^{int}$ into quadratic terms. You should strictly follow the EXAMPLE below to expand using Wick's theorem, select the correct EXAMPLE by noticing the order of four term product with and without ${}^\\dagger$, and be extremely cautious about the order of the index and sign before each term.  \n",
      "You should only preserve the normal terms. Here, the normal terms mean the product of a creation operator and an annihilation operator.  \n",
      "You should recall that the second term is $\\frac{U_p}{2N} \\sum_{k_1,k_2,k_3,k_4} \\{c_{p_x,\\uparrow}^\\dagger(k_1) c_{p_x,\\uparrow}(k_2) c_{p_x,\\downarrow}^\\dagger(k_3) c_{p_x,\\downarrow}(k_4) \\sum_{G} \\delta(k_1-k_2+k_3-k_4,G) + c_{p_y,\\uparrow}^\\dagger(k_1) c_{p_y,\\uparrow}(k_2) c_{p_y,\\downarrow}^\\dagger(k_3) c_{p_y,\\downarrow}(k_4) \\sum_{G} \\delta(k_1-k_2+k_3-k_4,G) \\}$.  \n",
      "Return the expanded interaction term after Hartree-Fock approximation as the second term in $\\hat{H}^{int,HF}$.\n",
      "\n",
      "Use the following conventions for the symbols (You should also obey the conventions in all my previous prompts if you encounter undefined symbols. If you find it is never defined or has conflicts in the conventions, you should stop and let me know):  \n",
      "$\\langle c_{\\alpha,s}^\\dagger(k_1) c_{\\alpha^{\\prime},s^{\\prime}}(k_2) \\rangle$ : expectation of $c_{\\alpha,s}^\\dagger(k_1) c_{\\alpha^{\\prime},s^{\\prime}}(k_2)$ over the many-body ground states   \n",
      "$\\hat{H}^{int,HF}$ : Interaction term after Hartree-Fock approximation  \n",
      "\n",
      "===  \n",
      "EXAMPLE 1:  \n",
      "For a four-fermion term $a_1^\\dagger a_2^\\dagger a_3 a_4$, using Wick's theorem and preserving only the normal terms. this is expanded as $a_1^\\dagger a_2^\\dagger a_3 a_4 = \\langle a_1^\\dagger a_4 \\rangle a_2^\\dagger a_3 + \\langle a_2^\\dagger a_3 \\rangle a_1^\\dagger a_4 - \\langle a_1^\\dagger a_4 \\rangle \\langle a_2^\\dagger a_3\\rangle - \\langle a_1^\\dagger a_3 \\rangle a_2^\\dagger a_4 - \\langle a_2^\\dagger a_4 \\rangle a_1^\\dagger a_3 + \\langle a_1^\\dagger a_3\\rangle \\langle a_2^\\dagger a_4 \\rangle$  \n",
      "Be cautious about the order of the index and sign before each term here.\n",
      "\n",
      "EXAMPLE 2:  \n",
      "For a four-fermion term $a_1^\\dagger a_2 a_3^\\dagger a_4$, using Wick's theorem and preserving only the normal terms. this is expanded as $a_1^\\dagger a_2 a_3^\\dagger a_4 = \\langle a_1^\\dagger a_2 \\rangle a_3^\\dagger a_4 + \\langle a_3^\\dagger a_4 \\rangle a_1^\\dagger a_2 - \\langle a_1^\\dagger a_2 \\rangle \\langle a_3^\\dagger a_4\\rangle - \\langle a_1^\\dagger a_4 \\rangle a_3^\\dagger a_2 - \\langle a_3^\\dagger a_2 \\rangle a_1^\\dagger a_4 + \\langle a_1^\\dagger a_4\\rangle \\langle a_3^\\dagger a_2 \\rangle$  \n",
      "Be cautious about the order of the index and sign before each term here.\n"
     ]
    }
   ],
   "source": [
    "print_save(generate_prompt(kwargs,prompt_dict=prompt_dict())['content'])"
   ]
  },
  {
   "cell_type": "code",
   "execution_count": 58,
   "metadata": {},
   "outputs": [],
   "source": [
    "kwargs_list.append(kwargs)"
   ]
  },
  {
   "cell_type": "markdown",
   "metadata": {},
   "source": [
    "## Wick's theorem [third term]"
   ]
  },
  {
   "cell_type": "code",
   "execution_count": 59,
   "metadata": {},
   "outputs": [],
   "source": [
    "kwargs = {\n",
    "    'task':\"Wick's theorem\",\n",
    "    'second_int_symbol':  r'the third term in $\\hat{H}^{int}$',\n",
    "    'HF_symbol': r'the third term in $\\hat{H}^{int,HF}$',\n",
    "    'expression_int': r'''the third term is $2V_{pd} \\sum_{s, s^{\\prime}} \\frac{1}{N} \\sum_{k_1,k_2,k_3,k_4} \\Big[ c_{d,s}^\\dagger(k_1)c_{d,s}(k_2)c_{p_x,s^{\\prime}}^\\dagger(k_3)c_{p_x,s^{\\prime}}(k_4)\\cos\\left(\\frac{k_3-k_4}{2}\\cdot \\hat{x}\\right)+ c_{d,s}^\\dagger(k_1)c_{d,s}(k_2)c_{p_y,s^{\\prime}}^\\dagger(k_3)c_{p_y,s^{\\prime}}(k_4)\\cos\\left(\\frac{k_3-k_4}{2}\\cdot \\hat{y}\\right) \\Big] \\sum_{G} \\delta(k_1-k_2+k_3-k_4,G)$''',\n",
    "    'def_var': r'''$\\langle c_{\\alpha,s}^\\dagger(k_1) c_{\\alpha^{\\prime},s^{\\prime}}(k_2) \\rangle$ : expectation of $c_{\\alpha,s}^\\dagger(k_1) c_{\\alpha^{\\prime},s^{\\prime}}(k_2)$ over the many-body ground states   \n",
    "$\\hat{H}^{int,HF}$ : Interaction term after Hartree-Fock approximation  ''',\n",
    "    'answer':r'''$2V_{pd} \\sum_{s, s^{\\prime}} \\frac{1}{N} \\sum_{k_1,k_2,k_3,k_4} \\sum_{G} \\delta(k_1-k_2+k_3-k_4,G) \\Big[\n",
    "\\langle c_{d,s}^\\dagger(k_1) c_{d,s}(k_2) \\rangle c_{p_x,s^{\\prime}}^\\dagger(k_3) c_{p_x,s^{\\prime}}(k_4)\\cos\\left(\\frac{k_3-k_4}{2}\\cdot \\hat{x}\\right) \n",
    "+ \\langle c_{p_x,s^{\\prime}}^\\dagger(k_3) c_{p_x,s^{\\prime}}(k_4) \\rangle c_{d,s}^\\dagger(k_1) c_{d,s}(k_2)\\cos\\left(\\frac{k_3-k_4}{2}\\cdot \\hat{x}\\right)\n",
    "- \\langle c_{d,s}^\\dagger(k_1) c_{d,s}(k_2) \\rangle \\langle c_{p_x,s^{\\prime}}^\\dagger(k_3) c_{p_x,s^{\\prime}}(k_4) \\rangle \\cos\\left(\\frac{k_3-k_4}{2}\\cdot \\hat{x}\\right)\\\\\n",
    "- \\langle c_{d,s}^\\dagger(k_1) c_{p_x,s^{\\prime}}(k_4) \\rangle c_{p_x,s^{\\prime}}^\\dagger(k_3) c_{d,s}(k_2)\\cos\\left(\\frac{k_3-k_4}{2}\\cdot \\hat{x}\\right)\n",
    "- \\langle c_{p_x,s^{\\prime}}^\\dagger(k_3) c_{d,s}(k_2) \\rangle c_{d,s}^\\dagger(k_1) c_{p_x,s^{\\prime}}(k_4)\\cos\\left(\\frac{k_3-k_4}{2}\\cdot \\hat{x}\\right)\n",
    "+ \\langle c_{d,s}^\\dagger(k_1) c_{p_x,s^{\\prime}}(k_4) \\rangle \\langle c_{p_x,s^{\\prime}}^\\dagger(k_3) c_{d,s}(k_2) \\rangle \\cos\\left(\\frac{k_3-k_4}{2}\\cdot \\hat{x}\\right)\\\\\n",
    "+ \\langle c_{d,s}^\\dagger(k_1) c_{d,s}(k_2) \\rangle c_{p_y,s^{\\prime}}^\\dagger(k_3) c_{p_y,s^{\\prime}}(k_4)\\cos\\left(\\frac{k_3-k_4}{2}\\cdot \\hat{y}\\right)\n",
    "+ \\langle c_{p_y,s^{\\prime}}^\\dagger(k_3) c_{p_y,s^{\\prime}}(k_4) \\rangle c_{d,s}^\\dagger(k_1) c_{d,s}(k_2)\\cos\\left(\\frac{k_3-k_4}{2}\\cdot \\hat{y}\\right)\n",
    "- \\langle c_{d,s}^\\dagger(k_1) c_{d,s}(k_2) \\rangle \\langle c_{p_y,s^{\\prime}}^\\dagger(k_3) c_{p_y,s^{\\prime}}(k_4) \\rangle \\cos\\left(\\frac{k_3-k_4}{2}\\cdot \\hat{y}\\right)\\\\\n",
    "- \\langle c_{d,s}^\\dagger(k_1) c_{p_y,s^{\\prime}}(k_4) \\rangle c_{p_y,s^{\\prime}}^\\dagger(k_3) c_{d,s}(k_2)\\cos\\left(\\frac{k_3-k_4}{2}\\cdot \\hat{y}\\right)\n",
    "- \\langle c_{p_y,s^{\\prime}}^\\dagger(k_3) c_{d,s}(k_2) \\rangle c_{d,s}^\\dagger(k_1) c_{p_y,s^{\\prime}}(k_4)\\cos\\left(\\frac{k_3-k_4}{2}\\cdot \\hat{y}\\right)\n",
    "+ \\langle c_{d,s}^\\dagger(k_1) c_{p_y,s^{\\prime}}(k_4) \\rangle \\langle c_{p_y,s^{\\prime}}^\\dagger(k_3) c_{d,s}(k_2) \\rangle \\cos\\left(\\frac{k_3-k_4}{2}\\cdot \\hat{y}\\right)\n",
    "\\Big]$''',\n",
    "'source': {'1106.6060.tex':[(221,267)]}\n",
    "\n",
    "}\n"
   ]
  },
  {
   "cell_type": "code",
   "execution_count": 60,
   "metadata": {},
   "outputs": [
    {
     "name": "stdout",
     "output_type": "stream",
     "text": [
      "You will be instructed to perform a Hartree-Fock approximation to expand the interaction term, the third term in $\\hat{H}^{int}$.  \n",
      "You should use Wick's theorem to expand the four-fermion term in the third term in $\\hat{H}^{int}$ into quadratic terms. You should strictly follow the EXAMPLE below to expand using Wick's theorem, select the correct EXAMPLE by noticing the order of four term product with and without ${}^\\dagger$, and be extremely cautious about the order of the index and sign before each term.  \n",
      "You should only preserve the normal terms. Here, the normal terms mean the product of a creation operator and an annihilation operator.  \n",
      "You should recall that the third term is $2V_{pd} \\sum_{s, s^{\\prime}} \\frac{1}{N} \\sum_{k_1,k_2,k_3,k_4} \\Big[ c_{d,s}^\\dagger(k_1)c_{d,s}(k_2)c_{p_x,s^{\\prime}}^\\dagger(k_3)c_{p_x,s^{\\prime}}(k_4)\\cos\\left(\\frac{k_3-k_4}{2}\\cdot \\hat{x}\\right)+ c_{d,s}^\\dagger(k_1)c_{d,s}(k_2)c_{p_y,s^{\\prime}}^\\dagger(k_3)c_{p_y,s^{\\prime}}(k_4)\\cos\\left(\\frac{k_3-k_4}{2}\\cdot \\hat{y}\\right) \\Big] \\sum_{G} \\delta(k_1-k_2+k_3-k_4,G)$.  \n",
      "Return the expanded interaction term after Hartree-Fock approximation as the third term in $\\hat{H}^{int,HF}$.\n",
      "\n",
      "Use the following conventions for the symbols (You should also obey the conventions in all my previous prompts if you encounter undefined symbols. If you find it is never defined or has conflicts in the conventions, you should stop and let me know):  \n",
      "$\\langle c_{\\alpha,s}^\\dagger(k_1) c_{\\alpha^{\\prime},s^{\\prime}}(k_2) \\rangle$ : expectation of $c_{\\alpha,s}^\\dagger(k_1) c_{\\alpha^{\\prime},s^{\\prime}}(k_2)$ over the many-body ground states   \n",
      "$\\hat{H}^{int,HF}$ : Interaction term after Hartree-Fock approximation  \n",
      "\n",
      "===  \n",
      "EXAMPLE 1:  \n",
      "For a four-fermion term $a_1^\\dagger a_2^\\dagger a_3 a_4$, using Wick's theorem and preserving only the normal terms. this is expanded as $a_1^\\dagger a_2^\\dagger a_3 a_4 = \\langle a_1^\\dagger a_4 \\rangle a_2^\\dagger a_3 + \\langle a_2^\\dagger a_3 \\rangle a_1^\\dagger a_4 - \\langle a_1^\\dagger a_4 \\rangle \\langle a_2^\\dagger a_3\\rangle - \\langle a_1^\\dagger a_3 \\rangle a_2^\\dagger a_4 - \\langle a_2^\\dagger a_4 \\rangle a_1^\\dagger a_3 + \\langle a_1^\\dagger a_3\\rangle \\langle a_2^\\dagger a_4 \\rangle$  \n",
      "Be cautious about the order of the index and sign before each term here.\n",
      "\n",
      "EXAMPLE 2:  \n",
      "For a four-fermion term $a_1^\\dagger a_2 a_3^\\dagger a_4$, using Wick's theorem and preserving only the normal terms. this is expanded as $a_1^\\dagger a_2 a_3^\\dagger a_4 = \\langle a_1^\\dagger a_2 \\rangle a_3^\\dagger a_4 + \\langle a_3^\\dagger a_4 \\rangle a_1^\\dagger a_2 - \\langle a_1^\\dagger a_2 \\rangle \\langle a_3^\\dagger a_4\\rangle - \\langle a_1^\\dagger a_4 \\rangle a_3^\\dagger a_2 - \\langle a_3^\\dagger a_2 \\rangle a_1^\\dagger a_4 + \\langle a_1^\\dagger a_4\\rangle \\langle a_3^\\dagger a_2 \\rangle$  \n",
      "Be cautious about the order of the index and sign before each term here.\n"
     ]
    }
   ],
   "source": [
    "print_save(generate_prompt(kwargs,prompt_dict=prompt_dict())['content'])"
   ]
  },
  {
   "cell_type": "code",
   "execution_count": 61,
   "metadata": {},
   "outputs": [],
   "source": [
    "kwargs_list.append(kwargs)"
   ]
  },
  {
   "cell_type": "markdown",
   "metadata": {},
   "source": [
    "## Wick's theorem [fourth term]"
   ]
  },
  {
   "cell_type": "code",
   "execution_count": 62,
   "metadata": {},
   "outputs": [],
   "source": [
    "kwargs = {\n",
    "    'task':\"Wick's theorem\",\n",
    "    'second_int_symbol':  r'the fourth term in $\\hat{H}^{int}$',\n",
    "    'HF_symbol': r'the fourth term in $\\hat{H}^{int,HF}$',\n",
    "    'expression_int': r'''the fourth term is $\\frac{V_{pp}}{N} \\sum_{s, s^{\\prime}} \\sum_{\\sigma_x, \\sigma_y} \\sum_{k_1, k_2, k_3, k_4} \\sum_{G} \\delta(k_2 - k_1 + k_4 - k_3, G) e^{-i (k_1 - k_2) \\cdot \\sigma_x\\hat{x}/2 - i (k_3 - k_4) \\cdot \\sigma_y\\hat{y}/2} c_{p_x,s}^\\dagger(k_1) c_{p_x,s}(k_2) c_{p_y,s^{\\prime}}^\\dagger(k_3) c_{p_y,s^{\\prime}}(k_4)$''',\n",
    "    'def_var': r'''$\\langle c_{\\alpha,s}^\\dagger(k_1) c_{\\alpha^{\\prime},s^{\\prime}}(k_2) \\rangle$ : expectation of $c_{\\alpha,s}^\\dagger(k_1) c_{\\alpha^{\\prime},s^{\\prime}}(k_2)$ over the many-body ground states   \n",
    "$\\hat{H}^{int,HF}$ : Interaction term after Hartree-Fock approximation  ''',\n",
    "    'answer':r'''$\\hat{H}^{int,HF,V_{pp}} = \\frac{V_{pp}}{N} \\sum_{s, s^{\\prime}} \\sum_{\\sigma_x, \\sigma_y} \\sum_{k_1, k_2, k_3, k_4} \\sum_{G} \\delta(k_2 - k_1 + k_4 - k_3, G) e^{-i (k_1 - k_2) \\cdot \\sigma_x\\hat{x}/2 - i (k_3 - k_4) \\cdot \\sigma_y\\hat{y}/2} \\times \\Big[\\langle c_{p_x,s}^\\dagger(k_1) c_{p_x,s}(k_2) \\rangle c_{p_y,s^{\\prime}}^\\dagger(k_3) c_{p_y,s^{\\prime}}(k_4) + \\langle c_{p_y,s^{\\prime}}^\\dagger(k_3) c_{p_y,s^{\\prime}}(k_4) \\rangle c_{p_x,s}^\\dagger(k_1) c_{p_x,s}(k_2) - \\langle c_{p_x,s}^\\dagger(k_1) c_{p_x,s}(k_2) \\rangle \\langle c_{p_y,s^{\\prime}}^\\dagger(k_3) c_{p_y,s^{\\prime}}(k_4) \\rangle - \\langle c_{p_x,s}^\\dagger(k_1) c_{p_y,s^{\\prime}}(k_4) \\rangle c_{p_y,s^{\\prime}}^\\dagger(k_3) c_{p_x,s}(k_2) - \\langle c_{p_y,s^{\\prime}}^\\dagger(k_3) c_{p_x,s}(k_2) \\rangle c_{p_x,s}^\\dagger(k_1) c_{p_y,s^{\\prime}}(k_4) + \\langle c_{p_x,s}^\\dagger(k_1) c_{p_y,s^{\\prime}}(k_4) \\rangle \\langle c_{p_y,s^{\\prime}}^\\dagger(k_3) c_{p_x,s}(k_2) \\rangle \\Big]$''',\n",
    "'source': {'1106.6060.tex':[(221,267)]}\n",
    "\n",
    "}\n"
   ]
  },
  {
   "cell_type": "code",
   "execution_count": 63,
   "metadata": {},
   "outputs": [
    {
     "name": "stdout",
     "output_type": "stream",
     "text": [
      "You will be instructed to perform a Hartree-Fock approximation to expand the interaction term, the fourth term in $\\hat{H}^{int}$.  \n",
      "You should use Wick's theorem to expand the four-fermion term in the fourth term in $\\hat{H}^{int}$ into quadratic terms. You should strictly follow the EXAMPLE below to expand using Wick's theorem, select the correct EXAMPLE by noticing the order of four term product with and without ${}^\\dagger$, and be extremely cautious about the order of the index and sign before each term.  \n",
      "You should only preserve the normal terms. Here, the normal terms mean the product of a creation operator and an annihilation operator.  \n",
      "You should recall that the fourth term is $\\frac{V_{pp}}{N} \\sum_{s, s^{\\prime}} \\sum_{\\sigma_x, \\sigma_y} \\sum_{k_1, k_2, k_3, k_4} \\sum_{G} \\delta(k_2 - k_1 + k_4 - k_3, G) e^{-i (k_1 - k_2) \\cdot \\sigma_x\\hat{x}/2 - i (k_3 - k_4) \\cdot \\sigma_y\\hat{y}/2} c_{p_x,s}^\\dagger(k_1) c_{p_x,s}(k_2) c_{p_y,s^{\\prime}}^\\dagger(k_3) c_{p_y,s^{\\prime}}(k_4)$.  \n",
      "Return the expanded interaction term after Hartree-Fock approximation as the fourth term in $\\hat{H}^{int,HF}$.\n",
      "\n",
      "Use the following conventions for the symbols (You should also obey the conventions in all my previous prompts if you encounter undefined symbols. If you find it is never defined or has conflicts in the conventions, you should stop and let me know):  \n",
      "$\\langle c_{\\alpha,s}^\\dagger(k_1) c_{\\alpha^{\\prime},s^{\\prime}}(k_2) \\rangle$ : expectation of $c_{\\alpha,s}^\\dagger(k_1) c_{\\alpha^{\\prime},s^{\\prime}}(k_2)$ over the many-body ground states   \n",
      "$\\hat{H}^{int,HF}$ : Interaction term after Hartree-Fock approximation  \n",
      "\n",
      "===  \n",
      "EXAMPLE 1:  \n",
      "For a four-fermion term $a_1^\\dagger a_2^\\dagger a_3 a_4$, using Wick's theorem and preserving only the normal terms. this is expanded as $a_1^\\dagger a_2^\\dagger a_3 a_4 = \\langle a_1^\\dagger a_4 \\rangle a_2^\\dagger a_3 + \\langle a_2^\\dagger a_3 \\rangle a_1^\\dagger a_4 - \\langle a_1^\\dagger a_4 \\rangle \\langle a_2^\\dagger a_3\\rangle - \\langle a_1^\\dagger a_3 \\rangle a_2^\\dagger a_4 - \\langle a_2^\\dagger a_4 \\rangle a_1^\\dagger a_3 + \\langle a_1^\\dagger a_3\\rangle \\langle a_2^\\dagger a_4 \\rangle$  \n",
      "Be cautious about the order of the index and sign before each term here.\n",
      "\n",
      "EXAMPLE 2:  \n",
      "For a four-fermion term $a_1^\\dagger a_2 a_3^\\dagger a_4$, using Wick's theorem and preserving only the normal terms. this is expanded as $a_1^\\dagger a_2 a_3^\\dagger a_4 = \\langle a_1^\\dagger a_2 \\rangle a_3^\\dagger a_4 + \\langle a_3^\\dagger a_4 \\rangle a_1^\\dagger a_2 - \\langle a_1^\\dagger a_2 \\rangle \\langle a_3^\\dagger a_4\\rangle - \\langle a_1^\\dagger a_4 \\rangle a_3^\\dagger a_2 - \\langle a_3^\\dagger a_2 \\rangle a_1^\\dagger a_4 + \\langle a_1^\\dagger a_4\\rangle \\langle a_3^\\dagger a_2 \\rangle$  \n",
      "Be cautious about the order of the index and sign before each term here.\n"
     ]
    }
   ],
   "source": [
    "print_save(generate_prompt(kwargs,prompt_dict=prompt_dict())['content'])"
   ]
  },
  {
   "cell_type": "code",
   "execution_count": 64,
   "metadata": {},
   "outputs": [],
   "source": [
    "kwargs_list.append(kwargs)"
   ]
  },
  {
   "cell_type": "markdown",
   "metadata": {},
   "source": [
    "## Extract quadratic term [first term]"
   ]
  },
  {
   "cell_type": "code",
   "execution_count": 65,
   "metadata": {},
   "outputs": [],
   "source": [
    "kwargs = {\n",
    "    'task':\"Extract quadratic term\",\n",
    "    'HF_symbol': r'the first term in $\\hat{H}^{int,HF}$',\n",
    "    'bilinear_op': r'$c^\\dagger c$',\n",
    "    'HF_2_symbol': r'the first term in $\\hat{H}^{int,HF,2}$',\n",
    "    'expression_HF': r'''the first term in $\\hat{H}^{int,HF}$ is $\\frac{U_d}{N}\\sum_{k_1,k_2,k_3,k_4} \\sum_{G} \\delta(k_1-k_2+k_3-k_4,G) \\big[ \\langle c_{d,\\uparrow}^\\dagger(k_1) c_{d,\\uparrow}(k_2) \\rangle c_{d,\\downarrow}^\\dagger(k_3) c_{d,\\downarrow}(k_4)+ \\langle c_{d,\\downarrow}^\\dagger(k_3) c_{d,\\downarrow}(k_4) \\rangle c_{d,\\uparrow}^\\dagger(k_1) c_{d,\\uparrow}(k_2)- \\langle c_{d,\\uparrow}^\\dagger(k_1) c_{d,\\uparrow}(k_2) \\rangle \\langle c_{d,\\downarrow}^\\dagger(k_3) c_{d,\\downarrow}(k_4) \\rangle- \\langle c_{d,\\uparrow}^\\dagger(k_1) c_{d,\\downarrow}(k_4) \\rangle c_{d,\\downarrow}^\\dagger(k_3) c_{d,\\uparrow}(k_2)- \\langle c_{d,\\downarrow}^\\dagger(k_3) c_{d,\\uparrow}(k_2) \\rangle c_{d,\\uparrow}^\\dagger(k_1) c_{d,\\downarrow}(k_4)+ \\langle c_{d,\\uparrow}^\\dagger(k_1) c_{d,\\downarrow}(k_4) \\rangle \\langle c_{d,\\downarrow}^\\dagger(k_3) c_{d,\\uparrow}(k_2) \\rangle \\big]$''',\n",
    "    'def_var': r'''$\\hat{H}^{int,HF,2}$ : the quadratic terms in $\\hat{H}^{int,HF}$''',\n",
    "    'answer':r'''$$\\hat{H}^{int,HF,U_d,2}= \\frac{U_d}{N}\\sum_{k_1,k_2,k_3,k_4} \\sum_{G} \\delta(k_1-k_2+k_3-k_4,G) \\big[ \\langle c_{d,\\uparrow}^\\dagger(k_1) c_{d,\\uparrow}(k_2) \\rangle c_{d,\\downarrow}^\\dagger(k_3) c_{d,\\downarrow}(k_4)\n",
    "+ \\langle c_{d,\\downarrow}^\\dagger(k_3) c_{d,\\downarrow}(k_4) \\rangle c_{d,\\uparrow}^\\dagger(k_1) c_{d,\\uparrow}(k_2)\n",
    "- \\langle c_{d,\\uparrow}^\\dagger(k_1) c_{d,\\downarrow}(k_4) \\rangle c_{d,\\downarrow}^\\dagger(k_3) c_{d,\\uparrow}(k_2)\n",
    "- \\langle c_{d,\\downarrow}^\\dagger(k_3) c_{d,\\uparrow}(k_2) \\rangle c_{d,\\uparrow}^\\dagger(k_1) c_{d,\\downarrow}(k_4) \\big]$$''',\n",
    "'source': {'1106.6060.tex':[(221,267)]}\n",
    "\n",
    "}\n"
   ]
  },
  {
   "cell_type": "code",
   "execution_count": 66,
   "metadata": {},
   "outputs": [
    {
     "name": "stdout",
     "output_type": "stream",
     "text": [
      "You will be instructed to extract the quadratic terms in the the first term in $\\hat{H}^{int,HF}$.  \n",
      "The quadratic terms mean terms that are proportional to $c^\\dagger c$, which excludes terms that are solely expectations or products of expectations.  \n",
      "You should only preserve the quadratic terms in the first term in $\\hat{H}^{int,HF}$, denoted as the first term in $\\hat{H}^{int,HF,2}$.  \n",
      "You should recall that the first term in $\\hat{H}^{int,HF}$ is $\\frac{U_d}{N}\\sum_{k_1,k_2,k_3,k_4} \\sum_{G} \\delta(k_1-k_2+k_3-k_4,G) \\big[ \\langle c_{d,\\uparrow}^\\dagger(k_1) c_{d,\\uparrow}(k_2) \\rangle c_{d,\\downarrow}^\\dagger(k_3) c_{d,\\downarrow}(k_4)+ \\langle c_{d,\\downarrow}^\\dagger(k_3) c_{d,\\downarrow}(k_4) \\rangle c_{d,\\uparrow}^\\dagger(k_1) c_{d,\\uparrow}(k_2)- \\langle c_{d,\\uparrow}^\\dagger(k_1) c_{d,\\uparrow}(k_2) \\rangle \\langle c_{d,\\downarrow}^\\dagger(k_3) c_{d,\\downarrow}(k_4) \\rangle- \\langle c_{d,\\uparrow}^\\dagger(k_1) c_{d,\\downarrow}(k_4) \\rangle c_{d,\\downarrow}^\\dagger(k_3) c_{d,\\uparrow}(k_2)- \\langle c_{d,\\downarrow}^\\dagger(k_3) c_{d,\\uparrow}(k_2) \\rangle c_{d,\\uparrow}^\\dagger(k_1) c_{d,\\downarrow}(k_4)+ \\langle c_{d,\\uparrow}^\\dagger(k_1) c_{d,\\downarrow}(k_4) \\rangle \\langle c_{d,\\downarrow}^\\dagger(k_3) c_{d,\\uparrow}(k_2) \\rangle \\big]$.  \n",
      "Return the first term in $\\hat{H}^{int,HF,2}$.  \n",
      "\n",
      "Use the following conventions for the symbols (You should also obey the conventions in all my previous prompts if you encounter undefined symbols. If you find it is never defined or has conflicts in the conventions, you should stop and let me know):  \n",
      "$\\hat{H}^{int,HF,2}$ : the quadratic terms in $\\hat{H}^{int,HF}$\n"
     ]
    }
   ],
   "source": [
    "print_save(generate_prompt(kwargs,prompt_dict=prompt_dict())['content'])"
   ]
  },
  {
   "cell_type": "code",
   "execution_count": 67,
   "metadata": {},
   "outputs": [],
   "source": [
    "kwargs_list.append(kwargs)"
   ]
  },
  {
   "cell_type": "markdown",
   "metadata": {},
   "source": [
    "## Extract quadratic term [second term]"
   ]
  },
  {
   "cell_type": "code",
   "execution_count": 68,
   "metadata": {},
   "outputs": [],
   "source": [
    "kwargs = {\n",
    "    'task':\"Extract quadratic term\",\n",
    "    'HF_symbol': r'the second term in $\\hat{H}^{int,HF}$',\n",
    "    'bilinear_op': r'$c^\\dagger c$',\n",
    "    'HF_2_symbol': r'the second term in $\\hat{H}^{int,HF,2}$',\n",
    "    'expression_HF': r'''the second term in $\\hat{H}^{int,HF}$ is $\\frac{U_p}{2N} \\sum_{k_1,k_2,k_3,k_4} \\sum_{G} \\delta(k_1-k_2+k_3-k_4,G) \\Big\\{ \\langle c_{p_x,\\uparrow}^\\dagger(k_1) c_{p_x,\\uparrow}(k_2) \\rangle c_{p_x,\\downarrow}^\\dagger(k_3) c_{p_x,\\downarrow}(k_4)+ \\langle c_{p_x,\\downarrow}^\\dagger(k_3) c_{p_x,\\downarrow}(k_4) \\rangle c_{p_x,\\uparrow}^\\dagger(k_1) c_{p_x,\\uparrow}(k_2)- \\langle c_{p_x,\\uparrow}^\\dagger(k_1) c_{p_x,\\uparrow}(k_2) \\rangle \\langle c_{p_x,\\downarrow}^\\dagger(k_3) c_{p_x,\\downarrow}(k_4) \\rangle- \\langle c_{p_x,\\uparrow}^\\dagger(k_1) c_{p_x,\\downarrow}(k_4) \\rangle c_{p_x,\\downarrow}^\\dagger(k_3) c_{p_x,\\uparrow}(k_2)- \\langle c_{p_x,\\downarrow}^\\dagger(k_3) c_{p_x,\\uparrow}(k_2) \\rangle c_{p_x,\\uparrow}^\\dagger(k_1) c_{p_x,\\downarrow}(k_4)+ \\langle c_{p_x,\\uparrow}^\\dagger(k_1) c_{p_x,\\downarrow}(k_4) \\rangle \\langle c_{p_x,\\downarrow}^\\dagger(k_3) c_{p_x,\\uparrow}(k_2) \\rangle + \\langle c_{p_y,\\uparrow}^\\dagger(k_1) c_{p_y,\\uparrow}(k_2) \\rangle c_{p_y,\\downarrow}^\\dagger(k_3) c_{p_y,\\downarrow}(k_4)+ \\langle c_{p_y,\\downarrow}^\\dagger(k_3) c_{p_y,\\downarrow}(k_4) \\rangle c_{p_y,\\uparrow}^\\dagger(k_1) c_{p_y,\\uparrow}(k_2)- \\langle c_{p_y,\\uparrow}^\\dagger(k_1) c_{p_y,\\uparrow}(k_2) \\rangle \\langle c_{p_y,\\downarrow}^\\dagger(k_3) c_{p_y,\\downarrow}(k_4) \\rangle- \\langle c_{p_y,\\uparrow}^\\dagger(k_1) c_{p_y,\\downarrow}(k_4) \\rangle c_{p_y,\\downarrow}^\\dagger(k_3) c_{p_y,\\uparrow}(k_2)- \\langle c_{p_y,\\downarrow}^\\dagger(k_3) c_{p_y,\\uparrow}(k_2) \\rangle c_{p_y,\\uparrow}^\\dagger(k_1) c_{p_y,\\downarrow}(k_4)+ \\langle c_{p_y,\\uparrow}^\\dagger(k_1) c_{p_y,\\downarrow}(k_4) \\rangle \\langle c_{p_y,\\downarrow}^\\dagger(k_3) c_{p_y,\\uparrow}(k_2) \\rangle \\Big\\}$''',\n",
    "    'def_var': r'''$\\hat{H}^{int,HF,2}$ : the quadratic terms in $\\hat{H}^{int,HF}$''',\n",
    "    'answer':r'''$$\\hat{H}^{int,HF,U_p,2} = \\frac{U_p}{2N} \\sum_{k_1,k_2,k_3,k_4} \\sum_{G} \\delta(k_1-k_2+k_3-k_4,G) \\Big\\{ \\langle c_{p_x,\\uparrow}^\\dagger(k_1) c_{p_x,\\uparrow}(k_2) \\rangle c_{p_x,\\downarrow}^\\dagger(k_3) c_{p_x,\\downarrow}(k_4)\n",
    "+ \\langle c_{p_x,\\downarrow}^\\dagger(k_3) c_{p_x,\\downarrow}(k_4) \\rangle c_{p_x,\\uparrow}^\\dagger(k_1) c_{p_x,\\uparrow}(k_2)\n",
    "- \\langle c_{p_x,\\uparrow}^\\dagger(k_1) c_{p_x,\\downarrow}(k_4) \\rangle c_{p_x,\\downarrow}^\\dagger(k_3) c_{p_x,\\uparrow}(k_2)\n",
    "- \\langle c_{p_x,\\downarrow}^\\dagger(k_3) c_{p_x,\\uparrow}(k_2) \\rangle c_{p_x,\\uparrow}^\\dagger(k_1) c_{p_x,\\downarrow}(k_4)\n",
    "+ \\langle c_{p_y,\\uparrow}^\\dagger(k_1) c_{p_y,\\uparrow}(k_2) \\rangle c_{p_y,\\downarrow}^\\dagger(k_3) c_{p_y,\\downarrow}(k_4)\n",
    "+ \\langle c_{p_y,\\downarrow}^\\dagger(k_3) c_{p_y,\\downarrow}(k_4) \\rangle c_{p_y,\\uparrow}^\\dagger(k_1) c_{p_y,\\uparrow}(k_2)\n",
    "- \\langle c_{p_y,\\uparrow}^\\dagger(k_1) c_{p_y,\\downarrow}(k_4) \\rangle c_{p_y,\\downarrow}^\\dagger(k_3) c_{p_y,\\uparrow}(k_2)\n",
    "- \\langle c_{p_y,\\downarrow}^\\dagger(k_3) c_{p_y,\\uparrow}(k_2) \\rangle c_{p_y,\\uparrow}^\\dagger(k_1) c_{p_y,\\downarrow}(k_4) \\Big\\}.$$''',\n",
    "'source': {'1106.6060.tex':[(221,267)]}\n",
    "\n",
    "}\n"
   ]
  },
  {
   "cell_type": "code",
   "execution_count": 69,
   "metadata": {},
   "outputs": [
    {
     "name": "stdout",
     "output_type": "stream",
     "text": [
      "You will be instructed to extract the quadratic terms in the the second term in $\\hat{H}^{int,HF}$.  \n",
      "The quadratic terms mean terms that are proportional to $c^\\dagger c$, which excludes terms that are solely expectations or products of expectations.  \n",
      "You should only preserve the quadratic terms in the second term in $\\hat{H}^{int,HF}$, denoted as the second term in $\\hat{H}^{int,HF,2}$.  \n",
      "You should recall that the second term in $\\hat{H}^{int,HF}$ is $\\frac{U_p}{2N} \\sum_{k_1,k_2,k_3,k_4} \\sum_{G} \\delta(k_1-k_2+k_3-k_4,G) \\Big\\{ \\langle c_{p_x,\\uparrow}^\\dagger(k_1) c_{p_x,\\uparrow}(k_2) \\rangle c_{p_x,\\downarrow}^\\dagger(k_3) c_{p_x,\\downarrow}(k_4)+ \\langle c_{p_x,\\downarrow}^\\dagger(k_3) c_{p_x,\\downarrow}(k_4) \\rangle c_{p_x,\\uparrow}^\\dagger(k_1) c_{p_x,\\uparrow}(k_2)- \\langle c_{p_x,\\uparrow}^\\dagger(k_1) c_{p_x,\\uparrow}(k_2) \\rangle \\langle c_{p_x,\\downarrow}^\\dagger(k_3) c_{p_x,\\downarrow}(k_4) \\rangle- \\langle c_{p_x,\\uparrow}^\\dagger(k_1) c_{p_x,\\downarrow}(k_4) \\rangle c_{p_x,\\downarrow}^\\dagger(k_3) c_{p_x,\\uparrow}(k_2)- \\langle c_{p_x,\\downarrow}^\\dagger(k_3) c_{p_x,\\uparrow}(k_2) \\rangle c_{p_x,\\uparrow}^\\dagger(k_1) c_{p_x,\\downarrow}(k_4)+ \\langle c_{p_x,\\uparrow}^\\dagger(k_1) c_{p_x,\\downarrow}(k_4) \\rangle \\langle c_{p_x,\\downarrow}^\\dagger(k_3) c_{p_x,\\uparrow}(k_2) \\rangle + \\langle c_{p_y,\\uparrow}^\\dagger(k_1) c_{p_y,\\uparrow}(k_2) \\rangle c_{p_y,\\downarrow}^\\dagger(k_3) c_{p_y,\\downarrow}(k_4)+ \\langle c_{p_y,\\downarrow}^\\dagger(k_3) c_{p_y,\\downarrow}(k_4) \\rangle c_{p_y,\\uparrow}^\\dagger(k_1) c_{p_y,\\uparrow}(k_2)- \\langle c_{p_y,\\uparrow}^\\dagger(k_1) c_{p_y,\\uparrow}(k_2) \\rangle \\langle c_{p_y,\\downarrow}^\\dagger(k_3) c_{p_y,\\downarrow}(k_4) \\rangle- \\langle c_{p_y,\\uparrow}^\\dagger(k_1) c_{p_y,\\downarrow}(k_4) \\rangle c_{p_y,\\downarrow}^\\dagger(k_3) c_{p_y,\\uparrow}(k_2)- \\langle c_{p_y,\\downarrow}^\\dagger(k_3) c_{p_y,\\uparrow}(k_2) \\rangle c_{p_y,\\uparrow}^\\dagger(k_1) c_{p_y,\\downarrow}(k_4)+ \\langle c_{p_y,\\uparrow}^\\dagger(k_1) c_{p_y,\\downarrow}(k_4) \\rangle \\langle c_{p_y,\\downarrow}^\\dagger(k_3) c_{p_y,\\uparrow}(k_2) \\rangle \\Big\\}$.  \n",
      "Return the second term in $\\hat{H}^{int,HF,2}$.  \n",
      "\n",
      "Use the following conventions for the symbols (You should also obey the conventions in all my previous prompts if you encounter undefined symbols. If you find it is never defined or has conflicts in the conventions, you should stop and let me know):  \n",
      "$\\hat{H}^{int,HF,2}$ : the quadratic terms in $\\hat{H}^{int,HF}$\n"
     ]
    }
   ],
   "source": [
    "print_save(generate_prompt(kwargs,prompt_dict=prompt_dict())['content'])"
   ]
  },
  {
   "cell_type": "code",
   "execution_count": 70,
   "metadata": {},
   "outputs": [],
   "source": [
    "kwargs_list.append(kwargs)"
   ]
  },
  {
   "cell_type": "markdown",
   "metadata": {},
   "source": [
    "## Extract quadratic term [third term]"
   ]
  },
  {
   "cell_type": "code",
   "execution_count": 71,
   "metadata": {},
   "outputs": [],
   "source": [
    "kwargs = {\n",
    "    'task':\"Extract quadratic term\",\n",
    "    'HF_symbol': r'the third term in $\\hat{H}^{int,HF}$',\n",
    "    'bilinear_op': r'$c^\\dagger c$',\n",
    "    'HF_2_symbol': r'the third term in $\\hat{H}^{int,HF,2}$',\n",
    "    'expression_HF': r'''the third term in $\\hat{H}^{int,HF}$ is $2V_{pd} \\sum_{s, s^{\\prime}} \\frac{1}{N} \\sum_{k_1,k_2,k_3,k_4} \\sum_{G} \\delta(k_1-k_2+k_3-k_4,G) \\Big[\\langle c_{d,s}^\\dagger(k_1) c_{d,s}(k_2) \\rangle c_{p_x,s^{\\prime}}^\\dagger(k_3) c_{p_x,s^{\\prime}}(k_4)\\cos\\left(\\frac{k_3-k_4}{2}\\cdot \\hat{x}\\right) + \\langle c_{p_x,s^{\\prime}}^\\dagger(k_3) c_{p_x,s^{\\prime}}(k_4) \\rangle c_{d,s}^\\dagger(k_1) c_{d,s}(k_2)\\cos\\left(\\frac{k_3-k_4}{2}\\cdot \\hat{x}\\right)- \\langle c_{d,s}^\\dagger(k_1) c_{d,s}(k_2) \\rangle \\langle c_{p_x,s^{\\prime}}^\\dagger(k_3) c_{p_x,s^{\\prime}}(k_4) \\rangle \\cos\\left(\\frac{k_3-k_4}{2}\\cdot \\hat{x}\\right)- \\langle c_{d,s}^\\dagger(k_1) c_{p_x,s^{\\prime}}(k_4) \\rangle c_{p_x,s^{\\prime}}^\\dagger(k_3) c_{d,s}(k_2)\\cos\\left(\\frac{k_3-k_4}{2}\\cdot \\hat{x}\\right)- \\langle c_{p_x,s^{\\prime}}^\\dagger(k_3) c_{d,s}(k_2) \\rangle c_{d,s}^\\dagger(k_1) c_{p_x,s^{\\prime}}(k_4)\\cos\\left(\\frac{k_3-k_4}{2}\\cdot \\hat{x}\\right)+ \\langle c_{d,s}^\\dagger(k_1) c_{p_x,s^{\\prime}}(k_4) \\rangle \\langle c_{p_x,s^{\\prime}}^\\dagger(k_3) c_{d,s}(k_2) \\rangle \\cos\\left(\\frac{k_3-k_4}{2}\\cdot \\hat{x}\\right)+ \\langle c_{d,s}^\\dagger(k_1) c_{d,s}(k_2) \\rangle c_{p_y,s^{\\prime}}^\\dagger(k_3) c_{p_y,s^{\\prime}}(k_4)\\cos\\left(\\frac{k_3-k_4}{2}\\cdot \\hat{y}\\right)+ \\langle c_{p_y,s^{\\prime}}^\\dagger(k_3) c_{p_y,s^{\\prime}}(k_4) \\rangle c_{d,s}^\\dagger(k_1) c_{d,s}(k_2)\\cos\\left(\\frac{k_3-k_4}{2}\\cdot \\hat{y}\\right)- \\langle c_{d,s}^\\dagger(k_1) c_{d,s}(k_2) \\rangle \\langle c_{p_y,s^{\\prime}}^\\dagger(k_3) c_{p_y,s^{\\prime}}(k_4) \\rangle \\cos\\left(\\frac{k_3-k_4}{2}\\cdot \\hat{y}\\right)- \\langle c_{d,s}^\\dagger(k_1) c_{p_y,s^{\\prime}}(k_4) \\rangle c_{p_y,s^{\\prime}}^\\dagger(k_3) c_{d,s}(k_2)\\cos\\left(\\frac{k_3-k_4}{2}\\cdot \\hat{y}\\right)- \\langle c_{p_y,s^{\\prime}}^\\dagger(k_3) c_{d,s}(k_2) \\rangle c_{d,s}^\\dagger(k_1) c_{p_y,s^{\\prime}}(k_4)\\cos\\left(\\frac{k_3-k_4}{2}\\cdot \\hat{y}\\right)+ \\langle c_{d,s}^\\dagger(k_1) c_{p_y,s^{\\prime}}(k_4) \\rangle \\langle c_{p_y,s^{\\prime}}^\\dagger(k_3) c_{d,s}(k_2) \\rangle \\cos\\left(\\frac{k_3-k_4}{2}\\cdot \\hat{y}\\right)\\Big]$''',\n",
    "    'def_var': r'''$\\hat{H}^{int,HF,2}$ : the quadratic terms in $\\hat{H}^{int,HF}$''',\n",
    "    'answer':r'''$\\hat{H}^{int,HF,V_{pd},2} = 2V_{pd} \\sum_{s, s^{\\prime}} \\frac{1}{N} \\sum_{k_1,k_2,k_3,k_4} \\sum_{G} \\delta(k_1-k_2+k_3-k_4,G) \\Big[\\langle c_{d,s}^\\dagger(k_1) c_{d,s}(k_2) \\rangle c_{p_x,s^{\\prime}}^\\dagger(k_3) c_{p_x,s^{\\prime}}(k_4)\\cos\\left(\\frac{k_3-k_4}{2}\\cdot \\hat{x}\\right) + \\langle c_{p_x,s^{\\prime}}^\\dagger(k_3) c_{p_x,s^{\\prime}}(k_4) \\rangle c_{d,s}^\\dagger(k_1) c_{d,s}(k_2)\\cos\\left(\\frac{k_3-k_4}{2}\\cdot \\hat{x}\\right)- \\langle c_{d,s}^\\dagger(k_1) c_{p_x,s^{\\prime}}(k_4) \\rangle c_{p_x,s^{\\prime}}^\\dagger(k_3) c_{d,s}(k_2)\\cos\\left(\\frac{k_3-k_4}{2}\\cdot \\hat{x}\\right)- \\langle c_{p_x,s^{\\prime}}^\\dagger(k_3) c_{d,s}(k_2) \\rangle c_{d,s}^\\dagger(k_1) c_{p_x,s^{\\prime}}(k_4)\\cos\\left(\\frac{k_3-k_4}{2}\\cdot \\hat{x}\\right)+ \\langle c_{d,s}^\\dagger(k_1) c_{d,s}(k_2) \\rangle c_{p_y,s^{\\prime}}^\\dagger(k_3) c_{p_y,s^{\\prime}}(k_4)\\cos\\left(\\frac{k_3-k_4}{2}\\cdot \\hat{y}\\right)+ \\langle c_{p_y,s^{\\prime}}^\\dagger(k_3) c_{p_y,s^{\\prime}}(k_4) \\rangle c_{d,s}^\\dagger(k_1) c_{d,s}(k_2)\\cos\\left(\\frac{k_3-k_4}{2}\\cdot \\hat{y}\\right)- \\langle c_{d,s}^\\dagger(k_1) c_{p_y,s^{\\prime}}(k_4) \\rangle c_{p_y,s^{\\prime}}^\\dagger(k_3) c_{d,s}(k_2)\\cos\\left(\\frac{k_3-k_4}{2}\\cdot \\hat{y}\\right)- \\langle c_{p_y,s^{\\prime}}^\\dagger(k_3) c_{d,s}(k_2) \\rangle c_{d,s}^\\dagger(k_1) c_{p_y,s^{\\prime}}(k_4)\\cos\\left(\\frac{k_3-k_4}{2}\\cdot \\hat{y}\\right)\\Big]$''',\n",
    "'source': {'1106.6060.tex':[(221,267)]}\n",
    "\n",
    "}\n"
   ]
  },
  {
   "cell_type": "code",
   "execution_count": 72,
   "metadata": {},
   "outputs": [
    {
     "name": "stdout",
     "output_type": "stream",
     "text": [
      "You will be instructed to extract the quadratic terms in the the third term in $\\hat{H}^{int,HF}$.  \n",
      "The quadratic terms mean terms that are proportional to $c^\\dagger c$, which excludes terms that are solely expectations or products of expectations.  \n",
      "You should only preserve the quadratic terms in the third term in $\\hat{H}^{int,HF}$, denoted as the third term in $\\hat{H}^{int,HF,2}$.  \n",
      "You should recall that the third term in $\\hat{H}^{int,HF}$ is $2V_{pd} \\sum_{s, s^{\\prime}} \\frac{1}{N} \\sum_{k_1,k_2,k_3,k_4} \\sum_{G} \\delta(k_1-k_2+k_3-k_4,G) \\Big[\\langle c_{d,s}^\\dagger(k_1) c_{d,s}(k_2) \\rangle c_{p_x,s^{\\prime}}^\\dagger(k_3) c_{p_x,s^{\\prime}}(k_4)\\cos\\left(\\frac{k_3-k_4}{2}\\cdot \\hat{x}\\right) + \\langle c_{p_x,s^{\\prime}}^\\dagger(k_3) c_{p_x,s^{\\prime}}(k_4) \\rangle c_{d,s}^\\dagger(k_1) c_{d,s}(k_2)\\cos\\left(\\frac{k_3-k_4}{2}\\cdot \\hat{x}\\right)- \\langle c_{d,s}^\\dagger(k_1) c_{d,s}(k_2) \\rangle \\langle c_{p_x,s^{\\prime}}^\\dagger(k_3) c_{p_x,s^{\\prime}}(k_4) \\rangle \\cos\\left(\\frac{k_3-k_4}{2}\\cdot \\hat{x}\\right)- \\langle c_{d,s}^\\dagger(k_1) c_{p_x,s^{\\prime}}(k_4) \\rangle c_{p_x,s^{\\prime}}^\\dagger(k_3) c_{d,s}(k_2)\\cos\\left(\\frac{k_3-k_4}{2}\\cdot \\hat{x}\\right)- \\langle c_{p_x,s^{\\prime}}^\\dagger(k_3) c_{d,s}(k_2) \\rangle c_{d,s}^\\dagger(k_1) c_{p_x,s^{\\prime}}(k_4)\\cos\\left(\\frac{k_3-k_4}{2}\\cdot \\hat{x}\\right)+ \\langle c_{d,s}^\\dagger(k_1) c_{p_x,s^{\\prime}}(k_4) \\rangle \\langle c_{p_x,s^{\\prime}}^\\dagger(k_3) c_{d,s}(k_2) \\rangle \\cos\\left(\\frac{k_3-k_4}{2}\\cdot \\hat{x}\\right)+ \\langle c_{d,s}^\\dagger(k_1) c_{d,s}(k_2) \\rangle c_{p_y,s^{\\prime}}^\\dagger(k_3) c_{p_y,s^{\\prime}}(k_4)\\cos\\left(\\frac{k_3-k_4}{2}\\cdot \\hat{y}\\right)+ \\langle c_{p_y,s^{\\prime}}^\\dagger(k_3) c_{p_y,s^{\\prime}}(k_4) \\rangle c_{d,s}^\\dagger(k_1) c_{d,s}(k_2)\\cos\\left(\\frac{k_3-k_4}{2}\\cdot \\hat{y}\\right)- \\langle c_{d,s}^\\dagger(k_1) c_{d,s}(k_2) \\rangle \\langle c_{p_y,s^{\\prime}}^\\dagger(k_3) c_{p_y,s^{\\prime}}(k_4) \\rangle \\cos\\left(\\frac{k_3-k_4}{2}\\cdot \\hat{y}\\right)- \\langle c_{d,s}^\\dagger(k_1) c_{p_y,s^{\\prime}}(k_4) \\rangle c_{p_y,s^{\\prime}}^\\dagger(k_3) c_{d,s}(k_2)\\cos\\left(\\frac{k_3-k_4}{2}\\cdot \\hat{y}\\right)- \\langle c_{p_y,s^{\\prime}}^\\dagger(k_3) c_{d,s}(k_2) \\rangle c_{d,s}^\\dagger(k_1) c_{p_y,s^{\\prime}}(k_4)\\cos\\left(\\frac{k_3-k_4}{2}\\cdot \\hat{y}\\right)+ \\langle c_{d,s}^\\dagger(k_1) c_{p_y,s^{\\prime}}(k_4) \\rangle \\langle c_{p_y,s^{\\prime}}^\\dagger(k_3) c_{d,s}(k_2) \\rangle \\cos\\left(\\frac{k_3-k_4}{2}\\cdot \\hat{y}\\right)\\Big]$.  \n",
      "Return the third term in $\\hat{H}^{int,HF,2}$.  \n",
      "\n",
      "Use the following conventions for the symbols (You should also obey the conventions in all my previous prompts if you encounter undefined symbols. If you find it is never defined or has conflicts in the conventions, you should stop and let me know):  \n",
      "$\\hat{H}^{int,HF,2}$ : the quadratic terms in $\\hat{H}^{int,HF}$\n"
     ]
    }
   ],
   "source": [
    "print_save(generate_prompt(kwargs,prompt_dict=prompt_dict())['content'])"
   ]
  },
  {
   "cell_type": "code",
   "execution_count": 73,
   "metadata": {},
   "outputs": [],
   "source": [
    "kwargs_list.append(kwargs)"
   ]
  },
  {
   "cell_type": "markdown",
   "metadata": {},
   "source": [
    "## Extract quadratic term [fourth term]"
   ]
  },
  {
   "cell_type": "code",
   "execution_count": 74,
   "metadata": {},
   "outputs": [],
   "source": [
    "kwargs = {\n",
    "    'task':\"Extract quadratic term\",\n",
    "    'HF_symbol': r'the fourth term in $\\hat{H}^{int,HF}$',\n",
    "    'bilinear_op': r'$c^\\dagger c$',\n",
    "    'HF_2_symbol': r'the fourth term in $\\hat{H}^{int,HF,2}$',\n",
    "    'expression_HF': r'''the fourth term in $\\hat{H}^{int,HF}$ is $\\frac{V_{pp}}{N} \\sum_{s, s^{\\prime}} \\sum_{\\sigma_x, \\sigma_y} \\sum_{k_1, k_2, k_3, k_4} \\sum_{G} \\delta(k_2 - k_1 + k_4 - k_3, G) e^{-i (k_1 - k_2) \\cdot \\sigma_x\\hat{x}/2 - i (k_3 - k_4) \\cdot \\sigma_y\\hat{y}/2} \\times \\Big[\\langle c_{p_x,s}^\\dagger(k_1) c_{p_x,s}(k_2) \\rangle c_{p_y,s^{\\prime}}^\\dagger(k_3) c_{p_y,s^{\\prime}}(k_4) + \\langle c_{p_y,s^{\\prime}}^\\dagger(k_3) c_{p_y,s^{\\prime}}(k_4) \\rangle c_{p_x,s}^\\dagger(k_1) c_{p_x,s}(k_2) - \\langle c_{p_x,s}^\\dagger(k_1) c_{p_x,s}(k_2) \\rangle \\langle c_{p_y,s^{\\prime}}^\\dagger(k_3) c_{p_y,s^{\\prime}}(k_4) \\rangle - \\langle c_{p_x,s}^\\dagger(k_1) c_{p_y,s^{\\prime}}(k_4) \\rangle c_{p_y,s^{\\prime}}^\\dagger(k_3) c_{p_x,s}(k_2) - \\langle c_{p_y,s^{\\prime}}^\\dagger(k_3) c_{p_x,s}(k_2) \\rangle c_{p_x,s}^\\dagger(k_1) c_{p_y,s^{\\prime}}(k_4) + \\langle c_{p_x,s}^\\dagger(k_1) c_{p_y,s^{\\prime}}(k_4) \\rangle \\langle c_{p_y,s^{\\prime}}^\\dagger(k_3) c_{p_x,s}(k_2) \\rangle \\Big]$''',\n",
    "    'def_var': r'''$\\hat{H}^{int,HF,2}$ : the quadratic terms in $\\hat{H}^{int,HF}$''',\n",
    "    'answer':r'''$\\hat{H}^{int,HF,V_{pp},2} = \\frac{V_{pp}}{N} \\sum_{s, s^{\\prime}} \\sum_{\\sigma_x, \\sigma_y} \\sum_{k_1, k_2, k_3, k_4} \\sum_{G} \\delta(k_2 - k_1 + k_4 - k_3, G) e^{-i (k_1 - k_2) \\cdot \\sigma_x\\hat{x}/2 - i (k_3 - k_4) \\cdot \\sigma_y\\hat{y}/2} \\times \\Big[ \\langle c_{p_x,s}^\\dagger(k_1) c_{p_x,s}(k_2) \\rangle c_{p_y,s^{\\prime}}^\\dagger(k_3) c_{p_y,s^{\\prime}}(k_4) + \\langle c_{p_y,s^{\\prime}}^\\dagger(k_3) c_{p_y,s^{\\prime}}(k_4) \\rangle c_{p_x,s}^\\dagger(k_1) c_{p_x,s}(k_2) - \\langle c_{p_x,s}^\\dagger(k_1) c_{p_y,s^{\\prime}}(k_4) \\rangle c_{p_y,s^{\\prime}}^\\dagger(k_3) c_{p_x,s}(k_2) - \\langle c_{p_y,s^{\\prime}}^\\dagger(k_3) c_{p_x,s}(k_2) \\rangle c_{p_x,s}^\\dagger(k_1) c_{p_y,s^{\\prime}}(k_4) \\Big]$''',\n",
    "'source': {'1106.6060.tex':[(221,267)]}\n",
    "\n",
    "}\n"
   ]
  },
  {
   "cell_type": "code",
   "execution_count": 75,
   "metadata": {},
   "outputs": [
    {
     "name": "stdout",
     "output_type": "stream",
     "text": [
      "You will be instructed to extract the quadratic terms in the the fourth term in $\\hat{H}^{int,HF}$.  \n",
      "The quadratic terms mean terms that are proportional to $c^\\dagger c$, which excludes terms that are solely expectations or products of expectations.  \n",
      "You should only preserve the quadratic terms in the fourth term in $\\hat{H}^{int,HF}$, denoted as the fourth term in $\\hat{H}^{int,HF,2}$.  \n",
      "You should recall that the fourth term in $\\hat{H}^{int,HF}$ is $\\frac{V_{pp}}{N} \\sum_{s, s^{\\prime}} \\sum_{\\sigma_x, \\sigma_y} \\sum_{k_1, k_2, k_3, k_4} \\sum_{G} \\delta(k_2 - k_1 + k_4 - k_3, G) e^{-i (k_1 - k_2) \\cdot \\sigma_x\\hat{x}/2 - i (k_3 - k_4) \\cdot \\sigma_y\\hat{y}/2} \\times \\Big[\\langle c_{p_x,s}^\\dagger(k_1) c_{p_x,s}(k_2) \\rangle c_{p_y,s^{\\prime}}^\\dagger(k_3) c_{p_y,s^{\\prime}}(k_4) + \\langle c_{p_y,s^{\\prime}}^\\dagger(k_3) c_{p_y,s^{\\prime}}(k_4) \\rangle c_{p_x,s}^\\dagger(k_1) c_{p_x,s}(k_2) - \\langle c_{p_x,s}^\\dagger(k_1) c_{p_x,s}(k_2) \\rangle \\langle c_{p_y,s^{\\prime}}^\\dagger(k_3) c_{p_y,s^{\\prime}}(k_4) \\rangle - \\langle c_{p_x,s}^\\dagger(k_1) c_{p_y,s^{\\prime}}(k_4) \\rangle c_{p_y,s^{\\prime}}^\\dagger(k_3) c_{p_x,s}(k_2) - \\langle c_{p_y,s^{\\prime}}^\\dagger(k_3) c_{p_x,s}(k_2) \\rangle c_{p_x,s}^\\dagger(k_1) c_{p_y,s^{\\prime}}(k_4) + \\langle c_{p_x,s}^\\dagger(k_1) c_{p_y,s^{\\prime}}(k_4) \\rangle \\langle c_{p_y,s^{\\prime}}^\\dagger(k_3) c_{p_x,s}(k_2) \\rangle \\Big]$.  \n",
      "Return the fourth term in $\\hat{H}^{int,HF,2}$.  \n",
      "\n",
      "Use the following conventions for the symbols (You should also obey the conventions in all my previous prompts if you encounter undefined symbols. If you find it is never defined or has conflicts in the conventions, you should stop and let me know):  \n",
      "$\\hat{H}^{int,HF,2}$ : the quadratic terms in $\\hat{H}^{int,HF}$\n"
     ]
    }
   ],
   "source": [
    "print_save(generate_prompt(kwargs,prompt_dict=prompt_dict())['content'])"
   ]
  },
  {
   "cell_type": "code",
   "execution_count": 76,
   "metadata": {},
   "outputs": [],
   "source": [
    "kwargs_list.append(kwargs)"
   ]
  },
  {
   "cell_type": "markdown",
   "metadata": {},
   "source": [
    "## Hartree term only [first term]"
   ]
  },
  {
   "cell_type": "code",
   "execution_count": 77,
   "metadata": {},
   "outputs": [],
   "source": [
    "kwargs = {\n",
    "    'task':\"Hartree term only\",\n",
    "    'HF_2_symbol': r'the first term in $\\hat{H}^{int,HF,2}$',\n",
    "    'expval_Hartree':r'$\\langle c_{\\alpha_1,s_1}^\\dagger(k_1) c_{\\alpha_1,s_1}(k_2) \\rangle$',\n",
    "    'Hartree_2_symbol': r'the first term in $\\hat{H}^{int,Hartree}$',\n",
    "    'expression_HF': r'''the first term in $\\hat{H}^{int,HF,2}$ is $\\frac{U_d}{N}\\sum_{k_1,k_2,k_3,k_4} \\sum_{G} \\delta(k_1-k_2+k_3-k_4,G) \\big[ \\langle c_{d,\\uparrow}^\\dagger(k_1) c_{d,\\uparrow}(k_2) \\rangle c_{d,\\downarrow}^\\dagger(k_3) c_{d,\\downarrow}(k_4)+ \\langle c_{d,\\downarrow}^\\dagger(k_3) c_{d,\\downarrow}(k_4) \\rangle c_{d,\\uparrow}^\\dagger(k_1) c_{d,\\uparrow}(k_2)- \\langle c_{d,\\uparrow}^\\dagger(k_1) c_{d,\\downarrow}(k_4) \\rangle c_{d,\\downarrow}^\\dagger(k_3) c_{d,\\uparrow}(k_2)- \\langle c_{d,\\downarrow}^\\dagger(k_3) c_{d,\\uparrow}(k_2) \\rangle c_{d,\\uparrow}^\\dagger(k_1) c_{d,\\downarrow}(k_4) \\big]$''',\n",
    "    'answer':r'''$\\frac{U_d}{N} \\sum_{k_1, k_2, k_3, k_4} \\sum_{G} \\delta(k_1-k_2+k_3-k_4,G) \\Big[ \\langle c_{d,\\uparrow}^\\dagger(k_1) c_{d,\\uparrow}(k_2) \\rangle c_{d,\\downarrow}^\\dagger(k_3) c_{d,\\downarrow}(k_4) + \\langle c_{d,\\downarrow}^\\dagger(k_3) c_{d,\\downarrow}(k_4) \\rangle c_{d,\\uparrow}^\\dagger(k_1) c_{d,\\uparrow}(k_2) \\Big]$''',\n",
    "'source': {'1106.6060.tex':[(177,267)]}\n",
    "\n",
    "}\n"
   ]
  },
  {
   "cell_type": "code",
   "execution_count": 78,
   "metadata": {},
   "outputs": [
    {
     "name": "stdout",
     "output_type": "stream",
     "text": [
      "You will be instructed to keep only the Hartree term in the first term in $\\hat{H}^{int,HF,2}$.  \n",
      "Here, Hartree term only means that only the expected value in the form $\\langle c_{\\alpha_1,s_1}^\\dagger(k_1) c_{\\alpha_1,s_1}(k_2) \\rangle$ (Note that the two indices are the same) should be the preserved. All other expected value terms should be dropped.\n",
      "You should recall that the first term in $\\hat{H}^{int,HF,2}$ is $\\frac{U_d}{N}\\sum_{k_1,k_2,k_3,k_4} \\sum_{G} \\delta(k_1-k_2+k_3-k_4,G) \\big[ \\langle c_{d,\\uparrow}^\\dagger(k_1) c_{d,\\uparrow}(k_2) \\rangle c_{d,\\downarrow}^\\dagger(k_3) c_{d,\\downarrow}(k_4)+ \\langle c_{d,\\downarrow}^\\dagger(k_3) c_{d,\\downarrow}(k_4) \\rangle c_{d,\\uparrow}^\\dagger(k_1) c_{d,\\uparrow}(k_2)- \\langle c_{d,\\uparrow}^\\dagger(k_1) c_{d,\\downarrow}(k_4) \\rangle c_{d,\\downarrow}^\\dagger(k_3) c_{d,\\uparrow}(k_2)- \\langle c_{d,\\downarrow}^\\dagger(k_3) c_{d,\\uparrow}(k_2) \\rangle c_{d,\\uparrow}^\\dagger(k_1) c_{d,\\downarrow}(k_4) \\big]$  \n",
      "Return the simplified Hamiltonian with the first term in $\\hat{H}^{int,Hartree}$.\n"
     ]
    }
   ],
   "source": [
    "print_save(generate_prompt(kwargs,prompt_dict=prompt_dict())['content'])"
   ]
  },
  {
   "cell_type": "code",
   "execution_count": 79,
   "metadata": {},
   "outputs": [],
   "source": [
    "kwargs_list.append(kwargs)"
   ]
  },
  {
   "cell_type": "markdown",
   "metadata": {},
   "source": [
    "## Hartree term only [second term]"
   ]
  },
  {
   "cell_type": "code",
   "execution_count": 80,
   "metadata": {},
   "outputs": [],
   "source": [
    "kwargs = {\n",
    "    'task':\"Hartree term only\",\n",
    "    'HF_2_symbol': r'the second term in $\\hat{H}^{int,HF,2}$',\n",
    "    'expval_Hartree':r'$\\langle c_{\\alpha_1,s_1}^\\dagger(k_1) c_{\\alpha_1,s_1}(k_2) \\rangle$',\n",
    "    'Hartree_2_symbol': r'the second term in $\\hat{H}^{int,Hartree}$',\n",
    "    'expression_HF': r'''the second term in $\\hat{H}^{int,HF,2}$ is $\\frac{U_p}{2N} \\sum_{k_1,k_2,k_3,k_4} \\sum_{G} \\delta(k_1-k_2+k_3-k_4,G) \\Big\\{ \\langle c_{p_x,\\uparrow}^\\dagger(k_1) c_{p_x,\\uparrow}(k_2) \\rangle c_{p_x,\\downarrow}^\\dagger(k_3) c_{p_x,\\downarrow}(k_4)+ \\langle c_{p_x,\\downarrow}^\\dagger(k_3) c_{p_x,\\downarrow}(k_4) \\rangle c_{p_x,\\uparrow}^\\dagger(k_1) c_{p_x,\\uparrow}(k_2)- \\langle c_{p_x,\\uparrow}^\\dagger(k_1) c_{p_x,\\uparrow}(k_2) \\rangle \\langle c_{p_x,\\downarrow}^\\dagger(k_3) c_{p_x,\\downarrow}(k_4) \\rangle- \\langle c_{p_x,\\uparrow}^\\dagger(k_1) c_{p_x,\\downarrow}(k_4) \\rangle c_{p_x,\\downarrow}^\\dagger(k_3) c_{p_x,\\uparrow}(k_2)- \\langle c_{p_x,\\downarrow}^\\dagger(k_3) c_{p_x,\\uparrow}(k_2) \\rangle c_{p_x,\\uparrow}^\\dagger(k_1) c_{p_x,\\downarrow}(k_4)+ \\langle c_{p_x,\\uparrow}^\\dagger(k_1) c_{p_x,\\downarrow}(k_4) \\rangle \\langle c_{p_x,\\downarrow}^\\dagger(k_3) c_{p_x,\\uparrow}(k_2) \\rangle + \\langle c_{p_y,\\uparrow}^\\dagger(k_1) c_{p_y,\\uparrow}(k_2) \\rangle c_{p_y,\\downarrow}^\\dagger(k_3) c_{p_y,\\downarrow}(k_4)+ \\langle c_{p_y,\\downarrow}^\\dagger(k_3) c_{p_y,\\downarrow}(k_4) \\rangle c_{p_y,\\uparrow}^\\dagger(k_1) c_{p_y,\\uparrow}(k_2)- \\langle c_{p_y,\\uparrow}^\\dagger(k_1) c_{p_y,\\uparrow}(k_2) \\rangle \\langle c_{p_y,\\downarrow}^\\dagger(k_3) c_{p_y,\\downarrow}(k_4) \\rangle- \\langle c_{p_y,\\uparrow}^\\dagger(k_1) c_{p_y,\\downarrow}(k_4) \\rangle c_{p_y,\\downarrow}^\\dagger(k_3) c_{p_y,\\uparrow}(k_2)- \\langle c_{p_y,\\downarrow}^\\dagger(k_3) c_{p_y,\\uparrow}(k_2) \\rangle c_{p_y,\\uparrow}^\\dagger(k_1) c_{p_y,\\downarrow}(k_4)+ \\langle c_{p_y,\\uparrow}^\\dagger(k_1) c_{p_y,\\downarrow}(k_4) \\rangle \\langle c_{p_y,\\downarrow}^\\dagger(k_3) c_{p_y,\\uparrow}(k_2) \\rangle \\Big\\}.$''',\n",
    "    'answer':r'''$\\frac{U_p}{2N} \\sum_{k_1,k_2,k_3,k_4} \\sum_{G} \\delta(k_1-k_2+k_3-k_4,G) \\Big\\{ \\langle c_{p_x,\\uparrow}^\\dagger(k_1) c_{p_x,\\uparrow}(k_2) \\rangle c_{p_x,\\downarrow}^\\dagger(k_3) c_{p_x,\\downarrow}(k_4)\n",
    "+ \\langle c_{p_x,\\downarrow}^\\dagger(k_3) c_{p_x,\\downarrow}(k_4) \\rangle c_{p_x,\\uparrow}^\\dagger(k_1) c_{p_x,\\uparrow}(k_2)\n",
    "+ \\langle c_{p_y,\\uparrow}^\\dagger(k_1) c_{p_y,\\uparrow}(k_2) \\rangle c_{p_y,\\downarrow}^\\dagger(k_3) c_{p_y,\\downarrow}(k_4)\n",
    "+ \\langle c_{p_y,\\downarrow}^\\dagger(k_3) c_{p_y,\\downarrow}(k_4) \\rangle c_{p_y,\\uparrow}^\\dagger(k_1) c_{p_y,\\uparrow}(k_2) \\Big\\}$''',\n",
    "'source': {'1106.6060.tex':[(177,267)]}\n",
    "\n",
    "}\n"
   ]
  },
  {
   "cell_type": "code",
   "execution_count": 81,
   "metadata": {},
   "outputs": [
    {
     "name": "stdout",
     "output_type": "stream",
     "text": [
      "You will be instructed to keep only the Hartree term in the second term in $\\hat{H}^{int,HF,2}$.  \n",
      "Here, Hartree term only means that only the expected value in the form $\\langle c_{\\alpha_1,s_1}^\\dagger(k_1) c_{\\alpha_1,s_1}(k_2) \\rangle$ (Note that the two indices are the same) should be the preserved. All other expected value terms should be dropped.\n",
      "You should recall that the second term in $\\hat{H}^{int,HF,2}$ is $\\frac{U_p}{2N} \\sum_{k_1,k_2,k_3,k_4} \\sum_{G} \\delta(k_1-k_2+k_3-k_4,G) \\Big\\{ \\langle c_{p_x,\\uparrow}^\\dagger(k_1) c_{p_x,\\uparrow}(k_2) \\rangle c_{p_x,\\downarrow}^\\dagger(k_3) c_{p_x,\\downarrow}(k_4)+ \\langle c_{p_x,\\downarrow}^\\dagger(k_3) c_{p_x,\\downarrow}(k_4) \\rangle c_{p_x,\\uparrow}^\\dagger(k_1) c_{p_x,\\uparrow}(k_2)- \\langle c_{p_x,\\uparrow}^\\dagger(k_1) c_{p_x,\\uparrow}(k_2) \\rangle \\langle c_{p_x,\\downarrow}^\\dagger(k_3) c_{p_x,\\downarrow}(k_4) \\rangle- \\langle c_{p_x,\\uparrow}^\\dagger(k_1) c_{p_x,\\downarrow}(k_4) \\rangle c_{p_x,\\downarrow}^\\dagger(k_3) c_{p_x,\\uparrow}(k_2)- \\langle c_{p_x,\\downarrow}^\\dagger(k_3) c_{p_x,\\uparrow}(k_2) \\rangle c_{p_x,\\uparrow}^\\dagger(k_1) c_{p_x,\\downarrow}(k_4)+ \\langle c_{p_x,\\uparrow}^\\dagger(k_1) c_{p_x,\\downarrow}(k_4) \\rangle \\langle c_{p_x,\\downarrow}^\\dagger(k_3) c_{p_x,\\uparrow}(k_2) \\rangle + \\langle c_{p_y,\\uparrow}^\\dagger(k_1) c_{p_y,\\uparrow}(k_2) \\rangle c_{p_y,\\downarrow}^\\dagger(k_3) c_{p_y,\\downarrow}(k_4)+ \\langle c_{p_y,\\downarrow}^\\dagger(k_3) c_{p_y,\\downarrow}(k_4) \\rangle c_{p_y,\\uparrow}^\\dagger(k_1) c_{p_y,\\uparrow}(k_2)- \\langle c_{p_y,\\uparrow}^\\dagger(k_1) c_{p_y,\\uparrow}(k_2) \\rangle \\langle c_{p_y,\\downarrow}^\\dagger(k_3) c_{p_y,\\downarrow}(k_4) \\rangle- \\langle c_{p_y,\\uparrow}^\\dagger(k_1) c_{p_y,\\downarrow}(k_4) \\rangle c_{p_y,\\downarrow}^\\dagger(k_3) c_{p_y,\\uparrow}(k_2)- \\langle c_{p_y,\\downarrow}^\\dagger(k_3) c_{p_y,\\uparrow}(k_2) \\rangle c_{p_y,\\uparrow}^\\dagger(k_1) c_{p_y,\\downarrow}(k_4)+ \\langle c_{p_y,\\uparrow}^\\dagger(k_1) c_{p_y,\\downarrow}(k_4) \\rangle \\langle c_{p_y,\\downarrow}^\\dagger(k_3) c_{p_y,\\uparrow}(k_2) \\rangle \\Big\\}.$  \n",
      "Return the simplified Hamiltonian with the second term in $\\hat{H}^{int,Hartree}$.\n"
     ]
    }
   ],
   "source": [
    "print_save(generate_prompt(kwargs,prompt_dict=prompt_dict())['content'])"
   ]
  },
  {
   "cell_type": "code",
   "execution_count": 82,
   "metadata": {},
   "outputs": [],
   "source": [
    "kwargs_list.append(kwargs)"
   ]
  },
  {
   "cell_type": "markdown",
   "metadata": {},
   "source": [
    "## Hartree term only [third term]"
   ]
  },
  {
   "cell_type": "code",
   "execution_count": 83,
   "metadata": {},
   "outputs": [],
   "source": [
    "kwargs = {\n",
    "    'task':\"Hartree term only\",\n",
    "    'HF_2_symbol': r'the third term in $\\hat{H}^{int,HF,2}$',\n",
    "    'expval_Hartree':r'$\\langle c_{\\alpha_1,s_1}^\\dagger(k_1) c_{\\alpha_1,s_1}(k_2) \\rangle$',\n",
    "    'Hartree_2_symbol': r'the third term in $\\hat{H}^{int,Hartree}$',\n",
    "    'expression_HF': r'''the third term in $\\hat{H}^{int,HF,2}$ is $2V_{pd} \\sum_{s, s^{\\prime}} \\frac{1}{N} \\sum_{k_1,k_2,k_3,k_4} \\sum_{G} \\delta(k_1-k_2+k_3-k_4,G) \\Big[\\langle c_{d,s}^\\dagger(k_1) c_{d,s}(k_2) \\rangle c_{p_x,s^{\\prime}}^\\dagger(k_3) c_{p_x,s^{\\prime}}(k_4)\\cos\\left(\\frac{k_3-k_4}{2}\\cdot \\hat{x}\\right) + \\langle c_{p_x,s^{\\prime}}^\\dagger(k_3) c_{p_x,s^{\\prime}}(k_4) \\rangle c_{d,s}^\\dagger(k_1) c_{d,s}(k_2)\\cos\\left(\\frac{k_3-k_4}{2}\\cdot \\hat{x}\\right)- \\langle c_{d,s}^\\dagger(k_1) c_{d,s}(k_2) \\rangle \\langle c_{p_x,s^{\\prime}}^\\dagger(k_3) c_{p_x,s^{\\prime}}(k_4) \\rangle \\cos\\left(\\frac{k_3-k_4}{2}\\cdot \\hat{x}\\right)- \\langle c_{d,s}^\\dagger(k_1) c_{p_x,s^{\\prime}}(k_4) \\rangle c_{p_x,s^{\\prime}}^\\dagger(k_3) c_{d,s}(k_2)\\cos\\left(\\frac{k_3-k_4}{2}\\cdot \\hat{x}\\right)- \\langle c_{p_x,s^{\\prime}}^\\dagger(k_3) c_{d,s}(k_2) \\rangle c_{d,s}^\\dagger(k_1) c_{p_x,s^{\\prime}}(k_4)\\cos\\left(\\frac{k_3-k_4}{2}\\cdot \\hat{x}\\right)+ \\langle c_{d,s}^\\dagger(k_1) c_{p_x,s^{\\prime}}(k_4) \\rangle \\langle c_{p_x,s^{\\prime}}^\\dagger(k_3) c_{d,s}(k_2) \\rangle \\cos\\left(\\frac{k_3-k_4}{2}\\cdot \\hat{x}\\right)+ \\langle c_{d,s}^\\dagger(k_1) c_{d,s}(k_2) \\rangle c_{p_y,s^{\\prime}}^\\dagger(k_3) c_{p_y,s^{\\prime}}(k_4)\\cos\\left(\\frac{k_3-k_4}{2}\\cdot \\hat{y}\\right)+ \\langle c_{p_y,s^{\\prime}}^\\dagger(k_3) c_{p_y,s^{\\prime}}(k_4) \\rangle c_{d,s}^\\dagger(k_1) c_{d,s}(k_2)\\cos\\left(\\frac{k_3-k_4}{2}\\cdot \\hat{y}\\right)- \\langle c_{d,s}^\\dagger(k_1) c_{d,s}(k_2) \\rangle \\langle c_{p_y,s^{\\prime}}^\\dagger(k_3) c_{p_y,s^{\\prime}}(k_4) \\rangle \\cos\\left(\\frac{k_3-k_4}{2}\\cdot \\hat{y}\\right)- \\langle c_{d,s}^\\dagger(k_1) c_{p_y,s^{\\prime}}(k_4) \\rangle c_{p_y,s^{\\prime}}^\\dagger(k_3) c_{d,s}(k_2)\\cos\\left(\\frac{k_3-k_4}{2}\\cdot \\hat{y}\\right)- \\langle c_{p_y,s^{\\prime}}^\\dagger(k_3) c_{d,s}(k_2) \\rangle c_{d,s}^\\dagger(k_1) c_{p_y,s^{\\prime}}(k_4)\\cos\\left(\\frac{k_3-k_4}{2}\\cdot \\hat{y}\\right)+ \\langle c_{d,s}^\\dagger(k_1) c_{p_y,s^{\\prime}}(k_4) \\rangle \\langle c_{p_y,s^{\\prime}}^\\dagger(k_3) c_{d,s}(k_2) \\rangle \\cos\\left(\\frac{k_3-k_4}{2}\\cdot \\hat{y}\\right)\\Big].$''',\n",
    "    'answer':r'''$\\hat{H}^{int,Hartree,V_{pd}} = 2V_{pd} \\sum_{s, s^{\\prime}} \\frac{1}{N} \\sum_{k_1,k_2,k_3,k_4} \\sum_{G} \\delta(k_1-k_2+k_3-k_4,G) \\Big[\n",
    "\\langle c_{d,s}^\\dagger(k_1) c_{d,s}(k_2) \\rangle c_{p_x,s^{\\prime}}^\\dagger(k_3) c_{p_x,s^{\\prime}}(k_4)\\cos\\left(\\frac{k_3-k_4}{2}\\cdot \\hat{x}\\right) \n",
    "+ \\langle c_{p_x,s^{\\prime}}^\\dagger(k_3) c_{p_x,s^{\\prime}}(k_4) \\rangle c_{d,s}^\\dagger(k_1) c_{d,s}(k_2)\\cos\\left(\\frac{k_3-k_4}{2}\\cdot \\hat{x}\\right)\n",
    "+ \\langle c_{d,s}^\\dagger(k_1) c_{d,s}(k_2) \\rangle c_{p_y,s^{\\prime}}^\\dagger(k_3) c_{p_y,s^{\\prime}}(k_4)\\cos\\left(\\frac{k_3-k_4}{2}\\cdot \\hat{y}\\right)\n",
    "+ \\langle c_{p_y,s^{\\prime}}^\\dagger(k_3) c_{p_y,s^{\\prime}}(k_4) \\rangle c_{d,s}^\\dagger(k_1) c_{d,s}(k_2)\\cos\\left(\\frac{k_3-k_4}{2}\\cdot \\hat{y}\\right) \n",
    "\\Big]$''',\n",
    "'source': {'1106.6060.tex':[(177,267)]}\n",
    "\n",
    "}\n"
   ]
  },
  {
   "cell_type": "code",
   "execution_count": 84,
   "metadata": {},
   "outputs": [
    {
     "name": "stdout",
     "output_type": "stream",
     "text": [
      "You will be instructed to keep only the Hartree term in the third term in $\\hat{H}^{int,HF,2}$.  \n",
      "Here, Hartree term only means that only the expected value in the form $\\langle c_{\\alpha_1,s_1}^\\dagger(k_1) c_{\\alpha_1,s_1}(k_2) \\rangle$ (Note that the two indices are the same) should be the preserved. All other expected value terms should be dropped.\n",
      "You should recall that the third term in $\\hat{H}^{int,HF,2}$ is $2V_{pd} \\sum_{s, s^{\\prime}} \\frac{1}{N} \\sum_{k_1,k_2,k_3,k_4} \\sum_{G} \\delta(k_1-k_2+k_3-k_4,G) \\Big[\\langle c_{d,s}^\\dagger(k_1) c_{d,s}(k_2) \\rangle c_{p_x,s^{\\prime}}^\\dagger(k_3) c_{p_x,s^{\\prime}}(k_4)\\cos\\left(\\frac{k_3-k_4}{2}\\cdot \\hat{x}\\right) + \\langle c_{p_x,s^{\\prime}}^\\dagger(k_3) c_{p_x,s^{\\prime}}(k_4) \\rangle c_{d,s}^\\dagger(k_1) c_{d,s}(k_2)\\cos\\left(\\frac{k_3-k_4}{2}\\cdot \\hat{x}\\right)- \\langle c_{d,s}^\\dagger(k_1) c_{d,s}(k_2) \\rangle \\langle c_{p_x,s^{\\prime}}^\\dagger(k_3) c_{p_x,s^{\\prime}}(k_4) \\rangle \\cos\\left(\\frac{k_3-k_4}{2}\\cdot \\hat{x}\\right)- \\langle c_{d,s}^\\dagger(k_1) c_{p_x,s^{\\prime}}(k_4) \\rangle c_{p_x,s^{\\prime}}^\\dagger(k_3) c_{d,s}(k_2)\\cos\\left(\\frac{k_3-k_4}{2}\\cdot \\hat{x}\\right)- \\langle c_{p_x,s^{\\prime}}^\\dagger(k_3) c_{d,s}(k_2) \\rangle c_{d,s}^\\dagger(k_1) c_{p_x,s^{\\prime}}(k_4)\\cos\\left(\\frac{k_3-k_4}{2}\\cdot \\hat{x}\\right)+ \\langle c_{d,s}^\\dagger(k_1) c_{p_x,s^{\\prime}}(k_4) \\rangle \\langle c_{p_x,s^{\\prime}}^\\dagger(k_3) c_{d,s}(k_2) \\rangle \\cos\\left(\\frac{k_3-k_4}{2}\\cdot \\hat{x}\\right)+ \\langle c_{d,s}^\\dagger(k_1) c_{d,s}(k_2) \\rangle c_{p_y,s^{\\prime}}^\\dagger(k_3) c_{p_y,s^{\\prime}}(k_4)\\cos\\left(\\frac{k_3-k_4}{2}\\cdot \\hat{y}\\right)+ \\langle c_{p_y,s^{\\prime}}^\\dagger(k_3) c_{p_y,s^{\\prime}}(k_4) \\rangle c_{d,s}^\\dagger(k_1) c_{d,s}(k_2)\\cos\\left(\\frac{k_3-k_4}{2}\\cdot \\hat{y}\\right)- \\langle c_{d,s}^\\dagger(k_1) c_{d,s}(k_2) \\rangle \\langle c_{p_y,s^{\\prime}}^\\dagger(k_3) c_{p_y,s^{\\prime}}(k_4) \\rangle \\cos\\left(\\frac{k_3-k_4}{2}\\cdot \\hat{y}\\right)- \\langle c_{d,s}^\\dagger(k_1) c_{p_y,s^{\\prime}}(k_4) \\rangle c_{p_y,s^{\\prime}}^\\dagger(k_3) c_{d,s}(k_2)\\cos\\left(\\frac{k_3-k_4}{2}\\cdot \\hat{y}\\right)- \\langle c_{p_y,s^{\\prime}}^\\dagger(k_3) c_{d,s}(k_2) \\rangle c_{d,s}^\\dagger(k_1) c_{p_y,s^{\\prime}}(k_4)\\cos\\left(\\frac{k_3-k_4}{2}\\cdot \\hat{y}\\right)+ \\langle c_{d,s}^\\dagger(k_1) c_{p_y,s^{\\prime}}(k_4) \\rangle \\langle c_{p_y,s^{\\prime}}^\\dagger(k_3) c_{d,s}(k_2) \\rangle \\cos\\left(\\frac{k_3-k_4}{2}\\cdot \\hat{y}\\right)\\Big].$  \n",
      "Return the simplified Hamiltonian with the third term in $\\hat{H}^{int,Hartree}$.\n"
     ]
    }
   ],
   "source": [
    "print_save(generate_prompt(kwargs,prompt_dict=prompt_dict())['content'])"
   ]
  },
  {
   "cell_type": "code",
   "execution_count": 85,
   "metadata": {},
   "outputs": [],
   "source": [
    "kwargs_list.append(kwargs)"
   ]
  },
  {
   "cell_type": "markdown",
   "metadata": {},
   "source": [
    "## Hartree term only [fourth term]"
   ]
  },
  {
   "cell_type": "code",
   "execution_count": 86,
   "metadata": {},
   "outputs": [],
   "source": [
    "kwargs = {\n",
    "    'task':\"Hartree term only\",\n",
    "    'HF_2_symbol': r'the fourth term in $\\hat{H}^{int,HF,2}$',\n",
    "    'expval_Hartree':r'$\\langle c_{\\alpha_1,s_1}^\\dagger(k_1) c_{\\alpha_1,s_1}(k_2) \\rangle$',\n",
    "    'Hartree_2_symbol': r'the fourth term in $\\hat{H}^{int,Hartree}$',\n",
    "    'expression_HF': r'''the fourth term in $\\hat{H}^{int,HF,2}$ is $\\frac{V_{pp}}{N} \\sum_{s, s^{\\prime}} \\sum_{\\sigma_x, \\sigma_y} \\sum_{k_1, k_2, k_3, k_4} \\sum_{G} \\delta(k_2 - k_1 + k_4 - k_3, G) e^{-i (k_1 - k_2) \\cdot \\sigma_x\\hat{x}/2 - i (k_3 - k_4) \\cdot \\sigma_y\\hat{y}/2} \\times \\Big[\\langle c_{p_x,s}^\\dagger(k_1) c_{p_x,s}(k_2) \\rangle c_{p_y,s^{\\prime}}^\\dagger(k_3) c_{p_y,s^{\\prime}}(k_4) + \\langle c_{p_y,s^{\\prime}}^\\dagger(k_3) c_{p_y,s^{\\prime}}(k_4) \\rangle c_{p_x,s}^\\dagger(k_1) c_{p_x,s}(k_2) - \\langle c_{p_x,s}^\\dagger(k_1) c_{p_x,s}(k_2) \\rangle \\langle c_{p_y,s^{\\prime}}^\\dagger(k_3) c_{p_y,s^{\\prime}}(k_4) \\rangle - \\langle c_{p_x,s}^\\dagger(k_1) c_{p_y,s^{\\prime}}(k_4) \\rangle c_{p_y,s^{\\prime}}^\\dagger(k_3) c_{p_x,s}(k_2) - \\langle c_{p_y,s^{\\prime}}^\\dagger(k_3) c_{p_x,s}(k_2) \\rangle c_{p_x,s}^\\dagger(k_1) c_{p_y,s^{\\prime}}(k_4) + \\langle c_{p_x,s}^\\dagger(k_1) c_{p_y,s^{\\prime}}(k_4) \\rangle \\langle c_{p_y,s^{\\prime}}^\\dagger(k_3) c_{p_x,s}(k_2) \\rangle \\Big]$''',\n",
    "    'answer':r'''$\\hat{H}^{int,Hartree,V_{pp}} = \\frac{V_{pp}}{N} \\sum_{s, s^{\\prime}} \\sum_{\\sigma_x, \\sigma_y} \\sum_{k_1, k_2, k_3, k_4} \\sum_{G} \\delta(k_2 - k_1 + k_4 - k_3, G) e^{-i (k_1 - k_2) \\cdot \\sigma_x\\hat{x}/2 - i (k_3 - k_4) \\cdot \\sigma_y\\hat{y}/2} \\times \\Big[ \\langle c_{p_x,s}^\\dagger(k_1) c_{p_x,s}(k_2) \\rangle c_{p_y,s^{\\prime}}^\\dagger(k_3) c_{p_y,s^{\\prime}}(k_4) + \\langle c_{p_y,s^{\\prime}}^\\dagger(k_3) c_{p_y,s^{\\prime}}(k_4) \\rangle c_{p_x,s}^\\dagger(k_1) c_{p_x,s}(k_2) \\Big].\n",
    "$''',\n",
    "'source': {'1106.6060.tex':[(177,267)]}\n",
    "\n",
    "}\n"
   ]
  },
  {
   "cell_type": "code",
   "execution_count": 87,
   "metadata": {},
   "outputs": [
    {
     "name": "stdout",
     "output_type": "stream",
     "text": [
      "You will be instructed to keep only the Hartree term in the fourth term in $\\hat{H}^{int,HF,2}$.  \n",
      "Here, Hartree term only means that only the expected value in the form $\\langle c_{\\alpha_1,s_1}^\\dagger(k_1) c_{\\alpha_1,s_1}(k_2) \\rangle$ (Note that the two indices are the same) should be the preserved. All other expected value terms should be dropped.\n",
      "You should recall that the fourth term in $\\hat{H}^{int,HF,2}$ is $\\frac{V_{pp}}{N} \\sum_{s, s^{\\prime}} \\sum_{\\sigma_x, \\sigma_y} \\sum_{k_1, k_2, k_3, k_4} \\sum_{G} \\delta(k_2 - k_1 + k_4 - k_3, G) e^{-i (k_1 - k_2) \\cdot \\sigma_x\\hat{x}/2 - i (k_3 - k_4) \\cdot \\sigma_y\\hat{y}/2} \\times \\Big[\\langle c_{p_x,s}^\\dagger(k_1) c_{p_x,s}(k_2) \\rangle c_{p_y,s^{\\prime}}^\\dagger(k_3) c_{p_y,s^{\\prime}}(k_4) + \\langle c_{p_y,s^{\\prime}}^\\dagger(k_3) c_{p_y,s^{\\prime}}(k_4) \\rangle c_{p_x,s}^\\dagger(k_1) c_{p_x,s}(k_2) - \\langle c_{p_x,s}^\\dagger(k_1) c_{p_x,s}(k_2) \\rangle \\langle c_{p_y,s^{\\prime}}^\\dagger(k_3) c_{p_y,s^{\\prime}}(k_4) \\rangle - \\langle c_{p_x,s}^\\dagger(k_1) c_{p_y,s^{\\prime}}(k_4) \\rangle c_{p_y,s^{\\prime}}^\\dagger(k_3) c_{p_x,s}(k_2) - \\langle c_{p_y,s^{\\prime}}^\\dagger(k_3) c_{p_x,s}(k_2) \\rangle c_{p_x,s}^\\dagger(k_1) c_{p_y,s^{\\prime}}(k_4) + \\langle c_{p_x,s}^\\dagger(k_1) c_{p_y,s^{\\prime}}(k_4) \\rangle \\langle c_{p_y,s^{\\prime}}^\\dagger(k_3) c_{p_x,s}(k_2) \\rangle \\Big]$  \n",
      "Return the simplified Hamiltonian with the fourth term in $\\hat{H}^{int,Hartree}$.\n"
     ]
    }
   ],
   "source": [
    "print_save(generate_prompt(kwargs,prompt_dict=prompt_dict())['content'])"
   ]
  },
  {
   "cell_type": "code",
   "execution_count": 88,
   "metadata": {},
   "outputs": [],
   "source": [
    "kwargs_list.append(kwargs)"
   ]
  },
  {
   "cell_type": "markdown",
   "metadata": {},
   "source": [
    "## Swap the index only [first term]"
   ]
  },
  {
   "cell_type": "code",
   "execution_count": 89,
   "metadata": {},
   "outputs": [],
   "source": [
    "kwargs = {\n",
    "    'task':\"Swap the index only\",\n",
    "    'HF_2_symbol': r'the first term in $\\hat{H}^{int,HF,2}$',\n",
    "    'expval': r'$\\langle c_{\\alpha_1,s_1}^\\dagger(k_1) c_{\\alpha_1,s_1}(k_2) \\rangle$',\n",
    "    'expression_Hartree_1':r'$\\langle c_{\\alpha_1,s_1}^\\dagger(k_1) c_{\\alpha_1,s_1}(k_2) \\rangle c_{\\alpha_2,s_2}^\\dagger(k_3) c_{\\alpha_2,s_2}(k_4)$',\n",
    "    'expression_Hartree_2':r'$\\langle c_{\\alpha_2,s_2}^\\dagger(k_3) c_{\\alpha_2,s_2}(k_4)\\rangle c_{\\alpha_1,s_1}^\\dagger(k_1) c_{\\alpha_1,s_1}(k_2)$',\n",
    "    'relabel': '$k_1 \\leftrightarrow k_3$ and $k_2 \\leftrightarrow k_4$',\n",
    "    'Unsummed_Indices': r'$\\uparrow$ and $\\downarrow$', \n",
    "    'expression_HF_2':r'''the first term in $\\hat{H}^{int,HF,2}$ in $\\frac{U_d}{N} \\sum_{k_1, k_2, k_3, k_4} \\sum_{G} \\delta(k_1-k_2+k_3-k_4,G) \\Big[ \\langle c_{d,\\uparrow}^\\dagger(k_1) c_{d,\\uparrow}(k_2) \\rangle c_{d,\\downarrow}^\\dagger(k_3) c_{d,\\downarrow}(k_4) + \\langle c_{d,\\downarrow}^\\dagger(k_3) c_{d,\\downarrow}(k_4) \\rangle c_{d,\\uparrow}^\\dagger(k_1) c_{d,\\uparrow}(k_2) \\Big]$''',\n",
    "    'answer':r'''$\\hat{H}^{int,Hartree,U_d} = \\frac{U_d}{N} \\sum_{k_1, k_2, k_3, k_4} \\sum_{G} \\delta(k_1-k_2+k_3-k_4,G) \\Big[ \\langle c_{d,\\uparrow}^\\dagger(k_1) c_{d,\\uparrow}(k_2) \\rangle c_{d,\\downarrow}^\\dagger(k_3) c_{d,\\downarrow}(k_4) + \\langle c_{d,\\downarrow}^\\dagger(k_1) c_{d,\\downarrow}(k_2) \\rangle c_{d,\\uparrow}^\\dagger(k_3) c_{d,\\uparrow}(k_4) \\Big].$''',\n",
    "'source': {'1106.6060.tex':[(177,267)]}\n",
    "\n",
    "}\n"
   ]
  },
  {
   "cell_type": "code",
   "execution_count": 90,
   "metadata": {},
   "outputs": [
    {
     "name": "stdout",
     "output_type": "stream",
     "text": [
      "You will be instructed to simplify the quadratic term the first term in $\\hat{H}^{int,HF,2}$ through relabeling the index.  \n",
      "The logic is that the expected value ($\\langle c_{\\alpha_1,s_1}^\\dagger(k_1) c_{\\alpha_1,s_1}(k_2) \\rangle$) in the first Hartree term ($\\langle c_{\\alpha_1,s_1}^\\dagger(k_1) c_{\\alpha_1,s_1}(k_2) \\rangle c_{\\alpha_2,s_2}^\\dagger(k_3) c_{\\alpha_2,s_2}(k_4)$) has the same form as the quadratic operators in the second Hartree term ($\\langle c_{\\alpha_2,s_2}^\\dagger(k_3) c_{\\alpha_2,s_2}(k_4)\\rangle c_{\\alpha_1,s_1}^\\dagger(k_1) c_{\\alpha_1,s_1}(k_2)$), and vice versa. The same applies to the Fock term.  \n",
      "Namely, a replacement of $k_1 \\leftrightarrow k_3$ and $k_2 \\leftrightarrow k_4$ is applied to ONLY the second Hartree or Fock term. You should not swap any index that is not in the summation, which includes $\\uparrow$ and $\\downarrow$.  \n",
      "This means, if you relabel the index by swapping the index in the \"expected value\" and \"quadratic operators\" in the second Hartree or Fock term, you can make the second Hartree or Fock term look identical to the first Hartree or Fock term, as long as $V(q)=V(-q)$, which is naturally satisfied in Coulomb interaction. You should follow the EXAMPLE below to simplify it through relabeling the index.  \n",
      "You should recall that the first term in $\\hat{H}^{int,HF,2}$ in $\\frac{U_d}{N} \\sum_{k_1, k_2, k_3, k_4} \\sum_{G} \\delta(k_1-k_2+k_3-k_4,G) \\Big[ \\langle c_{d,\\uparrow}^\\dagger(k_1) c_{d,\\uparrow}(k_2) \\rangle c_{d,\\downarrow}^\\dagger(k_3) c_{d,\\downarrow}(k_4) + \\langle c_{d,\\downarrow}^\\dagger(k_3) c_{d,\\downarrow}(k_4) \\rangle c_{d,\\uparrow}^\\dagger(k_1) c_{d,\\uparrow}(k_2) \\Big]$\n",
      "Return the simplied the first term in $\\hat{H}^{int,HF,2}$.\n",
      "\n",
      "===  \n",
      "EXAMPLE:  \n",
      "Given a Hamiltonian $\\hat{H}=\\sum_{k_1,k_2, k_3, k_4,\\sigma_1,\\sigma_2,\\sigma_3,\\sigma_4} V(k_1-k_4) (\\langle c_{d,\\sigma_1}^\\dagger(k_1) c_{d,\\sigma_4}(k_4) \\rangle c_{p,\\sigma_2}^\\dagger(k_2) c_{p,\\sigma_3}(k_3) + \\langle c_{p,\\sigma_2}^\\dagger(k_2) c_{d,\\sigma_3}(k_3) \\rangle c_{d,\\sigma_1}^\\dagger(k_1) c_{\\sigma_4}(k_4) ) \\delta_{k_1+k_2,k_3+k_4}$, where $V(q)=V(-q)$.  \n",
      "In the second term, we relabel the index to swap the index in expected value and the index in quadratic operators, namely, $\\sigma_1 \\leftrightarrow \\sigma_2$, $\\sigma_3 \\leftrightarrow \\sigma_4$, $k_1 \\leftrightarrow k_2$, $k_3 \\leftrightarrow k_4$. Important: $d$ and $p$ cannot be swapped because they are not indices in the summation.  \n",
      "After the replacement, the second term becomes $\\sum_{k_1,k_2, k_3, k_4,\\sigma_1,\\sigma_2,\\sigma_3,\\sigma_4} V(k_2-k_3) \\langle c_{p,\\sigma_1}^\\dagger(k_1) c_{p,\\sigma_4}(k_4) \\rangle c_{d,\\sigma_2}^\\dagger(k_2) c_{d,\\sigma_3}(k_3) \\delta_{k_4+k_3,k_2+k_1}$.  \n",
      "Note that the Kronecker dirac function $\\delta_{k_4+k_3,k_2+k_1}$ implies $k_1+k_2=k_3+k_4$, i.e., $k_2-k_3=k_4-k_1$. Thus, the second term simplifies to $\\sum_{k_1,k_2, k_3, k_4,\\sigma_1,\\sigma_2,\\sigma_3,\\sigma_4} V(k_4-k_1) \\langle c_{p,\\sigma_1}^\\dagger(k_1) c_{p,\\sigma_4}(k_4) \\rangle c_{d,\\sigma_2}^\\dagger(k_2) c_{d,\\sigma_3}(k_3) \\delta_{k_4+k_3,k_2+k_1}$.\n",
      "Because $V(q)=V(-q)$, meaning $V(k_4-k_1)=V(k_1-k_4)$, the second term further simplifies to $\\sum_{k_1,k_2, k_3, k_4,\\sigma_1,\\sigma_2,\\sigma_3,\\sigma_4} V(k_1-k_4) \\langle c_{p,\\sigma_1}^\\dagger(k_1) c_{p,\\sigma_4}(k_4) \\rangle c_{d,\\sigma_2}^\\dagger(k_2) c_{d,\\sigma_3}(k_3) \\delta_{k_4+k_3,k_2+k_1}$.   \n",
      "Finally, we have the simplified Hamiltonian as  $\\hat{H}=\\sum_{k_1,k_2, k_3, k_4,\\sigma_1,\\sigma_2,\\sigma_3,\\sigma_4} V(k_1-k_4) (\\langle c_{d,\\sigma_1}^\\dagger(k_1) c_{d,\\sigma_4}(k_4) \\rangle c_{p,\\sigma_2}^\\dagger(k_2) c_{p,\\sigma_3}(k_3) + \\langle c_{p,\\sigma_1}^\\dagger(k_1) c_{p,\\sigma_4}(k_4) \\rangle c_{d,\\sigma_2}^\\dagger(k_2) c_{d,\\sigma_3}(k_3)) \\delta_{k_4+k_3,k_2+k_1}$.\n"
     ]
    }
   ],
   "source": [
    "print_save(generate_prompt(kwargs,prompt_dict=prompt_dict())['content'])"
   ]
  },
  {
   "cell_type": "code",
   "execution_count": 91,
   "metadata": {},
   "outputs": [],
   "source": [
    "kwargs_list.append(kwargs)"
   ]
  },
  {
   "cell_type": "markdown",
   "metadata": {},
   "source": [
    "## Swap the index only [second term]"
   ]
  },
  {
   "cell_type": "code",
   "execution_count": 92,
   "metadata": {},
   "outputs": [],
   "source": [
    "kwargs = {\n",
    "    'task':\"Swap the index only\",\n",
    "    'HF_2_symbol': r'the second term in $\\hat{H}^{int,HF,2}$',\n",
    "    'expval': r'$\\langle c_{\\alpha_1,s_1}^\\dagger(k_1) c_{\\alpha_1,s_1}(k_2) \\rangle$',\n",
    "    'expression_Hartree_1':r'$\\langle c_{\\alpha_1,s_1}^\\dagger(k_1) c_{\\alpha_1,s_1}(k_2) \\rangle c_{\\alpha_2,s_2}^\\dagger(k_3) c_{\\alpha_2,s_2}(k_4)$',\n",
    "    'expression_Hartree_2':r'$\\langle c_{\\alpha_2,s_2}^\\dagger(k_3) c_{\\alpha_2,s_2}(k_4)\\rangle c_{\\alpha_1,s_1}^\\dagger(k_1) c_{\\alpha_1,s_1}(k_2)$',\n",
    "    'relabel': '$k_1 \\leftrightarrow k_3$ and $k_2 \\leftrightarrow k_4$',\n",
    "    'Unsummed_Indices': r'$\\uparrow$ and $\\downarrow$', \n",
    "    'expression_HF_2':r'''the second term in $\\hat{H}^{int,HF,2}$ is $\\frac{U_p}{2N} \\sum_{k_1,k_2,k_3,k_4} \\sum_{G} \\delta(k_1-k_2+k_3-k_4,G) \\Big\\{ \\langle c_{p_x,\\uparrow}^\\dagger(k_1) c_{p_x,\\uparrow}(k_2) \\rangle c_{p_x,\\downarrow}^\\dagger(k_3) c_{p_x,\\downarrow}(k_4)+ \\langle c_{p_x,\\downarrow}^\\dagger(k_3) c_{p_x,\\downarrow}(k_4) \\rangle c_{p_x,\\uparrow}^\\dagger(k_1) c_{p_x,\\uparrow}(k_2)+ \\langle c_{p_y,\\uparrow}^\\dagger(k_1) c_{p_y,\\uparrow}(k_2) \\rangle c_{p_y,\\downarrow}^\\dagger(k_3) c_{p_y,\\downarrow}(k_4)+ \\langle c_{p_y,\\downarrow}^\\dagger(k_3) c_{p_y,\\downarrow}(k_4) \\rangle c_{p_y,\\uparrow}^\\dagger(k_1) c_{p_y,\\uparrow}(k_2) \\Big\\}.$''',\n",
    "    'answer':r''' $\\hat{H}^{int,Hartree,U_p} = \\frac{U_p}{2N} \\sum_{k_1,k_2,k_3,k_4} \\sum_{G} \\delta(k_1-k_2+k_3-k_4,G) \\Big\\{ \\langle c_{p_x,\\uparrow}^\\dagger(k_1) c_{p_x,\\uparrow}(k_2) \\rangle c_{p_x,\\downarrow}^\\dagger(k_3) c_{p_x,\\downarrow}(k_4)+ \\langle c_{p_x,\\downarrow}^\\dagger(k_1) c_{p_x,\\downarrow}(k_2) \\rangle c_{p_x,\\uparrow}^\\dagger(k_3) c_{p_x,\\uparrow}(k_4)+ \\langle c_{p_y,\\uparrow}^\\dagger(k_1) c_{p_y,\\uparrow}(k_2) \\rangle c_{p_y,\\downarrow}^\\dagger(k_3) c_{p_y,\\downarrow}(k_4)+ \\langle c_{p_y,\\downarrow}^\\dagger(k_1) c_{p_y,\\downarrow}(k_2) \\rangle c_{p_y,\\uparrow}^\\dagger(k_3) c_{p_y,\\uparrow}(k_4) \\Big\\}$''',\n",
    "'source': {'1106.6060.tex':[(177,267)]}\n",
    "\n",
    "}\n"
   ]
  },
  {
   "cell_type": "code",
   "execution_count": 93,
   "metadata": {},
   "outputs": [
    {
     "name": "stdout",
     "output_type": "stream",
     "text": [
      "You will be instructed to simplify the quadratic term the second term in $\\hat{H}^{int,HF,2}$ through relabeling the index.  \n",
      "The logic is that the expected value ($\\langle c_{\\alpha_1,s_1}^\\dagger(k_1) c_{\\alpha_1,s_1}(k_2) \\rangle$) in the first Hartree term ($\\langle c_{\\alpha_1,s_1}^\\dagger(k_1) c_{\\alpha_1,s_1}(k_2) \\rangle c_{\\alpha_2,s_2}^\\dagger(k_3) c_{\\alpha_2,s_2}(k_4)$) has the same form as the quadratic operators in the second Hartree term ($\\langle c_{\\alpha_2,s_2}^\\dagger(k_3) c_{\\alpha_2,s_2}(k_4)\\rangle c_{\\alpha_1,s_1}^\\dagger(k_1) c_{\\alpha_1,s_1}(k_2)$), and vice versa. The same applies to the Fock term.  \n",
      "Namely, a replacement of $k_1 \\leftrightarrow k_3$ and $k_2 \\leftrightarrow k_4$ is applied to ONLY the second Hartree or Fock term. You should not swap any index that is not in the summation, which includes $\\uparrow$ and $\\downarrow$.  \n",
      "This means, if you relabel the index by swapping the index in the \"expected value\" and \"quadratic operators\" in the second Hartree or Fock term, you can make the second Hartree or Fock term look identical to the first Hartree or Fock term, as long as $V(q)=V(-q)$, which is naturally satisfied in Coulomb interaction. You should follow the EXAMPLE below to simplify it through relabeling the index.  \n",
      "You should recall that the second term in $\\hat{H}^{int,HF,2}$ is $\\frac{U_p}{2N} \\sum_{k_1,k_2,k_3,k_4} \\sum_{G} \\delta(k_1-k_2+k_3-k_4,G) \\Big\\{ \\langle c_{p_x,\\uparrow}^\\dagger(k_1) c_{p_x,\\uparrow}(k_2) \\rangle c_{p_x,\\downarrow}^\\dagger(k_3) c_{p_x,\\downarrow}(k_4)+ \\langle c_{p_x,\\downarrow}^\\dagger(k_3) c_{p_x,\\downarrow}(k_4) \\rangle c_{p_x,\\uparrow}^\\dagger(k_1) c_{p_x,\\uparrow}(k_2)+ \\langle c_{p_y,\\uparrow}^\\dagger(k_1) c_{p_y,\\uparrow}(k_2) \\rangle c_{p_y,\\downarrow}^\\dagger(k_3) c_{p_y,\\downarrow}(k_4)+ \\langle c_{p_y,\\downarrow}^\\dagger(k_3) c_{p_y,\\downarrow}(k_4) \\rangle c_{p_y,\\uparrow}^\\dagger(k_1) c_{p_y,\\uparrow}(k_2) \\Big\\}.$\n",
      "Return the simplied the second term in $\\hat{H}^{int,HF,2}$.\n",
      "\n",
      "===  \n",
      "EXAMPLE:  \n",
      "Given a Hamiltonian $\\hat{H}=\\sum_{k_1,k_2, k_3, k_4,\\sigma_1,\\sigma_2,\\sigma_3,\\sigma_4} V(k_1-k_4) (\\langle c_{d,\\sigma_1}^\\dagger(k_1) c_{d,\\sigma_4}(k_4) \\rangle c_{p,\\sigma_2}^\\dagger(k_2) c_{p,\\sigma_3}(k_3) + \\langle c_{p,\\sigma_2}^\\dagger(k_2) c_{d,\\sigma_3}(k_3) \\rangle c_{d,\\sigma_1}^\\dagger(k_1) c_{\\sigma_4}(k_4) ) \\delta_{k_1+k_2,k_3+k_4}$, where $V(q)=V(-q)$.  \n",
      "In the second term, we relabel the index to swap the index in expected value and the index in quadratic operators, namely, $\\sigma_1 \\leftrightarrow \\sigma_2$, $\\sigma_3 \\leftrightarrow \\sigma_4$, $k_1 \\leftrightarrow k_2$, $k_3 \\leftrightarrow k_4$. Important: $d$ and $p$ cannot be swapped because they are not indices in the summation.  \n",
      "After the replacement, the second term becomes $\\sum_{k_1,k_2, k_3, k_4,\\sigma_1,\\sigma_2,\\sigma_3,\\sigma_4} V(k_2-k_3) \\langle c_{p,\\sigma_1}^\\dagger(k_1) c_{p,\\sigma_4}(k_4) \\rangle c_{d,\\sigma_2}^\\dagger(k_2) c_{d,\\sigma_3}(k_3) \\delta_{k_4+k_3,k_2+k_1}$.  \n",
      "Note that the Kronecker dirac function $\\delta_{k_4+k_3,k_2+k_1}$ implies $k_1+k_2=k_3+k_4$, i.e., $k_2-k_3=k_4-k_1$. Thus, the second term simplifies to $\\sum_{k_1,k_2, k_3, k_4,\\sigma_1,\\sigma_2,\\sigma_3,\\sigma_4} V(k_4-k_1) \\langle c_{p,\\sigma_1}^\\dagger(k_1) c_{p,\\sigma_4}(k_4) \\rangle c_{d,\\sigma_2}^\\dagger(k_2) c_{d,\\sigma_3}(k_3) \\delta_{k_4+k_3,k_2+k_1}$.\n",
      "Because $V(q)=V(-q)$, meaning $V(k_4-k_1)=V(k_1-k_4)$, the second term further simplifies to $\\sum_{k_1,k_2, k_3, k_4,\\sigma_1,\\sigma_2,\\sigma_3,\\sigma_4} V(k_1-k_4) \\langle c_{p,\\sigma_1}^\\dagger(k_1) c_{p,\\sigma_4}(k_4) \\rangle c_{d,\\sigma_2}^\\dagger(k_2) c_{d,\\sigma_3}(k_3) \\delta_{k_4+k_3,k_2+k_1}$.   \n",
      "Finally, we have the simplified Hamiltonian as  $\\hat{H}=\\sum_{k_1,k_2, k_3, k_4,\\sigma_1,\\sigma_2,\\sigma_3,\\sigma_4} V(k_1-k_4) (\\langle c_{d,\\sigma_1}^\\dagger(k_1) c_{d,\\sigma_4}(k_4) \\rangle c_{p,\\sigma_2}^\\dagger(k_2) c_{p,\\sigma_3}(k_3) + \\langle c_{p,\\sigma_1}^\\dagger(k_1) c_{p,\\sigma_4}(k_4) \\rangle c_{d,\\sigma_2}^\\dagger(k_2) c_{d,\\sigma_3}(k_3)) \\delta_{k_4+k_3,k_2+k_1}$.\n"
     ]
    }
   ],
   "source": [
    "print_save(generate_prompt(kwargs,prompt_dict=prompt_dict())['content'])"
   ]
  },
  {
   "cell_type": "code",
   "execution_count": 94,
   "metadata": {},
   "outputs": [],
   "source": [
    "kwargs_list.append(kwargs)"
   ]
  },
  {
   "cell_type": "markdown",
   "metadata": {},
   "source": [
    "## Swap the index only [third term]"
   ]
  },
  {
   "cell_type": "code",
   "execution_count": 95,
   "metadata": {},
   "outputs": [],
   "source": [
    "kwargs = {\n",
    "    'task':\"Swap the index only\",\n",
    "    'HF_2_symbol': r'the third term in $\\hat{H}^{int,HF,2}$',\n",
    "    'expval': r'$\\langle c_{\\alpha_1,s_1}^\\dagger(k_1) c_{\\alpha_1,s_1}(k_2) \\rangle$',\n",
    "    'expression_Hartree_1':r'$\\langle c_{\\alpha_1,s_1}^\\dagger(k_1) c_{\\alpha_1,s_1}(k_2) \\rangle c_{\\alpha_2,s_2}^\\dagger(k_3) c_{\\alpha_2,s_2}(k_4)$',\n",
    "    'expression_Hartree_2':r'$\\langle c_{\\alpha_2,s_2}^\\dagger(k_3) c_{\\alpha_2,s_2}(k_4)\\rangle c_{\\alpha_1,s_1}^\\dagger(k_1) c_{\\alpha_1,s_1}(k_2)$',\n",
    "    'relabel': '$k_1 \\leftrightarrow k_3$ and $k_2 \\leftrightarrow k_4$',\n",
    "    'Unsummed_Indices': r'$\\uparrow$ and $\\downarrow$', \n",
    "    'expression_HF_2':r'''the third term in $\\hat{H}^{int,HF,2}$ is $2V_{pd} \\sum_{s, s^{\\prime}} \\frac{1}{N} \\sum_{k_1,k_2,k_3,k_4} \\sum_{G} \\delta(k_1-k_2+k_3-k_4,G) \\Big[\\langle c_{d,s}^\\dagger(k_1) c_{d,s}(k_2) \\rangle c_{p_x,s^{\\prime}}^\\dagger(k_3) c_{p_x,s^{\\prime}}(k_4)\\cos\\left(\\frac{k_3-k_4}{2}\\cdot \\hat{x}\\right) + \\langle c_{p_x,s^{\\prime}}^\\dagger(k_3) c_{p_x,s^{\\prime}}(k_4) \\rangle c_{d,s}^\\dagger(k_1) c_{d,s}(k_2)\\cos\\left(\\frac{k_3-k_4}{2}\\cdot \\hat{x}\\right)+ \\langle c_{d,s}^\\dagger(k_1) c_{d,s}(k_2) \\rangle c_{p_y,s^{\\prime}}^\\dagger(k_3) c_{p_y,s^{\\prime}}(k_4)\\cos\\left(\\frac{k_3-k_4}{2}\\cdot \\hat{y}\\right)+ \\langle c_{p_y,s^{\\prime}}^\\dagger(k_3) c_{p_y,s^{\\prime}}(k_4) \\rangle c_{d,s}^\\dagger(k_1) c_{d,s}(k_2)\\cos\\left(\\frac{k_3-k_4}{2}\\cdot \\hat{y}\\right) \\Big]$''',\n",
    "    'answer':r'''$\\hat{H}^{int,Hartree,V_{pd}} = 2V_{pd} \\sum_{s, s^{\\prime}} \\frac{1}{N} \\sum_{k_1,k_2,k_3,k_4} \\sum_{G} \\delta(k_1-k_2+k_3-k_4,G) \\Big[\\langle c_{d,s}^\\dagger(k_1) c_{d,s}(k_2) \\rangle c_{p_x,s^{\\prime}}^\\dagger(k_3) c_{p_x,s^{\\prime}}(k_4)\\cos\\left(\\frac{k_3-k_4}{2}\\cdot \\hat{x}\\right) + \\langle c_{p_x,s}^\\dagger(k_1) c_{p_x,s}(k_2) \\rangle c_{d,s^{\\prime}}^\\dagger(k_3) c_{d,s^{\\prime}}(k_4)\\cos\\left(\\frac{k_1-k_2}{2}\\cdot \\hat{x}\\right)+ \\langle c_{d,s}^\\dagger(k_1) c_{d,s}(k_2) \\rangle c_{p_y,s^{\\prime}}^\\dagger(k_3) c_{p_y,s^{\\prime}}(k_4)\\cos\\left(\\frac{k_3-k_4}{2}\\cdot \\hat{y}\\right)+ \\langle c_{p_y,s}^\\dagger(k_1) c_{p_y,s}(k_2) \\rangle c_{d,s^{\\prime}}^\\dagger(k_3) c_{d,s^{\\prime}}(k_4)\\cos\\left(\\frac{k_1-k_2}{2}\\cdot \\hat{y}\\right) \\Big].$''',\n",
    "'source': {'1106.6060.tex':[(177,267)]}\n",
    "\n",
    "}\n"
   ]
  },
  {
   "cell_type": "code",
   "execution_count": 96,
   "metadata": {},
   "outputs": [
    {
     "name": "stdout",
     "output_type": "stream",
     "text": [
      "You will be instructed to simplify the quadratic term the third term in $\\hat{H}^{int,HF,2}$ through relabeling the index.  \n",
      "The logic is that the expected value ($\\langle c_{\\alpha_1,s_1}^\\dagger(k_1) c_{\\alpha_1,s_1}(k_2) \\rangle$) in the first Hartree term ($\\langle c_{\\alpha_1,s_1}^\\dagger(k_1) c_{\\alpha_1,s_1}(k_2) \\rangle c_{\\alpha_2,s_2}^\\dagger(k_3) c_{\\alpha_2,s_2}(k_4)$) has the same form as the quadratic operators in the second Hartree term ($\\langle c_{\\alpha_2,s_2}^\\dagger(k_3) c_{\\alpha_2,s_2}(k_4)\\rangle c_{\\alpha_1,s_1}^\\dagger(k_1) c_{\\alpha_1,s_1}(k_2)$), and vice versa. The same applies to the Fock term.  \n",
      "Namely, a replacement of $k_1 \\leftrightarrow k_3$ and $k_2 \\leftrightarrow k_4$ is applied to ONLY the second Hartree or Fock term. You should not swap any index that is not in the summation, which includes $\\uparrow$ and $\\downarrow$.  \n",
      "This means, if you relabel the index by swapping the index in the \"expected value\" and \"quadratic operators\" in the second Hartree or Fock term, you can make the second Hartree or Fock term look identical to the first Hartree or Fock term, as long as $V(q)=V(-q)$, which is naturally satisfied in Coulomb interaction. You should follow the EXAMPLE below to simplify it through relabeling the index.  \n",
      "You should recall that the third term in $\\hat{H}^{int,HF,2}$ is $2V_{pd} \\sum_{s, s^{\\prime}} \\frac{1}{N} \\sum_{k_1,k_2,k_3,k_4} \\sum_{G} \\delta(k_1-k_2+k_3-k_4,G) \\Big[\\langle c_{d,s}^\\dagger(k_1) c_{d,s}(k_2) \\rangle c_{p_x,s^{\\prime}}^\\dagger(k_3) c_{p_x,s^{\\prime}}(k_4)\\cos\\left(\\frac{k_3-k_4}{2}\\cdot \\hat{x}\\right) + \\langle c_{p_x,s^{\\prime}}^\\dagger(k_3) c_{p_x,s^{\\prime}}(k_4) \\rangle c_{d,s}^\\dagger(k_1) c_{d,s}(k_2)\\cos\\left(\\frac{k_3-k_4}{2}\\cdot \\hat{x}\\right)+ \\langle c_{d,s}^\\dagger(k_1) c_{d,s}(k_2) \\rangle c_{p_y,s^{\\prime}}^\\dagger(k_3) c_{p_y,s^{\\prime}}(k_4)\\cos\\left(\\frac{k_3-k_4}{2}\\cdot \\hat{y}\\right)+ \\langle c_{p_y,s^{\\prime}}^\\dagger(k_3) c_{p_y,s^{\\prime}}(k_4) \\rangle c_{d,s}^\\dagger(k_1) c_{d,s}(k_2)\\cos\\left(\\frac{k_3-k_4}{2}\\cdot \\hat{y}\\right) \\Big]$\n",
      "Return the simplied the third term in $\\hat{H}^{int,HF,2}$.\n",
      "\n",
      "===  \n",
      "EXAMPLE:  \n",
      "Given a Hamiltonian $\\hat{H}=\\sum_{k_1,k_2, k_3, k_4,\\sigma_1,\\sigma_2,\\sigma_3,\\sigma_4} V(k_1-k_4) (\\langle c_{d,\\sigma_1}^\\dagger(k_1) c_{d,\\sigma_4}(k_4) \\rangle c_{p,\\sigma_2}^\\dagger(k_2) c_{p,\\sigma_3}(k_3) + \\langle c_{p,\\sigma_2}^\\dagger(k_2) c_{d,\\sigma_3}(k_3) \\rangle c_{d,\\sigma_1}^\\dagger(k_1) c_{\\sigma_4}(k_4) ) \\delta_{k_1+k_2,k_3+k_4}$, where $V(q)=V(-q)$.  \n",
      "In the second term, we relabel the index to swap the index in expected value and the index in quadratic operators, namely, $\\sigma_1 \\leftrightarrow \\sigma_2$, $\\sigma_3 \\leftrightarrow \\sigma_4$, $k_1 \\leftrightarrow k_2$, $k_3 \\leftrightarrow k_4$. Important: $d$ and $p$ cannot be swapped because they are not indices in the summation.  \n",
      "After the replacement, the second term becomes $\\sum_{k_1,k_2, k_3, k_4,\\sigma_1,\\sigma_2,\\sigma_3,\\sigma_4} V(k_2-k_3) \\langle c_{p,\\sigma_1}^\\dagger(k_1) c_{p,\\sigma_4}(k_4) \\rangle c_{d,\\sigma_2}^\\dagger(k_2) c_{d,\\sigma_3}(k_3) \\delta_{k_4+k_3,k_2+k_1}$.  \n",
      "Note that the Kronecker dirac function $\\delta_{k_4+k_3,k_2+k_1}$ implies $k_1+k_2=k_3+k_4$, i.e., $k_2-k_3=k_4-k_1$. Thus, the second term simplifies to $\\sum_{k_1,k_2, k_3, k_4,\\sigma_1,\\sigma_2,\\sigma_3,\\sigma_4} V(k_4-k_1) \\langle c_{p,\\sigma_1}^\\dagger(k_1) c_{p,\\sigma_4}(k_4) \\rangle c_{d,\\sigma_2}^\\dagger(k_2) c_{d,\\sigma_3}(k_3) \\delta_{k_4+k_3,k_2+k_1}$.\n",
      "Because $V(q)=V(-q)$, meaning $V(k_4-k_1)=V(k_1-k_4)$, the second term further simplifies to $\\sum_{k_1,k_2, k_3, k_4,\\sigma_1,\\sigma_2,\\sigma_3,\\sigma_4} V(k_1-k_4) \\langle c_{p,\\sigma_1}^\\dagger(k_1) c_{p,\\sigma_4}(k_4) \\rangle c_{d,\\sigma_2}^\\dagger(k_2) c_{d,\\sigma_3}(k_3) \\delta_{k_4+k_3,k_2+k_1}$.   \n",
      "Finally, we have the simplified Hamiltonian as  $\\hat{H}=\\sum_{k_1,k_2, k_3, k_4,\\sigma_1,\\sigma_2,\\sigma_3,\\sigma_4} V(k_1-k_4) (\\langle c_{d,\\sigma_1}^\\dagger(k_1) c_{d,\\sigma_4}(k_4) \\rangle c_{p,\\sigma_2}^\\dagger(k_2) c_{p,\\sigma_3}(k_3) + \\langle c_{p,\\sigma_1}^\\dagger(k_1) c_{p,\\sigma_4}(k_4) \\rangle c_{d,\\sigma_2}^\\dagger(k_2) c_{d,\\sigma_3}(k_3)) \\delta_{k_4+k_3,k_2+k_1}$.\n"
     ]
    }
   ],
   "source": [
    "print_save(generate_prompt(kwargs,prompt_dict=prompt_dict())['content'])"
   ]
  },
  {
   "cell_type": "code",
   "execution_count": 97,
   "metadata": {},
   "outputs": [],
   "source": [
    "kwargs_list.append(kwargs)"
   ]
  },
  {
   "cell_type": "markdown",
   "metadata": {},
   "source": [
    "## Swap the index only [fourth term]"
   ]
  },
  {
   "cell_type": "code",
   "execution_count": 98,
   "metadata": {},
   "outputs": [],
   "source": [
    "kwargs = {\n",
    "    'task':\"Swap the index only\",\n",
    "    'HF_2_symbol': r'the fourth term in $\\hat{H}^{int,HF,2}$',\n",
    "    'expval': r'$\\langle c_{\\alpha_1,s_1}^\\dagger(k_1) c_{\\alpha_1,s_1}(k_2) \\rangle$',\n",
    "    'expression_Hartree_1':r'$\\langle c_{\\alpha_1,s_1}^\\dagger(k_1) c_{\\alpha_1,s_1}(k_2) \\rangle c_{\\alpha_2,s_2}^\\dagger(k_3) c_{\\alpha_2,s_2}(k_4)$',\n",
    "    'expression_Hartree_2':r'$\\langle c_{\\alpha_2,s_2}^\\dagger(k_3) c_{\\alpha_2,s_2}(k_4)\\rangle c_{\\alpha_1,s_1}^\\dagger(k_1) c_{\\alpha_1,s_1}(k_2)$',\n",
    "    'relabel': '$k_1 \\leftrightarrow k_3$ and $k_2 \\leftrightarrow k_4$',\n",
    "    'Unsummed_Indices': r'$\\uparrow$ and $\\downarrow$', \n",
    "    'expression_HF_2':r'''the fourth term in $\\hat{H}^{int,HF,2}$ is $\\frac{V_{pp}}{N} \\sum_{s, s^{\\prime}} \\sum_{\\sigma_x, \\sigma_y} \\sum_{k_1, k_2, k_3, k_4} \\sum_{G} \\delta(k_2 - k_1 + k_4 - k_3, G) e^{-i (k_1 - k_2) \\cdot \\sigma_x\\hat{x}/2 - i (k_3 - k_4) \\cdot \\sigma_y\\hat{y}/2} \\times \\Big[ \\langle c_{p_x,s}^\\dagger(k_1) c_{p_x,s}(k_2) \\rangle c_{p_y,s^{\\prime}}^\\dagger(k_3) c_{p_y,s^{\\prime}}(k_4) + \\langle c_{p_y,s^{\\prime}}^\\dagger(k_3) c_{p_y,s^{\\prime}}(k_4) \\rangle c_{p_x,s}^\\dagger(k_1) c_{p_x,s}(k_2) \\Big]$''',\n",
    "    'answer':r'''$\\frac{V_{pp}}{N} \\sum_{s, s^{\\prime}} \\sum_{\\sigma_x, \\sigma_y} \\sum_{k_1, k_2, k_3, k_4} \\sum_{G} \\delta(k_2 - k_1 + k_4 - k_3, G) e^{-i (k_1 - k_2) \\cdot \\sigma_x\\hat{x}/2 - i (k_3 - k_4) \\cdot \\sigma_y\\hat{y}/2} \\times \\Big[ \\langle c_{p_x,s}^\\dagger(k_1) c_{p_x,s}(k_2) \\rangle c_{p_y,s^{\\prime}}^\\dagger(k_3) c_{p_y,s^{\\prime}}(k_4) + \\langle c_{p_y,s}^\\dagger(k_1) c_{p_y,s}(k_2) \\rangle c_{p_x,s^{\\prime}}^\\dagger(k_3) c_{p_x,s^{\\prime}}(k_4) \\Big].$''',\n",
    "'source': {'1106.6060.tex':[(177,267)]}\n",
    "\n",
    "}\n"
   ]
  },
  {
   "cell_type": "code",
   "execution_count": 99,
   "metadata": {},
   "outputs": [
    {
     "name": "stdout",
     "output_type": "stream",
     "text": [
      "You will be instructed to simplify the quadratic term the fourth term in $\\hat{H}^{int,HF,2}$ through relabeling the index.  \n",
      "The logic is that the expected value ($\\langle c_{\\alpha_1,s_1}^\\dagger(k_1) c_{\\alpha_1,s_1}(k_2) \\rangle$) in the first Hartree term ($\\langle c_{\\alpha_1,s_1}^\\dagger(k_1) c_{\\alpha_1,s_1}(k_2) \\rangle c_{\\alpha_2,s_2}^\\dagger(k_3) c_{\\alpha_2,s_2}(k_4)$) has the same form as the quadratic operators in the second Hartree term ($\\langle c_{\\alpha_2,s_2}^\\dagger(k_3) c_{\\alpha_2,s_2}(k_4)\\rangle c_{\\alpha_1,s_1}^\\dagger(k_1) c_{\\alpha_1,s_1}(k_2)$), and vice versa. The same applies to the Fock term.  \n",
      "Namely, a replacement of $k_1 \\leftrightarrow k_3$ and $k_2 \\leftrightarrow k_4$ is applied to ONLY the second Hartree or Fock term. You should not swap any index that is not in the summation, which includes $\\uparrow$ and $\\downarrow$.  \n",
      "This means, if you relabel the index by swapping the index in the \"expected value\" and \"quadratic operators\" in the second Hartree or Fock term, you can make the second Hartree or Fock term look identical to the first Hartree or Fock term, as long as $V(q)=V(-q)$, which is naturally satisfied in Coulomb interaction. You should follow the EXAMPLE below to simplify it through relabeling the index.  \n",
      "You should recall that the fourth term in $\\hat{H}^{int,HF,2}$ is $\\frac{V_{pp}}{N} \\sum_{s, s^{\\prime}} \\sum_{\\sigma_x, \\sigma_y} \\sum_{k_1, k_2, k_3, k_4} \\sum_{G} \\delta(k_2 - k_1 + k_4 - k_3, G) e^{-i (k_1 - k_2) \\cdot \\sigma_x\\hat{x}/2 - i (k_3 - k_4) \\cdot \\sigma_y\\hat{y}/2} \\times \\Big[ \\langle c_{p_x,s}^\\dagger(k_1) c_{p_x,s}(k_2) \\rangle c_{p_y,s^{\\prime}}^\\dagger(k_3) c_{p_y,s^{\\prime}}(k_4) + \\langle c_{p_y,s^{\\prime}}^\\dagger(k_3) c_{p_y,s^{\\prime}}(k_4) \\rangle c_{p_x,s}^\\dagger(k_1) c_{p_x,s}(k_2) \\Big]$\n",
      "Return the simplied the fourth term in $\\hat{H}^{int,HF,2}$.\n",
      "\n",
      "===  \n",
      "EXAMPLE:  \n",
      "Given a Hamiltonian $\\hat{H}=\\sum_{k_1,k_2, k_3, k_4,\\sigma_1,\\sigma_2,\\sigma_3,\\sigma_4} V(k_1-k_4) (\\langle c_{d,\\sigma_1}^\\dagger(k_1) c_{d,\\sigma_4}(k_4) \\rangle c_{p,\\sigma_2}^\\dagger(k_2) c_{p,\\sigma_3}(k_3) + \\langle c_{p,\\sigma_2}^\\dagger(k_2) c_{d,\\sigma_3}(k_3) \\rangle c_{d,\\sigma_1}^\\dagger(k_1) c_{\\sigma_4}(k_4) ) \\delta_{k_1+k_2,k_3+k_4}$, where $V(q)=V(-q)$.  \n",
      "In the second term, we relabel the index to swap the index in expected value and the index in quadratic operators, namely, $\\sigma_1 \\leftrightarrow \\sigma_2$, $\\sigma_3 \\leftrightarrow \\sigma_4$, $k_1 \\leftrightarrow k_2$, $k_3 \\leftrightarrow k_4$. Important: $d$ and $p$ cannot be swapped because they are not indices in the summation.  \n",
      "After the replacement, the second term becomes $\\sum_{k_1,k_2, k_3, k_4,\\sigma_1,\\sigma_2,\\sigma_3,\\sigma_4} V(k_2-k_3) \\langle c_{p,\\sigma_1}^\\dagger(k_1) c_{p,\\sigma_4}(k_4) \\rangle c_{d,\\sigma_2}^\\dagger(k_2) c_{d,\\sigma_3}(k_3) \\delta_{k_4+k_3,k_2+k_1}$.  \n",
      "Note that the Kronecker dirac function $\\delta_{k_4+k_3,k_2+k_1}$ implies $k_1+k_2=k_3+k_4$, i.e., $k_2-k_3=k_4-k_1$. Thus, the second term simplifies to $\\sum_{k_1,k_2, k_3, k_4,\\sigma_1,\\sigma_2,\\sigma_3,\\sigma_4} V(k_4-k_1) \\langle c_{p,\\sigma_1}^\\dagger(k_1) c_{p,\\sigma_4}(k_4) \\rangle c_{d,\\sigma_2}^\\dagger(k_2) c_{d,\\sigma_3}(k_3) \\delta_{k_4+k_3,k_2+k_1}$.\n",
      "Because $V(q)=V(-q)$, meaning $V(k_4-k_1)=V(k_1-k_4)$, the second term further simplifies to $\\sum_{k_1,k_2, k_3, k_4,\\sigma_1,\\sigma_2,\\sigma_3,\\sigma_4} V(k_1-k_4) \\langle c_{p,\\sigma_1}^\\dagger(k_1) c_{p,\\sigma_4}(k_4) \\rangle c_{d,\\sigma_2}^\\dagger(k_2) c_{d,\\sigma_3}(k_3) \\delta_{k_4+k_3,k_2+k_1}$.   \n",
      "Finally, we have the simplified Hamiltonian as  $\\hat{H}=\\sum_{k_1,k_2, k_3, k_4,\\sigma_1,\\sigma_2,\\sigma_3,\\sigma_4} V(k_1-k_4) (\\langle c_{d,\\sigma_1}^\\dagger(k_1) c_{d,\\sigma_4}(k_4) \\rangle c_{p,\\sigma_2}^\\dagger(k_2) c_{p,\\sigma_3}(k_3) + \\langle c_{p,\\sigma_1}^\\dagger(k_1) c_{p,\\sigma_4}(k_4) \\rangle c_{d,\\sigma_2}^\\dagger(k_2) c_{d,\\sigma_3}(k_3)) \\delta_{k_4+k_3,k_2+k_1}$.\n"
     ]
    }
   ],
   "source": [
    "print_save(generate_prompt(kwargs,prompt_dict=prompt_dict())['content'])"
   ]
  },
  {
   "cell_type": "code",
   "execution_count": 100,
   "metadata": {},
   "outputs": [],
   "source": [
    "kwargs_list.append(kwargs)"
   ]
  },
  {
   "cell_type": "markdown",
   "metadata": {},
   "source": [
    "## Reduce momentum in Hartree term (momentum in BZ) [first term] "
   ]
  },
  {
   "cell_type": "code",
   "execution_count": 101,
   "metadata": {},
   "outputs": [],
   "source": [
    "kwargs = {\n",
    "    'task':\"Reduce momentum in Hartree term (momentum in BZ)\",\n",
    "    'Hartree_2_symbol': r'the first term in $\\hat{H}^{int,Hartree,2}$',\n",
    "    'expval': r'$\\langle c_{\\alpha_i,s_i}^\\dagger(k_i) c_{\\alpha_j,s_j}(k_j) \\rangle$',\n",
    "    'expval_id':r'$\\langle c_{\\alpha_i,s_i}^\\dagger(k_i) c_{\\alpha_j,s_j}(k_j) \\rangle=\\langle c_{\\alpha_i,s_i}^\\dagger(k_i) c_{\\alpha_j,s_j}(k_j) \\rangle \\delta_{k_i,k_j}$',\n",
    "    'expression_Hartree':r'the first term in $\\hat{H}^{int,Hartree,2} = \\frac{U_d}{N} \\sum_{k_1, k_2, k_3, k_4} \\sum_{G} \\delta(k_1-k_2+k_3-k_4,G) \\Big[ \\langle c_{d,\\uparrow}^\\dagger(k_1) c_{d,\\uparrow}(k_2) \\rangle c_{d,\\downarrow}^\\dagger(k_3) c_{d,\\downarrow}(k_4) + \\langle c_{d,\\downarrow}^\\dagger(k_1) c_{d,\\downarrow}(k_2) \\rangle c_{d,\\uparrow}^\\dagger(k_3) c_{d,\\uparrow}(k_4) \\Big]$',\n",
    "    'answer':r'''$$\\hat{H}^{int,Hartree,U_d} = \\frac{U_d}{N} \\sum_{k_1, k_3} \\Big[ \\langle c_{d,\\uparrow}^\\dagger(k_1) c_{d,\\uparrow}(k_1) \\rangle c_{d,\\downarrow}^\\dagger(k_3) c_{d,\\downarrow}(k_3) + \\langle c_{d,\\downarrow}^\\dagger(k_1) c_{d,\\downarrow}(k_1) \\rangle c_{d,\\uparrow}^\\dagger(k_3) c_{d,\\uparrow}(k_3) \\Big].$$''',\n",
    "'source': {'1106.6060.tex':[(177,267)]}\n",
    "\n",
    "}\n"
   ]
  },
  {
   "cell_type": "code",
   "execution_count": 102,
   "metadata": {},
   "outputs": [
    {
     "name": "stdout",
     "output_type": "stream",
     "text": [
      "You will be instructed to simplify the Hartree term, the first term in $\\hat{H}^{int,Hartree,2}$, by reducing the momentum inside the expected value $\\langle c_{\\alpha_i,s_i}^\\dagger(k_i) c_{\\alpha_j,s_j}(k_j) \\rangle$.  \n",
      "The expected value $\\langle c_{\\alpha_i,s_i}^\\dagger(k_i) c_{\\alpha_j,s_j}(k_j) \\rangle$ is only nonzero when the two momenta $k_i,k_j$ are the same, namely, $\\langle c_{\\alpha_i,s_i}^\\dagger(k_i) c_{\\alpha_j,s_j}(k_j) \\rangle=\\langle c_{\\alpha_i,s_i}^\\dagger(k_i) c_{\\alpha_j,s_j}(k_j) \\rangle \\delta_{k_i,k_j}$.  \n",
      "You should use the property of Kronecker delta function $\\delta_{k_i,k_j}$ to reduce one momentum $k_i$.\n",
      "Once you reduce one momentum inside the expected value $\\langle\\dots\\rangle$. You will also notice the total momentum conservation will reduce another momentum in the quadratic term. Therefore, you should end up with only two momenta left in the summation.  \n",
      "You should follow the EXAMPLE below to reduce one momentum in the Hartree term, and another momentum in the quadratic term.  \n",
      "You should recall that the first term in $\\hat{H}^{int,Hartree,2} = \\frac{U_d}{N} \\sum_{k_1, k_2, k_3, k_4} \\sum_{G} \\delta(k_1-k_2+k_3-k_4,G) \\Big[ \\langle c_{d,\\uparrow}^\\dagger(k_1) c_{d,\\uparrow}(k_2) \\rangle c_{d,\\downarrow}^\\dagger(k_3) c_{d,\\downarrow}(k_4) + \\langle c_{d,\\downarrow}^\\dagger(k_1) c_{d,\\downarrow}(k_2) \\rangle c_{d,\\uparrow}^\\dagger(k_3) c_{d,\\uparrow}(k_4) \\Big]$.  \n",
      "Return the final simplified Hartree term the first term in $\\hat{H}^{int,Hartree,2}$.\n",
      "\n",
      "===  \n",
      "EXAMPLE:  \n",
      "Given a Hamiltonian where the Hartree term $\\hat{H}^{Hartree}=\\sum_{k_1,k_2, k_3, k_4,s_1,s_2} V(k_1-k_4) \\langle c_{s_1}^\\dagger(k_1) c_{s_1}(k_4) \\rangle c_{s_2}^\\dagger(k_2) c_{s_2}(k_3) \\sum_{G}\\delta_{k_1+k_2-k_3-k_4,G}$, where $k_i$ is the momentum inside first Brilloun zone, $G$ is the reciprocal lattice vectors, and $s_i$ is a certain index for the degree of freedom other than momentum.   \n",
      "Inside the expected value, we realize $\\langle c_{s_1}^\\dagger(k_1) c_{s_1}(k_4) \\rangle$ is nonzero only when $k_1=k_4$, i.e., $\\langle c_{s_1}^\\dagger(k_1) c_{s_1}(k_4) \\rangle=\\langle c_{s_1}^\\dagger(k_1) c_{s_1}(k_4) \\rangle\\delta_{k_1,k_4}$.  \n",
      "Thus, the Hartree term becomes $\\sum_{k_1,k_2, k_3, k_4,s_1,s_2} V(k_1-k_4) \\langle c_{s_1}^\\dagger(k_1) c_{s_1}(k_4) \\rangle \\delta_{k_1,k_4} c_{s_2}^\\dagger(k_2) c_{s_2}(k_3) \\sum_{G}\\delta_{k_1+k_2-k_3-k_4,G}$.  \n",
      "Use the property of Kronecker delta function $\\delta_{k_1,k_4}$ to sum over $k_4$, we have $\\sum_{k_1, k_2, k_3,s_1,s_2} V(k_1-k_1) \\langle c_{s_1}^\\dagger(k_1) c_{s_1}(k_1) \\rangle c_{s_2}^\\dagger(k_2) c_{s_2}(k_3) \\sum_{G}\\delta_{k_1+k_2-k_3-k_1,G}=\\sum_{k_1, k_2, k_3,s_1,s_2} V(0) \\langle c_{s_1}^\\dagger(k_1) c_{s_1}(k_1) \\rangle c_{s_2}^\\dagger(k_2) c_{s_2}(k_3) \\sum_{G}\\delta_{k_2-k_3,G}$.  \n",
      "We can further simplify $\\sum_{G}\\delta_{k_2-k_3,G}$. Because $k_i$ is momentum inside first Brilloun zone, and the difference between $k_2$ and $k_3$ cannot exceed the first shell of reciprocal lattice vector, which means $G$ can only take the value of the origin point in the reciprocal lattice, therefore, $\\sum_{G}\\delta_{k_2-k_3,G}=\\delta_{k_2-k_3,0}$.   \n",
      "Thus, the Hartree term simplifies to $\\sum_{k_1, k_2, k_3,s_1,s_2} V(0) \\langle c_{s_1}^\\dagger(k_1) c_{s_1}(k_1) \\rangle c_{s_2}^\\dagger(k_2) c_{s_2}(k_3) \\delta_{k_2-k_3,0}=\\sum_{k_1, k_2,s_1,s_2} V(0) \\langle c_{s_1}^\\dagger(k_1) c_{s_1}(k_1) \\rangle c_{s_2}^\\dagger(k_2) c_{s_2}(k_2)$.  \n",
      "Therefore, the final simplified Hartree term after reducing one momentum is $\\hat{H}^{Hartree}=\\sum_{k_1, k_2,s_1,s_2} V(0) \\langle c_{s_1}^\\dagger(k_1) c_{s_1}(k_1) \\rangle c_{s_2}^\\dagger(k_2) c_{s_2}(k_2)$\n"
     ]
    }
   ],
   "source": [
    "print_save(generate_prompt(kwargs,prompt_dict=prompt_dict())['content'])"
   ]
  },
  {
   "cell_type": "code",
   "execution_count": 103,
   "metadata": {},
   "outputs": [],
   "source": [
    "kwargs_list.append(kwargs)"
   ]
  },
  {
   "cell_type": "markdown",
   "metadata": {},
   "source": [
    "## Reduce momentum in Hartree term (momentum in BZ) [second term] "
   ]
  },
  {
   "cell_type": "code",
   "execution_count": 104,
   "metadata": {},
   "outputs": [],
   "source": [
    "kwargs = {\n",
    "    'task':\"Reduce momentum in Hartree term (momentum in BZ)\",\n",
    "    'Hartree_2_symbol': r'the second term in $\\hat{H}^{int,Hartree,2}$',\n",
    "    'expval': r'$\\langle c_{\\alpha_i,s_i}^\\dagger(k_i) c_{\\alpha_j,s_j}(k_j) \\rangle$',\n",
    "    'expval_id':r'$\\langle c_{\\alpha_i,s_i}^\\dagger(k_i) c_{\\alpha_j,s_j}(k_j) \\rangle=\\langle c_{\\alpha_i,s_i}^\\dagger(k_i) c_{\\alpha_j,s_j}(k_j) \\rangle \\delta_{k_i,k_j}$',\n",
    "    'expression_Hartree':r'the second term in $\\hat{H}^{int,Hartree,2} = \\frac{U_p}{2N} \\sum_{k_1,k_2,k_3,k_4} \\sum_{G} \\delta(k_1-k_2+k_3-k_4,G) \\Big\\{ \\langle c_{p_x,\\uparrow}^\\dagger(k_1) c_{p_x,\\uparrow}(k_2) \\rangle c_{p_x,\\downarrow}^\\dagger(k_3) c_{p_x,\\downarrow}(k_4)+ \\langle c_{p_x,\\downarrow}^\\dagger(k_1) c_{p_x,\\downarrow}(k_2) \\rangle c_{p_x,\\uparrow}^\\dagger(k_3) c_{p_x,\\uparrow}(k_4)+ \\langle c_{p_y,\\uparrow}^\\dagger(k_1) c_{p_y,\\uparrow}(k_2) \\rangle c_{p_y,\\downarrow}^\\dagger(k_3) c_{p_y,\\downarrow}(k_4)+ \\langle c_{p_y,\\downarrow}^\\dagger(k_1) c_{p_y,\\downarrow}(k_2) \\rangle c_{p_y,\\uparrow}^\\dagger(k_3) c_{p_y,\\uparrow}(k_4) \\Big\\}$',\n",
    "    'answer':r'''$$\\hat{H}^{int,Hartree,U_p} = \\frac{U_p}{2N} \\sum_{k_1, k_3} \\Big\\{ \\langle c_{p_x,\\uparrow}^\\dagger(k_1) c_{p_x,\\uparrow}(k_1) \\rangle c_{p_x,\\downarrow}^\\dagger(k_3) c_{p_x,\\downarrow}(k_3)+ \\langle c_{p_x,\\downarrow}^\\dagger(k_1) c_{p_x,\\downarrow}(k_1) \\rangle c_{p_x,\\uparrow}^\\dagger(k_3) c_{p_x,\\uparrow}(k_3)+ \\langle c_{p_y,\\uparrow}^\\dagger(k_1) c_{p_y,\\uparrow}(k_1) \\rangle c_{p_y,\\downarrow}^\\dagger(k_3) c_{p_y,\\downarrow}(k_3)+ \\langle c_{p_y,\\downarrow}^\\dagger(k_1) c_{p_y,\\downarrow}(k_1) \\rangle c_{p_y,\\uparrow}^\\dagger(k_3) c_{p_y,\\uparrow}(k_3) \\Big\\}.$$''',\n",
    "'source': {'1106.6060.tex':[(177,267)]}\n",
    "\n",
    "}\n"
   ]
  },
  {
   "cell_type": "code",
   "execution_count": 105,
   "metadata": {},
   "outputs": [
    {
     "name": "stdout",
     "output_type": "stream",
     "text": [
      "You will be instructed to simplify the Hartree term, the second term in $\\hat{H}^{int,Hartree,2}$, by reducing the momentum inside the expected value $\\langle c_{\\alpha_i,s_i}^\\dagger(k_i) c_{\\alpha_j,s_j}(k_j) \\rangle$.  \n",
      "The expected value $\\langle c_{\\alpha_i,s_i}^\\dagger(k_i) c_{\\alpha_j,s_j}(k_j) \\rangle$ is only nonzero when the two momenta $k_i,k_j$ are the same, namely, $\\langle c_{\\alpha_i,s_i}^\\dagger(k_i) c_{\\alpha_j,s_j}(k_j) \\rangle=\\langle c_{\\alpha_i,s_i}^\\dagger(k_i) c_{\\alpha_j,s_j}(k_j) \\rangle \\delta_{k_i,k_j}$.  \n",
      "You should use the property of Kronecker delta function $\\delta_{k_i,k_j}$ to reduce one momentum $k_i$.\n",
      "Once you reduce one momentum inside the expected value $\\langle\\dots\\rangle$. You will also notice the total momentum conservation will reduce another momentum in the quadratic term. Therefore, you should end up with only two momenta left in the summation.  \n",
      "You should follow the EXAMPLE below to reduce one momentum in the Hartree term, and another momentum in the quadratic term.  \n",
      "You should recall that the second term in $\\hat{H}^{int,Hartree,2} = \\frac{U_p}{2N} \\sum_{k_1,k_2,k_3,k_4} \\sum_{G} \\delta(k_1-k_2+k_3-k_4,G) \\Big\\{ \\langle c_{p_x,\\uparrow}^\\dagger(k_1) c_{p_x,\\uparrow}(k_2) \\rangle c_{p_x,\\downarrow}^\\dagger(k_3) c_{p_x,\\downarrow}(k_4)+ \\langle c_{p_x,\\downarrow}^\\dagger(k_1) c_{p_x,\\downarrow}(k_2) \\rangle c_{p_x,\\uparrow}^\\dagger(k_3) c_{p_x,\\uparrow}(k_4)+ \\langle c_{p_y,\\uparrow}^\\dagger(k_1) c_{p_y,\\uparrow}(k_2) \\rangle c_{p_y,\\downarrow}^\\dagger(k_3) c_{p_y,\\downarrow}(k_4)+ \\langle c_{p_y,\\downarrow}^\\dagger(k_1) c_{p_y,\\downarrow}(k_2) \\rangle c_{p_y,\\uparrow}^\\dagger(k_3) c_{p_y,\\uparrow}(k_4) \\Big\\}$.  \n",
      "Return the final simplified Hartree term the second term in $\\hat{H}^{int,Hartree,2}$.\n",
      "\n",
      "===  \n",
      "EXAMPLE:  \n",
      "Given a Hamiltonian where the Hartree term $\\hat{H}^{Hartree}=\\sum_{k_1,k_2, k_3, k_4,s_1,s_2} V(k_1-k_4) \\langle c_{s_1}^\\dagger(k_1) c_{s_1}(k_4) \\rangle c_{s_2}^\\dagger(k_2) c_{s_2}(k_3) \\sum_{G}\\delta_{k_1+k_2-k_3-k_4,G}$, where $k_i$ is the momentum inside first Brilloun zone, $G$ is the reciprocal lattice vectors, and $s_i$ is a certain index for the degree of freedom other than momentum.   \n",
      "Inside the expected value, we realize $\\langle c_{s_1}^\\dagger(k_1) c_{s_1}(k_4) \\rangle$ is nonzero only when $k_1=k_4$, i.e., $\\langle c_{s_1}^\\dagger(k_1) c_{s_1}(k_4) \\rangle=\\langle c_{s_1}^\\dagger(k_1) c_{s_1}(k_4) \\rangle\\delta_{k_1,k_4}$.  \n",
      "Thus, the Hartree term becomes $\\sum_{k_1,k_2, k_3, k_4,s_1,s_2} V(k_1-k_4) \\langle c_{s_1}^\\dagger(k_1) c_{s_1}(k_4) \\rangle \\delta_{k_1,k_4} c_{s_2}^\\dagger(k_2) c_{s_2}(k_3) \\sum_{G}\\delta_{k_1+k_2-k_3-k_4,G}$.  \n",
      "Use the property of Kronecker delta function $\\delta_{k_1,k_4}$ to sum over $k_4$, we have $\\sum_{k_1, k_2, k_3,s_1,s_2} V(k_1-k_1) \\langle c_{s_1}^\\dagger(k_1) c_{s_1}(k_1) \\rangle c_{s_2}^\\dagger(k_2) c_{s_2}(k_3) \\sum_{G}\\delta_{k_1+k_2-k_3-k_1,G}=\\sum_{k_1, k_2, k_3,s_1,s_2} V(0) \\langle c_{s_1}^\\dagger(k_1) c_{s_1}(k_1) \\rangle c_{s_2}^\\dagger(k_2) c_{s_2}(k_3) \\sum_{G}\\delta_{k_2-k_3,G}$.  \n",
      "We can further simplify $\\sum_{G}\\delta_{k_2-k_3,G}$. Because $k_i$ is momentum inside first Brilloun zone, and the difference between $k_2$ and $k_3$ cannot exceed the first shell of reciprocal lattice vector, which means $G$ can only take the value of the origin point in the reciprocal lattice, therefore, $\\sum_{G}\\delta_{k_2-k_3,G}=\\delta_{k_2-k_3,0}$.   \n",
      "Thus, the Hartree term simplifies to $\\sum_{k_1, k_2, k_3,s_1,s_2} V(0) \\langle c_{s_1}^\\dagger(k_1) c_{s_1}(k_1) \\rangle c_{s_2}^\\dagger(k_2) c_{s_2}(k_3) \\delta_{k_2-k_3,0}=\\sum_{k_1, k_2,s_1,s_2} V(0) \\langle c_{s_1}^\\dagger(k_1) c_{s_1}(k_1) \\rangle c_{s_2}^\\dagger(k_2) c_{s_2}(k_2)$.  \n",
      "Therefore, the final simplified Hartree term after reducing one momentum is $\\hat{H}^{Hartree}=\\sum_{k_1, k_2,s_1,s_2} V(0) \\langle c_{s_1}^\\dagger(k_1) c_{s_1}(k_1) \\rangle c_{s_2}^\\dagger(k_2) c_{s_2}(k_2)$\n"
     ]
    }
   ],
   "source": [
    "print_save(generate_prompt(kwargs,prompt_dict=prompt_dict())['content'])"
   ]
  },
  {
   "cell_type": "code",
   "execution_count": 106,
   "metadata": {},
   "outputs": [],
   "source": [
    "kwargs_list.append(kwargs)"
   ]
  },
  {
   "cell_type": "markdown",
   "metadata": {},
   "source": [
    "## Reduce momentum in Hartree term (momentum in BZ) [third term] "
   ]
  },
  {
   "cell_type": "code",
   "execution_count": 107,
   "metadata": {},
   "outputs": [],
   "source": [
    "kwargs = {\n",
    "    'task':\"Reduce momentum in Hartree term (momentum in BZ)\",\n",
    "    'Hartree_2_symbol': r'the third term in $\\hat{H}^{int,Hartree,2}$',\n",
    "    'expval': r'$\\langle c_{\\alpha_i,s_i}^\\dagger(k_i) c_{\\alpha_j,s_j}(k_j) \\rangle$',\n",
    "    'expval_id':r'$\\langle c_{\\alpha_i,s_i}^\\dagger(k_i) c_{\\alpha_j,s_j}(k_j) \\rangle=\\langle c_{\\alpha_i,s_i}^\\dagger(k_i) c_{\\alpha_j,s_j}(k_j) \\rangle \\delta_{k_i,k_j}$',\n",
    "    'expression_Hartree':r'the third term in $\\hat{H}^{int,Hartree,2} = 2V_{pd} \\sum_{s, s^{\\prime}} \\frac{1}{N} \\sum_{k_1,k_2,k_3,k_4} \\sum_{G} \\delta(k_1-k_2+k_3-k_4,G) \\Big[\\langle c_{d,s}^\\dagger(k_1) c_{d,s}(k_2) \\rangle c_{p_x,s^{\\prime}}^\\dagger(k_3) c_{p_x,s^{\\prime}}(k_4)\\cos\\left(\\frac{k_3-k_4}{2}\\cdot \\hat{x}\\right) + \\langle c_{p_x,s}^\\dagger(k_1) c_{p_x,s}(k_2) \\rangle c_{d,s^{\\prime}}^\\dagger(k_3) c_{d,s^{\\prime}}(k_4)\\cos\\left(\\frac{k_1-k_2}{2}\\cdot \\hat{x}\\right)+ \\langle c_{d,s}^\\dagger(k_1) c_{d,s}(k_2) \\rangle c_{p_y,s^{\\prime}}^\\dagger(k_3) c_{p_y,s^{\\prime}}(k_4)\\cos\\left(\\frac{k_3-k_4}{2}\\cdot \\hat{y}\\right)+ \\langle c_{p_y,s}^\\dagger(k_1) c_{p_y,s}(k_2) \\rangle c_{d,s^{\\prime}}^\\dagger(k_3) c_{d,s^{\\prime}}(k_4)\\cos\\left(\\frac{k_1-k_2}{2}\\cdot \\hat{y}\\right) \\Big]',\n",
    "    'answer':r'''$\\hat{H}^{int,Hartree,V_{pd}} = 2V_{pd} \\sum_{s, s^{\\prime}} \\frac{1}{N} \\sum_{k_1,k_3} \\Big[\n",
    "\\langle c_{d,s}^\\dagger(k_1) c_{d,s}(k_1) \\rangle c_{p_x,s^{\\prime}}^\\dagger(k_3) c_{p_x,s^{\\prime}}(k_3) \n",
    "+ \\langle c_{p_x,s}^\\dagger(k_1) c_{p_x,s}(k_1) \\rangle c_{d,s^{\\prime}}^\\dagger(k_3) c_{d,s^{\\prime}}(k_3)\n",
    "+ \\langle c_{d,s}^\\dagger(k_1) c_{d,s}(k_1) \\rangle c_{p_y,s^{\\prime}}^\\dagger(k_3) c_{p_y,s^{\\prime}}(k_3)\n",
    "+ \\langle c_{p_y,s}^\\dagger(k_1) c_{p_y,s}(k_1) \\rangle c_{d,s^{\\prime}}^\\dagger(k_3) c_{d,s^{\\prime}}(k_3) \n",
    "\\Big].$''',\n",
    "'source': {'1106.6060.tex':[(177,267)]}\n",
    "\n",
    "}\n"
   ]
  },
  {
   "cell_type": "code",
   "execution_count": 108,
   "metadata": {},
   "outputs": [
    {
     "name": "stdout",
     "output_type": "stream",
     "text": [
      "You will be instructed to simplify the Hartree term, the third term in $\\hat{H}^{int,Hartree,2}$, by reducing the momentum inside the expected value $\\langle c_{\\alpha_i,s_i}^\\dagger(k_i) c_{\\alpha_j,s_j}(k_j) \\rangle$.  \n",
      "The expected value $\\langle c_{\\alpha_i,s_i}^\\dagger(k_i) c_{\\alpha_j,s_j}(k_j) \\rangle$ is only nonzero when the two momenta $k_i,k_j$ are the same, namely, $\\langle c_{\\alpha_i,s_i}^\\dagger(k_i) c_{\\alpha_j,s_j}(k_j) \\rangle=\\langle c_{\\alpha_i,s_i}^\\dagger(k_i) c_{\\alpha_j,s_j}(k_j) \\rangle \\delta_{k_i,k_j}$.  \n",
      "You should use the property of Kronecker delta function $\\delta_{k_i,k_j}$ to reduce one momentum $k_i$.\n",
      "Once you reduce one momentum inside the expected value $\\langle\\dots\\rangle$. You will also notice the total momentum conservation will reduce another momentum in the quadratic term. Therefore, you should end up with only two momenta left in the summation.  \n",
      "You should follow the EXAMPLE below to reduce one momentum in the Hartree term, and another momentum in the quadratic term.  \n",
      "You should recall that the third term in $\\hat{H}^{int,Hartree,2} = 2V_{pd} \\sum_{s, s^{\\prime}} \\frac{1}{N} \\sum_{k_1,k_2,k_3,k_4} \\sum_{G} \\delta(k_1-k_2+k_3-k_4,G) \\Big[\\langle c_{d,s}^\\dagger(k_1) c_{d,s}(k_2) \\rangle c_{p_x,s^{\\prime}}^\\dagger(k_3) c_{p_x,s^{\\prime}}(k_4)\\cos\\left(\\frac{k_3-k_4}{2}\\cdot \\hat{x}\\right) + \\langle c_{p_x,s}^\\dagger(k_1) c_{p_x,s}(k_2) \\rangle c_{d,s^{\\prime}}^\\dagger(k_3) c_{d,s^{\\prime}}(k_4)\\cos\\left(\\frac{k_1-k_2}{2}\\cdot \\hat{x}\\right)+ \\langle c_{d,s}^\\dagger(k_1) c_{d,s}(k_2) \\rangle c_{p_y,s^{\\prime}}^\\dagger(k_3) c_{p_y,s^{\\prime}}(k_4)\\cos\\left(\\frac{k_3-k_4}{2}\\cdot \\hat{y}\\right)+ \\langle c_{p_y,s}^\\dagger(k_1) c_{p_y,s}(k_2) \\rangle c_{d,s^{\\prime}}^\\dagger(k_3) c_{d,s^{\\prime}}(k_4)\\cos\\left(\\frac{k_1-k_2}{2}\\cdot \\hat{y}\\right) \\Big].  \n",
      "Return the final simplified Hartree term the third term in $\\hat{H}^{int,Hartree,2}$.\n",
      "\n",
      "===  \n",
      "EXAMPLE:  \n",
      "Given a Hamiltonian where the Hartree term $\\hat{H}^{Hartree}=\\sum_{k_1,k_2, k_3, k_4,s_1,s_2} V(k_1-k_4) \\langle c_{s_1}^\\dagger(k_1) c_{s_1}(k_4) \\rangle c_{s_2}^\\dagger(k_2) c_{s_2}(k_3) \\sum_{G}\\delta_{k_1+k_2-k_3-k_4,G}$, where $k_i$ is the momentum inside first Brilloun zone, $G$ is the reciprocal lattice vectors, and $s_i$ is a certain index for the degree of freedom other than momentum.   \n",
      "Inside the expected value, we realize $\\langle c_{s_1}^\\dagger(k_1) c_{s_1}(k_4) \\rangle$ is nonzero only when $k_1=k_4$, i.e., $\\langle c_{s_1}^\\dagger(k_1) c_{s_1}(k_4) \\rangle=\\langle c_{s_1}^\\dagger(k_1) c_{s_1}(k_4) \\rangle\\delta_{k_1,k_4}$.  \n",
      "Thus, the Hartree term becomes $\\sum_{k_1,k_2, k_3, k_4,s_1,s_2} V(k_1-k_4) \\langle c_{s_1}^\\dagger(k_1) c_{s_1}(k_4) \\rangle \\delta_{k_1,k_4} c_{s_2}^\\dagger(k_2) c_{s_2}(k_3) \\sum_{G}\\delta_{k_1+k_2-k_3-k_4,G}$.  \n",
      "Use the property of Kronecker delta function $\\delta_{k_1,k_4}$ to sum over $k_4$, we have $\\sum_{k_1, k_2, k_3,s_1,s_2} V(k_1-k_1) \\langle c_{s_1}^\\dagger(k_1) c_{s_1}(k_1) \\rangle c_{s_2}^\\dagger(k_2) c_{s_2}(k_3) \\sum_{G}\\delta_{k_1+k_2-k_3-k_1,G}=\\sum_{k_1, k_2, k_3,s_1,s_2} V(0) \\langle c_{s_1}^\\dagger(k_1) c_{s_1}(k_1) \\rangle c_{s_2}^\\dagger(k_2) c_{s_2}(k_3) \\sum_{G}\\delta_{k_2-k_3,G}$.  \n",
      "We can further simplify $\\sum_{G}\\delta_{k_2-k_3,G}$. Because $k_i$ is momentum inside first Brilloun zone, and the difference between $k_2$ and $k_3$ cannot exceed the first shell of reciprocal lattice vector, which means $G$ can only take the value of the origin point in the reciprocal lattice, therefore, $\\sum_{G}\\delta_{k_2-k_3,G}=\\delta_{k_2-k_3,0}$.   \n",
      "Thus, the Hartree term simplifies to $\\sum_{k_1, k_2, k_3,s_1,s_2} V(0) \\langle c_{s_1}^\\dagger(k_1) c_{s_1}(k_1) \\rangle c_{s_2}^\\dagger(k_2) c_{s_2}(k_3) \\delta_{k_2-k_3,0}=\\sum_{k_1, k_2,s_1,s_2} V(0) \\langle c_{s_1}^\\dagger(k_1) c_{s_1}(k_1) \\rangle c_{s_2}^\\dagger(k_2) c_{s_2}(k_2)$.  \n",
      "Therefore, the final simplified Hartree term after reducing one momentum is $\\hat{H}^{Hartree}=\\sum_{k_1, k_2,s_1,s_2} V(0) \\langle c_{s_1}^\\dagger(k_1) c_{s_1}(k_1) \\rangle c_{s_2}^\\dagger(k_2) c_{s_2}(k_2)$\n"
     ]
    }
   ],
   "source": [
    "print_save(generate_prompt(kwargs,prompt_dict=prompt_dict())['content'])"
   ]
  },
  {
   "cell_type": "code",
   "execution_count": 109,
   "metadata": {},
   "outputs": [],
   "source": [
    "kwargs_list.append(kwargs)"
   ]
  },
  {
   "cell_type": "markdown",
   "metadata": {},
   "source": [
    "## Reduce momentum in Hartree term (momentum in BZ) [fourth term] "
   ]
  },
  {
   "cell_type": "code",
   "execution_count": 110,
   "metadata": {},
   "outputs": [],
   "source": [
    "kwargs = {\n",
    "    'task':\"Reduce momentum in Hartree term (momentum in BZ)\",\n",
    "    'Hartree_2_symbol': r'the fourth term in $\\hat{H}^{int,Hartree,2}$',\n",
    "    'expval': r'$\\langle c_{\\alpha_i,s_i}^\\dagger(k_i) c_{\\alpha_j,s_j}(k_j) \\rangle$',\n",
    "    'expval_id':r'$\\langle c_{\\alpha_i,s_i}^\\dagger(k_i) c_{\\alpha_j,s_j}(k_j) \\rangle=\\langle c_{\\alpha_i,s_i}^\\dagger(k_i) c_{\\alpha_j,s_j}(k_j) \\rangle \\delta_{k_i,k_j}$',\n",
    "    'expression_Hartree':r'the fourth term in $\\hat{H}^{int,Hartree,2} = \\frac{V_{pp}}{N} \\sum_{s, s^{\\prime}} \\sum_{\\sigma_x, \\sigma_y} \\sum_{k_1, k_2, k_3, k_4} \\sum_{G} \\delta(k_2 - k_1 + k_4 - k_3, G) e^{-i (k_1 - k_2) \\cdot \\sigma_x\\hat{x}/2 - i (k_3 - k_4) \\cdot \\sigma_y\\hat{y}/2} \\times \\Big[ \\langle c_{p_x,s}^\\dagger(k_1) c_{p_x,s}(k_2) \\rangle c_{p_y,s^{\\prime}}^\\dagger(k_3) c_{p_y,s^{\\prime}}(k_4) + \\langle c_{p_y,s}^\\dagger(k_1) c_{p_y,s}(k_2) \\rangle c_{p_x,s^{\\prime}}^\\dagger(k_3) c_{p_x,s^{\\prime}}(k_4) \\Big]',\n",
    "    'answer':r'''$\\hat{H}^{int,Hartree, V_{pp}} = \\frac{V_{pp}}{N} \\sum_{s, s^{\\prime}} \\sum_{\\sigma_x, \\sigma_y} \\sum_{k_1, k_3} \\langle c_{p_x,s}^\\dagger(k_1) c_{p_x,s}(k_1) \\rangle c_{p_y,s^{\\prime}}^\\dagger(k_3) c_{p_y,s^{\\prime}}(k_3) + \\langle c_{p_y,s}^\\dagger(k_1) c_{p_y,s}(k_1) \\rangle c_{p_x,s^{\\prime}}^\\dagger(k_3) c_{p_x,s^{\\prime}}(k_3).$''',\n",
    "'source': {'1106.6060.tex':[(177,267)]}\n",
    "\n",
    "}\n"
   ]
  },
  {
   "cell_type": "code",
   "execution_count": 111,
   "metadata": {},
   "outputs": [
    {
     "name": "stdout",
     "output_type": "stream",
     "text": [
      "You will be instructed to simplify the Hartree term, the fourth term in $\\hat{H}^{int,Hartree,2}$, by reducing the momentum inside the expected value $\\langle c_{\\alpha_i,s_i}^\\dagger(k_i) c_{\\alpha_j,s_j}(k_j) \\rangle$.  \n",
      "The expected value $\\langle c_{\\alpha_i,s_i}^\\dagger(k_i) c_{\\alpha_j,s_j}(k_j) \\rangle$ is only nonzero when the two momenta $k_i,k_j$ are the same, namely, $\\langle c_{\\alpha_i,s_i}^\\dagger(k_i) c_{\\alpha_j,s_j}(k_j) \\rangle=\\langle c_{\\alpha_i,s_i}^\\dagger(k_i) c_{\\alpha_j,s_j}(k_j) \\rangle \\delta_{k_i,k_j}$.  \n",
      "You should use the property of Kronecker delta function $\\delta_{k_i,k_j}$ to reduce one momentum $k_i$.\n",
      "Once you reduce one momentum inside the expected value $\\langle\\dots\\rangle$. You will also notice the total momentum conservation will reduce another momentum in the quadratic term. Therefore, you should end up with only two momenta left in the summation.  \n",
      "You should follow the EXAMPLE below to reduce one momentum in the Hartree term, and another momentum in the quadratic term.  \n",
      "You should recall that the fourth term in $\\hat{H}^{int,Hartree,2} = \\frac{V_{pp}}{N} \\sum_{s, s^{\\prime}} \\sum_{\\sigma_x, \\sigma_y} \\sum_{k_1, k_2, k_3, k_4} \\sum_{G} \\delta(k_2 - k_1 + k_4 - k_3, G) e^{-i (k_1 - k_2) \\cdot \\sigma_x\\hat{x}/2 - i (k_3 - k_4) \\cdot \\sigma_y\\hat{y}/2} \\times \\Big[ \\langle c_{p_x,s}^\\dagger(k_1) c_{p_x,s}(k_2) \\rangle c_{p_y,s^{\\prime}}^\\dagger(k_3) c_{p_y,s^{\\prime}}(k_4) + \\langle c_{p_y,s}^\\dagger(k_1) c_{p_y,s}(k_2) \\rangle c_{p_x,s^{\\prime}}^\\dagger(k_3) c_{p_x,s^{\\prime}}(k_4) \\Big].  \n",
      "Return the final simplified Hartree term the fourth term in $\\hat{H}^{int,Hartree,2}$.\n",
      "\n",
      "===  \n",
      "EXAMPLE:  \n",
      "Given a Hamiltonian where the Hartree term $\\hat{H}^{Hartree}=\\sum_{k_1,k_2, k_3, k_4,s_1,s_2} V(k_1-k_4) \\langle c_{s_1}^\\dagger(k_1) c_{s_1}(k_4) \\rangle c_{s_2}^\\dagger(k_2) c_{s_2}(k_3) \\sum_{G}\\delta_{k_1+k_2-k_3-k_4,G}$, where $k_i$ is the momentum inside first Brilloun zone, $G$ is the reciprocal lattice vectors, and $s_i$ is a certain index for the degree of freedom other than momentum.   \n",
      "Inside the expected value, we realize $\\langle c_{s_1}^\\dagger(k_1) c_{s_1}(k_4) \\rangle$ is nonzero only when $k_1=k_4$, i.e., $\\langle c_{s_1}^\\dagger(k_1) c_{s_1}(k_4) \\rangle=\\langle c_{s_1}^\\dagger(k_1) c_{s_1}(k_4) \\rangle\\delta_{k_1,k_4}$.  \n",
      "Thus, the Hartree term becomes $\\sum_{k_1,k_2, k_3, k_4,s_1,s_2} V(k_1-k_4) \\langle c_{s_1}^\\dagger(k_1) c_{s_1}(k_4) \\rangle \\delta_{k_1,k_4} c_{s_2}^\\dagger(k_2) c_{s_2}(k_3) \\sum_{G}\\delta_{k_1+k_2-k_3-k_4,G}$.  \n",
      "Use the property of Kronecker delta function $\\delta_{k_1,k_4}$ to sum over $k_4$, we have $\\sum_{k_1, k_2, k_3,s_1,s_2} V(k_1-k_1) \\langle c_{s_1}^\\dagger(k_1) c_{s_1}(k_1) \\rangle c_{s_2}^\\dagger(k_2) c_{s_2}(k_3) \\sum_{G}\\delta_{k_1+k_2-k_3-k_1,G}=\\sum_{k_1, k_2, k_3,s_1,s_2} V(0) \\langle c_{s_1}^\\dagger(k_1) c_{s_1}(k_1) \\rangle c_{s_2}^\\dagger(k_2) c_{s_2}(k_3) \\sum_{G}\\delta_{k_2-k_3,G}$.  \n",
      "We can further simplify $\\sum_{G}\\delta_{k_2-k_3,G}$. Because $k_i$ is momentum inside first Brilloun zone, and the difference between $k_2$ and $k_3$ cannot exceed the first shell of reciprocal lattice vector, which means $G$ can only take the value of the origin point in the reciprocal lattice, therefore, $\\sum_{G}\\delta_{k_2-k_3,G}=\\delta_{k_2-k_3,0}$.   \n",
      "Thus, the Hartree term simplifies to $\\sum_{k_1, k_2, k_3,s_1,s_2} V(0) \\langle c_{s_1}^\\dagger(k_1) c_{s_1}(k_1) \\rangle c_{s_2}^\\dagger(k_2) c_{s_2}(k_3) \\delta_{k_2-k_3,0}=\\sum_{k_1, k_2,s_1,s_2} V(0) \\langle c_{s_1}^\\dagger(k_1) c_{s_1}(k_1) \\rangle c_{s_2}^\\dagger(k_2) c_{s_2}(k_2)$.  \n",
      "Therefore, the final simplified Hartree term after reducing one momentum is $\\hat{H}^{Hartree}=\\sum_{k_1, k_2,s_1,s_2} V(0) \\langle c_{s_1}^\\dagger(k_1) c_{s_1}(k_1) \\rangle c_{s_2}^\\dagger(k_2) c_{s_2}(k_2)$\n"
     ]
    }
   ],
   "source": [
    "print_save(generate_prompt(kwargs,prompt_dict=prompt_dict())['content'])"
   ]
  },
  {
   "cell_type": "code",
   "execution_count": 112,
   "metadata": {},
   "outputs": [],
   "source": [
    "kwargs_list.append(kwargs)"
   ]
  },
  {
   "cell_type": "markdown",
   "metadata": {},
   "source": [
    "## Mathematical simplify: reduce index"
   ]
  },
  {
   "cell_type": "code",
   "execution_count": 113,
   "metadata": {},
   "outputs": [],
   "source": [
    "kwargs = {\n",
    "    'task':\"Mathematical simplify: reduce index\",\n",
    "    'symbol': r'$\\hat{H}^{int,Hartree, V_{pp}}$',\n",
    "    'index': r'$\\sigma_x$ and $\\sigma_y$, where $\\sigma_x=\\pm 1$, and $\\sigma_y=\\pm 1$',\n",
    "    'expressoin_symbol':r'''$\\hat{H}^{int,Hartree, V_{pp}} = \\frac{V_{pp}}{N} \\sum_{s, s^{\\prime}} \\sum_{\\sigma_x, \\sigma_y} \\sum_{k_1, k_3} \\langle c_{p_x,s}^\\dagger(k_1) c_{p_x,s}(k_1) \\rangle c_{p_y,s^{\\prime}}^\\dagger(k_3) c_{p_y,s^{\\prime}}(k_3) + \\langle c_{p_y,s}^\\dagger(k_1) c_{p_y,s}(k_1) \\rangle c_{p_x,s^{\\prime}}^\\dagger(k_3) c_{p_x,s^{\\prime}}(k_3).$''',\n",
    "\n",
    "    'answer':r'''$$\\hat{H}^{int,Hartree, V_{pp}} = \\frac{4V_{pp}}{N} \\sum_{s, s^{\\prime}} \\sum_{k_1, k_3} \\langle c_{p_x,s}^\\dagger(k_1) c_{p_x,s}(k_1) \\rangle c_{p_y,s^{\\prime}}^\\dagger(k_3) c_{p_y,s^{\\prime}}(k_3) + \\langle c_{p_y,s}^\\dagger(k_1) c_{p_y,s}(k_1) \\rangle c_{p_x,s^{\\prime}}^\\dagger(k_3) c_{p_x,s^{\\prime}}(k_3).$$''',\n",
    "'source': {}\n",
    "}\n"
   ]
  },
  {
   "cell_type": "code",
   "execution_count": 114,
   "metadata": {},
   "outputs": [
    {
     "name": "stdout",
     "output_type": "stream",
     "text": [
      "You will be instructed to simplify the $\\hat{H}^{int,Hartree, V_{pp}}$ by performing constant term summation by reducing the unnecessary indices $\\sigma_x$ and $\\sigma_y$, where $\\sigma_x=\\pm 1$, and $\\sigma_y=\\pm 1$.\n",
      "You should recall that $\\hat{H}^{int,Hartree, V_{pp}} = \\frac{V_{pp}}{N} \\sum_{s, s^{\\prime}} \\sum_{\\sigma_x, \\sigma_y} \\sum_{k_1, k_3} \\langle c_{p_x,s}^\\dagger(k_1) c_{p_x,s}(k_1) \\rangle c_{p_y,s^{\\prime}}^\\dagger(k_3) c_{p_y,s^{\\prime}}(k_3) + \\langle c_{p_y,s}^\\dagger(k_1) c_{p_y,s}(k_1) \\rangle c_{p_x,s^{\\prime}}^\\dagger(k_3) c_{p_x,s^{\\prime}}(k_3).$.  \n",
      "Return the simplified Kinetic Hamiltonian $\\hat{H}^{int,Hartree, V_{pp}}$.\n"
     ]
    }
   ],
   "source": [
    "print_save(generate_prompt(kwargs,prompt_dict=prompt_dict())['content'])"
   ]
  },
  {
   "cell_type": "code",
   "execution_count": 115,
   "metadata": {},
   "outputs": [],
   "source": [
    "kwargs_list.append(kwargs)"
   ]
  },
  {
   "cell_type": "code",
   "execution_count": 116,
   "metadata": {},
   "outputs": [
    {
     "data": {
      "text/plain": [
       "33"
      ]
     },
     "execution_count": 116,
     "metadata": {},
     "output_type": "execute_result"
    }
   ],
   "source": [
    "len(kwargs_list)"
   ]
  },
  {
   "cell_type": "code",
   "execution_count": 117,
   "metadata": {},
   "outputs": [
    {
     "ename": "SyntaxError",
     "evalue": "invalid syntax (3659366440.py, line 1)",
     "output_type": "error",
     "traceback": [
      "\u001b[0;36m  File \u001b[0;32m\"/tmp/ipykernel_8248/3659366440.py\"\u001b[0;36m, line \u001b[0;32m1\u001b[0m\n\u001b[0;31m    --\u001b[0m\n\u001b[0m      ^\u001b[0m\n\u001b[0;31mSyntaxError\u001b[0m\u001b[0;31m:\u001b[0m invalid syntax\n"
     ]
    }
   ],
   "source": [
    "--"
   ]
  },
  {
   "cell_type": "markdown",
   "metadata": {},
   "source": [
    "## Save jsonl"
   ]
  },
  {
   "cell_type": "code",
   "execution_count": 118,
   "metadata": {},
   "outputs": [],
   "source": [
    "with open('1106.6060.jsonl', 'w') as f:\n",
    "    for dict_obj in kwargs_list:\n",
    "        f.write(json.dumps(dict_obj) + '\\n')"
   ]
  },
  {
   "cell_type": "markdown",
   "metadata": {},
   "source": [
    "# Draft"
   ]
  },
  {
   "cell_type": "code",
   "execution_count": null,
   "metadata": {},
   "outputs": [],
   "source": []
  }
 ],
 "metadata": {
  "kernelspec": {
   "display_name": "Python 3",
   "language": "python",
   "name": "python3"
  },
  "language_info": {
   "codemirror_mode": {
    "name": "ipython",
    "version": 3
   },
   "file_extension": ".py",
   "mimetype": "text/x-python",
   "name": "python",
   "nbconvert_exporter": "python",
   "pygments_lexer": "ipython3",
   "version": "3.8.11"
  },
  "orig_nbformat": 4
 },
 "nbformat": 4,
 "nbformat_minor": 2
}
