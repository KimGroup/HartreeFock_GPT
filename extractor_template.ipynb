{
 "cells": [
  {
   "cell_type": "code",
   "execution_count": 18,
   "metadata": {},
   "outputs": [],
   "source": [
    "import openai\n",
    "import pandas as pd\n",
    "import json\n",
    "import yaml\n",
    "from IPython.display import Markdown\n",
    "import sys\n",
    "import yaml\n",
    "from tqdm import tqdm"
   ]
  },
  {
   "cell_type": "code",
   "execution_count": 19,
   "metadata": {},
   "outputs": [],
   "source": [
    "zz=openai.Model.list()"
   ]
  },
  {
   "cell_type": "code",
   "execution_count": 20,
   "metadata": {},
   "outputs": [
    {
     "data": {
      "text/plain": [
       "62"
      ]
     },
     "execution_count": 20,
     "metadata": {},
     "output_type": "execute_result"
    }
   ],
   "source": [
    "len(zz['data'])"
   ]
  },
  {
   "cell_type": "code",
   "execution_count": 21,
   "metadata": {},
   "outputs": [],
   "source": [
    "model_params = {\n",
    "    'model': \"gpt-4\",\n",
    "    'temperature': 0,\n",
    "}"
   ]
  },
  {
   "cell_type": "code",
   "execution_count": 22,
   "metadata": {},
   "outputs": [],
   "source": [
    "def print_save(string, file='../cmp2.md'):\n",
    "    print(string)\n",
    "    with open(file,'w') as f:\n",
    "        f.write(string)"
   ]
  },
  {
   "cell_type": "markdown",
   "metadata": {},
   "source": [
    "## Load prompt_template.md"
   ]
  },
  {
   "cell_type": "code",
   "execution_count": 23,
   "metadata": {},
   "outputs": [],
   "source": [
    "sys.path.append('..')\n",
    "from utils import *\n",
    "from functools import partial"
   ]
  },
  {
   "cell_type": "code",
   "execution_count": 24,
   "metadata": {},
   "outputs": [],
   "source": [
    "prompt_dict = partial(load_prompt_template,file='../prompt_template.md')"
   ]
  },
  {
   "cell_type": "code",
   "execution_count": 25,
   "metadata": {},
   "outputs": [
    {
     "data": {
      "text/plain": [
       "dict_keys(['Preamble', 'Problem-solver', 'Conversation summarizer', 'Construct Kinetic Hamiltonian (continuum version, single-particle)', 'Construct Kinetic Hamiltonian (continuum version, second-quantized)', 'Construct Kinetic Hamiltonian (lattice version)', 'Define each term in Kinetic Hamiltonian (continuum version)', 'Construct Potential Hamiltonian (continuum version)', 'Define each term in Potential Hamiltonian (continuum version)', 'Construct interaction Hamiltonian (real space, lattice version)', 'Construct interaction Hamiltonian (momentum space)', 'Convert from single-particle to second-quantized form, return in matrix', 'Convert from single-particle to second-quantized form, return in summation (expand the matrix)', 'Convert noninteracting Hamiltonian in real space to momentum space (continuum version)', 'Convert noninteracting Hamiltonian in real space to momentum space (lattice version)', 'Convert interacting Hamiltonian in real space to momentum space (lattice version)', 'Particle-hole transformation', 'Simplify the Hamiltonian in the particle-hole basis', \"Wick's theorem\", 'Extract quadratic term', 'Hartree term only', 'Fock term only', 'Expand interaction', 'Swap the index only', 'Swap the index to combine Hartree and Fock terms', 'Reduce momentum in Hartree term (momentum in BZ + reciprocal lattice)', 'Reduce momentum in Hartree term (momentum in BZ)', 'Reduce momentum in Fock term (momentum in BZ + reciprocal lattice)', 'Combine the Hartree and Fock term', 'Construct full Hamiltonian after HF', 'Mathematical simplify: inner product expansion', \"Mathematical simplify: Euler's formula\", 'Mathematical simplify: prosthaphaeresis', 'Mathematical simplify: Expand the product using Associative property', 'Mathematical simplify: Combine using Associative property', 'Mathematical simplify: reduce index'])"
      ]
     },
     "execution_count": 25,
     "metadata": {},
     "output_type": "execute_result"
    }
   ],
   "source": [
    "prompt_dict().keys()"
   ]
  },
  {
   "cell_type": "code",
   "execution_count": null,
   "metadata": {},
   "outputs": [],
   "source": []
  },
  {
   "cell_type": "markdown",
   "metadata": {},
   "source": [
    "# Prompt fill place holder"
   ]
  },
  {
   "cell_type": "code",
   "execution_count": 26,
   "metadata": {},
   "outputs": [],
   "source": [
    "import json"
   ]
  },
  {
   "cell_type": "code",
   "execution_count": 27,
   "metadata": {},
   "outputs": [],
   "source": [
    "pwd=os.getcwd()"
   ]
  },
  {
   "cell_type": "code",
   "execution_count": 29,
   "metadata": {},
   "outputs": [],
   "source": [
    "arxiv_number=pwd.split('/')[-1]"
   ]
  },
  {
   "cell_type": "code",
   "execution_count": 30,
   "metadata": {},
   "outputs": [
    {
     "ename": "FileNotFoundError",
     "evalue": "[Errno 2] No such file or directory: '2012.04554.yaml'",
     "output_type": "error",
     "traceback": [
      "\u001b[0;31m---------------------------------------------------------------------------\u001b[0m",
      "\u001b[0;31mFileNotFoundError\u001b[0m                         Traceback (most recent call last)",
      "\u001b[0;32m/tmp/ipykernel_1519/3305457107.py\u001b[0m in \u001b[0;36m<module>\u001b[0;34m\u001b[0m\n\u001b[0;32m----> 1\u001b[0;31m \u001b[0;32mwith\u001b[0m \u001b[0mopen\u001b[0m\u001b[0;34m(\u001b[0m\u001b[0;34mf'{arxiv_number}.yaml'\u001b[0m\u001b[0;34m,\u001b[0m\u001b[0;34m'r'\u001b[0m\u001b[0;34m)\u001b[0m \u001b[0;32mas\u001b[0m \u001b[0mf\u001b[0m\u001b[0;34m:\u001b[0m\u001b[0;34m\u001b[0m\u001b[0;34m\u001b[0m\u001b[0m\n\u001b[0m\u001b[1;32m      2\u001b[0m     \u001b[0mkwargs_yaml\u001b[0m \u001b[0;34m=\u001b[0m \u001b[0myaml\u001b[0m\u001b[0;34m.\u001b[0m\u001b[0msafe_load\u001b[0m\u001b[0;34m(\u001b[0m\u001b[0mf\u001b[0m\u001b[0;34m)\u001b[0m\u001b[0;34m\u001b[0m\u001b[0;34m\u001b[0m\u001b[0m\n\u001b[1;32m      3\u001b[0m \u001b[0;31m# with open(f'{arxiv_number}.jsonl','r') as f:\u001b[0m\u001b[0;34m\u001b[0m\u001b[0;34m\u001b[0m\u001b[0;34m\u001b[0m\u001b[0m\n\u001b[1;32m      4\u001b[0m \u001b[0;31m#     kwargs_jsonl= [json.loads(line) for line in f]\u001b[0m\u001b[0;34m\u001b[0m\u001b[0;34m\u001b[0m\u001b[0;34m\u001b[0m\u001b[0m\n",
      "\u001b[0;31mFileNotFoundError\u001b[0m: [Errno 2] No such file or directory: '2012.04554.yaml'"
     ]
    }
   ],
   "source": [
    "with open(f'{arxiv_number}.yaml','r') as f:\n",
    "    kwargs_yaml = yaml.safe_load(f)\n",
    "# with open(f'{arxiv_number}.jsonl','r') as f:\n",
    "#     kwargs_jsonl= [json.loads(line) for line in f]"
   ]
  },
  {
   "cell_type": "code",
   "execution_count": 18,
   "metadata": {},
   "outputs": [],
   "source": [
    "def load_excerpt(sources):\n",
    "    excerpt=''\n",
    "    for tex, lines in sources.items():\n",
    "        with open(tex,'r') as f:\n",
    "            f_list=list(f)\n",
    "            for line in lines:\n",
    "                excerpt=excerpt+''.join(f_list[line[0]:line[1]])\n",
    "    return excerpt"
   ]
  },
  {
   "cell_type": "code",
   "execution_count": 19,
   "metadata": {},
   "outputs": [],
   "source": [
    "prompt_system='''I will provide you a Excerpt of physics paper, and a Template. You will need to fill the placeholders in the template using the correct information from the excerpt.\n",
    "Here are conventions: \n",
    "{..} means a placeholder which you need to fill by extracting information from the excerpt.\n",
    "{A|B} means you need to make a choice between A and B\n",
    "[..] means optional sentence. You should decide whether to use it depending on the excerpt.\n",
    "{{..}} DOES NOT mean a placeholder. You should not change the content inside double curly braces {{..}}.\n",
    "`You should recall that {expression_second_nonint}.` : this sentence should be kept as is.\n",
    "\n",
    "\n",
    "Finally, if you cannot figure out the placeholder, you should leave it as is.'''"
   ]
  },
  {
   "cell_type": "code",
   "execution_count": 20,
   "metadata": {},
   "outputs": [],
   "source": [
    "def drop_text_after(string):\n",
    "    string_new=''\n",
    "    for line in string.split('\\n'):\n",
    "        if '===' in line:\n",
    "            break\n",
    "        else:\n",
    "            if 'You should recall that' not in line:\n",
    "                string_new='\\n'.join([string_new,line])\n",
    "    return string_new[1:]\n"
   ]
  },
  {
   "cell_type": "code",
   "execution_count": 21,
   "metadata": {},
   "outputs": [],
   "source": [
    "def extractor(descriptor,message=False):\n",
    "    sys_msg=[{'role': 'system', 'content': prompt_system}]\n",
    "    question_prompt='\\nTemplate:\\n {template} \\n\\n Excerpt:\\n {excerpt}'.format(template=drop_text_after(prompt_dict()[descriptor['task']]), excerpt=load_excerpt(descriptor['source']))\n",
    "    user_msg=[{'role':'user','content':question_prompt}]\n",
    "    messages = sys_msg + user_msg\n",
    "    if message:\n",
    "        return sys_msg[0]['content']+user_msg[0]['content']\n",
    "    rs= openai.ChatCompletion.create(messages=messages, **model_params)\n",
    "    response=rs['choices'][0]['message'].content\n",
    "    return response\n"
   ]
  },
  {
   "cell_type": "markdown",
   "metadata": {},
   "source": [
    "## GPT4"
   ]
  },
  {
   "cell_type": "code",
   "execution_count": 26,
   "metadata": {},
   "outputs": [
    {
     "name": "stderr",
     "output_type": "stream",
     "text": [
      "100%|██████████| 11/11 [05:14<00:00, 28.63s/it]\n"
     ]
    }
   ],
   "source": [
    "string=''\n",
    "for kwargs in tqdm(kwargs_yaml):\n",
    "    string+='# '+kwargs['task']+'\\n'\n",
    "    response=(extractor(kwargs, message=False))\n",
    "    string+=response+'\\n\\n'\n",
    "    \n",
    "    "
   ]
  },
  {
   "cell_type": "code",
   "execution_count": 28,
   "metadata": {},
   "outputs": [
    {
     "name": "stdout",
     "output_type": "stream",
     "text": [
      "# Construct Kinetic Hamiltonian (continuum version, second-quantized)\n",
      "You will be instructed to describe the kinetic term of Hamiltonian in a system under an in-plane magnetic field in the momentum space in the single-particle form.   \n",
      "The degrees of freedom of the system are: four-component spinors $\\psi_{\\bm k}=(a_{c\\uparrow\\bm k},a_{v\\uparrow\\bm k},a_{c\\downarrow\\bm k},a_{v\\downarrow\\bm k})^T$, where $c$ and $v$ denote the conduction and valence bands, and $\\uparrow$ and $\\downarrow$ denote two opposite spins.  \n",
      "Express the Kinetic Hamiltonian $H_{\\rm{BHZ}}$ using $h_{\\uparrow}$, $h_{\\downarrow}$, $\\psi_{\\bm k}^{\\dagger}$, and $\\psi_{\\bm k}$, where the summation of ${k}$ should be running over the entire space.\n",
      "\n",
      "Use the following conventions for the symbols:  \n",
      "$h_{\\uparrow}$ and $h_{\\downarrow}$ are the two $2\\times 2$ matrices that can be explicitly expressed as given in the excerpt. $m_e$ and $m_h$ are the effective masses of electrons and holes, $E_g$ is the band gap, $A$ is the strength of hybridization between the conduction and valence bands, and $\\bm Q$ is the momentum shift due to the in-plane magnetic field. Without the magnetic field, $\\bm Q=0$ and $h_{\\uparrow},h_{downarrow}$ are time-reversal partners.\n",
      "\n",
      "# Define each term in Kinetic Hamiltonian (continuum version)\n",
      "You will be instructed to construct each term, namely $h_{\\uparrow}(\\bm k)$ and $h_{\\downarrow}(\\bm k)$.  \n",
      "For all energy dispersions, $h_{\\uparrow}(\\bm k)$ and $h_{\\downarrow}(\\bm k)$, it characterizes the parabolic dispersion for electrons and holes.   \n",
      "In addition, a shift of $\\bm Q$ in the momentum $\\bm k$ for $h_{\\uparrow}(\\bm k)$ and $h_{\\downarrow}(\\bm k)$, respectively.  \n",
      "You should follow the EXAMPLE below to obtain correct energy dispersion, select the correct EXAMPLE by noticing the type of dispersion.  \n",
      "Finally, in the real space, the momentum $\\bm k=-i \\partial_{\\bm r}$. You should keep the form of $\\bm k$ in the Hamiltonian for short notations but should remember $\\bm k$ is an operator.  \n",
      "Return the expression for $h_{\\uparrow}(\\bm k)$ and $h_{\\downarrow}(\\bm k)$ in the Kinetic Hamiltonian, and substitute it into the Kinetic Hamiltonian $H_{\\rm{BHZ}}$.  \n",
      "\n",
      "Use the following conventions for the symbols (You should also obey the conventions in all my previous prompts if you encounter undefined symbols. If you find it is never defined or has conflicts in the conventions, you should stop and let me know):  \n",
      "$\\psi_{\\bm k}$: field operators, $c$ and $v$: conduction and valence bands, $\\uparrow$ and $\\downarrow$: two opposite spins, $h_{\\uparrow}$ and $h_{\\downarrow}$: two $2\\times 2$ matrices, $m_e$ and $m_h$: effective masses of electrons and holes, $E_g$: band gap, $A$: strength of hybridization between the conduction and valence bands, $\\bm Q$: momentum shift due to the in-plane magnetic field.\n",
      "\n",
      "# Construct interaction Hamiltonian (momentum space)\n",
      "You will be instructed to construct the interaction part of the Hamiltonian $H_I$ in the momentum space.  \n",
      "The interaction Hamiltonian is a product of four parts.\n",
      "The first part is the product of four operators with two creation and two annihilation operators following the normal order, namely, creation operators are before annihilation operators. You should follow the order of $b, b', s', b'$ for the band and spin indices, and $k, k', q$ for the momentum. \n",
      "The second part is the constraint of total momentum conservation, namely the total momentum of all creation operators should be the same as that of all annihilation operators.  \n",
      "The third part is the interaction form. You should use intralayer Coulomb interaction and interlayer Coulomb interaction with $V(q)=2\\pi e^2/\\epsilon q$ and $U(q)=V(q)\\exp(-qd)$, where $q$ is the transferred total momentum between a creation operator and an annihilation operator with the same band and spin indices, namely $q=k-k'$.  \n",
      "The fourth part is the normalization factor, you should use $1/2S$ here.\n",
      "Finally, the summation should be running over all band and spin indices, and momentum.\n",
      "Return the interaction term $H_I$ in terms of $a_{bs\\bm k+\\bm q}^{\\dagger}$, $a_{b's'\\bm k'-\\bm q}^{\\dagger}$, $a_{b's'\\bm k'}$, $a_{bs\\bm k}$ and $V(q)$, $U(q)$ (with $q$ expressed in terms of momentum).  \n",
      "\n",
      "Use the following conventions for the symbols (You should also obey the conventions in all my previous prompts if you encounter undefined symbols. If you find it is never defined or has conflicts in the conventions, you should stop and let me know):  \n",
      "$S$ is the area of the two-dimensional system, $b,b'$ and $s,s'$ are band and spin indices respectively, $V_{cc}(q)=V_{vv}(q)=V(q)=2\\pi e^2/\\epsilon q$ is the intralayer Coulomb interaction, $V_{cv}(q)=V_{vc}(q)=U(q)=V(q)\\exp(-qd)$ is the interlayer Coulomb interaction at interlayer distance $d$, and $\\epsilon$ is the dielectric constant of the surrounding three-dimensional material.\n",
      "\n",
      "# Wick's theorem\n",
      "You will be instructed to perform a Hartree-Fock approximation to expand the interaction term, $\\Sigma_H$ and $\\Sigma_F$.  \n",
      "You should use Wick's theorem to expand the four-fermion term in $\\Sigma_H$ and $\\Sigma_F$ into quadratic terms. You should strictly follow the EXAMPLE below to expand using Wick's theorem, select the correct EXAMPLE by noticing the order of four term product with and without ${{}}^\\dagger$, and be extremely cautious about the order of the index and sign before each term.  \n",
      "You should only preserve the normal terms. Here, the normal terms mean the product of a creation operator and an annihilation operator.  \n",
      "Return the expanded interaction term after Hartree-Fock approximation as $H_{\\rm{MF}}$.\n",
      "\n",
      "Use the following conventions for the symbols (You should also obey the conventions in all my previous prompts if you encounter undefined symbols. If you find it is never defined or has conflicts in the conventions, you should stop and let me know):  \n",
      "$\\Sigma_H$ and $\\Sigma_F$ are the Hartree and Fock terms respectively, $V_{bb'}$ is the interaction potential, $\\rho_{b's'\\,n''}^{b's'\\,n''+n'-n}$ is the density matrix, $a_{bsn'\\bm k}^{\\dagger}$ and $a_{bsn\\bm k}$ are the creation and annihilation operators, $H_{\\rm{BHZ}}$ is the base Hamiltonian, and $H_{\\rm{MF}}$ is the mean-field Hamiltonian.\n",
      "\n",
      "# Extract quadratic term\n",
      "You will be instructed to extract the quadratic terms in the Hartree and Fock terms.  \n",
      "The quadratic terms mean terms that are proportional to $a_{bsn'\\bm k}^{\\dagger} a_{bsn\\bm k}$, which excludes terms that are solely expectations or products of expectations.  \n",
      "You should only preserve the quadratic terms in Hartree and Fock terms, denoted as $\\Sigma_H$ and $\\Sigma_F$.  \n",
      "Return $\\Sigma_H$ and $\\Sigma_F$.  \n",
      "\n",
      "Use the following conventions for the symbols (You should also obey the conventions in all my previous prompts if you encounter undefined symbols. If you find it is never defined or has conflicts in the conventions, you should stop and let me know):  \n",
      "$\\Sigma_H$ and $\\Sigma_F$ are the Hartree and Fock terms respectively. $a_{bsn'\\bm k}^{\\dagger}$ and $a_{bsn\\bm k}$ are creation and annihilation operators. $\\rho_{b's'\\,n''}^{b's'\\,n''+n'-n}(\\bm k')$ is the density matrix. $V_{bb'}((n'-n)\\bm Q)$ and $V_{bb'}((n''-n)\\bm Q+\\bm k'-\\bm k)$ are the interaction potentials. $H_{\\rm{BHZ}}$ is the BHZ Hamiltonian. $H_{\\rm{MF}}$ is the mean-field Hamiltonian.\n",
      "\n",
      "# Expand interaction\n",
      "You will be instructed to expand interaction term $V_{bb'}((n'-n)\\bm Q)$ and $V_{bb'}((n''-n)\\bm Q+\\bm k'-\\bm k)$ in the MF quadratic term $\\Sigma_H$ and $\\Sigma_F$.\n",
      "If you find the $V_{bb'}((n'-n)\\bm Q)$ and $V_{bb'}((n''-n)\\bm Q+\\bm k'-\\bm k)$ in $\\Sigma_H$ and $\\Sigma_F$ does not contain any momentum that is not in the summation sign. The interaction term is already expanded. No action to perform on interaction term.\n",
      "Otherwise, you will expand $V_{bb'}((n'-n)\\bm Q)$ and $V_{bb'}((n''-n)\\bm Q+\\bm k'-\\bm k)$ by replacing $q$ with the momentum $(n'-n)\\bm Q$ and $(n''-n)\\bm Q+\\bm k'-\\bm k$.\n",
      "Return $\\Sigma_H$ and $\\Sigma_F$ with expanded interaction.\n",
      "\n",
      "# Swap the index to combine Hartree and Fock terms\n",
      "You will be instructed to simplify the quadratic term $H_{\\rm{MF}}$ through relabeling the index to combine the two Hartree/Fock term into one Hartree/Fock term.  \n",
      "The logic is that the expected value ($\\rho_{b's'\\,n''}^{b's'\\,n''+n'-n}(\\bm k')$) in the first Hartree term ($\\Sigma_H$) has the same form as the quadratic operators in the second Hartree term ($\\Sigma_F$), and vice versa. The same applies to the Fock term.  \n",
      "This means, if you relabel the index by swapping the index in the \"expected value\" and \"quadratic operators\" in the second Hartree term, you can make the second Hartree term look identical to the first Hartree term, as long as $V(q)=V(-q)$, which is naturally satisfied in Coulomb interaction. You should follow the EXAMPLE below to simplify it through relabeling the index.  \n",
      "You should perform this trick of \"relabeling the index\" for both two Hartree terms and two Fock terms to reduce them to one Hartree term, and one Fock term.  \n",
      "Return the simplified $H_{\\rm{MF}}$ which reduces from four terms (two Hartree and two Fock terms) to only two terms (one Hartree and one Fock term).\n",
      "\n",
      "# Reduce momentum in Hartree term (momentum in BZ + reciprocal lattice)\n",
      "You will be instructed to simplify the Hartree term in $\\Sigma_H$ by reducing the momentum inside the expected value $\\rho_{b's'\\,n''}^{b's'\\,n''+n'-n}(\\bm k')$.  \n",
      "The expected value $\\rho_{b's'\\,n''}^{b's'\\,n''+n'-n}(\\bm k')$ is only nonzero when the two momenta $k_i,k_j$ are the same, namely, $\\rho_{b's'n'}^{bsn}(\\bm k) = \\langle a_{b's'n'\\bm k}^{\\dagger} a_{bsn\\bm k} \\rangle - \\delta_{bb'}\\delta_{bv}\\delta_{ss'}\\delta_{nn'}$.  \n",
      "You should use the property of Kronecker delta function $\\delta_{{k_i,k_j}}$ to reduce one momentum $k_i$ but not $b_i$.\n",
      "Once you reduce one momentum inside the expected value $\\langle\\dots\\rangle$. You will also notice the total momentum conservation will reduce another momentum in the quadratic term. Therefore, you should end up with only two momenta left in the summation.  \n",
      "You should follow the EXAMPLE below to reduce one momentum in the Hartree term, and another momentum in the quadratic term.  \n",
      "Return the final simplified Hartree term $\\Sigma_H$.\n",
      "\n",
      "# Reduce momentum in Fock term (momentum in BZ + reciprocal lattice)\n",
      "Template:\n",
      "You will be instructed to simplify the Fock term in $\\Sigma_F$ by reducing the momentum inside the expected value $\\rho_{bs\\,n''}^{b's'\\,n''+n'-n}(\\bm k')$.  \n",
      "The expected value $\\rho_{bs\\,n''}^{b's'\\,n''+n'-n}(\\bm k')$ is only nonzero when the two momenta $k_i,k_j$ are the same, namely, $\\delta_{bb'}\\delta_{bv}\\delta_{ss'}\\delta_{nn'}$.  \n",
      "You should use the property of Kronecker delta function $\\delta_{{k_i,k_j}}$ to reduce one momentum $k_i$ but not $b_i$.  \n",
      "Once you reduce one momentum inside the expected value $\\langle\\dots\\rangle$. You will also notice the total momentum conservation will reduce another momentum in the quadratic term. Therefore, you should end up with only two momenta left in the summation.\n",
      "You should follow the EXAMPLE below to reduce one momentum in the Fock term, and another momentum in the quadratic term.    \n",
      "Return the final simplified Fock term $\\Sigma_F$.\n",
      "\n",
      "# Combine the Hartree and Fock term\n",
      "You will now be instructed to combine the Hartree term \\Sigma_H and the Fock term \\Sigma_F.  \n",
      "You should perform the same trick of relabeling the index in the Fock term to make the quadratic operators in the Fock term the same as those in the Hartree term. The relabeling should be done with a swap : {swap rule}.\n",
      "You should add them, relabel the index in Fock term, and simply their sum. \n",
      "Return the final sum of Hartree and Fock term.\n",
      "\n",
      "# Construct full Hamiltonian after HF\n",
      "You will be instructed to construct the entire Hamiltonian after the Hartree-Fock approximation $H_{\\rm{MF}}$. \n",
      "You should first recall the Kinetic Hamiltonian $H_{\\rm{BHZ}}$ is not explicitly defined in the excerpt.  \n",
      "You should then recall the interacting Hamiltonian $\\Sigma_H$ is $\\frac{1}{S}\\sum_{bb'\\atop ss'}\\sum_{nn'n''\\atop \\bm k\\bm k'} V_{bb'}((n'-n)\\bm Q) \\times\\rho_{b's'\\,n''}^{b's'\\,n''+n'-n}(\\bm k') \\; a_{bsn'\\bm k}^{\\dagger} a_{bsn\\bm k}$.  \n",
      "You should then combine $H_{\\rm{BHZ}}$ with the interacting Hamiltonian $\\Sigma_H$ after the Hartree-Fock approximation, which is the entire Hamiltonian $H_{\\rm{MF}}$ after Hartree-Fock.  \n",
      "Return the expression for $H_{\\rm{MF}}$.  \n",
      "\n",
      "Use the following conventions for the symbols (You should also obey the conventions in all my previous prompts if you encounter undefined symbols. If you find it is never defined or has conflicts in the conventions, you should stop and let me know):  \n",
      "$H_{\\rm{MF}}$ is the entire Hamiltonian after the Hartree-Fock approximation, $H_{\\rm{BHZ}}$ is the Kinetic Hamiltonian, $\\Sigma_H$ is the interacting Hamiltonian, $\\Sigma_F$ is the Fock term, $V_{bb'}$ is the interaction potential, $\\rho_{b's'\\,n''}^{b's'\\,n''+n'-n}(\\bm k')$ is the density matrix, $a_{bsn'\\bm k}^{\\dagger}$ and $a_{bsn\\bm k}$ are creation and annihilation operators respectively.\n",
      "\n",
      "\n"
     ]
    }
   ],
   "source": [
    "print(string)"
   ]
  },
  {
   "cell_type": "code",
   "execution_count": 30,
   "metadata": {},
   "outputs": [],
   "source": [
    "with open(pwd.split('/')[-1]+'_extractor.md','w') as f:\n",
    "    f.write(string)"
   ]
  }
 ],
 "metadata": {
  "kernelspec": {
   "display_name": "base",
   "language": "python",
   "name": "python3"
  },
  "language_info": {
   "codemirror_mode": {
    "name": "ipython",
    "version": 3
   },
   "file_extension": ".py",
   "mimetype": "text/x-python",
   "name": "python",
   "nbconvert_exporter": "python",
   "pygments_lexer": "ipython3",
   "version": "3.8.11"
  },
  "orig_nbformat": 4
 },
 "nbformat": 4,
 "nbformat_minor": 2
}
