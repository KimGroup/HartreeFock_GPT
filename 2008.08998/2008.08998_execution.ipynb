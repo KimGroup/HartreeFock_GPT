{
 "cells": [
  {
   "cell_type": "code",
   "execution_count": 1,
   "metadata": {},
   "outputs": [],
   "source": [
    "from IPython.display import Markdown\n",
    "\n",
    "import sys\n",
    "sys.path.append('..')\n",
    "from utils import *"
   ]
  },
  {
   "cell_type": "code",
   "execution_count": 41,
   "metadata": {},
   "outputs": [],
   "source": [
    "prompt_template='../prompt_template.md'\n",
    "arxiv_number='2008.08998'\n",
    "prompt_dict=load_prompt_template(prompt_template)\n",
    "with open(f'{arxiv_number}.yaml','r') as f:\n",
    "    kwargs= yaml.safe_load(f)"
   ]
  },
  {
   "cell_type": "code",
   "execution_count": 42,
   "metadata": {},
   "outputs": [],
   "source": [
    "prompt=generate_prompt(kwargs[11],prompt_dict)"
   ]
  },
  {
   "cell_type": "code",
   "execution_count": 43,
   "metadata": {},
   "outputs": [
    {
     "data": {
      "text/markdown": [
       "You will now be instructed to combine the Hartree term $H_{\\text{Hartree}}$ and the Fock term $H_{\\text{Fock}}$.  \n",
       "You should recall that the Hartree term $H_{\\text{Hartree}} = \\frac{1}{\\mathcal{N}}\\sum_{s,s'} \\sum_{\\bm{p},\\bm{q}} U(\\bm{q}_\\alpha-\\bm{q}_\\delta)\\delta_{\\bm{q}_\\alpha+\\bm{q}_\\beta,\\bm{q}_\\gamma+\\bm{q}_\\delta} \\langle c_{\\bm{q}_\\alpha,s}^\\dagger(\\bm{p}_\\alpha) c_{\\bm{q}_\\delta,s}(\\bm{p}_\\alpha) \\rangle c_{\\bm{q}_\\beta,s'}^\\dagger(\\bm{p}_\\beta) c_{\\bm{q}_\\gamma,s'}(\\bm{p}_\\beta)$,  \n",
       "and the Fock term $H_{\\text{Fock}} = -\\frac{1}{\\mathcal{N}}\\sum_{s,s'} \\sum_{\\bm{p},\\bm{q}} U(\\bm{p}_\\alpha+\\bm{q}_\\alpha-\\bm{p}_\\beta-\\bm{q}_\\delta)\\delta_{\\bm{q}_\\alpha+\\bm{q}_\\beta,\\bm{q}_\\gamma+\\bm{q}_\\delta} \\langle c_{\\bm{q}_\\alpha,s}^\\dagger(\\bm{p}_\\alpha) c_{\\bm{q}_\\gamma,s'}(\\bm{p}_\\alpha) \\rangle c_{\\bm{q}_\\beta,s'}^\\dagger(\\bm{p}_\\beta) c_{\\bm{q}_\\delta,s}(\\bm{p}_\\beta)$.  \n",
       "You should perform the same trick of relabeling the index in the Fock term to make the quadratic operators in the Fock term the same as those in the Hartree term. The relabeling should be done with a swap : Not needed.\n",
       "You should add them, relabel the index in Fock term, and simply their sum. \n",
       "Return the final sum of Hartree and Fock term."
      ],
      "text/plain": [
       "<IPython.core.display.Markdown object>"
      ]
     },
     "execution_count": 43,
     "metadata": {},
     "output_type": "execute_result"
    }
   ],
   "source": [
    "Markdown(prompt['content'])"
   ]
  },
  {
   "cell_type": "code",
   "execution_count": 11,
   "metadata": {},
   "outputs": [
    {
     "name": "stdout",
     "output_type": "stream",
     "text": [
      "You will be instructed to describe the kinetic term of Hamiltonian in a system with two layers in the real space in the single-particle form.   \n",
      "The degrees of freedom of the system are: valley index (+K and -K valley), layer index (top and bottom layer)..  \n",
      "Express the Kinetic Hamiltonian H_{\\tau} using variables which are only on the diagonal terms, and arrange the basis in the order of (+K,bottom), (+K,top), (-K,bottom), (-K,top). \n",
      "\n",
      "Use the following conventions for the symbols:  \n",
      "$\\tau=\\pm 1$ represents $\\pm K$ valleys, $\\bm{\\kappa}=\\frac{4\\pi}{3a_M}\\left(1,0\\right)$ is at a corner of the moiré Brillouin zone. The $2\\times 2$ Hamiltonian hybridizes the bottom layer ($\\mathfrak{b}$) and top layer ($\\mathfrak{t}$), where the off diagonal terms describe the interlayer tunneling $\\Delta_{\\text{T},\\tau}$, and the diagonal terms describe the momentum-shifted kinetic energy with the effective mass $(m_{\\mathfrak{b}},m_{\\mathfrak{t}})=(0.65,0.35)m_e$ ($m_e$ is the rest electron mass), plus the intralayer potential $\\Delta_{\\mathfrak{b}/\\mathfrak{t}}$, and a band offset $V_{z\\mathfrak{t}}$.\n"
     ]
    }
   ],
   "source": [
    "print(prompt['content'])"
   ]
  },
  {
   "cell_type": "code",
   "execution_count": null,
   "metadata": {},
   "outputs": [],
   "source": []
  }
 ],
 "metadata": {
  "kernelspec": {
   "display_name": "base",
   "language": "python",
   "name": "python3"
  },
  "language_info": {
   "codemirror_mode": {
    "name": "ipython",
    "version": 3
   },
   "file_extension": ".py",
   "mimetype": "text/x-python",
   "name": "python",
   "nbconvert_exporter": "python",
   "pygments_lexer": "ipython3",
   "version": "3.11.4"
  }
 },
 "nbformat": 4,
 "nbformat_minor": 2
}
