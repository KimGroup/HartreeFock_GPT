{
 "cells": [
  {
   "cell_type": "code",
   "execution_count": 1,
   "metadata": {},
   "outputs": [],
   "source": [
    "import openai\n",
    "import pandas as pd\n",
    "import json\n",
    "import yaml\n",
    "from IPython.display import Markdown\n",
    "import sys\n",
    "import yaml\n",
    "from tqdm import tqdm"
   ]
  },
  {
   "cell_type": "code",
   "execution_count": 2,
   "metadata": {},
   "outputs": [],
   "source": [
    "zz=openai.Model.list()"
   ]
  },
  {
   "cell_type": "code",
   "execution_count": 3,
   "metadata": {},
   "outputs": [
    {
     "data": {
      "text/plain": [
       "62"
      ]
     },
     "execution_count": 3,
     "metadata": {},
     "output_type": "execute_result"
    }
   ],
   "source": [
    "len(zz['data'])"
   ]
  },
  {
   "cell_type": "code",
   "execution_count": 4,
   "metadata": {},
   "outputs": [],
   "source": [
    "model_params = {\n",
    "    'model': \"gpt-4\",\n",
    "    'temperature': 0,\n",
    "}"
   ]
  },
  {
   "cell_type": "code",
   "execution_count": 5,
   "metadata": {},
   "outputs": [],
   "source": [
    "def print_save(string, file='../cmp2.md'):\n",
    "    print(string)\n",
    "    with open(file,'w') as f:\n",
    "        f.write(string)"
   ]
  },
  {
   "cell_type": "markdown",
   "metadata": {},
   "source": [
    "## Load prompt_template.md"
   ]
  },
  {
   "cell_type": "code",
   "execution_count": 6,
   "metadata": {},
   "outputs": [],
   "source": [
    "sys.path.append('..')\n",
    "from utils import *\n",
    "from functools import partial"
   ]
  },
  {
   "cell_type": "code",
   "execution_count": 7,
   "metadata": {},
   "outputs": [],
   "source": [
    "prompt_dict = partial(load_prompt_template,file='../prompt_template.md')"
   ]
  },
  {
   "cell_type": "code",
   "execution_count": 8,
   "metadata": {},
   "outputs": [
    {
     "data": {
      "text/plain": [
       "dict_keys(['Preamble', 'Problem-solver', 'Conversation summarizer', 'Construct Kinetic Hamiltonian (continuum version, single-particle)', 'Construct Kinetic Hamiltonian (continuum version, second-quantized)', 'Construct Kinetic Hamiltonian (lattice version)', 'Define each term in Kinetic Hamiltonian (continuum version)', 'Construct Potential Hamiltonian (continuum version)', 'Define each term in Potential Hamiltonian (continuum version)', 'Construct interaction Hamiltonian (real space, lattice version)', 'Construct interaction Hamiltonian (momentum space)', 'Convert from single-particle to second-quantized form, return in matrix', 'Convert from single-particle to second-quantized form, return in summation (expand the matrix)', 'Convert noninteracting Hamiltonian in real space to momentum space (continuum version)', 'Convert noninteracting Hamiltonian in real space to momentum space (lattice version)', 'Convert interacting Hamiltonian in real space to momentum space (lattice version)', 'Particle-hole transformation', 'Simplify the Hamiltonian in the particle-hole basis', \"Wick's theorem\", 'Extract quadratic term', 'Hartree term only', 'Fock term only', 'Expand interaction', 'Swap the index only', 'Swap the index to combine Hartree and Fock terms', 'Reduce momentum in Hartree term (momentum in BZ + reciprocal lattice)', 'Reduce momentum in Hartree term (momentum in BZ)', 'Reduce momentum in Fock term (momentum in BZ + reciprocal lattice)', 'Reduce momentum in Fock term (momentum in BZ)', 'Combine the Hartree and Fock term', 'Construct full Hamiltonian after HF', 'Mathematical simplify: inner product expansion', \"Mathematical simplify: Euler's formula\", 'Mathematical simplify: prosthaphaeresis', 'Mathematical simplify: Expand the product using Associative property', 'Mathematical simplify: Combine using Associative property', 'Mathematical simplify: reduce index'])"
      ]
     },
     "execution_count": 8,
     "metadata": {},
     "output_type": "execute_result"
    }
   ],
   "source": [
    "prompt_dict().keys()"
   ]
  },
  {
   "cell_type": "code",
   "execution_count": null,
   "metadata": {},
   "outputs": [],
   "source": []
  },
  {
   "cell_type": "markdown",
   "metadata": {},
   "source": [
    "# Prompt fill place holder"
   ]
  },
  {
   "cell_type": "code",
   "execution_count": 9,
   "metadata": {},
   "outputs": [],
   "source": [
    "import json"
   ]
  },
  {
   "cell_type": "code",
   "execution_count": 10,
   "metadata": {},
   "outputs": [],
   "source": [
    "pwd=os.getcwd()"
   ]
  },
  {
   "cell_type": "code",
   "execution_count": 11,
   "metadata": {},
   "outputs": [],
   "source": [
    "arxiv_number=pwd.split('/')[-1]"
   ]
  },
  {
   "cell_type": "code",
   "execution_count": 12,
   "metadata": {},
   "outputs": [],
   "source": [
    "with open(f'{arxiv_number}.yaml','r') as f:\n",
    "    kwargs_yaml = yaml.safe_load(f)\n",
    "# with open(f'{arxiv_number}.jsonl','r') as f:\n",
    "#     kwargs_jsonl= [json.loads(line) for line in f]"
   ]
  },
  {
   "cell_type": "code",
   "execution_count": 13,
   "metadata": {},
   "outputs": [],
   "source": [
    "def load_excerpt(sources):\n",
    "    excerpt=''\n",
    "    for tex, lines in sources.items():\n",
    "        with open(tex,'r') as f:\n",
    "            f_list=list(f)\n",
    "            for line in lines:\n",
    "                excerpt=excerpt+''.join(f_list[line[0]:line[1]])\n",
    "    return excerpt"
   ]
  },
  {
   "cell_type": "code",
   "execution_count": 14,
   "metadata": {},
   "outputs": [],
   "source": [
    "prompt_system='''I will provide you a Excerpt of physics paper, and a Template. You will need to fill the placeholders in the template using the correct information from the excerpt.\n",
    "Here are conventions: \n",
    "{..} means a placeholder which you need to fill by extracting information from the excerpt.\n",
    "{A|B} means you need to make a choice between A and B\n",
    "[..] means optional sentence. You should decide whether to use it depending on the excerpt.\n",
    "{{..}} DOES NOT mean a placeholder. You should not change the content inside double curly braces {{..}}.\n",
    "`You should recall that {expression_second_nonint}.` : this sentence should be kept as is.\n",
    "\n",
    "\n",
    "Finally, if you cannot figure out the placeholder, you should leave it as is.'''"
   ]
  },
  {
   "cell_type": "code",
   "execution_count": 15,
   "metadata": {},
   "outputs": [],
   "source": [
    "def drop_text_after(string):\n",
    "    string_new=''\n",
    "    for line in string.split('\\n'):\n",
    "        if '===' in line:\n",
    "            break\n",
    "        else:\n",
    "            if 'You should recall that' not in line:\n",
    "                string_new='\\n'.join([string_new,line])\n",
    "    return string_new[1:]\n"
   ]
  },
  {
   "cell_type": "code",
   "execution_count": 16,
   "metadata": {},
   "outputs": [],
   "source": [
    "def extractor(descriptor,message=False):\n",
    "    sys_msg=[{'role': 'system', 'content': prompt_system}]\n",
    "    question_prompt='\\nTemplate:\\n {template} \\n\\n Excerpt:\\n {excerpt}'.format(template=drop_text_after(prompt_dict()[descriptor['task']]), excerpt=load_excerpt(descriptor['source']))\n",
    "    user_msg=[{'role':'user','content':question_prompt}]\n",
    "    messages = sys_msg + user_msg\n",
    "    if message:\n",
    "        return sys_msg[0]['content']+user_msg[0]['content']\n",
    "    rs= openai.ChatCompletion.create(messages=messages, **model_params)\n",
    "    response=rs['choices'][0]['message'].content\n",
    "    return response\n"
   ]
  },
  {
   "cell_type": "markdown",
   "metadata": {},
   "source": [
    "## GPT4"
   ]
  },
  {
   "cell_type": "code",
   "execution_count": 17,
   "metadata": {},
   "outputs": [
    {
     "name": "stderr",
     "output_type": "stream",
     "text": [
      "100%|██████████| 8/8 [04:20<00:00, 32.50s/it]\n"
     ]
    }
   ],
   "source": [
    "string=''\n",
    "for kwargs in tqdm(kwargs_yaml):\n",
    "    string+='# '+kwargs['task']+'\\n'\n",
    "    response=(extractor(kwargs, message=False))\n",
    "    string+=response+'\\n\\n'\n",
    "    \n",
    "    "
   ]
  },
  {
   "cell_type": "code",
   "execution_count": 18,
   "metadata": {},
   "outputs": [
    {
     "name": "stdout",
     "output_type": "stream",
     "text": [
      "# Construct Kinetic Hamiltonian (lattice version)\n",
      "You will be instructed to describe the kinetic term of Hamiltonian in twisted homobilayer WSe$_2$ (tWSe$_2$) in the real space in the second-quantized form.   \n",
      "The degrees of freedom of the system are: the position of site $i$ in a triangular lattice formed in the moir\\'e pattern, and the spin index $s$.     \n",
      "The kinetic term is a tight-binding model composed of the following hopping process: \n",
      "site i and site j with the amplitude $t_{s}\\left(\\bm{R}_i-\\bm{R}_j\\right)$\n",
      "You should ensure the hermiticity of the Hamiltonian.\n",
      "The summation should be taken over all degrees of freedom and all real space positions.  \n",
      "Return the Kinetic Hamiltonian $H$.\n",
      "\n",
      "Use the following conventions for the symbols:  \n",
      "$\\bm{R}_i$ represents the position of site $i$ in a triangular lattice formed in the moir\\'e pattern, $s$ is the spin index, and $t$ and $U$ are, respectively, the hopping parameter and the interaction strength. $c_{i,s}^\\dagger$ is used to represent the hole operator, and $s=\\uparrow$ and $\\downarrow$ are locked to $+K$ and $-K$ valleys, respectively. A filling factor $\\nu$ is defined as $(1/\\mathcal{N}) \\sum_{i,s} c_{i,s}^{\\dagger} c_{i,s} $, which counts the number of holes per moir\\'e cell ($\\mathcal{N}$ is the total number of moir\\'e sites in the system).\n",
      "\n",
      "# Construct interaction Hamiltonian (real space, lattice version)\n",
      "You will be instructed to construct the interaction part of the Hamiltonian, $H_{\\text{Coulomb}}$ in the real space in the second-quantized form.   \n",
      "The interacting Hamiltonian has the same degrees of freedom as the kinetic Hamiltonian $H$.  \n",
      "The interaction is a density-density interaction composed of the following process:\n",
      "site $i$ and site $j$ with the interaction strength $U(\\bm{R}_i-\\bm{R}_j)$.\n",
      "The summation should be taken over all spins $s$ and $s'$ and all real space positions.  \n",
      "Return the interaction term $H_{\\text{Coulomb}}$ in terms of $n_{i,s}$.\n",
      "\n",
      "Use the following conventions for the symbols (You should also obey the conventions in all my previous prompts if you encounter undefined symbols. If you find it is never defined or has conflicts in the conventions, you should stop and let me know): \n",
      "$\\bm{R}_i$ represents the position of site $i$ in a triangular lattice formed in the moir\\'e pattern, $s$ is the spin index, $U(\\bm{R}_i-\\bm{R}_j)$ is the interaction strength, $n_{i,s}$ is the binary occupancy number of site $i$, and $c_{i,s}^\\dagger$ represents the hole operator.\n",
      "\n",
      "# Convert noninteracting Hamiltonian in real space to momentum space (lattice version)\n",
      "You will be instructed to convert the noninteracting Hamiltonian H_0 in the second quantized form from the basis in real space to the basis in momentum space. \n",
      "To do that, you should apply the Fourier transformation to c_{\\bm{k},s}^\\dagger in the real space to the c_{\\bm{k},s}^\\dagger in the momentum space, which is defined as \\varepsilon_s(\\bm{k}), where \\bm{k} is integrated over all sites in the entire real space. You should follow the EXAMPLE below to apply the Fourier transformation. [Note that hopping have no position dependence now.]\n",
      "Express the total noninteracting Hamiltonian H_0 in terms of c_{\\bm{k},s}^\\dagger. Simplify any summation index if possible.\n",
      "\n",
      "Use the following conventions for the symbols (You should also obey the conventions in all my previous prompts if you encounter undefined symbols. If you find it is never defined or has conflicts in the conventions, you should stop and let me know):\n",
      "H_0 is the noninteracting Hamiltonian, \\bm{k} is the momentum, \\varepsilon_s(\\bm{k}) is the non-interacting band energy dispersion, and c_{\\bm{k},s}^\\dagger is the creation operator in momentum space.\n",
      "\n",
      "# Convert interacting Hamiltonian in real space to momentum space (lattice version)\n",
      "You will be instructed to convert the interacting Hamiltonian, H_1, in the second-quantized form the basis in real space to the basis in momentum space.\n",
      "To do that, you should apply the Fourier transformation to c_{\\bm{k}_\\alpha,s}^\\dagger in the real space to the c_{\\bm{k}_\\alpha,s}^\\dagger in the momentum space, which is defined as U(\\bm{q})=\\sum_{\\bm{R}}U(\\bm{R})e^{i\\bm{q}\\cdot\\bm{R}}, where \\bm{R} is integrated over all sites in the entire real space, and \\bm{q} is defined within the first Brillouin zone. You should follow the EXAMPLE below to apply the Fourier transformation. [Note that interaction have no position dependence now]\n",
      "Express H_1 in terms of c_{\\bm{k}_\\alpha,s}^\\dagger. Simplify any summation index if possible.\n",
      "\n",
      "# Wick's theorem\n",
      "You will be instructed to perform a Hartree-Fock approximation to expand the interaction term, $H_{\\text{int}}$.  \n",
      "You should use Wick's theorem to expand the four-fermion term in $H_{\\text{int}}$ into quadratic terms. You should strictly follow the EXAMPLE below to expand using Wick's theorem, select the correct EXAMPLE by noticing the order of four term product with and without ${{}}^\\dagger$, and be extremely cautious about the order of the index and sign before each term.  \n",
      "You should only preserve the normal terms. Here, the normal terms mean the product of a creation operator and an annihilation operator.  \n",
      "Return the expanded interaction term after Hartree-Fock approximation as {Hartree_Fock_symbol}.\n",
      "\n",
      "Use the following conventions for the symbols (You should also obey the conventions in all my previous prompts if you encounter undefined symbols. If you find it is never defined or has conflicts in the conventions, you should stop and let me know):  \n",
      "$H_{\\text{int}}$ is the interaction term, $\\mathcal{N}$ is a normalization constant, $s$ and $s'$ are spin indices, $\\bm{k}$ is the momentum vector, $U(\\bm{k}_\\alpha-\\bm{k}_\\delta)$ is the interaction potential, $\\delta_{\\bm{k}_\\alpha,\\bm{k}_\\beta,\\bm{k}_\\gamma,\\bm{k}_\\delta}$ is the Kronecker delta function, $c_{\\bm{k}_\\alpha,s}^\\dagger$ and $c_{\\bm{k}_\\delta,s}$ are creation and annihilation operators respectively, and $\\expval{...}$ denotes expectation values.\n",
      "\n",
      "# Extract quadratic term\n",
      "You will be instructed to extract the quadratic terms in the $H_{\\text{int}}$.  \n",
      "The quadratic terms mean terms that are proportional to $c_{\\bm{k}_\\beta,s'}^\\dagger c_{\\bm{k}_\\gamma,s'}$ and $c_{\\bm{k}_\\beta,s'}^\\dagger c_{\\bm{k}_\\delta,s}$, which excludes terms that are solely expectations or products of expectations.  \n",
      "You should only preserve the quadratic terms in $H_{\\text{int}}$, denoted as $H_{\\text{int}}^{(2)}$.  \n",
      "Return $H_{\\text{int}}^{(2)}$.  \n",
      "\n",
      "Use the following conventions for the symbols (You should also obey the conventions in all my previous prompts if you encounter undefined symbols. If you find it is never defined or has conflicts in the conventions, you should stop and let me know):  \n",
      "$H_{\\text{int}}$ is the interaction Hamiltonian, $\\mathcal{N}$ is a normalization factor, $s$ and $s'$ are spin indices, $\\bm{k}$ is the momentum vector, $U(\\bm{k}_\\alpha-\\bm{k}_\\delta)$ is the interaction potential, $\\delta_{\\bm{k}_\\alpha,\\bm{k}_\\beta,\\bm{k}_\\gamma,\\bm{k}_\\delta}$ is the Kronecker delta function, $c_{\\bm{k}_\\alpha,s}^\\dagger$ and $c_{\\bm{k}_\\delta,s}$ are creation and annihilation operators, and $\\expval{...}$ denotes expectation values.\n",
      "\n",
      "# Expand interaction\n",
      "You will be instructed to expand interaction term $V(q)$ in the MF quadratic term $H_{\\text{int}}$.\n",
      "If you find the $V(q)$ in $H_{\\text{int}}$ does not contain any momentum that is not in the summation sign. The interaction term is already expanded. No action to perform on interaction term.\n",
      "Otherwise, you will expand $V(q)$ by replacing $q$ with the momentum $\\bm{k}_\\alpha-\\bm{k}_\\delta$.\n",
      "Return $H_{\\text{int}}$ with expanded interaction.\n",
      "\n",
      "# Swap the index only\n",
      "You will be instructed to simplify the quadratic term $H_{\\text{int}}$ through relabeling the index.  \n",
      "The logic is that the expected value ($\\expval{c_{\\bm{k}_\\alpha,s}^\\dagger c_{\\bm{k}_\\delta,s}}$ and $\\expval{c_{\\bm{k}_\\alpha,s}^\\dagger c_{\\bm{k}_\\gamma,s'}}$) in the first Hartree term ($c_{\\bm{k}_\\beta,s'}^\\dagger c_{\\bm{k}_\\gamma,s'}$) has the same form as the quadratic operators in the second Hartree term ($c_{\\bm{k}_\\beta,s'}^\\dagger c_{\\bm{k}_\\delta,s}$), and vice versa. The same applies to the Fock term.  \n",
      "Namely, a replacement of $\\bm{k}_\\gamma \\leftrightarrow \\bm{k}_\\delta$ is applied to ONLY the second Hartree or Fock term. You should not swap any index that is not in the summation, which includes $\\bm{k}_\\alpha, \\bm{k}_\\beta$.  \n",
      "This means, if you relabel the index by swapping the index in the \"expected value\" and \"quadratic operators\" in the second Hartree or Fock term, you can make the second Hartree or Fock term look identical to the first Hartree or Fock term, as long as $U(\\bm{k}_\\alpha-\\bm{k}_\\delta)=U(-(\\bm{k}_\\alpha-\\bm{k}_\\delta))$, which is naturally satisfied in Coulomb interaction. You should follow the EXAMPLE below to simplify it through relabeling the index.  \n",
      "Return the simplified $H_{\\text{int}}$.\n",
      "\n",
      "\n"
     ]
    }
   ],
   "source": [
    "print(string)"
   ]
  },
  {
   "cell_type": "code",
   "execution_count": 19,
   "metadata": {},
   "outputs": [],
   "source": [
    "with open(pwd.split('/')[-1]+'_extractor.md','w') as f:\n",
    "    f.write(string)"
   ]
  },
  {
   "cell_type": "code",
   "execution_count": null,
   "metadata": {},
   "outputs": [],
   "source": []
  }
 ],
 "metadata": {
  "kernelspec": {
   "display_name": "base",
   "language": "python",
   "name": "python3"
  },
  "language_info": {
   "codemirror_mode": {
    "name": "ipython",
    "version": 3
   },
   "file_extension": ".py",
   "mimetype": "text/x-python",
   "name": "python",
   "nbconvert_exporter": "python",
   "pygments_lexer": "ipython3",
   "version": "3.8.11"
  },
  "orig_nbformat": 4
 },
 "nbformat": 4,
 "nbformat_minor": 2
}
