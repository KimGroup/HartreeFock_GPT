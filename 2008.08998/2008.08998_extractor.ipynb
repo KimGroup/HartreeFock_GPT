{
 "cells": [
  {
   "cell_type": "code",
   "execution_count": 1,
   "metadata": {},
   "outputs": [],
   "source": [
    "import openai\n",
    "import pandas as pd\n",
    "import json\n",
    "import yaml\n",
    "from IPython.display import Markdown\n",
    "import sys\n",
    "import yaml\n",
    "from tqdm import tqdm"
   ]
  },
  {
   "cell_type": "code",
   "execution_count": 2,
   "metadata": {},
   "outputs": [],
   "source": [
    "zz=openai.Model.list()"
   ]
  },
  {
   "cell_type": "code",
   "execution_count": 3,
   "metadata": {},
   "outputs": [
    {
     "data": {
      "text/plain": [
       "75"
      ]
     },
     "execution_count": 3,
     "metadata": {},
     "output_type": "execute_result"
    }
   ],
   "source": [
    "len(zz['data'])"
   ]
  },
  {
   "cell_type": "code",
   "execution_count": 4,
   "metadata": {},
   "outputs": [],
   "source": [
    "model_params = {\n",
    "    'model': \"gpt-4\",\n",
    "    'temperature': 0,\n",
    "}"
   ]
  },
  {
   "cell_type": "code",
   "execution_count": 5,
   "metadata": {},
   "outputs": [],
   "source": [
    "def print_save(string, file='../cmp2.md'):\n",
    "    print(string)\n",
    "    with open(file,'w') as f:\n",
    "        f.write(string)"
   ]
  },
  {
   "cell_type": "markdown",
   "metadata": {},
   "source": [
    "## Load prompt_template.md"
   ]
  },
  {
   "cell_type": "code",
   "execution_count": 5,
   "metadata": {},
   "outputs": [],
   "source": [
    "sys.path.append('..')\n",
    "from utils import *\n",
    "from functools import partial"
   ]
  },
  {
   "cell_type": "code",
   "execution_count": 6,
   "metadata": {},
   "outputs": [],
   "source": [
    "prompt_dict = partial(load_prompt_template,file='../prompt_template.md')"
   ]
  },
  {
   "cell_type": "code",
   "execution_count": 7,
   "metadata": {},
   "outputs": [
    {
     "data": {
      "text/plain": [
       "dict_keys(['Preamble', 'Problem-solver', 'Conversation summarizer', 'Construct Kinetic Hamiltonian (continuum version, single-particle)', 'Construct Kinetic Hamiltonian (continuum version, second-quantized)', 'Construct Kinetic Hamiltonian (lattice version)', 'Define each term in Kinetic Hamiltonian (continuum version)', 'Construct Potential Hamiltonian (continuum version)', 'Define each term in Potential Hamiltonian (continuum version)', 'Construct interaction Hamiltonian (real space, lattice version)', 'Construct interaction Hamiltonian (momentum space)', 'Convert from single-particle to second-quantized form, return in matrix', 'Convert from single-particle to second-quantized form, return in summation (expand the matrix)', 'Convert noninteracting Hamiltonian in real space to momentum space (continuum version)', 'Convert noninteracting Hamiltonian in real space to momentum space (lattice version)', 'Convert interacting Hamiltonian in real space to momentum space (lattice version)', 'Particle-hole transformation', 'Simplify the Hamiltonian in the particle-hole basis', \"Wick's theorem\", 'Extract quadratic term', 'Hartree term only', 'Fock term only', 'Expand interaction', 'Swap the index only', 'Swap the index to combine Hartree and Fock terms', 'Reduce momentum in Hartree term (momentum in BZ + reciprocal lattice)', 'Reduce momentum in Hartree term (momentum in BZ)', 'Reduce momentum in Fock term (momentum in BZ + reciprocal lattice)', 'Reduce momentum in Fock term (momentum in BZ)', 'Combine the Hartree and Fock term', 'Mathematical simplify: inner product expansion', \"Mathematical simplify: Euler's formula\", 'Mathematical simplify: prosthaphaeresis', 'Mathematical simplify: Expand the product using Associative property', 'Mathematical simplify: Combine using Associative property', 'Mathematical simplify: reduce index'])"
      ]
     },
     "execution_count": 7,
     "metadata": {},
     "output_type": "execute_result"
    }
   ],
   "source": [
    "prompt_dict().keys()"
   ]
  },
  {
   "cell_type": "code",
   "execution_count": null,
   "metadata": {},
   "outputs": [],
   "source": []
  },
  {
   "cell_type": "markdown",
   "metadata": {},
   "source": [
    "# Prompt fill place holder"
   ]
  },
  {
   "cell_type": "code",
   "execution_count": 9,
   "metadata": {},
   "outputs": [],
   "source": [
    "import json"
   ]
  },
  {
   "cell_type": "code",
   "execution_count": 8,
   "metadata": {},
   "outputs": [],
   "source": [
    "pwd=os.getcwd()"
   ]
  },
  {
   "cell_type": "code",
   "execution_count": 9,
   "metadata": {},
   "outputs": [],
   "source": [
    "arxiv_number=pwd.split('/')[-1]"
   ]
  },
  {
   "cell_type": "code",
   "execution_count": 10,
   "metadata": {},
   "outputs": [],
   "source": [
    "with open(f'{arxiv_number}.yaml','r') as f:\n",
    "    kwargs_yaml = yaml.safe_load(f)\n",
    "# with open(f'{arxiv_number}.jsonl','r') as f:\n",
    "#     kwargs_jsonl= [json.loads(line) for line in f]"
   ]
  },
  {
   "cell_type": "code",
   "execution_count": 11,
   "metadata": {},
   "outputs": [],
   "source": [
    "def load_excerpt(sources):\n",
    "    excerpt=''\n",
    "    for tex, lines in sources.items():\n",
    "        with open(tex,'r') as f:\n",
    "            f_list=list(f)\n",
    "            for line in lines:\n",
    "                excerpt=excerpt+''.join(f_list[line[0]:line[1]])\n",
    "    return excerpt"
   ]
  },
  {
   "cell_type": "code",
   "execution_count": 43,
   "metadata": {},
   "outputs": [],
   "source": [
    "prompt_system='''I will provide you a Excerpt of physics paper, and a Template. You will need to fill the placeholders in the template using the correct information from the excerpt.\n",
    "Here are conventions:  \n",
    "{..} means a placeholder which you need to fill by extracting information from the excerpt.  \n",
    "{A|B} means you need to make a choice between A and B  \n",
    "[..] means optional sentence. You should decide whether to use it depending on the excerpt.  \n",
    "{{..}} DOES NOT mean a placeholder. You should not change the content inside double curly braces {{..}}.  \n",
    "'You should recall that {..}.' : this sentence should be kept as is.\n",
    "\n",
    "Finally, if you cannot figure out the placeholder, you should leave it as is.'''"
   ]
  },
  {
   "cell_type": "code",
   "execution_count": 44,
   "metadata": {},
   "outputs": [],
   "source": [
    "def drop_text_after(string):\n",
    "    string_new=''\n",
    "    for line in string.split('\\n'):\n",
    "        if '===' in line:\n",
    "            break\n",
    "        else:\n",
    "            if 'You should recall that' not in line:\n",
    "                string_new='\\n'.join([string_new,line])\n",
    "    return string_new[1:]\n"
   ]
  },
  {
   "cell_type": "code",
   "execution_count": 45,
   "metadata": {},
   "outputs": [],
   "source": [
    "def extractor(descriptor,message=False):\n",
    "    sys_msg=[{'role': 'system', 'content': prompt_system}]\n",
    "    question_prompt='\\nTemplate:\\n {template} \\n\\n Excerpt:\\n {excerpt}'.format(template=drop_text_after(prompt_dict()[descriptor['task']]), excerpt=load_excerpt(descriptor['source']))\n",
    "    user_msg=[{'role':'user','content':question_prompt}]\n",
    "    messages = sys_msg + user_msg\n",
    "    if message:\n",
    "        return sys_msg[0]['content']+user_msg[0]['content']\n",
    "    rs= openai.ChatCompletion.create(messages=messages, **model_params)\n",
    "    response=rs['choices'][0]['message'].content\n",
    "    return response\n"
   ]
  },
  {
   "cell_type": "markdown",
   "metadata": {},
   "source": [
    "## GPT4"
   ]
  },
  {
   "cell_type": "code",
   "execution_count": 17,
   "metadata": {},
   "outputs": [
    {
     "name": "stderr",
     "output_type": "stream",
     "text": [
      "100%|██████████| 8/8 [04:20<00:00, 32.50s/it]\n"
     ]
    }
   ],
   "source": [
    "string=''\n",
    "for kwargs in tqdm(kwargs_yaml):\n",
    "    string+='# '+kwargs['task']+'\\n'\n",
    "    response=(extractor(kwargs, message=False))\n",
    "    string+=response+'\\n\\n'\n",
    "    \n",
    "    "
   ]
  },
  {
   "cell_type": "code",
   "execution_count": 21,
   "metadata": {},
   "outputs": [
    {
     "name": "stderr",
     "output_type": "stream",
     "text": [
      "100%|██████████| 3/3 [01:11<00:00, 23.96s/it]\n"
     ]
    }
   ],
   "source": [
    "string=''\n",
    "for kwargs in tqdm(kwargs_yaml[9:]):\n",
    "    string+='# '+kwargs['task']+'\\n'\n",
    "    response=(extractor(kwargs, message=False))\n",
    "    string+=response+'\\n\\n'\n",
    "    \n",
    "    "
   ]
  },
  {
   "cell_type": "code",
   "execution_count": 22,
   "metadata": {},
   "outputs": [
    {
     "name": "stdout",
     "output_type": "stream",
     "text": [
      "# Reduce momentum in Hartree term (momentum in BZ + reciprocal lattice)\n",
      "You will be instructed to simplify the Hartree term in $H_{\\text{Hartree}}$ by reducing the momentum inside the expected value $\\expval{c_{\\bm{p}_\\alpha+\\bm{q}_\\alpha,s}^\\dagger c_{\\bm{p}_\\alpha+\\bm{q}_\\delta,s}}$.  \n",
      "The expected value $\\expval{c_{\\bm{p}_\\alpha+\\bm{q}_\\alpha,s}^\\dagger c_{\\bm{p}_\\alpha+\\bm{q}_\\delta,s}}$ is only nonzero when the two momenta $\\bm{p}_\\alpha+\\bm{q}_\\alpha,\\bm{p}_\\alpha+\\bm{q}_\\delta$ are the same, namely, $\\expval{c_{\\bm{p}_\\alpha+\\bm{q}_\\alpha,s}^\\dagger c_{\\bm{p}_\\alpha+\\bm{q}_\\alpha,s}}$.  \n",
      "You should use the property of Kronecker delta function $\\delta_{{\\bm{q}_\\alpha,\\bm{q}_\\beta,\\bm{q}_\\gamma,\\bm{q}_\\delta}}$ to reduce one momentum $\\bm{p}_\\alpha+\\bm{q}_\\alpha$ but not $\\bm{p}_\\alpha+\\bm{q}_\\delta$.\n",
      "Once you reduce one momentum inside the expected value $\\langle\\dots\\rangle$. You will also notice the total momentum conservation will reduce another momentum in the quadratic term. Therefore, you should end up with only two momenta left in the summation.  \n",
      "You should follow the EXAMPLE below to reduce one momentum in the Hartree term, and another momentum in the quadratic term.  \n",
      "Return the final simplified Hartree term $H_{\\text{Hartree}}$.\n",
      "\n",
      "# Reduce momentum in Fock term (momentum in BZ + reciprocal lattice)\n",
      "You will be instructed to simplify the Fock term in $H_{\\text{Fock}}$ by reducing the momentum inside the expected value $\\expval{c_{\\bm{p}_\\alpha+\\bm{q}_\\alpha,s}^\\dagger c_{\\bm{p}_\\alpha+\\bm{q}_\\gamma,s'}}$.  \n",
      "The expected value $\\expval{c_{\\bm{p}_\\alpha+\\bm{q}_\\alpha,s}^\\dagger c_{\\bm{p}_\\alpha+\\bm{q}_\\gamma,s'}}$ is only nonzero when the two momenta $\\bm{p}_\\alpha+\\bm{q}_\\alpha$ and $\\bm{p}_\\alpha+\\bm{q}_\\gamma$ are the same, namely, $\\expval{c_{\\bm{p}_\\alpha+\\bm{q}_\\alpha,s}^\\dagger c_{\\bm{p}_\\alpha+\\bm{q}_\\alpha,s'}}$.  \n",
      "You should use the property of Kronecker delta function $\\delta_{{\\bm{q}_\\alpha,\\bm{q}_\\beta,\\bm{q}_\\gamma,\\bm{q}_\\delta}}$ to reduce one momentum $\\bm{p}_\\alpha+\\bm{q}_\\alpha$ but not $\\bm{p}_\\beta+\\bm{q}_\\beta$.  \n",
      "Once you reduce one momentum inside the expected value $\\langle\\dots\\rangle$. You will also notice the total momentum conservation will reduce another momentum in the quadratic term. Therefore, you should end up with only two momenta left in the summation.\n",
      "You should follow the EXAMPLE below to reduce one momentum in the Fock term, and another momentum in the quadratic term.    \n",
      "Return the final simplified Fock term $H_{\\text{Fock}}$.\n",
      "\n",
      "# Combine the Hartree and Fock term\n",
      "You will now be instructed to combine the Hartree term {H_{\\text{Hartree}}} and the Fock term {H_{\\text{Fock}}}.  \n",
      "You should perform the same trick of relabeling the index in the Fock term to make the quadratic operators in the Fock term the same as those in the Hartree term. The relabeling should be done with a swap : {swap_rule}.\n",
      "You should add them, relabel the index in Fock term, and simply their sum. \n",
      "Return the final sum of Hartree and Fock term.\n",
      "\n",
      "\n"
     ]
    }
   ],
   "source": [
    "print(string)"
   ]
  },
  {
   "cell_type": "code",
   "execution_count": 19,
   "metadata": {},
   "outputs": [],
   "source": [
    "with open(pwd.split('/')[-1]+'_extractor.md','w') as f:\n",
    "    f.write(string)"
   ]
  },
  {
   "cell_type": "code",
   "execution_count": 46,
   "metadata": {},
   "outputs": [
    {
     "name": "stderr",
     "output_type": "stream",
     "text": [
      "100%|██████████| 11/11 [00:00<00:00, 46.87it/s]\n"
     ]
    }
   ],
   "source": [
    "string=''\n",
    "for kwargs in tqdm(kwargs_yaml[1:]):\n",
    "    string+='# '+kwargs['task']+'\\n'\n",
    "    response=(extractor(kwargs, message=True))\n",
    "    string+='**Prompt**  \\n'+response+'\\n\\n'+'**Completion:**  ' + '\\n\\n'"
   ]
  },
  {
   "cell_type": "code",
   "execution_count": 47,
   "metadata": {},
   "outputs": [
    {
     "name": "stdout",
     "output_type": "stream",
     "text": [
      "# Construct Kinetic Hamiltonian (lattice version)\n",
      "**Prompt**  \n",
      "I will provide you a Excerpt of physics paper, and a Template. You will need to fill the placeholders in the template using the correct information from the excerpt.\n",
      "Here are conventions:  \n",
      "{..} means a placeholder which you need to fill by extracting information from the excerpt.  \n",
      "{A|B} means you need to make a choice between A and B  \n",
      "[..] means optional sentence. You should decide whether to use it depending on the excerpt.  \n",
      "{{..}} DOES NOT mean a placeholder. You should not change the content inside double curly braces {{..}}.  \n",
      "'You should recall that {..}.' : this sentence should be kept as is.\n",
      "\n",
      "Finally, if you cannot figure out the placeholder, you should leave it as is.\n",
      "Template:\n",
      " You will be instructed to describe the kinetic term of Hamiltonian in {system} in the {real|momentum} space in the {single-particle|second-quantized} form.   \n",
      "The degrees of freedom of the system are: {degrees_of_freedom}     \n",
      "The kinetic term is a tight-binding model composed of the following hopping process: \n",
      "{site i and site j with the amplitude hopping}\n",
      "[You should ensure the hermiticity of the Hamiltonian]\n",
      "The summation should be taken over all {degrees_of_freedom} and all {real|momentum} space positions.  \n",
      "Return the Kinetic Hamiltonian {kinetic_symbol}.\n",
      "\n",
      "Use the following conventions for the symbols:  \n",
      "{definition_of_variables}\n",
      "\n",
      " \n",
      "\n",
      " Excerpt:\n",
      " \\begin{eqnarray}\\label{eq:hubbard}\n",
      "\tH&=&\\sum_{s}\\sum_{i,j}^{} t_{s}\\left(\\bm{R}_i-\\bm{R}_j\\right) c_{i,s}^\\dagger c_{j,s}\\nonumber\\\\\n",
      "\t&+&\\frac{1}{2}\\sum_{s,s'}\\sum_{i,j}U(\\bm{R}_i-\\bm{R}_j) c_{i,s}^\\dagger c_{j,s'}^\\dagger c_{j,s'} c_{i,s},\n",
      "\\end{eqnarray}\n",
      "where $\\bm{R}_i$ represents the position of site $i$ in a triangular lattice formed in the moir\\'e pattern [Fig.~\\ref{fig:fig1}(a)], $s$ is the spin index, and $t$ and $U$ are, respectively, the hopping parameter and the interaction strength. As proposed in Refs.~\\cite{wu2018hubbard, wu2019topological, pan2020band}, the model in Eq.~\\eqref{eq:hubbard} can be simulated in twisted TMD heterobilayers as well as homobilayers. For definiteness, we use twisted homobilayer WSe$_2$ (tWSe$_2$) as the model system in this work, and Eq.~\\eqref{eq:hubbard} is then constructed following our previous work \\cite{pan2020band} for low-energy holes in the first moir\\'e valence band at $\\pm K$ valleys. Here we use  $c_{i,s}^\\dagger$ to represent the hole operator, and $s=\\uparrow$ and $\\downarrow$ are locked to $+K$ and $-K$ valleys, respectively. We define a filling factor $\\nu$ as $(1/\\mathcal{N}) \\sum_{i,s} c_{i,s}^{\\dagger} c_{i,s} $, which counts the number of holes per moir\\'e cell ($\\mathcal{N}$ is the total number of moir\\'e sites in the system). The charge neutrality point of the semiconducting twisted bilayer corresponds to $\\nu=0$. For simplicity, we assume that  no external out-of-plane displacement field is applied to WSe$_2$, and then the model in  Eq.~\\eqref{eq:hubbard} respects emergent spin SU(2) symmetry and $C_6$ point group symmetry. An important advantage of the moir\\'e platform is that both the hopping parameters and the interaction strength are highly tunable. Generally speaking, the moir\\'e bandwidth becomes narrower at smaller twist angle (larger moir\\'e period) and many-body interaction effects become more prominent~\\cite{wu2018hubbard, wu2019topological, naik2018ultraflatbands}. We show the twist-angle dependence of $t$ and $U$ in the Supplemental Material \\cite{SM} (see, also, Refs.~\\cite{fukui2005chern,yu2011equivalent} therein). In the calculation of $U$, we project a screened Coulomb interaction $(e^2/\\epsilon)(1/r-1/\\sqrt{r^2+d^2})$ to the low-energy moir\\'e states, where $\\epsilon$ is the background dielectric constant that is tunable by the dielectric environment and $d/2$ is the distance between the moir\\'e system and a nearby metallic gate. We take $\\epsilon$ as a free parameter and  $d$, which is also experimentally controllable, to be 60 nm in calculations.  \n",
      "\n",
      "\n",
      "**Completion:**  \n",
      "\n",
      "# Construct interaction Hamiltonian (real space, lattice version)\n",
      "**Prompt**  \n",
      "I will provide you a Excerpt of physics paper, and a Template. You will need to fill the placeholders in the template using the correct information from the excerpt.\n",
      "Here are conventions:  \n",
      "{..} means a placeholder which you need to fill by extracting information from the excerpt.  \n",
      "{A|B} means you need to make a choice between A and B  \n",
      "[..] means optional sentence. You should decide whether to use it depending on the excerpt.  \n",
      "{{..}} DOES NOT mean a placeholder. You should not change the content inside double curly braces {{..}}.  \n",
      "'You should recall that {..}.' : this sentence should be kept as is.\n",
      "\n",
      "Finally, if you cannot figure out the placeholder, you should leave it as is.\n",
      "Template:\n",
      " You will be instructed to construct the interaction part of the Hamiltonian, {second_int_symbol} in the real space in the second-quantized form.   \n",
      "The interacting Hamiltonian has the same degrees of freedom as the kinetic Hamiltonian {kinetic_symbol}.  \n",
      "The interaction is a density-density interaction composed of the following process:\n",
      "{site i and site j with the interaction strength}\n",
      "The summation should be taken over all {degrees_of_freedom} and all real space positions.  \n",
      "Return the interaction term {second_int_symbol} in terms of {density_symbol}.\n",
      "\n",
      "Use the following conventions for the symbols (You should also obey the conventions in all my previous prompts if you encounter undefined symbols. If you find it is never defined or has conflicts in the conventions, you should stop and let me know): \n",
      "{definition_of_variables}\n",
      "\n",
      " \n",
      "\n",
      " Excerpt:\n",
      " \\begin{eqnarray}\\label{eq:hubbard}\n",
      "\tH&=&\\sum_{s}\\sum_{i,j}^{} t_{s}\\left(\\bm{R}_i-\\bm{R}_j\\right) c_{i,s}^\\dagger c_{j,s}\\nonumber\\\\\n",
      "\t&+&\\frac{1}{2}\\sum_{s,s'}\\sum_{i,j}U(\\bm{R}_i-\\bm{R}_j) c_{i,s}^\\dagger c_{j,s'}^\\dagger c_{j,s'} c_{i,s},\n",
      "\\end{eqnarray}\n",
      "where $\\bm{R}_i$ represents the position of site $i$ in a triangular lattice formed in the moir\\'e pattern [Fig.~\\ref{fig:fig1}(a)], $s$ is the spin index, and $t$ and $U$ are, respectively, the hopping parameter and the interaction strength. As proposed in Refs.~\\cite{wu2018hubbard, wu2019topological, pan2020band}, the model in Eq.~\\eqref{eq:hubbard} can be simulated in twisted TMD heterobilayers as well as homobilayers. For definiteness, we use twisted homobilayer WSe$_2$ (tWSe$_2$) as the model system in this work, and Eq.~\\eqref{eq:hubbard} is then constructed following our previous work \\cite{pan2020band} for low-energy holes in the first moir\\'e valence band at $\\pm K$ valleys. Here we use  $c_{i,s}^\\dagger$ to represent the hole operator, and $s=\\uparrow$ and $\\downarrow$ are locked to $+K$ and $-K$ valleys, respectively. We define a filling factor $\\nu$ as $(1/\\mathcal{N}) \\sum_{i,s} c_{i,s}^{\\dagger} c_{i,s} $, which counts the number of holes per moir\\'e cell ($\\mathcal{N}$ is the total number of moir\\'e sites in the system). The charge neutrality point of the semiconducting twisted bilayer corresponds to $\\nu=0$. For simplicity, we assume that  no external out-of-plane displacement field is applied to WSe$_2$, and then the model in  Eq.~\\eqref{eq:hubbard} respects emergent spin SU(2) symmetry and $C_6$ point group symmetry. An important advantage of the moir\\'e platform is that both the hopping parameters and the interaction strength are highly tunable. Generally speaking, the moir\\'e bandwidth becomes narrower at smaller twist angle (larger moir\\'e period) and many-body interaction effects become more prominent~\\cite{wu2018hubbard, wu2019topological, naik2018ultraflatbands}. We show the twist-angle dependence of $t$ and $U$ in the Supplemental Material \\cite{SM} (see, also, Refs.~\\cite{fukui2005chern,yu2011equivalent} therein). In the calculation of $U$, we project a screened Coulomb interaction $(e^2/\\epsilon)(1/r-1/\\sqrt{r^2+d^2})$ to the low-energy moir\\'e states, where $\\epsilon$ is the background dielectric constant that is tunable by the dielectric environment and $d/2$ is the distance between the moir\\'e system and a nearby metallic gate. We take $\\epsilon$ as a free parameter and  $d$, which is also experimentally controllable, to be 60 nm in calculations.  \n",
      "\\begin{equation}\n",
      "\tH_{\\text{Coulomb}}=\\frac{1}{2}\\sum_{s,s'}\\sum_{i,j}U(\\bm{R}_i-\\bm{R}_j) n_{i,s}n_{j,s'},\n",
      "\\end{equation}\n",
      "where $ n_{i,s}$ is the binary occupancy number of site $ i $. We choose proper supercells manually and minimize the total Coulomb energy per site by exploring various arrangement of occupied sites. \n",
      "\n",
      "\n",
      "**Completion:**  \n",
      "\n",
      "# Convert noninteracting Hamiltonian in real space to momentum space (lattice version)\n",
      "**Prompt**  \n",
      "I will provide you a Excerpt of physics paper, and a Template. You will need to fill the placeholders in the template using the correct information from the excerpt.\n",
      "Here are conventions:  \n",
      "{..} means a placeholder which you need to fill by extracting information from the excerpt.  \n",
      "{A|B} means you need to make a choice between A and B  \n",
      "[..] means optional sentence. You should decide whether to use it depending on the excerpt.  \n",
      "{{..}} DOES NOT mean a placeholder. You should not change the content inside double curly braces {{..}}.  \n",
      "'You should recall that {..}.' : this sentence should be kept as is.\n",
      "\n",
      "Finally, if you cannot figure out the placeholder, you should leave it as is.\n",
      "Template:\n",
      " You will be instructed to convert the noninteracting Hamiltonian {nonint_symbol} in the second quantized form from the basis in real space to the basis in momentum space. \n",
      "To do that, you should apply the Fourier transform to {real_creation_op} in the real space to the {momentum_creation_op} in the momentum space, which is defined as {definition_of_Fourier_Transformation}, where {real_variable} is integrated over all sites in the entire real space. You should follow the EXAMPLE below to apply the Fourier transform. [Note that hopping have no position dependence now.]\n",
      "Express the total noninteracting Hamiltonian {nonint_symbol} in terms of {momentum_creation_op}. Simplify any summation index if possible.\n",
      "\n",
      "Use the following conventions for the symbols (You should also obey the conventions in all my previous prompts if you encounter undefined symbols. If you find it is never defined or has conflicts in the conventions, you should stop and let me know):\n",
      "{definition_of_variables}\n",
      " \n",
      "\n",
      " Excerpt:\n",
      " \\begin{equation}\\label{eq:H0}\n",
      "\tH_0=\\sum_{s}\\sum_{{\\bm{k}}}^{}\\varepsilon_s(\\bm{k}) c_{\\bm{k},s}^\\dagger c_{\\bm{k},s},\n",
      "\\end{equation}\n",
      "where $ \\bm{k} $ is summed over the first Brillouin zone ($\\mathbb{BZ}$) of the moir\\'e lattice, and $ \\varepsilon_s(\\bm{k}) $ is the non-interacting band energy dispersion calculated from the tight-binding model for spin $ s $. The interaction term $ H_1 $ in the momentum space is \n",
      "\n",
      "\n",
      "**Completion:**  \n",
      "\n",
      "# Convert interacting Hamiltonian in real space to momentum space (lattice version)\n",
      "**Prompt**  \n",
      "I will provide you a Excerpt of physics paper, and a Template. You will need to fill the placeholders in the template using the correct information from the excerpt.\n",
      "Here are conventions:  \n",
      "{..} means a placeholder which you need to fill by extracting information from the excerpt.  \n",
      "{A|B} means you need to make a choice between A and B  \n",
      "[..] means optional sentence. You should decide whether to use it depending on the excerpt.  \n",
      "{{..}} DOES NOT mean a placeholder. You should not change the content inside double curly braces {{..}}.  \n",
      "'You should recall that {..}.' : this sentence should be kept as is.\n",
      "\n",
      "Finally, if you cannot figure out the placeholder, you should leave it as is.\n",
      "Template:\n",
      " You will be instructed to convert the interacting Hamiltonian, {second_int_symbol}, in the {single-particle|second-quantized} form the basis in real space to the basis in momentum space.\n",
      "To do that, you should apply the Fourier transform to {real_creation_op} in the real space to the {momentum_creation_op} in the momentum space, which is defined as {definition_of_Fourier_Transformation}, where {real_variable} is integrated over all sites in the entire real space, and {momentum_var} is defined within the first Brillouin zone. You should follow the EXAMPLE below to apply the Fourier transform. [Note that interaction have no position dependence now]  \n",
      "Express {second_int_symbol} in terms of {momentum_creation_op}. Simplify any summation index if possible.  \n",
      " \n",
      "\n",
      " Excerpt:\n",
      " \\begin{equation}\\label{eq:H1}\n",
      "\tH_1=\\frac{1}{2\\mathcal{N}}\\sum_{s,s'} \\sum_{\\bm{k}} U(\\bm{k}_\\alpha-\\bm{k}_\\delta)\\delta_{\\bm{k}_\\alpha,\\bm{k}_\\beta,\\bm{k}_\\gamma,\\bm{k}_\\delta} c_{\\bm{k}_\\alpha,s}^\\dagger c_{\\bm{k}_\\beta,s'}^\\dagger c_{\\bm{k}_\\gamma,s'} c_{\\bm{k}_\\delta,s},\n",
      "\\end{equation}\n",
      "where $ \\mathcal{N} $ is the number of total sites in the lattice, and  $ \\bm{k}_\\alpha,\\bm{k}_\\beta,\\bm{k}_\\gamma , \\bm{k}_\\delta $ are summed over the first $ \\mathbb{BZ} $. Here, the interaction in the momentum space (as shown in Fig.~\\ref{fig:tU}(d)) is\n",
      "\\begin{equation}\n",
      "\tU(\\bm{q})=\\sum_{\\bm{R}}U(\\bm{R})e^{i\\bm{q}\\cdot\\bm{R}},\n",
      "\\end{equation}\n",
      "and\n",
      "\\begin{equation}\n",
      "\t\\delta_{\\bm{k}_\\alpha,\\bm{k}_\\beta,\\bm{k}_\\gamma,\\bm{k}_\\delta}=\\sum_{\\bm{G}}\\delta(\\bm{k}_\\alpha+\\bm{k}_\\beta-\\bm{k}_\\gamma-\\bm{k}_\\delta,\\bm{G}),\n",
      "\\end{equation}\n",
      "where  $ \\bm{G} $ is any moir\\'e reciprocal lattice vector, and $ \\delta(\\dots) $ is the Kronecker delta function.\n",
      "\n",
      "\n",
      "**Completion:**  \n",
      "\n",
      "# Wick's theorem\n",
      "**Prompt**  \n",
      "I will provide you a Excerpt of physics paper, and a Template. You will need to fill the placeholders in the template using the correct information from the excerpt.\n",
      "Here are conventions:  \n",
      "{..} means a placeholder which you need to fill by extracting information from the excerpt.  \n",
      "{A|B} means you need to make a choice between A and B  \n",
      "[..] means optional sentence. You should decide whether to use it depending on the excerpt.  \n",
      "{{..}} DOES NOT mean a placeholder. You should not change the content inside double curly braces {{..}}.  \n",
      "'You should recall that {..}.' : this sentence should be kept as is.\n",
      "\n",
      "Finally, if you cannot figure out the placeholder, you should leave it as is.\n",
      "Template:\n",
      " You will be instructed to perform a Hartree-Fock approximation to expand the interaction term, {second_int_symbol}.  \n",
      "You should use Wick's theorem to expand the four-fermion term in {second_int_symbol} into quadratic terms. You should strictly follow the EXAMPLE below to expand using Wick's theorem, select the correct EXAMPLE by noticing the order of four term product with and without ${{}}^\\dagger$, and be extremely cautious about the order of the index and sign before each term.  \n",
      "You should only preserve the normal terms. Here, the normal terms mean the product of a creation operator and an annihilation operator.  \n",
      "Return the expanded interaction term after Hartree-Fock approximation as {Hartree_Fock_symbol}.\n",
      "\n",
      "Use the following conventions for the symbols (You should also obey the conventions in all my previous prompts if you encounter undefined symbols. If you find it is never defined or has conflicts in the conventions, you should stop and let me know):  \n",
      "{definition_of_variables}\n",
      " \n",
      "\n",
      " Excerpt:\n",
      " \\begin{widetext}\n",
      "\t\\begin{equation}\\label{eq:HMF}\n",
      "\t\tH_{\\text{int}}=\\frac{1}{\\mathcal{N}} \\sum_{s,s'} \\sum_{\\bm{k}} U(\\bm{k}_\\alpha-\\bm{k}_\\delta) \\delta_{\\bm{k}_\\alpha,\\bm{k}_\\beta,\\bm{k}_\\gamma,\\bm{k}_\\delta} \\\\\n",
      "\t\t\\qty[\\expval{c_{\\bm{k}_\\alpha,s}^\\dagger c_{\\bm{k}_\\delta,s}}c_{\\bm{k}_\\beta,s'}^\\dagger c_{\\bm{k}_\\gamma,s'}-\\expval{c_{\\bm{k}_\\alpha,s}^\\dagger c_{\\bm{k}_\\gamma,s'}}c_{\\bm{k}_\\beta,s'}^\\dagger c_{\\bm{k}_\\delta,s}]\n",
      "\t\\end{equation}\n",
      "\\end{widetext}\n",
      "\n",
      "\n",
      "**Completion:**  \n",
      "\n",
      "# Extract quadratic term\n",
      "**Prompt**  \n",
      "I will provide you a Excerpt of physics paper, and a Template. You will need to fill the placeholders in the template using the correct information from the excerpt.\n",
      "Here are conventions:  \n",
      "{..} means a placeholder which you need to fill by extracting information from the excerpt.  \n",
      "{A|B} means you need to make a choice between A and B  \n",
      "[..] means optional sentence. You should decide whether to use it depending on the excerpt.  \n",
      "{{..}} DOES NOT mean a placeholder. You should not change the content inside double curly braces {{..}}.  \n",
      "'You should recall that {..}.' : this sentence should be kept as is.\n",
      "\n",
      "Finally, if you cannot figure out the placeholder, you should leave it as is.\n",
      "Template:\n",
      " You will be instructed to extract the quadratic terms in the {Hartree_Fock_term_symbol}.  \n",
      "The quadratic terms mean terms that are proportional to {bilinear_op}, which excludes terms that are solely expectations or products of expectations.  \n",
      "You should only preserve the quadratic terms in {Hartree_Fock_term_symbol}, denoted as {Hartree_Fock_second_quantized_symbol}.  \n",
      "Return {Hartree_Fock_second_quantized_symbol}.  \n",
      "\n",
      "Use the following conventions for the symbols (You should also obey the conventions in all my previous prompts if you encounter undefined symbols. If you find it is never defined or has conflicts in the conventions, you should stop and let me know):  \n",
      "{definition_of_variables}\n",
      "\n",
      " \n",
      "\n",
      " Excerpt:\n",
      " \\begin{widetext}\n",
      "\t\\begin{equation}\\label{eq:HMF}\n",
      "\t\tH_{\\text{int}}=\\frac{1}{\\mathcal{N}} \\sum_{s,s'} \\sum_{\\bm{k}} U(\\bm{k}_\\alpha-\\bm{k}_\\delta) \\delta_{\\bm{k}_\\alpha,\\bm{k}_\\beta,\\bm{k}_\\gamma,\\bm{k}_\\delta} \\\\\n",
      "\t\t\\qty[\\expval{c_{\\bm{k}_\\alpha,s}^\\dagger c_{\\bm{k}_\\delta,s}}c_{\\bm{k}_\\beta,s'}^\\dagger c_{\\bm{k}_\\gamma,s'}-\\expval{c_{\\bm{k}_\\alpha,s}^\\dagger c_{\\bm{k}_\\gamma,s'}}c_{\\bm{k}_\\beta,s'}^\\dagger c_{\\bm{k}_\\delta,s}]\n",
      "\t\\end{equation}\n",
      "\\end{widetext}\n",
      "\n",
      "\n",
      "**Completion:**  \n",
      "\n",
      "# Expand interaction\n",
      "**Prompt**  \n",
      "I will provide you a Excerpt of physics paper, and a Template. You will need to fill the placeholders in the template using the correct information from the excerpt.\n",
      "Here are conventions:  \n",
      "{..} means a placeholder which you need to fill by extracting information from the excerpt.  \n",
      "{A|B} means you need to make a choice between A and B  \n",
      "[..] means optional sentence. You should decide whether to use it depending on the excerpt.  \n",
      "{{..}} DOES NOT mean a placeholder. You should not change the content inside double curly braces {{..}}.  \n",
      "'You should recall that {..}.' : this sentence should be kept as is.\n",
      "\n",
      "Finally, if you cannot figure out the placeholder, you should leave it as is.\n",
      "Template:\n",
      " You will be instructed to expand interaction term $V(q)$ in the MF quadratic term {Hartree_Fock_second_quantized_symbol}.\n",
      "If you find the $V(q)$ in {Hartree_Fock_second_quantized_symbol} does not contain any momentum that is not in the summation sign. The interaction term is already expanded. No action to perform on interaction term.\n",
      "Otherwise, you will expand $V(q)$ by replacing $q$ with the momentum {momentum}.\n",
      "Return {Hartree_Fock_second_quantized_symbol} with expanded interaction.\n",
      "\n",
      " \n",
      "\n",
      " Excerpt:\n",
      " \\begin{widetext}\n",
      "\t\\begin{equation}\\label{eq:HMF}\n",
      "\t\tH_{\\text{int}}=\\frac{1}{\\mathcal{N}} \\sum_{s,s'} \\sum_{\\bm{k}} U(\\bm{k}_\\alpha-\\bm{k}_\\delta) \\delta_{\\bm{k}_\\alpha,\\bm{k}_\\beta,\\bm{k}_\\gamma,\\bm{k}_\\delta} \\\\\n",
      "\t\t\\qty[\\expval{c_{\\bm{k}_\\alpha,s}^\\dagger c_{\\bm{k}_\\delta,s}}c_{\\bm{k}_\\beta,s'}^\\dagger c_{\\bm{k}_\\gamma,s'}-\\expval{c_{\\bm{k}_\\alpha,s}^\\dagger c_{\\bm{k}_\\gamma,s'}}c_{\\bm{k}_\\beta,s'}^\\dagger c_{\\bm{k}_\\delta,s}]\n",
      "\t\\end{equation}\n",
      "\\end{widetext}\n",
      "\n",
      "\n",
      "**Completion:**  \n",
      "\n",
      "# Swap the index only\n",
      "**Prompt**  \n",
      "I will provide you a Excerpt of physics paper, and a Template. You will need to fill the placeholders in the template using the correct information from the excerpt.\n",
      "Here are conventions:  \n",
      "{..} means a placeholder which you need to fill by extracting information from the excerpt.  \n",
      "{A|B} means you need to make a choice between A and B  \n",
      "[..] means optional sentence. You should decide whether to use it depending on the excerpt.  \n",
      "{{..}} DOES NOT mean a placeholder. You should not change the content inside double curly braces {{..}}.  \n",
      "'You should recall that {..}.' : this sentence should be kept as is.\n",
      "\n",
      "Finally, if you cannot figure out the placeholder, you should leave it as is.\n",
      "Template:\n",
      " You will be instructed to simplify the quadratic term {Hartree_Fock_second_quantized_symbol} through relabeling the index.  \n",
      "The logic is that the expected value ({expected_value}) in the first Hartree term ({expression_Hartree_1}) has the same form as the quadratic operators in the second Hartree term ({expression_Hartree_2}), and vice versa. The same applies to the Fock term.  \n",
      "Namely, a replacement of {relabel} is applied to ONLY the second Hartree or Fock term. You should not swap any index that is not in the summation, which includes {Unsummed_Indices}.  \n",
      "This means, if you relabel the index by swapping the index in the \"expected value\" and \"quadratic operators\" in the second Hartree or Fock term, you can make the second Hartree or Fock term look identical to the first Hartree or Fock term, as long as $V(q)=V(-q)$, which is naturally satisfied in Coulomb interaction. You should follow the EXAMPLE below to simplify it through relabeling the index.  \n",
      "Return the simplified {Hartree_Fock_second_quantized_symbol}.\n",
      " \n",
      "\n",
      " Excerpt:\n",
      " \\begin{widetext}\n",
      "\t\\begin{equation}\\label{eq:HMF}\n",
      "\t\tH_{\\text{int}}=\\frac{1}{\\mathcal{N}} \\sum_{s,s'} \\sum_{\\bm{k}} U(\\bm{k}_\\alpha-\\bm{k}_\\delta) \\delta_{\\bm{k}_\\alpha,\\bm{k}_\\beta,\\bm{k}_\\gamma,\\bm{k}_\\delta} \\\\\n",
      "\t\t\\qty[\\expval{c_{\\bm{k}_\\alpha,s}^\\dagger c_{\\bm{k}_\\delta,s}}c_{\\bm{k}_\\beta,s'}^\\dagger c_{\\bm{k}_\\gamma,s'}-\\expval{c_{\\bm{k}_\\alpha,s}^\\dagger c_{\\bm{k}_\\gamma,s'}}c_{\\bm{k}_\\beta,s'}^\\dagger c_{\\bm{k}_\\delta,s}]\n",
      "\t\\end{equation}\n",
      "\\end{widetext}\n",
      "\n",
      "\n",
      "**Completion:**  \n",
      "\n",
      "# Reduce momentum in Hartree term (momentum in BZ + reciprocal lattice)\n",
      "**Prompt**  \n",
      "I will provide you a Excerpt of physics paper, and a Template. You will need to fill the placeholders in the template using the correct information from the excerpt.\n",
      "Here are conventions:  \n",
      "{..} means a placeholder which you need to fill by extracting information from the excerpt.  \n",
      "{A|B} means you need to make a choice between A and B  \n",
      "[..] means optional sentence. You should decide whether to use it depending on the excerpt.  \n",
      "{{..}} DOES NOT mean a placeholder. You should not change the content inside double curly braces {{..}}.  \n",
      "'You should recall that {..}.' : this sentence should be kept as is.\n",
      "\n",
      "Finally, if you cannot figure out the placeholder, you should leave it as is.\n",
      "Template:\n",
      " You will be instructed to simplify the Hartree term in {Hartree_second_quantized_symbol} by reducing the momentum inside the expected value {expected_value}.  \n",
      "The expected value {expected_value} is only nonzero when the two momenta $k_i,k_j$ are the same, namely, {expected_value_nonzero}.  \n",
      "You should use the property of Kronecker delta function $\\delta_{{k_i,k_j}}$ to reduce one momentum $k_i$ but not $b_i$.\n",
      "Once you reduce one momentum inside the expected value $\\langle\\dots\\rangle$. You will also notice the total momentum conservation will reduce another momentum in the quadratic term. Therefore, you should end up with only two momenta left in the summation.  \n",
      "You should follow the EXAMPLE below to reduce one momentum in the Hartree term, and another momentum in the quadratic term.  \n",
      "Return the final simplified Hartree term {Hartree_second_quantized_symbol}.\n",
      " \n",
      "\n",
      " Excerpt:\n",
      " \\begin{equation}\n",
      "\tH_{\\text{HF}}= H_0+H_{\\text{Hartree}}+H_{\\text{Fock}},\n",
      "\\end{equation}\n",
      "where the Hartree term is \n",
      "\\begin{widetext}\n",
      "\t\\begin{equation}\\label{eq:hatree}\n",
      "\t\tH_{\\text{Hartree}}=\\frac{1}{\\mathcal{N}} \\sum_{s,s'} \\sum_{{\\bm{p},\\bm{q}}}  U(\\bm{q}_\\alpha-\\bm{q}_\\delta) \\delta_{\\bm{q}_\\alpha,\\bm{q}_\\beta,\\bm{q}_\\gamma,\\bm{q}_\\delta} \\expval{c_{\\bm{p}_\\alpha+\\bm{q}_\\alpha,s}^\\dagger c_{\\bm{p}_\\alpha+\\bm{q}_\\delta,s}} c_{\\bm{p}_\\beta+\\bm{q}_\\beta,s'}^\\dagger c_{\\bm{p}_\\beta+\\bm{q}_\\gamma,s'}\n",
      "\t\\end{equation}\n",
      "\\end{widetext}\n",
      "\n",
      "\n",
      "**Completion:**  \n",
      "\n",
      "# Reduce momentum in Fock term (momentum in BZ + reciprocal lattice)\n",
      "**Prompt**  \n",
      "I will provide you a Excerpt of physics paper, and a Template. You will need to fill the placeholders in the template using the correct information from the excerpt.\n",
      "Here are conventions:  \n",
      "{..} means a placeholder which you need to fill by extracting information from the excerpt.  \n",
      "{A|B} means you need to make a choice between A and B  \n",
      "[..] means optional sentence. You should decide whether to use it depending on the excerpt.  \n",
      "{{..}} DOES NOT mean a placeholder. You should not change the content inside double curly braces {{..}}.  \n",
      "'You should recall that {..}.' : this sentence should be kept as is.\n",
      "\n",
      "Finally, if you cannot figure out the placeholder, you should leave it as is.\n",
      "Template:\n",
      " You will be instructed to simplify the Fock term in {Fock_second_quantized_symbol} by reducing the momentum inside the expected value {expected_value}.  \n",
      "The expected value {expected_value} is only nonzero when the two momenta $k_i,k_j$ are the same, namely, {expected_value_nonzero}.  \n",
      "You should use the property of Kronecker delta function $\\delta_{{k_i,k_j}}$ to reduce one momentum $k_i$ but not $b_i$.  \n",
      "Once you reduce one momentum inside the expected value $\\langle\\dots\\rangle$. You will also notice the total momentum conservation will reduce another momentum in the quadratic term. Therefore, you should end up with only two momenta left in the summation.\n",
      "You should follow the EXAMPLE below to reduce one momentum in the Fock term, and another momentum in the quadratic term.    \n",
      "Return the final simplified Fock term {Fock_second_quantized_symbol}.\n",
      " \n",
      "\n",
      " Excerpt:\n",
      " \\begin{widetext}\n",
      "\t\\begin{equation}\\label{eq:fock}\n",
      "\t\tH_{\\text{Fock}}=-\\frac{1}{\\mathcal{N}}\\sum_{s,s'} \\sum_{{\\bm{p},\\bm{q}}} U(\\bm{p}_\\alpha-\\bm{p}_\\beta+\\bm{q}_\\alpha-\\bm{q}_\\delta)\\delta_{\\bm{q}_\\alpha,\\bm{q}_\\beta,\\bm{q}_\\gamma,\\bm{q}_\\delta} \\expval{c_{\\bm{p}_\\alpha+\\bm{q}_\\alpha,s}^\\dagger c_{\\bm{p}_\\alpha+\\bm{q}_\\gamma,s'}} c_{\\bm{p}_\\beta+\\bm{q}_\\beta,s'}^\\dagger c_{\\bm{p}_\\beta+\\bm{q}_\\delta,s}.\n",
      "\t\\end{equation}\t\n",
      "\\end{widetext}\n",
      "\n",
      "\n",
      "**Completion:**  \n",
      "\n",
      "# Combine the Hartree and Fock term\n",
      "**Prompt**  \n",
      "I will provide you a Excerpt of physics paper, and a Template. You will need to fill the placeholders in the template using the correct information from the excerpt.\n",
      "Here are conventions:  \n",
      "{..} means a placeholder which you need to fill by extracting information from the excerpt.  \n",
      "{A|B} means you need to make a choice between A and B  \n",
      "[..] means optional sentence. You should decide whether to use it depending on the excerpt.  \n",
      "{{..}} DOES NOT mean a placeholder. You should not change the content inside double curly braces {{..}}.  \n",
      "'You should recall that {..}.' : this sentence should be kept as is.\n",
      "\n",
      "Finally, if you cannot figure out the placeholder, you should leave it as is.\n",
      "Template:\n",
      " You will now be instructed to combine the Hartree term {Hartree_symbol} and the Fock term {Fock_symbol}.  \n",
      "and the Fock term {Fock}.  \n",
      "You should perform the same trick of relabeling the index in the Fock term to make the quadratic operators in the Fock term the same as those in the Hartree term. The relabeling should be done with a swap : {swap_rule}.\n",
      "You should add them, relabel the index in Fock term, and simply their sum. \n",
      "Return the final sum of Hartree and Fock term. \n",
      "\n",
      " \n",
      "\n",
      " Excerpt:\n",
      " \\begin{equation}\n",
      "\tH_{\\text{HF}}= H_0+H_{\\text{Hartree}}+H_{\\text{Fock}},\n",
      "\\end{equation}\n",
      "where the Hartree term is \n",
      "\\begin{widetext}\n",
      "\t\\begin{equation}\\label{eq:hatree}\n",
      "\t\tH_{\\text{Hartree}}=\\frac{1}{\\mathcal{N}} \\sum_{s,s'} \\sum_{{\\bm{p},\\bm{q}}}  U(\\bm{q}_\\alpha-\\bm{q}_\\delta) \\delta_{\\bm{q}_\\alpha,\\bm{q}_\\beta,\\bm{q}_\\gamma,\\bm{q}_\\delta} \\expval{c_{\\bm{p}_\\alpha+\\bm{q}_\\alpha,s}^\\dagger c_{\\bm{p}_\\alpha+\\bm{q}_\\delta,s}} c_{\\bm{p}_\\beta+\\bm{q}_\\beta,s'}^\\dagger c_{\\bm{p}_\\beta+\\bm{q}_\\gamma,s'}\n",
      "\t\\end{equation}\n",
      "\\end{widetext}\n",
      "and the Fork term is\n",
      "\\begin{widetext}\n",
      "\t\\begin{equation}\\label{eq:fock}\n",
      "\t\tH_{\\text{Fock}}=-\\frac{1}{\\mathcal{N}}\\sum_{s,s'} \\sum_{{\\bm{p},\\bm{q}}} U(\\bm{p}_\\alpha-\\bm{p}_\\beta+\\bm{q}_\\alpha-\\bm{q}_\\delta)\\delta_{\\bm{q}_\\alpha,\\bm{q}_\\beta,\\bm{q}_\\gamma,\\bm{q}_\\delta} \\expval{c_{\\bm{p}_\\alpha+\\bm{q}_\\alpha,s}^\\dagger c_{\\bm{p}_\\alpha+\\bm{q}_\\gamma,s'}} c_{\\bm{p}_\\beta+\\bm{q}_\\beta,s'}^\\dagger c_{\\bm{p}_\\beta+\\bm{q}_\\delta,s}.\n",
      "\t\\end{equation}\t\n",
      "\\end{widetext}\n",
      "\n",
      "\n",
      "**Completion:**  \n",
      "\n",
      "\n"
     ]
    }
   ],
   "source": [
    "print(string)"
   ]
  },
  {
   "cell_type": "code",
   "execution_count": null,
   "metadata": {},
   "outputs": [],
   "source": []
  }
 ],
 "metadata": {
  "kernelspec": {
   "display_name": "base",
   "language": "python",
   "name": "python3"
  },
  "language_info": {
   "codemirror_mode": {
    "name": "ipython",
    "version": 3
   },
   "file_extension": ".py",
   "mimetype": "text/x-python",
   "name": "python",
   "nbconvert_exporter": "python",
   "pygments_lexer": "ipython3",
   "version": "3.11.4"
  },
  "orig_nbformat": 4
 },
 "nbformat": 4,
 "nbformat_minor": 2
}
