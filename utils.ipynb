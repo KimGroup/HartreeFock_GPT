{
 "cells": [
  {
   "cell_type": "markdown",
   "metadata": {},
   "source": [
    "# Check consistency of section titles"
   ]
  },
  {
   "cell_type": "code",
   "execution_count": 45,
   "metadata": {},
   "outputs": [],
   "source": [
    "import os\n",
    "import re\n",
    "import glob\n",
    "def get_markdown_sections(file_path):\n",
    "    \"\"\"\n",
    "    Extracts markdown sections from a file.\n",
    "\n",
    "    Parameters\n",
    "    ----------\n",
    "    file_path : str\n",
    "        Path to the markdown file.\n",
    "\n",
    "    Returns\n",
    "    -------\n",
    "    list\n",
    "        A list of sections from the markdown file.\n",
    "\n",
    "    \"\"\"\n",
    "    sections = []\n",
    "    with open(file_path, 'r') as file:\n",
    "        for line in file:\n",
    "            if line.startswith('##'):\n",
    "                line = re.sub(r'\\[.*?\\]', '', line).strip()\n",
    "                sections.append(line)\n",
    "    return sections\n",
    "\n",
    "def get_worker_markdown(exclude_files=[]):\n",
    "    \"\"\"\n",
    "    Traverses directories to gather markdown files and their sections.\n",
    "\n",
    "    Parameters\n",
    "    ----------\n",
    "    exclude_files : list, optional\n",
    "        A list of files to be excluded from the search.\n",
    "\n",
    "    Returns\n",
    "    -------\n",
    "    dict\n",
    "        A dictionary where keys are the paths to the markdown files \n",
    "        and values are the list of sections in each file.\n",
    "\n",
    "    \"\"\"\n",
    "    worker_files = {}\n",
    "    directories = glob.glob(\"./*/\")\n",
    "    for directory in directories:\n",
    "        for root, dirs, files in os.walk(directory):\n",
    "            for file in files:\n",
    "                if file.endswith(\".md\") and file not in exclude_files:\n",
    "                    file_path = os.path.join(root, file)\n",
    "                    worker_files[file_path] = get_markdown_sections(file_path)\n",
    "    return worker_files\n",
    "\n",
    "def markdown_files_compliance(main_file, exclude_files=[]):\n",
    "    \"\"\"\n",
    "    Checks compliance of sections between markdown files.\n",
    "\n",
    "    Parameters\n",
    "    ----------\n",
    "    main_file : str\n",
    "        Path to the main markdown file.\n",
    "    exclude_files : list, optional\n",
    "        A list of markdown files to be excluded from the search.\n",
    "\n",
    "    \"\"\"\n",
    "    worker_files = get_worker_markdown(exclude_files)\n",
    "    main_sections = get_markdown_sections(main_file)\n",
    "    missing_sec_list=[]\n",
    "    unref_sec_list=[]\n",
    "\n",
    "    \n",
    "    for worker_file, worker_sections in worker_files.items():\n",
    "        for section in worker_sections:\n",
    "            if section not in main_sections:\n",
    "                print(f\"Missing section in {main_file}: {worker_file}, Section: {section}\")\n",
    "                missing_sec_list.append(section)\n",
    "\n",
    "    for section in main_sections:\n",
    "        if not any(section in sections for sections in worker_files.values()):\n",
    "            print(f\"Unreferred section {main_file}: {section}\")\n",
    "            unref_sec_list.append(section)\n",
    "\n",
    "    return missing_sec_list, unref_sec_list\n"
   ]
  },
  {
   "cell_type": "code",
   "execution_count": 46,
   "metadata": {},
   "outputs": [
    {
     "name": "stdout",
     "output_type": "stream",
     "text": [
      "Missing section in Prompt_Template.md: ./1812.04213/1812.04213.md, Section: ## Construct noninteracting Hamiltonian (continuum version)\n",
      "Missing section in Prompt_Template.md: ./1812.04213/1812.04213.md, Section: ## Define each term in noninteracting Hamiltonian (continuum version)\n",
      "Missing section in Prompt_Template.md: ./2108.02159/2108.02159.md, Section: ## Relabel the index in Hartree term\n",
      "Missing section in Prompt_Template.md: ./2108.02159/2108.02159.md, Section: ## Relabel the index in Fock term\n",
      "Missing section in Prompt_Template.md: ./2111.01152/2111.01152.md, Section: ## Convert from single-particle to second-quantized form, return in the matrix\n",
      "Unreferred section Prompt_Template.md: ## lattice, second-quantized, Hartree\n",
      "Unreferred section Prompt_Template.md: ## lattice, second-quantized, Fock\n",
      "Unreferred section Prompt_Template.md: ## lattice, second-quantized, Hartree-Fock\n",
      "Unreferred section Prompt_Template.md: ## continuum, first-quantized, Hartree\n",
      "Unreferred section Prompt_Template.md: ## continuum, first-quantized, Fock\n",
      "Unreferred section Prompt_Template.md: ## continuum, first-quantized, Hartree-Fock\n",
      "Unreferred section Prompt_Template.md: ## continuum, second-quantized, Hartree\n",
      "Unreferred section Prompt_Template.md: ## continuum, second-quantized, Fock\n",
      "Unreferred section Prompt_Template.md: ## continuum, second-quantized, Hartree-Fock\n",
      "Unreferred section Prompt_Template.md: ## Convert from single-particle to second-quantized form, return in matrix\n",
      "Unreferred section Prompt_Template.md: ## Fock term only\n"
     ]
    }
   ],
   "source": [
    "missing_sec_list,unref_sec_list=markdown_files_compliance('Prompt_Template.md', ['2111.01152_Bard.md',])"
   ]
  },
  {
   "cell_type": "code",
   "execution_count": 38,
   "metadata": {},
   "outputs": [
    {
     "data": {
      "text/plain": [
       "['## Relabel the index in Hartree term', '## Relabel the index in Fock term']"
      ]
     },
     "execution_count": 38,
     "metadata": {},
     "output_type": "execute_result"
    }
   ],
   "source": [
    "missing_sec_list"
   ]
  },
  {
   "cell_type": "markdown",
   "metadata": {},
   "source": [
    "# Check tags"
   ]
  },
  {
   "cell_type": "code",
   "execution_count": 111,
   "metadata": {},
   "outputs": [],
   "source": [
    "import pandas as pd\n",
    "import numpy as np"
   ]
  },
  {
   "cell_type": "code",
   "execution_count": 61,
   "metadata": {},
   "outputs": [],
   "source": [
    "import matplotlib.pyplot as plt\n"
   ]
  },
  {
   "cell_type": "code",
   "execution_count": 97,
   "metadata": {},
   "outputs": [],
   "source": [
    "df=pd.read_csv('Hartree Fock.csv')"
   ]
  },
  {
   "cell_type": "code",
   "execution_count": 98,
   "metadata": {},
   "outputs": [
    {
     "data": {
      "text/plain": [
       "['electron',\n",
       " 'fermion systems',\n",
       " 'hartree and fock terms',\n",
       " 'lattice model',\n",
       " 'momentum space',\n",
       " 'normal order']"
      ]
     },
     "execution_count": 98,
     "metadata": {},
     "output_type": "execute_result"
    }
   ],
   "source": [
    "df['Manual Tags'].iloc[0].split('; ')"
   ]
  },
  {
   "cell_type": "code",
   "execution_count": 99,
   "metadata": {},
   "outputs": [],
   "source": [
    "categories = {\n",
    "    'Kinetic term': ['continuum model', 'lattice model'],\n",
    "    'Mean field working space': ['momentum space', 'real space'],\n",
    "    \"Wick's theorem\": ['normal order', 'superconducting order', 'normal and superconducting order'],\n",
    "    'Normal order parameter': ['hartree term', 'fock term', 'hartree and fock terms'],\n",
    "    'Particle statistics': ['fermion systems', 'bosonic systems'],\n",
    "    'Quasiparticle type': ['electron', 'Parton', 'Slave boson']\n",
    "}"
   ]
  },
  {
   "cell_type": "code",
   "execution_count": 100,
   "metadata": {},
   "outputs": [],
   "source": [
    "term_list=[]\n",
    "category_list=[]\n",
    "for category, terms in categories.items():\n",
    "    for term in terms:\n",
    "        term_list.append(term)\n",
    "        category_list.append(category)\n",
    "tags_df=pd.DataFrame({'category':category_list,'count':0},index=term_list,)"
   ]
  },
  {
   "cell_type": "code",
   "execution_count": 102,
   "metadata": {},
   "outputs": [
    {
     "data": {
      "text/html": [
       "<div>\n",
       "<style scoped>\n",
       "    .dataframe tbody tr th:only-of-type {\n",
       "        vertical-align: middle;\n",
       "    }\n",
       "\n",
       "    .dataframe tbody tr th {\n",
       "        vertical-align: top;\n",
       "    }\n",
       "\n",
       "    .dataframe thead th {\n",
       "        text-align: right;\n",
       "    }\n",
       "</style>\n",
       "<table border=\"1\" class=\"dataframe\">\n",
       "  <thead>\n",
       "    <tr style=\"text-align: right;\">\n",
       "      <th></th>\n",
       "      <th>category</th>\n",
       "      <th>count</th>\n",
       "    </tr>\n",
       "  </thead>\n",
       "  <tbody>\n",
       "    <tr>\n",
       "      <th>continuum model</th>\n",
       "      <td>Kinetic term</td>\n",
       "      <td>0</td>\n",
       "    </tr>\n",
       "    <tr>\n",
       "      <th>lattice model</th>\n",
       "      <td>Kinetic term</td>\n",
       "      <td>0</td>\n",
       "    </tr>\n",
       "    <tr>\n",
       "      <th>momentum space</th>\n",
       "      <td>Mean field working space</td>\n",
       "      <td>0</td>\n",
       "    </tr>\n",
       "    <tr>\n",
       "      <th>real space</th>\n",
       "      <td>Mean field working space</td>\n",
       "      <td>0</td>\n",
       "    </tr>\n",
       "    <tr>\n",
       "      <th>normal order</th>\n",
       "      <td>Wick's theorem</td>\n",
       "      <td>0</td>\n",
       "    </tr>\n",
       "    <tr>\n",
       "      <th>superconducting order</th>\n",
       "      <td>Wick's theorem</td>\n",
       "      <td>0</td>\n",
       "    </tr>\n",
       "    <tr>\n",
       "      <th>normal and superconducting order</th>\n",
       "      <td>Wick's theorem</td>\n",
       "      <td>0</td>\n",
       "    </tr>\n",
       "    <tr>\n",
       "      <th>hartree term</th>\n",
       "      <td>Normal order parameter</td>\n",
       "      <td>0</td>\n",
       "    </tr>\n",
       "    <tr>\n",
       "      <th>fock term</th>\n",
       "      <td>Normal order parameter</td>\n",
       "      <td>0</td>\n",
       "    </tr>\n",
       "    <tr>\n",
       "      <th>hartree and fock terms</th>\n",
       "      <td>Normal order parameter</td>\n",
       "      <td>0</td>\n",
       "    </tr>\n",
       "    <tr>\n",
       "      <th>fermion systems</th>\n",
       "      <td>Particle statistics</td>\n",
       "      <td>0</td>\n",
       "    </tr>\n",
       "    <tr>\n",
       "      <th>bosonic systems</th>\n",
       "      <td>Particle statistics</td>\n",
       "      <td>0</td>\n",
       "    </tr>\n",
       "    <tr>\n",
       "      <th>electron</th>\n",
       "      <td>Quasiparticle type</td>\n",
       "      <td>0</td>\n",
       "    </tr>\n",
       "    <tr>\n",
       "      <th>Parton</th>\n",
       "      <td>Quasiparticle type</td>\n",
       "      <td>0</td>\n",
       "    </tr>\n",
       "    <tr>\n",
       "      <th>Slave boson</th>\n",
       "      <td>Quasiparticle type</td>\n",
       "      <td>0</td>\n",
       "    </tr>\n",
       "  </tbody>\n",
       "</table>\n",
       "</div>"
      ],
      "text/plain": [
       "                                                  category  count\n",
       "continuum model                               Kinetic term      0\n",
       "lattice model                                 Kinetic term      0\n",
       "momentum space                    Mean field working space      0\n",
       "real space                        Mean field working space      0\n",
       "normal order                                Wick's theorem      0\n",
       "superconducting order                       Wick's theorem      0\n",
       "normal and superconducting order            Wick's theorem      0\n",
       "hartree term                        Normal order parameter      0\n",
       "fock term                           Normal order parameter      0\n",
       "hartree and fock terms              Normal order parameter      0\n",
       "fermion systems                        Particle statistics      0\n",
       "bosonic systems                        Particle statistics      0\n",
       "electron                                Quasiparticle type      0\n",
       "Parton                                  Quasiparticle type      0\n",
       "Slave boson                             Quasiparticle type      0"
      ]
     },
     "execution_count": 102,
     "metadata": {},
     "output_type": "execute_result"
    }
   ],
   "source": [
    "tags_df"
   ]
  },
  {
   "cell_type": "code",
   "execution_count": 113,
   "metadata": {},
   "outputs": [
    {
     "data": {
      "text/plain": [
       "'electron; fermion systems; hartree and fock terms; lattice model; momentum space; normal order'"
      ]
     },
     "execution_count": 113,
     "metadata": {},
     "output_type": "execute_result"
    }
   ],
   "source": [
    "(row['Manual Tags'])"
   ]
  },
  {
   "cell_type": "code",
   "execution_count": 114,
   "metadata": {},
   "outputs": [],
   "source": [
    "for idx,row in df.iterrows():\n",
    "    try:\n",
    "        tag_list= row['Manual Tags'].split('; ')\n",
    "    except:\n",
    "        tag_list =[]\n",
    "\n",
    "    for term in tag_list:\n",
    "        tags_df.loc[term,'count']+=1"
   ]
  },
  {
   "cell_type": "code",
   "execution_count": 164,
   "metadata": {},
   "outputs": [
    {
     "data": {
      "image/png": "[encoded data removed]",
      "text/plain": [
       "<Figure size 600x400 with 1 Axes>"
      ]
     },
     "metadata": {},
     "output_type": "display_data"
    }
   ],
   "source": [
    "fig,ax=plt.subplots(figsize=(6,4),tight_layout=True)\n",
    "width=0.25\n",
    "color_list=['#B587E8','#E88358','#E8E764','#6EFFA8','#72F566']\n",
    "for group_idx, (category, terms) in enumerate(categories.items()):\n",
    "    for term_idx, (term,color) in enumerate(zip(terms,color_list)):\n",
    "        y_pos=group_idx+width*term_idx\n",
    "        rect=ax.barh(y_pos,tags_df.loc[term,'count'],width,color=color)\n",
    "        textcolor='r' if tags_df.loc[term,'count']<=1 else 'k'\n",
    "        ax.bar_label(rect,padding=3,labels=[term],color=textcolor)\n",
    "ax.set_ylim(len(categories),-.5)\n",
    "ax.set_xlim([0,35])\n",
    "ax.set_xlabel('Counts')\n",
    "ax.set_yticks(range(len(categories)))\n",
    "ax.set_yticklabels(categories.keys())\n",
    "\n",
    "fig.savefig('tag_stat.png')"
   ]
  },
  {
   "cell_type": "code",
   "execution_count": 3,
   "metadata": {},
   "outputs": [
    {
     "name": "stdout",
     "output_type": "stream",
     "text": [
      "## continuum, first-quantized, hartree\n",
      "### Preamble\n",
      "\n",
      "### Hamiltonian construction\n",
      "\n",
      "### Mean-field theory\n",
      "\n",
      "### Simplify the MF quadratic term\n",
      "\n",
      "## continuum, first-quantized, fock\n",
      "### Preamble\n",
      "\n",
      "### Hamiltonian construction\n",
      "\n",
      "### Mean-field theory\n",
      "\n",
      "### Simplify the MF quadratic term\n",
      "\n",
      "## continuum, first-quantized, hartree-fock\n",
      "### Preamble\n",
      "\n",
      "### Hamiltonian construction\n",
      "\n",
      "### Mean-field theory\n",
      "\n",
      "### Simplify the MF quadratic term\n",
      "\n",
      "## continuum, second-quantized, hartree\n",
      "### Preamble\n",
      "\n",
      "### Hamiltonian construction\n",
      "\n",
      "### Mean-field theory\n",
      "\n",
      "### Simplify the MF quadratic term\n",
      "\n",
      "## continuum, second-quantized, fock\n",
      "### Preamble\n",
      "\n",
      "### Hamiltonian construction\n",
      "\n",
      "### Mean-field theory\n",
      "\n",
      "### Simplify the MF quadratic term\n",
      "\n",
      "## continuum, second-quantized, hartree-fock\n",
      "### Preamble\n",
      "\n",
      "### Hamiltonian construction\n",
      "\n",
      "### Mean-field theory\n",
      "\n",
      "### Simplify the MF quadratic term\n",
      "\n",
      "## lattice, first-quantized, hartree\n",
      "### Preamble\n",
      "\n",
      "### Hamiltonian construction\n",
      "\n",
      "### Mean-field theory\n",
      "\n",
      "### Simplify the MF quadratic term\n",
      "\n",
      "## lattice, first-quantized, fock\n",
      "### Preamble\n",
      "\n",
      "### Hamiltonian construction\n",
      "\n",
      "### Mean-field theory\n",
      "\n",
      "### Simplify the MF quadratic term\n",
      "\n",
      "## lattice, first-quantized, hartree-fock\n",
      "### Preamble\n",
      "\n",
      "### Hamiltonian construction\n",
      "\n",
      "### Mean-field theory\n",
      "\n",
      "### Simplify the MF quadratic term\n",
      "\n",
      "## lattice, second-quantized, hartree\n",
      "### Preamble\n",
      "\n",
      "### Hamiltonian construction\n",
      "\n",
      "### Mean-field theory\n",
      "\n",
      "### Simplify the MF quadratic term\n",
      "\n",
      "## lattice, second-quantized, fock\n",
      "### Preamble\n",
      "\n",
      "### Hamiltonian construction\n",
      "\n",
      "### Mean-field theory\n",
      "\n",
      "### Simplify the MF quadratic term\n",
      "\n",
      "## lattice, second-quantized, hartree-fock\n",
      "### Preamble\n",
      "\n",
      "### Hamiltonian construction\n",
      "\n",
      "### Mean-field theory\n",
      "\n",
      "### Simplify the MF quadratic term\n",
      "\n"
     ]
    }
   ],
   "source": [
    "for x1 in ['continuum', 'lattice']:\n",
    "    for x2 in ['first-quantized', 'second-quantized']:\n",
    "        for x3 in ['hartree', 'fock', 'hartree-fock']:\n",
    "            print(f'## {x1}, {x2}, {x3}')\n",
    "            print(f'### Preamble\\n')\n",
    "            print(f'### Hamiltonian construction\\n')\n",
    "            print(f'### Mean-field theory\\n')\n",
    "            print(f'### Simplify the MF quadratic term\\n')"
   ]
  },
  {
   "cell_type": "code",
   "execution_count": 5,
   "metadata": {},
   "outputs": [
    {
     "name": "stdout",
     "output_type": "stream",
     "text": [
      "e1-->e2\n",
      "e2-->e3\n",
      "e3-->e4\n",
      "e4-->e5\n",
      "e5-->e6\n",
      "e6-->e7\n",
      "e7-->e8\n",
      "e8-->e9\n",
      "e9-->e10\n"
     ]
    }
   ],
   "source": [
    "for i in range(1,10):\n",
    "    print(f'e{i}-->e{i+1}')"
   ]
  },
  {
   "cell_type": "markdown",
   "metadata": {},
   "source": [
    "# Download tex source from arxiv"
   ]
  },
  {
   "cell_type": "code",
   "execution_count": 2,
   "metadata": {},
   "outputs": [],
   "source": [
    "import os\n",
    "import tarfile\n",
    "import tempfile\n",
    "import requests\n",
    "from bs4 import BeautifulSoup"
   ]
  },
  {
   "cell_type": "code",
   "execution_count": 11,
   "metadata": {},
   "outputs": [],
   "source": [
    "def get_tex(arxiv_number):\n",
    "    hyperlink=f'https://arxiv.org/e-print/{arxiv_number}'\n",
    "    with tempfile.TemporaryDirectory() as tmp_dir:\n",
    "        tar_path = os.path.join(tmp_dir, 'file.tar')\n",
    "        download_file(hyperlink, tar_path)\n",
    "        # untar the file and find the .tex file\n",
    "        tex_file_path = untar_and_save(tmp_dir, tar_path)\n",
    "        \n",
    "        if tex_file_path is False:\n",
    "            return False\n",
    "\n",
    "        saved_path = os.path.join(f'{arxiv_number}', f'{arxiv_number}.tex')\n",
    "\n",
    "        with open(saved_path, 'wb') as f_out, open(tex_file_path, 'rb') as f_in:\n",
    "            f_out.write(f_in.read())\n",
    "        print(f'Saved {arxiv_number} to disk at path: {saved_path}')\n",
    "        \n",
    "\n",
    "\n",
    "    # download_file(url,)\n",
    "    # assert number of tex ==1\n",
    "    "
   ]
  },
  {
   "cell_type": "code",
   "execution_count": 12,
   "metadata": {},
   "outputs": [
    {
     "name": "stdout",
     "output_type": "stream",
     "text": [
      "Saved 2111.01152 to disk at path: 2111.01152/2111.01152.tex\n"
     ]
    }
   ],
   "source": [
    "get_tex('2111.01152')"
   ]
  },
  {
   "cell_type": "code",
   "execution_count": 13,
   "metadata": {},
   "outputs": [
    {
     "name": "stdout",
     "output_type": "stream",
     "text": [
      "Saved 2108.02159 to disk at path: 2108.02159/2108.02159.tex\n"
     ]
    }
   ],
   "source": [
    "get_tex('2108.02159')"
   ]
  },
  {
   "cell_type": "code",
   "execution_count": 14,
   "metadata": {},
   "outputs": [
    {
     "name": "stdout",
     "output_type": "stream",
     "text": [
      "Saved 2004.04168 to disk at path: 2004.04168/2004.04168.tex\n"
     ]
    }
   ],
   "source": [
    "get_tex('2004.04168')"
   ]
  },
  {
   "cell_type": "code",
   "execution_count": 16,
   "metadata": {},
   "outputs": [
    {
     "name": "stdout",
     "output_type": "stream",
     "text": [
      "Saved 1812.04213 to disk at path: 1812.04213/1812.04213.tex\n"
     ]
    }
   ],
   "source": [
    "get_tex('1812.04213')"
   ]
  },
  {
   "cell_type": "code",
   "execution_count": 17,
   "metadata": {},
   "outputs": [
    {
     "name": "stdout",
     "output_type": "stream",
     "text": [
      "Saved 1106.6060 to disk at path: 1106.6060/1106.6060.tex\n"
     ]
    }
   ],
   "source": [
    "get_tex('1106.6060')"
   ]
  },
  {
   "cell_type": "code",
   "execution_count": null,
   "metadata": {},
   "outputs": [],
   "source": []
  },
  {
   "cell_type": "code",
   "execution_count": 5,
   "metadata": {},
   "outputs": [],
   "source": [
    "def download_file(url, path):\n",
    "    response = requests.get(url, stream=True)\n",
    "    if response.status_code == 200:\n",
    "        with open(path, 'wb') as f:\n",
    "            for chunk in response.iter_content(chunk_size=8192):\n",
    "                if chunk:\n",
    "                    f.write(chunk)\n",
    "    else:\n",
    "        raise Exception(f'Failed to download file. Status code: {response.status_code}')"
   ]
  },
  {
   "cell_type": "code",
   "execution_count": 6,
   "metadata": {},
   "outputs": [],
   "source": [
    "def untar_and_save(tex_file_dir, tar_path):\n",
    "    try:\n",
    "        with tarfile.open(tar_path) as tar:\n",
    "            tar.extractall(path=tex_file_dir)\n",
    "    except:\n",
    "        print(f'Cannot open {tar_path}')\n",
    "        return False\n",
    "    for filename in os.listdir(tex_file_dir):\n",
    "        if filename.endswith('.tex'):\n",
    "            return os.path.join(tex_file_dir, filename)\n",
    "    raise Exception('No .tex file found in the .tar file.')"
   ]
  },
  {
   "cell_type": "code",
   "execution_count": null,
   "metadata": {},
   "outputs": [],
   "source": []
  },
  {
   "cell_type": "code",
   "execution_count": null,
   "metadata": {},
   "outputs": [],
   "source": []
  },
  {
   "cell_type": "code",
   "execution_count": null,
   "metadata": {},
   "outputs": [],
   "source": [
    "def process_url(url, filename,hyperlink=None):\n",
    "    # find the hyperlink as described before\n",
    "    if hyperlink is None:\n",
    "        hyperlink = find_hyperlink(url)\n",
    "    if hyperlink == 'No Other':\n",
    "        print(f'No hyperlink found for {filename}.')\n",
    "\n",
    "        return False\n",
    "\n",
    "    # download the tar file into a temporary directory\n",
    "    with tempfile.TemporaryDirectory() as tmp_dir:\n",
    "        tar_path = os.path.join(tmp_dir, 'file.tar')\n",
    "        download_file(hyperlink, tar_path)\n",
    "\n",
    "        # untar the file and find the .tex file\n",
    "        tex_file_path = untar_and_save(tmp_dir, tar_path)\n",
    "\n",
    "        if tex_file_path is False:\n",
    "            return False\n",
    "\n",
    "        # save the .tex file to the ./Data/tex/ directory\n",
    "        os.makedirs('./Data/tex', exist_ok=True)\n",
    "        saved_path = os.path.join('./Data/tex', filename)\n",
    "        with open(saved_path, 'wb') as f_out, open(tex_file_path, 'rb') as f_in:\n",
    "            f_out.write(f_in.read())\n",
    "        print(f'Saved {filename} to disk at path: {saved_path}')\n",
    "        tar_path = os.path.join(tmp_dir, 'file.tar')\n",
    "        download_file(hyperlink, tar_path)\n",
    "\n",
    "        return True"
   ]
  }
 ],
 "metadata": {
  "kernelspec": {
   "display_name": "base",
   "language": "python",
   "name": "python3"
  },
  "language_info": {
   "codemirror_mode": {
    "name": "ipython",
    "version": 3
   },
   "file_extension": ".py",
   "mimetype": "text/x-python",
   "name": "python",
   "nbconvert_exporter": "python",
   "pygments_lexer": "ipython3",
   "version": "3.8.11"
  },
  "orig_nbformat": 4
 },
 "nbformat": 4,
 "nbformat_minor": 2
}
