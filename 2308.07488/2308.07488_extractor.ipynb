{
 "cells": [
  {
   "cell_type": "code",
   "execution_count": 21,
   "metadata": {},
   "outputs": [],
   "source": [
    "import openai\n",
    "import pandas as pd\n",
    "import json\n",
    "import yaml\n",
    "from IPython.display import Markdown\n",
    "import sys\n",
    "import yaml\n",
    "from tqdm import tqdm"
   ]
  },
  {
   "cell_type": "code",
   "execution_count": 22,
   "metadata": {},
   "outputs": [],
   "source": [
    "zz=openai.Model.list()"
   ]
  },
  {
   "cell_type": "code",
   "execution_count": 23,
   "metadata": {},
   "outputs": [
    {
     "data": {
      "text/plain": [
       "62"
      ]
     },
     "execution_count": 23,
     "metadata": {},
     "output_type": "execute_result"
    }
   ],
   "source": [
    "len(zz['data'])"
   ]
  },
  {
   "cell_type": "code",
   "execution_count": 24,
   "metadata": {},
   "outputs": [],
   "source": [
    "model_params = {\n",
    "    'model': \"gpt-4\",\n",
    "    'temperature': 0,\n",
    "}"
   ]
  },
  {
   "cell_type": "code",
   "execution_count": 25,
   "metadata": {},
   "outputs": [],
   "source": [
    "def print_save(string, file='../cmp2.md'):\n",
    "    print(string)\n",
    "    with open(file,'w') as f:\n",
    "        f.write(string)"
   ]
  },
  {
   "cell_type": "markdown",
   "metadata": {},
   "source": [
    "## Load prompt_template.md"
   ]
  },
  {
   "cell_type": "code",
   "execution_count": 26,
   "metadata": {},
   "outputs": [],
   "source": [
    "sys.path.append('..')\n",
    "from utils import *\n",
    "from functools import partial"
   ]
  },
  {
   "cell_type": "code",
   "execution_count": 27,
   "metadata": {},
   "outputs": [],
   "source": [
    "prompt_dict = partial(load_prompt_template,file='../prompt_template.md')"
   ]
  },
  {
   "cell_type": "code",
   "execution_count": 28,
   "metadata": {},
   "outputs": [
    {
     "data": {
      "text/plain": [
       "dict_keys(['Preamble', 'Problem-solver', 'Conversation summarizer', 'Construct Kinetic Hamiltonian (continuum version, single-particle)', 'Construct Kinetic Hamiltonian (continuum version, second-quantized)', 'Construct Kinetic Hamiltonian (lattice version)', 'Define each term in Kinetic Hamiltonian (continuum version)', 'Construct Potential Hamiltonian (continuum version)', 'Define each term in Potential Hamiltonian (continuum version)', 'Construct interaction Hamiltonian (real space, lattice version)', 'Construct interaction Hamiltonian (momentum space)', 'Convert from single-particle to second-quantized form, return in matrix', 'Convert from single-particle to second-quantized form, return in summation (expand the matrix)', 'Convert noninteracting Hamiltonian in real space to momentum space (continuum version)', 'Convert noninteracting Hamiltonian in real space to momentum space (lattice version)', 'Convert interacting Hamiltonian in real space to momentum space (lattice version)', 'Particle-hole transformation', 'Simplify the Hamiltonian in the particle-hole basis', \"Wick's theorem\", 'Extract quadratic term', 'Hartree term only', 'Fock term only', 'Expand interaction', 'Swap the index only', 'Swap the index to combine Hartree and Fock terms', 'Reduce momentum in Hartree term (momentum in BZ + reciprocal lattice)', 'Reduce momentum in Hartree term (momentum in BZ)', 'Reduce momentum in Fock term (momentum in BZ + reciprocal lattice)', 'Reduce momentum in Fock term (momentum in BZ)', 'Combine the Hartree and Fock term', 'Construct full Hamiltonian after HF', 'Mathematical simplify: inner product expansion', \"Mathematical simplify: Euler's formula\", 'Mathematical simplify: prosthaphaeresis', 'Mathematical simplify: Expand the product using Associative property', 'Mathematical simplify: Combine using Associative property', 'Mathematical simplify: reduce index'])"
      ]
     },
     "execution_count": 28,
     "metadata": {},
     "output_type": "execute_result"
    }
   ],
   "source": [
    "prompt_dict().keys()"
   ]
  },
  {
   "cell_type": "code",
   "execution_count": null,
   "metadata": {},
   "outputs": [],
   "source": []
  },
  {
   "cell_type": "markdown",
   "metadata": {},
   "source": [
    "# Prompt fill place holder"
   ]
  },
  {
   "cell_type": "code",
   "execution_count": 29,
   "metadata": {},
   "outputs": [],
   "source": [
    "import json"
   ]
  },
  {
   "cell_type": "code",
   "execution_count": 30,
   "metadata": {},
   "outputs": [],
   "source": [
    "pwd=os.getcwd()"
   ]
  },
  {
   "cell_type": "code",
   "execution_count": 31,
   "metadata": {},
   "outputs": [],
   "source": [
    "arxiv_number=pwd.split('/')[-1]"
   ]
  },
  {
   "cell_type": "code",
   "execution_count": 35,
   "metadata": {},
   "outputs": [],
   "source": [
    "with open(f'{arxiv_number}.yaml','r') as f:\n",
    "    kwargs_yaml = yaml.safe_load(f)\n",
    "# with open(f'{arxiv_number}.jsonl','r') as f:\n",
    "#     kwargs_jsonl= [json.loads(line) for line in f]"
   ]
  },
  {
   "cell_type": "code",
   "execution_count": 36,
   "metadata": {},
   "outputs": [],
   "source": [
    "def load_excerpt(sources):\n",
    "    excerpt=''\n",
    "    for tex, lines in sources.items():\n",
    "        with open(tex,'r') as f:\n",
    "            f_list=list(f)\n",
    "            for line in lines:\n",
    "                excerpt=excerpt+''.join(f_list[line[0]:line[1]])\n",
    "    return excerpt"
   ]
  },
  {
   "cell_type": "code",
   "execution_count": 37,
   "metadata": {},
   "outputs": [],
   "source": [
    "prompt_system='''I will provide you a Excerpt of physics paper, and a Template. You will need to fill the placeholders in the template using the correct information from the excerpt.\n",
    "Here are conventions: \n",
    "{..} means a placeholder which you need to fill by extracting information from the excerpt.\n",
    "{A|B} means you need to make a choice between A and B\n",
    "[..] means optional sentence. You should decide whether to use it depending on the excerpt.\n",
    "{{..}} DOES NOT mean a placeholder. You should not change the content inside double curly braces {{..}}.\n",
    "`You should recall that {expression_second_nonint}.` : this sentence should be kept as is.\n",
    "\n",
    "\n",
    "Finally, if you cannot figure out the placeholder, you should leave it as is.'''"
   ]
  },
  {
   "cell_type": "code",
   "execution_count": 38,
   "metadata": {},
   "outputs": [],
   "source": [
    "def drop_text_after(string):\n",
    "    string_new=''\n",
    "    for line in string.split('\\n'):\n",
    "        if '===' in line:\n",
    "            break\n",
    "        else:\n",
    "            if 'You should recall that' not in line:\n",
    "                string_new='\\n'.join([string_new,line])\n",
    "    return string_new[1:]\n"
   ]
  },
  {
   "cell_type": "code",
   "execution_count": 39,
   "metadata": {},
   "outputs": [],
   "source": [
    "def extractor(descriptor,message=False):\n",
    "    sys_msg=[{'role': 'system', 'content': prompt_system}]\n",
    "    question_prompt='\\nTemplate:\\n {template} \\n\\n Excerpt:\\n {excerpt}'.format(template=drop_text_after(prompt_dict()[descriptor['task']]), excerpt=load_excerpt(descriptor['source']))\n",
    "    user_msg=[{'role':'user','content':question_prompt}]\n",
    "    messages = sys_msg + user_msg\n",
    "    if message:\n",
    "        return sys_msg[0]['content']+user_msg[0]['content']\n",
    "    rs= openai.ChatCompletion.create(messages=messages, **model_params)\n",
    "    response=rs['choices'][0]['message'].content\n",
    "    return response\n"
   ]
  },
  {
   "cell_type": "markdown",
   "metadata": {},
   "source": [
    "## GPT4"
   ]
  },
  {
   "cell_type": "code",
   "execution_count": 40,
   "metadata": {},
   "outputs": [
    {
     "name": "stderr",
     "output_type": "stream",
     "text": [
      "100%|██████████| 16/16 [10:54<00:00, 40.88s/it]\n"
     ]
    }
   ],
   "source": [
    "string=''\n",
    "for kwargs in tqdm(kwargs_yaml):\n",
    "    string+='# '+kwargs['task']+'\\n'\n",
    "    response=(extractor(kwargs, message=False))\n",
    "    string+=response+'\\n\\n'\n",
    "    \n",
    "    "
   ]
  },
  {
   "cell_type": "code",
   "execution_count": 41,
   "metadata": {},
   "outputs": [
    {
     "name": "stdout",
     "output_type": "stream",
     "text": [
      "# Construct Kinetic Hamiltonian (continuum version, single-particle)\n",
      "You will be instructed to describe the kinetic term of Hamiltonian in the system in the real space in the second-quantized form.   \n",
      "The degrees of freedom of the system are: intralayer and interlayer moiré potentials, moiré reciprocal lattice vectors, mBZ corners, effective mass, and out-of-plane electric field.  \n",
      "Express the Kinetic Hamiltonian H_K using variables which are only on the diagonal terms, and arrange the basis in the order of the matrix provided. Note that the sublattice degrees of freedom is suppressed for now and will be stated later.\n",
      "\n",
      "Use the following conventions for the symbols:  \n",
      "- $\\Delta_{b/t}$ represents the intralayer and interlayer moiré potentials\n",
      "- $\\bm{G}_i$ represents the moiré reciprocal lattice vectors\n",
      "- $\\bm{\\kappa}_+$ and $\\bm{\\kappa}_-$ represent the mBZ corners\n",
      "- $m^*$ represents the effective mass\n",
      "- $\\Delta_D$ represents the layer-differentiating potential proportional to the out-of-plane electric field.\n",
      "\n",
      "# Define each term in Kinetic Hamiltonian (continuum version)\n",
      "You will be instructed to construct each term, namely $-\\frac{\\hbar^2(\\bm{k}-\\bm{\\kappa}_+)^2}{2m^*} + \\Delta_b(\\bm{r})$ and $-\\frac{\\hbar^2(\\bm{k}-\\bm{\\kappa}_-)^2}{2m^*} + \\Delta_t(\\bm{r})$.  \n",
      "For all energy dispersions, $-\\frac{\\hbar^2(\\bm{k}-\\bm{\\kappa}_+)^2}{2m^*} + \\Delta_b(\\bm{r})$ and $-\\frac{\\hbar^2(\\bm{k}-\\bm{\\kappa}_-)^2}{2m^*} + \\Delta_t(\\bm{r})$, it characterizes the parabolic dispersion for electrons.   \n",
      "In addition, a shift of $\\bm{\\kappa}_+$ and $\\bm{\\kappa}_-$ in the momentum $\\bm{k}$ for $-\\frac{\\hbar^2(\\bm{k}-\\bm{\\kappa}_+)^2}{2m^*} + \\Delta_b(\\bm{r})$ and $-\\frac{\\hbar^2(\\bm{k}-\\bm{\\kappa}_-)^2}{2m^*} + \\Delta_t(\\bm{r})$, respectively.  \n",
      "You should follow the EXAMPLE below to obtain the correct energy dispersion, select the correct EXAMPLE by noticing the type of dispersion.  \n",
      "Finally, in the real space, the momentum $\\bm{k}=-i \\partial_{\\bm{r}}$. You should keep the form of $\\bm{k}$ in the Hamiltonian for short notations but should remember $\\bm{k}$ is an operator.  \n",
      "Return the expression for $-\\frac{\\hbar^2(\\bm{k}-\\bm{\\kappa}_+)^2}{2m^*} + \\Delta_b(\\bm{r})$ and $-\\frac{\\hbar^2(\\bm{k}-\\bm{\\kappa}_-)^2}{2m^*} + \\Delta_t(\\bm{r})$ in the Kinetic Hamiltonian, and substitute it into the Kinetic Hamiltonian $H_K$.  \n",
      "\n",
      "Use the following conventions for the symbols (You should also obey the conventions in all my previous prompts if you encounter undefined symbols. If you find it is never defined or has conflicts in the conventions, you should stop and let me know):  \n",
      "$\\bm{k}$ is the momentum, $\\bm{\\kappa}_+$ and $\\bm{\\kappa}_-$ are the mBZ corners, $m^*$ is the effective mass and is taken as $0.6 m_e$, where $m_e$ is the free electron mass, $\\Delta_b(\\bm{r})$ and $\\Delta_t(\\bm{r})$ are the intralayer and interlayer moir\\'e potentials, respectively, $\\bm{G}_i$ are moir\\'e reciprocal lattice vectors with $a_M$ being the moir\\'e lattice constant, $\\Delta_D$ is the layer-differentiating potential included in $H_K$ to take into account the out-of-plane electric field.\n",
      "\n",
      "# Construct Potential Hamiltonian (continuum version)\n",
      "You will be instructed to describe the potential term of Hamiltonian $H_K$ in the real space in the second-quantized form.  \n",
      "The potential Hamiltonian has the same degrees of freedom as the kinetic Hamiltonian. The diagonal terms are $\\Delta_b(\\bm{r})$ and $\\Delta_t(\\bm{r})$.  \n",
      "The off-diagonal terms are the coupling between the intralayer and interlayer moir\\'e potentials, $\\Delta_T(\\bm{r})$ and $\\Delta_T^{\\dagger}(\\bm{r})$, which should be kept hermitian.  \n",
      "All other terms are zero.\n",
      "Express the potential Hamiltonian $H_K$ using $\\Delta_b(\\bm{r})$, $\\Delta_t(\\bm{r})$, $\\Delta_T(\\bm{r})$ and $\\Delta_T^{\\dagger}(\\bm{r})$.  \n",
      "\n",
      "Use the following conventions for the symbols (You should also obey the conventions in all my previous prompts if you encounter undefined symbols. If you find it is never defined or has conflicts in the conventions, you should stop and let me know):  \n",
      "The intralayer and interlayer moir\\'e potentials are $\\Delta_{b/t}=2V\\sum_{i=1,3,5}\\cos(\\bm{G}_i\\cdot\\bm{r}\\pm\\phi)$ and $\\Delta_T = w(1+e^{-i \\bm{G}_2 \\cdot \\bm{r}} + e^{-i \\bm{G}_3 \\cdot \\bm{r}})$, respectively. $\\bm{G}_i = \\frac{4\\pi}{\\sqrt{3} a_M }(\\cos\\frac{i-1}{3}\\pi, \\sin\\frac{i-1}{3}\\pi)$ are moir\\'e reciprocal lattice vectors with $a_M$ being the moir\\'e lattice constant. $\\bm{\\kappa}_+ = 2\\bm{G}_1 / 3 - \\bm{G}_2 / 3$ and $\\bm{\\kappa}_- = \\bm{G}_1 / 3 + \\bm{G}_2 / 3$ are the mBZ corners. $m^*$ is the effective mass and is taken as $0.6 m_e$, where $m_e$ is the free electron mass. Layer-differentiating potential proportional to $\\Delta_D$ is included in $H_K$ to take into account the out-of-plane electric field. For $K'$ valley, the continuum model Hamiltonian can be deduced by acting time reversal operator on $H_K$.\n",
      "\n",
      "# Define each term in Potential Hamiltonian (continuum version)\n",
      "You will be instructed to construct each term $H_K$, namely, $\\Delta_{b/t}$, $\\Delta_T$, and $\\Delta_D$.  \n",
      "The expression for diagonal terms are: $-\\frac{\\hbar^2(\\bm{k}-\\bm{\\kappa}_+)^2}{2m^*} + \\Delta_b(\\bm{r})$ and $-\\frac{\\hbar^2(\\bm{k}-\\bm{\\kappa}_-)^2}{2m^*} + \\Delta_t(\\bm{r})$.  \n",
      "The expression for off-diagonal terms are: $\\Delta_T(\\bm{r})$ and $\\Delta_T^{\\dagger}(\\bm{r})$.  \n",
      "Return the expressions for $\\Delta_{b/t}$, $\\Delta_T$, and $\\Delta_D$, and substitute it into the potential Hamiltonian $H_K$.  \n",
      "\n",
      "Use the following conventions for the symbols (You should also obey the conventions in all my previous prompts if you encounter undefined symbols. If you find it is never defined or has conflicts in the conventions, you should stop and let me know):  \n",
      "$\\Delta_{b/t}=2V\\sum_{i=1,3,5}\\cos(\\bm{G}_i\\cdot\\bm{r}\\pm\\phi)$, $\\Delta_T = w(1+e^{-i \\bm{G}_2 \\cdot \\bm{r}} + e^{-i \\bm{G}_3 \\cdot \\bm{r}})$, $\\bm{G}_i = \\frac{4\\pi}{\\sqrt{3} a_M }(\\cos\\frac{i-1}{3}\\pi, \\sin\\frac{i-1}{3}\\pi)$, $\\bm{\\kappa}_+ = 2\\bm{G}_1 / 3 - \\bm{G}_2 / 3$, $\\bm{\\kappa}_- = \\bm{G}_1 / 3 + \\bm{G}_2 / 3$, $m^* = 0.6 m_e$, and $\\Delta_D$ is the layer-differentiating potential.\n",
      "\n",
      "# Convert from single-particle to second-quantized form, return in matrix\n",
      "You will be instructed to construct the second quantized form of the total noninteracting Hamiltonian in the momentum space.  \n",
      "The noninteracting Hamiltonian in the momentum space $H_K$ is the sum of Kinetic Hamiltonian $-\\frac{\\hbar^2(\\bm{k}-\\bm{\\kappa}_+)^2}{2m^*} + \\Delta_b(\\bm{r})$ and Potential Hamiltonian $\\Delta_T(\\bm{r})$.  \n",
      "To construct the second quantized form of a Hamiltonian. You should construct the creation and annihilation operators from the basis explicitly. You should follow the EXAMPLE below to convert a Hamiltonian from the single-particle form to second-quantized form.  \n",
      "Finally by \"total\", it means you need to take a summation over the momentum space position $k$.   \n",
      "Return the second quantized form of the total noninteracting Hamiltonian {second_nonint_symbol}  \n",
      "\n",
      "Use the following conventions for the symbols (You should also obey the conventions in all my previous prompts if you encounter undefined symbols. If you find it is never defined or has conflicts in the conventions, you should stop and let me know):  \n",
      "$H_K$ is the noninteracting Hamiltonian in the momentum space, $-\\frac{\\hbar^2(\\bm{k}-\\bm{\\kappa}_+)^2}{2m^*} + \\Delta_b(\\bm{r})$ is the Kinetic Hamiltonian, $\\Delta_T(\\bm{r})$ is the Potential Hamiltonian, and $k$ is the momentum space position.\n",
      "\n",
      "# Convert from single-particle to second-quantized form, return in summation (expand the matrix)\n",
      "You will be instructed to expand the second-quantized form Hamiltonian $H_K$ using $\\Delta_{b/t}$, $\\Delta_T$, $\\Delta_D$, and $\\bm{G}_i$. You should follow the EXAMPLE below to expand the Hamiltonian.  \n",
      "You should use any previous knowledge to simplify it. For example, if any term of $\\Delta_{b/t}$, $\\Delta_T$, $\\Delta_D$, and $\\bm{G}_i$ is zero, you should remove it from the summation.\n",
      "Return the expanded form of $H_K$ after simplification.  \n",
      "\n",
      "Use the following conventions for the symbols (You should also obey the conventions in all my previous prompts if you encounter undefined symbols. If you find it is never defined or has conflicts in the conventions, you should stop and let me know):  \n",
      "The intralayer and interlayer moiré potentials are represented by $\\Delta_{b/t}=2V\\sum_{i=1,3,5}\\cos(\\bm{G}_i\\cdot\\bm{r}\\pm\\phi)$ and $\\Delta_T = w(1+e^{-i \\bm{G}_2 \\cdot \\bm{r}} + e^{-i \\bm{G}_3 \\cdot \\bm{r}})$, respectively. $\\bm{G}_i = \\frac{4\\pi}{\\sqrt{3} a_M }(\\cos\\frac{i-1}{3}\\pi, \\sin\\frac{i-1}{3}\\pi)$ are moiré reciprocal lattice vectors with $a_M$ being the moiré lattice constant. $\\bm{\\kappa}_+ = 2\\bm{G}_1 / 3 - \\bm{G}_2 / 3$ and $\\bm{\\kappa}_- = \\bm{G}_1 / 3 + \\bm{G}_2 / 3$ are the mBZ corners. $m^*$ is the effective mass and is taken as $0.6 m_e$, where $m_e$ is the free electron mass. Layer-differentiating potential proportional to $\\Delta_D$ is included in $H_K$ to take into account the out-of-plane electric field.\n",
      "\n",
      "# Convert noninteracting Hamiltonian in real space to momentum space (continuum version)\n",
      "Template:\n",
      "You will be instructed to convert the total noninteracting Hamiltonian in the second quantized form from the basis in real space to the basis by momentum space.  \n",
      "To do that, you should apply the Fourier transform to {real_creation_op} in the real space to the {momentum_creation_op} in the momentum space, which is defined as {definition_of_Fourier_Transformation}, where {real_variable} is integrated over the {entire_real|first_Brillouin_Zone}. You should follow the EXAMPLE below to apply the Fourier transform.  \n",
      "Express the total noninteracting Hamiltonian {second_nonint_symbol} in terms of {momentum_creation_op}. Simplify any summation index if possible.  \n",
      "\n",
      "Use the following conventions for the symbols (You should also obey the conventions in all my previous prompts if you encounter undefined symbols. If you find it is never defined or has conflicts in the conventions, you should stop and let me know):  \n",
      "{definition_of_variables}\n",
      " \n",
      "\n",
      "Excerpt:\n",
      "\\begin{equation}\\label{eq:continuum_ham}\n",
      "\\begin{aligned}\n",
      "H_K = & \\left(\n",
      "    \\begin{matrix}\n",
      "        -\\frac{\\hbar^2(\\bm{k}-\\bm{\\kappa}_+)^2}{2m^*} + \\Delta_b(\\bm{r})  & \\Delta_T(\\bm{r}) \\\\\n",
      "        \\Delta_T^{\\dagger}(\\bm{r}) & -\\frac{\\hbar^2(\\bm{k}-\\bm{\\kappa}_-)^2}{2m^*} + \\Delta_t(\\bm{r})\n",
      "    \\end{matrix}\n",
      "\\right) \\\\ \n",
      "& + \\frac{1}{2}\\left(\\begin{matrix}\n",
      "    \\Delta_D & 0 \\\\\n",
      "        0 & -\\Delta_D\n",
      "    \\end{matrix}\\right),\n",
      "\\end{aligned}\n",
      "\\end{equation}\n",
      "where the intralayer and interlayer moir\\'e potentials are $\\Delta_{b/t}=2V\\sum_{i=1,3,5}\\cos(\\bm{G}_i\\cdot\\bm{r}\\pm\\phi)$ and $\\Delta_T = w(1+e^{-i \\bm{G}_2 \\cdot \\bm{r}} + e^{-i \\bm{G}_3 \\cdot \\bm{r}})$, respectively. $\\bm{G}_i = \\frac{4\\pi}{\\sqrt{3} a_M }(\\cos\\frac{i-1}{3}\\pi, \\sin\\frac{i-1}{3}\\pi)$ are moir\\'e reciprocal lattice vectors with $a_M$ being the moir\\'e lattice constant. $\\bm{\\kappa}_+ = 2\\bm{G}_1 / 3 - \\bm{G}_2 / 3$ and $\\bm{\\kappa}_- = \\bm{G}_1 / 3 + \\bm{G}_2 / 3$ are the mBZ corners. $m^*$ is the effective mass and is taken as $0.6 m_e$, where $m_e$ is the free electron mass. Layer-differentiating potential proportional to $\\Delta_D$ is included in $H_K$ to take into account the out-of-plane electric field. For $K'$ valley, the continuum model Hamiltonian can be deduced by acting time reversal operator on $H_K$.\n",
      "\n",
      "# Construct interaction Hamiltonian (momentum space)\n",
      "You will be instructed to construct the interaction part of the Hamiltonian $H_{\\rm int}$ in the momentum space.  \n",
      "The interaction Hamiltonian is a product of four parts.\n",
      "The first part is the product of four operators with two creation and two annihilation operators following the normal order, namely, creation operators are before annihilation operators. You should follow the order of $l, l', \\tau, \\tau'$ for the index_of_operator, and $\\bm{k}, \\bm{k}', \\bm{q}$ for the momentum. \n",
      "The second part is the constraint of total momentum conservation, namely the total momentum of all creation operators should be the same as that of all annihilation operators.  \n",
      "The third part is the interaction form. You should use Coulomb interaction with $V_{ll'}(\\bm{q}) = \\frac{e^2}{2\\epsilon\\epsilon_0 |\\bm{q}|} \\left[\\tanh(d_{\\rm gate}|\\bm{q}|) + (1-\\delta_{ll'})(e^{-d |\\bm{q}|}-1)\\right]$ where $q$ is the transferred total momentum between a creation operator and an annihilation operator with the same index_of_operator, namely $q=k_1-k_4$.  \n",
      "The fourth part is the normalization factor, you should use $\\frac{1}{2A}$ here.\n",
      "Finally, the summation should be running over all index_of_operator, and momentum\n",
      "Return the interaction term $H_{\\rm int}$ in terms of $c_{l \\tau \\bm{k}+\\bm{q}}^{\\dagger}$, $c_{l' \\tau' \\bm{k}' -\\bm{q}}^{\\dagger}$, $c_{l' \\tau' \\bm{k}'}$ and $c_{l \\tau\\bm{k}}$ and $V_{ll'}(\\bm{q})$ (with $q$ expressed in terms of momentum).  \n",
      "\n",
      "Use the following conventions for the symbols (You should also obey the conventions in all my previous prompts if you encounter undefined symbols. If you find it is never defined or has conflicts in the conventions, you should stop and let me know):  \n",
      "$A$ is the area of the system, $l$ and $l'$ label layers and $\\tau$ and $\\tau'$ label valleys. $\\epsilon$ is the relative dielectric constant, $\\epsilon_0$ is the vacuum permittivity, $d_{\\rm gate}$ is the distance between the sample and the symmetric metal gate, and $d$ is the distance between the two monolayers.\n",
      "\n",
      "# Wick's theorem\n",
      "You will be instructed to perform a Hartree-Fock approximation to expand the interaction term, $H_{\\rm int}$.  \n",
      "You should use Wick's theorem to expand the four-fermion term in $H_{\\rm int}$ into quadratic terms. You should strictly follow the EXAMPLE below to expand using Wick's theorem, select the correct EXAMPLE by noticing the order of four-term product with and without ${{}}^\\dagger$, and be extremely cautious about the order of the index and sign before each term.  \n",
      "You should only preserve the normal terms. Here, the normal terms mean the product of a creation operator and an annihilation operator.  \n",
      "Return the expanded interaction term after Hartree-Fock approximation as {Hartree_Fock_symbol}.\n",
      "\n",
      "Use the following conventions for the symbols (You should also obey the conventions in all my previous prompts if you encounter undefined symbols. If you find it is never defined or has conflicts in the conventions, you should stop and let me know):  \n",
      "$H_{\\rm int}$ is the interaction term, $A$ is the area of the system, $l$ and $l'$ label layers, $\\tau$ and $\\tau'$ label valleys, $\\bm{k}$, $\\bm{k}'$, and $\\bm{q}$ are wave vectors, $V_{ll'}(\\bm{q})$ is the Coulomb interaction, $c_{l \\tau \\bm{k}+\\bm{q}}^{\\dagger}$ and $c_{l' \\tau' \\bm{k}' -\\bm{q}}^{\\dagger}$ are creation operators, and $c_{l' \\tau' \\bm{k}'}$ and $c_{l \\tau\\bm{k}}$ are annihilation operators.\n",
      "\n",
      "# Extract quadratic term\n",
      "You will be instructed to extract the quadratic terms in the $H_{\\rm int}$.  \n",
      "The quadratic terms mean terms that are proportional to $c_{l \\tau \\bm{k}+\\bm{q}}^{\\dagger} c_{l' \\tau' \\bm{k}' -\\bm{q}}^{\\dagger} c_{l' \\tau' \\bm{k}'} c_{l \\tau\\bm{k}}$, which excludes terms that are solely expectations or products of expectations.  \n",
      "You should only preserve the quadratic terms in $H_{\\rm int}$, denoted as $H_{\\rm int}^{(2)}$.  \n",
      "Return $H_{\\rm int}^{(2)}$.  \n",
      "\n",
      "Use the following conventions for the symbols (You should also obey the conventions in all my previous prompts if you encounter undefined symbols. If you find it is never defined or has conflicts in the conventions, you should stop and let me know):  \n",
      "$H_{\\rm int}$ is the interaction Hamiltonian, $A$ is the area of the system, $l$ and $l'$ label layers, $\\tau$ and $\\tau'$ label valleys, $\\bm{k}$, $\\bm{k}'$, and $\\bm{q}$ are wave vectors, $V_{ll'}(\\bm{q})$ is the Coulomb interaction, $c_{l \\tau \\bm{k}+\\bm{q}}^{\\dagger}$ and $c_{l' \\tau' \\bm{k}' -\\bm{q}}^{\\dagger}$ are creation operators, and $c_{l' \\tau' \\bm{k}'}$ and $c_{l \\tau\\bm{k}}$ are annihilation operators.\n",
      "\n",
      "# Expand interaction\n",
      "You will be instructed to expand interaction term $V_{ll'}(\\bm{q})$ in the MF quadratic term $H_{\\rm int}$.\n",
      "If you find the $V_{ll'}(\\bm{q})$ in $H_{\\rm int}$ does not contain any momentum that is not in the summation sign. The interaction term is already expanded. No action to perform on interaction term.\n",
      "Otherwise, you will expand $V_{ll'}(\\bm{q})$ by replacing $\\bm{q}$ with the momentum $\\bm{k}$ and $\\bm{k}'$.\n",
      "Return $H_{\\rm int}$ with expanded interaction.\n",
      "\n",
      "# Swap the index to combine Hartree and Fock terms\n",
      "You will be instructed to simplify the quadratic term $H_{\\rm int}$ through relabeling the index to combine the two Hartree/Fock term into one Hartree/Fock term.  \n",
      "The logic is that the expected value in the first Hartree term has the same form as the quadratic operators in the second Hartree term, and vice versa. The same applies to the Fock term.  \n",
      "This means, if you relabel the index by swapping the index in the \"expected value\" and \"quadratic operators\" in the second Hartree term, you can make the second Hartree term look identical to the first Hartree term, as long as $V(q)=V(-q)$, which is naturally satisfied in Coulomb interaction. You should follow the EXAMPLE below to simplify it through relabeling the index.  \n",
      "You should perform this trick of \"relabeling the index\" for both two Hartree terms and two Fock terms to reduce them to one Hartree term, and one Fock term.  \n",
      "Return the simplified $H_{\\rm int}$ which reduces from four terms (two Hartree and two Fock terms) to only two terms (one Hartree and one Fock term).\n",
      "\n",
      "# Reduce momentum in Hartree term (momentum in BZ + reciprocal lattice)\n",
      "You will be instructed to simplify the Hartree term in $H_{\\rm int}$ by reducing the momentum inside the expected value $\\langle\\dots\\rangle$.  \n",
      "The expected value $\\langle\\dots\\rangle$ is only nonzero when the two momenta $k_i,k_j$ are the same, namely, $\\langle c_{l \\tau \\bm{k}+\\bm{q}}^{\\dagger} c_{l' \\tau' \\bm{k}' -\\bm{q}}^{\\dagger} c_{l' \\tau' \\bm{k}'} c_{l \\tau\\bm{k}}\\rangle$.  \n",
      "You should use the property of Kronecker delta function $\\delta_{{k_i,k_j}}$ to reduce one momentum $k_i$ but not $b_i$.\n",
      "Once you reduce one momentum inside the expected value $\\langle\\dots\\rangle$. You will also notice the total momentum conservation will reduce another momentum in the quadratic term. Therefore, you should end up with only two momenta left in the summation.  \n",
      "You should follow the EXAMPLE below to reduce one momentum in the Hartree term, and another momentum in the quadratic term.  \n",
      "Return the final simplified Hartree term $H_{\\rm int}$.\n",
      "\n",
      "# Reduce momentum in Fock term (momentum in BZ + reciprocal lattice)\n",
      "You will be instructed to simplify the Fock term in $H_{\\rm int}$ by reducing the momentum inside the expected value $\\langle\\dots\\rangle$.  \n",
      "The expected value $\\langle\\dots\\rangle$ is only nonzero when the two momenta $\\bm{k},\\bm{k}'$ are the same, namely, $\\langle\\dots\\rangle \\neq 0$.  \n",
      "You should use the property of Kronecker delta function $\\delta_{{\\bm{k},\\bm{k}'}}$ to reduce one momentum $\\bm{k}$ but not $\\bm{q}$.  \n",
      "Once you reduce one momentum inside the expected value $\\langle\\dots\\rangle$. You will also notice the total momentum conservation will reduce another momentum in the quadratic term. Therefore, you should end up with only two momenta left in the summation.\n",
      "You should follow the EXAMPLE below to reduce one momentum in the Fock term, and another momentum in the quadratic term.    \n",
      "Return the final simplified Fock term $H_{\\rm int}$.\n",
      "\n",
      "# Combine the Hartree and Fock term\n",
      "You will now be instructed to combine the Hartree term $H_{\\rm int}$ and the Fock term {Fock}.  \n",
      "You should perform the same trick of relabeling the index in the Fock term to make the quadratic operators in the Fock term the same as those in the Hartree term. The relabeling should be done with a swap : {swap rule}.\n",
      "You should add them, relabel the index in Fock term, and simply their sum. \n",
      "Return the final sum of Hartree and Fock term.\n",
      "\n",
      "# Construct full Hamiltonian after HF\n",
      "You will be instructed to construct the entire Hamiltonian after the Hartree-Fock approximation {H_{HF}}. \n",
      "You should first recall the Kinetic Hamiltonian {H_{kinetic}} is {expression_kinetic}.  \n",
      "You should then recall the interacting Hamiltonian {H_{int}} is \\frac{1}{2A} \\sum_{l, l', \\tau, \\tau', \\bm{k}, \\bm{k}', \\bm{q}} V_{ll'} (\\bm{q}) {c_{l \\tau \\bm{k}+\\bm{q}}^{\\dagger}}  {c_{l' \\tau' \\bm{k}' -\\bm{q}}^{\\dagger}}  {c_{l' \\tau' \\bm{k}'}} c_{l \\tau\\bm{k}}.  \n",
      "You should then combine {H_{kinetic}} with the interacting Hamiltonian {H_{int}} after the Hartree-Fock approximation, which is the entire Hamiltonian {H_{HF}} after Hartree-Fock.  \n",
      "Return the expression for {H_{HF}}.  \n",
      "\n",
      "Use the following conventions for the symbols (You should also obey the conventions in all my previous prompts if you encounter undefined symbols. If you find it is never defined or has conflicts in the conventions, you should stop and let me know):  \n",
      "$A$ is the area of the system, $l$ and $l'$ label layers and $\\tau$ and $\\tau'$ label valleys. The Coulomb interaction takes the form $V_{ll'}(\\bm{q}) = \\frac{e^2}{2\\epsilon\\epsilon_0 |\\bm{q}|} \\left[\\tanh(d_{\\rm gate}|\\bm{q}|) + (1-\\delta_{ll'})(e^{-d |\\bm{q}|}-1)\\right]$, where $\\epsilon$ is the relative dielectric constant, $\\epsilon_0$ is the vacuum permittivity, $d_{\\rm gate}$ is the distance between the sample and the symmetric metal gate, and $d$ is the distance between the two monolayers. The interlayer Coulomb interaction is reduced from the intralayer Coulomb interaction by $e^{-d |\\bm{q}|} - 1$. This correction is only valid for $d \\ll d_{\\rm gate}$.\n",
      "\n",
      "\n"
     ]
    }
   ],
   "source": [
    "print(string)"
   ]
  },
  {
   "cell_type": "code",
   "execution_count": 42,
   "metadata": {},
   "outputs": [],
   "source": [
    "with open(pwd.split('/')[-1]+'_extractor.md','w') as f:\n",
    "    f.write(string)"
   ]
  },
  {
   "cell_type": "code",
   "execution_count": null,
   "metadata": {},
   "outputs": [],
   "source": []
  }
 ],
 "metadata": {
  "kernelspec": {
   "display_name": "base",
   "language": "python",
   "name": "python3"
  },
  "language_info": {
   "codemirror_mode": {
    "name": "ipython",
    "version": 3
   },
   "file_extension": ".py",
   "mimetype": "text/x-python",
   "name": "python",
   "nbconvert_exporter": "python",
   "pygments_lexer": "ipython3",
   "version": "3.8.11"
  },
  "orig_nbformat": 4
 },
 "nbformat": 4,
 "nbformat_minor": 2
}
