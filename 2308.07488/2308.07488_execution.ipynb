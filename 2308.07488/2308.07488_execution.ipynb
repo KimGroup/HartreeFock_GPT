{
 "cells": [
  {
   "cell_type": "code",
   "execution_count": 1,
   "metadata": {},
   "outputs": [],
   "source": [
    "from IPython.display import Markdown\n",
    "\n",
    "import sys\n",
    "sys.path.append('..')\n",
    "from utils import *"
   ]
  },
  {
   "cell_type": "code",
   "execution_count": 143,
   "metadata": {},
   "outputs": [],
   "source": [
    "prompt_template='../prompt_template.md'\n",
    "arxiv_number='2308.07488'\n",
    "prompt_dict=load_prompt_template(prompt_template)\n",
    "with open(f'{arxiv_number}.yaml','r') as f:\n",
    "    kwargs= yaml.safe_load(f)"
   ]
  },
  {
   "cell_type": "code",
   "execution_count": 144,
   "metadata": {},
   "outputs": [],
   "source": [
    "prompt=generate_prompt(kwargs[13],prompt_dict)"
   ]
  },
  {
   "cell_type": "code",
   "execution_count": 145,
   "metadata": {},
   "outputs": [
    {
     "data": {
      "text/markdown": [
       "You will be instructed to simplify the Hartree term in $H_{\\rm int}^{Hartree}$ by reducing the momentum inside the expected value $\\langle{c_{l,\\tau,k+q}^\\dagger c_{l,\\tau,k}}\\rangle$.  \n",
       "The expected value $\\langle{c_{l,\\tau,k+q}^\\dagger c_{l,\\tau,k}}\\rangle$ is only nonzero when the two momenta $k_i,k_j$ are the same, namely, \\expval{c_{l,\\tau,k}^\\dagger c_{l',\\tau',k'}} =\\delta{l,l'}\\delta{\\tau,\\tau'},\\delta{k,k'}.  \n",
       "You should use the property of Kronecker delta function $\\delta_{k_i,k_j}$ to reduce one momentum $k_i$ but not $b_i$.\n",
       "Once you reduce one momentum inside the expected value $\\langle\\dots\\rangle$. You will also notice the total momentum conservation will reduce another momentum in the quadratic term. Therefore, you should end up with only two momenta left in the summation.  \n",
       "You should follow the EXAMPLE below to reduce one momentum in the Hartree term, and another momentum in the quadratic term.  \n",
       "You should recall that $H_{\\rm int}^{Hartree}$ is $$H_{\\rm int}^{Hartree} = \\frac{1}{A} \\sum_{l,\\tau} \\sum_{l',\\tau'} \\sum_{\\bm{k},\\bm{k}',\\bm{q}} V_{ll'}(\\bm{q})  \\langle c_{l \\tau \\bm{k}+\\bm{q}}^{\\dagger} c_{l \\tau\\bm{k}} \\rangle c_{l' \\tau' \\bm{k}' -\\bm{q}}^{\\dagger} c_{l' \\tau' \\bm{k}'} $$.  \n",
       "Return the final simplified Hartree term $H_{\\rm int}^{Hartree}$.\n",
       "\n",
       "===  \n",
       "EXAMPLE:  \n",
       "Given a Hamiltonian where the Hartree term $\\hat{H}^{Hartree}=\\sum_{k_1,k_2, k_3, k_4,b_1,b_2,b_3,b_4} V(k_1-k_4+b_1-b_4) \\langle c_{b_1}^\\dagger(k_1) c_{b_4}(k_4) \\rangle c_{b_2}^\\dagger(k_2) c_{b_3}(k_3) \\delta_{k_1+k_2+b_1+b_2,k_3+k_4+b_3+b_4}$, where $k_i$ is the momentum inside first Brilloun zone and $b_i$ is the reciprocal lattice.   \n",
       "Inside the expected value, we realize $\\langle c_{b_1}^\\dagger(k_1) c_{b_4}(k_4) \\rangle$ is nonzero only when $k_1=k_4$, i.e., $\\langle c_{b_1}^\\dagger(k_1) c_{b_4}(k_4) \\rangle=\\langle c_{b_1}^\\dagger(k_1) c_{b_4}(k_4) \\rangle\\delta_{k_1,k_4}$.  \n",
       "Thus, the Hartree term becomes $\\sum_{k_1,k_2, k_3, k_4,b_1,b_2,b_3,b_4} V(k_1-k_4+b_1-b_4) \\langle c_{b_1}^\\dagger(k_1) c_{b_4}(k_4) \\rangle \\delta_{k_1,k_4} c_{b_2}^\\dagger(k_2) c_{b_3}(k_3) \\delta_{k_1+k_2+b_1+b_2,k_3+k_4+b_3+b_4}$.  \n",
       "Use the property of Kronecker delta function $\\delta_{k_1,k_4}$ to sum over $k_4$, we have $\\sum_{k_1, k_2, k_3,b_1,b_2,b_3,b_4} V(k_1-k_1+b_1-b_4) \\langle c_{b_1}^\\dagger(k_1) c_{b_4}(k_1) \\rangle c_{b_2}^\\dagger(k_2) c_{b_3}(k_3) \\delta_{k_1+k_2+b_1+b_2,k_3+k_1+b_3+b_4}=\\sum_{k_1, k_2, k_3,b_1,b_2,b_3,b_4} V(b_1-b_4) \\langle c_{b_1}^\\dagger(k_1) c_{b_4}(k_1) \\rangle c_{b_2}^\\dagger(k_2) c_{b_3}(k_3) \\delta_{k_2+b_1+b_2,k_3+b_3+b_4}$.  \n",
       "Because $k_i$ is momentum inside first Brilloun zone while $b_i$ is the reciprocal lattice. It is only when $k_2=k_3$ that $\\delta_{k_2+b_1+b_2,k_3+b_3+b_4}$ is nonzero, i.e., $\\delta_{k_2+b_1+b_2,k_3+b_3+b_4}=\\delta_{b_1+b_2,b_3+b_4}\\delta_{k_2,k_3}$. Therefore, the Hartree term simplifies to $\\sum_{k_1, k_2, k_3,b_1,b_2,b_3,b_4} V(b_1-b_4) \\langle c_{b_1}^\\dagger(k_1) c_{b_4}(k_1) \\rangle c_{b_2}^\\dagger(k_2) c_{b_3}(k_3) \\delta_{b_1+b_2,b_3+b_4}\\delta_{k_2,k_3}=\\sum_{k_1, k_2,b_1,b_2,b_3,b_4} V(b_1-b_4) \\langle c_{b_1}^\\dagger(k_1) c_{b_4}(k_1) \\rangle c_{b_2}^\\dagger(k_2) c_{b_3}(k_2) \\delta_{b_1+b_2,b_3+b_4}$.  \n",
       "Therefore, the final simplified Hartree term after reducing two momenta is $\\hat{H}^{Hartree}=\\sum_{k_1, k_2,b_1,b_2,b_3,b_4}  V(b_1-b_4) \\langle c_{b_1}^\\dagger(k_1) c_{b_4}(k_1) \\rangle c_{b_2}^\\dagger(k_2) c_{b_3}(k_2) \\delta_{b_1+b_2,b_3+b_4} \\delta_{b_1+b_2,b_3+b_4}$"
      ],
      "text/plain": [
       "<IPython.core.display.Markdown object>"
      ]
     },
     "execution_count": 145,
     "metadata": {},
     "output_type": "execute_result"
    }
   ],
   "source": [
    "Markdown(prompt['content'])"
   ]
  },
  {
   "cell_type": "code",
   "execution_count": 77,
   "metadata": {},
   "outputs": [
    {
     "name": "stdout",
     "output_type": "stream",
     "text": [
      "You will be instructed to construct the interaction part of the Hamiltonian $H_{\\rm int}$ in the momentum space.  \n",
      "The interaction Hamiltonian is a product of four parts.\n",
      "The first part is the product of four operators with two creation and two annihilation operators following the normal order, namely, creation operators are before annihilation operators. You should follow the order of $1,2,2,1$ for the l,\\tau, and $1,2,3,4$ for the k. \n",
      "The second part is the constraint of total momentum conservation, namely the total momentum of all creation operators should be the same as that of all annihilation operators.   \n",
      "The third part is the interaction form. You should use Coulomb interaction with $V(q)=$V_{ll'}(\\bm{q}) = \\frac{e^2}{2\\epsilon\\epsilon_0 |\\bm{q}|} \\left[\\tanh(d_{\\rm gate}|\\bm{q}|) + (1-\\delta_{ll'})(e^{-d |\\bm{q}|}-1)\\right]$$, where $q$ is the transferred total momentum between a creation operator and an annihilation operator with the same l,\\tau, namely $q=k_1-k_4$.  \n",
      "The fourth part is the normalization factor, you should use $\\frac{1}{2A}$ here.\n",
      "Finally, the summation should be running over all l,\\tau, and k\n",
      "Return the interaction term $H_{\\rm int}$ in terms of $c_{l \\tau \\bm{k}+\\bm{q}}^{\\dagger}$, $c_{l' \\tau' \\bm{k}' -\\bm{q}}^{\\dagger}$, $c_{l' \\tau' \\bm{k}'}$ and $c_{l \\tau\\bm{k}}$ and $V(q)$ (with $q$ expressed in terms of k).  \n",
      "\n",
      "Use the following conventions for the symbols (You should also obey the conventions in all my previous prompts if you encounter undefined symbols. If you find it is never defined or has conflicts in the conventions, you should stop and let me know):  \n",
      "$A$ is the area of the system, $l$ and $l'$ label layers and $\\tau$ and $\\tau'$ label valleys. $\\epsilon$ is the relative dielectric constant, $\\epsilon_0$ is the vacuum permittivity, $d_{\\rm gate}$ is the distance between the sample and the symmetric metal gate, and $d$ is the distance between the two monolayers.\n"
     ]
    }
   ],
   "source": [
    "print(prompt['content'])"
   ]
  },
  {
   "cell_type": "code",
   "execution_count": null,
   "metadata": {},
   "outputs": [],
   "source": []
  }
 ],
 "metadata": {
  "kernelspec": {
   "display_name": "base",
   "language": "python",
   "name": "python3"
  },
  "language_info": {
   "codemirror_mode": {
    "name": "ipython",
    "version": 3
   },
   "file_extension": ".py",
   "mimetype": "text/x-python",
   "name": "python",
   "nbconvert_exporter": "python",
   "pygments_lexer": "ipython3",
   "version": "3.11.4"
  }
 },
 "nbformat": 4,
 "nbformat_minor": 2
}
