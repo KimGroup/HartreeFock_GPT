{
 "cells": [
  {
   "cell_type": "code",
   "execution_count": 31,
   "metadata": {},
   "outputs": [],
   "source": [
    "import openai\n",
    "import pandas as pd\n",
    "import json\n",
    "import yaml\n",
    "from IPython.display import Markdown\n",
    "import sys\n",
    "import yaml\n",
    "from tqdm import tqdm"
   ]
  },
  {
   "cell_type": "code",
   "execution_count": 32,
   "metadata": {},
   "outputs": [],
   "source": [
    "zz=openai.Model.list()"
   ]
  },
  {
   "cell_type": "code",
   "execution_count": 33,
   "metadata": {},
   "outputs": [
    {
     "data": {
      "text/plain": [
       "62"
      ]
     },
     "execution_count": 33,
     "metadata": {},
     "output_type": "execute_result"
    }
   ],
   "source": [
    "len(zz['data'])"
   ]
  },
  {
   "cell_type": "code",
   "execution_count": 34,
   "metadata": {},
   "outputs": [],
   "source": [
    "model_params = {\n",
    "    'model': \"gpt-4\",\n",
    "    'temperature': 0,\n",
    "}"
   ]
  },
  {
   "cell_type": "code",
   "execution_count": 35,
   "metadata": {},
   "outputs": [],
   "source": [
    "def print_save(string, file='../cmp2.md'):\n",
    "    print(string)\n",
    "    with open(file,'w') as f:\n",
    "        f.write(string)"
   ]
  },
  {
   "cell_type": "markdown",
   "metadata": {},
   "source": [
    "## Load prompt_template.md"
   ]
  },
  {
   "cell_type": "code",
   "execution_count": 36,
   "metadata": {},
   "outputs": [],
   "source": [
    "sys.path.append('..')\n",
    "from utils import *\n",
    "from functools import partial"
   ]
  },
  {
   "cell_type": "code",
   "execution_count": 37,
   "metadata": {},
   "outputs": [],
   "source": [
    "prompt_dict = partial(load_prompt_template,file='../prompt_template.md')"
   ]
  },
  {
   "cell_type": "code",
   "execution_count": 38,
   "metadata": {},
   "outputs": [
    {
     "data": {
      "text/plain": [
       "dict_keys(['Preamble', 'Problem-solver', 'Conversation summarizer', 'Construct Kinetic Hamiltonian (continuum version, single-particle)', 'Construct Kinetic Hamiltonian (continuum version, second-quantized)', 'Construct Kinetic Hamiltonian (lattice version)', 'Define each term in Kinetic Hamiltonian (continuum version)', 'Construct Potential Hamiltonian (continuum version)', 'Define each term in Potential Hamiltonian (continuum version)', 'Construct interaction Hamiltonian (real space, lattice version)', 'Construct interaction Hamiltonian (momentum space)', 'Convert from single-particle to second-quantized form, return in matrix', 'Convert from single-particle to second-quantized form, return in summation (expand the matrix)', 'Convert noninteracting Hamiltonian in real space to momentum space (continuum version)', 'Convert noninteracting Hamiltonian in real space to momentum space (lattice version)', 'Convert interacting Hamiltonian in real space to momentum space (lattice version)', 'Particle-hole transformation', 'Simplify the Hamiltonian in the particle-hole basis', \"Wick's theorem\", 'Extract quadratic term', 'Hartree term only', 'Fock term only', 'Expand interaction', 'Swap the index only', 'Swap the index to combine Hartree and Fock terms', 'Reduce momentum in Hartree term (momentum in BZ + reciprocal lattice)', 'Reduce momentum in Hartree term (momentum in BZ)', 'Reduce momentum in Fock term (momentum in BZ + reciprocal lattice)', 'Combine the Hartree and Fock term', 'Construct full Hamiltonian after HF', 'Mathematical simplify: inner product expansion', \"Mathematical simplify: Euler's formula\", 'Mathematical simplify: prosthaphaeresis', 'Mathematical simplify: Expand the product using Associative property', 'Mathematical simplify: Combine using Associative property', 'Mathematical simplify: reduce index'])"
      ]
     },
     "execution_count": 38,
     "metadata": {},
     "output_type": "execute_result"
    }
   ],
   "source": [
    "prompt_dict().keys()"
   ]
  },
  {
   "cell_type": "code",
   "execution_count": null,
   "metadata": {},
   "outputs": [],
   "source": []
  },
  {
   "cell_type": "markdown",
   "metadata": {},
   "source": [
    "# Prompt fill place holder"
   ]
  },
  {
   "cell_type": "code",
   "execution_count": 39,
   "metadata": {},
   "outputs": [],
   "source": [
    "import json"
   ]
  },
  {
   "cell_type": "code",
   "execution_count": 40,
   "metadata": {},
   "outputs": [],
   "source": [
    "pwd=os.getcwd()"
   ]
  },
  {
   "cell_type": "code",
   "execution_count": 41,
   "metadata": {},
   "outputs": [],
   "source": [
    "arxiv_number=pwd.split('/')[-1]"
   ]
  },
  {
   "cell_type": "code",
   "execution_count": 42,
   "metadata": {},
   "outputs": [],
   "source": [
    "with open(f'{arxiv_number}.yaml','r') as f:\n",
    "    kwargs_yaml = yaml.safe_load(f)\n",
    "# with open(f'{arxiv_number}.jsonl','r') as f:\n",
    "#     kwargs_jsonl= [json.loads(line) for line in f]"
   ]
  },
  {
   "cell_type": "code",
   "execution_count": 43,
   "metadata": {},
   "outputs": [],
   "source": [
    "def load_excerpt(sources):\n",
    "    excerpt=''\n",
    "    for tex, lines in sources.items():\n",
    "        with open(tex,'r') as f:\n",
    "            f_list=list(f)\n",
    "            for line in lines:\n",
    "                excerpt=excerpt+''.join(f_list[line[0]:line[1]])\n",
    "    return excerpt"
   ]
  },
  {
   "cell_type": "code",
   "execution_count": 44,
   "metadata": {},
   "outputs": [],
   "source": [
    "prompt_system='''I will provide you a Excerpt of physics paper, and a Template. You will need to fill the placeholders in the template using the correct information from the excerpt.\n",
    "Here are conventions: \n",
    "{..} means a placeholder which you need to fill by extracting information from the excerpt.\n",
    "{A|B} means you need to make a choice between A and B\n",
    "[..] means optional sentence. You should decide whether to use it depending on the excerpt.\n",
    "{{..}} DOES NOT mean a placeholder. You should not change the content inside double curly braces {{..}}.\n",
    "`You should recall that {expression_second_nonint}.` : this sentence should be kept as is.\n",
    "\n",
    "\n",
    "Finally, if you cannot figure out the placeholder, you should leave it as is.'''"
   ]
  },
  {
   "cell_type": "code",
   "execution_count": 45,
   "metadata": {},
   "outputs": [],
   "source": [
    "def drop_text_after(string):\n",
    "    string_new=''\n",
    "    for line in string.split('\\n'):\n",
    "        if '===' in line:\n",
    "            break\n",
    "        else:\n",
    "            if 'You should recall that' not in line:\n",
    "                string_new='\\n'.join([string_new,line])\n",
    "    return string_new[1:]\n"
   ]
  },
  {
   "cell_type": "code",
   "execution_count": 46,
   "metadata": {},
   "outputs": [],
   "source": [
    "def extractor(descriptor,message=False):\n",
    "    sys_msg=[{'role': 'system', 'content': prompt_system}]\n",
    "    question_prompt='\\nTemplate:\\n {template} \\n\\n Excerpt:\\n {excerpt}'.format(template=drop_text_after(prompt_dict()[descriptor['task']]), excerpt=load_excerpt(descriptor['source']))\n",
    "    user_msg=[{'role':'user','content':question_prompt}]\n",
    "    messages = sys_msg + user_msg\n",
    "    if message:\n",
    "        return sys_msg[0]['content']+user_msg[0]['content']\n",
    "    rs= openai.ChatCompletion.create(messages=messages, **model_params)\n",
    "    response=rs['choices'][0]['message'].content\n",
    "    return response\n"
   ]
  },
  {
   "cell_type": "markdown",
   "metadata": {},
   "source": [
    "## GPT4"
   ]
  },
  {
   "cell_type": "code",
   "execution_count": 47,
   "metadata": {},
   "outputs": [
    {
     "name": "stderr",
     "output_type": "stream",
     "text": [
      "  0%|          | 0/12 [00:00<?, ?it/s]"
     ]
    },
    {
     "name": "stderr",
     "output_type": "stream",
     "text": [
      " 75%|███████▌  | 9/12 [04:00<01:20, 26.71s/it]\n"
     ]
    },
    {
     "ename": "KeyError",
     "evalue": "'Reduce momentum in Fock term (momentum in BZ)'",
     "output_type": "error",
     "traceback": [
      "\u001b[0;31m---------------------------------------------------------------------------\u001b[0m",
      "\u001b[0;31mKeyError\u001b[0m                                  Traceback (most recent call last)",
      "\u001b[0;32m/tmp/ipykernel_1519/156594118.py\u001b[0m in \u001b[0;36m<module>\u001b[0;34m\u001b[0m\n\u001b[1;32m      2\u001b[0m \u001b[0;32mfor\u001b[0m \u001b[0mkwargs\u001b[0m \u001b[0;32min\u001b[0m \u001b[0mtqdm\u001b[0m\u001b[0;34m(\u001b[0m\u001b[0mkwargs_yaml\u001b[0m\u001b[0;34m)\u001b[0m\u001b[0;34m:\u001b[0m\u001b[0;34m\u001b[0m\u001b[0;34m\u001b[0m\u001b[0m\n\u001b[1;32m      3\u001b[0m     \u001b[0mstring\u001b[0m\u001b[0;34m+=\u001b[0m\u001b[0;34m'# '\u001b[0m\u001b[0;34m+\u001b[0m\u001b[0mkwargs\u001b[0m\u001b[0;34m[\u001b[0m\u001b[0;34m'task'\u001b[0m\u001b[0;34m]\u001b[0m\u001b[0;34m+\u001b[0m\u001b[0;34m'\\n'\u001b[0m\u001b[0;34m\u001b[0m\u001b[0;34m\u001b[0m\u001b[0m\n\u001b[0;32m----> 4\u001b[0;31m     \u001b[0mresponse\u001b[0m\u001b[0;34m=\u001b[0m\u001b[0;34m(\u001b[0m\u001b[0mextractor\u001b[0m\u001b[0;34m(\u001b[0m\u001b[0mkwargs\u001b[0m\u001b[0;34m,\u001b[0m \u001b[0mmessage\u001b[0m\u001b[0;34m=\u001b[0m\u001b[0;32mFalse\u001b[0m\u001b[0;34m)\u001b[0m\u001b[0;34m)\u001b[0m\u001b[0;34m\u001b[0m\u001b[0;34m\u001b[0m\u001b[0m\n\u001b[0m\u001b[1;32m      5\u001b[0m     \u001b[0mstring\u001b[0m\u001b[0;34m+=\u001b[0m\u001b[0mresponse\u001b[0m\u001b[0;34m+\u001b[0m\u001b[0;34m'\\n\\n'\u001b[0m\u001b[0;34m\u001b[0m\u001b[0;34m\u001b[0m\u001b[0m\n\u001b[1;32m      6\u001b[0m \u001b[0;34m\u001b[0m\u001b[0m\n",
      "\u001b[0;32m/tmp/ipykernel_1519/2823705090.py\u001b[0m in \u001b[0;36mextractor\u001b[0;34m(descriptor, message)\u001b[0m\n\u001b[1;32m      1\u001b[0m \u001b[0;32mdef\u001b[0m \u001b[0mextractor\u001b[0m\u001b[0;34m(\u001b[0m\u001b[0mdescriptor\u001b[0m\u001b[0;34m,\u001b[0m\u001b[0mmessage\u001b[0m\u001b[0;34m=\u001b[0m\u001b[0;32mFalse\u001b[0m\u001b[0;34m)\u001b[0m\u001b[0;34m:\u001b[0m\u001b[0;34m\u001b[0m\u001b[0;34m\u001b[0m\u001b[0m\n\u001b[1;32m      2\u001b[0m     \u001b[0msys_msg\u001b[0m\u001b[0;34m=\u001b[0m\u001b[0;34m[\u001b[0m\u001b[0;34m{\u001b[0m\u001b[0;34m'role'\u001b[0m\u001b[0;34m:\u001b[0m \u001b[0;34m'system'\u001b[0m\u001b[0;34m,\u001b[0m \u001b[0;34m'content'\u001b[0m\u001b[0;34m:\u001b[0m \u001b[0mprompt_system\u001b[0m\u001b[0;34m}\u001b[0m\u001b[0;34m]\u001b[0m\u001b[0;34m\u001b[0m\u001b[0;34m\u001b[0m\u001b[0m\n\u001b[0;32m----> 3\u001b[0;31m     \u001b[0mquestion_prompt\u001b[0m\u001b[0;34m=\u001b[0m\u001b[0;34m'\\nTemplate:\\n {template} \\n\\n Excerpt:\\n {excerpt}'\u001b[0m\u001b[0;34m.\u001b[0m\u001b[0mformat\u001b[0m\u001b[0;34m(\u001b[0m\u001b[0mtemplate\u001b[0m\u001b[0;34m=\u001b[0m\u001b[0mdrop_text_after\u001b[0m\u001b[0;34m(\u001b[0m\u001b[0mprompt_dict\u001b[0m\u001b[0;34m(\u001b[0m\u001b[0;34m)\u001b[0m\u001b[0;34m[\u001b[0m\u001b[0mdescriptor\u001b[0m\u001b[0;34m[\u001b[0m\u001b[0;34m'task'\u001b[0m\u001b[0;34m]\u001b[0m\u001b[0;34m]\u001b[0m\u001b[0;34m)\u001b[0m\u001b[0;34m,\u001b[0m \u001b[0mexcerpt\u001b[0m\u001b[0;34m=\u001b[0m\u001b[0mload_excerpt\u001b[0m\u001b[0;34m(\u001b[0m\u001b[0mdescriptor\u001b[0m\u001b[0;34m[\u001b[0m\u001b[0;34m'source'\u001b[0m\u001b[0;34m]\u001b[0m\u001b[0;34m)\u001b[0m\u001b[0;34m)\u001b[0m\u001b[0;34m\u001b[0m\u001b[0;34m\u001b[0m\u001b[0m\n\u001b[0m\u001b[1;32m      4\u001b[0m     \u001b[0muser_msg\u001b[0m\u001b[0;34m=\u001b[0m\u001b[0;34m[\u001b[0m\u001b[0;34m{\u001b[0m\u001b[0;34m'role'\u001b[0m\u001b[0;34m:\u001b[0m\u001b[0;34m'user'\u001b[0m\u001b[0;34m,\u001b[0m\u001b[0;34m'content'\u001b[0m\u001b[0;34m:\u001b[0m\u001b[0mquestion_prompt\u001b[0m\u001b[0;34m}\u001b[0m\u001b[0;34m]\u001b[0m\u001b[0;34m\u001b[0m\u001b[0;34m\u001b[0m\u001b[0m\n\u001b[1;32m      5\u001b[0m     \u001b[0mmessages\u001b[0m \u001b[0;34m=\u001b[0m \u001b[0msys_msg\u001b[0m \u001b[0;34m+\u001b[0m \u001b[0muser_msg\u001b[0m\u001b[0;34m\u001b[0m\u001b[0;34m\u001b[0m\u001b[0m\n",
      "\u001b[0;31mKeyError\u001b[0m: 'Reduce momentum in Fock term (momentum in BZ)'"
     ]
    }
   ],
   "source": [
    "string=''\n",
    "for kwargs in tqdm(kwargs_yaml):\n",
    "    string+='# '+kwargs['task']+'\\n'\n",
    "    response=(extractor(kwargs, message=False))\n",
    "    string+=response+'\\n\\n'\n",
    "    \n",
    "    "
   ]
  },
  {
   "cell_type": "code",
   "execution_count": 55,
   "metadata": {},
   "outputs": [
    {
     "name": "stderr",
     "output_type": "stream",
     "text": [
      "100%|██████████| 3/3 [01:17<00:00, 25.72s/it]\n"
     ]
    }
   ],
   "source": [
    "for kwargs in tqdm(kwargs_yaml[9:]):\n",
    "    string+='# '+kwargs['task']+'\\n'\n",
    "    response=(extractor(kwargs, message=False))\n",
    "    string+=response+'\\n\\n'\n",
    "    \n",
    "    "
   ]
  },
  {
   "cell_type": "code",
   "execution_count": null,
   "metadata": {},
   "outputs": [],
   "source": [
    "string.split('\\n')[-20:]"
   ]
  },
  {
   "cell_type": "code",
   "execution_count": 49,
   "metadata": {},
   "outputs": [
    {
     "name": "stdout",
     "output_type": "stream",
     "text": [
      "# Construct Kinetic Hamiltonian (lattice version)\n",
      "You will be instructed to describe the kinetic term of Hamiltonian in the TTMD 2D moiré materials in the real space in the second-quantized form.   \n",
      "The degrees of freedom of the system are: valley index $s$, spin-up or down, coupled with $+K$  or $-K$  valley, respectively, in the Brillouin zone.     \n",
      "The kinetic term is a tight-binding model composed of the following hopping process: \n",
      "between site i and site j with the amplitude hopping $t_s$.\n",
      "You should ensure the hermiticity of the Hamiltonian.\n",
      "The summation should be taken over all degrees of freedom and all real space positions.  \n",
      "Return the Kinetic Hamiltonian $H$.\n",
      "\n",
      "Use the following conventions for the symbols:  \n",
      "$t_s$ represents band structures (depending on $\\theta$), and effective interparticle Coulomb interactions $ U $  represent the correlation effect (depending on $\\epsilon$). Both $ t $ and $ U $ involve distant nearest neighbors (i.e., our parametrization of Eq.~\\eqref{eq:hubbard} includes hopping up to the third nearest neighbors and Coulomb coupling term $ U $ up to 1993 distant sites).\n",
      "\n",
      "# Construct interaction Hamiltonian (real space, lattice version)\n",
      "You will be instructed to construct the interaction part of the Hamiltonian, $H$ in the real space in the second-quantized form.   \n",
      "The interacting Hamiltonian has the same degrees of freedom as the kinetic Hamiltonian $\\sum_{s}\\sum_{i,j}^{} t_{s}\\left(\\bm{R}_i-\\bm{R}_j\\right) c_{i,s}^\\dagger c_{j,s}$.  \n",
      "The interaction is a density-density interaction composed of the following process:\n",
      "site i and site j with the interaction strength $U(\\bm{R}_i-\\bm{R}_j)$.\n",
      "The summation should be taken over all valley indices $s$ and $s'$ and all real space positions.  \n",
      "Return the interaction term $H$ in terms of $c_{i,s}^\\dagger c_{j,s'}^\\dagger c_{j,s'} c_{i,s}$.\n",
      "\n",
      "Use the following conventions for the symbols (You should also obey the conventions in all my previous prompts if you encounter undefined symbols. If you find it is never defined or has conflicts in the conventions, you should stop and let me know): \n",
      "$t_s$ represents band structures, $U$ represents the correlation effect, $c_{i,s}^\\dagger$ and $c_{j,s'}$ are creation and annihilation operators, respectively, and $\\bm{R}_i$ and $\\bm{R}_j$ are real space positions.\n",
      "\n",
      "# Convert noninteracting Hamiltonian in real space to momentum space (lattice version)\n",
      "You will be instructed to convert the noninteracting Hamiltonian H in the second quantized form from the basis in real space to the basis in momentum space. \n",
      "To do that, you should apply the Fourier transformation to c_{i,s}^\\dagger in the real space to the {momentum_creation_op} in the momentum space, which is defined as {definition_of_Fourier_Transformation}, where i is integrated over all sites in the entire real space. You should follow the EXAMPLE below to apply the Fourier transformation. [Note that hopping have no position dependence now.]\n",
      "Express the total noninteracting Hamiltonian H in terms of {momentum_creation_op}. Simplify any summation index if possible.\n",
      "\n",
      "Use the following conventions for the symbols (You should also obey the conventions in all my previous prompts if you encounter undefined symbols. If you find it is never defined or has conflicts in the conventions, you should stop and let me know):\n",
      "The hopping terms t_s represent band structures (depending on θ), and effective interparticle Coulomb interactions U represent the correlation effect (depending on ε). Valley index s, spin-up or down, is coupled with +K or -K valley, respectively, in the Brillouin zone. Both t and U involve distant nearest neighbors (i.e., our parametrization of Eq.~\\eqref{eq:hubbard} includes hopping up to the third nearest neighbors and Coulomb coupling term U up to 1993 distant sites).\n",
      "\n",
      "# Convert interacting Hamiltonian in real space to momentum space (lattice version)\n",
      "You will be instructed to convert the interacting Hamiltonian, H, in the second-quantized form the basis in real space to the basis in momentum space.\n",
      "To do that, you should apply the Fourier transformation to c_{i,s}^\\dagger in the real space to the {momentum_creation_op} in the momentum space, which is defined as {definition_of_Fourier_Transformation}, where i is integrated over all sites in the entire real space, and {momentum_var} is defined within the first Brillouin zone. You should follow the EXAMPLE below to apply the Fourier transformation. [Note that interaction have no position dependence now]\n",
      "Express H in terms of {momentum_creation_op}. Simplify any summation index if possible.\n",
      "\n",
      "# Wick's theorem\n",
      "You will be instructed to perform a Hartree-Fock approximation to expand the interaction term, $\\frac{1}{2}\\sum_{s,s'}\\sum_{i,j}U(\\bm{R}_i-\\bm{R}_j) c_{i,s}^\\dagger c_{j,s'}^\\dagger c_{j,s'} c_{i,s}$.  \n",
      "You should use Wick's theorem to expand the four-fermion term in $\\frac{1}{2}\\sum_{s,s'}\\sum_{i,j}U(\\bm{R}_i-\\bm{R}_j) c_{i,s}^\\dagger c_{j,s'}^\\dagger c_{j,s'} c_{i,s}$ into quadratic terms. You should strictly follow the EXAMPLE below to expand using Wick's theorem, select the correct EXAMPLE by noticing the order of four term product with and without ${{}}^\\dagger$, and be extremely cautious about the order of the index and sign before each term.  \n",
      "You should only preserve the normal terms. Here, the normal terms mean the product of a creation operator and an annihilation operator.  \n",
      "Return the expanded interaction term after Hartree-Fock approximation as {Hartree_Fock_symbol}.\n",
      "\n",
      "Use the following conventions for the symbols (You should also obey the conventions in all my previous prompts if you encounter undefined symbols. If you find it is never defined or has conflicts in the conventions, you should stop and let me know):  \n",
      "The hopping terms $t_s$ represent band structures (depending on $\\theta$), and effective interparticle Coulomb interactions $ U $  represent the correlation effect (depending on $\\epsilon$). Valley index $s$ , spin-up or down, is coupled with $+K$  or $-K$  valley, respectively, in the Brillouin zone. Both $ t $ and $ U $ involve distant nearest neighbors.\n",
      "\n",
      "# Extract quadratic term\n",
      "You will be instructed to extract the quadratic terms in the Hubbard Hamiltonian.  \n",
      "The quadratic terms mean terms that are proportional to $c_{i,s}^\\dagger c_{j,s}$, which excludes terms that are solely expectations or products of expectations.  \n",
      "You should only preserve the quadratic terms in the Hubbard Hamiltonian, denoted as $H$.  \n",
      "Return $H$.  \n",
      "\n",
      "Use the following conventions for the symbols (You should also obey the conventions in all my previous prompts if you encounter undefined symbols. If you find it is never defined or has conflicts in the conventions, you should stop and let me know):  \n",
      "$t_s$ represents the hopping terms which are band structures (depending on $\\theta$), and effective interparticle Coulomb interactions $ U $  represent the correlation effect (depending on $\\epsilon$). Valley index $s$ , spin-up or down, is coupled with $+K$  or $-K$  valley, respectively, in the Brillouin zone. Both $ t $ and $ U $ involve distant nearest neighbors.\n",
      "\n",
      "# Expand interaction\n",
      "You will be instructed to expand interaction term $U(\\bm{R}_i-\\bm{R}_j)$ in the MF quadratic term $H$.\n",
      "If you find the $U(\\bm{R}_i-\\bm{R}_j)$ in $H$ does not contain any momentum that is not in the summation sign. The interaction term is already expanded. No action to perform on interaction term.\n",
      "Otherwise, you will expand $U(\\bm{R}_i-\\bm{R}_j)$ by replacing $\\bm{R}_i-\\bm{R}_j$ with the momentum $\\bm{R}_i-\\bm{R}_j$.\n",
      "Return $H$ with expanded interaction.\n",
      "\n",
      "# Swap the index only\n",
      "You will be instructed to simplify the quadratic term H through relabeling the index.  \n",
      "The logic is that the expected value (t_{s}) in the first Hartree term (c_{i,s}^\\dagger c_{j,s}) has the same form as the quadratic operators in the second Hartree term (c_{i,s}^\\dagger c_{j,s'}^\\dagger c_{j,s'} c_{i,s}), and vice versa. The same applies to the Fock term.  \n",
      "Namely, a replacement of {relabel} is applied to ONLY the second Hartree or Fock term. You should not swap any index that is not in the summation, which includes {Unsummed_Indices}.  \n",
      "This means, if you relabel the index by swapping the index in the \"expected value\" and \"quadratic operators\" in the second Hartree or Fock term, you can make the second Hartree or Fock term look identical to the first Hartree or Fock term, as long as $V(q)=V(-q)$, which is naturally satisfied in Coulomb interaction. You should follow the EXAMPLE below to simplify it through relabeling the index.  \n",
      "Return the simplified H.\n",
      "\n",
      "# Reduce momentum in Hartree term (momentum in BZ)\n",
      "You will be instructed to simplify the Hartree term, $H$, by reducing the momentum inside the expected value $U(\\bm{R}_i-\\bm{R}_j) c_{i,s}^\\dagger c_{j,s'}^\\dagger c_{j,s'} c_{i,s}$.  \n",
      "The expected value $U(\\bm{R}_i-\\bm{R}_j) c_{i,s}^\\dagger c_{j,s'}^\\dagger c_{j,s'} c_{i,s}$ is only nonzero when the two momenta $k_i,k_j$ are the same, namely, $U(\\bm{R}_i-\\bm{R}_j) c_{i,s}^\\dagger c_{j,s'}^\\dagger c_{j,s'} c_{i,s}$.  \n",
      "You should use the property of Kronecker delta function $\\delta_{{k_i,k_j}}$ to reduce one momentum $k_i$.\n",
      "Once you reduce one momentum inside the expected value $\\langle\\dots\\rangle$. You will also notice the total momentum conservation will reduce another momentum in the quadratic term. Therefore, you should end up with only two momenta left in the summation.  \n",
      "You should follow the EXAMPLE below to reduce one momentum in the Hartree term, and another momentum in the quadratic term.  \n",
      "Return the final simplified Hartree term $H$.\n",
      "\n",
      "# Reduce momentum in Fock term (momentum in BZ)\n",
      "\n"
     ]
    }
   ],
   "source": [
    "print(string)"
   ]
  },
  {
   "cell_type": "code",
   "execution_count": 57,
   "metadata": {},
   "outputs": [],
   "source": [
    "with open(pwd.split('/')[-1]+'_extractor.md','w') as f:\n",
    "    f.write(string)"
   ]
  },
  {
   "cell_type": "code",
   "execution_count": null,
   "metadata": {},
   "outputs": [],
   "source": []
  }
 ],
 "metadata": {
  "kernelspec": {
   "display_name": "base",
   "language": "python",
   "name": "python3"
  },
  "language_info": {
   "codemirror_mode": {
    "name": "ipython",
    "version": 3
   },
   "file_extension": ".py",
   "mimetype": "text/x-python",
   "name": "python",
   "nbconvert_exporter": "python",
   "pygments_lexer": "ipython3",
   "version": "3.8.11"
  },
  "orig_nbformat": 4
 },
 "nbformat": 4,
 "nbformat_minor": 2
}
