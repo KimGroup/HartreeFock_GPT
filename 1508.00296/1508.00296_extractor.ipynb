{
 "cells": [
  {
   "cell_type": "code",
   "execution_count": 1,
   "metadata": {},
   "outputs": [],
   "source": [
    "import openai\n",
    "import pandas as pd\n",
    "import json\n",
    "import yaml\n",
    "from IPython.display import Markdown\n",
    "import sys\n",
    "import yaml\n",
    "from tqdm import tqdm"
   ]
  },
  {
   "cell_type": "code",
   "execution_count": 2,
   "metadata": {},
   "outputs": [],
   "source": [
    "zz=openai.Model.list()"
   ]
  },
  {
   "cell_type": "code",
   "execution_count": 3,
   "metadata": {},
   "outputs": [
    {
     "data": {
      "text/plain": [
       "75"
      ]
     },
     "execution_count": 3,
     "metadata": {},
     "output_type": "execute_result"
    }
   ],
   "source": [
    "len(zz['data'])"
   ]
  },
  {
   "cell_type": "code",
   "execution_count": 4,
   "metadata": {},
   "outputs": [],
   "source": [
    "model_params = {\n",
    "    'model': \"gpt-4\",\n",
    "    'temperature': 0,\n",
    "}"
   ]
  },
  {
   "cell_type": "code",
   "execution_count": 5,
   "metadata": {},
   "outputs": [],
   "source": [
    "def print_save(string, file='../cmp2.md'):\n",
    "    print(string)\n",
    "    with open(file,'w') as f:\n",
    "        f.write(string)"
   ]
  },
  {
   "cell_type": "markdown",
   "metadata": {},
   "source": [
    "## Load prompt_template.md"
   ]
  },
  {
   "cell_type": "code",
   "execution_count": 6,
   "metadata": {},
   "outputs": [],
   "source": [
    "sys.path.append('..')\n",
    "from utils import *\n",
    "from functools import partial"
   ]
  },
  {
   "cell_type": "code",
   "execution_count": 7,
   "metadata": {},
   "outputs": [],
   "source": [
    "prompt_dict = partial(load_prompt_template,file='../prompt_template.md')"
   ]
  },
  {
   "cell_type": "code",
   "execution_count": 8,
   "metadata": {},
   "outputs": [
    {
     "data": {
      "text/plain": [
       "dict_keys(['Preamble', 'Problem-solver', 'Conversation summarizer', 'Construct Kinetic Hamiltonian (continuum version, single-particle)', 'Construct Kinetic Hamiltonian (continuum version, second-quantized)', 'Construct Kinetic Hamiltonian (lattice version)', 'Define each term in Kinetic Hamiltonian (continuum version)', 'Construct Potential Hamiltonian (continuum version)', 'Define each term in Potential Hamiltonian (continuum version)', 'Construct interaction Hamiltonian (real space, lattice version)', 'Construct interaction Hamiltonian (momentum space)', 'Convert from single-particle to second-quantized form, return in matrix', 'Convert from single-particle to second-quantized form, return in summation (expand the matrix)', 'Convert noninteracting Hamiltonian in real space to momentum space (continuum version)', 'Convert noninteracting Hamiltonian in real space to momentum space (lattice version)', 'Convert interacting Hamiltonian in real space to momentum space (lattice version)', 'Particle-hole transformation', 'Simplify the Hamiltonian in the particle-hole basis', \"Wick's theorem\", 'Extract quadratic term', 'Hartree term only', 'Fock term only', 'Expand interaction', 'Swap the index only', 'Swap the index to combine Hartree and Fock terms', 'Reduce momentum in Hartree term (momentum in BZ + reciprocal lattice)', 'Reduce momentum in Hartree term (momentum in BZ)', 'Reduce momentum in Fock term (momentum in BZ + reciprocal lattice)', 'Reduce momentum in Fock term (momentum in BZ)', 'Combine the Hartree and Fock term', 'Mathematical simplify: inner product expansion', \"Mathematical simplify: Euler's formula\", 'Mathematical simplify: prosthaphaeresis', 'Mathematical simplify: Expand the product using Associative property', 'Mathematical simplify: Combine using Associative property', 'Mathematical simplify: reduce index'])"
      ]
     },
     "execution_count": 8,
     "metadata": {},
     "output_type": "execute_result"
    }
   ],
   "source": [
    "prompt_dict().keys()"
   ]
  },
  {
   "cell_type": "code",
   "execution_count": null,
   "metadata": {},
   "outputs": [],
   "source": []
  },
  {
   "cell_type": "markdown",
   "metadata": {},
   "source": [
    "# Prompt fill place holder"
   ]
  },
  {
   "cell_type": "code",
   "execution_count": 26,
   "metadata": {},
   "outputs": [],
   "source": [
    "import json"
   ]
  },
  {
   "cell_type": "code",
   "execution_count": 9,
   "metadata": {},
   "outputs": [],
   "source": [
    "pwd=os.getcwd()"
   ]
  },
  {
   "cell_type": "code",
   "execution_count": 10,
   "metadata": {},
   "outputs": [],
   "source": [
    "arxiv_number=pwd.split('/')[-1]"
   ]
  },
  {
   "cell_type": "code",
   "execution_count": 11,
   "metadata": {},
   "outputs": [],
   "source": [
    "with open(f'{arxiv_number}.yaml','r') as f:\n",
    "    kwargs_yaml = yaml.safe_load(f)\n",
    "# with open(f'{arxiv_number}.jsonl','r') as f:\n",
    "#     kwargs_jsonl= [json.loads(line) for line in f]"
   ]
  },
  {
   "cell_type": "code",
   "execution_count": 12,
   "metadata": {},
   "outputs": [],
   "source": [
    "def load_excerpt(sources):\n",
    "    excerpt=''\n",
    "    for tex, lines in sources.items():\n",
    "        with open(tex,'r') as f:\n",
    "            f_list=list(f)\n",
    "            for line in lines:\n",
    "                excerpt=excerpt+''.join(f_list[line[0]:line[1]])\n",
    "    return excerpt"
   ]
  },
  {
   "cell_type": "code",
   "execution_count": 13,
   "metadata": {},
   "outputs": [],
   "source": [
    "prompt_system='''I will provide you a Excerpt of physics paper, and a Template. You will need to fill the placeholders in the template using the correct information from the excerpt.\n",
    "Here are conventions: \n",
    "{..} means a placeholder which you need to fill by extracting information from the excerpt.\n",
    "{A|B} means you need to make a choice between A and B\n",
    "[..] means optional sentence. You should decide whether to use it depending on the excerpt.\n",
    "{{..}} DOES NOT mean a placeholder. You should not change the content inside double curly braces {{..}}.\n",
    "`You should recall that {expression_second_nonint}.` : this sentence should be kept as is.\n",
    "\n",
    "\n",
    "Finally, if you cannot figure out the placeholder, you should leave it as is.'''"
   ]
  },
  {
   "cell_type": "code",
   "execution_count": 14,
   "metadata": {},
   "outputs": [],
   "source": [
    "def drop_text_after(string):\n",
    "    string_new=''\n",
    "    for line in string.split('\\n'):\n",
    "        if '===' in line:\n",
    "            break\n",
    "        else:\n",
    "            if 'You should recall that' not in line and 'You should first recall the Kinetic Hamiltonian' not in line and 'You should then recall the interacting Hamiltonian' not in line and 'You should then combine' not in line:                       \n",
    "                string_new='\\n'.join([string_new,line])\n",
    "    return string_new[1:]\n"
   ]
  },
  {
   "cell_type": "code",
   "execution_count": 15,
   "metadata": {},
   "outputs": [],
   "source": [
    "def extractor(descriptor,message=False):\n",
    "    sys_msg=[{'role': 'system', 'content': prompt_system}]\n",
    "    question_prompt='\\nTemplate:\\n {template} \\n\\n Excerpt:\\n {excerpt}'.format(template=drop_text_after(prompt_dict()[descriptor['task']]), excerpt=load_excerpt(descriptor['source']))\n",
    "    user_msg=[{'role':'user','content':question_prompt}]\n",
    "    messages = sys_msg + user_msg\n",
    "    if message:\n",
    "        return sys_msg[0]['content']+user_msg[0]['content']\n",
    "    rs= openai.ChatCompletion.create(messages=messages, **model_params)\n",
    "    response=rs['choices'][0]['message'].content\n",
    "    return response\n"
   ]
  },
  {
   "cell_type": "markdown",
   "metadata": {},
   "source": [
    "## GPT4"
   ]
  },
  {
   "cell_type": "code",
   "execution_count": 20,
   "metadata": {},
   "outputs": [
    {
     "name": "stderr",
     "output_type": "stream",
     "text": [
      "100%|██████████| 9/9 [02:44<00:00, 18.25s/it]\n"
     ]
    }
   ],
   "source": [
    "string=''\n",
    "for kwargs in tqdm(kwargs_yaml[1:]):\n",
    "    string+='# '+kwargs['task']+'\\n'\n",
    "    response=(extractor(kwargs, message=False))\n",
    "    string+=response+'\\n\\n'\n",
    "    \n",
    "    "
   ]
  },
  {
   "cell_type": "code",
   "execution_count": 21,
   "metadata": {},
   "outputs": [
    {
     "name": "stdout",
     "output_type": "stream",
     "text": [
      "# Construct Kinetic Hamiltonian (lattice version)\n",
      "Template:\n",
      "You will be instructed to describe the kinetic term of Hamiltonian in BiNiO$_3$ in the real space in the second-quantized form.   \n",
      "The degrees of freedom of the system are: Ni-Ni, Bi-Bi, and Bi-Ni bonds.     \n",
      "The kinetic term is a tight-binding model composed of the following hopping process: \n",
      "Ni-Ni bonds with the amplitude t_{\\rm N}, Bi-Bi bonds with the amplitude t_{\\rm B}, and Bi-Ni bonds with the amplitude t_{\\rm BN}.\n",
      "You should ensure the hermiticity of the Hamiltonian.\n",
      "The summation should be taken over all Ni-Ni, Bi-Bi, and Bi-Ni bonds and all real space positions.  \n",
      "Return the Kinetic Hamiltonian ${\\cal H}$.\n",
      "\n",
      "Use the following conventions for the symbols:  \n",
      "$a_{i \\sigma}$ and $b_{i \\sigma}$ represent the annihilation operators of electron with the spin $\\sigma(=\\uparrow, \\downarrow)$ at the Ni and Bi sites of $i$-th unit cell, respectively; \n",
      "$n^{\\rm N}_{i \\sigma} = a^{\\dagger}_{i \\sigma} a_{i \\sigma}$ and $n^{\\rm B}_{i \\sigma} = b^{\\dagger}_{i \\sigma} b_{i \\sigma}$.\n",
      "\n",
      "# Construct interaction Hamiltonian (real space, lattice version)\n",
      "You will be instructed to construct the interaction part of the Hamiltonian, ${\\Delta} \\sum_{i \\sigma}^{\\rm Ni} n^{\\rm N}_{i \\sigma} + U_{\\rm N} \\sum_{i \\sigma}^{\\rm Ni} n^{\\rm N}_{i \\uparrow} n^{\\rm N}_{i \\downarrow} + U_{\\rm B} \\sum_{i \\sigma}^{\\rm Bi} n^{\\rm B}_{i \\uparrow} n^{\\rm B}_{i \\downarrow} + V_{\\rm B} \\sum_{\\langle ij \\rangle}^{\\rm Bi-Bi} n^{\\rm B}_{i} n^{\\rm B}_{j} + V_{\\rm BN} \\sum_{\\langle ij \\rangle}^{\\rm Bi-Ni} n^{\\rm N}_{i} n^{\\rm B}_{j}$ in the real space in the second-quantized form.   \n",
      "The interacting Hamiltonian has the same degrees of freedom as the kinetic Hamiltonian $t_{\\rm N} \\sum_{\\langle ij \\rangle \\sigma}^{\\rm Ni-Ni} \\left( a^{\\dagger}_{i \\sigma} a_{j \\sigma} + {\\rm H.c.} \\right) + t_{\\rm B} \\sum_{\\langle ij \\rangle \\sigma}^{\\rm Bi-Bi} \\left( b^{\\dagger}_{i \\sigma} b_{j \\sigma}+ {\\rm H.c.} \\right) + t_{\\rm BN} \\sum_{\\langle ij \\rangle \\sigma}^{\\rm Bi-Ni} \\left( a^{\\dagger}_{i \\sigma} b_{j \\sigma} + {\\rm H.c.} \\right)$.  \n",
      "The interaction is a density-density interaction composed of the following process:\n",
      "Bi-Bi and Bi-Ni sites with the interaction strength $V_{\\rm B}$ and $V_{\\rm BN}$ respectively.\n",
      "The summation should be taken over all spins and all real space positions.  \n",
      "Return the interaction term ${\\Delta} \\sum_{i \\sigma}^{\\rm Ni} n^{\\rm N}_{i \\sigma} + U_{\\rm N} \\sum_{i \\sigma}^{\\rm Ni} n^{\\rm N}_{i \\uparrow} n^{\\rm N}_{i \\downarrow} + U_{\\rm B} \\sum_{i \\sigma}^{\\rm Bi} n^{\\rm B}_{i \\uparrow} n^{\\rm B}_{i \\downarrow} + V_{\\rm B} \\sum_{\\langle ij \\rangle}^{\\rm Bi-Bi} n^{\\rm B}_{i} n^{\\rm B}_{j} + V_{\\rm BN} \\sum_{\\langle ij \\rangle}^{\\rm Bi-Ni} n^{\\rm N}_{i} n^{\\rm B}_{j}$ in terms of $n^{\\rm N}_{i \\sigma}$ and $n^{\\rm B}_{i \\sigma}$.\n",
      "\n",
      "Use the following conventions for the symbols (You should also obey the conventions in all my previous prompts if you encounter undefined symbols. If you find it is never defined or has conflicts in the conventions, you should stop and let me know): \n",
      "$a_{i \\sigma}$ and $b_{i \\sigma}$ represent the annihilation operators of electron with the spin $\\sigma(=\\uparrow, \\downarrow)$ at the Ni and Bi sites of $i$-th unit cell, respectively; \n",
      "$n^{\\rm N}_{i \\sigma} = a^{\\dagger}_{i \\sigma} a_{i \\sigma}$ and $n^{\\rm B}_{i \\sigma} = b^{\\dagger}_{i \\sigma} b_{i \\sigma}$.\n",
      "\n",
      "# Convert noninteracting Hamiltonian in real space to momentum space (lattice version)\n",
      "You will be instructed to convert the noninteracting Hamiltonian ${\\cal H}$ in the second quantized form from the basis in real space to the basis in momentum space. \n",
      "To do that, you should apply the Fourier transform to $a^{\\dagger}_{i \\sigma}$ and $b^{\\dagger}_{i \\sigma}$ in the real space to the {momentum_creation_op} in the momentum space, which is defined as {definition_of_Fourier_Transformation}, where $i$ is integrated over all sites in the entire real space. You should follow the EXAMPLE below to apply the Fourier transform. [Note that hopping have no position dependence now.]\n",
      "Express the total noninteracting Hamiltonian ${\\cal H}$ in terms of {momentum_creation_op}. Simplify any summation index if possible.\n",
      "\n",
      "Use the following conventions for the symbols (You should also obey the conventions in all my previous prompts if you encounter undefined symbols. If you find it is never defined or has conflicts in the conventions, you should stop and let me know):\n",
      "$a_{i \\sigma}$ and $b_{i \\sigma}$ represent the annihilation operators of electron with the spin $\\sigma(=\\uparrow, \\downarrow)$ at the Ni and Bi sites of $i$-th unit cell, respectively; \n",
      "$n^{\\rm N}_{i \\sigma} = a^{\\dagger}_{i \\sigma} a_{i \\sigma}$ and $n^{\\rm B}_{i \\sigma} = b^{\\dagger}_{i \\sigma} b_{i \\sigma}$.\n",
      "\n",
      "# Convert interacting Hamiltonian in real space to momentum space (lattice version)\n",
      "You will be instructed to convert the interacting Hamiltonian, ${\\cal H}$, in the second-quantized form the basis in real space to the basis in momentum space.\n",
      "To do that, you should apply the Fourier transform to $a_{i \\sigma}$ and $b_{i \\sigma}$ in the real space to the {momentum_creation_op} in the momentum space, which is defined as {definition_of_Fourier_Transformation}, where $i$ is integrated over all sites in the entire real space, and {momentum_var} is defined within the first Brillouin zone. You should follow the EXAMPLE below to apply the Fourier transform. [Note that interaction have no position dependence now]  \n",
      "Express ${\\cal H}$ in terms of {momentum_creation_op}. Simplify any summation index if possible.\n",
      "\n",
      "# Wick's theorem\n",
      "You will be instructed to perform a Hartree-Fock approximation to expand the interaction term, ${\\cal H}$.  \n",
      "You should use Wick's theorem to expand the four-fermion term in ${\\cal H}$ into quadratic terms. You should strictly follow the EXAMPLE below to expand using Wick's theorem, select the correct EXAMPLE by noticing the order of four-term product with and without ${{}}^\\dagger$, and be extremely cautious about the order of the index and sign before each term.  \n",
      "You should only preserve the normal terms. Here, the normal terms mean the product of a creation operator and an annihilation operator.  \n",
      "Return the expanded interaction term after Hartree-Fock approximation as {Hartree_Fock_symbol}.\n",
      "\n",
      "Use the following conventions for the symbols (You should also obey the conventions in all my previous prompts if you encounter undefined symbols. If you find it is never defined or has conflicts in the conventions, you should stop and let me know):  \n",
      "$a_{i \\sigma}$ and $b_{i \\sigma}$ represent the annihilation operators of electron with the spin $\\sigma(=\\uparrow, \\downarrow)$ at the Ni and Bi sites of $i$-th unit cell, respectively; \n",
      "$n^{\\rm N}_{i \\sigma} = a^{\\dagger}_{i \\sigma} a_{i \\sigma}$ and $n^{\\rm B}_{i \\sigma} = b^{\\dagger}_{i \\sigma} b_{i \\sigma}$.\n",
      "\n",
      "# Extract quadratic term\n",
      "You will be instructed to extract the quadratic terms in the ${\\cal H}$.  \n",
      "The quadratic terms mean terms that are proportional to $a^{\\dagger}_{i \\sigma} a_{j \\sigma}$, $b^{\\dagger}_{i \\sigma} b_{j \\sigma}$, and $a^{\\dagger}_{i \\sigma} b_{j \\sigma}$, which excludes terms that are solely expectations or products of expectations.  \n",
      "You should only preserve the quadratic terms in ${\\cal H}$, denoted as ${\\cal H}_{\\rm quad}$.  \n",
      "Return ${\\cal H}_{\\rm quad}$.  \n",
      "\n",
      "Use the following conventions for the symbols (You should also obey the conventions in all my previous prompts if you encounter undefined symbols. If you find it is never defined or has conflicts in the conventions, you should stop and let me know):  \n",
      "$a_{i \\sigma}$ and $b_{i \\sigma}$ represent the annihilation operators of electron with the spin $\\sigma(=\\uparrow, \\downarrow)$ at the Ni and Bi sites of $i$-th unit cell, respectively; \n",
      "$n^{\\rm N}_{i \\sigma} = a^{\\dagger}_{i \\sigma} a_{i \\sigma}$ and $n^{\\rm B}_{i \\sigma} = b^{\\dagger}_{i \\sigma} b_{i \\sigma}$.\n",
      "\n",
      "# Hartree term only\n",
      "You will be instructed to keep only the Hartree term in ${\\cal H}$.  \n",
      "Here, Hartree term only means that only the expected value in the form $U_{\\rm N} \\sum_{i \\sigma}^{\\rm Ni} n^{\\rm N}_{i \\uparrow} n^{\\rm N}_{i \\downarrow}$ and $U_{\\rm B} \\sum_{i \\sigma}^{\\rm Bi} n^{\\rm B}_{i \\uparrow} n^{\\rm B}_{i \\downarrow}$ (Note that the two indices are the same) should be the preserved. All other expected value terms should be dropped.\n",
      "Return the simplified Hamiltonian with ${\\cal H} = U_{\\rm N} \\sum_{i \\sigma}^{\\rm Ni} n^{\\rm N}_{i \\uparrow} n^{\\rm N}_{i \\downarrow} + U_{\\rm B} \\sum_{i \\sigma}^{\\rm Bi} n^{\\rm B}_{i \\uparrow} n^{\\rm B}_{i \\downarrow}$.\n",
      "\n",
      "# Swap the index only\n",
      "You will be instructed to simplify the quadratic term ${\\cal H}$ through relabeling the index.  \n",
      "The logic is that the expected value ($n^{\\rm N}_{i \\sigma} = a^{\\dagger}_{i \\sigma} a_{i \\sigma}$ and $n^{\\rm B}_{i \\sigma} = b^{\\dagger}_{i \\sigma} b_{i \\sigma}$) in the first Hartree term ($t_{\\rm N} \\sum_{\\langle ij \\rangle \\sigma}^{\\rm Ni-Ni} \\left( a^{\\dagger}_{i \\sigma} a_{j \\sigma} + {\\rm H.c.} \\right)$) has the same form as the quadratic operators in the second Hartree term ($t_{\\rm B} \\sum_{\\langle ij \\rangle \\sigma}^{\\rm Bi-Bi} \\left( b^{\\dagger}_{i \\sigma} b_{j \\sigma}+ {\\rm H.c.} \\right)$), and vice versa. The same applies to the Fock term.  \n",
      "Namely, a replacement of {relabel} is applied to ONLY the second Hartree or Fock term. You should not swap any index that is not in the summation, which includes {Unsummed_Indices}.  \n",
      "This means, if you relabel the index by swapping the index in the \"expected value\" and \"quadratic operators\" in the second Hartree or Fock term, you can make the second Hartree or Fock term look identical to the first Hartree or Fock term, as long as $V(q)=V(-q)$, which is naturally satisfied in Coulomb interaction. You should follow the EXAMPLE below to simplify it through relabeling the index.  \n",
      "Return the simplified ${\\cal H}$.\n",
      "\n",
      "# Reduce momentum in Hartree term (momentum in BZ)\n",
      "You will be instructed to simplify the Hartree term, ${\\cal H}$, by reducing the momentum inside the expected value $\\langle ij \\rangle$.  \n",
      "The expected value $\\langle ij \\rangle$ is only nonzero when the two momenta $k_i,k_j$ are the same, namely, $\\langle ij \\rangle = \\delta_{{k_i,k_j}}$.  \n",
      "You should use the property of Kronecker delta function $\\delta_{{k_i,k_j}}$ to reduce one momentum $k_i$.\n",
      "Once you reduce one momentum inside the expected value $\\langle ij \\rangle$. You will also notice the total momentum conservation will reduce another momentum in the quadratic term. Therefore, you should end up with only two momenta left in the summation.  \n",
      "You should follow the EXAMPLE below to reduce one momentum in the Hartree term, and another momentum in the quadratic term.  \n",
      "Return the final simplified Hartree term ${\\cal H}$.\n",
      "\n",
      "\n"
     ]
    }
   ],
   "source": [
    "print(string)"
   ]
  },
  {
   "cell_type": "code",
   "execution_count": 22,
   "metadata": {},
   "outputs": [],
   "source": [
    "with open(pwd.split('/')[-1]+'_extractor.md','w') as f:\n",
    "    f.write(string)"
   ]
  },
  {
   "cell_type": "code",
   "execution_count": null,
   "metadata": {},
   "outputs": [],
   "source": []
  }
 ],
 "metadata": {
  "kernelspec": {
   "display_name": "base",
   "language": "python",
   "name": "python3"
  },
  "language_info": {
   "codemirror_mode": {
    "name": "ipython",
    "version": 3
   },
   "file_extension": ".py",
   "mimetype": "text/x-python",
   "name": "python",
   "nbconvert_exporter": "python",
   "pygments_lexer": "ipython3",
   "version": "3.11.4"
  },
  "orig_nbformat": 4
 },
 "nbformat": 4,
 "nbformat_minor": 2
}
