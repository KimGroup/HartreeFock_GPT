{
 "cells": [
  {
   "cell_type": "code",
   "execution_count": 1,
   "metadata": {},
   "outputs": [],
   "source": [
    "from IPython.display import Markdown\n",
    "\n",
    "import sys\n",
    "sys.path.append('..')\n",
    "from utils import *"
   ]
  },
  {
   "cell_type": "code",
   "execution_count": 154,
   "metadata": {},
   "outputs": [],
   "source": [
    "prompt_template='../prompt_template.md'\n",
    "arxiv_number='1508.00296'\n",
    "prompt_dict=load_prompt_template(prompt_template)\n",
    "with open(f'{arxiv_number}.yaml','r') as f:\n",
    "    kwargs= yaml.safe_load(f)"
   ]
  },
  {
   "cell_type": "code",
   "execution_count": 155,
   "metadata": {},
   "outputs": [],
   "source": [
    "prompt=generate_prompt(kwargs[9],prompt_dict)"
   ]
  },
  {
   "cell_type": "code",
   "execution_count": 156,
   "metadata": {},
   "outputs": [
    {
     "data": {
      "text/markdown": [
       "You will be instructed to simplify the Hartree term, $\\hat{H}^{int,Hartree}$, by reducing the momentum inside the expected value $\\langle b^{\\dagger}_{k_1, \\sigma} b_{k_2, \\sigma} \\rangle$ and $\\langle a^{\\dagger}_{k_1, \\sigma} a_{k_2, \\sigma} \\rangle$.  \n",
       "The expected value $\\langle b^{\\dagger}_{k_1, \\sigma} b_{k_2, \\sigma} \\rangle$ and $\\langle a^{\\dagger}_{k_1, \\sigma} a_{k_2, \\sigma} \\rangle$ is only nonzero when the two momenta $k_i,k_j$ are the same, namely, $\\langle b^{\\dagger}_{k_1, \\sigma} b_{k_2, \\sigma} \\rangle = \\langle b^{\\dagger}_{k_1, \\sigma} b_{k_2, \\sigma} \\rangle \\delta_{k_1,k_2} $ and $\\langle a^{\\dagger}_{k_1, \\sigma} a_{k_2, \\sigma} \\rangle = \\langle a^{\\dagger}_{k_1, \\sigma} a_{k_2, \\sigma} \\rangle \\delta_{k_1,k_2}$.  \n",
       "You should use the property of Kronecker delta function $\\delta_{k_i,k_j}$ to reduce one momentum $k_i$.\n",
       "Once you reduce one momentum inside the expected value $\\langle\\dots\\rangle$. You will also notice the total momentum conservation will reduce another momentum in the quadratic term. Therefore, you should end up with only two momenta left in the summation.  \n",
       "You should follow the EXAMPLE below to reduce one momentum in the Hartree term, and another momentum in the quadratic term.  \n",
       "You should recall that $\\hat{H}^{int,Hartree}$ is $\\frac{U_{\\rm B}}{N} \\sum_{k_1,k_2,k_3,k_4, \\sigma \\neq \\sigma'}  \n",
       "\\left(\n",
       "\\langle b^{\\dagger}_{k_1, \\sigma} b_{k_2, \\sigma} \\rangle b^{\\dagger}_{k_3, \\sigma'} b_{k_4, \\sigma'} \n",
       "\\right) \\sum_G\\delta_{k_1+k_3-k_2-k_4,G} + \n",
       "\\frac{U_{\\rm N}}{N} \\sum_{k_1,k_2,k_3,k_4, \\sigma \\neq \\sigma'}  \\left( \n",
       "\\langle a^{\\dagger}_{k_1, \\sigma} a_{k_2, \\sigma} \\rangle a^{\\dagger}_{k_3, \\sigma'} a_{k_4, \\sigma'} \n",
       "\\right) \\sum_G\\delta_{k_1+k_3-k_2-k_4,G} + \n",
       "\\frac{2V_{\\rm B} }{N} \\sum_{k_1,k_2,k_3,k_4, \\sigma, \\sigma'}  \\left(\n",
       "\\langle b^{\\dagger}_{k_1, \\sigma} b_{k_2, \\sigma} \\rangle b^{\\dagger}_{k_3, \\sigma'} b_{k_4, \\sigma'}  \n",
       "\\right) \\sum_n e^{i(k_1-k_2)\\cdot n} \\sum_G\\delta_{k_1+k_3-k_2-k_4,G} + \n",
       "\\frac{V_{\\rm BN}}{N} \\sum_{k_1,k_2,k_3,k_4, \\sigma, \\sigma'}  \\left(\n",
       "\\langle b^{\\dagger}_{k_1, \\sigma} b_{k_2, \\sigma} \\rangle a^{\\dagger}_{k_3, \\sigma'} a_{k_4, \\sigma'}+\n",
       "\\langle a^{\\dagger}_{k_1, \\sigma} a_{k_2, \\sigma} \\rangle b^{\\dagger}_{k_3, \\sigma'} b_{k_4, \\sigma'}\n",
       "\\right) \\sum_{n'} e^{i(k_1-k_2)\\cdot n'} \\sum_G\\delta_{k_1+k_3-k_2-k_4,G}$\n",
       ".  \n",
       "Return the final simplified Hartree term $\\hat{H}^{int,Hartree}$.\n",
       "\n",
       "===  \n",
       "EXAMPLE:  \n",
       "Given a Hamiltonian where the Hartree term $\\hat{H}^{Hartree}=\\sum_{k_1,k_2, k_3, k_4,s_1,s_2} V(k_1-k_4) \\langle c_{s_1}^\\dagger(k_1) c_{s_1}(k_4) \\rangle c_{s_2}^\\dagger(k_2) c_{s_2}(k_3) \\sum_{G}\\delta_{k_1+k_2-k_3-k_4,G}$, where $k_i$ is the momentum inside first Brilloun zone, $G$ is the reciprocal lattice vectors, and $s_i$ is a certain index for the degree of freedom other than momentum.   \n",
       "Inside the expected value, we realize $\\langle c_{s_1}^\\dagger(k_1) c_{s_1}(k_4) \\rangle$ is nonzero only when $k_1=k_4$, i.e., $\\langle c_{s_1}^\\dagger(k_1) c_{s_1}(k_4) \\rangle=\\langle c_{s_1}^\\dagger(k_1) c_{s_1}(k_4) \\rangle\\delta_{k_1,k_4}$.  \n",
       "Thus, the Hartree term becomes $\\sum_{k_1,k_2, k_3, k_4,s_1,s_2} V(k_1-k_4) \\langle c_{s_1}^\\dagger(k_1) c_{s_1}(k_4) \\rangle \\delta_{k_1,k_4} c_{s_2}^\\dagger(k_2) c_{s_2}(k_3) \\sum_{G}\\delta_{k_1+k_2-k_3-k_4,G}$.  \n",
       "Use the property of Kronecker delta function $\\delta_{k_1,k_4}$ to sum over $k_4$, we have $\\sum_{k_1, k_2, k_3,s_1,s_2} V(k_1-k_1) \\langle c_{s_1}^\\dagger(k_1) c_{s_1}(k_1) \\rangle c_{s_2}^\\dagger(k_2) c_{s_2}(k_3) \\sum_{G}\\delta_{k_1+k_2-k_3-k_1,G}=\\sum_{k_1, k_2, k_3,s_1,s_2} V(0) \\langle c_{s_1}^\\dagger(k_1) c_{s_1}(k_1) \\rangle c_{s_2}^\\dagger(k_2) c_{s_2}(k_3) \\sum_{G}\\delta_{k_2-k_3,G}$.  \n",
       "We can further simplify $\\sum_{G}\\delta_{k_2-k_3,G}$. Because $k_i$ is momentum inside first Brilloun zone, and the difference between $k_2$ and $k_3$ cannot exceed the first shell of reciprocal lattice vector, which means $G$ can only take the value of the origin point in the reciprocal lattice, therefore, $\\sum_{G}\\delta_{k_2-k_3,G}=\\delta_{k_2-k_3,0}$.   \n",
       "Thus, the Hartree term simplifies to $\\sum_{k_1, k_2, k_3,s_1,s_2} V(0) \\langle c_{s_1}^\\dagger(k_1) c_{s_1}(k_1) \\rangle c_{s_2}^\\dagger(k_2) c_{s_2}(k_3) \\delta_{k_2-k_3,0}=\\sum_{k_1, k_2,s_1,s_2} V(0) \\langle c_{s_1}^\\dagger(k_1) c_{s_1}(k_1) \\rangle c_{s_2}^\\dagger(k_2) c_{s_2}(k_2)$.  \n",
       "Therefore, the final simplified Hartree term after reducing one momentum is $\\hat{H}^{Hartree}=\\sum_{k_1, k_2,s_1,s_2} V(0) \\langle c_{s_1}^\\dagger(k_1) c_{s_1}(k_1) \\rangle c_{s_2}^\\dagger(k_2) c_{s_2}(k_2)$"
      ],
      "text/plain": [
       "<IPython.core.display.Markdown object>"
      ]
     },
     "execution_count": 156,
     "metadata": {},
     "output_type": "execute_result"
    }
   ],
   "source": [
    "Markdown(prompt['content'])"
   ]
  },
  {
   "cell_type": "code",
   "execution_count": 83,
   "metadata": {},
   "outputs": [
    {
     "name": "stdout",
     "output_type": "stream",
     "text": [
      "You will be instructed to extract the quadratic terms in the $\\hat{H}^{int,HF}$.  \n",
      "The quadratic terms mean terms that are proportional to $a^\\dagger a$, $b^\\dagger b$ and $a^\\dagger b$, which excludes terms that are solely expectations or products of expectations.  \n",
      "You should only preserve the quadratic terms in $\\hat{H}^{int,HF}$, denoted as $\\hat{H}^{int,HF,2}$.  \n",
      "You should recall that $\\hat{H}^{int,HF}$ is $\\frac{U_{\\rm B}}{2N} \\sum_{k_1,k_2,k_3,k_4, \\sigma \\neq \\sigma'}  \n",
      "\\left(\n",
      "\\langle b^{\\dagger}_{k_1, \\sigma} b_{k_2, \\sigma} \\rangle b^{\\dagger}_{k_3, \\sigma'} b_{k_4, \\sigma'} + \n",
      "\\langle b^{\\dagger}_{k_3, \\sigma'} b_{k_4, \\sigma'} \\rangle b^{\\dagger}_{k_1, \\sigma} b_{k_2, \\sigma} -\n",
      "\\langle b^{\\dagger}_{k_1, \\sigma} b_{k_2, \\sigma} \\rangle  \\langle b^{\\dagger}_{k_3, \\sigma'} b_{k_4, \\sigma'} \\rangle-\n",
      "\\langle b^{\\dagger}_{k_1, \\sigma} b_{k_4, \\sigma'} \\rangle b^{\\dagger}_{k_3, \\sigma'}b_{k_2, \\sigma} -\n",
      "b^{\\dagger}_{k_1, \\sigma} b_{k_4, \\sigma'}  \\langle b^{\\dagger}_{k_3, \\sigma'}b_{k_2, \\sigma} \\rangle +\n",
      "\\langle b^{\\dagger}_{k_1, \\sigma} b_{k_4, \\sigma'} \\rangle \\langle b^{\\dagger}_{k_3, \\sigma'}b_{k_2, \\sigma} \\rangle\n",
      "\\right) \\sum_G\\delta_{k_1+k_3-k_2-k_4,G} $\n",
      ".  \n",
      "Return $\\hat{H}^{int,HF,2}$.  \n",
      "\n",
      "Use the following conventions for the symbols (You should also obey the conventions in all my previous prompts if you encounter undefined symbols. If you find it is never defined or has conflicts in the conventions, you should stop and let me know):  \n",
      "$\\hat{H}^{int,HF,2}$ : the quadratic terms in $\\hat{H}^{int,HF}$\n"
     ]
    }
   ],
   "source": [
    "print(prompt['content'])"
   ]
  },
  {
   "cell_type": "code",
   "execution_count": null,
   "metadata": {},
   "outputs": [],
   "source": []
  }
 ],
 "metadata": {
  "kernelspec": {
   "display_name": "base",
   "language": "python",
   "name": "python3"
  },
  "language_info": {
   "codemirror_mode": {
    "name": "ipython",
    "version": 3
   },
   "file_extension": ".py",
   "mimetype": "text/x-python",
   "name": "python",
   "nbconvert_exporter": "python",
   "pygments_lexer": "ipython3",
   "version": "3.11.4"
  }
 },
 "nbformat": 4,
 "nbformat_minor": 2
}
