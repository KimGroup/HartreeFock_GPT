{
 "cells": [
  {
   "cell_type": "code",
   "execution_count": 34,
   "metadata": {},
   "outputs": [],
   "source": [
    "import openai\n",
    "import pandas as pd\n",
    "import json\n",
    "from IPython.display import Markdown\n",
    "import sys\n",
    "from tqdm import tqdm"
   ]
  },
  {
   "cell_type": "code",
   "execution_count": 2,
   "metadata": {},
   "outputs": [],
   "source": [
    "zz=openai.Model.list()"
   ]
  },
  {
   "cell_type": "code",
   "execution_count": 3,
   "metadata": {},
   "outputs": [
    {
     "data": {
      "text/plain": [
       "62"
      ]
     },
     "execution_count": 3,
     "metadata": {},
     "output_type": "execute_result"
    }
   ],
   "source": [
    "len(zz['data'])"
   ]
  },
  {
   "cell_type": "code",
   "execution_count": 4,
   "metadata": {},
   "outputs": [],
   "source": [
    "model_params = {\n",
    "    'model': \"gpt-4\",\n",
    "    'temperature': 0,\n",
    "}"
   ]
  },
  {
   "cell_type": "code",
   "execution_count": 5,
   "metadata": {},
   "outputs": [],
   "source": [
    "def print_save(string, file='../cmp2.md'):\n",
    "    print(string)\n",
    "    with open(file,'w') as f:\n",
    "        f.write(string)"
   ]
  },
  {
   "cell_type": "markdown",
   "metadata": {},
   "source": [
    "## Load prompt_template.md"
   ]
  },
  {
   "cell_type": "code",
   "execution_count": 6,
   "metadata": {},
   "outputs": [],
   "source": [
    "sys.path.append('..')\n",
    "from utils import *\n",
    "from functools import partial"
   ]
  },
  {
   "cell_type": "code",
   "execution_count": 7,
   "metadata": {},
   "outputs": [],
   "source": [
    "prompt_dict = partial(load_prompt_template,file='../prompt_template.md')"
   ]
  },
  {
   "cell_type": "code",
   "execution_count": null,
   "metadata": {},
   "outputs": [],
   "source": [
    "prompt_dict().keys()"
   ]
  },
  {
   "cell_type": "markdown",
   "metadata": {},
   "source": [
    "# Prompt fill place holder"
   ]
  },
  {
   "cell_type": "code",
   "execution_count": 9,
   "metadata": {},
   "outputs": [],
   "source": [
    "import json"
   ]
  },
  {
   "cell_type": "code",
   "execution_count": 10,
   "metadata": {},
   "outputs": [],
   "source": [
    "with open('2108.02159.jsonl','r') as f:\n",
    "    kwargs_jsonl= [json.loads(line) for line in f]"
   ]
  },
  {
   "cell_type": "code",
   "execution_count": 11,
   "metadata": {},
   "outputs": [],
   "source": [
    "def load_excerpt(sources):\n",
    "    excerpt=''\n",
    "    for tex, lines in sources.items():\n",
    "        with open(tex,'r') as f:\n",
    "            f_list=list(f)\n",
    "            for line in lines:\n",
    "                excerpt=excerpt+''.join(f_list[line[0]:line[1]])\n",
    "    return excerpt"
   ]
  },
  {
   "cell_type": "code",
   "execution_count": 12,
   "metadata": {},
   "outputs": [],
   "source": [
    "prompt_system='''I will provide you a Excerpt of physics paper, and a Template. You will need to fill the placeholders in the template using the correct information from the excerpt.\n",
    "Here are conventions: \n",
    "{..} means a placeholder which you need to fill by extracting information from the excerpt.\n",
    "{A|B} means you need to make a choice between A and B\n",
    "[..] means optional sentence. You should decide whether to use it depending on the excerpt.\n",
    "{{..}} DOES NOT mean a placeholder. You should not change the content inside double curly braces {{..}}.\n",
    "`You should recall that {expression_second_nonint}.` : this sentence should be kept as is.\n",
    "\n",
    "\n",
    "Finally, if you cannot figure out the placeholder, you should leave it as is.'''"
   ]
  },
  {
   "cell_type": "code",
   "execution_count": 13,
   "metadata": {},
   "outputs": [],
   "source": [
    "def drop_text_after(string):\n",
    "    string_new=''\n",
    "    for line in string.split('\\n'):\n",
    "        if '===' in line:\n",
    "            break\n",
    "        else:\n",
    "            if 'You should recall that' not in line:\n",
    "                string_new='\\n'.join([string_new,line])\n",
    "    return string_new[1:]\n"
   ]
  },
  {
   "cell_type": "code",
   "execution_count": 14,
   "metadata": {},
   "outputs": [],
   "source": [
    "def extractor(descriptor,message=False):\n",
    "    sys_msg=[{'role': 'system', 'content': prompt_system}]\n",
    "    question_prompt='\\nTemplate:\\n {template} \\n\\n Excerpt:\\n {excerpt}'.format(template=drop_text_after(prompt_dict()[descriptor['task']]), excerpt=load_excerpt(descriptor['source']))\n",
    "    user_msg=[{'role':'user','content':question_prompt}]\n",
    "    messages = sys_msg + user_msg\n",
    "    if message:\n",
    "        return sys_msg[0]['content']+user_msg[0]['content']\n",
    "    rs= openai.ChatCompletion.create(messages=messages, **model_params)\n",
    "    response=rs['choices'][0]['message'].content\n",
    "    return response\n"
   ]
  },
  {
   "cell_type": "code",
   "execution_count": 15,
   "metadata": {},
   "outputs": [
    {
     "name": "stdout",
     "output_type": "stream",
     "text": [
      "# Construct Kinetic Hamiltonian (continuum version, second-quantized)\n"
     ]
    }
   ],
   "source": [
    "print('# '+kwargs_jsonl[0]['task'])"
   ]
  },
  {
   "cell_type": "code",
   "execution_count": 16,
   "metadata": {},
   "outputs": [],
   "source": [
    "response=(extractor(kwargs_jsonl[0]))"
   ]
  },
  {
   "cell_type": "code",
   "execution_count": 17,
   "metadata": {},
   "outputs": [
    {
     "name": "stdout",
     "output_type": "stream",
     "text": [
      "You will be instructed to describe the kinetic term of Hamiltonian in TMD moiré materials in the real space in the single-particle form.   \n",
      "The degrees of freedom of the system are: spin/valley.  \n",
      "Express the Kinetic Hamiltonian $T$ using $\\hbar$, $m^*$, $\\b{k}$, and $\\b{b}$, where the summation of $\\b{k}$ should be running over the first Brillouin zone.\n",
      "\n",
      "Use the following conventions for the symbols:  \n",
      "$\\hbar$ is the reduced Planck constant, $m^*$ is the effective mass of the electron, $\\b{k}$ is the momentum in the first moiré Brillouin zone, and $\\b{b}$'s are moiré reciprocal lattice vectors.\n"
     ]
    }
   ],
   "source": [
    "print(response)"
   ]
  },
  {
   "cell_type": "code",
   "execution_count": 18,
   "metadata": {},
   "outputs": [
    {
     "name": "stdout",
     "output_type": "stream",
     "text": [
      "# Define each term in Kinetic Hamiltonian (continuum version)\n"
     ]
    }
   ],
   "source": [
    "print('# '+kwargs_jsonl[1]['task'])"
   ]
  },
  {
   "cell_type": "code",
   "execution_count": 24,
   "metadata": {},
   "outputs": [],
   "source": [
    "response=(extractor(kwargs_jsonl[1]))"
   ]
  },
  {
   "cell_type": "code",
   "execution_count": 25,
   "metadata": {},
   "outputs": [
    {
     "name": "stdout",
     "output_type": "stream",
     "text": [
      "Template:\n",
      " You will be instructed to construct each term, namely {H_{0}}.  \n",
      "For all energy dispersions, {H_{0}}, it characterizes the {parabolic} dispersion for {electrons}.   \n",
      "[In addition, a shift of {b} in the momentum {k} for {H_{0}}, respectively.]  \n",
      "You should follow the EXAMPLE below to obtain the correct energy dispersion, select the correct EXAMPLE by noticing the type of dispersion.  \n",
      "Finally, in the real space, the momentum ${k}=-i \\partial_{r}$. You should keep the form of ${k}$ in the Hamiltonian for short notations but should remember ${k}$ is an operator.  \n",
      "Return the expression for {H_{0}} in the Kinetic Hamiltonian, and substitute it into the Kinetic Hamiltonian {H_{0}}.  \n",
      "\n",
      "Use the following conventions for the symbols (You should also obey the conventions in all my previous prompts if you encounter undefined symbols. If you find it is never defined or has conflicts in the conventions, you should stop and let me know):  \n",
      "{H_{0} = T + \\Delta(\\mathbf{r}), T is the single-particle kinetic energy operator for electrons with effective mass m^*, \\Delta(\\mathbf{r}) is the moir\\'e potential, V_j = V_M\\exp\\[(-1)^{j-1}i\\phi\\], V_M characterizing the moir\\'e modulation strength and \\phi its shape, \\b{k} is in the first moir\\'e Brillouin zone and the \\b{b}'s are moir\\'e reciprocal lattice vectors.}\n",
      "\n"
     ]
    }
   ],
   "source": [
    "print(response)"
   ]
  },
  {
   "cell_type": "code",
   "execution_count": 21,
   "metadata": {},
   "outputs": [
    {
     "name": "stdout",
     "output_type": "stream",
     "text": [
      "# Construct Potential Hamiltonian (continuum version)\n"
     ]
    }
   ],
   "source": [
    "print('# '+kwargs_jsonl[2]['task'])"
   ]
  },
  {
   "cell_type": "code",
   "execution_count": 22,
   "metadata": {},
   "outputs": [],
   "source": [
    "response=(extractor(kwargs_jsonl[2]))"
   ]
  },
  {
   "cell_type": "code",
   "execution_count": 23,
   "metadata": {},
   "outputs": [
    {
     "name": "stdout",
     "output_type": "stream",
     "text": [
      "You will be instructed to describe the potential term of Hamiltonian $\\Delta(\\mathbf{r})$ in the momentum space in the single-particle form.  \n",
      "The potential Hamiltonian has the same degrees of freedom as the kinetic Hamiltonian. The diagonal terms are $-\\frac{\\hbar^2}{2m^*}\\(\\b{k}+\\b{b}\\)^2 \\, \\delta_{\\b{b},\\b{b}'}$.  \n",
      "The off-diagonal terms are the coupling between moir\\'e reciprocal lattice vectors, $\\sum_{j=1}^6 V_j\\delta_{\\b{b}_j,\\b{b}-\\b{b}'}$, which should be kept hermitian.  \n",
      "All other terms are zero.\n",
      "Express the potential Hamiltonian $\\Delta(\\mathbf{r})$ using $-\\frac{\\hbar^2}{2m^*}\\(\\b{k}+\\b{b}\\)^2 \\, \\delta_{\\b{b},\\b{b}'}$ and $\\sum_{j=1}^6 V_j\\delta_{\\b{b}_j,\\b{b}-\\b{b}'}$.  \n",
      "\n",
      "Use the following conventions for the symbols (You should also obey the conventions in all my previous prompts if you encounter undefined symbols. If you find it is never defined or has conflicts in the conventions, you should stop and let me know):  \n",
      "$\\Delta(\\mathbf{r})$ is the moir\\'e potential, $V_j$ is the Fourier expansion of $\\Delta$, $\\phi$ is the phase of moir\\'e potential Fourier amplitude, $V_M$ characterizes the moir\\'e modulation strength, $\\b{k}$ is the momentum in the first moir\\'e Brillouin zone, $\\b{b}$'s are moir\\'e reciprocal lattice vectors, and $m^*$ is the effective mass of the electrons.\n"
     ]
    }
   ],
   "source": [
    "print(response)"
   ]
  },
  {
   "cell_type": "code",
   "execution_count": 26,
   "metadata": {},
   "outputs": [
    {
     "name": "stdout",
     "output_type": "stream",
     "text": [
      "# Define each term in Potential Hamiltonian (continuum version)\n"
     ]
    }
   ],
   "source": [
    "print('# '+kwargs_jsonl[3]['task'])"
   ]
  },
  {
   "cell_type": "code",
   "execution_count": 27,
   "metadata": {},
   "outputs": [],
   "source": [
    "response=(extractor(kwargs_jsonl[3]))"
   ]
  },
  {
   "cell_type": "code",
   "execution_count": 28,
   "metadata": {},
   "outputs": [
    {
     "name": "stdout",
     "output_type": "stream",
     "text": [
      "You will be instructed to construct each term $\\Delta(\\mathbf{r})$, namely, $V_j$ and $\\phi$.  \n",
      "The expression for diagonal terms are: $-\\frac{\\hbar^2}{2m^*}\\(\\b{k}+\\b{b}\\)^2 \\, \\delta_{\\b{b},\\b{b}'}$.  \n",
      "The expression for off-diagonal terms are: $\\sum_{j=1}^6 V_j\\delta_{\\b{b}_j,\\b{b}-\\b{b}'}$.  \n",
      "Return the expressions for $V_j$ and $\\phi$, and substitute it into the potential Hamiltonian $\\Delta(\\mathbf{r})$.  \n",
      "\n",
      "Use the following conventions for the symbols (You should also obey the conventions in all my previous prompts if you encounter undefined symbols. If you find it is never defined or has conflicts in the conventions, you should stop and let me know):  \n",
      "$V_j = V_M\\exp\\[(-1)^{j-1}i\\phi\\]$ where $V_M$ characterizes the moir\\'e modulation strength and $\\phi$ its shape. The single-particle Hamiltonian of the moir\\'e continuum model is $H_{0} = T + \\Delta(\\mathbf{r})$, where $T$ is the single-particle kinetic energy operator for electrons with effective mass $m^*$.\n"
     ]
    }
   ],
   "source": [
    "print(response)"
   ]
  },
  {
   "cell_type": "code",
   "execution_count": 46,
   "metadata": {},
   "outputs": [
    {
     "name": "stderr",
     "output_type": "stream",
     "text": [
      "100%|██████████| 11/11 [05:02<00:00, 27.52s/it]\n"
     ]
    }
   ],
   "source": [
    "string=''\n",
    "for kwargs in tqdm(kwargs_jsonl):\n",
    "    string+='# '+kwargs['task']+'\\n'\n",
    "    response=(extractor(kwargs))\n",
    "    string+=response+'\\n\\n'\n",
    "    \n",
    "    "
   ]
  },
  {
   "cell_type": "code",
   "execution_count": 47,
   "metadata": {},
   "outputs": [
    {
     "name": "stdout",
     "output_type": "stream",
     "text": [
      "# Construct Kinetic Hamiltonian (continuum version, second-quantized)\n",
      "You will be instructed to describe the kinetic term of Hamiltonian in TMD moiré materials in the real space in the single-particle form.   \n",
      "The degrees of freedom of the system are: spin/valley.  \n",
      "Express the Kinetic Hamiltonian $T$ using $\\hbar$, $m^*$, $\\b{k}$, and $\\b{b}$, where the summation of $\\b{k}$ should be running over the first Brillouin zone.\n",
      "\n",
      "Use the following conventions for the symbols:  \n",
      "- $\\hbar$ is the reduced Planck constant\n",
      "- $m^*$ is the effective mass of the electrons\n",
      "- $\\b{k}$ is the momentum in the first moiré Brillouin zone\n",
      "- $\\b{b}$'s are moiré reciprocal lattice vectors.\n",
      "\n",
      "# Define each term in Kinetic Hamiltonian (continuum version)\n",
      "Template:\n",
      "You will be instructed to construct each term, namely {H_{0}}_{\\b{b},\\b{b}'}(\\b{k}).  \n",
      "For all energy dispersions, {H_{0}}_{\\b{b},\\b{b}'}(\\b{k}), it characterizes the parabolic dispersion for electrons.   \n",
      "In addition, a shift of {b} in the momentum {k} for {H_{0}}_{\\b{b},\\b{b}'}(\\b{k}), respectively.  \n",
      "You should follow the EXAMPLE below to obtain the correct energy dispersion, select the correct EXAMPLE by noticing the type of dispersion.  \n",
      "Finally, in the real space, the momentum ${k}=-i \\partial_{r}$. You should keep the form of ${k}$ in the Hamiltonian for short notations but should remember ${k}$ is an operator.  \n",
      "Return the expression for {H_{0}}_{\\b{b},\\b{b}'}(\\b{k}) in the Kinetic Hamiltonian, and substitute it into the Kinetic Hamiltonian {H_{0}}.  \n",
      "\n",
      "Use the following conventions for the symbols (You should also obey the conventions in all my previous prompts if you encounter undefined symbols. If you find it is never defined or has conflicts in the conventions, you should stop and let me know):  \n",
      "{b: moir\\'e reciprocal lattice vectors, k: momentum, H_{0}: single-particle Hamiltonian, m^*: effective mass of electrons, V_j: material-dependent parameters, V_M: moir\\'e modulation strength, phi: shape of moir\\'e modulation, Delta: moir\\'e potential, r: position vector, psi^{(\\dag)}_{\\alpha}(\\b r): fermion field operators, alpha: label representing locked spin/valley}\n",
      "\n",
      "# Construct Potential Hamiltonian (continuum version)\n",
      "Template:\n",
      "You will be instructed to describe the potential term of Hamiltonian {H_{0}} in the {real} space in the {single-particle} form.  \n",
      "The potential Hamiltonian has the same degrees of freedom as the kinetic Hamiltonian. The diagonal terms are {-\\frac{\\hbar^2}{2m^*}\\(\\b{k}+\\b{b}\\)^2 \\, \\delta_{\\b{b},\\b{b}'}}.  \n",
      "The off-diagonal terms are the coupling between {orbitals centered on different sites}, {\\sum_{j=1}^6 V_j\\delta_{\\b{b}_j,\\b{b}-\\b{b}'}}, which should be kept hermitian.  \n",
      "All other terms are zero.\n",
      "Express the potential Hamiltonian {H_{0}} using {-\\frac{\\hbar^2}{2m^*}\\(\\b{k}+\\b{b}\\)^2 \\, \\delta_{\\b{b},\\b{b}'}} and {\\sum_{j=1}^6 V_j\\delta_{\\b{b}_j,\\b{b}-\\b{b}'}}.  \n",
      "\n",
      "Use the following conventions for the symbols (You should also obey the conventions in all my previous prompts if you encounter undefined symbols. If you find it is never defined or has conflicts in the conventions, you should stop and let me know):  \n",
      "{H_{0} is the single-particle Hamiltonian of the moir\\'e continuum model, T is the single-particle kinetic energy operator for electrons with effective mass m^*, \\Delta(\\mathbf{r}) is the moir\\'e potential, V_j = V_M\\exp\\[(-1)^{j-1}i\\phi\\] where V_M characterizes the moir\\'e modulation strength and \\phi its shape, \\b{k} is in the first moir\\'e Brillouin zone and the \\b{b}'s are moir\\'e reciprocal lattice vectors.}\n",
      "\n",
      "# Define each term in Potential Hamiltonian (continuum version)\n",
      "You will be instructed to construct each term $\\Delta(\\mathbf{r})$, namely, $V_j$ and $\\phi$.  \n",
      "The expression for diagonal terms are: $-\\frac{\\hbar^2}{2m^*}\\(\\b{k}+\\b{b}\\)^2 \\, \\delta_{\\b{b},\\b{b}'}$.  \n",
      "The expression for off-diagonal terms are: $\\sum_{j=1}^6 V_j\\delta_{\\b{b}_j,\\b{b}-\\b{b}'}$.  \n",
      "Return the expressions for $V_j$ and $\\phi$, and substitute it into the potential Hamiltonian $\\Delta(\\mathbf{r})$.  \n",
      "\n",
      "Use the following conventions for the symbols (You should also obey the conventions in all my previous prompts if you encounter undefined symbols. If you find it is never defined or has conflicts in the conventions, you should stop and let me know):  \n",
      "$V_j = V_M\\exp\\[(-1)^{j-1}i\\phi\\]$ where $V_M$ characterizes the moir\\'e modulation strength and $\\phi$ its shape. The fermion field operators $\\psi^{(\\dag)}_{\\alpha}(\\b r)$ in this model carry only one label, representing locked spin/valley. The single-particle Hamiltonian of the moir\\'e continuum model $H_{0} = T + \\Delta(\\mathbf{r})$, where $T$ is the single-particle kinetic energy operator for electrons with effective mass $m^*$.\n",
      "\n",
      "# Construct interaction Hamiltonian (momentum space)\n",
      "Template:\n",
      " You will be instructed to construct the interaction part of the Hamiltonian {second_int_symbol} in the momentum space.  \n",
      "The interaction Hamiltonian is a product of four parts.\n",
      "The first part is the product of four operators with two creation and two annihilation operators following the normal order, namely, creation operators are before annihilation operators. You should follow the order of $1,2,2,1$ for the {index_of_operator}, and $1,2,3,4$ for the {momentum}. \n",
      "The second part is the constraint of total momentum conservation, namely the total momentum of all creation operators should be the same as that of all annihilation operators. [For each operator, the total momentum is the sum of moire reciprocal lattice $b_i$ and momentum with in the first BZ $k_i$]  \n",
      "The third part is the interaction form. You should use {interaction} with $V(q)={int_form}$, where $q$ is the transferred total momentum between a creation operator and an annihilation operator with the same {index_of_operator}, namely $q=k_1-k_4$.  \n",
      "The fourth part is the normalization factor, you should use {normalization_factor} here.\n",
      "Finally, the summation should be running over all {index_of_operator}, and {momentum}\n",
      "Return the interaction term {second_int_symbol} in terms of {op} and $V(q)$ (with $q$ expressed in terms of {momentum}).  \n",
      "\n",
      "Use the following conventions for the symbols (You should also obey the conventions in all my previous prompts if you encounter undefined symbols. If you find it is never defined or has conflicts in the conventions, you should stop and let me know):  \n",
      "{definition_of_variables}\n",
      "\n",
      "# Wick's theorem\n",
      "You will be instructed to perform a Hartree-Fock approximation to expand the interaction term, $\\Sigma^{HF}$.  \n",
      "You should use Wick's theorem to expand the four-fermion term in $\\Sigma^{HF}$ into quadratic terms. You should strictly follow the EXAMPLE below to expand using Wick's theorem, select the correct EXAMPLE by noticing the order of four-term product with and without ${{}}^\\dagger$, and be extremely cautious about the order of the index and sign before each term.  \n",
      "You should only preserve the normal terms. Here, the normal terms mean the product of a creation operator and an annihilation operator.  \n",
      "Return the expanded interaction term after Hartree-Fock approximation as $\\Sigma^{HF}$.\n",
      "\n",
      "Use the following conventions for the symbols (You should also obey the conventions in all my previous prompts if you encounter undefined symbols. If you find it is never defined or has conflicts in the conventions, you should stop and let me know):  \n",
      "$\\Sigma^{HF}$ is the Hartree-Fock self-energy, $\\rho$ is the single-particle density matrix, $\\b{k}$ is the Brillouin-zone, $\\b{b}$ is the reciprocal lattice vectors, $\\alpha$ and $\\beta$ label spin, $A$ is the finite sample area corresponding to a discrete Brillouin-zone mesh, and $\\rho_{\\alpha,\\b{b};\\beta,\\b{b}'}$ is the self-consistently determined momentum-space density matrix.\n",
      "\n",
      "# Extract quadratic term\n",
      "You will be instructed to extract the quadratic terms in the $\\Sigma^{HF}$ term.  \n",
      "The quadratic terms mean terms that are proportional to $\\rho_{\\alpha,\\b{b};\\beta,\\b{b}'}$, which excludes terms that are solely expectations or products of expectations.  \n",
      "You should only preserve the quadratic terms in $\\Sigma^{HF}$, denoted as $\\Sigma^{HF}_{\\alpha,\\b{b};\\beta,\\b{b}'}$.  \n",
      "Return $\\Sigma^{HF}_{\\alpha,\\b{b};\\beta,\\b{b}'}$.  \n",
      "\n",
      "Use the following conventions for the symbols (You should also obey the conventions in all my previous prompts if you encounter undefined symbols. If you find it is never defined or has conflicts in the conventions, you should stop and let me know):  \n",
      "In $\\Sigma^{HF}_{\\alpha,\\b{b};\\beta,\\b{b}'}$, Greek letters label spin, $A$ is the finite sample area corresponding to a discrete Brillouin-zone mesh, and $\\rho_{\\alpha,\\b{b};\\beta,\\b{b}'}$ is the self-consistently determined momentum-space density matrix.\n",
      "\n",
      "# Expand interaction\n",
      "You will be instructed to expand interaction term $V(q)$ in the MF quadratic term $\\Sigma^{HF}_{\\alpha,\\b{b};\\beta,\\b{b}'}(\\b{k})$.\n",
      "If you find the $V(q)$ in $\\Sigma^{HF}_{\\alpha,\\b{b};\\beta,\\b{b}'}(\\b{k})$ does not contain any momentum that is not in the summation sign. The interaction term is already expanded. No action to perform on interaction term.\n",
      "Otherwise, you will expand $V(q)$ by replacing $q$ with the momentum $\\b{k}$.\n",
      "Return $\\Sigma^{HF}_{\\alpha,\\b{b};\\beta,\\b{b}'}(\\b{k})$ with expanded interaction.\n",
      "\n",
      "# Swap the index to combine Hartree and Fock terms\n",
      "You will be instructed to simplify the quadratic term $\\Sigma^{HF}$ through relabeling the index to combine the two Hartree/Fock term into one Hartree/Fock term.  \n",
      "The logic is that the expected value ($\\rho_{\\alpha',\\b{b}+\\b{b}'';\\alpha',\\b{b}'+\\b{b}''}(\\b{k}')$ and $\\rho_{\\alpha,\\b{b}+\\b{b}'';\\beta,\\b{b}'+\\b{b}''}(\\b{k}')$) in the first Hartree term ($\\frac{\\delta_{\\alpha,\\beta}}{A}\\sum_{\\alpha'}V_{\\alpha'\\alpha}(\\b{b}'-\\b{b})\\sum_{\\b{k}',\\b{b}''}$) has the same form as the quadratic operators in the second Hartree term ($-\\frac{1}{A}\\sum_{\\b{b}'',k'}V_{\\alpha\\beta}(\\b{b}''+\\b{k}'-\\b{k})$), and vice versa. The same applies to the Fock term.  \n",
      "This means, if you relabel the index by swapping the index in the \"expected value\" and \"quadratic operators\" in the second Hartree term, you can make the second Hartree term look identical to the first Hartree term, as long as $V(q)=V(-q)$, which is naturally satisfied in Coulomb interaction. You should follow the EXAMPLE below to simplify it through relabeling the index.  \n",
      "You should perform this trick of \"relabeling the index\" for both two Hartree terms and two Fock terms to reduce them to one Hartree term, and one Fock term.  \n",
      "Return the simplified $\\Sigma^{HF}$ which reduces from four terms (two Hartree and two Fock terms) to only two terms (one Hartree and one Fock term).\n",
      "\n",
      "# Reduce momentum in Hartree term (momentum in BZ + reciprocal lattice)\n",
      "You will be instructed to simplify the Hartree term in $\\Sigma^{HF}_{\\alpha,\\b{b};\\beta,\\b{b}'}(\\b{k})$ by reducing the momentum inside the expected value $\\rho_{\\alpha',\\b{b}+\\b{b}'';\\alpha',\\b{b}'+\\b{b}''}(\\b{k}')$.  \n",
      "The expected value $\\rho_{\\alpha',\\b{b}+\\b{b}'';\\alpha',\\b{b}'+\\b{b}''}(\\b{k}')$ is only nonzero when the two momenta $k_i,k_j$ are the same, namely, $\\delta_{\\alpha,\\beta}$.  \n",
      "You should use the property of Kronecker delta function $\\delta_{{k_i,k_j}}$ to reduce one momentum $k_i$ but not $b_i$.\n",
      "Once you reduce one momentum inside the expected value $\\langle\\dots\\rangle$. You will also notice the total momentum conservation will reduce another momentum in the quadratic term. Therefore, you should end up with only two momenta left in the summation.  \n",
      "You should follow the EXAMPLE below to reduce one momentum in the Hartree term, and another momentum in the quadratic term.  \n",
      "Return the final simplified Hartree term $\\Sigma^{HF}_{\\alpha,\\b{b};\\beta,\\b{b}'}(\\b{k})$.\n",
      "\n",
      "# Reduce momentum in Fock term (momentum in BZ + reciprocal lattice)\n",
      "You will be instructed to simplify the Fock term in $\\Sigma^{HF}_{\\alpha,\\b{b};\\beta,\\b{b}'}(\\b{k})$ by reducing the momentum inside the expected value $\\rho_{\\alpha',\\b{b}+\\b{b}'';\\alpha',\\b{b}'+\\b{b}''}(\\b{k}')$.  \n",
      "The expected value $\\rho_{\\alpha',\\b{b}+\\b{b}'';\\alpha',\\b{b}'+\\b{b}''}(\\b{k}')$ is only nonzero when the two momenta $k_i,k_j$ are the same, namely, $\\rho_{\\alpha,\\b{b};\\beta,\\b{b}'}$.  \n",
      "You should use the property of Kronecker delta function $\\delta_{{k_i,k_j}}$ to reduce one momentum $k_i$ but not $b_i$.  \n",
      "Once you reduce one momentum inside the expected value $\\langle\\dots\\rangle$. You will also notice the total momentum conservation will reduce another momentum in the quadratic term. Therefore, you should end up with only two momenta left in the summation.\n",
      "You should follow the EXAMPLE below to reduce one momentum in the Fock term, and another momentum in the quadratic term.    \n",
      "Return the final simplified Fock term $\\Sigma^{HF}_{\\alpha,\\b{b};\\beta,\\b{b}'}(\\b{k})$.\n",
      "\n",
      "\n"
     ]
    }
   ],
   "source": [
    "print(string)"
   ]
  },
  {
   "cell_type": "code",
   "execution_count": 48,
   "metadata": {},
   "outputs": [],
   "source": [
    "pwd=os.getcwd()"
   ]
  },
  {
   "cell_type": "code",
   "execution_count": 49,
   "metadata": {},
   "outputs": [],
   "source": [
    "with open(pwd.split('/')[-1]+'_extractor.md','w') as f:\n",
    "    f.write(string)"
   ]
  },
  {
   "cell_type": "code",
   "execution_count": null,
   "metadata": {},
   "outputs": [],
   "source": []
  }
 ],
 "metadata": {
  "kernelspec": {
   "display_name": "base",
   "language": "python",
   "name": "python3"
  },
  "language_info": {
   "codemirror_mode": {
    "name": "ipython",
    "version": 3
   },
   "file_extension": ".py",
   "mimetype": "text/x-python",
   "name": "python",
   "nbconvert_exporter": "python",
   "pygments_lexer": "ipython3",
   "version": "3.11.4"
  },
  "orig_nbformat": 4
 },
 "nbformat": 4,
 "nbformat_minor": 2
}
