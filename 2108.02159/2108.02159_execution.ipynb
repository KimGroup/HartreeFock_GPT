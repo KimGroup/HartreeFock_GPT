{
 "cells": [
  {
   "cell_type": "code",
   "execution_count": 1,
   "metadata": {},
   "outputs": [],
   "source": [
    "from IPython.display import Markdown\n",
    "\n",
    "import sys\n",
    "sys.path.append('..')\n",
    "from utils import *"
   ]
  },
  {
   "cell_type": "code",
   "execution_count": 9,
   "metadata": {},
   "outputs": [],
   "source": [
    "prompt_template='../prompt_template.md'\n",
    "arxiv_number='2108.02159'\n",
    "prompt_dict=load_prompt_template(prompt_template)\n",
    "with open(f'{arxiv_number}.yaml','r') as f:\n",
    "    kwargs= yaml.safe_load(f)"
   ]
  },
  {
   "cell_type": "code",
   "execution_count": 10,
   "metadata": {},
   "outputs": [],
   "source": [
    "prompt=generate_prompt(kwargs[12],prompt_dict)"
   ]
  },
  {
   "cell_type": "code",
   "execution_count": 11,
   "metadata": {},
   "outputs": [
    {
     "data": {
      "text/markdown": [
       "You will now be instructed to combine the Hartree term $\\Sigma^{int,Hartree,2}$ and the Fock term $\\Sigma^{int,Fock,2}$.  \n",
       "You should recall that the Hartree term $\\frac{1}{N A} \\sum_{\\sigma_1, \\sigma_2, b_1, b_2, b_3, b_4, k_1, k_2} V(b_1-b_4) \\delta_{b_1+b_2,b_3+b_4}\\langle c_{\\sigma_1,b_1}^\\dagger(k_1) c_{\\sigma_1,b_4}(k_1) \\rangle c_{\\sigma_2,b_2}^\\dagger(k_2) c_{\\sigma_2,b_3}(k_2)$,  \n",
       "and the Fock term $-\\frac{1}{N A} \\sum_{\\sigma_1, \\sigma_2, b_1, b_2, b_3, b_4, k_1, k_2} V(k_1+b_1-k_2-b_4) \\delta_{b_1+b_2,b_3+b_4}\\langle c_{\\sigma_1,b_1}^\\dagger(k_1) c_{\\sigma_2,b_3}(k_1) \\rangle c_{\\sigma_2,b_2}^\\dagger(k_2) c_{\\sigma_1,b_4}(k_2)$.  \n",
       "You should perform the same trick of relabeling the index in the Fock term to make the quadratic operators in the Fock term the same as those in the Hartree term. The relabeling should be done with a swap : Not needed.\n",
       "You should add them, relabel the index in Fock term, and simply their sum. \n",
       "Return the final sum of Hartree and Fock term."
      ],
      "text/plain": [
       "<IPython.core.display.Markdown object>"
      ]
     },
     "execution_count": 11,
     "metadata": {},
     "output_type": "execute_result"
    }
   ],
   "source": [
    "Markdown(prompt['content'])"
   ]
  },
  {
   "cell_type": "code",
   "execution_count": 31,
   "metadata": {},
   "outputs": [
    {
     "name": "stdout",
     "output_type": "stream",
     "text": [
      "You will be instructed to describe the potential term of Hamiltonian ${H_{0}}$ in the momentum space in the single-particle form.  \n",
      "The potential Hamiltonian has the same degrees of freedom as the kinetic Hamiltonian The diagonal terms are $\\Delta_{\\sigma, b,b}$.  \n",
      "The off-diagonal terms are the coupling between $b$ and $b'$, $\\Delta_{\\sigma, b,b'}$, which should be kept hermitian.  \n",
      "All other terms are zero.\n",
      "Express the potential Hamiltonian ${H_{0}}$ using $\\Delta_{\\sigma, b,b}$ and $\\Delta_{\\sigma, b,b'}$.  \n",
      "\n",
      "Use the following conventions for the symbols (You should also obey the conventions in all my previous prompts if you encounter undefined symbols. If you find it is never defined or has conflicts in the conventions, you should stop and let me know):  \n",
      "H_{0} is the single-particle Hamiltonian of the moir\\'e continuum model, T is the single-particle kinetic energy operator for electrons with effective mass m^*, \\Delta(\\mathbf{r}) is the moir\\'e potential, V_j = V_M\\exp\\left[(-1)^{j-1}i\\phi\\right] where V_M characterizes the moir\\'e modulation strength and \\phi its shape, \\bm{k} is in the first moir\\'e Brillouin zone and the \\bm{b}'s are moir\\'e reciprocal lattice vectors.\n"
     ]
    }
   ],
   "source": [
    "print(prompt['content'])"
   ]
  },
  {
   "cell_type": "code",
   "execution_count": null,
   "metadata": {},
   "outputs": [],
   "source": []
  }
 ],
 "metadata": {
  "kernelspec": {
   "display_name": "base",
   "language": "python",
   "name": "python3"
  },
  "language_info": {
   "codemirror_mode": {
    "name": "ipython",
    "version": 3
   },
   "file_extension": ".py",
   "mimetype": "text/x-python",
   "name": "python",
   "nbconvert_exporter": "python",
   "pygments_lexer": "ipython3",
   "version": "3.11.4"
  }
 },
 "nbformat": 4,
 "nbformat_minor": 2
}
