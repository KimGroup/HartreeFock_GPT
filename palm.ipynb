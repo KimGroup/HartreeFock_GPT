{
 "cells": [
  {
   "cell_type": "code",
   "execution_count": 1,
   "metadata": {},
   "outputs": [],
   "source": [
    "!pip install -q google-generativeai"
   ]
  },
  {
   "cell_type": "code",
   "execution_count": 1,
   "metadata": {},
   "outputs": [],
   "source": [
    "import pprint\n",
    "import google.generativeai as palm"
   ]
  },
  {
   "cell_type": "code",
   "execution_count": 3,
   "metadata": {},
   "outputs": [
    {
     "name": "stdout",
     "output_type": "stream",
     "text": [
      "models/chat-bison-001\n"
     ]
    }
   ],
   "source": [
    "models = [m for m in palm.list_models() if 'generateText' in m.supported_generation_methods]\n",
    "model = models[0].name\n",
    "print(model)"
   ]
  },
  {
   "cell_type": "code",
   "execution_count": 8,
   "metadata": {},
   "outputs": [
    {
     "name": "stdout",
     "output_type": "stream",
     "text": [
      "models/chat-bison-001\n",
      "models/text-bison-001\n",
      "models/embedding-gecko-001\n"
     ]
    }
   ],
   "source": [
    "models = [m for m in palm.list_models()]\n",
    "for model in models:\n",
    "    print(model.name)"
   ]
  },
  {
   "cell_type": "code",
   "execution_count": 4,
   "metadata": {},
   "outputs": [],
   "source": [
    "%load_ext google.generativeai.notebook"
   ]
  },
  {
   "cell_type": "code",
   "execution_count": 7,
   "metadata": {},
   "outputs": [
    {
     "data": {
      "text/html": [
       "<div>\n",
       "<style scoped>\n",
       "    .dataframe tbody tr th:only-of-type {\n",
       "        vertical-align: middle;\n",
       "    }\n",
       "\n",
       "    .dataframe tbody tr th {\n",
       "        vertical-align: top;\n",
       "    }\n",
       "\n",
       "    .dataframe thead th {\n",
       "        text-align: right;\n",
       "    }\n",
       "</style>\n",
       "<table border=\"1\" class=\"dataframe\">\n",
       "  <thead>\n",
       "    <tr style=\"text-align: right;\">\n",
       "      <th></th>\n",
       "      <th>Prompt Num</th>\n",
       "      <th>Input Num</th>\n",
       "      <th>Result Num</th>\n",
       "      <th>Prompt</th>\n",
       "      <th>text_result</th>\n",
       "    </tr>\n",
       "  </thead>\n",
       "  <tbody>\n",
       "    <tr>\n",
       "      <th>0</th>\n",
       "      <td>0</td>\n",
       "      <td>0</td>\n",
       "      <td>0</td>\n",
       "      <td>The opposite of hot is</td>\n",
       "      <td>cold</td>\n",
       "    </tr>\n",
       "  </tbody>\n",
       "</table>\n",
       "</div>"
      ],
      "text/plain": [
       "   Prompt Num  Input Num  Result Num                  Prompt text_result\n",
       "0           0          0           0  The opposite of hot is        cold"
      ]
     },
     "execution_count": 7,
     "metadata": {},
     "output_type": "execute_result"
    }
   ],
   "source": [
    "%%palm run\n",
    "The opposite of hot is"
   ]
  },
  {
   "cell_type": "code",
   "execution_count": 8,
   "metadata": {},
   "outputs": [
    {
     "data": {
      "text/html": [
       "<div>\n",
       "<style scoped>\n",
       "    .dataframe tbody tr th:only-of-type {\n",
       "        vertical-align: middle;\n",
       "    }\n",
       "\n",
       "    .dataframe tbody tr th {\n",
       "        vertical-align: top;\n",
       "    }\n",
       "\n",
       "    .dataframe thead th {\n",
       "        text-align: right;\n",
       "    }\n",
       "</style>\n",
       "<table border=\"1\" class=\"dataframe\">\n",
       "  <thead>\n",
       "    <tr style=\"text-align: right;\">\n",
       "      <th></th>\n",
       "      <th>Prompt Num</th>\n",
       "      <th>Input Num</th>\n",
       "      <th>Result Num</th>\n",
       "      <th>Prompt</th>\n",
       "      <th>text_result</th>\n",
       "    </tr>\n",
       "  </thead>\n",
       "  <tbody>\n",
       "    <tr>\n",
       "      <th>0</th>\n",
       "      <td>0</td>\n",
       "      <td>0</td>\n",
       "      <td>0</td>\n",
       "      <td>The opposite of hot is</td>\n",
       "      <td>cold</td>\n",
       "    </tr>\n",
       "  </tbody>\n",
       "</table>\n",
       "</div>"
      ],
      "text/plain": [
       "   Prompt Num  Input Num  Result Num                  Prompt text_result\n",
       "0           0          0           0  The opposite of hot is        cold"
      ]
     },
     "execution_count": 8,
     "metadata": {},
     "output_type": "execute_result"
    }
   ],
   "source": [
    "%%palm\n",
    "The opposite of hot is"
   ]
  },
  {
   "cell_type": "code",
   "execution_count": 18,
   "metadata": {},
   "outputs": [],
   "source": [
    "response = palm.chat(messages=[{'author': '0', 'content': 'Hello, I am Alice'},\n",
    " {'author': '1', 'content': 'Hello! I am Bob'},{'author': '0', 'content': 'I am Charlie'}],temperature=0)"
   ]
  },
  {
   "cell_type": "code",
   "execution_count": 13,
   "metadata": {},
   "outputs": [
    {
     "data": {
      "text/plain": [
       "[{'author': '0', 'content': 'Hello'},\n",
       " {'author': '1', 'content': 'Hello! How can I help you today?'},\n",
       " {'author': '0', 'content': 'I am doing good'},\n",
       " {'author': '1',\n",
       "  'content': \"I'm glad to hear that you're doing well! I hope you have a great day.\"}]"
      ]
     },
     "execution_count": 13,
     "metadata": {},
     "output_type": "execute_result"
    }
   ],
   "source": [
    "response.messages"
   ]
  },
  {
   "cell_type": "code",
   "execution_count": null,
   "metadata": {},
   "outputs": [],
   "source": [
    "?palm.chat"
   ]
  },
  {
   "cell_type": "code",
   "execution_count": 12,
   "metadata": {},
   "outputs": [
    {
     "data": {
      "text/plain": [
       "'Hello! How can I help you today?'"
      ]
     },
     "execution_count": 12,
     "metadata": {},
     "output_type": "execute_result"
    }
   ],
   "source": [
    "response.last"
   ]
  },
  {
   "cell_type": "code",
   "execution_count": 13,
   "metadata": {},
   "outputs": [],
   "source": [
    "response = response.reply(\"Just chillin'\")"
   ]
  },
  {
   "cell_type": "code",
   "execution_count": 14,
   "metadata": {},
   "outputs": [
    {
     "data": {
      "text/plain": [
       "\"That's great! I'm glad you're having a good day. What are you up to today?\""
      ]
     },
     "execution_count": 14,
     "metadata": {},
     "output_type": "execute_result"
    }
   ],
   "source": [
    "response.last"
   ]
  },
  {
   "cell_type": "code",
   "execution_count": 16,
   "metadata": {},
   "outputs": [
    {
     "data": {
      "text/plain": [
       "[{'author': '0', 'content': 'Hello'},\n",
       " {'author': '1', 'content': 'Hello! How can I help you today?'},\n",
       " {'author': '0', 'content': \"Just chillin'\"},\n",
       " {'author': '1',\n",
       "  'content': \"That's great! I'm glad you're having a good day. What are you up to today?\"}]"
      ]
     },
     "execution_count": 16,
     "metadata": {},
     "output_type": "execute_result"
    }
   ],
   "source": [
    "response.messages"
   ]
  },
  {
   "cell_type": "code",
   "execution_count": 17,
   "metadata": {},
   "outputs": [
    {
     "name": "stdout",
     "output_type": "stream",
     "text": [
      "Hello, my good fellow. How fares thee this day?\n"
     ]
    }
   ],
   "source": [
    "reply = palm.chat(context=\"Speak like Shakespeare.\", messages='Hello')\n",
    "print(reply.last)"
   ]
  },
  {
   "cell_type": "code",
   "execution_count": null,
   "metadata": {},
   "outputs": [],
   "source": []
  },
  {
   "cell_type": "code",
   "execution_count": null,
   "metadata": {},
   "outputs": [],
   "source": []
  },
  {
   "cell_type": "code",
   "execution_count": null,
   "metadata": {},
   "outputs": [],
   "source": []
  },
  {
   "cell_type": "code",
   "execution_count": 24,
   "metadata": {},
   "outputs": [],
   "source": [
    "prompt_system = '''I will provide you a Excerpt of physics paper, and a Template. You will need to fill the placeholders in the template using the correct information from the excerpt.\n",
    "Here are conventions: \n",
    "{..} means a placeholder which you need to fill by extracting information from the excerpt.\n",
    "{A|B} means you need to make a choice between A and B\n",
    "[..] means optional sentence. You should decide whether to use it depending on the excerpt.\n",
    "{{..}} DOES NOT mean a placeholder. You should not change the content inside double curly braces {{..}}.\n",
    "`You should recall that {expression_second_nonint}.` : this sentence should be kept as is.\n",
    "\n",
    "\n",
    "Finally, if you cannot figure out the placeholder, you should leave it as is.'''"
   ]
  },
  {
   "cell_type": "code",
   "execution_count": 25,
   "metadata": {},
   "outputs": [],
   "source": [
    "system_prompt = r'''Template:\n",
    " You will be instructed to describe the kinetic term of Hamiltonian in {system} in the {real|momentum} space in the {single-particle|second-quantized} form.   \n",
    "The degrees of freedom of the system are: {degrees_of_freedom}.  \n",
    "Express the Kinetic Hamiltonian {kinetic_symbol} using {variable} which are only on the diagonal terms, and arrange the basis in the order of {order}. [Note that the sublattice degrees of freedom is suppressed for now and will be stated later]\n",
    "\n",
    "Use the following conventions for the symbols:  \n",
    "{definition_of_variables}\n",
    "\n",
    " \n",
    "\n",
    " Excerpt:\n",
    " \\begin{equation}\\label{eq:Ham}\n",
    "    H_{\\tau}=\\begin{pmatrix}\n",
    "        -\\frac{\\hbar^2\\bm{k}^2}{2m_\\mathfrak{b}}+\\Delta_{\\mathfrak{b}}(\\bm{r}) &  \\Delta_{\\text{T},\\tau}(\\bm{r})\\\\\n",
    "        \\Delta_{\\text{T},\\tau}^\\dag(\\bm{r}) & -\\frac{\\hbar^2\\left(\\bm{k}-\\tau \\bm{\\kappa}\\right)^2}{2m_\\mathfrak{t}}+ \\Delta_\\mathfrak{t}(\\bm{r})+V_{z\\mathfrak{t}}\n",
    "    \\end{pmatrix},\n",
    "\\end{equation} \n",
    "where $\\tau=\\pm 1$ represents $\\pm K$ valleys, and $\\bm{\\kappa}=\\frac{4\\pi}{3a_M}\\left(1,0\\right)$  is at a corner of the  moir\\'e Brillouin zone.  For each valley, the $2\\times 2$ Hamiltonian hybridizes the bottom layer ($\\mathfrak{b}$) and top layer ($\\mathfrak{t}$), where the off diagonal terms describe the interlayer tunneling $\\Delta_{\\text{T},\\tau}$, and the diagonal terms describe the momentum-shifted kinetic energy with the effective mass $(m_{\\mathfrak{b}},m_{\\mathfrak{t}})=(0.65,0.35)m_e$ ($m_e$ is the rest electron mass), plus the intralayer potential $\\Delta_{\\mathfrak{b}/\\mathfrak{t}}$, and a band offset $V_{z\\mathfrak{t}}$ [Fig.~\\ref{fig:1}(b)]. Our $H_\\tau$ differs from that in Ref.~\\onlinecite{zhang2021spintextured} by a gauge transformation. \n",
    "'''"
   ]
  },
  {
   "cell_type": "code",
   "execution_count": 35,
   "metadata": {},
   "outputs": [],
   "source": [
    "response = palm.chat(messages=[prompt_system+system_prompt])\n",
    "# response = response.reply(system_prompt)"
   ]
  },
  {
   "cell_type": "code",
   "execution_count": 36,
   "metadata": {},
   "outputs": [],
   "source": [
    "from IPython.display import Markdown"
   ]
  },
  {
   "cell_type": "code",
   "execution_count": 37,
   "metadata": {},
   "outputs": [
    {
     "data": {
      "text/plain": [
       "[{'author': '0',\n",
       "  'content': \"I will provide you a Excerpt of physics paper, and a Template. You will need to fill the placeholders in the template using the correct information from the excerpt.\\nHere are conventions: \\n{..} means a placeholder which you need to fill by extracting information from the excerpt.\\n{A|B} means you need to make a choice between A and B\\n[..] means optional sentence. You should decide whether to use it depending on the excerpt.\\n{{..}} DOES NOT mean a placeholder. You should not change the content inside double curly braces {{..}}.\\n`You should recall that {expression_second_nonint}.` : this sentence should be kept as is.\\n\\n\\nFinally, if you cannot figure out the placeholder, you should leave it as is.Template:\\n You will be instructed to describe the kinetic term of Hamiltonian in {system} in the {real|momentum} space in the {single-particle|second-quantized} form.   \\nThe degrees of freedom of the system are: {degrees_of_freedom}.  \\nExpress the Kinetic Hamiltonian {kinetic_symbol} using {variable} which are only on the diagonal terms, and arrange the basis in the order of {order}. [Note that the sublattice degrees of freedom is suppressed for now and will be stated later]\\n\\nUse the following conventions for the symbols:  \\n{definition_of_variables}\\n\\n \\n\\n Excerpt:\\n \\\\begin{equation}\\\\label{eq:Ham}\\n    H_{\\\\tau}=\\\\begin{pmatrix}\\n        -\\\\frac{\\\\hbar^2\\\\bm{k}^2}{2m_\\\\mathfrak{b}}+\\\\Delta_{\\\\mathfrak{b}}(\\\\bm{r}) &  \\\\Delta_{\\\\text{T},\\\\tau}(\\\\bm{r})\\\\\\\\\\n        \\\\Delta_{\\\\text{T},\\\\tau}^\\\\dag(\\\\bm{r}) & -\\\\frac{\\\\hbar^2\\\\left(\\\\bm{k}-\\\\tau \\\\bm{\\\\kappa}\\\\right)^2}{2m_\\\\mathfrak{t}}+ \\\\Delta_\\\\mathfrak{t}(\\\\bm{r})+V_{z\\\\mathfrak{t}}\\n    \\\\end{pmatrix},\\n\\\\end{equation} \\nwhere $\\\\tau=\\\\pm 1$ represents $\\\\pm K$ valleys, and $\\\\bm{\\\\kappa}=\\\\frac{4\\\\pi}{3a_M}\\\\left(1,0\\\\right)$  is at a corner of the  moir\\\\'e Brillouin zone.  For each valley, the $2\\\\times 2$ Hamiltonian hybridizes the bottom layer ($\\\\mathfrak{b}$) and top layer ($\\\\mathfrak{t}$), where the off diagonal terms describe the interlayer tunneling $\\\\Delta_{\\\\text{T},\\\\tau}$, and the diagonal terms describe the momentum-shifted kinetic energy with the effective mass $(m_{\\\\mathfrak{b}},m_{\\\\mathfrak{t}})=(0.65,0.35)m_e$ ($m_e$ is the rest electron mass), plus the intralayer potential $\\\\Delta_{\\\\mathfrak{b}/\\\\mathfrak{t}}$, and a band offset $V_{z\\\\mathfrak{t}}$ [Fig.~\\\\ref{fig:1}(b)]. Our $H_\\\\tau$ differs from that in Ref.~\\\\onlinecite{zhang2021spintextured} by a gauge transformation. \\n\"},\n",
       " {'author': '1',\n",
       "  'content': \"You will be instructed to describe the kinetic term of Hamiltonian in **bilayer graphene** in the **real** space in the **single-particle** form.   \\nThe degrees of freedom of the system are: **two sublattices** and **two valleys**.  \\nExpress the Kinetic Hamiltonian **$H_\\\\tau$** using **$\\\\bm{k}$** which are only on the diagonal terms, and arrange the basis in the order of **$\\\\tau$, $\\\\bm{k}$**. [Note that the sublattice degrees of freedom is suppressed for now and will be stated later]\\n\\nUse the following conventions for the symbols:  \\n* **$\\\\hbar$** is the reduced Planck constant\\n* **$m_e$** is the rest electron mass\\n* **$a_M$** is the moir\\\\'e lattice constant\\n* **$\\\\bm{\\\\kappa}$** is the moir\\\\'e reciprocal lattice vector\\n* **$\\\\Delta_{\\\\mathfrak{b}/\\\\mathfrak{t}}$** are the intralayer potentials\\n* **$V_{z\\\\mathfrak{t}}$** is the band offset\\n* **$\\\\Delta_{\\\\text{T},\\\\tau}$** is the interlayer tunneling\\n\\nThe kinetic Hamiltonian in real space is given by\\n\\n$$H_\\\\tau(\\\\bm{r}) = \\\\begin{pmatrix}\\n        -\\\\frac{\\\\hbar^2\\\\nabla^2}{2m_\\\\mathfrak{b}}+\\\\Delta_{\\\\mathfrak{b}}(\\\\bm{r}) &  \\\\Delta_{\\\\text{T},\\\\tau}(\\\\bm{r})\\\\\\\\\\n        \\\\Delta_{\\\\text{T},\\\\tau}^\\\\dag(\\\\bm{r}) & -\\\\frac{\\\\hbar^2\\\\nabla^2}{2m_\\\\mathfrak{t}}+ \\\\Delta_\\\\mathfrak{t}(\\\\bm{r})+V_{z\\\\mathfrak{t}}\\n    \\\\end{pmatrix}.\\n$$\\n\\nThe diagonal terms describe the momentum-shifted kinetic energy with the effective mass $(m_{\\\\mathfrak{b}},m_{\\\\mathfrak{t}})=(0.65,0.35)m_e$ ($m_e$ is the rest electron mass), plus the intralayer potential $\\\\Delta_{\\\\mathfrak{b}/\\\\mathfrak{t}}$, and a band offset $V_{z\\\\mathfrak{t}}$. The off-diagonal terms describe the interlayer tunneling $\\\\Delta_{\\\\text{T},\\\\tau}$.\"}]"
      ]
     },
     "execution_count": 37,
     "metadata": {},
     "output_type": "execute_result"
    }
   ],
   "source": [
    "response.messages"
   ]
  },
  {
   "cell_type": "code",
   "execution_count": 38,
   "metadata": {},
   "outputs": [
    {
     "data": {
      "text/markdown": [
       "You will be instructed to describe the kinetic term of Hamiltonian in **bilayer graphene** in the **real** space in the **single-particle** form.   \n",
       "The degrees of freedom of the system are: **two sublattices** and **two valleys**.  \n",
       "Express the Kinetic Hamiltonian **$H_\\tau$** using **$\\bm{k}$** which are only on the diagonal terms, and arrange the basis in the order of **$\\tau$, $\\bm{k}$**. [Note that the sublattice degrees of freedom is suppressed for now and will be stated later]\n",
       "\n",
       "Use the following conventions for the symbols:  \n",
       "* **$\\hbar$** is the reduced Planck constant\n",
       "* **$m_e$** is the rest electron mass\n",
       "* **$a_M$** is the moir\\'e lattice constant\n",
       "* **$\\bm{\\kappa}$** is the moir\\'e reciprocal lattice vector\n",
       "* **$\\Delta_{\\mathfrak{b}/\\mathfrak{t}}$** are the intralayer potentials\n",
       "* **$V_{z\\mathfrak{t}}$** is the band offset\n",
       "* **$\\Delta_{\\text{T},\\tau}$** is the interlayer tunneling\n",
       "\n",
       "The kinetic Hamiltonian in real space is given by\n",
       "\n",
       "$$H_\\tau(\\bm{r}) = \\begin{pmatrix}\n",
       "        -\\frac{\\hbar^2\\nabla^2}{2m_\\mathfrak{b}}+\\Delta_{\\mathfrak{b}}(\\bm{r}) &  \\Delta_{\\text{T},\\tau}(\\bm{r})\\\\\n",
       "        \\Delta_{\\text{T},\\tau}^\\dag(\\bm{r}) & -\\frac{\\hbar^2\\nabla^2}{2m_\\mathfrak{t}}+ \\Delta_\\mathfrak{t}(\\bm{r})+V_{z\\mathfrak{t}}\n",
       "    \\end{pmatrix}.\n",
       "$$\n",
       "\n",
       "The diagonal terms describe the momentum-shifted kinetic energy with the effective mass $(m_{\\mathfrak{b}},m_{\\mathfrak{t}})=(0.65,0.35)m_e$ ($m_e$ is the rest electron mass), plus the intralayer potential $\\Delta_{\\mathfrak{b}/\\mathfrak{t}}$, and a band offset $V_{z\\mathfrak{t}}$. The off-diagonal terms describe the interlayer tunneling $\\Delta_{\\text{T},\\tau}$."
      ],
      "text/plain": [
       "<IPython.core.display.Markdown object>"
      ]
     },
     "execution_count": 38,
     "metadata": {},
     "output_type": "execute_result"
    }
   ],
   "source": [
    "Markdown(response.last)"
   ]
  },
  {
   "cell_type": "code",
   "execution_count": null,
   "metadata": {},
   "outputs": [
    {
     "data": {
      "text/markdown": [
       "You will be instructed to describe the kinetic term of Hamiltonian in a two-dimensional electron gas (2DEG) in the real space in the single-particle form.\n",
       "The degrees of freedom of the system are: two spatial coordinates $(x,y)$.\n",
       "Express the Kinetic Hamiltonian $H_k$ using the momentum $k$ which is only on the diagonal terms, and arrange the basis in the order of $k_x, k_y$.\n",
       "\n",
       "Use the following conventions for the symbols:\n",
       "\n",
       "* $m_b$ is the mass of the electron in the 2DEG.\n",
       "* $\\Delta_b(r)$ is the confining potential in the 2DEG.\n",
       "* $\\Delta_{ext,au}(r)$ is the external potential due to the $au$-th atom.\n",
       "* $m_t$ is the mass of the heavy hole in the 2DEG.\n",
       "* $\\Delta_t(r)$ is the confining potential in the 2DEG.\n",
       "* $V_{z,t}$ is the Zeeman energy of the heavy hole in the 2DEG.\n",
       "\n",
       "The kinetic Hamiltonian in the real space is given by\n",
       "\n",
       "$$H_k = \\frac{\\hbar^2}{2m_b} \\left( -\\frac{\\partial^2}{\\partial x^2} - \\frac{\\partial^2}{\\partial y^2} \\right).$$\n",
       "\n",
       "The basis functions are the plane waves\n",
       "\n",
       "$$\\psi_{k_x,k_y}(x,y) = \\frac{1}{\\sqrt{\\pi}} e^{i(k_x x + k_y y)}.$$\n",
       "\n",
       "The kinetic Hamiltonian in the momentum space is given by\n",
       "\n",
       "$$H_k = \\sum_{k_x,k_y} \\psi_{k_x,k_y}^\\dagger H_k \\psi_{k_x,k_y} = \\sum_{k_x,k_y} \\frac{\\hbar^2 k^2}{2m_b} \\psi_{k_x,k_y}^\\dagger \\psi_{k_x,k_y}.$$"
      ],
      "text/plain": [
       "<IPython.core.display.Markdown object>"
      ]
     },
     "metadata": {},
     "output_type": "display_data"
    }
   ],
   "source": [
    "Markdown(response.last)"
   ]
  },
  {
   "cell_type": "code",
   "execution_count": null,
   "metadata": {},
   "outputs": [],
   "source": []
  },
  {
   "cell_type": "markdown",
   "metadata": {},
   "source": [
    "# Prompt fill place holder"
   ]
  },
  {
   "cell_type": "code",
   "execution_count": 31,
   "metadata": {},
   "outputs": [],
   "source": [
    "import json"
   ]
  },
  {
   "cell_type": "code",
   "execution_count": 32,
   "metadata": {},
   "outputs": [],
   "source": [
    "with open('2111.01152/2111.01152.jsonl','r') as f:\n",
    "    kwargs_jsonl= [json.loads(line) for line in f]"
   ]
  },
  {
   "cell_type": "code",
   "execution_count": 33,
   "metadata": {},
   "outputs": [],
   "source": [
    "def load_excerpt(sources):\n",
    "    excerpt=''\n",
    "    for tex, lines in sources.items():\n",
    "        with open(tex,'r') as f:\n",
    "            f_list=list(f)\n",
    "            for line in lines:\n",
    "                excerpt=excerpt+''.join(f_list[line[0]:line[1]])\n",
    "    return excerpt"
   ]
  },
  {
   "cell_type": "code",
   "execution_count": 34,
   "metadata": {},
   "outputs": [],
   "source": [
    "prompt_system=r'''I will provide you a Excerpt of physics paper, and a Template. You will need to fill the placeholders in the template using the correct information from the excerpt.\n",
    "Here are conventions: \n",
    "{..} means a placeholder which you need to fill by extracting information from the excerpt.\n",
    "{A|B} means you need to make a choice between A and B\n",
    "[..] means optional sentence. You should decide whether to use it depending on the excerpt.\n",
    "{{..}} DOES NOT mean a placeholder. You should not change the content inside double curly braces {{..}}.\n",
    "`You should recall that {expression_second_nonint}.` : this sentence should be kept as is.\n",
    "\n",
    "\n",
    "Finally, if you cannot figure out the placeholder, you should leave it as is.'''"
   ]
  },
  {
   "cell_type": "code",
   "execution_count": 35,
   "metadata": {},
   "outputs": [],
   "source": [
    "def drop_text_after(string):\n",
    "    string_new=''\n",
    "    for line in string.split('\\n'):\n",
    "        if '===' in line:\n",
    "            break\n",
    "        else:\n",
    "            if 'You should recall that' not in line:\n",
    "                string_new='\\n'.join([string_new,line])\n",
    "    return string_new[1:]\n"
   ]
  },
  {
   "cell_type": "code",
   "execution_count": null,
   "metadata": {},
   "outputs": [],
   "source": [
    "def extractor(descriptor,message=False):\n",
    "    sys_msg=[{'role': 'system', 'content': prompt_system}]\n",
    "    question_prompt='\\nTemplate:\\n {template} \\n\\n Excerpt:\\n {excerpt}'.format(template=drop_text_after(prompt_dict()[descriptor['task']]), excerpt=load_excerpt(descriptor['source']))\n",
    "    user_msg=[{'role':'user','content':question_prompt}]\n",
    "    messages = sys_msg + user_msg\n",
    "    if message:\n",
    "        return user_msg[0]['content']\n",
    "    rs= openai.ChatCompletion.create(messages=messages, **model_params)\n",
    "    response=rs['choices'][0]['message'].content\n",
    "    return response\n"
   ]
  }
 ],
 "metadata": {
  "kernelspec": {
   "display_name": "base",
   "language": "python",
   "name": "python3"
  },
  "language_info": {
   "codemirror_mode": {
    "name": "ipython",
    "version": 3
   },
   "file_extension": ".py",
   "mimetype": "text/x-python",
   "name": "python",
   "nbconvert_exporter": "python",
   "pygments_lexer": "ipython3",
   "version": "3.8.11"
  },
  "orig_nbformat": 4
 },
 "nbformat": 4,
 "nbformat_minor": 2
}
