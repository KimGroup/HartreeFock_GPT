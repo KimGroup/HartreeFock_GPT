{
 "cells": [
  {
   "cell_type": "code",
   "execution_count": 4,
   "metadata": {},
   "outputs": [],
   "source": [
    "import openai\n",
    "import pandas as pd\n",
    "import json\n",
    "import yaml\n",
    "from IPython.display import Markdown\n",
    "import sys\n",
    "from tqdm import tqdm"
   ]
  },
  {
   "cell_type": "code",
   "execution_count": 5,
   "metadata": {},
   "outputs": [],
   "source": [
    "zz=openai.Model.list()"
   ]
  },
  {
   "cell_type": "code",
   "execution_count": 6,
   "metadata": {},
   "outputs": [
    {
     "data": {
      "text/plain": [
       "62"
      ]
     },
     "execution_count": 6,
     "metadata": {},
     "output_type": "execute_result"
    }
   ],
   "source": [
    "len(zz['data'])"
   ]
  },
  {
   "cell_type": "code",
   "execution_count": 7,
   "metadata": {},
   "outputs": [],
   "source": [
    "model_params = {\n",
    "    'model': \"gpt-4\",\n",
    "    'temperature': 0,\n",
    "}"
   ]
  },
  {
   "cell_type": "code",
   "execution_count": 8,
   "metadata": {},
   "outputs": [],
   "source": [
    "def print_save(string, file='../cmp2.md'):\n",
    "    print(string)\n",
    "    with open(file,'w') as f:\n",
    "        f.write(string)"
   ]
  },
  {
   "cell_type": "markdown",
   "metadata": {},
   "source": [
    "## Load prompt_template.md"
   ]
  },
  {
   "cell_type": "code",
   "execution_count": 9,
   "metadata": {},
   "outputs": [],
   "source": [
    "sys.path.append('..')\n",
    "from utils import *\n",
    "from functools import partial"
   ]
  },
  {
   "cell_type": "code",
   "execution_count": 10,
   "metadata": {},
   "outputs": [],
   "source": [
    "prompt_dict = partial(load_prompt_template,file='../prompt_template.md')"
   ]
  },
  {
   "cell_type": "code",
   "execution_count": 11,
   "metadata": {},
   "outputs": [
    {
     "data": {
      "text/plain": [
       "dict_keys(['Preamble', 'Problem-solver', 'Conversation summarizer', 'Construct Kinetic Hamiltonian (continuum version, single-particle)', 'Construct Kinetic Hamiltonian (continuum version, second-quantized)', 'Construct Kinetic Hamiltonian (lattice version)', 'Define each term in Kinetic Hamiltonian (continuum version)', 'Construct Potential Hamiltonian (continuum version)', 'Define each term in Potential Hamiltonian (continuum version)', 'Construct interaction Hamiltonian (real space, lattice version)', 'Construct interaction Hamiltonian (momentum space)', 'Convert from single-particle to second-quantized form, return in matrix', 'Convert from single-particle to second-quantized form, return in summation (expand the matrix)', 'Convert noninteracting Hamiltonian in real space to momentum space (continuum version)', 'Convert noninteracting Hamiltonian in real space to momentum space (lattice version)', 'Convert interacting Hamiltonian in real space to momentum space (lattice version)', 'Particle-hole transformation', 'Simplify the Hamiltonian in the particle-hole basis', \"Wick's theorem\", 'Extract quadratic term', 'Hartree term only', 'Fock term only', 'Expand interaction', 'Swap the index only', 'Swap the index to combine Hartree and Fock terms', 'Reduce momentum in Hartree term (momentum in BZ + reciprocal lattice)', 'Reduce momentum in Hartree term (momentum in BZ)', 'Reduce momentum in Fock term (momentum in BZ + reciprocal lattice)', 'Combine the Hartree and Fock term', 'Construct full Hamiltonian after HF', 'Mathematical simplify: inner product expansion', \"Mathematical simplify: Euler's formula\", 'Mathematical simplify: prosthaphaeresis', 'Mathematical simplify: Expand the product using Associative property', 'Mathematical simplify: Combine using Associative property', 'Mathematical simplify: reduce index'])"
      ]
     },
     "execution_count": 11,
     "metadata": {},
     "output_type": "execute_result"
    }
   ],
   "source": [
    "prompt_dict().keys()"
   ]
  },
  {
   "cell_type": "code",
   "execution_count": null,
   "metadata": {},
   "outputs": [],
   "source": []
  },
  {
   "cell_type": "markdown",
   "metadata": {},
   "source": [
    "# Prompt fill place holder"
   ]
  },
  {
   "cell_type": "code",
   "execution_count": 12,
   "metadata": {},
   "outputs": [],
   "source": [
    "import json"
   ]
  },
  {
   "cell_type": "code",
   "execution_count": 17,
   "metadata": {},
   "outputs": [],
   "source": [
    "with open('2112.07523.yaml','r') as f:\n",
    "    kwargs_yaml = yaml.safe_load(f)"
   ]
  },
  {
   "cell_type": "code",
   "execution_count": 18,
   "metadata": {},
   "outputs": [],
   "source": [
    "def load_excerpt(sources):\n",
    "    excerpt=''\n",
    "    for tex, lines in sources.items():\n",
    "        with open(tex,'r') as f:\n",
    "            f_list=list(f)\n",
    "            for line in lines:\n",
    "                excerpt=excerpt+''.join(f_list[line[0]:line[1]])\n",
    "    return excerpt"
   ]
  },
  {
   "cell_type": "code",
   "execution_count": 19,
   "metadata": {},
   "outputs": [],
   "source": [
    "prompt_system='''I will provide you a Excerpt of physics paper, and a Template. You will need to fill the placeholders in the template using the correct information from the excerpt.\n",
    "Here are conventions: \n",
    "{..} means a placeholder which you need to fill by extracting information from the excerpt.\n",
    "{A|B} means you need to make a choice between A and B\n",
    "[..] means optional sentence. You should decide whether to use it depending on the excerpt.\n",
    "{{..}} DOES NOT mean a placeholder. You should not change the content inside double curly braces {{..}}.\n",
    "`You should recall that {expression_second_nonint}.` : this sentence should be kept as is.\n",
    "\n",
    "\n",
    "Finally, if you cannot figure out the placeholder, you should leave it as is.'''"
   ]
  },
  {
   "cell_type": "code",
   "execution_count": 20,
   "metadata": {},
   "outputs": [],
   "source": [
    "def drop_text_after(string):\n",
    "    string_new=''\n",
    "    for line in string.split('\\n'):\n",
    "        if '===' in line:\n",
    "            break\n",
    "        else:\n",
    "            if 'You should recall that' not in line:\n",
    "                string_new='\\n'.join([string_new,line])\n",
    "    return string_new[1:]\n"
   ]
  },
  {
   "cell_type": "code",
   "execution_count": 21,
   "metadata": {},
   "outputs": [],
   "source": [
    "def extractor(descriptor,message=False):\n",
    "    sys_msg=[{'role': 'system', 'content': prompt_system}]\n",
    "    question_prompt='\\nTemplate:\\n {template} \\n\\n Excerpt:\\n {excerpt}'.format(template=drop_text_after(prompt_dict()[descriptor['task']]), excerpt=load_excerpt(descriptor['source']))\n",
    "    user_msg=[{'role':'user','content':question_prompt}]\n",
    "    messages = sys_msg + user_msg\n",
    "    if message:\n",
    "        return sys_msg[0]['content']+user_msg[0]['content']\n",
    "    rs= openai.ChatCompletion.create(messages=messages, **model_params)\n",
    "    response=rs['choices'][0]['message'].content\n",
    "    return response\n"
   ]
  },
  {
   "cell_type": "markdown",
   "metadata": {},
   "source": [
    "## GPT4"
   ]
  },
  {
   "cell_type": "code",
   "execution_count": 26,
   "metadata": {},
   "outputs": [
    {
     "name": "stderr",
     "output_type": "stream",
     "text": [
      "100%|██████████| 11/11 [05:14<00:00, 28.63s/it]\n"
     ]
    }
   ],
   "source": [
    "string=''\n",
    "for kwargs in tqdm(kwargs_yaml):\n",
    "    string+='# '+kwargs['task']+'\\n'\n",
    "    response=(extractor(kwargs, message=False))\n",
    "    string+=response+'\\n\\n'\n",
    "    \n",
    "    "
   ]
  },
  {
   "cell_type": "code",
   "execution_count": 28,
   "metadata": {},
   "outputs": [
    {
     "name": "stdout",
     "output_type": "stream",
     "text": [
      "# Construct Kinetic Hamiltonian (continuum version, second-quantized)\n",
      "You will be instructed to describe the kinetic term of Hamiltonian in a system under an in-plane magnetic field in the momentum space in the single-particle form.   \n",
      "The degrees of freedom of the system are: four-component spinors $\\psi_{\\bm k}=(a_{c\\uparrow\\bm k},a_{v\\uparrow\\bm k},a_{c\\downarrow\\bm k},a_{v\\downarrow\\bm k})^T$, where $c$ and $v$ denote the conduction and valence bands, and $\\uparrow$ and $\\downarrow$ denote two opposite spins.  \n",
      "Express the Kinetic Hamiltonian $H_{\\rm{BHZ}}$ using $h_{\\uparrow}$, $h_{\\downarrow}$, $\\psi_{\\bm k}^{\\dagger}$, and $\\psi_{\\bm k}$, where the summation of ${k}$ should be running over the entire space.\n",
      "\n",
      "Use the following conventions for the symbols:  \n",
      "$h_{\\uparrow}$ and $h_{\\downarrow}$ are the two $2\\times 2$ matrices that can be explicitly expressed as given in the excerpt. $m_e$ and $m_h$ are the effective masses of electrons and holes, $E_g$ is the band gap, $A$ is the strength of hybridization between the conduction and valence bands, and $\\bm Q$ is the momentum shift due to the in-plane magnetic field. Without the magnetic field, $\\bm Q=0$ and $h_{\\uparrow},h_{downarrow}$ are time-reversal partners.\n",
      "\n",
      "# Define each term in Kinetic Hamiltonian (continuum version)\n",
      "You will be instructed to construct each term, namely $h_{\\uparrow}(\\bm k)$ and $h_{\\downarrow}(\\bm k)$.  \n",
      "For all energy dispersions, $h_{\\uparrow}(\\bm k)$ and $h_{\\downarrow}(\\bm k)$, it characterizes the parabolic dispersion for electrons and holes.   \n",
      "In addition, a shift of $\\bm Q$ in the momentum $\\bm k$ for $h_{\\uparrow}(\\bm k)$ and $h_{\\downarrow}(\\bm k)$, respectively.  \n",
      "You should follow the EXAMPLE below to obtain correct energy dispersion, select the correct EXAMPLE by noticing the type of dispersion.  \n",
      "Finally, in the real space, the momentum $\\bm k=-i \\partial_{\\bm r}$. You should keep the form of $\\bm k$ in the Hamiltonian for short notations but should remember $\\bm k$ is an operator.  \n",
      "Return the expression for $h_{\\uparrow}(\\bm k)$ and $h_{\\downarrow}(\\bm k)$ in the Kinetic Hamiltonian, and substitute it into the Kinetic Hamiltonian $H_{\\rm{BHZ}}$.  \n",
      "\n",
      "Use the following conventions for the symbols (You should also obey the conventions in all my previous prompts if you encounter undefined symbols. If you find it is never defined or has conflicts in the conventions, you should stop and let me know):  \n",
      "$\\psi_{\\bm k}$: field operators, $c$ and $v$: conduction and valence bands, $\\uparrow$ and $\\downarrow$: two opposite spins, $h_{\\uparrow}$ and $h_{\\downarrow}$: two $2\\times 2$ matrices, $m_e$ and $m_h$: effective masses of electrons and holes, $E_g$: band gap, $A$: strength of hybridization between the conduction and valence bands, $\\bm Q$: momentum shift due to the in-plane magnetic field.\n",
      "\n",
      "# Construct interaction Hamiltonian (momentum space)\n",
      "You will be instructed to construct the interaction part of the Hamiltonian $H_I$ in the momentum space.  \n",
      "The interaction Hamiltonian is a product of four parts.\n",
      "The first part is the product of four operators with two creation and two annihilation operators following the normal order, namely, creation operators are before annihilation operators. You should follow the order of $b, b', s', b'$ for the band and spin indices, and $k, k', q$ for the momentum. \n",
      "The second part is the constraint of total momentum conservation, namely the total momentum of all creation operators should be the same as that of all annihilation operators.  \n",
      "The third part is the interaction form. You should use intralayer Coulomb interaction and interlayer Coulomb interaction with $V(q)=2\\pi e^2/\\epsilon q$ and $U(q)=V(q)\\exp(-qd)$, where $q$ is the transferred total momentum between a creation operator and an annihilation operator with the same band and spin indices, namely $q=k-k'$.  \n",
      "The fourth part is the normalization factor, you should use $1/2S$ here.\n",
      "Finally, the summation should be running over all band and spin indices, and momentum.\n",
      "Return the interaction term $H_I$ in terms of $a_{bs\\bm k+\\bm q}^{\\dagger}$, $a_{b's'\\bm k'-\\bm q}^{\\dagger}$, $a_{b's'\\bm k'}$, $a_{bs\\bm k}$ and $V(q)$, $U(q)$ (with $q$ expressed in terms of momentum).  \n",
      "\n",
      "Use the following conventions for the symbols (You should also obey the conventions in all my previous prompts if you encounter undefined symbols. If you find it is never defined or has conflicts in the conventions, you should stop and let me know):  \n",
      "$S$ is the area of the two-dimensional system, $b,b'$ and $s,s'$ are band and spin indices respectively, $V_{cc}(q)=V_{vv}(q)=V(q)=2\\pi e^2/\\epsilon q$ is the intralayer Coulomb interaction, $V_{cv}(q)=V_{vc}(q)=U(q)=V(q)\\exp(-qd)$ is the interlayer Coulomb interaction at interlayer distance $d$, and $\\epsilon$ is the dielectric constant of the surrounding three-dimensional material.\n",
      "\n",
      "# Wick's theorem\n",
      "You will be instructed to perform a Hartree-Fock approximation to expand the interaction term, $\\Sigma_H$ and $\\Sigma_F$.  \n",
      "You should use Wick's theorem to expand the four-fermion term in $\\Sigma_H$ and $\\Sigma_F$ into quadratic terms. You should strictly follow the EXAMPLE below to expand using Wick's theorem, select the correct EXAMPLE by noticing the order of four term product with and without ${{}}^\\dagger$, and be extremely cautious about the order of the index and sign before each term.  \n",
      "You should only preserve the normal terms. Here, the normal terms mean the product of a creation operator and an annihilation operator.  \n",
      "Return the expanded interaction term after Hartree-Fock approximation as $H_{\\rm{MF}}$.\n",
      "\n",
      "Use the following conventions for the symbols (You should also obey the conventions in all my previous prompts if you encounter undefined symbols. If you find it is never defined or has conflicts in the conventions, you should stop and let me know):  \n",
      "$\\Sigma_H$ and $\\Sigma_F$ are the Hartree and Fock terms respectively, $V_{bb'}$ is the interaction potential, $\\rho_{b's'\\,n''}^{b's'\\,n''+n'-n}$ is the density matrix, $a_{bsn'\\bm k}^{\\dagger}$ and $a_{bsn\\bm k}$ are the creation and annihilation operators, $H_{\\rm{BHZ}}$ is the base Hamiltonian, and $H_{\\rm{MF}}$ is the mean-field Hamiltonian.\n",
      "\n",
      "# Extract quadratic term\n",
      "You will be instructed to extract the quadratic terms in the Hartree and Fock terms.  \n",
      "The quadratic terms mean terms that are proportional to $a_{bsn'\\bm k}^{\\dagger} a_{bsn\\bm k}$, which excludes terms that are solely expectations or products of expectations.  \n",
      "You should only preserve the quadratic terms in Hartree and Fock terms, denoted as $\\Sigma_H$ and $\\Sigma_F$.  \n",
      "Return $\\Sigma_H$ and $\\Sigma_F$.  \n",
      "\n",
      "Use the following conventions for the symbols (You should also obey the conventions in all my previous prompts if you encounter undefined symbols. If you find it is never defined or has conflicts in the conventions, you should stop and let me know):  \n",
      "$\\Sigma_H$ and $\\Sigma_F$ are the Hartree and Fock terms respectively. $a_{bsn'\\bm k}^{\\dagger}$ and $a_{bsn\\bm k}$ are creation and annihilation operators. $\\rho_{b's'\\,n''}^{b's'\\,n''+n'-n}(\\bm k')$ is the density matrix. $V_{bb'}((n'-n)\\bm Q)$ and $V_{bb'}((n''-n)\\bm Q+\\bm k'-\\bm k)$ are the interaction potentials. $H_{\\rm{BHZ}}$ is the BHZ Hamiltonian. $H_{\\rm{MF}}$ is the mean-field Hamiltonian.\n",
      "\n",
      "# Expand interaction\n",
      "You will be instructed to expand interaction term $V_{bb'}((n'-n)\\bm Q)$ and $V_{bb'}((n''-n)\\bm Q+\\bm k'-\\bm k)$ in the MF quadratic term $\\Sigma_H$ and $\\Sigma_F$.\n",
      "If you find the $V_{bb'}((n'-n)\\bm Q)$ and $V_{bb'}((n''-n)\\bm Q+\\bm k'-\\bm k)$ in $\\Sigma_H$ and $\\Sigma_F$ does not contain any momentum that is not in the summation sign. The interaction term is already expanded. No action to perform on interaction term.\n",
      "Otherwise, you will expand $V_{bb'}((n'-n)\\bm Q)$ and $V_{bb'}((n''-n)\\bm Q+\\bm k'-\\bm k)$ by replacing $q$ with the momentum $(n'-n)\\bm Q$ and $(n''-n)\\bm Q+\\bm k'-\\bm k$.\n",
      "Return $\\Sigma_H$ and $\\Sigma_F$ with expanded interaction.\n",
      "\n",
      "# Swap the index to combine Hartree and Fock terms\n",
      "You will be instructed to simplify the quadratic term $H_{\\rm{MF}}$ through relabeling the index to combine the two Hartree/Fock term into one Hartree/Fock term.  \n",
      "The logic is that the expected value ($\\rho_{b's'\\,n''}^{b's'\\,n''+n'-n}(\\bm k')$) in the first Hartree term ($\\Sigma_H$) has the same form as the quadratic operators in the second Hartree term ($\\Sigma_F$), and vice versa. The same applies to the Fock term.  \n",
      "This means, if you relabel the index by swapping the index in the \"expected value\" and \"quadratic operators\" in the second Hartree term, you can make the second Hartree term look identical to the first Hartree term, as long as $V(q)=V(-q)$, which is naturally satisfied in Coulomb interaction. You should follow the EXAMPLE below to simplify it through relabeling the index.  \n",
      "You should perform this trick of \"relabeling the index\" for both two Hartree terms and two Fock terms to reduce them to one Hartree term, and one Fock term.  \n",
      "Return the simplified $H_{\\rm{MF}}$ which reduces from four terms (two Hartree and two Fock terms) to only two terms (one Hartree and one Fock term).\n",
      "\n",
      "# Reduce momentum in Hartree term (momentum in BZ + reciprocal lattice)\n",
      "You will be instructed to simplify the Hartree term in $\\Sigma_H$ by reducing the momentum inside the expected value $\\rho_{b's'\\,n''}^{b's'\\,n''+n'-n}(\\bm k')$.  \n",
      "The expected value $\\rho_{b's'\\,n''}^{b's'\\,n''+n'-n}(\\bm k')$ is only nonzero when the two momenta $k_i,k_j$ are the same, namely, $\\rho_{b's'n'}^{bsn}(\\bm k) = \\langle a_{b's'n'\\bm k}^{\\dagger} a_{bsn\\bm k} \\rangle - \\delta_{bb'}\\delta_{bv}\\delta_{ss'}\\delta_{nn'}$.  \n",
      "You should use the property of Kronecker delta function $\\delta_{{k_i,k_j}}$ to reduce one momentum $k_i$ but not $b_i$.\n",
      "Once you reduce one momentum inside the expected value $\\langle\\dots\\rangle$. You will also notice the total momentum conservation will reduce another momentum in the quadratic term. Therefore, you should end up with only two momenta left in the summation.  \n",
      "You should follow the EXAMPLE below to reduce one momentum in the Hartree term, and another momentum in the quadratic term.  \n",
      "Return the final simplified Hartree term $\\Sigma_H$.\n",
      "\n",
      "# Reduce momentum in Fock term (momentum in BZ + reciprocal lattice)\n",
      "Template:\n",
      "You will be instructed to simplify the Fock term in $\\Sigma_F$ by reducing the momentum inside the expected value $\\rho_{bs\\,n''}^{b's'\\,n''+n'-n}(\\bm k')$.  \n",
      "The expected value $\\rho_{bs\\,n''}^{b's'\\,n''+n'-n}(\\bm k')$ is only nonzero when the two momenta $k_i,k_j$ are the same, namely, $\\delta_{bb'}\\delta_{bv}\\delta_{ss'}\\delta_{nn'}$.  \n",
      "You should use the property of Kronecker delta function $\\delta_{{k_i,k_j}}$ to reduce one momentum $k_i$ but not $b_i$.  \n",
      "Once you reduce one momentum inside the expected value $\\langle\\dots\\rangle$. You will also notice the total momentum conservation will reduce another momentum in the quadratic term. Therefore, you should end up with only two momenta left in the summation.\n",
      "You should follow the EXAMPLE below to reduce one momentum in the Fock term, and another momentum in the quadratic term.    \n",
      "Return the final simplified Fock term $\\Sigma_F$.\n",
      "\n",
      "# Combine the Hartree and Fock term\n",
      "You will now be instructed to combine the Hartree term \\Sigma_H and the Fock term \\Sigma_F.  \n",
      "You should perform the same trick of relabeling the index in the Fock term to make the quadratic operators in the Fock term the same as those in the Hartree term. The relabeling should be done with a swap : {swap rule}.\n",
      "You should add them, relabel the index in Fock term, and simply their sum. \n",
      "Return the final sum of Hartree and Fock term.\n",
      "\n",
      "# Construct full Hamiltonian after HF\n",
      "You will be instructed to construct the entire Hamiltonian after the Hartree-Fock approximation $H_{\\rm{MF}}$. \n",
      "You should first recall the Kinetic Hamiltonian $H_{\\rm{BHZ}}$ is not explicitly defined in the excerpt.  \n",
      "You should then recall the interacting Hamiltonian $\\Sigma_H$ is $\\frac{1}{S}\\sum_{bb'\\atop ss'}\\sum_{nn'n''\\atop \\bm k\\bm k'} V_{bb'}((n'-n)\\bm Q) \\times\\rho_{b's'\\,n''}^{b's'\\,n''+n'-n}(\\bm k') \\; a_{bsn'\\bm k}^{\\dagger} a_{bsn\\bm k}$.  \n",
      "You should then combine $H_{\\rm{BHZ}}$ with the interacting Hamiltonian $\\Sigma_H$ after the Hartree-Fock approximation, which is the entire Hamiltonian $H_{\\rm{MF}}$ after Hartree-Fock.  \n",
      "Return the expression for $H_{\\rm{MF}}$.  \n",
      "\n",
      "Use the following conventions for the symbols (You should also obey the conventions in all my previous prompts if you encounter undefined symbols. If you find it is never defined or has conflicts in the conventions, you should stop and let me know):  \n",
      "$H_{\\rm{MF}}$ is the entire Hamiltonian after the Hartree-Fock approximation, $H_{\\rm{BHZ}}$ is the Kinetic Hamiltonian, $\\Sigma_H$ is the interacting Hamiltonian, $\\Sigma_F$ is the Fock term, $V_{bb'}$ is the interaction potential, $\\rho_{b's'\\,n''}^{b's'\\,n''+n'-n}(\\bm k')$ is the density matrix, $a_{bsn'\\bm k}^{\\dagger}$ and $a_{bsn\\bm k}$ are creation and annihilation operators respectively.\n",
      "\n",
      "\n"
     ]
    }
   ],
   "source": [
    "print(string)"
   ]
  },
  {
   "cell_type": "code",
   "execution_count": 29,
   "metadata": {},
   "outputs": [],
   "source": [
    "pwd=os.getcwd()"
   ]
  },
  {
   "cell_type": "code",
   "execution_count": 30,
   "metadata": {},
   "outputs": [],
   "source": [
    "with open(pwd.split('/')[-1]+'_extractor.md','w') as f:\n",
    "    f.write(string)"
   ]
  },
  {
   "cell_type": "code",
   "execution_count": 72,
   "metadata": {},
   "outputs": [
    {
     "name": "stdout",
     "output_type": "stream",
     "text": [
      "# Construct Kinetic Hamiltonian (continuum version, single-particle)\n"
     ]
    }
   ],
   "source": [
    "print('# '+ kwargs_jsonl[0]['task'])"
   ]
  },
  {
   "cell_type": "code",
   "execution_count": null,
   "metadata": {},
   "outputs": [],
   "source": [
    "response=(extractor(kwargs_jsonl[0]))"
   ]
  },
  {
   "cell_type": "code",
   "execution_count": null,
   "metadata": {},
   "outputs": [],
   "source": [
    "print(extractor(kwargs_jsonl[0],message=True))"
   ]
  },
  {
   "cell_type": "code",
   "execution_count": null,
   "metadata": {},
   "outputs": [
    {
     "name": "stdout",
     "output_type": "stream",
     "text": [
      "You will be instructed to describe the kinetic term of Hamiltonian in a system with $\\pm K$ valleys in the real space in the second-quantized form.   \n",
      "The degrees of freedom of the system are: the bottom layer ($\\mathfrak{b}$) and top layer ($\\mathfrak{t}$), and $\\pm K$ valleys.  \n",
      "Express the Kinetic Hamiltonian $H_{\\tau}$ using $\\bm{k}$ and $\\bm{\\kappa}$ which are only on the diagonal terms, and arrange the basis in the order of the bottom layer ($\\mathfrak{b}$) and top layer ($\\mathfrak{t}$). Note that the sublattice degrees of freedom is suppressed for now and will be stated later.\n",
      "\n",
      "Use the following conventions for the symbols:  \n",
      "$\\tau=\\pm 1$ represents $\\pm K$ valleys, $\\bm{\\kappa}=\\frac{4\\pi}{3a_M}\\left(1,0\\right)$ is at a corner of the moiré Brillouin zone, the off diagonal terms describe the interlayer tunneling $\\Delta_{\\text{T},\\tau}$, and the diagonal terms describe the momentum-shifted kinetic energy with the effective mass $(m_{\\mathfrak{b}},m_{\\mathfrak{t}})=(0.65,0.35)m_e$ ($m_e$ is the rest electron mass), plus the intralayer potential $\\Delta_{\\mathfrak{b}/\\mathfrak{t}}$, and a band offset $V_{z\\mathfrak{t}}$.\n"
     ]
    }
   ],
   "source": [
    "print(response)"
   ]
  },
  {
   "cell_type": "code",
   "execution_count": null,
   "metadata": {},
   "outputs": [],
   "source": [
    "response=(extractor(kwargs_jsonl[1]))"
   ]
  },
  {
   "cell_type": "code",
   "execution_count": 33,
   "metadata": {},
   "outputs": [
    {
     "name": "stdout",
     "output_type": "stream",
     "text": [
      "Define each term in Kinetic Hamiltonian (continuum version)\n"
     ]
    }
   ],
   "source": [
    "print(kwargs_jsonl[1]['task'])"
   ]
  },
  {
   "cell_type": "code",
   "execution_count": null,
   "metadata": {},
   "outputs": [
    {
     "name": "stdout",
     "output_type": "stream",
     "text": [
      "You will be instructed to construct each term, namely $H_{\\tau}$.  \n",
      "For all energy dispersions, $H_{\\tau}$, it characterizes the parabolic dispersion for electrons.   \n",
      "In addition, an shift of $\\tau \\bm{\\kappa}$ in the momentum $\\bm{k}$ for $-\\frac{\\hbar^2\\left(\\bm{k}-\\tau \\bm{\\kappa}\\right)^2}{2m_\\mathfrak{t}}$, respectively.  \n",
      "You should follow the EXAMPLE below to obtain correct energy dispersion, select the correct EXAMPLE by noticing the type of dispersion.  \n",
      "Finally, in the real space, the momentum $\\bm{k}=-i \\partial_{\\bm{r}}$. You should keep the form of $\\bm{k}$ in the Hamiltonian for short notations but should remember $\\bm{k}$ is an operator.  \n",
      "Return the expression for $H_{\\tau}$ in the Kinetic Hamiltonian, and substitute it into the Kinetic Hamiltonian $\\hat{\\mathcal{H}}_0$.  \n",
      "\n",
      "Use the following conventions for the symbols (You should also obey the conventions in all my previous prompts if you encounter undefined symbols. If you find it is never defined or has conflicts in the conventions, you should stop and let me know):  \n",
      "$\\tau=\\pm 1$ represents $\\pm K$ valleys, $\\bm{\\kappa}=\\frac{4\\pi}{3a_M}\\left(1,0\\right)$ is at a corner of the moir\\'e Brillouin zone, the effective mass $(m_{\\mathfrak{b}},m_{\\mathfrak{t}})=(0.65,0.35)m_e$ ($m_e$ is the rest electron mass), $\\Delta_{\\mathfrak{b}/\\mathfrak{t}}$ is the intralayer potential, and $V_{z\\mathfrak{t}}$ is a band offset.\n"
     ]
    }
   ],
   "source": [
    "print(response)"
   ]
  },
  {
   "cell_type": "code",
   "execution_count": 38,
   "metadata": {},
   "outputs": [
    {
     "name": "stdout",
     "output_type": "stream",
     "text": [
      "# Construct Potential Hamiltonian (continuum version)\n"
     ]
    }
   ],
   "source": [
    "print('# '+kwargs_jsonl[2]['task'])"
   ]
  },
  {
   "cell_type": "code",
   "execution_count": null,
   "metadata": {},
   "outputs": [],
   "source": [
    "response=(extractor(kwargs_jsonl[2]))"
   ]
  },
  {
   "cell_type": "code",
   "execution_count": null,
   "metadata": {},
   "outputs": [
    {
     "name": "stdout",
     "output_type": "stream",
     "text": [
      "You will be instructed to describe the potential term of Hamiltonian $H_{\\tau}$ in the momentum space in the second-quantized form.  \n",
      "The potential Hamiltonian has the same degrees of freedom as the kinetic Hamiltonian. The diagonal terms are $-\\frac{\\hbar^2\\bm{k}^2}{2m_\\mathfrak{b}}+\\Delta_{\\mathfrak{b}}(\\bm{r})$ and $-\\frac{\\hbar^2\\left(\\bm{k}-\\tau \\bm{\\kappa}\\right)^2}{2m_\\mathfrak{t}}+ \\Delta_\\mathfrak{t}(\\bm{r})+V_{z\\mathfrak{t}}$.  \n",
      "The off-diagonal terms are the coupling between the bottom layer ($\\mathfrak{b}$) and top layer ($\\mathfrak{t}$), $\\Delta_{\\text{T},\\tau}(\\bm{r})$ and $\\Delta_{\\text{T},\\tau}^\\dag(\\bm{r})$, which should be kept hermitian.  \n",
      "All others terms are zero.\n",
      "Express the potential Hamiltonian $H_{\\tau}$ using $-\\frac{\\hbar^2\\bm{k}^2}{2m_\\mathfrak{b}}+\\Delta_{\\mathfrak{b}}(\\bm{r})$ and $-\\frac{\\hbar^2\\left(\\bm{k}-\\tau \\bm{\\kappa}\\right)^2}{2m_\\mathfrak{t}}+ \\Delta_\\mathfrak{t}(\\bm{r})+V_{z\\mathfrak{t}}$ and $\\Delta_{\\text{T},\\tau}(\\bm{r})$ and $\\Delta_{\\text{T},\\tau}^\\dag(\\bm{r})$.  \n",
      "\n",
      "Use the following conventions for the symbols (You should also obey the conventions in all my previous prompts if you encounter undefined symbols. If you find it is never defined or has conflicts in the conventions, you should stop and let me know):  \n",
      "$\\tau=\\pm 1$ represents $\\pm K$ valleys, $\\bm{\\kappa}=\\frac{4\\pi}{3a_M}\\left(1,0\\right)$ is at a corner of the moir\\'e Brillouin zone, the $2\\times 2$ Hamiltonian hybridizes the bottom layer ($\\mathfrak{b}$) and top layer ($\\mathfrak{t}$), the off diagonal terms describe the interlayer tunneling $\\Delta_{\\text{T},\\tau}$, and the diagonal terms describe the momentum-shifted kinetic energy with the effective mass $(m_{\\mathfrak{b}},m_{\\mathfrak{t}})=(0.65,0.35)m_e$ ($m_e$ is the rest electron mass), plus the intralayer potential $\\Delta_{\\mathfrak{b}/\\mathfrak{t}}$, and a band offset $V_{z\\mathfrak{t}}$.\n"
     ]
    }
   ],
   "source": [
    "print(response)"
   ]
  },
  {
   "cell_type": "code",
   "execution_count": 39,
   "metadata": {},
   "outputs": [
    {
     "name": "stdout",
     "output_type": "stream",
     "text": [
      "# Define each term in Potential Hamiltonian (continuum version)\n"
     ]
    }
   ],
   "source": [
    "print('# '+kwargs_jsonl[3]['task'])"
   ]
  },
  {
   "cell_type": "code",
   "execution_count": null,
   "metadata": {},
   "outputs": [],
   "source": [
    "response=(extractor(kwargs_jsonl[3]))"
   ]
  },
  {
   "cell_type": "code",
   "execution_count": null,
   "metadata": {},
   "outputs": [
    {
     "name": "stdout",
     "output_type": "stream",
     "text": [
      "You will be instructed to construct each term $H_{\\tau}$, namely, $-\\frac{\\hbar^2\\bm{k}^2}{2m_\\mathfrak{b}}+\\Delta_{\\mathfrak{b}}(\\bm{r})$, $\\Delta_{\\text{T},\\tau}(\\bm{r})$, $\\Delta_{\\text{T},\\tau}^\\dag(\\bm{r})$, and $-\\frac{\\hbar^2\\left(\\bm{k}-\\tau \\bm{\\kappa}\\right)^2}{2m_\\mathfrak{t}}+ \\Delta_\\mathfrak{t}(\\bm{r})+V_{z\\mathfrak{t}}$.  \n",
      "The expression for diagonal terms are: $-\\frac{\\hbar^2\\bm{k}^2}{2m_\\mathfrak{b}}+\\Delta_{\\mathfrak{b}}(\\bm{r})$ and $-\\frac{\\hbar^2\\left(\\bm{k}-\\tau \\bm{\\kappa}\\right)^2}{2m_\\mathfrak{t}}+ \\Delta_\\mathfrak{t}(\\bm{r})+V_{z\\mathfrak{t}}$.  \n",
      "The expression for off-diagonal terms are: $\\Delta_{\\text{T},\\tau}(\\bm{r})$ and $\\Delta_{\\text{T},\\tau}^\\dag(\\bm{r})$.  \n",
      "Return the expressions for $-\\frac{\\hbar^2\\bm{k}^2}{2m_\\mathfrak{b}}+\\Delta_{\\mathfrak{b}}(\\bm{r})$, $\\Delta_{\\text{T},\\tau}(\\bm{r})$, $\\Delta_{\\text{T},\\tau}^\\dag(\\bm{r})$, and $-\\frac{\\hbar^2\\left(\\bm{k}-\\tau \\bm{\\kappa}\\right)^2}{2m_\\mathfrak{t}}+ \\Delta_\\mathfrak{t}(\\bm{r})+V_{z\\mathfrak{t}}$, and substitute it into the potential Hamiltonian $H_{\\tau}$.  \n",
      "\n",
      "Use the following conventions for the symbols (You should also obey the conventions in all my previous prompts if you encounter undefined symbols. If you find it is never defined or have conflicts in the conventions, you should stop and let me know):  \n",
      "$\\tau=\\pm 1$ represents $\\pm K$ valleys, $\\bm{\\kappa}=\\frac{4\\pi}{3a_M}\\left(1,0\\right)$ is at a corner of the moiré Brillouin zone, the effective mass $(m_{\\mathfrak{b}},m_{\\mathfrak{t}})=(0.65,0.35)m_e$ ($m_e$ is the rest electron mass), $\\Delta_{\\mathfrak{b}}(\\bm{r})=2V_{\\mathfrak{b}}\\sum_{j=1,3,5} \\cos(\\bm{g}_j \\cdot \\bm{r}+\\psi_{\\mathfrak{b}})$, $\\bm{g}_j=\\frac{4\\pi}{\\sqrt{3} a_M} \\left(- \\sin \\frac{\\pi (j-1)}{3}, \\cos \\frac{\\pi (j-1)}{3}\\right)$, $\\Delta_{\\text{T},\\tau}(\\bm{r})=\\tau w \\left(1+\\omega^{\\tau} e^{i\\tau\\bm{g}_2\\cdot\\bm{r}}+\\omega^{2\\tau} e^{i\\tau\\bm{g}_3\\cdot\\bm{r}} \\right)$, and $\\omega=e^{i\\frac{2\\pi}{3}}$.\n"
     ]
    }
   ],
   "source": [
    "print(response)"
   ]
  },
  {
   "cell_type": "code",
   "execution_count": 40,
   "metadata": {},
   "outputs": [
    {
     "name": "stdout",
     "output_type": "stream",
     "text": [
      "# Convert from single-particle to second-quantized form, return in matrix\n"
     ]
    }
   ],
   "source": [
    "print('# '+kwargs_jsonl[4]['task'])"
   ]
  },
  {
   "cell_type": "code",
   "execution_count": null,
   "metadata": {},
   "outputs": [],
   "source": [
    "response=(extractor(kwargs[4]))"
   ]
  },
  {
   "cell_type": "code",
   "execution_count": null,
   "metadata": {},
   "outputs": [
    {
     "name": "stdout",
     "output_type": "stream",
     "text": [
      "You will be instructed to construct the second quantized form of the total noninteracting Hamiltonian in the real space.  \n",
      "The noninteracting Hamiltonian in the real space $\\hat{\\mathcal{H}}_0$ is the sum of Kinetic Hamiltonian $-\\frac{\\hbar^2\\bm{k}^2}{2m_\\mathfrak{b}}$ and Potential Hamiltonian $\\Delta_{\\mathfrak{b},\\tau}(\\bm{r})$.  \n",
      "To construct the second quantized form of a Hamiltonian. You should construct the creation and annihilation operators from the basis explicitly. You should follow the EXAMPLE below to convert a Hamiltonian from the single-particle form to second-quantized form.  \n",
      "Finally by \"total\", it means you need to take a summation over the real space position $r$.   \n",
      "Return the second quantized form of the total noninteracting Hamiltonian $\\hat{\\mathcal{H}}_0$  \n",
      "\n",
      "Use the following conventions for the symbols (You should also obey the conventions in all my previous prompts if you encounter undefined symbols. If you find it is never defined or has conflicts in the conventions, you should stop and let me know):  \n",
      "$\\tau=\\pm $ represents $\\pm K$ valleys, $\\hbar \\bm{k} = -i \\hbar \\partial_{\\bm{r}}$ is the momentum operator, $\\bm{\\kappa}=\\frac{4\\pi}{3a_M}\\left(1,0\\right)$  is at a corner of the moir\\'e Brillouin zone, and $a_M$ is the moir\\'e lattice constant. Note that the spin index of the fermion operators $\\Psi_{\\tau}$ is both layer and valley dependent.\n"
     ]
    }
   ],
   "source": [
    "print(response)"
   ]
  },
  {
   "cell_type": "code",
   "execution_count": 42,
   "metadata": {},
   "outputs": [
    {
     "name": "stdout",
     "output_type": "stream",
     "text": [
      "# Convert from single-particle to second-quantized form, return in summation (expand the matrix)\n"
     ]
    }
   ],
   "source": [
    "print('# '+kwargs_jsonl[5]['task'])"
   ]
  },
  {
   "cell_type": "code",
   "execution_count": null,
   "metadata": {},
   "outputs": [],
   "source": [
    "response=(extractor(kwargs_jsonl[5]))"
   ]
  },
  {
   "cell_type": "code",
   "execution_count": null,
   "metadata": {},
   "outputs": [
    {
     "name": "stdout",
     "output_type": "stream",
     "text": [
      "You will be instructed to expand the second-quantized form Hamiltonian $\\hat{\\mathcal{H}}_0$ using $H_{\\tau}$ and $\\Psi_{\\tau}$. You should follow the EXAMPLE below to expand the Hamiltonian.  \n",
      "You should use any previous knowledge to simplify it. For example, if any term of $H_{\\tau}$ is zero, you should remove it from the summation.\n",
      "Return the expanded form of $\\hat{\\mathcal{H}}_0$ after simplication.  \n",
      "\n",
      "Use the following conventions for the symbols (You should also obey the conventions in all my previous prompts if you encounter undefined symbols. If you find it is never defined or has conflicts in the conventions, you should stop and let me know):  \n",
      "$\\hat{\\mathcal{H}}_0$ is the second-quantized form Hamiltonian, $H_{\\tau}$ is the matrix element, and $\\Psi_{\\tau}$ is the basis. $\\tau=\\pm $ represents $\\pm K$ valleys, $\\hbar \\bm{k} = -i \\hbar \\partial_{\\bm{r}}$ is the momentum operator, $\\bm{\\kappa}=\\frac{4\\pi}{3a_M}\\left(1,0\\right)$  is at a corner of the moir\\'e Brillouin zone, and $a_M$ is the moir\\'e lattice constant. The spin index of the fermion operators $\\Psi_{\\tau}$ is both layer and valley dependent.\n"
     ]
    }
   ],
   "source": [
    "print(response)"
   ]
  },
  {
   "cell_type": "code",
   "execution_count": 43,
   "metadata": {},
   "outputs": [
    {
     "name": "stdout",
     "output_type": "stream",
     "text": [
      "# Convert noninteracting Hamiltonian in real space to momentum space (continuum version)\n"
     ]
    }
   ],
   "source": [
    "print('# '+kwargs_jsonl[6]['task'])"
   ]
  },
  {
   "cell_type": "code",
   "execution_count": null,
   "metadata": {},
   "outputs": [],
   "source": [
    "response=(extractor(kwargs_jsonl[6]))"
   ]
  },
  {
   "cell_type": "code",
   "execution_count": null,
   "metadata": {},
   "outputs": [
    {
     "name": "stdout",
     "output_type": "stream",
     "text": [
      "You will be instructed to convert the total noninteracting Hamiltonian in the second quantized form from the basis in real space to the basis by momentum space.  \n",
      "To do that, you should apply the Fourier transformation to $\\Psi_{\\tau}^\\dagger(\\bm{r})$ in the real space to $c_{\\bm{k}_{\\alpha},l_{\\alpha},\\tau}^\\dagger$ in the momentum space, which is defined as $\\hat{\\mathcal{H}}_0=\\sum_{\\bm{k}_{\\alpha},\\bm{k}_{\\beta}}\\sum_{l_{\\alpha},l_{\\beta}}\\sum_{\\tau} h_{\\bm{k}_{\\alpha}l_{\\alpha},\\bm{k}_{\\beta}l_{\\beta}}^{(\\tau)} c_{\\bm{k}_{\\alpha},l_{\\alpha},\\tau}^\\dagger c_{\\bm{k}_{\\beta},l_{\\beta},\\tau}$, where $\\bm{r}$ is integrated over the entire real space. You should follow the EXAMPLE below to apply the Fourier transformation.  \n",
      "Express the total noninteracting Hamiltonian $\\hat{\\mathcal{H}}_0$ in terms of $c_{\\bm{k}_{\\alpha},l_{\\alpha},\\tau}^\\dagger$. Simplify any summation index if possible.  \n",
      "\n",
      "Use the following conventions for the symbols (You should also obey the conventions in all my previous prompts if you encounter undefined symbols. If you find it is never defined or has conflicts in the conventions, you should stop and let me know):  \n",
      "$\\tau=\\pm $ represents $\\pm K$ valleys, $\\hbar \\bm{k} = -i \\hbar \\partial_{\\bm{r}}$ is the momentum operator, $\\bm{\\kappa}=\\frac{4\\pi}{3a_M}\\left(1,0\\right)$  is at a corner of the moir\\'e Brillouin zone, and $a_M$ is the moir\\'e lattice constant. The spin index of the fermion operators $\\Psi_{\\tau}$ is both layer and valley dependent. $h^{(\\tau)}$ is the Hamiltonian $H_{\\tau}$ expanded in the plane-wave basis, and the momentum $\\bm{k}$ is defined in the extended Brillouin zone that spans the full momentum space, i.e., $\\bm{k} \\in \\mathbb{R}^2$. The subscripts $\\alpha,\\beta$ are index for momenta. Due to Bloch's theorem, $h_{\\bm{k}_{\\alpha}l_{\\alpha},\\bm{k}_{\\beta}l_{\\beta}}^{(\\tau)}$ is nonzero only when $\\bm{k}_{\\alpha}-\\bm{k}_{\\beta}$ is equal to the linear combination of any multiples of one of the moir\\'e reciprocal lattice vectors (including the zero vector).\n"
     ]
    }
   ],
   "source": [
    "print_save(response,file='../cmp1.md')"
   ]
  },
  {
   "cell_type": "code",
   "execution_count": 44,
   "metadata": {},
   "outputs": [
    {
     "name": "stdout",
     "output_type": "stream",
     "text": [
      "# Particle-hole transformation\n"
     ]
    }
   ],
   "source": [
    "print('# '+kwargs_jsonl[7]['task'])"
   ]
  },
  {
   "cell_type": "code",
   "execution_count": null,
   "metadata": {},
   "outputs": [],
   "source": [
    "response=(extractor(kwargs_jsonl[7]))"
   ]
  },
  {
   "cell_type": "code",
   "execution_count": null,
   "metadata": {},
   "outputs": [
    {
     "name": "stdout",
     "output_type": "stream",
     "text": [
      "You will be instructed to perform a particle-hole transformation.  \n",
      "Define a hole operator, $b_{\\bm{k},l,\\tau}$, which equals $c_{\\bm{k},l,\\tau}^\\dagger$.  \n",
      "You should replace $c_{\\bm{k},l,\\tau}^\\dagger$ with $b_{\\bm{k},l,\\tau}$, and $c_{\\bm{k},l,\\tau}$ with $b_{\\bm{k},l,\\tau}^\\dagger$. You should follow the EXAMPLE below to apply the particle-hole transformation.  \n",
      "Return the $\\hat{\\mathcal{H}}_0$ in the hole operators.\n",
      "\n",
      "Use the following conventions for the symbols (You should also obey the conventions in all my previous prompts if you encounter undefined symbols. If you find it is never defined or has conflicts in the conventions, you should stop and let me know):  \n",
      "The hole operator is defined as $b_{\\bm{k},l,\\tau}=c_{\\bm{k},l,\\tau}^\\dagger$, and the second non-interacting Hamiltonian in the hole basis is $\\hat{\\mathcal{H}}_0$.\n"
     ]
    }
   ],
   "source": [
    "print_save(response,file='../cmp1.md')"
   ]
  },
  {
   "cell_type": "code",
   "execution_count": 45,
   "metadata": {},
   "outputs": [
    {
     "name": "stdout",
     "output_type": "stream",
     "text": [
      "# Simplify the Hamiltonian in the particle-hole basis\n"
     ]
    }
   ],
   "source": [
    "print('# '+kwargs_jsonl[8]['task'])"
   ]
  },
  {
   "cell_type": "code",
   "execution_count": null,
   "metadata": {},
   "outputs": [],
   "source": [
    "response=(extractor(kwargs_jsonl[8]))"
   ]
  },
  {
   "cell_type": "code",
   "execution_count": null,
   "metadata": {},
   "outputs": [
    {
     "name": "stdout",
     "output_type": "stream",
     "text": [
      "You will be instructed to simplify the $\\hat{\\mathcal{H}}_0$ in the hole basis.  \n",
      "You should use canonical commutator relation for fermions to reorder the hole operator to the normal order. Normal order means that creation operators always appear before the annihilation operators.  You should follow the EXAMPLE below to simplify it to the normal order.  \n",
      "Express the $\\hat{\\mathcal{H}}_0$ in the normal order of $b_{\\bm{k},l,\\tau}$ and also make $\\bm{k}_{\\alpha},l_{\\alpha},\\tau$ always appear before $\\bm{k}_{\\beta},l_{\\beta},\\tau$ in the index of $b_{\\bm{k},l,\\tau}$ and $\\hat{\\mathcal{H}}_0$.  \n",
      "Use the following conventions for the symbols (You should also obey the conventions in all my previous prompts if you encounter undefined symbols. If you find it is never defined or has conflicts in the conventions, you should stop and let me know):  \n",
      "The hole operator is defined as $b_{\\bm{k},l,\\tau}=c_{\\bm{k},l,\\tau}^\\dagger$, and $\\hat{\\mathcal{H}}_0$ in the hole basis is defined as $\\hat{\\mathcal{H}}_0 = \\sum_\\tau\\Tr h^{(\\tau)}-\\sum_{\\bm{k}_{\\alpha},\\bm{k}_{\\beta}}\\sum_{l_{\\alpha},l_{\\beta}}\\sum_{\\tau} [h^{(\\tau)}]^{\\intercal}_{\\bm{k}_{\\alpha}l_{\\alpha},\\bm{k}_{\\beta}l_{\\beta}} b_{\\bm{k}_{\\alpha},l_{\\alpha},\\tau}^\\dagger b_{\\bm{k}_{\\beta},l_{\\beta},\\tau}$.\n"
     ]
    }
   ],
   "source": [
    "print_save(response,file='../cmp1.md')"
   ]
  },
  {
   "cell_type": "code",
   "execution_count": 46,
   "metadata": {},
   "outputs": [
    {
     "name": "stdout",
     "output_type": "stream",
     "text": [
      "# Construct interaction Hamiltonian (momentum space)\n"
     ]
    }
   ],
   "source": [
    "print('# '+kwargs_jsonl[9]['task'])"
   ]
  },
  {
   "cell_type": "code",
   "execution_count": null,
   "metadata": {},
   "outputs": [],
   "source": [
    "response=(extractor(kwargs_jsonl[9]))"
   ]
  },
  {
   "cell_type": "code",
   "execution_count": null,
   "metadata": {},
   "outputs": [
    {
     "name": "stdout",
     "output_type": "stream",
     "text": [
      "You will be instructed to construct the interaction part of the Hamiltonian $\\hat{\\mathcal{H}}_{\\text{int}}$ in the momentum space.  \n",
      "The interaction Hamiltonian is a product of four parts.\n",
      "The first part is the product of four operators with two creation and two annihilation operators following the normal order, namely, creation operators are before annihilation operators. You should follow the order of $l_{\\alpha},l_{\\beta},l_{\\beta},l_{\\alpha}$ for the index of operator, and $\\bm{k}_{\\alpha},\\bm{k}_{\\beta},\\bm{k}_{\\gamma},\\bm{k}_{\\delta}$ for the momentum. \n",
      "The second part is the constraint of total momentum conservation, namely the total momentum of all creation operators should be the same as that of all annihilation operators.  \n",
      "The third part is the interaction form. You should use dual-gate screened Coulomb interaction with $V(\\bm{k})= {2\\pi e^2\\tanh(|\\bm{k}|d)}/{(\\epsilon |\\bm{k}|)}$, where $\\bm{k}$ is the transferred total momentum between a creation operator and an annilation operator with the same index of operator, namely $\\bm{k}=\\bm{k}_{\\alpha}-\\bm{k}_{\\delta}$.  \n",
      "The fourth part is the normalization factor, you should use $\\frac{1}{2A}$ here.\n",
      "Finally, the summation should be running over all index of operator, and momentum\n",
      "Return the interaction term $\\hat{\\mathcal{H}}_{\\text{int}}$ in terms of $b_{\\bm{k}_{\\alpha},l_{\\alpha},\\tau_{\\alpha}}^\\dagger, b_{\\bm{k}_{\\beta},l_{\\beta},\\tau_{\\beta}}^\\dagger, b_{\\bm{k}_{\\gamma},l_{\\beta},\\tau_{\\beta}}, b_{\\bm{k}_{\\delta},l_{\\alpha},\\tau_{\\alpha}}$ and $V(\\bm{k})$ (with $\\bm{k}$ expressed in terms of momentum).  \n",
      "\n",
      "Use the following conventions for the symbols (You should also obey the conventions in all my previous prompts if you encounter undefined symbols. If you find it is never defined or has conflicts in the conventions, you should stop and let me know):  \n",
      "$\\bm{k}_{\\alpha},\\bm{k}_{\\beta},\\bm{k}_{\\gamma},\\bm{k}_{\\delta}$ are the momenta, $l_{\\alpha},l_{\\beta}$ are the indices of operators, $\\tau_{\\alpha},\\tau_{\\beta}$ are the spin indices, $V(\\bm{k})$ is the dual-gate screened Coulomb interaction, $b_{\\bm{k}_{\\alpha},l_{\\alpha},\\tau_{\\alpha}}^\\dagger, b_{\\bm{k}_{\\beta},l_{\\beta},\\tau_{\\beta}}^\\dagger, b_{\\bm{k}_{\\gamma},l_{\\beta},\\tau_{\\beta}}, b_{\\bm{k}_{\\delta},l_{\\alpha},\\tau_{\\alpha}}$ are the creation and annihilation operators, and $A$ is the normalization factor.\n"
     ]
    }
   ],
   "source": [
    "print_save(response,file='../cmp1.md')"
   ]
  },
  {
   "cell_type": "code",
   "execution_count": 47,
   "metadata": {},
   "outputs": [
    {
     "name": "stdout",
     "output_type": "stream",
     "text": [
      "# Wick's theorem\n"
     ]
    }
   ],
   "source": [
    "print('# '+kwargs_jsonl[10]['task'])"
   ]
  },
  {
   "cell_type": "code",
   "execution_count": null,
   "metadata": {},
   "outputs": [],
   "source": [
    "response=(extractor(kwargs_jsonl[10]))"
   ]
  },
  {
   "cell_type": "code",
   "execution_count": null,
   "metadata": {},
   "outputs": [
    {
     "name": "stdout",
     "output_type": "stream",
     "text": [
      "You will be instructed to perform a Hartree-Fock approximation to expand the interaction term, $\\hat{\\mathcal{H}}_{\\text{int}}^{\\text{HF}}$.  \n",
      "You should use Wick's theorem to expand the four-fermion term in $\\hat{\\mathcal{H}}_{\\text{int}}^{\\text{HF}}$ into quadratic terms. You should strictly follow the EXAMPLE below to expand using Wick's theorem, select the correct EXAMPLE by noticing the order of four term product with and without ${{}}^\\dagger$, and be extremely cautious about the order of the index and sign before each term.  \n",
      "You should only preserve the normal terms. Here, the normal terms mean the product of a creation operator and an annihilation operator.  \n",
      "Return the expanded interaction term after Hartree-Fock approximation as $\\hat{\\mathcal{H}}^{\\text{HF}}$.\n",
      "\n",
      "Use the following conventions for the symbols (You should also obey the conventions in all my previous prompts if you encounter undefined symbols. If you find it is never defined or has conflicts in the conventions, you should stop and let me know):  \n",
      "$\\hat{\\mathcal{H}}^{\\text{HF}}$ is the Hartree-Fock Hamiltonian, $\\hat{\\mathcal{H}}_1$ is the one-body Hamiltonian, $\\hat{\\mathcal{H}}_{\\text{int}}^{\\text{HF}}$ is the interaction term after Hartree-Fock approximation, $A$ is the normalization factor, $\\bm{k}_{\\alpha},\\bm{k}_{\\beta},\\bm{k}_{\\gamma},\\bm{k}_{\\delta}$ are the momentum vectors, $l_{\\alpha},l_{\\beta}$ are the orbital quantum numbers, $\\tau_{\\alpha},\\tau_{\\beta}$ are the spin quantum numbers, $V(\\bm{k}_{\\alpha}-\\bm{k}_{\\delta})$ is the interaction potential, $b_{\\bm{k}_{\\alpha},l_{\\alpha},\\tau_{\\alpha}}^\\dagger$ and $b_{\\bm{k}_{\\alpha},l_{\\alpha},\\tau_{\\alpha}}$ are the creation and annihilation operators, and $\\delta_{\\bm{k}_{\\alpha}+\\bm{k}_{\\beta}, \\bm{k}_{\\delta}+\\bm{k}_{\\gamma}}$ is the Kronecker delta function.\n"
     ]
    }
   ],
   "source": [
    "print_save(response,file='../cmp1.md')"
   ]
  },
  {
   "cell_type": "code",
   "execution_count": 48,
   "metadata": {},
   "outputs": [
    {
     "name": "stdout",
     "output_type": "stream",
     "text": [
      "# Extract quadratic term\n"
     ]
    }
   ],
   "source": [
    "print('# '+kwargs_jsonl[11]['task'])"
   ]
  },
  {
   "cell_type": "code",
   "execution_count": null,
   "metadata": {},
   "outputs": [],
   "source": [
    "response=(extractor(kwargs_jsonl[11]))"
   ]
  },
  {
   "cell_type": "code",
   "execution_count": null,
   "metadata": {},
   "outputs": [
    {
     "name": "stdout",
     "output_type": "stream",
     "text": [
      "You will be instructed to extract the quadratic terms in the $\\hat{\\mathcal{H}}^{\\text{HF}}$.  \n",
      "The quadratic terms mean terms that are proportional to $b_{\\bm{k}_{\\beta},l_{\\beta},\\tau_{\\beta}}^\\dagger b_{\\bm{k}_{\\gamma},l_{\\beta},\\tau_{\\beta}}$ and $b_{\\bm{k}_{\\beta},l_{\\beta},\\tau_{\\beta}}^\\dagger b_{\\bm{k}_{\\delta},l_{\\alpha},\\tau_{\\alpha}}$, which excludes terms that are solely expectations or products of expectations.  \n",
      "You should only preserve the quadratic terms in $\\hat{\\mathcal{H}}^{\\text{HF}}$, denoted as $\\hat{\\mathcal{H}}_{\\text{int}}^{\\text{HF}}$.  \n",
      "Return $\\hat{\\mathcal{H}}_{\\text{int}}^{\\text{HF}}$.  \n",
      "\n",
      "Use the following conventions for the symbols (You should also obey the conventions in all my previous prompts if you encounter undefined symbols. If you find it is never defined or has conflicts in the conventions, you should stop and let me know):  \n",
      "$\\hat{\\mathcal{H}}^{\\text{HF}}$ is the Hartree-Fock Hamiltonian, $\\hat{\\mathcal{H}}_1$ is the one-body part of the Hamiltonian, and $\\hat{\\mathcal{H}}_{\\text{int}}^{\\text{HF}}$ is the interaction part of the Hamiltonian. The operators $b_{\\bm{k}_{\\alpha},l_{\\alpha},\\tau_{\\alpha}}^\\dagger$ and $b_{\\bm{k}_{\\delta},l_{\\alpha},\\tau_{\\alpha}}$ are creation and annihilation operators, respectively. The symbol $V(\\bm{k}_{\\alpha}-\\bm{k}_{\\delta})$ represents the interaction potential. The symbol $\\expval{..}$ denotes the expectation value. The symbol $\\delta_{\\bm{k}_{\\alpha}+\\bm{k}_{\\beta}, \\bm{k}_{\\delta}+\\bm{k}_{\\gamma}}$ is the Kronecker delta function.\n"
     ]
    }
   ],
   "source": [
    "print_save(response,file='../cmp1.md')"
   ]
  },
  {
   "cell_type": "code",
   "execution_count": 49,
   "metadata": {},
   "outputs": [
    {
     "name": "stdout",
     "output_type": "stream",
     "text": [
      "# Swap the index to combine Hartree and Fock terms\n"
     ]
    }
   ],
   "source": [
    "print('# '+kwargs_jsonl[12]['task'])"
   ]
  },
  {
   "cell_type": "code",
   "execution_count": null,
   "metadata": {},
   "outputs": [],
   "source": [
    "response=(extractor(kwargs_jsonl[12]))"
   ]
  },
  {
   "cell_type": "code",
   "execution_count": null,
   "metadata": {},
   "outputs": [
    {
     "name": "stdout",
     "output_type": "stream",
     "text": [
      "You will be instructed to simplify the quadratic term $\\hat{\\mathcal{H}}_{\\text{int}}^{\\text{HF}}$ through relabeling the index to combine the two Hartree/Fock term into one Hartree/Fock term.  \n",
      "The logic is that the expected value ($\\expval{b_{\\bm{k}_{\\alpha},l_{\\alpha},\\tau_{\\alpha}}^\\dagger b_{\\bm{k}_{\\delta},l_{\\alpha},\\tau_{\\alpha}}}$ and $\\expval{b_{\\bm{k}_{\\alpha},l_{\\alpha},\\tau_{\\alpha}}^\\dagger b_{\\bm{k}_{\\gamma},l_{\\beta},\\tau_{\\beta}}}$) in the first Hartree term ($b_{\\bm{k}_{\\beta},l_{\\beta},\\tau_{\\beta}}^\\dagger b_{\\bm{k}_{\\gamma},l_{\\beta},\\tau_{\\beta}}$) has the same form as the quadratic operators in the second Hartree term ($b_{\\bm{k}_{\\beta},l_{\\beta},\\tau_{\\beta}}^\\dagger b_{\\bm{k}_{\\delta},l_{\\alpha},\\tau_{\\alpha}}$), and vice versa. The same applies to the Fock term.  \n",
      "This means, if you relabel the index by swapping the index in the \"expected value\" and \"quadratic operators\" in the second Hartree term, you can make the second Hartree term look identical to the first Hartree term, as long as $V(\\bm{k}_{\\alpha}-\\bm{k}_{\\delta})=V(-(\\bm{k}_{\\alpha}-\\bm{k}_{\\delta}))$, which is naturally satisfied in Coulomb interaction. You should follow the EXAMPLE below to simplify it through relabeling the index.  \n",
      "You should perform this trick of \"relabeling the index\" for both two Hartree terms and two Fock terms to reduce them to one Hartree term, and one Fock term.  \n",
      "Return the simplied $\\hat{\\mathcal{H}}_{\\text{int}}^{\\text{HF}}$ which reduces from four terms (two Hartree and two Fock terms) to only two terms (one Hartree and one Fock term).\n"
     ]
    }
   ],
   "source": [
    "print_save(response,file='../cmp1.md')"
   ]
  }
 ],
 "metadata": {
  "kernelspec": {
   "display_name": "base",
   "language": "python",
   "name": "python3"
  },
  "language_info": {
   "codemirror_mode": {
    "name": "ipython",
    "version": 3
   },
   "file_extension": ".py",
   "mimetype": "text/x-python",
   "name": "python",
   "nbconvert_exporter": "python",
   "pygments_lexer": "ipython3",
   "version": "3.8.11"
  },
  "orig_nbformat": 4
 },
 "nbformat": 4,
 "nbformat_minor": 2
}
