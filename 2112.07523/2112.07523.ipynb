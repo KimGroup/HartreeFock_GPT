{
 "cells": [
  {
   "cell_type": "code",
   "execution_count": 1,
   "metadata": {},
   "outputs": [],
   "source": [
    "import openai\n",
    "import pandas as pd\n",
    "import json\n",
    "from IPython.display import Markdown\n",
    "import sys"
   ]
  },
  {
   "cell_type": "code",
   "execution_count": 35,
   "metadata": {},
   "outputs": [
    {
     "name": "stdout",
     "output_type": "stream",
     "text": [
      "[{'task': 'Construct Kinetic Hamiltonian (continuum version, single-particle)', 'source': {'2111.01152.tex': [[55, 62], [55, 62]]}}, {'task': 'Define each term in Kinetic Hamiltonian (continuum version)', 'source': {'2111.01152.tex': [[55, 62]], '2111.01152_SM.tex': [[46, 62], [72, 80]]}}]\n"
     ]
    }
   ],
   "source": [
    "import yaml\n",
    "\n",
    "with open('2112.07523.yaml', 'r') as file:\n",
    "    data = yaml.safe_load(file)\n",
    "\n",
    "print(data)\n"
   ]
  },
  {
   "cell_type": "code",
   "execution_count": 39,
   "metadata": {},
   "outputs": [
    {
     "data": {
      "text/plain": [
       "55"
      ]
     },
     "execution_count": 39,
     "metadata": {},
     "output_type": "execute_result"
    }
   ],
   "source": [
    "data[0]['source']['2111.01152.tex'][0][0]"
   ]
  },
  {
   "cell_type": "code",
   "execution_count": 2,
   "metadata": {},
   "outputs": [],
   "source": [
    "zz=openai.Model.list()"
   ]
  },
  {
   "cell_type": "code",
   "execution_count": 3,
   "metadata": {},
   "outputs": [
    {
     "data": {
      "text/plain": [
       "62"
      ]
     },
     "execution_count": 3,
     "metadata": {},
     "output_type": "execute_result"
    }
   ],
   "source": [
    "len(zz['data'])"
   ]
  },
  {
   "cell_type": "code",
   "execution_count": 4,
   "metadata": {},
   "outputs": [
    {
     "data": {
      "text/plain": [
       "['gpt-4-0314',\n",
       " 'gpt-3.5-turbo',\n",
       " 'gpt-4-0613',\n",
       " 'gpt-4',\n",
       " 'gpt-3.5-turbo-16k-0613',\n",
       " 'gpt-3.5-turbo-16k',\n",
       " 'gpt-3.5-turbo-0613',\n",
       " 'gpt-3.5-turbo-0301']"
      ]
     },
     "execution_count": 4,
     "metadata": {},
     "output_type": "execute_result"
    }
   ],
   "source": [
    "[zz['data'][idx]['id'] for idx in range(len(zz['data'])) if 'gpt' in zz['data'][idx]['id']]"
   ]
  },
  {
   "cell_type": "code",
   "execution_count": 5,
   "metadata": {},
   "outputs": [],
   "source": [
    "model_params = {\n",
    "    'model': \"gpt-4\",\n",
    "    'temperature': 0,\n",
    "}"
   ]
  },
  {
   "cell_type": "code",
   "execution_count": 6,
   "metadata": {},
   "outputs": [],
   "source": [
    "def print_save(string, file='../cmp2.md'):\n",
    "    print(string)\n",
    "    with open(file,'w') as f:\n",
    "        f.write(string)"
   ]
  },
  {
   "cell_type": "markdown",
   "metadata": {},
   "source": [
    "## Load prompt_template.md"
   ]
  },
  {
   "cell_type": "code",
   "execution_count": 7,
   "metadata": {},
   "outputs": [],
   "source": [
    "sys.path.append('..')\n",
    "from utils import *\n",
    "from functools import partial"
   ]
  },
  {
   "cell_type": "code",
   "execution_count": 8,
   "metadata": {},
   "outputs": [],
   "source": [
    "# prompt_dict=load_prompt_template('../prompt_template.md')\n",
    "prompt_dict = partial(load_prompt_template,file='../prompt_template.md')"
   ]
  },
  {
   "cell_type": "code",
   "execution_count": 9,
   "metadata": {},
   "outputs": [
    {
     "data": {
      "text/plain": [
       "dict_keys(['Preamble', 'Problem-solver', 'Conversation summarizer', 'Construct Kinetic Hamiltonian (continuum version, single-particle)', 'Construct Kinetic Hamiltonian (continuum version, second-quantized)', 'Construct Kinetic Hamiltonian (lattice version)', 'Define each term in Kinetic Hamiltonian (continuum version)', 'Construct Potential Hamiltonian (continuum version)', 'Define each term in Potential Hamiltonian (continuum version)', 'Construct interaction Hamiltonian (real space, lattice version)', 'Construct interaction Hamiltonian (momentum space)', 'Convert from single-particle to second-quantized form, return in matrix', 'Convert from single-particle to second-quantized form, return in summation (expand the matrix)', 'Convert noninteracting Hamiltonian in real space to momentum space (continuum version)', 'Convert noninteracting Hamiltonian in real space to momentum space (lattice version)', 'Convert interacting Hamiltonian in real space to momentum space (lattice version)', 'Particle-hole transformation', 'Simplify the Hamiltonian in the particle-hole basis', \"Wick's theorem\", 'Extract quadratic term', 'Hartree term only', 'Fock term only', 'Expand interaction', 'Swap the index only', 'Swap the index to combine Hartree and Fock terms', 'Reduce momentum in Hartree term (momentum in BZ + reciprocal lattice)', 'Reduce momentum in Hartree term (momentum in BZ)', 'Reduce momentum in Fock term (momentum in BZ + reciprocal lattice)', 'Combine the Hartree and Fock term', 'Construct full Hamiltonian after HF', 'Mathematical simplify: inner product expansion', \"Mathematical simplify: Euler's formula\", 'Mathematical simplify: prosthaphaeresis', 'Mathematical simplify: Expand the product using Associative property', 'Mathematical simplify: Combine using Associative property', 'Mathematical simplify: reduce index'])"
      ]
     },
     "execution_count": 9,
     "metadata": {},
     "output_type": "execute_result"
    }
   ],
   "source": [
    "prompt_dict().keys()"
   ]
  },
  {
   "cell_type": "code",
   "execution_count": null,
   "metadata": {},
   "outputs": [],
   "source": [
    "df=pd.DataFrame(list(prompt_dict.items()),columns=['Task','Prompt'])"
   ]
  },
  {
   "cell_type": "markdown",
   "metadata": {},
   "source": [
    "## Construct Kinetic Hamiltonian (continuum version, single-particle)"
   ]
  },
  {
   "cell_type": "code",
   "execution_count": 124,
   "metadata": {},
   "outputs": [],
   "source": [
    "user_msg=[]\n",
    "AI_msg=[]\n",
    "sys_msg=[{'role': 'system', 'content': prompt_dict()['Preamble']}]\n",
    "kwargs_list=[]"
   ]
  },
  {
   "cell_type": "code",
   "execution_count": 136,
   "metadata": {},
   "outputs": [],
   "source": [
    "kwargs = {\n",
    "    'task':    'Construct Kinetic Hamiltonian (continuum version, single-particle)',\n",
    "    'system':    'the hole-doped AB-stacked MoTe2/WSe2',\n",
    "    'real|momentum':    'real',\n",
    "    'single-particle|second-quantized':    'single-particle',\n",
    "    'degrees_of_freedom':    'valley index (+K and -K valley), layer index (top and bottom layer)',\n",
    "    'kinetic_symbol':    r'$H_{Kinetic}(r)$',\n",
    "    'variable':    r'$E_{\\tau,l}$',\n",
    "    'order':    '(+K,bottom), (+K,top), (-K,bottom), (-K,top)',\n",
    "    'Note that the sublattice degrees of freedom is suppressed for now and will be stated later|None': '',\n",
    "    'definition_of_variables': r'''$l$ : layer index   \n",
    "$t$ : top layer  \n",
    "$b$ : bottom layer  \n",
    "$\\tau$ : valley index  \n",
    "$+K$ : +K valley  \n",
    "$-K$ : -K valley  \n",
    "$k$ : momentum operator  \n",
    "$E_{\\tau,l}$ : energy dispersion for layer $l$ and valley $\\tau$''',\n",
    "    'answer':    '$H_{Kinetic}(r) = \\\\begin{pmatrix} E_{+K,b} & 0 & 0 & 0 \\\\\\\\ 0 & E_{+K,t} & 0 & 0 \\\\\\\\ 0 & 0 & E_{-K,b} & 0 \\\\\\\\ 0 & 0 & 0 & E_{-K,t} \\\\end{pmatrix}$',\n",
    "    'source': {'2111.01152.tex':[(55,62),],'2111.01152_SM.tex':[(46,62),]},\n",
    "}\n"
   ]
  },
  {
   "cell_type": "code",
   "execution_count": 137,
   "metadata": {},
   "outputs": [],
   "source": [
    "# text=''\n",
    "# for file, position in kwargs['source'].items():\n",
    "#     with open(file,'r') as f:\n",
    "#         f_list=list(f)\n",
    "#         for left,right in position:\n",
    "#             text+=''.join(f_list[left-1:right])\n",
    "# print(text)"
   ]
  },
  {
   "cell_type": "code",
   "execution_count": 138,
   "metadata": {},
   "outputs": [
    {
     "name": "stdout",
     "output_type": "stream",
     "text": [
      "You will be instructed to describe the kinetic term of Hamiltonian in the hole-doped AB-stacked MoTe2/WSe2 in the real space in the single-particle form.   \n",
      "The degrees of freedom of the system are: valley index (+K and -K valley), layer index (top and bottom layer).  \n",
      "Express the Kinetic Hamiltonian $H_{Kinetic}(r)$ using $E_{\\tau,l}$ which are only on the diagonal terms, and arrange the basis in the order of (+K,bottom), (+K,top), (-K,bottom), (-K,top). [Note that the sublattice degrees of freedom is suppressed for now and will be stated later]\n",
      "\n",
      "Use the following conventions for the symbols:  \n",
      "$l$ : layer index   \n",
      "$t$ : top layer  \n",
      "$b$ : bottom layer  \n",
      "$\\tau$ : valley index  \n",
      "$+K$ : +K valley  \n",
      "$-K$ : -K valley  \n",
      "$k$ : momentum operator  \n",
      "$E_{\\tau,l}$ : energy dispersion for layer $l$ and valley $\\tau$\n"
     ]
    }
   ],
   "source": [
    "print_save(generate_prompt(kwargs,prompt_dict=prompt_dict())['content'])"
   ]
  },
  {
   "cell_type": "code",
   "execution_count": 32,
   "metadata": {},
   "outputs": [],
   "source": [
    "# user_msg.append(generate_prompt(kwargs,prompt_dict=prompt_dict))"
   ]
  },
  {
   "cell_type": "code",
   "execution_count": 33,
   "metadata": {},
   "outputs": [],
   "source": [
    "# messages=assembly_message(sys_msg,user_msg,AI_msg)"
   ]
  },
  {
   "cell_type": "code",
   "execution_count": 34,
   "metadata": {},
   "outputs": [],
   "source": [
    "# rs = openai.ChatCompletion.create(messages=messages, **model_params)\n",
    "\n",
    "# Markdown(rs['choices'][0]['message'].content)"
   ]
  },
  {
   "cell_type": "code",
   "execution_count": 35,
   "metadata": {},
   "outputs": [],
   "source": [
    "# AI_msg.append(dict(rs['choices'][0]['message']))"
   ]
  },
  {
   "cell_type": "code",
   "execution_count": 36,
   "metadata": {},
   "outputs": [],
   "source": [
    "# rs['choices'][0]['message'].content"
   ]
  },
  {
   "cell_type": "code",
   "execution_count": 37,
   "metadata": {},
   "outputs": [],
   "source": [
    "kwargs_list.append(kwargs)"
   ]
  },
  {
   "cell_type": "markdown",
   "metadata": {},
   "source": [
    "## Define each term in Kinetic Hamiltonian (continuum version)"
   ]
  },
  {
   "cell_type": "code",
   "execution_count": 38,
   "metadata": {},
   "outputs": [],
   "source": [
    "# user_msg=[]\n",
    "# AI_msg=[]\n",
    "# sys_msg=[{'role': 'system', 'content': prompt_dict()['Preamble']}]\n",
    "# kwargs_list=[]"
   ]
  },
  {
   "cell_type": "code",
   "execution_count": 149,
   "metadata": {},
   "outputs": [],
   "source": [
    "kwargs = {\n",
    "    'task': 'Define each term in Kinetic Hamiltonian (continuum version)',\n",
    "    'Energy_dispersion':r'$E_{l,\\tau}(k)$',\n",
    "    'parabolic|Dirac|cos':'parabolic',\n",
    "    'electrons|holes': 'holes',\n",
    "    'momentum_shift': '$+\\kappa$ and $-\\kappa$',\n",
    "    'k_symbol':'k',\n",
    "    'r_symbol':'r',\n",
    "    'shifted_Ek': '$E_{t,+K}$ and $E_{t,-K}$',\n",
    "    'expression_kinetic': '$H_{Kinetic}(r) = \\\\begin{pmatrix} E_{+K,b} & 0 & 0 & 0 \\\\\\\\ 0 & E_{+K,t} & 0 & 0 \\\\\\\\ 0 & 0 & E_{-K,b} & 0 \\\\\\\\ 0 & 0 & 0 & E_{-K,t} \\\\end{pmatrix}$',\n",
    "    'kinetic_symbol': r'$H_{Kinetic}(r)$',\n",
    "    'definition_of_variables': r'''$k$ : momentum operator  \n",
    "$r$ : real space operator  \n",
    "$m_l$ : the effective mass for layer $l$  \n",
    "$\\tilde{\\tau}$ : takes value of +1 for $\\tau=+K$ and -1 for $\\tau=-K$  \n",
    "$\\pm\\kappa$ : corners of monolayer moire Brillouin zone  ''',\n",
    "'answer':'$H_{Kinetic}(r) = \\\\begin{pmatrix} -\\\\frac{\\\\hbar^2 k^2}{2 m_b} & 0 & 0 & 0 \\\\\\\\ 0 & -\\\\frac{\\\\hbar^2 (k-\\\\kappa)^2}{2 m_t} & 0 & 0 \\\\\\\\ 0 & 0 & -\\\\frac{\\\\hbar^2 k^2}{2 m_b} & 0 \\\\\\\\ 0 & 0 & 0 & -\\\\frac{\\\\hbar^2 (k+\\\\kappa)^2}{2 m_t} \\\\end{pmatrix}$',\n",
    "'source': {'2111.01152.tex':[(55,62),],'2111.01152_SM.tex':[(46,62),]},\n",
    "}"
   ]
  },
  {
   "cell_type": "code",
   "execution_count": 150,
   "metadata": {},
   "outputs": [
    {
     "name": "stdout",
     "output_type": "stream",
     "text": [
      "You will be instructed to construct each term, namely $E_{l,\\tau}(k)$.  \n",
      "For all energy dispersions, $E_{l,\\tau}(k)$, it characterizes the parabolic dispersion for holes.   \n",
      "[In addition, a shift of $+\\kappa$ and $-\\kappa$ in the momentum k for $E_{t,+K}$ and $E_{t,-K}$, respectively.]  \n",
      "You should follow the EXAMPLE below to obtain correct energy dispersion, select the correct EXAMPLE by noticing the type of dispersion.  \n",
      "Finally, in the real space, the momentum $k=-i \\partial_r$. You should keep the form of $k$ in the Hamiltonian for short notations but should remember $k$ is an operator.  \n",
      "You should recall that $H_{Kinetic}(r) = \\begin{pmatrix} E_{+K,b} & 0 & 0 & 0 \\\\ 0 & E_{+K,t} & 0 & 0 \\\\ 0 & 0 & E_{-K,b} & 0 \\\\ 0 & 0 & 0 & E_{-K,t} \\end{pmatrix}$.    \n",
      "Return the expression for $E_{l,\\tau}(k)$ in the Kinetic Hamiltonian, and substitute it into the Kinetic Hamiltonian $H_{Kinetic}(r)$.  \n",
      "\n",
      "Use the following conventions for the symbols (You should also obey the conventions in all my previous prompts if you encounter undefined symbols. If you find it is never defined or has conflicts in the conventions, you should stop and let me know):  \n",
      "$k$ : momentum operator  \n",
      "$r$ : real space operator  \n",
      "$m_l$ : the effective mass for layer $l$  \n",
      "$\\tilde{\\tau}$ : takes value of +1 for $\\tau=+K$ and -1 for $\\tau=-K$  \n",
      "$\\pm\\kappa$ : corners of monolayer moire Brillouin zone  \n",
      "\n",
      "===  \n",
      "EXAMPLE 1:  \n",
      "A parabolic dispersion for electron is $E_{\\alpha}=\\frac{\\hbar^2 k^2}{2m_{\\alpha}}$, where $\\alpha$ indicates the type of electron.  If there is a further shift of $q$ in the momentum $k$, the dispersion will become $E_{\\alpha}=\\frac{\\hbar^2 (k-q)^2}{2m_{\\alpha}}$.\n",
      "\n",
      "EXAMPLE 2:\n",
      "A parabolic dispersion for hole is $E_{\\alpha}=-\\frac{\\hbar^2 k^2}{2m_{\\alpha}}$, where $\\alpha$ indicates the type of hole.  If there is a further shift of $q$ in the momentum $k$, the dispersion will become $E_{\\alpha}=-\\frac{\\hbar^2 (k-q)^2}{2m_{\\alpha}}$.\n",
      "\n",
      "EXAMPLE 3:  \n",
      "A dirac dispersion for electron/hole is a 2 by 2 matrix, i.e., $h_{\\theta}(k)=-\\hbar v_D |k| \\begin{pmatrix}  0 & e^{i(\\theta_{k}-\\theta)}\\\\ e^{-i(\\theta_{\\bar{k}}-\\theta)} & 0 \\end{pmatrix}$, where $v_D$ is the Fermi velocity, $\\theta$ is the twist angle, and $\\theta_k$ indicates the azumith angle of $k$. If there is a further shift of $K_{\\theta}$ in the momentum $k$, the dispersion will become $h_{\\theta}(k)=-\\hbar v_D |k-K_{\\theta}| \\begin{pmatrix}  0 & e^{i(\\theta_{k-K_{\\theta}}-\\theta)}\\\\ e^{-i(\\theta_{k-K_{\\theta}}-\\theta)} & 0 \\end{pmatrix}$.\n"
     ]
    }
   ],
   "source": [
    "print_save(generate_prompt(kwargs,prompt_dict=prompt_dict())['content'])"
   ]
  },
  {
   "cell_type": "code",
   "execution_count": 41,
   "metadata": {},
   "outputs": [],
   "source": [
    "# user_msg.append(generate_prompt(kwargs,prompt_dict=prompt_dict))"
   ]
  },
  {
   "cell_type": "code",
   "execution_count": 42,
   "metadata": {},
   "outputs": [],
   "source": [
    "# messages=assembly_message(sys_msg,user_msg,AI_msg)"
   ]
  },
  {
   "cell_type": "code",
   "execution_count": 43,
   "metadata": {},
   "outputs": [],
   "source": [
    "# rs = openai.ChatCompletion.create(messages=messages, **model_params)\n",
    "# Markdown(rs['choices'][0]['message'].content)"
   ]
  },
  {
   "cell_type": "code",
   "execution_count": 44,
   "metadata": {},
   "outputs": [],
   "source": [
    "# AI_msg.append(dict(rs['choices'][0]['message']))"
   ]
  },
  {
   "cell_type": "code",
   "execution_count": 45,
   "metadata": {},
   "outputs": [],
   "source": [
    "# rs['choices'][0]['message'].content"
   ]
  },
  {
   "cell_type": "code",
   "execution_count": 46,
   "metadata": {},
   "outputs": [],
   "source": [
    "kwargs_list.append(kwargs)"
   ]
  },
  {
   "cell_type": "markdown",
   "metadata": {},
   "source": [
    "## Construct Potential Hamiltonian (continuum version)"
   ]
  },
  {
   "cell_type": "code",
   "execution_count": 47,
   "metadata": {},
   "outputs": [],
   "source": [
    "# user_msg=[]\n",
    "# AI_msg=[]\n",
    "# sys_msg=[{'role': 'system', 'content': prompt_dict['Preamble']}]\n",
    "# kwargs_list=[]"
   ]
  },
  {
   "cell_type": "code",
   "execution_count": 153,
   "metadata": {},
   "outputs": [],
   "source": [
    "kwargs = {\n",
    "    'task':\n",
    "    'Construct Potential Hamiltonian (continuum version)',\n",
    "    'potential_symbol':'$H_{Potential}(r)$',\n",
    "    'real|momentum':'real',\n",
    "    'single-particle|second-quantized':'single-particle',\n",
    "    'diagonal_potential': '$\\Delta_l(r)$',\n",
    "    'interaction_degrees_of_freedom': '$t$ and $b$',\n",
    "    'offdiagonal_potential': '$\\Delta_{T,\\tau}(r)$',\n",
    "    # 'kinetic_symbol': r'$H_{Kinetic}(r)$',\n",
    "    # 'Description': r'''At each valley, it is a 2 by 2 matrix $H_{Potential,\\tau}(r)$, where each component is layer index. The diagonal term in this 2 by 2 matrix $H_{Potential,\\tau}(r)$ is  intralayer tunneling $\\Delta_l(r)$. The off-diagonal term in this 2 by 2 matrix $H_{Potential,\\tau}(r)$ is interlayer potential $\\Delta_{T,\\tau}(r)$, which should be kept hermitian.  \n",
    "# There is no hybridization between $+K$ valley and $-K$ valley, i.e., the corresponding matrix elements in $H_{Potential}(r)$ are all zero''',\n",
    "    'var':\n",
    "    r'$\\Delta_l(r)$ and $\\Delta_{T,\\tau}(r)$',\n",
    "    'definition_of_variables': r'''$\\Delta_l$: intralayer potential for layer index $l$  \n",
    "$\\Delta_{T,\\tau}$ : interlayer tunneling at valley index $\\tau$  \n",
    "$H_{Potential}(r)$ : potential term of Hamiltonian in the real space in the single-particle form.  ''',\n",
    "    'answer':'$H_{Potential}(r) = \\\\begin{pmatrix} \\\\Delta_b(r) & \\\\Delta_{T,+K}(r) & 0 & 0 \\\\\\\\ \\\\Delta_{T,+K}^*(r) & \\\\Delta_t(r) & 0 & 0 \\\\\\\\ 0 & 0 & \\\\Delta_b(r) & \\\\Delta_{T,-K}(r) \\\\\\\\ 0 & 0 & \\\\Delta_{T,-K}^*(r) & \\\\Delta_t(r) \\\\end{pmatrix}$',\n",
    "'source': {'2111.01152.tex':[(55,62),],'2111.01152_SM.tex':[(46,62),]},\n",
    "}\n"
   ]
  },
  {
   "cell_type": "code",
   "execution_count": 154,
   "metadata": {},
   "outputs": [
    {
     "name": "stdout",
     "output_type": "stream",
     "text": [
      "You will be instructed to describe the potential term of Hamiltonian $H_{Potential}(r)$ in the real space in the single-particle form.  \n",
      "The potential Hamiltonian has the same degrees of freedom as the kinetic Hamiltonian The diagonal terms are $\\Delta_l(r)$.  \n",
      "The off-dagonal terms are the coupling between $t$ and $b$, $\\Delta_{T,\tau}(r)$, which should be kept hermitian.  \n",
      "All others terms are zero.\n",
      "Express the potential Hamiltonian $H_{Potential}(r)$ using $\\Delta_l(r)$ and $\\Delta_{T,\tau}(r)$.  \n",
      "\n",
      "Use the following conventions for the symbols (You should also obey the conventions in all my previous prompts if you encounter undefined symbols. If you find it is never defined or has conflicts in the conventions, you should stop and let me know):  \n",
      "$\\Delta_l$: intralayer potential for layer index $l$  \n",
      "$\\Delta_{T,\\tau}$ : interlayer tunneling at valley index $\\tau$  \n",
      "$H_{Potential}(r)$ : potential term of Hamiltonian in the real space in the single-particle form.\n"
     ]
    }
   ],
   "source": [
    "print_save(generate_prompt(kwargs,prompt_dict=prompt_dict())['content'])"
   ]
  },
  {
   "cell_type": "code",
   "execution_count": 50,
   "metadata": {},
   "outputs": [],
   "source": [
    "# user_msg.append(generate_prompt(kwargs,prompt_dict=prompt_dict))"
   ]
  },
  {
   "cell_type": "code",
   "execution_count": 51,
   "metadata": {},
   "outputs": [],
   "source": [
    "# messages=assembly_message(sys_msg,user_msg,AI_msg)"
   ]
  },
  {
   "cell_type": "code",
   "execution_count": 52,
   "metadata": {},
   "outputs": [],
   "source": [
    "# rs = openai.ChatCompletion.create(messages=messages, **model_params)\n",
    "\n",
    "# Markdown(rs['choices'][0]['message'].content)"
   ]
  },
  {
   "cell_type": "code",
   "execution_count": 53,
   "metadata": {},
   "outputs": [],
   "source": [
    "# AI_msg.append(dict(rs['choices'][0]['message']))"
   ]
  },
  {
   "cell_type": "code",
   "execution_count": 54,
   "metadata": {},
   "outputs": [],
   "source": [
    "# rs['choices'][0]['message'].content"
   ]
  },
  {
   "cell_type": "code",
   "execution_count": 55,
   "metadata": {},
   "outputs": [],
   "source": [
    "kwargs_list.append(kwargs)"
   ]
  },
  {
   "cell_type": "markdown",
   "metadata": {},
   "source": [
    "## Define each term in Potential Hamiltonian (continuum version)"
   ]
  },
  {
   "cell_type": "code",
   "execution_count": 56,
   "metadata": {},
   "outputs": [],
   "source": [
    "# user_msg=[]\n",
    "# AI_msg=[]\n",
    "# sys_msg=[{'role': 'system', 'content': prompt_dict['Preamble']}]\n",
    "# kwargs_list=[]"
   ]
  },
  {
   "cell_type": "code",
   "execution_count": 181,
   "metadata": {},
   "outputs": [],
   "source": [
    "kwargs = {\n",
    "    'task':\n",
    "    'Define each term in Potential Hamiltonian (continuum version)',\n",
    "    'potential_symbol':'$H_{Potential}(r)$',\n",
    "    'Potential_variables': r'the intralayer potential $\\Delta_l(r)$ and interlayer tunneling $\\Delta_{T,\\tau}(r)$',\n",
    "    'expression_diag': '$\\Delta_t(r) = V_{zt}$ and $\\Delta_b(r)$ is $2V_b\\sum_{j=1,3,5} \\cos(g_j \\cdot r  +\\psi_b)$',\n",
    "    'expression_offdiag': '$\\Delta_{T,+K}(r)=w(1+\\omega^{1}e^{i g_2 \\cdot r} + \\omega^{2} e^{i g_3 \\cdot r})$ and $\\Delta_{T,-K}(r)=-w(1+\\omega^{-1}e^{-i g_2 \\cdot r} + \\omega^{-2} e^{-i g_3 \\cdot r})$',\n",
    "    'definition_of_variables': r'''$V_b$ : bottom layer potential strength  \n",
    "$\\psi_b$ : bottom layer potential phase  \n",
    "$g_j$ : reciprocal unit vector on the first shell corresponding in the moire Brillouin zone, j varies from 1 to 6.  \n",
    "$r$ : real space position  \n",
    "$\\omega$ : phase factor to respect the threefold rotational symmetry, which is $e^{i2\\pi/3}$, the hermitian conjugate is $\\omega^{-1}=e^{-i2\\pi/3}$  \n",
    "$w$ : interlayer tunneling strength''',\n",
    "    'expression_Potential': '$H_{Potential}(r) = \\\\begin{pmatrix} \\\\Delta_b(r) & \\\\Delta_{T,+K}(r) & 0 & 0 \\\\\\\\ \\\\Delta_{T,+K}^*(r) & \\\\Delta_t(r) & 0 & 0 \\\\\\\\ 0 & 0 & \\\\Delta_b(r) & \\\\Delta_{T,-K}(r) \\\\\\\\ 0 & 0 & \\\\Delta_{T,-K}^*(r) & \\\\Delta_t(r) \\\\end{pmatrix}$',\n",
    "    'answer':'$H_{Potential}(r) = \\\\begin{pmatrix} 2V_b\\\\sum_{j=1,3,5} \\\\cos(g_j \\\\cdot r  +\\\\psi_b) & w(1+\\\\omega e^{i g_2 \\\\cdot r} + \\\\omega^2 e^{i g_3 \\\\cdot r}) & 0 & 0 \\\\\\\\ w(1+\\\\omega^{-1}e^{-i g_2 \\\\cdot r} + \\\\omega^{-2} e^{-i g_3 \\\\cdot r}) & V_{zt} & 0 & 0 \\\\\\\\ 0 & 0 & 2V_b\\\\sum_{j=1,3,5} \\\\cos(g_j \\\\cdot r  +\\\\psi_b) & -w(1+\\\\omega^{-1}e^{-i g_2 \\\\cdot r} + \\\\omega^{-2} e^{-i g_3 \\\\cdot r}) \\\\\\\\ 0 & 0 & -w(1+\\\\omega e^{i g_2 \\\\cdot r} + \\\\omega^2 e^{i g_3 \\\\cdot r}) & V_{zt} \\\\end{pmatrix}$',\n",
    "'source': {'2111.01152.tex':[(55,62),(71,80)]},'2111.01152_SM.tex':[(46,62),]}\n"
   ]
  },
  {
   "cell_type": "code",
   "execution_count": 182,
   "metadata": {},
   "outputs": [
    {
     "name": "stdout",
     "output_type": "stream",
     "text": [
      "You will be instructed to construct each term $H_{Potential}(r)$, namely, the intralayer potential $\\Delta_l(r)$ and interlayer tunneling $\\Delta_{T,\\tau}(r)$.  \n",
      "The expression for diagonal terms are: $\\Delta_t(r) = V_{zt}$ and $\\Delta_b(r)$ is $2V_b\\sum_{j=1,3,5} \\cos(g_j \\cdot r  +\\psi_b)$.  \n",
      "The expression for off-diagonal terms are: $\\Delta_{T,+K}(r)=w(1+\\omega^{1}e^{i g_2 \\cdot r} + \\omega^{2} e^{i g_3 \\cdot r})$ and $\\Delta_{T,-K}(r)=-w(1+\\omega^{-1}e^{-i g_2 \\cdot r} + \\omega^{-2} e^{-i g_3 \\cdot r})$.  \n",
      "You should recall that $H_{Potential}(r) = \\begin{pmatrix} \\Delta_b(r) & \\Delta_{T,+K}(r) & 0 & 0 \\\\ \\Delta_{T,+K}^*(r) & \\Delta_t(r) & 0 & 0 \\\\ 0 & 0 & \\Delta_b(r) & \\Delta_{T,-K}(r) \\\\ 0 & 0 & \\Delta_{T,-K}^*(r) & \\Delta_t(r) \\end{pmatrix}$.  \n",
      "Return the expressions for the intralayer potential $\\Delta_l(r)$ and interlayer tunneling $\\Delta_{T,\\tau}(r)$, and substitute it into the potential Hamiltonian $H_{Potential}(r)$.  \n",
      "\n",
      "Use the following conventions for the symbols (You should also obey the conventions in all my previous prompts if you encounter undefined symbols. If you find it is never defined or have conflicts in the conventions, you should stop and let me know):  \n",
      "$V_b$ : bottom layer potential strength  \n",
      "$\\psi_b$ : bottom layer potential phase  \n",
      "$g_j$ : reciprocal unit vector on the first shell corresponding in the moire Brillouin zone, j varies from 1 to 6.  \n",
      "$r$ : real space position  \n",
      "$\\omega$ : phase factor to respect the threefold rotational symmetry, which is $e^{i2\\pi/3}$, the hermitian conjugate is $\\omega^{-1}=e^{-i2\\pi/3}$  \n",
      "$w$ : interlayer tunneling strength\n"
     ]
    }
   ],
   "source": [
    "print_save(generate_prompt(kwargs,prompt_dict=prompt_dict())['content'])"
   ]
  },
  {
   "cell_type": "code",
   "execution_count": 59,
   "metadata": {},
   "outputs": [],
   "source": [
    "# user_msg.append(generate_prompt(kwargs,prompt_dict=prompt_dict))"
   ]
  },
  {
   "cell_type": "code",
   "execution_count": 60,
   "metadata": {},
   "outputs": [],
   "source": [
    "# messages=assembly_message(sys_msg,user_msg,AI_msg)"
   ]
  },
  {
   "cell_type": "code",
   "execution_count": 61,
   "metadata": {},
   "outputs": [],
   "source": [
    "# rs = openai.ChatCompletion.create(messages=messages, **model_params)\n",
    "\n",
    "# Markdown(rs['choices'][0]['message'].content)"
   ]
  },
  {
   "cell_type": "code",
   "execution_count": 62,
   "metadata": {},
   "outputs": [],
   "source": [
    "# AI_msg.append(dict(rs['choices'][0]['message']))"
   ]
  },
  {
   "cell_type": "code",
   "execution_count": 63,
   "metadata": {},
   "outputs": [],
   "source": [
    "# rs['choices'][0]['message'].content"
   ]
  },
  {
   "cell_type": "code",
   "execution_count": 64,
   "metadata": {},
   "outputs": [],
   "source": [
    "kwargs_list.append(kwargs)"
   ]
  },
  {
   "cell_type": "markdown",
   "metadata": {},
   "source": [
    "## Convert from single-particle to second-quantized form, return in matrix"
   ]
  },
  {
   "cell_type": "code",
   "execution_count": 183,
   "metadata": {},
   "outputs": [],
   "source": [
    "kwargs = {\n",
    "    'task':'Convert from single-particle to second-quantized form, return in matrix',\n",
    "    'real|momentum':'real',\n",
    "    'nonint_symbol': r'$H^{0}(r)$',\n",
    "    'potential_symbol':'$H_{Potential}(r)$',\n",
    "    'kinetic_symbol':'$H_{Kinetic}(r)$',\n",
    "    '$r$|$k$': '$r$',\n",
    "    'second_nonint_symbol': r'$\\hat{H}^{0}$',\n",
    "    'definition_of_variables': r'''$\\psi_{\\tau,l}(r)$ : electron annihilation operator at valley index $\\tau$ and layer index $l$  \n",
    "$\\vec{\\psi}(r)$ : spinor containing all annihilation operators $\\psi_{\\tau,l}(r)$ following the same order of $H^{0}(r)$  \n",
    "$H^{0}(r)$ : single-particle noninteracting Hamiltonian in the real space  \n",
    "$\\hat{H}^{0}$ : total noninteracting Hamiltonian in the second quantized form ''',\n",
    "    'answer':r'$\\hat{H}^{0} = \\int dr \\vec{\\psi}^\\dagger(r) H^{0}(r) \\vec{\\psi}(r)$',\n",
    "'source': {'2111.01152_SM.tex':[(46,62),]},\n",
    "}\n"
   ]
  },
  {
   "cell_type": "code",
   "execution_count": 184,
   "metadata": {},
   "outputs": [
    {
     "name": "stdout",
     "output_type": "stream",
     "text": [
      "You will be instructed to construct the second quantized form of the total noninteracting Hamiltonian in the real space.  \n",
      "The noninteracting Hamiltonian in the real space $H^{0}(r)$ is the sum of Kinetic Hamiltonian $H_{Kinetic}(r)$ and Potential Hamiltonian $H_{Potential}(r)$.  \n",
      "To construct the second quantized form of a Hamiltonian. You should construct the creation and annihilation operators from the basis explicitly. You should follow the EXAMPLE below to convert a Hamiltonian from the single-particle form to second-quantized form.  \n",
      "Finally by \"total\", it means you need to take a summation over the real space position $r$.   \n",
      "Return the second quantized form of the total noninteracting Hamiltonian $\\hat{H}^{0}$  \n",
      "\n",
      "Use the following conventions for the symbols (You should also obey the conventions in all my previous prompts if you encounter undefined symbols. If you find it is never defined or has conflicts in the conventions, you should stop and let me know):  \n",
      "$\\psi_{\\tau,l}(r)$ : electron annihilation operator at valley index $\\tau$ and layer index $l$  \n",
      "$\\vec{\\psi}(r)$ : spinor containing all annihilation operators $\\psi_{\\tau,l}(r)$ following the same order of $H^{0}(r)$  \n",
      "$H^{0}(r)$ : single-particle noninteracting Hamiltonian in the real space  \n",
      "$\\hat{H}^{0}$ : total noninteracting Hamiltonian in the second quantized form \n",
      "\n",
      "===  \n",
      "EXAMPLE:  \n",
      "For a Hamiltonian $H$, where $H=\\begin{pmatrix} H_{a,a} & H_{a,b} \\\\ H_{b,a} & H_{b,b} \\end{pmatrix}$ and the order of basis is (a), (b), we can construct the creation operators $\\psi_a^\\dagger$  and $\\psi_b^\\dagger$, and the annihilation operator $\\psi_a$  and $\\psi_b$.  \n",
      "The corresponding second quantized form is $\\hat{H}=\\vec{\\psi}^\\dagger H \\vec{\\psi}$, where $\\vec{\\psi}=\\begin{pmatrix} \\psi_a \\\\ \\psi_b \\end{pmatrix}$ and $\\vec{\\psi}^\\dagger=\\begin{pmatrix} \\psi_a^\\dagger & \\psi_b^\\dagger \\end{pmatrix}$.\n"
     ]
    }
   ],
   "source": [
    "print_save(generate_prompt(kwargs,prompt_dict=prompt_dict())['content'])"
   ]
  },
  {
   "cell_type": "code",
   "execution_count": 67,
   "metadata": {},
   "outputs": [],
   "source": [
    "# user_msg.append(generate_prompt(kwargs,prompt_dict=prompt_dict))"
   ]
  },
  {
   "cell_type": "code",
   "execution_count": 68,
   "metadata": {},
   "outputs": [],
   "source": [
    "# messages=assembly_message(sys_msg,user_msg,AI_msg)"
   ]
  },
  {
   "cell_type": "code",
   "execution_count": 69,
   "metadata": {},
   "outputs": [],
   "source": [
    "# rs = openai.ChatCompletion.create(messages=messages, **model_params)\n",
    "\n",
    "# Markdown(rs['choices'][0]['message'].content)"
   ]
  },
  {
   "cell_type": "code",
   "execution_count": 70,
   "metadata": {},
   "outputs": [],
   "source": [
    "# AI_msg.append(dict(rs['choices'][0]['message']))"
   ]
  },
  {
   "cell_type": "code",
   "execution_count": 71,
   "metadata": {},
   "outputs": [],
   "source": [
    "# rs['choices'][0]['message'].content"
   ]
  },
  {
   "cell_type": "code",
   "execution_count": 72,
   "metadata": {},
   "outputs": [],
   "source": [
    "kwargs_list.append(kwargs)"
   ]
  },
  {
   "cell_type": "markdown",
   "metadata": {},
   "source": [
    "## Convert from single-particle to second-quantized form, return in summation (expand the matrix)"
   ]
  },
  {
   "cell_type": "code",
   "execution_count": 187,
   "metadata": {},
   "outputs": [],
   "source": [
    "kwargs = {\n",
    "    'task':'Convert from single-particle to second-quantized form, return in summation (expand the matrix)',\n",
    "    'second_nonint_symbol':  r'$\\hat{H}^{0}$',\n",
    "    'matrix_element_symbol': r'$H^{0}_{\\tau_1,l_1,\\tau_2,l_2}(r)$',\n",
    "    'basis_symbol': r'$\\psi_{\\tau,l}(r)$',\n",
    "    'expression_second_nonint': r'$\\hat{H}^{0} = \\int dr \\vec{\\psi}^\\dagger(r) H^{0}(r) \\vec{\\psi}(r)$, where $H^{0}(r)=H_{Kinetic}(r)+H_{Potential}(r)$, $H_{Kinetic}(r) = \\begin{pmatrix} -\\frac{\\hbar^2 k^2}{2 m_b} & 0 & 0 & 0 \\\\ 0 & -\\frac{\\hbar^2 (k-\\kappa)^2}{2 m_t} & 0 & 0 \\\\ 0 & 0 & -\\frac{\\hbar^2 k^2}{2 m_b} & 0 \\\\ 0 & 0 & 0 & -\\frac{\\hbar^2 (k+\\kappa)^2}{2 m_t} \\end{pmatrix}$, and $H_{Potential}(r) = \\begin{pmatrix} 2V_b\\sum_{j=1,3,5} \\cos(g_j \\cdot r  +\\psi_b) & w(1+\\omega e^{i g_2 \\cdot r} + \\omega^2 e^{i g_3 \\cdot r}) & 0 & 0 \\\\ w(1+\\omega^{-1}e^{-i g_2 \\cdot r} + \\omega^{-2} e^{-i g_3 \\cdot r}) & V_{zt} & 0 & 0 \\\\ 0 & 0 & 2V_b\\sum_{j=1,3,5} \\cos(g_j \\cdot r  +\\psi_b) & -w(1+\\omega^{-1}e^{-i g_2 \\cdot r} + \\omega^{-2} e^{-i g_3 \\cdot r}) \\\\ 0 & 0 & -w(1+\\omega e^{i g_2 \\cdot r} + \\omega^2 e^{i g_3 \\cdot r}) & V_{zt} \\end{pmatrix}$',\n",
    "    'definition_of_variables': r'''$H^{0}_{\\tau_1,l_1,\\tau_2,l_2}(r)$ : the matrix element of single-particle noninteracting Hamiltonian in the real space  ''',\n",
    "    'answer':r'$\\hat{H}^{0} = \\int dr \\sum_{l_1, l_2} \\left( \\psi_{+K,l_1}^\\dagger(r) H^{0}_{+K,l_1,+K,l_2}(r) \\psi_{+K,l_2}(r) + \\psi_{-K,l_1}^\\dagger(r) H^{0}_{-K,l_1,-K,l_2}(r) \\psi_{-K,l_2}(r) \\right)$',\n",
    "'source': {'2111.01152_SM.tex':[(46,62),]}\n",
    "}\n"
   ]
  },
  {
   "cell_type": "code",
   "execution_count": 190,
   "metadata": {},
   "outputs": [
    {
     "name": "stdout",
     "output_type": "stream",
     "text": [
      "You will be instructed to expand the second-quantized form Hamiltonian $\\hat{H}^{0}$ using $H^{0}_{\\tau_1,l_1,\\tau_2,l_2}(r)$ and $\\psi_{\\tau,l}(r)$. You should follow the EXAMPLE below to expand the Hamiltonian.  \n",
      "You should use any previous knowledge to simplify it. For example, if any term of $H^{0}_{\\tau_1,l_1,\\tau_2,l_2}(r)$ is zero, you should remove it from the summation.\n",
      "You should recall that $\\hat{H}^{0} = \\int dr \\vec{\\psi}^\\dagger(r) H^{0}(r) \\vec{\\psi}(r)$, where $H^{0}(r)=H_{Kinetic}(r)+H_{Potential}(r)$, $H_{Kinetic}(r) = \\begin{pmatrix} -\\frac{\\hbar^2 k^2}{2 m_b} & 0 & 0 & 0 \\\\ 0 & -\\frac{\\hbar^2 (k-\\kappa)^2}{2 m_t} & 0 & 0 \\\\ 0 & 0 & -\\frac{\\hbar^2 k^2}{2 m_b} & 0 \\\\ 0 & 0 & 0 & -\\frac{\\hbar^2 (k+\\kappa)^2}{2 m_t} \\end{pmatrix}$, and $H_{Potential}(r) = \\begin{pmatrix} 2V_b\\sum_{j=1,3,5} \\cos(g_j \\cdot r  +\\psi_b) & w(1+\\omega e^{i g_2 \\cdot r} + \\omega^2 e^{i g_3 \\cdot r}) & 0 & 0 \\\\ w(1+\\omega^{-1}e^{-i g_2 \\cdot r} + \\omega^{-2} e^{-i g_3 \\cdot r}) & V_{zt} & 0 & 0 \\\\ 0 & 0 & 2V_b\\sum_{j=1,3,5} \\cos(g_j \\cdot r  +\\psi_b) & -w(1+\\omega^{-1}e^{-i g_2 \\cdot r} + \\omega^{-2} e^{-i g_3 \\cdot r}) \\\\ 0 & 0 & -w(1+\\omega e^{i g_2 \\cdot r} + \\omega^2 e^{i g_3 \\cdot r}) & V_{zt} \\end{pmatrix}$.  \n",
      "Return the expanded form of $\\hat{H}^{0}$ after simplication.  \n",
      "\n",
      "Use the following conventions for the symbols (You should also obey the conventions in all my previous prompts if you encounter undefined symbols. If you find it is never defined or has conflicts in the conventions, you should stop and let me know):  \n",
      "$H^{0}_{\\tau_1,l_1,\\tau_2,l_2}(r)$ : the matrix element of single-particle noninteracting Hamiltonian in the real space  \n",
      "\n",
      "===  \n",
      "EXAMPLE:  \n",
      "For a $\\hat{H}=\\vec{\\psi}^\\dagger H \\vec{\\psi}$, where $\\vec{\\psi}=\\begin{pmatrix} \\psi_a \\\\ \\psi_b \\end{pmatrix}$ and $\\vec{\\psi}^\\dagger=\\begin{pmatrix} \\psi_a^\\dagger & \\psi_b^\\dagger \\end{pmatrix}$, we can expand it as  $\\hat{H}=\\sum_{i,j=\\{a,b\\}} \\psi_i^\\dagger H_{i,j} \\psi_j$.\n"
     ]
    }
   ],
   "source": [
    "print_save(generate_prompt(kwargs,prompt_dict=prompt_dict())['content'])"
   ]
  },
  {
   "cell_type": "code",
   "execution_count": 75,
   "metadata": {},
   "outputs": [],
   "source": [
    "kwargs_list.append(kwargs)"
   ]
  },
  {
   "cell_type": "markdown",
   "metadata": {},
   "source": [
    "## Convert noninteracting Hamiltonian in real space to momentum space (continuum version)"
   ]
  },
  {
   "cell_type": "code",
   "execution_count": 197,
   "metadata": {},
   "outputs": [],
   "source": [
    "kwargs = {\n",
    "    'task':'Convert noninteracting Hamiltonian in real space to momentum space (continuum version)',\n",
    "    'real_creation_op': r'$\\psi_{\\tau,l}^\\dagger(r)$',\n",
    "    'momentum_creation_op': r'$c_{\\tau,l}^\\dagger(k)$',\n",
    "    'definition_of_Fourier_Transformation': r'$c_{\\tau,l}^\\dagger(k)= \\frac{1}{\\sqrt{V}} \\int dr \\psi_{\\tau,l}^\\dagger(r) e^{i k \\cdot r}$',\n",
    "    'real_variable': '$r$',\n",
    "    'entire_real|first_Brillouin_Zone': 'entire real space',\n",
    "    'second_nonint_symbol':  r'$\\hat{H}^{0}$',\n",
    "    'definition_of_variables': r'''$c_{l,\\tau}(k)$ : electron annihilation operator at momentum $k$, layer $l$, and valley $\\tau$  \n",
    "$c_{l,\\tau}^\\dagger(k)$ : electron creation operator at momentum $k$, layer $l$, and valley $\\tau$  \n",
    "$V$ : area of unit cell in the real space  ''',\n",
    "    'answer':r'$\\hat{H}^{0} = \\sum_{\\tau, l_1, l_2, k_1, k_2} c_{\\tau,l_1}^\\dagger(k_1) H^{0}_{\\tau,l_1,\\tau,l_2}(k_1,k_2) c_{\\tau,l_2}(k_2)$',\n",
    "'source': {'2111.01152_SM.tex':[(46,62),(89,93)]}\n",
    "}\n"
   ]
  },
  {
   "cell_type": "code",
   "execution_count": 198,
   "metadata": {},
   "outputs": [
    {
     "name": "stdout",
     "output_type": "stream",
     "text": [
      "You will be instructed to convert the total noninteracting Hamiltonian in the second quantized form from the basis in real space to the basis by momentum space.  \n",
      "To do that, you should apply the Fourier transformation to $\\psi_{\\tau,l}^\\dagger(r)$ in the real space to the $c_{\\tau,l}^\\dagger(k)$ in the momentum space, which is defined as $c_{\\tau,l}^\\dagger(k)= \\frac{1}{\\sqrt{V}} \\int dr \\psi_{\\tau,l}^\\dagger(r) e^{i k \\cdot r}$, where $r$ is integrated over the entire real space. You should follow the EXAMPLE below to apply the Fourier transformation.  \n",
      "Express the total noninteracting Hamiltonian $\\hat{H}^{0}$ in terms of $c_{\\tau,l}^\\dagger(k)$. Simplify any summation index if possible.  \n",
      "\n",
      "Use the following conventions for the symbols (You should also obey the conventions in all my previous prompts if you encounter undefined symbols. If you find it is never defined or has conflicts in the conventions, you should stop and let me know):  \n",
      "$c_{l,\\tau}(k)$ : electron annihilation operator at momentum $k$, layer $l$, and valley $\\tau$  \n",
      "$c_{l,\\tau}^\\dagger(k)$ : electron creation operator at momentum $k$, layer $l$, and valley $\\tau$  \n",
      "$V$ : area of unit cell in the real space  \n",
      "\n",
      "===  \n",
      "EXAMPLE:  \n",
      "Write a Hamiltonian $\\hat{H}$ in the second quantized form, $\\hat{H}=\\int dr \\psi(r)^\\dagger H(r) \\psi(r)$, where $r$ is integrated over the entire real space.  \n",
      "Define the Fourier transformation $c^\\dagger(k)=\\frac{1}{\\sqrt{V}} \\int \\psi^\\dagger(r) e^{i k \\cdot r} dr$, where $r$ is integrated over the entire real space, and $V$ is the area of the unit cell in the real space.  \n",
      "This leads to the inverse Fourier transformation $\\psi^\\dagger(r) = \\frac{1}{\\sqrt{V}} \\sum_k c^\\dagger(k) e^{-i k \\cdot r}$, where $k$ is summed over the extended Brillouin zone (i.e., the entire momentum space), $\\Omega$ is the area of Brillouin zone in the momentum space.  \n",
      "Thus, substitute $\\psi^\\dagger(r)$ and $\\psi(r)$ into $\\hat{H}$, we get  \n",
      "$$\\hat{H} = \\int dr \\frac{1}{\\sqrt{V}} \\sum_{k_1} c^\\dagger(k_1) e^{-i k_1 \\cdot r} H(r) \\frac{1}{\\sqrt{V}} \\sum_{k_2} c(k_2) e^{i k_2 \\cdot r} =\\sum_{k_1,k_2} c^\\dagger(k_1) \\frac{1}{V} \\int dr e^{-i (k_1-k_2)\\cdot r} H(r) c(k_2) = \\sum_{k_1,k_2} c^\\dagger(k_1) H(k_1,k_2) c(k_2)$$  \n",
      ", where we define the Fourier transformation of $H(r)$ as $H(k_1,k_2)=\\frac{1}{V} \\int dr e^{-i (k_1-k_2)\\cdot r} H(r)$.\n"
     ]
    }
   ],
   "source": [
    "print_save(generate_prompt(kwargs,prompt_dict=prompt_dict())['content'])"
   ]
  },
  {
   "cell_type": "code",
   "execution_count": 78,
   "metadata": {},
   "outputs": [],
   "source": [
    "kwargs_list.append(kwargs)"
   ]
  },
  {
   "cell_type": "markdown",
   "metadata": {},
   "source": [
    "## Particle-hole transformation"
   ]
  },
  {
   "cell_type": "code",
   "execution_count": 203,
   "metadata": {},
   "outputs": [],
   "source": [
    "kwargs = {\n",
    "    'task':'Particle-hole transformation',\n",
    "    'hole_op': r'$b_{l,\\tau}(k)$',\n",
    "    'particle_op': r'$c_{l,\\tau}^\\dagger(k)$',\n",
    "    'particle_creation_op': r'$c_{l,\\tau}$',\n",
    "    'hole_creation_op': r'$b_{l,\\tau}(k)^\\dagger$',\n",
    "    'particle_annihilation_op': r'$c_{l,\\tau}^\\dagger$',\n",
    "    'hole_annihilation_op': r'$b_{l,\\tau}(k)$',\n",
    "    'second_nonint_symbol':  r'$\\hat{H}^{0}$',\n",
    "    'definition_of_variables': r'''$b_{l,\\tau}(k)$ : hole annihilation operator at momentum $k$, layer $l$, and valley $\\tau$''',\n",
    "    'expression_particle_Ham' :r'$\\hat{H}^{0} = \\sum_{\\tau, l_1, l_2, k_1, k_2} c_{\\tau,l_1}^\\dagger(k_1) H^{0}_{\\tau,l_1,\\tau,l_2}(k_1,k_2) c_{\\tau,l_2}(k_2)$',\n",
    "    'answer':r'$\\hat{H}^{0} = \\sum_{\\tau, l_1, l_2, k_1, k_2} b_{\\tau, l_1}(k_1) H^{0}_{\\tau, l_1, \\tau, l_2}(k_1, k_2) b_{\\tau, l_2}^\\dagger(k_2)$',\n",
    "'source': {'2111.01152_SM.tex':[(95,99)]}\n",
    "}\n"
   ]
  },
  {
   "cell_type": "code",
   "execution_count": 204,
   "metadata": {},
   "outputs": [
    {
     "name": "stdout",
     "output_type": "stream",
     "text": [
      "You will be instructed to perform a particle-hole transformation.  \n",
      "Define a hole operator, $b_{l,\\tau}(k)$, which equals $c_{l,\\tau}^\\dagger(k)$.  \n",
      "You should replace $c_{l,\\tau}$ with $b_{l,\\tau}(k)^\\dagger$, and $c_{l,\\tau}^\\dagger$ with $b_{l,\\tau}(k)$. You should follow the EXAMPLE below to apply the particle-hole transformation.  \n",
      "You should recall that $\\hat{H}^{0} = \\sum_{\\tau, l_1, l_2, k_1, k_2} c_{\\tau,l_1}^\\dagger(k_1) H^{0}_{\\tau,l_1,\\tau,l_2}(k_1,k_2) c_{\\tau,l_2}(k_2)$.\n",
      "Return the $\\hat{H}^{0}$ in the hole operators.\n",
      "\n",
      "Use the following conventions for the symbols (You should also obey the conventions in all my previous prompts if you encounter undefined symbols. If you find it is never defined or has conflicts in the conventions, you should stop and let me know):  \n",
      "$b_{l,\\tau}(k)$ : hole annihilation operator at momentum $k$, layer $l$, and valley $\\tau$\n",
      "\n",
      "===  \n",
      "EXAMPLE:  \n",
      "Give a Hamiltonian  $\\hat{H}=\\sum_{k_1,k_2} c^\\dagger(k_1) h(k_1,k_2) c(k_2)$ , and the particle-hole transformation as $b(k)=c^\\dagger(k)$. The transformed Hamiltonian is $\\hat{H}=\\sum_{k_1,k_2} b(k_1) h(k_1,k_2) b^\\dagger(k_2)$\n"
     ]
    }
   ],
   "source": [
    "print_save(generate_prompt(kwargs,prompt_dict=prompt_dict())['content'])"
   ]
  },
  {
   "cell_type": "code",
   "execution_count": 81,
   "metadata": {},
   "outputs": [],
   "source": [
    "kwargs_list.append(kwargs)"
   ]
  },
  {
   "cell_type": "markdown",
   "metadata": {},
   "source": [
    "## Simplify the Hamiltonian in the particle-hole basis"
   ]
  },
  {
   "cell_type": "code",
   "execution_count": 207,
   "metadata": {},
   "outputs": [],
   "source": [
    "kwargs = {\n",
    "    'task':'Simplify the Hamiltonian in the particle-hole basis',\n",
    "    'second_nonint_symbol':  r'$\\hat{H}^{0}$',\n",
    "    'hole_op': r'$b_{l,\\tau}(k)$',\n",
    "    'index_1': r'$l_1$/$k_1$',\n",
    "    'index_2': r'$l_2$/$k_2$',\n",
    "    'op': r'$b$',\n",
    "    'Ham_op': r'$H$',\n",
    "    'definition_of_variables': r'''$\\delta_{i,j}$ : Kronecker delta function, take the value of 1 if $i=j$, and 0 otherwise.  \n",
    "$[b_i, b_j]_{+}$ : anticommuting relation, i.e., $[b_i, b_j]_+= b_i b_j +b_j b_i$  \n",
    "$\\hat{H}^{0,final}$ : the final version of noninteracting Hamiltonian $\\hat{H}^{0}$ in the hole basis after simplification.''',\n",
    "    'expression_hole_Ham': r'$\\hat{H}^{0} = \\sum_{\\tau, l_1, l_2, k_1, k_2} b_{\\tau, l_1}(k_1) H^{0}_{\\tau, l_1, \\tau, l_2}(k_1, k_2) b_{\\tau, l_2}^\\dagger(k_2)$',\n",
    "    'answer':r'$\\hat{H}^{0} = \\sum_{\\tau, l_1, k_1} H^{0}_{\\tau, l_1, \\tau, l_1}(k_1, k_1) - \\sum_{\\tau, l_1, l_2, k_1, k_2} b_{\\tau, l_1}^\\dagger(k_1) (H^{0}_{\\tau, l_1, \\tau, l_2}(k_1, k_2))^* b_{\\tau, l_2}(k_2)$',\n",
    "'source': {'2111.01152_SM.tex':[(95,99)]}\n",
    "}\n"
   ]
  },
  {
   "cell_type": "code",
   "execution_count": 208,
   "metadata": {},
   "outputs": [
    {
     "name": "stdout",
     "output_type": "stream",
     "text": [
      "You will be instructed to simplify the $\\hat{H}^{0}$ in the hole basis.  \n",
      "You should use canonical commutator relation for fermions to reorder the hole operator to the normal order. Normal order means that creation operators always appear before the annihilation operators.  You should follow the EXAMPLE below to simplify it to the normal order.  \n",
      "Express the $\\hat{H}^{0}$ in the normal order of $b_{l,\\tau}(k)$ and also make $l_1$/$k_1$ always appear before $l_2$/$k_2$ in the index of $b$ and $H$.  \n",
      "You should recall that $\\hat{H}^{0} = \\sum_{\\tau, l_1, l_2, k_1, k_2} b_{\\tau, l_1}(k_1) H^{0}_{\\tau, l_1, \\tau, l_2}(k_1, k_2) b_{\\tau, l_2}^\\dagger(k_2)$\n",
      "Use the following conventions for the symbols (You should also obey the conventions in all my previous prompts if you encounter undefined symbols. If you find it is never defined or has conflicts in the conventions, you should stop and let me know):  \n",
      "$\\delta_{i,j}$ : Kronecker delta function, take the value of 1 if $i=j$, and 0 otherwise.  \n",
      "$[b_i, b_j]_{+}$ : anticommuting relation, i.e., $[b_i, b_j]_+= b_i b_j +b_j b_i$  \n",
      "$\\hat{H}^{0,final}$ : the final version of noninteracting Hamiltonian $\\hat{H}^{0}$ in the hole basis after simplification.\n",
      "\n",
      "===\n",
      "EXAMPLE:  \n",
      "For $\\hat{H}^{0}= \\sum_{i,j} b_i H_{i,j} b_j^\\dagger$, where $b_i$ satisfies fermion statistics (anticommuting to its self-adjoint operator).  \n",
      "This gives $`[b_i, b_j^\\dagger]_{+} = \\delta_{i,j}`$, which means $b_i b_j^\\dagger=\\delta_{i,j}-b_j^\\dagger b_i$.  \n",
      "Substitute it into $\\hat{H}^{0}$, we have $\\hat{H}^{0}=\\sum_{i,j} (\\delta_{i,j}-b_j^\\dagger b_i) H_{i,j}=\\sum_{i,j} \\delta_{i,j} H_{i,j} - \\sum_{i,j}b_j^\\dagger b_i H_{i,j}=\\sum_i H_{i,i} - \\sum_{i,j}b_j^\\dagger b_i H_{i,j}$.  \n",
      "The first term is simply $\\sum_i H_{i,i}$ by summing over the index $j$ due to $\\delta_{i,j}$.\n",
      "The second term is $-\\sum_{i,j}b_j^\\dagger b_i H_{i,j}$.  \n",
      "Relabeling the index of $i$ and $j$ by swapping them to make it consistent with the original order of index (namely, $i$ appears before $j$ in the index of $b$ and $H$), it becomes $-\\sum_{i,j}b_i^\\dagger H_{j,i} b_j$.\n",
      "Finally, to fix the order of the index in $H$ such that $i$ appears before $j$, we notice that $`H_{j,i}=(H_{i,j})^*`$, where $`^*`$ means complex conjugate, because the Hamiltonian is Hermitian.  \n",
      "Thus, we end up in $\\hat{H}^{0}=\\sum_{i,j} b_i H_{i,j} b_j^\\dagger=\\sum_i H_{i,i}-\\sum_{i,j}b_i^\\dagger (H_{i,j})^* b_j$\n"
     ]
    }
   ],
   "source": [
    "print_save(generate_prompt(kwargs,prompt_dict=prompt_dict())['content'])"
   ]
  },
  {
   "cell_type": "code",
   "execution_count": 84,
   "metadata": {},
   "outputs": [],
   "source": [
    "kwargs_list.append(kwargs)"
   ]
  },
  {
   "cell_type": "markdown",
   "metadata": {},
   "source": [
    "## Construct interaction Hamiltonian (momentum space)"
   ]
  },
  {
   "cell_type": "code",
   "execution_count": 221,
   "metadata": {},
   "outputs": [],
   "source": [
    "kwargs = {\n",
    "    'task':'Construct interaction Hamiltonian (momentum space)',\n",
    "    'second_int_symbol':  r'$\\hat{H}^{int}$',\n",
    "    'index_of_operator': r'valley index $\\tau_i$ and layer index $l_i$',\n",
    "    'momentum': r'momentum $k_i$',\n",
    "    'For each operator, the total momentum is the sum of moire reciprocal lattice $b_i$ and momentum with in the first BZ $k_i$|None': '',\n",
    "    'interaction': r'the dual-gate-screened Coulomb interaction',\n",
    "    'int_form': r'2\\pi e^2\\tanh(|q| d)/(\\epsilon |q|)',\n",
    "    'normalization_factor': r'$\\frac{1}{2 V}$',\n",
    "    'op': r'$b_{l,\\tau}(k)$',\n",
    "    'definition_of_variables': r'''$d$ : distance between dual gates  \n",
    "$\\epsilon$ : dielectric constant  \n",
    "$V(q)$ : dual-gate-screened Coulomb interaction in the momentum space''',\n",
    "    'answer':r'$\\hat{H}^{int} = \\frac{1}{2V}\\sum_{\\tau_1,\\tau_2,l_1,l_2,k_1,k_2,k_3,k_4} b_{l_1,\\tau_1}^\\dagger(k_1)b_{l_2,\\tau_2}^\\dagger(k_2)b_{l_2,\\tau_2}(k_3)b_{l_1,\\tau_1}(k_4) V(|k_1-k_4|)\\delta_{k_1+k_2,k_3+k_4}$',\n",
    "'source': {'2111.01152_SM.tex':[(100,108)]}\n",
    "}\n"
   ]
  },
  {
   "cell_type": "code",
   "execution_count": 222,
   "metadata": {},
   "outputs": [
    {
     "name": "stdout",
     "output_type": "stream",
     "text": [
      "You will be instructed to construct the interaction part of the Hamiltonian $\\hat{H}^{int}$ in the momentum space.  \n",
      "The interaction Hamiltonian is a product of four parts.\n",
      "The first part is the product of four operators with two creation and two annihilation operators following the normal order, namely, creation operators are before annihilation operators. You should follow the order of $1,2,2,1$ for the valley index $\\tau_i$ and layer index $l_i$, and $1,2,3,4$ for the momentum $k_i$. \n",
      "The second part is the constraint of total momentum conservation, namely the total momentum of all creation operators should be the same as that of all annihilation operators. [For each operator, the total momentum is the sum of moire reciprocal lattice $b_i$ and momentum with in the first BZ $k_i$]  \n",
      "The third part is the interaction form. You should use the dual-gate-screened Coulomb interaction with $V(q)=2\\pi e^2\\tanh(|q| d)/(\\epsilon |q|)$, where $q$ is the transferred total momentum between a creation operator and an annilation operator with the same valley index $\\tau_i$ and layer index $l_i$, namely $q=k_1-k_4$.  \n",
      "The fourth part is the normalization factor, you should use $\\frac{1}{2 V}$ here.\n",
      "Finally, the summation should be running over all valley index $\\tau_i$ and layer index $l_i$, and momentum $k_i$\n",
      "Return the interaction term $\\hat{H}^{int}$ in terms of $b_{l,\\tau}(k)$ and $V(q)$ (with $q$ expressed in terms of momentum $k_i$).  \n",
      "\n",
      "Use the following conventions for the symbols (You should also obey the conventions in all my previous prompts if you encounter undefined symbols. If you find it is never defined or has conflicts in the conventions, you should stop and let me know):  \n",
      "$d$ : distance between dual gates  \n",
      "$\\epsilon$ : dielectric constant  \n",
      "$V(q)$ : dual-gate-screened Coulomb interaction in the momentum space\n"
     ]
    }
   ],
   "source": [
    "print_save(generate_prompt(kwargs,prompt_dict=prompt_dict())['content'])"
   ]
  },
  {
   "cell_type": "code",
   "execution_count": 87,
   "metadata": {},
   "outputs": [],
   "source": [
    "kwargs_list.append(kwargs)"
   ]
  },
  {
   "cell_type": "markdown",
   "metadata": {},
   "source": [
    "## Wick's theorem"
   ]
  },
  {
   "cell_type": "code",
   "execution_count": 225,
   "metadata": {},
   "outputs": [],
   "source": [
    "kwargs = {\n",
    "    'task':\"Wick's theorem\",\n",
    "    'second_int_symbol':  r'$\\hat{H}^{int}$',\n",
    "    'HF_symbol': r'$\\hat{H}^{int,HF}$',\n",
    "    'expression_int': r'$\\hat{H}^{int} = \\frac{1}{2V}\\sum_{\\tau_1,\\tau_2,l_1,l_2,k_1,k_2,k_3,k_4} b_{l_1,\\tau_1}^\\dagger(k_1)b_{l_2,\\tau_2}^\\dagger(k_2)b_{l_2,\\tau_2}(k_3)b_{l_1,\\tau_1}(k_4) V(|k_1-k_4|)\\delta_{k_1+k_2,k_3+k_4}$',\n",
    "    'definition_of_variables': r'''$\\langle b_{l_1,\\tau_1}^\\dagger(k_1) b_{l_2,\\tau_2}(k_2) \\rangle$ : expectation of $b_{l_1,\\tau_1}^\\dagger(k_1) b_{l_2,\\tau_2}(k_2)$ over the many-body ground states.  \n",
    "$\\hat{H}^{int,HF}$ : Interaction term after Hartree-Fock approximation''',\n",
    "    'answer':r'$\\hat{H}^{int,HF}=\\frac{1}{2V}\\sum_{\\tau_1,\\tau_2,l_1,l_2,k_1,k_2,k_3,k_4} \\left[\\langle b_{l_1,\\tau_1}^\\dagger(k_1) b_{l_1,\\tau_1}(k_4) \\rangle b_{l_2,\\tau_2}^\\dagger(k_2) b_{l_2,\\tau_2}(k_3) + \\langle b_{l_2,\\tau_2}^\\dagger(k_2) b_{l_2,\\tau_2}(k_3) \\rangle b_{l_1,\\tau_1}^\\dagger(k_1) b_{l_1,\\tau_1}(k_4)-\\langle b_{l_1,\\tau_1}^\\dagger(k_1) b_{l_1,\\tau_1}(k_4) \\rangle \\langle b_{l_2,\\tau_2}^\\dagger(k_2) b_{l_2,\\tau_2}(k_3) \\rangle - \\langle b_{l_1,\\tau_1}^\\dagger(k_1) b_{l_2,\\tau_2}(k_3) \\rangle b_{l_2,\\tau_2}^\\dagger(k_2) b_{l_1,\\tau_1}(k_4) - \\langle b_{l_2,\\tau_2}^\\dagger(k_2) b_{l_1,\\tau_1}(k_4) \\rangle b_{l_1,\\tau_1}^\\dagger(k_1) b_{l_2,\\tau_2}(k_3) + \\langle b_{l_1,\\tau_1}^\\dagger(k_1) b_{l_2,\\tau_2}(k_3) \\rangle \\langle b_{l_2,\\tau_2}^\\dagger(k_2) b_{l_1,\\tau_1}(k_4) \\rangle\\right] V(|k_1-k_4|)\\delta_{k_1+k_2,k_3+k_4}$',\n",
    "'source': {'2111.01152_SM.tex':[(110,117)]}\n",
    "}\n"
   ]
  },
  {
   "cell_type": "code",
   "execution_count": 226,
   "metadata": {},
   "outputs": [
    {
     "name": "stdout",
     "output_type": "stream",
     "text": [
      "You will be instructed to perform a Hartree-Fock approximation to expand the interaction term, $\\hat{H}^{int}$.  \n",
      "You should use Wick's theorem to expand the four-fermion term in $\\hat{H}^{int}$ into quadratic terms. You should strictly follow the EXAMPLE below to expand using Wick's theorem, select the correct EXAMPLE by noticing the order of four term product with and without ${}^\\dagger$, and be extremely cautious about the order of the index and sign before each term.  \n",
      "You should only preserve the normal terms. Here, the normal terms mean the product of a creation operator and an annihilation operator.  \n",
      "You should recall that $\\hat{H}^{int} = \\frac{1}{2V}\\sum_{\\tau_1,\\tau_2,l_1,l_2,k_1,k_2,k_3,k_4} b_{l_1,\\tau_1}^\\dagger(k_1)b_{l_2,\\tau_2}^\\dagger(k_2)b_{l_2,\\tau_2}(k_3)b_{l_1,\\tau_1}(k_4) V(|k_1-k_4|)\\delta_{k_1+k_2,k_3+k_4}$.  \n",
      "Return the expanded interaction term after Hartree-Fock approximation as $\\hat{H}^{int,HF}$.\n",
      "\n",
      "Use the following conventions for the symbols (You should also obey the conventions in all my previous prompts if you encounter undefined symbols. If you find it is never defined or has conflicts in the conventions, you should stop and let me know):  \n",
      "$\\langle b_{l_1,\\tau_1}^\\dagger(k_1) b_{l_2,\\tau_2}(k_2) \\rangle$ : expectation of $b_{l_1,\\tau_1}^\\dagger(k_1) b_{l_2,\\tau_2}(k_2)$ over the many-body ground states.  \n",
      "$\\hat{H}^{int,HF}$ : Interaction term after Hartree-Fock approximation\n",
      "\n",
      "===  \n",
      "EXAMPLE 1:  \n",
      "For a four-fermion term $a_1^\\dagger a_2^\\dagger a_3 a_4$, using Wick's theorem and preserving only the normal terms. this is expanded as $a_1^\\dagger a_2^\\dagger a_3 a_4 = \\langle a_1^\\dagger a_4 \\rangle a_2^\\dagger a_3 + \\langle a_2^\\dagger a_3 \\rangle a_1^\\dagger a_4 - \\langle a_1^\\dagger a_4 \\rangle \\langle a_2^\\dagger a_3\\rangle - \\langle a_1^\\dagger a_3 \\rangle a_2^\\dagger a_4 - \\langle a_2^\\dagger a_4 \\rangle a_1^\\dagger a_3 + \\langle a_1^\\dagger a_3\\rangle \\langle a_2^\\dagger a_4 \\rangle$  \n",
      "Be cautious about the order of the index and sign before each term here.\n",
      "\n",
      "EXAMPLE 2:  \n",
      "For a four-fermion term $a_1^\\dagger a_2 a_3^\\dagger a_4$, using Wick's theorem and preserving only the normal terms. this is expanded as $a_1^\\dagger a_2 a_3^\\dagger a_4 = \\langle a_1^\\dagger a_2 \\rangle a_3^\\dagger a_4 + \\langle a_3^\\dagger a_4 \\rangle a_1^\\dagger a_2 - \\langle a_1^\\dagger a_2 \\rangle \\langle a_3^\\dagger a_4\\rangle - \\langle a_1^\\dagger a_4 \\rangle a_3^\\dagger a_2 - \\langle a_3^\\dagger a_2 \\rangle a_1^\\dagger a_4 + \\langle a_1^\\dagger a_4\\rangle \\langle a_3^\\dagger a_2 \\rangle$  \n",
      "Be cautious about the order of the index and sign before each term here.\n"
     ]
    }
   ],
   "source": [
    "print_save(generate_prompt(kwargs,prompt_dict=prompt_dict())['content'])"
   ]
  },
  {
   "cell_type": "code",
   "execution_count": 90,
   "metadata": {},
   "outputs": [],
   "source": [
    "kwargs_list.append(kwargs)"
   ]
  },
  {
   "cell_type": "markdown",
   "metadata": {},
   "source": [
    "## Extract quadratic term"
   ]
  },
  {
   "cell_type": "code",
   "execution_count": 229,
   "metadata": {},
   "outputs": [],
   "source": [
    "kwargs = {\n",
    "    'task':\"Extract quadratic term\",\n",
    "    'HF_symbol': r'$\\hat{H}^{int,HF}$',\n",
    "    'bilinear_op': r'$b^\\dagger b$',\n",
    "    'HF_2_symbol': r'$\\hat{H}^{int,HF,2}$',\n",
    "    'expression_HF': r'$\\hat{H}^{int,HF}=\\frac{1}{2V}\\sum_{\\tau_1,\\tau_2,l_1,l_2,k_1,k_2,k_3,k_4} \\left[\\langle b_{l_1,\\tau_1}^\\dagger(k_1) b_{l_1,\\tau_1}(k_4) \\rangle b_{l_2,\\tau_2}^\\dagger(k_2) b_{l_2,\\tau_2}(k_3) + \\langle b_{l_2,\\tau_2}^\\dagger(k_2) b_{l_2,\\tau_2}(k_3) \\rangle b_{l_1,\\tau_1}^\\dagger(k_1) b_{l_1,\\tau_1}(k_4)-\\langle b_{l_1,\\tau_1}^\\dagger(k_1) b_{l_1,\\tau_1}(k_4) \\rangle \\langle b_{l_2,\\tau_2}^\\dagger(k_2) b_{l_2,\\tau_2}(k_3) \\rangle - \\langle b_{l_1,\\tau_1}^\\dagger(k_1) b_{l_2,\\tau_2}(k_3) \\rangle b_{l_2,\\tau_2}^\\dagger(k_2) b_{l_1,\\tau_1}(k_4) - \\langle b_{l_2,\\tau_2}^\\dagger(k_2) b_{l_1,\\tau_1}(k_4) \\rangle b_{l_1,\\tau_1}^\\dagger(k_1) b_{l_2,\\tau_2}(k_3) + \\langle b_{l_1,\\tau_1}^\\dagger(k_1) b_{l_2,\\tau_2}(k_3) \\rangle \\langle b_{l_2,\\tau_2}^\\dagger(k_2) b_{l_1,\\tau_1}(k_4) \\rangle\\right] V(|k_1-k_4|)\\delta_{k_1+k_2,k_3+k_4}$',\n",
    "    'definition_of_variables': r'''$\\hat{H}^{int,HF,2}$ : the quadratic terms in $\\hat{H}^{int,HF}$''',\n",
    "    'answer':r'$\\hat{H}^{int,HF,2}=\\frac{1}{2V}\\sum_{\\tau_1,\\tau_2,l_1,l_2,k_1,k_2,k_3,k_4} \\left[\\langle b_{l_1,\\tau_1}^\\dagger(k_1) b_{l_1,\\tau_1}(k_4) \\rangle b_{l_2,\\tau_2}^\\dagger(k_2) b_{l_2,\\tau_2}(k_3) + \\langle b_{l_2,\\tau_2}^\\dagger(k_2) b_{l_2,\\tau_2}(k_3) \\rangle b_{l_1,\\tau_1}^\\dagger(k_1) b_{l_1,\\tau_1}(k_4) - \\langle b_{l_1,\\tau_1}^\\dagger(k_1) b_{l_2,\\tau_2}(k_3) \\rangle b_{l_2,\\tau_2}^\\dagger(k_2) b_{l_1,\\tau_1}(k_4) - \\langle b_{l_2,\\tau_2}^\\dagger(k_2) b_{l_1,\\tau_1}(k_4) \\rangle b_{l_1,\\tau_1}^\\dagger(k_1) b_{l_2,\\tau_2}(k_3)\\right] V(|k_1-k_4|)\\delta_{k_1+k_2,k_3+k_4}$',\n",
    "'source': {'2111.01152_SM.tex':[(110,117)]}\n",
    "}\n"
   ]
  },
  {
   "cell_type": "code",
   "execution_count": 230,
   "metadata": {},
   "outputs": [
    {
     "name": "stdout",
     "output_type": "stream",
     "text": [
      "You will be instructed to extract the quadratic terms in the $\\hat{H}^{int,HF}$.  \n",
      "The quadratic terms mean terms that are proportional to $b^\\dagger b$, which excludes terms that are solely expectations or products of expectations.  \n",
      "You should only preserve the quadratic terms in $\\hat{H}^{int,HF}$, denoted as $\\hat{H}^{int,HF,2}$.  \n",
      "You should recall that $\\hat{H}^{int,HF}=\\frac{1}{2V}\\sum_{\\tau_1,\\tau_2,l_1,l_2,k_1,k_2,k_3,k_4} \\left[\\langle b_{l_1,\\tau_1}^\\dagger(k_1) b_{l_1,\\tau_1}(k_4) \\rangle b_{l_2,\\tau_2}^\\dagger(k_2) b_{l_2,\\tau_2}(k_3) + \\langle b_{l_2,\\tau_2}^\\dagger(k_2) b_{l_2,\\tau_2}(k_3) \\rangle b_{l_1,\\tau_1}^\\dagger(k_1) b_{l_1,\\tau_1}(k_4)-\\langle b_{l_1,\\tau_1}^\\dagger(k_1) b_{l_1,\\tau_1}(k_4) \\rangle \\langle b_{l_2,\\tau_2}^\\dagger(k_2) b_{l_2,\\tau_2}(k_3) \\rangle - \\langle b_{l_1,\\tau_1}^\\dagger(k_1) b_{l_2,\\tau_2}(k_3) \\rangle b_{l_2,\\tau_2}^\\dagger(k_2) b_{l_1,\\tau_1}(k_4) - \\langle b_{l_2,\\tau_2}^\\dagger(k_2) b_{l_1,\\tau_1}(k_4) \\rangle b_{l_1,\\tau_1}^\\dagger(k_1) b_{l_2,\\tau_2}(k_3) + \\langle b_{l_1,\\tau_1}^\\dagger(k_1) b_{l_2,\\tau_2}(k_3) \\rangle \\langle b_{l_2,\\tau_2}^\\dagger(k_2) b_{l_1,\\tau_1}(k_4) \\rangle\\right] V(|k_1-k_4|)\\delta_{k_1+k_2,k_3+k_4}$.  \n",
      "Return $\\hat{H}^{int,HF,2}$.  \n",
      "\n",
      "Use the following conventions for the symbols (You should also obey the conventions in all my previous prompts if you encounter undefined symbols. If you find it is never defined or has conflicts in the conventions, you should stop and let me know):  \n",
      "$\\hat{H}^{int,HF,2}$ : the quadratic terms in $\\hat{H}^{int,HF}$\n"
     ]
    }
   ],
   "source": [
    "print_save(generate_prompt(kwargs,prompt_dict=prompt_dict())['content'])"
   ]
  },
  {
   "cell_type": "code",
   "execution_count": 93,
   "metadata": {},
   "outputs": [],
   "source": [
    "kwargs_list.append(kwargs)"
   ]
  },
  {
   "cell_type": "markdown",
   "metadata": {},
   "source": [
    "## Swap the index to combine Hartree and Fock terms"
   ]
  },
  {
   "cell_type": "code",
   "execution_count": 233,
   "metadata": {},
   "outputs": [],
   "source": [
    "kwargs = {\n",
    "    'task':\"Swap the index to combine Hartree and Fock terms\",\n",
    "    'HF_2_symbol': r'$\\hat{H}^{int,HF,2}$',\n",
    "    'expval': r'$\\langle b_{\\tau_1,l_1}^\\dagger(k_1) b_{\\tau_1,l_1}(k_4) \\rangle$',\n",
    "    'expression_Hartree_1':r'$\\langle b_{\\tau_1,l_1}^\\dagger(k_1) b_{\\tau_1,l_1}(k_4) \\rangle b_{\\tau_2,l_2}^\\dagger(k_2) b_{\\tau_2,l_2}(k_3)$',\n",
    "    'expression_Hartree_2':r'$\\langle b_{\\tau_2,l_2}^\\dagger(k_2) b_{\\tau_2,l_2}(k_3) \\rangle b_{\\tau_1,l_1}^\\dagger(k_1) b_{\\tau_1,l_1}(k_4)$',\n",
    "    'expression_HF_2':r'$\\hat{H}^{int,HF,2}=\\frac{1}{2V}\\sum_{\\tau_1,\\tau_2,l_1,l_2,k_1,k_2,k_3,k_4} \\left[\\langle b_{l_1,\\tau_1}^\\dagger(k_1) b_{l_1,\\tau_1}(k_4) \\rangle b_{l_2,\\tau_2}^\\dagger(k_2) b_{l_2,\\tau_2}(k_3) + \\langle b_{l_2,\\tau_2}^\\dagger(k_2) b_{l_2,\\tau_2}(k_3) \\rangle b_{l_1,\\tau_1}^\\dagger(k_1) b_{l_1,\\tau_1}(k_4) - \\langle b_{l_1,\\tau_1}^\\dagger(k_1) b_{l_2,\\tau_2}(k_3) \\rangle b_{l_2,\\tau_2}^\\dagger(k_2) b_{l_1,\\tau_1}(k_4) - \\langle b_{l_2,\\tau_2}^\\dagger(k_2) b_{l_1,\\tau_1}(k_4) \\rangle b_{l_1,\\tau_1}^\\dagger(k_1) b_{l_2,\\tau_2}(k_3)\\right] V(|k_1-k_4|)\\delta_{k_1+k_2,k_3+k_4}$',\n",
    "    'answer':r'$\\hat{H}^{int,HF,2}=\\frac{1}{V}\\sum_{\\tau_1,\\tau_2,l_1,l_2,k_1,k_2,k_3,k_4} \\left[\\langle b_{l_1,\\tau_1}^\\dagger(k_1) b_{l_1,\\tau_1}(k_4) \\rangle b_{l_2,\\tau_2}^\\dagger(k_2) b_{l_2,\\tau_2}(k_3) - \\langle b_{l_1,\\tau_1}^\\dagger(k_1) b_{l_2,\\tau_2}(k_3) \\rangle b_{l_2,\\tau_2}^\\dagger(k_2) b_{l_1,\\tau_1}(k_4)\\right] V(|k_1-k_4|)\\delta_{k_1+k_2,k_3+k_4}$',\n",
    "'source': {'2111.01152_SM.tex':[(110,117)]}\n",
    "}\n"
   ]
  },
  {
   "cell_type": "code",
   "execution_count": 234,
   "metadata": {},
   "outputs": [
    {
     "name": "stdout",
     "output_type": "stream",
     "text": [
      "You will be instructed to simplify the quadratic term $\\hat{H}^{int,HF,2}$ through relabeling the index to combine the two Hartree/Fock term into one Hartree/Fock term.  \n",
      "The logic is that the expected value ($\\langle b_{\\tau_1,l_1}^\\dagger(k_1) b_{\\tau_1,l_1}(k_4) \\rangle$) in the first Hartree term ($\\langle b_{\\tau_1,l_1}^\\dagger(k_1) b_{\\tau_1,l_1}(k_4) \\rangle b_{\\tau_2,l_2}^\\dagger(k_2) b_{\\tau_2,l_2}(k_3)$) has the same form as the quadratic operators in the second Hartree term ($\\langle b_{\\tau_2,l_2}^\\dagger(k_2) b_{\\tau_2,l_2}(k_3) \\rangle b_{\\tau_1,l_1}^\\dagger(k_1) b_{\\tau_1,l_1}(k_4)$), and vice versa. The same applies to the Fock term.  \n",
      "This means, if you relabel the index by swapping the index in the \"expected value\" and \"quadratic operators\" in the second Hartree term, you can make the second Hartree term look identical to the first Hartree term, as long as $V(q)=V(-q)$, which is naturally satisfied in Coulomb interaction. You should follow the EXAMPLE below to simplify it through relabeling the index.  \n",
      "You should perform this trick of \"relabeling the index\" for both two Hartree terms and two Fock terms to reduce them to one Hartree term, and one Fock term.  \n",
      "You should recall that $\\hat{H}^{int,HF,2}=\\frac{1}{2V}\\sum_{\\tau_1,\\tau_2,l_1,l_2,k_1,k_2,k_3,k_4} \\left[\\langle b_{l_1,\\tau_1}^\\dagger(k_1) b_{l_1,\\tau_1}(k_4) \\rangle b_{l_2,\\tau_2}^\\dagger(k_2) b_{l_2,\\tau_2}(k_3) + \\langle b_{l_2,\\tau_2}^\\dagger(k_2) b_{l_2,\\tau_2}(k_3) \\rangle b_{l_1,\\tau_1}^\\dagger(k_1) b_{l_1,\\tau_1}(k_4) - \\langle b_{l_1,\\tau_1}^\\dagger(k_1) b_{l_2,\\tau_2}(k_3) \\rangle b_{l_2,\\tau_2}^\\dagger(k_2) b_{l_1,\\tau_1}(k_4) - \\langle b_{l_2,\\tau_2}^\\dagger(k_2) b_{l_1,\\tau_1}(k_4) \\rangle b_{l_1,\\tau_1}^\\dagger(k_1) b_{l_2,\\tau_2}(k_3)\\right] V(|k_1-k_4|)\\delta_{k_1+k_2,k_3+k_4}$.  \n",
      "Return the simplied $\\hat{H}^{int,HF,2}$ which reduces from four terms (two Hartree and two Fock terms) to only two terms (one Hartree and one Fock term)\n",
      "\n",
      "===  \n",
      "EXAMPLE:\n",
      "Given a Hamiltonian $\\hat{H}=\\sum_{k_1,k_2, k_3, k_4,\\sigma_1,\\sigma_2,\\sigma_3,\\sigma_4} V(k_1-k_4) (\\langle c_{\\sigma_1}^\\dagger(k_1) c_{\\sigma_4}(k_4) \\rangle c_{\\sigma_2}^\\dagger(k_2) c_{\\sigma_3}(k_3) + \\langle c_{\\sigma_2}^\\dagger(k_2) c_{\\sigma_3}(k_3) \\rangle c_{\\sigma_1}^\\dagger(k_1) c_{\\sigma_4}(k_4) ) \\delta_{k_1+k_2,k_3+k_4}$, where $V(q)=V(-q)$.  \n",
      "In the second term, we relabel the index to swap the index in expected value and the index in quadratic operators, namely, $\\sigma_1 \\leftrightarrow \\sigma_2$, $\\sigma_3 \\leftrightarrow \\sigma_4$, $k_1 \\leftrightarrow k_2$, $k_3 \\leftrightarrow k_4$. After the replacement, the second term becomes $\\sum_{k_1,k_2, k_3, k_4,\\sigma_1,\\sigma_2,\\sigma_3,\\sigma_4} V(k_2-k_3) \\langle c_{\\sigma_1}^\\dagger(k_1) c_{\\sigma_4}(k_4) \\rangle c_{\\sigma_2}^\\dagger(k_2) c_{\\sigma_3}(k_3) \\delta_{k_4+k_3,k_2+k_1}$.  \n",
      "Note that the Kronecker dirac function $\\delta_{k_4+k_3,k_2+k_1}$ implies $k_1+k_2=k_3+k_4$, i.e., $k_2-k_3=k_4-k_1$. Thus, the second term simplifies to $\\sum_{k_1,k_2, k_3, k_4,\\sigma_1,\\sigma_2,\\sigma_3,\\sigma_4} V(k_4-k_1) \\langle c_{\\sigma_1}^\\dagger(k_1) c_{\\sigma_4}(k_4) \\rangle c_{\\sigma_2}^\\dagger(k_2) c_{\\sigma_3}(k_3) \\delta_{k_4+k_3,k_2+k_1}$.\n",
      "Because $V(q)=V(-q)$, meaning $V(k_4-k_1)=V(k_1-k_4)$, the second term further simplifies to $\\sum_{k_1,k_2, k_3, k_4,\\sigma_1,\\sigma_2,\\sigma_3,\\sigma_4} V(k_1-k_4) \\langle c_{\\sigma_1}^\\dagger(k_1) c_{\\sigma_4}(k_4) \\rangle c_{\\sigma_2}^\\dagger(k_2) c_{\\sigma_3}(k_3) \\delta_{k_4+k_3,k_2+k_1}$. Note that this form of second term after relabeling is identical to the first term.  \n",
      "Finally, we have the simplified Hamiltonian as  $\\hat{H}=2\\sum_{k_1,k_2, k_3, k_4,\\sigma_1,\\sigma_2,\\sigma_3,\\sigma_4} V(k_1-k_4) \\langle c_{\\sigma_1}^\\dagger(k_1) c_{\\sigma_4}(k_4) \\rangle c_{\\sigma_2}^\\dagger(k_2) c_{\\sigma_3}(k_3) \\delta_{k_4+k_3,k_2+k_1}$.\n"
     ]
    }
   ],
   "source": [
    "print_save(generate_prompt(kwargs,prompt_dict=prompt_dict())['content'])"
   ]
  },
  {
   "cell_type": "code",
   "execution_count": 96,
   "metadata": {},
   "outputs": [],
   "source": [
    "kwargs_list.append(kwargs)"
   ]
  },
  {
   "cell_type": "code",
   "execution_count": 97,
   "metadata": {},
   "outputs": [
    {
     "data": {
      "text/plain": [
       "13"
      ]
     },
     "execution_count": 97,
     "metadata": {},
     "output_type": "execute_result"
    }
   ],
   "source": [
    "len(kwargs_list)"
   ]
  },
  {
   "cell_type": "code",
   "execution_count": 98,
   "metadata": {},
   "outputs": [
    {
     "ename": "SyntaxError",
     "evalue": "invalid syntax (3659366440.py, line 1)",
     "output_type": "error",
     "traceback": [
      "\u001b[0;36m  File \u001b[0;32m\"/tmp/ipykernel_11966/3659366440.py\"\u001b[0;36m, line \u001b[0;32m1\u001b[0m\n\u001b[0;31m    --\u001b[0m\n\u001b[0m      ^\u001b[0m\n\u001b[0;31mSyntaxError\u001b[0m\u001b[0;31m:\u001b[0m invalid syntax\n"
     ]
    }
   ],
   "source": [
    "--"
   ]
  },
  {
   "cell_type": "markdown",
   "metadata": {},
   "source": [
    "## Save jsonl"
   ]
  },
  {
   "cell_type": "code",
   "execution_count": 99,
   "metadata": {},
   "outputs": [],
   "source": [
    "with open('2111.01152.jsonl', 'w') as f:\n",
    "    for dict_obj in kwargs_list:\n",
    "        f.write(json.dumps(dict_obj) + '\\n')"
   ]
  },
  {
   "cell_type": "markdown",
   "metadata": {},
   "source": [
    "# Prompt fill place holder"
   ]
  },
  {
   "cell_type": "code",
   "execution_count": 7,
   "metadata": {},
   "outputs": [],
   "source": [
    "with open('2111.01152.jsonl','r') as f:\n",
    "    kwargs_jsonl= [json.loads(line) for line in f]"
   ]
  },
  {
   "cell_type": "code",
   "execution_count": 19,
   "metadata": {},
   "outputs": [],
   "source": [
    "def load_excerpt(sources):\n",
    "    excerpt=''\n",
    "    for tex, lines in sources.items():\n",
    "        with open(tex,'r') as f:\n",
    "            f_list=list(f)\n",
    "            for line in lines:\n",
    "                excerpt=excerpt+''.join(f_list[line[0]:line[1]])\n",
    "    return excerpt"
   ]
  },
  {
   "cell_type": "code",
   "execution_count": 9,
   "metadata": {},
   "outputs": [],
   "source": [
    "prompt_system='''I will provide you a Excerpt of physics paper, and a Template. You will need to fill the placeholders in the template using the correct information from the excerpt.\n",
    "Here are conventions: \n",
    "{..} means a placeholder which you need to fill by extracting information from the excerpt.\n",
    "{A|B} means you need to make a choice between A and B\n",
    "[..] means optional sentence. You should decide whether to use it depending on the excerpt.\n",
    "{{..}} DOES NOT mean a placeholder. You should not change the content inside double curly braces {{..}}.\n",
    "`You should recall that {expression_second_nonint}.` : this sentence should be kept as is.\n",
    "\n",
    "\n",
    "Finally, if you cannot figure out the placeholder, you should leave it as is.'''"
   ]
  },
  {
   "cell_type": "code",
   "execution_count": 11,
   "metadata": {},
   "outputs": [],
   "source": [
    "def drop_text_after(string):\n",
    "    string_new=''\n",
    "    for line in string.split('\\n'):\n",
    "        if '===' in line:\n",
    "            break\n",
    "        else:\n",
    "            if 'You should recall that' not in line:\n",
    "                string_new='\\n'.join([string_new,line])\n",
    "    return string_new[1:]\n"
   ]
  },
  {
   "cell_type": "code",
   "execution_count": 25,
   "metadata": {},
   "outputs": [],
   "source": [
    "def extractor(descriptor,message=False):\n",
    "    sys_msg=[{'role': 'system', 'content': prompt_system}]\n",
    "    question_prompt='\\nTemplate:\\n {template} \\n\\n Excerpt:\\n {excerpt}'.format(template=drop_text_after(prompt_dict()[descriptor['task']]), excerpt=load_excerpt(descriptor['source']))\n",
    "    user_msg=[{'role':'user','content':question_prompt}]\n",
    "    messages = sys_msg + user_msg\n",
    "    return user_msg\n",
    "    if message:\n",
    "        return user_msg[0]['content']\n",
    "    rs= openai.ChatCompletion.create(messages=messages, **model_params)\n",
    "    response=rs['choices'][0]['message'].content\n",
    "    return response\n"
   ]
  },
  {
   "cell_type": "markdown",
   "metadata": {},
   "source": [
    "## GPT4"
   ]
  },
  {
   "cell_type": "code",
   "execution_count": null,
   "metadata": {},
   "outputs": [],
   "source": [
    "response=(extractor(kwargs_jsonl[0]))"
   ]
  },
  {
   "cell_type": "code",
   "execution_count": 92,
   "metadata": {},
   "outputs": [
    {
     "name": "stdout",
     "output_type": "stream",
     "text": [
      "You will be instructed to describe the kinetic term of Hamiltonian in a system with $\\pm K$ valleys in the real space in the second-quantized form.   \n",
      "The degrees of freedom of the system are: the bottom layer ($\\mathfrak{b}$) and top layer ($\\mathfrak{t}$), and $\\pm K$ valleys.  \n",
      "Express the Kinetic Hamiltonian $H_{\\tau}$ using $\\bm{k}$ and $\\bm{\\kappa}$ which are only on the diagonal terms, and arrange the basis in the order of the bottom layer ($\\mathfrak{b}$) and top layer ($\\mathfrak{t}$). Note that the sublattice degrees of freedom is suppressed for now and will be stated later.\n",
      "\n",
      "Use the following conventions for the symbols:  \n",
      "$\\tau=\\pm 1$ represents $\\pm K$ valleys, $\\bm{\\kappa}=\\frac{4\\pi}{3a_M}\\left(1,0\\right)$ is at a corner of the moiré Brillouin zone, the off diagonal terms describe the interlayer tunneling $\\Delta_{\\text{T},\\tau}$, and the diagonal terms describe the momentum-shifted kinetic energy with the effective mass $(m_{\\mathfrak{b}},m_{\\mathfrak{t}})=(0.65,0.35)m_e$ ($m_e$ is the rest electron mass), plus the intralayer potential $\\Delta_{\\mathfrak{b}/\\mathfrak{t}}$, and a band offset $V_{z\\mathfrak{t}}$.\n"
     ]
    }
   ],
   "source": [
    "print(response)"
   ]
  },
  {
   "cell_type": "code",
   "execution_count": 114,
   "metadata": {},
   "outputs": [],
   "source": [
    "response=(extractor(kwargs[1]))"
   ]
  },
  {
   "cell_type": "code",
   "execution_count": 115,
   "metadata": {},
   "outputs": [
    {
     "name": "stdout",
     "output_type": "stream",
     "text": [
      "You will be instructed to construct each term, namely $H_{\\tau}$.  \n",
      "For all energy dispersions, $H_{\\tau}$, it characterizes the parabolic dispersion for electrons.   \n",
      "In addition, an shift of $\\tau \\bm{\\kappa}$ in the momentum $\\bm{k}$ for $-\\frac{\\hbar^2\\left(\\bm{k}-\\tau \\bm{\\kappa}\\right)^2}{2m_\\mathfrak{t}}$, respectively.  \n",
      "You should follow the EXAMPLE below to obtain correct energy dispersion, select the correct EXAMPLE by noticing the type of dispersion.  \n",
      "Finally, in the real space, the momentum $\\bm{k}=-i \\partial_{\\bm{r}}$. You should keep the form of $\\bm{k}$ in the Hamiltonian for short notations but should remember $\\bm{k}$ is an operator.  \n",
      "Return the expression for $H_{\\tau}$ in the Kinetic Hamiltonian, and substitute it into the Kinetic Hamiltonian $\\hat{\\mathcal{H}}_0$.  \n",
      "\n",
      "Use the following conventions for the symbols (You should also obey the conventions in all my previous prompts if you encounter undefined symbols. If you find it is never defined or has conflicts in the conventions, you should stop and let me know):  \n",
      "$\\tau=\\pm 1$ represents $\\pm K$ valleys, $\\bm{\\kappa}=\\frac{4\\pi}{3a_M}\\left(1,0\\right)$ is at a corner of the moir\\'e Brillouin zone, the effective mass $(m_{\\mathfrak{b}},m_{\\mathfrak{t}})=(0.65,0.35)m_e$ ($m_e$ is the rest electron mass), $\\Delta_{\\mathfrak{b}/\\mathfrak{t}}$ is the intralayer potential, and $V_{z\\mathfrak{t}}$ is a band offset.\n"
     ]
    }
   ],
   "source": [
    "print(response)"
   ]
  },
  {
   "cell_type": "code",
   "execution_count": 158,
   "metadata": {},
   "outputs": [],
   "source": [
    "response=(extractor(kwargs_jsonl[2]))"
   ]
  },
  {
   "cell_type": "code",
   "execution_count": 159,
   "metadata": {},
   "outputs": [
    {
     "name": "stdout",
     "output_type": "stream",
     "text": [
      "You will be instructed to describe the potential term of Hamiltonian $H_{\\tau}$ in the momentum space in the second-quantized form.  \n",
      "The potential Hamiltonian has the same degrees of freedom as the kinetic Hamiltonian. The diagonal terms are $-\\frac{\\hbar^2\\bm{k}^2}{2m_\\mathfrak{b}}+\\Delta_{\\mathfrak{b}}(\\bm{r})$ and $-\\frac{\\hbar^2\\left(\\bm{k}-\\tau \\bm{\\kappa}\\right)^2}{2m_\\mathfrak{t}}+ \\Delta_\\mathfrak{t}(\\bm{r})+V_{z\\mathfrak{t}}$.  \n",
      "The off-diagonal terms are the coupling between the bottom layer ($\\mathfrak{b}$) and top layer ($\\mathfrak{t}$), $\\Delta_{\\text{T},\\tau}(\\bm{r})$ and $\\Delta_{\\text{T},\\tau}^\\dag(\\bm{r})$, which should be kept hermitian.  \n",
      "All others terms are zero.\n",
      "Express the potential Hamiltonian $H_{\\tau}$ using $-\\frac{\\hbar^2\\bm{k}^2}{2m_\\mathfrak{b}}+\\Delta_{\\mathfrak{b}}(\\bm{r})$ and $-\\frac{\\hbar^2\\left(\\bm{k}-\\tau \\bm{\\kappa}\\right)^2}{2m_\\mathfrak{t}}+ \\Delta_\\mathfrak{t}(\\bm{r})+V_{z\\mathfrak{t}}$ and $\\Delta_{\\text{T},\\tau}(\\bm{r})$ and $\\Delta_{\\text{T},\\tau}^\\dag(\\bm{r})$.  \n",
      "\n",
      "Use the following conventions for the symbols (You should also obey the conventions in all my previous prompts if you encounter undefined symbols. If you find it is never defined or has conflicts in the conventions, you should stop and let me know):  \n",
      "$\\tau=\\pm 1$ represents $\\pm K$ valleys, $\\bm{\\kappa}=\\frac{4\\pi}{3a_M}\\left(1,0\\right)$ is at a corner of the moir\\'e Brillouin zone, the $2\\times 2$ Hamiltonian hybridizes the bottom layer ($\\mathfrak{b}$) and top layer ($\\mathfrak{t}$), the off diagonal terms describe the interlayer tunneling $\\Delta_{\\text{T},\\tau}$, and the diagonal terms describe the momentum-shifted kinetic energy with the effective mass $(m_{\\mathfrak{b}},m_{\\mathfrak{t}})=(0.65,0.35)m_e$ ($m_e$ is the rest electron mass), plus the intralayer potential $\\Delta_{\\mathfrak{b}/\\mathfrak{t}}$, and a band offset $V_{z\\mathfrak{t}}$.\n"
     ]
    }
   ],
   "source": [
    "print(response)"
   ]
  },
  {
   "cell_type": "code",
   "execution_count": 178,
   "metadata": {},
   "outputs": [],
   "source": [
    "response=(extractor(kwargs_jsonl[3]))"
   ]
  },
  {
   "cell_type": "code",
   "execution_count": 179,
   "metadata": {},
   "outputs": [
    {
     "name": "stdout",
     "output_type": "stream",
     "text": [
      "You will be instructed to construct each term $H_{\\tau}$, namely, $-\\frac{\\hbar^2\\bm{k}^2}{2m_\\mathfrak{b}}+\\Delta_{\\mathfrak{b}}(\\bm{r})$, $\\Delta_{\\text{T},\\tau}(\\bm{r})$, $\\Delta_{\\text{T},\\tau}^\\dag(\\bm{r})$, and $-\\frac{\\hbar^2\\left(\\bm{k}-\\tau \\bm{\\kappa}\\right)^2}{2m_\\mathfrak{t}}+ \\Delta_\\mathfrak{t}(\\bm{r})+V_{z\\mathfrak{t}}$.  \n",
      "The expression for diagonal terms are: $-\\frac{\\hbar^2\\bm{k}^2}{2m_\\mathfrak{b}}+\\Delta_{\\mathfrak{b}}(\\bm{r})$ and $-\\frac{\\hbar^2\\left(\\bm{k}-\\tau \\bm{\\kappa}\\right)^2}{2m_\\mathfrak{t}}+ \\Delta_\\mathfrak{t}(\\bm{r})+V_{z\\mathfrak{t}}$.  \n",
      "The expression for off-diagonal terms are: $\\Delta_{\\text{T},\\tau}(\\bm{r})$ and $\\Delta_{\\text{T},\\tau}^\\dag(\\bm{r})$.  \n",
      "Return the expressions for $-\\frac{\\hbar^2\\bm{k}^2}{2m_\\mathfrak{b}}+\\Delta_{\\mathfrak{b}}(\\bm{r})$, $\\Delta_{\\text{T},\\tau}(\\bm{r})$, $\\Delta_{\\text{T},\\tau}^\\dag(\\bm{r})$, and $-\\frac{\\hbar^2\\left(\\bm{k}-\\tau \\bm{\\kappa}\\right)^2}{2m_\\mathfrak{t}}+ \\Delta_\\mathfrak{t}(\\bm{r})+V_{z\\mathfrak{t}}$, and substitute it into the potential Hamiltonian $H_{\\tau}$.  \n",
      "\n",
      "Use the following conventions for the symbols (You should also obey the conventions in all my previous prompts if you encounter undefined symbols. If you find it is never defined or have conflicts in the conventions, you should stop and let me know):  \n",
      "$\\tau=\\pm 1$ represents $\\pm K$ valleys, $\\bm{\\kappa}=\\frac{4\\pi}{3a_M}\\left(1,0\\right)$ is at a corner of the moiré Brillouin zone, the effective mass $(m_{\\mathfrak{b}},m_{\\mathfrak{t}})=(0.65,0.35)m_e$ ($m_e$ is the rest electron mass), $\\Delta_{\\mathfrak{b}}(\\bm{r})=2V_{\\mathfrak{b}}\\sum_{j=1,3,5} \\cos(\\bm{g}_j \\cdot \\bm{r}+\\psi_{\\mathfrak{b}})$, $\\bm{g}_j=\\frac{4\\pi}{\\sqrt{3} a_M} \\left(- \\sin \\frac{\\pi (j-1)}{3}, \\cos \\frac{\\pi (j-1)}{3}\\right)$, $\\Delta_{\\text{T},\\tau}(\\bm{r})=\\tau w \\left(1+\\omega^{\\tau} e^{i\\tau\\bm{g}_2\\cdot\\bm{r}}+\\omega^{2\\tau} e^{i\\tau\\bm{g}_3\\cdot\\bm{r}} \\right)$, and $\\omega=e^{i\\frac{2\\pi}{3}}$.\n"
     ]
    }
   ],
   "source": [
    "print(response)"
   ]
  },
  {
   "cell_type": "code",
   "execution_count": 121,
   "metadata": {},
   "outputs": [],
   "source": [
    "response=(extractor(kwargs[4]))"
   ]
  },
  {
   "cell_type": "code",
   "execution_count": 122,
   "metadata": {},
   "outputs": [
    {
     "name": "stdout",
     "output_type": "stream",
     "text": [
      "You will be instructed to construct the second quantized form of the total noninteracting Hamiltonian in the real space.  \n",
      "The noninteracting Hamiltonian in the real space $\\hat{\\mathcal{H}}_0$ is the sum of Kinetic Hamiltonian $-\\frac{\\hbar^2\\bm{k}^2}{2m_\\mathfrak{b}}$ and Potential Hamiltonian $\\Delta_{\\mathfrak{b},\\tau}(\\bm{r})$.  \n",
      "To construct the second quantized form of a Hamiltonian. You should construct the creation and annihilation operators from the basis explicitly. You should follow the EXAMPLE below to convert a Hamiltonian from the single-particle form to second-quantized form.  \n",
      "Finally by \"total\", it means you need to take a summation over the real space position $r$.   \n",
      "Return the second quantized form of the total noninteracting Hamiltonian $\\hat{\\mathcal{H}}_0$  \n",
      "\n",
      "Use the following conventions for the symbols (You should also obey the conventions in all my previous prompts if you encounter undefined symbols. If you find it is never defined or has conflicts in the conventions, you should stop and let me know):  \n",
      "$\\tau=\\pm $ represents $\\pm K$ valleys, $\\hbar \\bm{k} = -i \\hbar \\partial_{\\bm{r}}$ is the momentum operator, $\\bm{\\kappa}=\\frac{4\\pi}{3a_M}\\left(1,0\\right)$  is at a corner of the moir\\'e Brillouin zone, and $a_M$ is the moir\\'e lattice constant. Note that the spin index of the fermion operators $\\Psi_{\\tau}$ is both layer and valley dependent.\n"
     ]
    }
   ],
   "source": [
    "print(response)"
   ]
  },
  {
   "cell_type": "code",
   "execution_count": 186,
   "metadata": {},
   "outputs": [],
   "source": [
    "response=(extractor(kwargs_jsonl[5]))"
   ]
  },
  {
   "cell_type": "code",
   "execution_count": 189,
   "metadata": {},
   "outputs": [
    {
     "name": "stdout",
     "output_type": "stream",
     "text": [
      "You will be instructed to expand the second-quantized form Hamiltonian $\\hat{\\mathcal{H}}_0$ using $H_{\\tau}$ and $\\Psi_{\\tau}$. You should follow the EXAMPLE below to expand the Hamiltonian.  \n",
      "You should use any previous knowledge to simplify it. For example, if any term of $H_{\\tau}$ is zero, you should remove it from the summation.\n",
      "Return the expanded form of $\\hat{\\mathcal{H}}_0$ after simplication.  \n",
      "\n",
      "Use the following conventions for the symbols (You should also obey the conventions in all my previous prompts if you encounter undefined symbols. If you find it is never defined or has conflicts in the conventions, you should stop and let me know):  \n",
      "$\\hat{\\mathcal{H}}_0$ is the second-quantized form Hamiltonian, $H_{\\tau}$ is the matrix element, and $\\Psi_{\\tau}$ is the basis. $\\tau=\\pm $ represents $\\pm K$ valleys, $\\hbar \\bm{k} = -i \\hbar \\partial_{\\bm{r}}$ is the momentum operator, $\\bm{\\kappa}=\\frac{4\\pi}{3a_M}\\left(1,0\\right)$  is at a corner of the moir\\'e Brillouin zone, and $a_M$ is the moir\\'e lattice constant. The spin index of the fermion operators $\\Psi_{\\tau}$ is both layer and valley dependent.\n"
     ]
    }
   ],
   "source": [
    "print(response)"
   ]
  },
  {
   "cell_type": "code",
   "execution_count": 199,
   "metadata": {},
   "outputs": [],
   "source": [
    "response=(extractor(kwargs_jsonl[6]))"
   ]
  },
  {
   "cell_type": "code",
   "execution_count": 200,
   "metadata": {},
   "outputs": [
    {
     "name": "stdout",
     "output_type": "stream",
     "text": [
      "You will be instructed to convert the total noninteracting Hamiltonian in the second quantized form from the basis in real space to the basis by momentum space.  \n",
      "To do that, you should apply the Fourier transformation to $\\Psi_{\\tau}^\\dagger(\\bm{r})$ in the real space to $c_{\\bm{k}_{\\alpha},l_{\\alpha},\\tau}^\\dagger$ in the momentum space, which is defined as $\\hat{\\mathcal{H}}_0=\\sum_{\\bm{k}_{\\alpha},\\bm{k}_{\\beta}}\\sum_{l_{\\alpha},l_{\\beta}}\\sum_{\\tau} h_{\\bm{k}_{\\alpha}l_{\\alpha},\\bm{k}_{\\beta}l_{\\beta}}^{(\\tau)} c_{\\bm{k}_{\\alpha},l_{\\alpha},\\tau}^\\dagger c_{\\bm{k}_{\\beta},l_{\\beta},\\tau}$, where $\\bm{r}$ is integrated over the entire real space. You should follow the EXAMPLE below to apply the Fourier transformation.  \n",
      "Express the total noninteracting Hamiltonian $\\hat{\\mathcal{H}}_0$ in terms of $c_{\\bm{k}_{\\alpha},l_{\\alpha},\\tau}^\\dagger$. Simplify any summation index if possible.  \n",
      "\n",
      "Use the following conventions for the symbols (You should also obey the conventions in all my previous prompts if you encounter undefined symbols. If you find it is never defined or has conflicts in the conventions, you should stop and let me know):  \n",
      "$\\tau=\\pm $ represents $\\pm K$ valleys, $\\hbar \\bm{k} = -i \\hbar \\partial_{\\bm{r}}$ is the momentum operator, $\\bm{\\kappa}=\\frac{4\\pi}{3a_M}\\left(1,0\\right)$  is at a corner of the moir\\'e Brillouin zone, and $a_M$ is the moir\\'e lattice constant. The spin index of the fermion operators $\\Psi_{\\tau}$ is both layer and valley dependent. $h^{(\\tau)}$ is the Hamiltonian $H_{\\tau}$ expanded in the plane-wave basis, and the momentum $\\bm{k}$ is defined in the extended Brillouin zone that spans the full momentum space, i.e., $\\bm{k} \\in \\mathbb{R}^2$. The subscripts $\\alpha,\\beta$ are index for momenta. Due to Bloch's theorem, $h_{\\bm{k}_{\\alpha}l_{\\alpha},\\bm{k}_{\\beta}l_{\\beta}}^{(\\tau)}$ is nonzero only when $\\bm{k}_{\\alpha}-\\bm{k}_{\\beta}$ is equal to the linear combination of any multiples of one of the moir\\'e reciprocal lattice vectors (including the zero vector).\n"
     ]
    }
   ],
   "source": [
    "print_save(response,file='../cmp1.md')"
   ]
  },
  {
   "cell_type": "code",
   "execution_count": 201,
   "metadata": {},
   "outputs": [],
   "source": [
    "response=(extractor(kwargs_jsonl[7]))"
   ]
  },
  {
   "cell_type": "code",
   "execution_count": 202,
   "metadata": {},
   "outputs": [
    {
     "name": "stdout",
     "output_type": "stream",
     "text": [
      "You will be instructed to perform a particle-hole transformation.  \n",
      "Define a hole operator, $b_{\\bm{k},l,\\tau}$, which equals $c_{\\bm{k},l,\\tau}^\\dagger$.  \n",
      "You should replace $c_{\\bm{k},l,\\tau}^\\dagger$ with $b_{\\bm{k},l,\\tau}$, and $c_{\\bm{k},l,\\tau}$ with $b_{\\bm{k},l,\\tau}^\\dagger$. You should follow the EXAMPLE below to apply the particle-hole transformation.  \n",
      "Return the $\\hat{\\mathcal{H}}_0$ in the hole operators.\n",
      "\n",
      "Use the following conventions for the symbols (You should also obey the conventions in all my previous prompts if you encounter undefined symbols. If you find it is never defined or has conflicts in the conventions, you should stop and let me know):  \n",
      "The hole operator is defined as $b_{\\bm{k},l,\\tau}=c_{\\bm{k},l,\\tau}^\\dagger$, and the second non-interacting Hamiltonian in the hole basis is $\\hat{\\mathcal{H}}_0$.\n"
     ]
    }
   ],
   "source": [
    "print_save(response,file='../cmp1.md')"
   ]
  },
  {
   "cell_type": "code",
   "execution_count": 209,
   "metadata": {},
   "outputs": [],
   "source": [
    "response=(extractor(kwargs_jsonl[8]))"
   ]
  },
  {
   "cell_type": "code",
   "execution_count": 210,
   "metadata": {},
   "outputs": [
    {
     "name": "stdout",
     "output_type": "stream",
     "text": [
      "You will be instructed to simplify the $\\hat{\\mathcal{H}}_0$ in the hole basis.  \n",
      "You should use canonical commutator relation for fermions to reorder the hole operator to the normal order. Normal order means that creation operators always appear before the annihilation operators.  You should follow the EXAMPLE below to simplify it to the normal order.  \n",
      "Express the $\\hat{\\mathcal{H}}_0$ in the normal order of $b_{\\bm{k},l,\\tau}$ and also make $\\bm{k}_{\\alpha},l_{\\alpha},\\tau$ always appear before $\\bm{k}_{\\beta},l_{\\beta},\\tau$ in the index of $b_{\\bm{k},l,\\tau}$ and $\\hat{\\mathcal{H}}_0$.  \n",
      "Use the following conventions for the symbols (You should also obey the conventions in all my previous prompts if you encounter undefined symbols. If you find it is never defined or has conflicts in the conventions, you should stop and let me know):  \n",
      "The hole operator is defined as $b_{\\bm{k},l,\\tau}=c_{\\bm{k},l,\\tau}^\\dagger$, and $\\hat{\\mathcal{H}}_0$ in the hole basis is defined as $\\hat{\\mathcal{H}}_0 = \\sum_\\tau\\Tr h^{(\\tau)}-\\sum_{\\bm{k}_{\\alpha},\\bm{k}_{\\beta}}\\sum_{l_{\\alpha},l_{\\beta}}\\sum_{\\tau} [h^{(\\tau)}]^{\\intercal}_{\\bm{k}_{\\alpha}l_{\\alpha},\\bm{k}_{\\beta}l_{\\beta}} b_{\\bm{k}_{\\alpha},l_{\\alpha},\\tau}^\\dagger b_{\\bm{k}_{\\beta},l_{\\beta},\\tau}$.\n"
     ]
    }
   ],
   "source": [
    "print_save(response,file='../cmp1.md')"
   ]
  },
  {
   "cell_type": "code",
   "execution_count": 223,
   "metadata": {},
   "outputs": [],
   "source": [
    "response=(extractor(kwargs_jsonl[9]))"
   ]
  },
  {
   "cell_type": "code",
   "execution_count": 224,
   "metadata": {},
   "outputs": [
    {
     "name": "stdout",
     "output_type": "stream",
     "text": [
      "You will be instructed to construct the interaction part of the Hamiltonian $\\hat{\\mathcal{H}}_{\\text{int}}$ in the momentum space.  \n",
      "The interaction Hamiltonian is a product of four parts.\n",
      "The first part is the product of four operators with two creation and two annihilation operators following the normal order, namely, creation operators are before annihilation operators. You should follow the order of $l_{\\alpha},l_{\\beta},l_{\\beta},l_{\\alpha}$ for the index of operator, and $\\bm{k}_{\\alpha},\\bm{k}_{\\beta},\\bm{k}_{\\gamma},\\bm{k}_{\\delta}$ for the momentum. \n",
      "The second part is the constraint of total momentum conservation, namely the total momentum of all creation operators should be the same as that of all annihilation operators.  \n",
      "The third part is the interaction form. You should use dual-gate screened Coulomb interaction with $V(\\bm{k})= {2\\pi e^2\\tanh(|\\bm{k}|d)}/{(\\epsilon |\\bm{k}|)}$, where $\\bm{k}$ is the transferred total momentum between a creation operator and an annilation operator with the same index of operator, namely $\\bm{k}=\\bm{k}_{\\alpha}-\\bm{k}_{\\delta}$.  \n",
      "The fourth part is the normalization factor, you should use $\\frac{1}{2A}$ here.\n",
      "Finally, the summation should be running over all index of operator, and momentum\n",
      "Return the interaction term $\\hat{\\mathcal{H}}_{\\text{int}}$ in terms of $b_{\\bm{k}_{\\alpha},l_{\\alpha},\\tau_{\\alpha}}^\\dagger, b_{\\bm{k}_{\\beta},l_{\\beta},\\tau_{\\beta}}^\\dagger, b_{\\bm{k}_{\\gamma},l_{\\beta},\\tau_{\\beta}}, b_{\\bm{k}_{\\delta},l_{\\alpha},\\tau_{\\alpha}}$ and $V(\\bm{k})$ (with $\\bm{k}$ expressed in terms of momentum).  \n",
      "\n",
      "Use the following conventions for the symbols (You should also obey the conventions in all my previous prompts if you encounter undefined symbols. If you find it is never defined or has conflicts in the conventions, you should stop and let me know):  \n",
      "$\\bm{k}_{\\alpha},\\bm{k}_{\\beta},\\bm{k}_{\\gamma},\\bm{k}_{\\delta}$ are the momenta, $l_{\\alpha},l_{\\beta}$ are the indices of operators, $\\tau_{\\alpha},\\tau_{\\beta}$ are the spin indices, $V(\\bm{k})$ is the dual-gate screened Coulomb interaction, $b_{\\bm{k}_{\\alpha},l_{\\alpha},\\tau_{\\alpha}}^\\dagger, b_{\\bm{k}_{\\beta},l_{\\beta},\\tau_{\\beta}}^\\dagger, b_{\\bm{k}_{\\gamma},l_{\\beta},\\tau_{\\beta}}, b_{\\bm{k}_{\\delta},l_{\\alpha},\\tau_{\\alpha}}$ are the creation and annihilation operators, and $A$ is the normalization factor.\n"
     ]
    }
   ],
   "source": [
    "print_save(response,file='../cmp1.md')"
   ]
  },
  {
   "cell_type": "code",
   "execution_count": 227,
   "metadata": {},
   "outputs": [],
   "source": [
    "response=(extractor(kwargs_jsonl[10]))"
   ]
  },
  {
   "cell_type": "code",
   "execution_count": 228,
   "metadata": {},
   "outputs": [
    {
     "name": "stdout",
     "output_type": "stream",
     "text": [
      "You will be instructed to perform a Hartree-Fock approximation to expand the interaction term, $\\hat{\\mathcal{H}}_{\\text{int}}^{\\text{HF}}$.  \n",
      "You should use Wick's theorem to expand the four-fermion term in $\\hat{\\mathcal{H}}_{\\text{int}}^{\\text{HF}}$ into quadratic terms. You should strictly follow the EXAMPLE below to expand using Wick's theorem, select the correct EXAMPLE by noticing the order of four term product with and without ${{}}^\\dagger$, and be extremely cautious about the order of the index and sign before each term.  \n",
      "You should only preserve the normal terms. Here, the normal terms mean the product of a creation operator and an annihilation operator.  \n",
      "Return the expanded interaction term after Hartree-Fock approximation as $\\hat{\\mathcal{H}}^{\\text{HF}}$.\n",
      "\n",
      "Use the following conventions for the symbols (You should also obey the conventions in all my previous prompts if you encounter undefined symbols. If you find it is never defined or has conflicts in the conventions, you should stop and let me know):  \n",
      "$\\hat{\\mathcal{H}}^{\\text{HF}}$ is the Hartree-Fock Hamiltonian, $\\hat{\\mathcal{H}}_1$ is the one-body Hamiltonian, $\\hat{\\mathcal{H}}_{\\text{int}}^{\\text{HF}}$ is the interaction term after Hartree-Fock approximation, $A$ is the normalization factor, $\\bm{k}_{\\alpha},\\bm{k}_{\\beta},\\bm{k}_{\\gamma},\\bm{k}_{\\delta}$ are the momentum vectors, $l_{\\alpha},l_{\\beta}$ are the orbital quantum numbers, $\\tau_{\\alpha},\\tau_{\\beta}$ are the spin quantum numbers, $V(\\bm{k}_{\\alpha}-\\bm{k}_{\\delta})$ is the interaction potential, $b_{\\bm{k}_{\\alpha},l_{\\alpha},\\tau_{\\alpha}}^\\dagger$ and $b_{\\bm{k}_{\\alpha},l_{\\alpha},\\tau_{\\alpha}}$ are the creation and annihilation operators, and $\\delta_{\\bm{k}_{\\alpha}+\\bm{k}_{\\beta}, \\bm{k}_{\\delta}+\\bm{k}_{\\gamma}}$ is the Kronecker delta function.\n"
     ]
    }
   ],
   "source": [
    "print_save(response,file='../cmp1.md')"
   ]
  },
  {
   "cell_type": "code",
   "execution_count": 231,
   "metadata": {},
   "outputs": [],
   "source": [
    "response=(extractor(kwargs_jsonl[11]))"
   ]
  },
  {
   "cell_type": "code",
   "execution_count": 232,
   "metadata": {},
   "outputs": [
    {
     "name": "stdout",
     "output_type": "stream",
     "text": [
      "You will be instructed to extract the quadratic terms in the $\\hat{\\mathcal{H}}^{\\text{HF}}$.  \n",
      "The quadratic terms mean terms that are proportional to $b_{\\bm{k}_{\\beta},l_{\\beta},\\tau_{\\beta}}^\\dagger b_{\\bm{k}_{\\gamma},l_{\\beta},\\tau_{\\beta}}$ and $b_{\\bm{k}_{\\beta},l_{\\beta},\\tau_{\\beta}}^\\dagger b_{\\bm{k}_{\\delta},l_{\\alpha},\\tau_{\\alpha}}$, which excludes terms that are solely expectations or products of expectations.  \n",
      "You should only preserve the quadratic terms in $\\hat{\\mathcal{H}}^{\\text{HF}}$, denoted as $\\hat{\\mathcal{H}}_{\\text{int}}^{\\text{HF}}$.  \n",
      "Return $\\hat{\\mathcal{H}}_{\\text{int}}^{\\text{HF}}$.  \n",
      "\n",
      "Use the following conventions for the symbols (You should also obey the conventions in all my previous prompts if you encounter undefined symbols. If you find it is never defined or has conflicts in the conventions, you should stop and let me know):  \n",
      "$\\hat{\\mathcal{H}}^{\\text{HF}}$ is the Hartree-Fock Hamiltonian, $\\hat{\\mathcal{H}}_1$ is the one-body part of the Hamiltonian, and $\\hat{\\mathcal{H}}_{\\text{int}}^{\\text{HF}}$ is the interaction part of the Hamiltonian. The operators $b_{\\bm{k}_{\\alpha},l_{\\alpha},\\tau_{\\alpha}}^\\dagger$ and $b_{\\bm{k}_{\\delta},l_{\\alpha},\\tau_{\\alpha}}$ are creation and annihilation operators, respectively. The symbol $V(\\bm{k}_{\\alpha}-\\bm{k}_{\\delta})$ represents the interaction potential. The symbol $\\expval{..}$ denotes the expectation value. The symbol $\\delta_{\\bm{k}_{\\alpha}+\\bm{k}_{\\beta}, \\bm{k}_{\\delta}+\\bm{k}_{\\gamma}}$ is the Kronecker delta function.\n"
     ]
    }
   ],
   "source": [
    "print_save(response,file='../cmp1.md')"
   ]
  },
  {
   "cell_type": "code",
   "execution_count": 235,
   "metadata": {},
   "outputs": [],
   "source": [
    "response=(extractor(kwargs_jsonl[12]))"
   ]
  },
  {
   "cell_type": "code",
   "execution_count": 236,
   "metadata": {},
   "outputs": [
    {
     "name": "stdout",
     "output_type": "stream",
     "text": [
      "You will be instructed to simplify the quadratic term $\\hat{\\mathcal{H}}_{\\text{int}}^{\\text{HF}}$ through relabeling the index to combine the two Hartree/Fock term into one Hartree/Fock term.  \n",
      "The logic is that the expected value ($\\expval{b_{\\bm{k}_{\\alpha},l_{\\alpha},\\tau_{\\alpha}}^\\dagger b_{\\bm{k}_{\\delta},l_{\\alpha},\\tau_{\\alpha}}}$ and $\\expval{b_{\\bm{k}_{\\alpha},l_{\\alpha},\\tau_{\\alpha}}^\\dagger b_{\\bm{k}_{\\gamma},l_{\\beta},\\tau_{\\beta}}}$) in the first Hartree term ($b_{\\bm{k}_{\\beta},l_{\\beta},\\tau_{\\beta}}^\\dagger b_{\\bm{k}_{\\gamma},l_{\\beta},\\tau_{\\beta}}$) has the same form as the quadratic operators in the second Hartree term ($b_{\\bm{k}_{\\beta},l_{\\beta},\\tau_{\\beta}}^\\dagger b_{\\bm{k}_{\\delta},l_{\\alpha},\\tau_{\\alpha}}$), and vice versa. The same applies to the Fock term.  \n",
      "This means, if you relabel the index by swapping the index in the \"expected value\" and \"quadratic operators\" in the second Hartree term, you can make the second Hartree term look identical to the first Hartree term, as long as $V(\\bm{k}_{\\alpha}-\\bm{k}_{\\delta})=V(-(\\bm{k}_{\\alpha}-\\bm{k}_{\\delta}))$, which is naturally satisfied in Coulomb interaction. You should follow the EXAMPLE below to simplify it through relabeling the index.  \n",
      "You should perform this trick of \"relabeling the index\" for both two Hartree terms and two Fock terms to reduce them to one Hartree term, and one Fock term.  \n",
      "Return the simplied $\\hat{\\mathcal{H}}_{\\text{int}}^{\\text{HF}}$ which reduces from four terms (two Hartree and two Fock terms) to only two terms (one Hartree and one Fock term).\n"
     ]
    }
   ],
   "source": [
    "print_save(response,file='../cmp1.md')"
   ]
  },
  {
   "cell_type": "code",
   "execution_count": null,
   "metadata": {},
   "outputs": [],
   "source": []
  },
  {
   "cell_type": "code",
   "execution_count": null,
   "metadata": {},
   "outputs": [],
   "source": []
  },
  {
   "cell_type": "markdown",
   "metadata": {},
   "source": [
    "## Palm"
   ]
  },
  {
   "cell_type": "code",
   "execution_count": 61,
   "metadata": {},
   "outputs": [],
   "source": [
    "import google.generativeai as palm\n",
    "def extractor_palm(descriptor,message=False):\n",
    "    question_prompt='\\nTemplate:\\n {template} \\n\\n Excerpt:\\n {excerpt}'.format(template=drop_text_after(prompt_dict()[descriptor['task']]), excerpt=load_excerpt(descriptor['source']))\n",
    "    messages = prompt_system + question_prompt\n",
    "    if message:\n",
    "        return messages\n",
    "    response=palm.chat(messages=messages,temperature=0)\n",
    "    return response.last\n"
   ]
  },
  {
   "cell_type": "code",
   "execution_count": 62,
   "metadata": {},
   "outputs": [],
   "source": [
    "response=(extractor_palm(kwargs_jsonl[0],message=False))"
   ]
  },
  {
   "cell_type": "code",
   "execution_count": 63,
   "metadata": {},
   "outputs": [
    {
     "name": "stdout",
     "output_type": "stream",
     "text": [
      "You will be instructed to describe the kinetic term of Hamiltonian in **bilayer graphene** in the **real** space in the **single-particle** form.   \n",
      "The degrees of freedom of the system are: **two sublattices** and **two valleys**.  \n",
      "Express the Kinetic Hamiltonian **$H_\\tau$** using **$\\bm{k}$** which are only on the diagonal terms, and arrange the basis in the order of **$\\tau$, $\\bm{k}$**. [Note that the sublattice degrees of freedom is suppressed for now and will be stated later]\n",
      "\n",
      "Use the following conventions for the symbols:  \n",
      "* **$m_\\mathfrak{b}$** and **$m_\\mathfrak{t}$** are the effective masses of the bottom and top layers, respectively.\n",
      "* **$\\Delta_{\\mathfrak{b}/\\mathfrak{t}}$** are the intralayer potentials of the bottom and top layers, respectively.\n",
      "* **$V_{z\\mathfrak{t}}$** is the band offset between the bottom and top layers.\n",
      "* **$\\Delta_{\\text{T},\\tau}$** is the interlayer tunneling amplitude.\n",
      "* **$\\bm{\\kappa}$** is the moir\\'e reciprocal lattice vector.\n",
      "\n",
      "The kinetic Hamiltonian $H_\\tau$ can be written as\n",
      "\n",
      "$$H_\\tau = \\frac{\\hbar^2\\bm{k}^2}{2m_\\mathfrak{b}} + \\Delta_{\\mathfrak{b}}(\\bm{r}) + \\frac{\\hbar^2\\left(\\bm{k}-\\tau \\bm{\\kappa}\\right)^2}{2m_\\mathfrak{t}} + \\Delta_\\mathfrak{t}(\\bm{r}) + V_{z\\mathfrak{t}}.$$\n",
      "\n",
      "The first term describes the kinetic energy of the bottom layer, the second term describes the intralayer potential of the bottom layer, the third term describes the kinetic energy of the top layer, the fourth term describes the intralayer potential of the top layer, and the fifth term describes the band offset between the bottom and top layers.\n",
      "\n",
      "The kinetic energy of the bottom layer can be written as\n",
      "\n",
      "$$\\frac{\\hbar^2\\bm{k}^2}{2m_\\mathfrak{b}} = \\frac{\\hbar^2}{2m_\\mathfrak{b}} \\left(\\bm{k}_x^2 + \\bm{k}_y^2\\right).$$\n",
      "\n",
      "The intralayer potential of the bottom layer can be written as\n",
      "\n",
      "$$\\Delta_{\\mathfrak{b}}(\\bm{r}) = \\Delta_{\\mathfrak{b},0} + \\Delta_{\\mathfrak{b},1} \\cos(2\\pi \\bm{r} \\cdot \\hat{\\bm{x}}) + \\Delta_{\\mathfrak{b},2} \\cos(4\\pi \\bm{r} \\cdot \\hat{\\bm{x}}) + \\cdots.$$\n",
      "\n",
      "The kinetic energy of the top layer can be written as\n",
      "\n",
      "$$\\frac{\\hbar^2\\left(\\bm{k}-\\tau \\bm{\\kappa}\\right)^2}{2m_\\mathfrak{t}} = \\frac{\\hbar^2}{2m_\\mathfrak{t}} \\left(\\left(\\bm{k}_x - \\tau \\kappa_x\\right)^2 + \\left(\\bm{k}_y - \\tau \\kappa_y\\right)^2\\right).$$\n",
      "\n",
      "The intralayer potential of the top layer can be written as\n",
      "\n",
      "$$\\Delta_\\mathfrak{t}(\\bm{r}) = \\Delta_{\\mathfrak{t},0} + \\Delta_{\\mathfrak{t},1} \\cos(2\\pi \\bm{r} \\cdot \\hat{\\bm{x}}) + \\Delta_{\\mathfrak{t},2} \\cos(4\\pi \\bm{r} \\cdot \\hat{\\bm{x}}) + \\cdots.$$\n",
      "\n",
      "The band offset between the bottom and top layers can be written as\n",
      "\n",
      "$$V_{z\\mathfrak{t}} = V_{z\\mathfrak{t},0} + V_{z\\mathfrak{t},1} \\cos(2\\pi \\bm{r} \\cdot \\hat{\\bm{x}}) + V_{z\\mathfrak{t},2} \\cos(4\\pi \\bm{r} \\cdot \\hat{\\bm{x}}) + \\cdots.$$\n",
      "\n",
      "The total Hamiltonian $H$ can be written as\n",
      "\n",
      "$$H = \\sum_{\\tau} H_\\tau.$$\n"
     ]
    }
   ],
   "source": [
    "print(response)"
   ]
  },
  {
   "cell_type": "code",
   "execution_count": 64,
   "metadata": {},
   "outputs": [],
   "source": [
    "response=(extractor_palm(kwargs_jsonl[1],message=False))"
   ]
  },
  {
   "cell_type": "code",
   "execution_count": 65,
   "metadata": {},
   "outputs": [
    {
     "name": "stdout",
     "output_type": "stream",
     "text": [
      "The following is the template for the energy dispersion:\n",
      "\n",
      "$$E(\\bm{k}) = \\pm \\sqrt{\\frac{\\hbar^2 \\bm{k}^2}{2m} + \\Delta^2}$$\n",
      "\n",
      "where $\\bm{k}$ is the momentum, $m$ is the effective mass, and $\\Delta$ is the gap.\n",
      "\n",
      "The following is the definition of the variables:\n",
      "\n",
      "* $\\hbar$ is the reduced Planck constant\n",
      "* $m$ is the effective mass\n",
      "* $\\Delta$ is the gap\n",
      "* $\\bm{k}$ is the momentum\n",
      "\n",
      "The following is the excerpt from the physics paper:\n",
      "\n",
      "$$H_{\\tau} = \\begin{pmatrix}\n",
      "        -\\frac{\\hbar^2\\bm{k}^2}{2m_\\mathfrak{b}}+\\Delta_{\\mathfrak{b}}(\\bm{r}) &  \\Delta_{\\text{T},\\tau}(\\bm{r})\\\\\n",
      "        \\Delta_{\\text{T},\\tau}^\\dag(\\bm{r}) & -\\frac{\\hbar^2\\left(\\bm{k}-\\tau \\bm{\\kappa}\\right)^2}{2m_\\mathfrak{t}}+ \\Delta_\\mathfrak{t}(\\bm{r})+V_{z\\mathfrak{t}}\n",
      "    \\end{pmatrix},$$\n",
      "\n",
      "where $\\tau=\\pm 1$ represents $\\pm K$ valleys, and $\\bm{\\kappa}=\\frac{4\\pi}{3a_M}\\left(1,0\\right)$  is at a corner of the  moir\\'e Brillouin zone.  For each valley, the $2\\times 2$ Hamiltonian hybridizes the bottom layer ($\\mathfrak{b}$) and top layer ($\\mathfrak{t}$), where the off diagonal terms describe the interlayer tunneling $\\Delta_{\\text{T},\\tau}$, and the diagonal terms describe the momentum-shifted kinetic energy with the effective mass $(m_{\\mathfrak{b}},m_{\\mathfrak{t}})=(0.65,0.35)m_e$ ($m_e$ is the rest electron mass), plus the intralayer potential $\\Delta_{\\mathfrak{b}/\\mathfrak{t}}$, and a band offset $V_{z\\mathfrak{t}}$ [Fig.~\\ref{fig:1}(b)]. Our $H_\\tau$ differs from that in Ref.~\\onlinecite{zhang2021spintextured} by a gauge transformation. \n",
      "\n",
      "The following is the energy dispersion for electrons:\n",
      "\n",
      "$$E(\\bm{k}) = \\pm \\sqrt{\\frac{\\hbar^2 \\bm{k}^2}{2m_\\mathfrak{b}} + \\Delta_{\\mathfrak{b}}^2}$$\n",
      "\n",
      "The following is the energy dispersion for holes:\n",
      "\n",
      "$$E(\\bm{k}) = \\pm \\sqrt{\\frac{\\hbar^2 \\bm{k}^2}{2m_\\mathfrak{t}} + \\Delta_{\\mathfrak{t}}^2}$$\n",
      "\n",
      "The following is the kinetic Hamiltonian:\n",
      "\n",
      "$$H_0 = \\sum_{\\tau={\\pm}} \\int d^2 \\bm{r} \\Psi_{\\tau}^\\dagger(\\bm{r}) H_{\\tau} \\Psi_{\\tau}(\\bm{r})$$\n",
      "\n",
      "The following is the wave function:\n",
      "\n",
      "$$\\Psi_{\\tau}(\\bm{r}) = \\begin{pmatrix}\n",
      "                    \\psi_{\\mathfrak{b},\\uparrow,\\tau}(\\bm{r}) \\\\\n",
      "                    \\psi_{\\mathfrak{t},\\downarrow,\\tau}(\\bm{r}) \n",
      "                \\end{pmatrix}$$\n",
      "\n",
      "The following is the momentum operator:\n",
      "\n",
      "$$\\hbar \\bm{k} = -i \\hbar \\partial_{\\bm{r}}$$\n",
      "\n",
      "The following is the moir\\'e Brillouin zone:\n",
      "\n",
      "[Figure~\\ref{fig:BZ}]\n",
      "\n",
      "The following is the moir\\'e lattice constant:\n",
      "\n",
      "$$a_M = \\frac{a_1 + a_2}{2}$$\n",
      "\n",
      "where $a_1$ and $a_2$ are the lattice constants of the two graphene layers.\n"
     ]
    }
   ],
   "source": [
    "print(response)"
   ]
  },
  {
   "cell_type": "code",
   "execution_count": null,
   "metadata": {},
   "outputs": [],
   "source": []
  },
  {
   "cell_type": "code",
   "execution_count": null,
   "metadata": {},
   "outputs": [],
   "source": []
  },
  {
   "cell_type": "code",
   "execution_count": null,
   "metadata": {},
   "outputs": [],
   "source": []
  },
  {
   "cell_type": "code",
   "execution_count": 107,
   "metadata": {},
   "outputs": [
    {
     "name": "stdout",
     "output_type": "stream",
     "text": [
      "I will provide you a Excerpt of physics paper, and a Template. You will need to fill the placeholders in the template using the correct information from the excerpt.\n",
      "Here are conventions: \n",
      "{..} means a placeholder which you need to fill by extracting information from the excerpt.\n",
      "{A|B} means you need to make a choice between A and B\n",
      "[..] means optional sentence. You should decide whether to use it depending on the excerpt.\n",
      "{{..}} DOES NOT mean a placeholder. You should not change the content inside double curly braces {{..}}.\n",
      "`You should recall that {expression_second_nonint}.` : this sentence should be kept as is.\n",
      "\n",
      "\n",
      "Finally, if you cannot figure out the placeholder, you should leave it as is.\n",
      "Template:\n",
      " You will be instructed to construct each term, namely {Energy_dispersion}.  \n",
      "For all energy dispersions, {Energy_dispersion}, it characterizes the {parabolic|Dirac|cos} dispersion for {electrons|holes}.   \n",
      "[In addition, an shift of {momentum_shift} in the momentum {k_symbol} for {shifted_Ek}, respectively.]  \n",
      "You should follow the EXAMPLE below to obtain correct energy dispersion, select the correct EXAMPLE by noticing the type of dispersion.  \n",
      "Finally, in the real space, the momentum ${k_symbol}=-i \\partial_{r_symbol}$. You should keep the form of ${k_symbol}$ in the Hamiltonian for short notations but should remember ${k_symbol}$ is an operator.  \n",
      "You should recall that {expression_kinetic}.    \n",
      "Return the expression for {Energy_dispersion} in the Kinetic Hamiltonian, and substitute it into the Kinetic Hamiltonian {kinetic_symbol}.  \n",
      "\n",
      "Use the following conventions for the symbols (You should also obey the conventions in all my previous prompts if you encounter undefined symbols. If you find it is never defined or has conflicts in the conventions, you should stop and let me know):  \n",
      "{definition_of_variables}\n",
      " \n",
      "\n",
      " Excerpt:\n",
      " \\begin{equation}\\label{eq:Ham}\n",
      "    H_{\\tau}=\\begin{pmatrix}\n",
      "        -\\frac{\\hbar^2\\bm{k}^2}{2m_\\mathfrak{b}}+\\Delta_{\\mathfrak{b}}(\\bm{r}) &  \\Delta_{\\text{T},\\tau}(\\bm{r})\\\\\n",
      "        \\Delta_{\\text{T},\\tau}^\\dag(\\bm{r}) & -\\frac{\\hbar^2\\left(\\bm{k}-\\tau \\bm{\\kappa}\\right)^2}{2m_\\mathfrak{t}}+ \\Delta_\\mathfrak{t}(\\bm{r})+V_{z\\mathfrak{t}}\n",
      "    \\end{pmatrix},\n",
      "\\end{equation} \n",
      "where $\\tau=\\pm 1$ represents $\\pm K$ valleys, and $\\bm{\\kappa}=\\frac{4\\pi}{3a_M}\\left(1,0\\right)$  is at a corner of the  moir\\'e Brillouin zone.  For each valley, the $2\\times 2$ Hamiltonian hybridizes the bottom layer ($\\mathfrak{b}$) and top layer ($\\mathfrak{t}$), where the off diagonal terms describe the interlayer tunneling $\\Delta_{\\text{T},\\tau}$, and the diagonal terms describe the momentum-shifted kinetic energy with the effective mass $(m_{\\mathfrak{b}},m_{\\mathfrak{t}})=(0.65,0.35)m_e$ ($m_e$ is the rest electron mass), plus the intralayer potential $\\Delta_{\\mathfrak{b}/\\mathfrak{t}}$, and a band offset $V_{z\\mathfrak{t}}$ [Fig.~\\ref{fig:1}(b)]. Our $H_\\tau$ differs from that in Ref.~\\onlinecite{zhang2021spintextured} by a gauge transformation. \n",
      "\n",
      "\\begin{eqnarray}    &&\\hat{\\mathcal{H}}_0=\\sum_{\\tau={\\pm}} \\int d^2 \\bm{r} \\Psi_{\\tau}^\\dagger(\\bm{r}) H_{\\tau} \\Psi_{\\tau}(\\bm{r}), \\\\\n",
      "    &&H_{\\tau}=\\begin{pmatrix}\n",
      "         -\\frac{\\hbar^2\\bm{k}^2}{2m_\\mathfrak{b}}+\\Delta_{\\mathfrak{b},\\tau}(\\bm{r}) &  \\Delta_{\\text{T},\\tau}(\\bm{r})\\\\\n",
      "        \\Delta_{\\text{T},\\tau}^\\dag(\\bm{r}) & -\\frac{\\hbar^2\\left(\\bm{k}-\\tau \\bm{\\kappa}\\right)^2}{2m_\\mathfrak{t}}+ \\Delta_\\mathfrak{t,\\tau}(\\bm{r})+V_{z\\mathfrak{t}}\n",
      "    \\end{pmatrix},\\\\\n",
      "    &&\\Psi_{+}(\\bm{r})=\\begin{pmatrix}\n",
      "                    \\psi_{\\mathfrak{b},\\uparrow,+}(\\bm{r}) \\\\\n",
      "                    \\psi_{\\mathfrak{t},\\downarrow,+}(\\bm{r}) \n",
      "                \\end{pmatrix},  \\quad\n",
      "    \\Psi_{-}(\\bm{r})=\\begin{pmatrix}\n",
      "        \\psi_{\\mathfrak{b},\\downarrow,-}(\\bm{r}) \\\\\n",
      "        \\psi_{\\mathfrak{t},\\uparrow,-}(\\bm{r}) \n",
      "    \\end{pmatrix},\n",
      "\\end{eqnarray}\n",
      "where $\\tau=\\pm $ represents $\\pm K$ valleys, $\\hbar \\bm{k} = -i \\hbar \\partial_{\\bm{r}}$ is the momentum operator, $\\bm{\\kappa}=\\frac{4\\pi}{3a_M}\\left(1,0\\right)$  is at a corner of the moir\\'e Brillouin zone ({as shown in Fig.~\\ref{fig:BZ}}), and $a_M$ is the moir\\'e lattice constant. Note that the spin index of the fermion operators $\\Psi_{\\tau}$ is both layer and valley dependent.\n",
      "\n"
     ]
    }
   ],
   "source": [
    "print((response)[0]['content']+(response)[1]['content'])"
   ]
  },
  {
   "cell_type": "code",
   "execution_count": null,
   "metadata": {},
   "outputs": [],
   "source": []
  },
  {
   "cell_type": "code",
   "execution_count": null,
   "metadata": {},
   "outputs": [],
   "source": []
  },
  {
   "cell_type": "code",
   "execution_count": 36,
   "metadata": {},
   "outputs": [
    {
     "name": "stdout",
     "output_type": "stream",
     "text": [
      "You will be instructed to describe the kinetic term of Hamiltonian in a system with valleys in the momentum space in the second-quantized form.   \n",
      "The degrees of freedom of the system are: valleys, bottom layer, top layer.  \n",
      "Express the Kinetic Hamiltonian H_{\\tau} using -\\frac{\\hbar^2\\bm{k}^2}{2m_\\mathfrak{b}} and -\\frac{\\hbar^2\\left(\\bm{k}-\\tau \\bm{\\kappa}\\right)^2}{2m_\\mathfrak{t}} which are only on the diagonal terms, and arrange the basis in the order of bottom layer and top layer. Note that the sublattice degrees of freedom is suppressed for now and will be stated later.\n",
      "\n",
      "Use the following conventions for the symbols:  \n",
      "$\\tau=\\pm 1$ represents $\\pm K$ valleys, $\\bm{\\kappa}=\\frac{4\\pi}{3a_M}\\left(1,0\\right)$ is at a corner of the moiré Brillouin zone, $m_{\\mathfrak{b}}$ and $m_{\\mathfrak{t}}$ are the effective masses of the bottom and top layers respectively, $\\Delta_{\\mathfrak{b}/\\mathfrak{t}}$ is the intralayer potential, and $V_{z\\mathfrak{t}}$ is a band offset.\n"
     ]
    }
   ],
   "source": [
    "print(response['choices'][0]['message'].content)"
   ]
  },
  {
   "cell_type": "code",
   "execution_count": 31,
   "metadata": {},
   "outputs": [
    {
     "name": "stdout",
     "output_type": "stream",
     "text": [
      "Template:\n",
      " You will be instructed to describe the kinetic term of Hamiltonian in {system} in the {real|momentum} space in the {single-particle|second-quantized} form.   \n",
      "The degrees of freedom of the system are: {dof}.  \n",
      "Express the Kinetic Hamiltonian {kinetic_symbol} using {var} which are only on the diagonal terms, and arrange the basis in the order of {order}. [Note that the sublattice degrees of freedom is suppressed for now and will be stated later]\n",
      "\n",
      "Use the following conventions for the symbols:  \n",
      "{def_var}\n",
      "\n",
      " \n",
      "\n",
      " Excerpt:\n",
      " \\begin{equation}\\label{eq:Ham}\n",
      "    H_{\\tau}=\\begin{pmatrix}\n",
      "        -\\frac{\\hbar^2\\bm{k}^2}{2m_\\mathfrak{b}}+\\Delta_{\\mathfrak{b}}(\\bm{r}) &  \\Delta_{\\text{T},\\tau}(\\bm{r})\\\\\n",
      "        \\Delta_{\\text{T},\\tau}^\\dag(\\bm{r}) & -\\frac{\\hbar^2\\left(\\bm{k}-\\tau \\bm{\\kappa}\\right)^2}{2m_\\mathfrak{t}}+ \\Delta_\\mathfrak{t}(\\bm{r})+V_{z\\mathfrak{t}}\n",
      "    \\end{pmatrix},\n",
      "\\end{equation} \n",
      "where $\\tau=\\pm 1$ represents $\\pm K$ valleys, and $\\bm{\\kappa}=\\frac{4\\pi}{3a_M}\\left(1,0\\right)$  is at a corner of the  moir\\'e Brillouin zone.  For each valley, the $2\\times 2$ Hamiltonian hybridizes the bottom layer ($\\mathfrak{b}$) and top layer ($\\mathfrak{t}$), where the off diagonal terms describe the interlayer tunneling $\\Delta_{\\text{T},\\tau}$, and the diagonal terms describe the momentum-shifted kinetic energy with the effective mass $(m_{\\mathfrak{b}},m_{\\mathfrak{t}})=(0.65,0.35)m_e$ ($m_e$ is the rest electron mass), plus the intralayer potential $\\Delta_{\\mathfrak{b}/\\mathfrak{t}}$, and a band offset $V_{z\\mathfrak{t}}$ [Fig.~\\ref{fig:1}(b)]. Our $H_\\tau$ differs from that in Ref.~\\onlinecite{zhang2021spintextured} by a gauge transformation. \n",
      "\n"
     ]
    }
   ],
   "source": [
    "print(response[1]['content'])"
   ]
  },
  {
   "cell_type": "code",
   "execution_count": 19,
   "metadata": {},
   "outputs": [
    {
     "data": {
      "text/plain": [
       "{'task': 'Construct Kinetic Hamiltonian (continuum version, single-particle)',\n",
       " 'system': 'the hole-doped AB-stacked MoTe2/WSe2',\n",
       " 'real|momentum': 'real',\n",
       " 'single-particle|second-quantized': 'single-particle',\n",
       " 'dof': 'valley index (+K and -K valley), layer index (top and bottom layer)',\n",
       " 'kinetic_symbol': '$H_{Kinetic}(r)$',\n",
       " 'var': '$E_{\\\\tau,l}$',\n",
       " 'order': '(+K,bottom), (+K,top), (-K,bottom), (-K,top)',\n",
       " 'Note that the sublattice degrees of freedom is suppressed for now and will be stated later|None': '',\n",
       " 'def_var': '$l$ : layer index   \\n$t$ : top layer  \\n$b$ : bottom layer  \\n$\\\\tau$ : valley index  \\n$+K$ : +K valley  \\n$-K$ : -K valley  \\n$k$ : momentum operator  \\n$E_{\\\\tau,l}$ : energy dispersion for layer $l$ and valley $\\\\tau$',\n",
       " 'answer': '$H_{Kinetic}(r) = \\\\begin{pmatrix} E_{+K,b} & 0 & 0 & 0 \\\\\\\\ 0 & E_{+K,t} & 0 & 0 \\\\\\\\ 0 & 0 & E_{-K,b} & 0 \\\\\\\\ 0 & 0 & 0 & E_{-K,t} \\\\end{pmatrix}$',\n",
       " 'source': {'2111.01152.tex': [[55, 62]], '2111.01152_SM.tex': [[46, 62]]}}"
      ]
     },
     "execution_count": 19,
     "metadata": {},
     "output_type": "execute_result"
    }
   ],
   "source": [
    "'Template:\\n {template} \\n\\n Excerpt: {excerpt} '"
   ]
  },
  {
   "cell_type": "code",
   "execution_count": null,
   "metadata": {},
   "outputs": [],
   "source": []
  },
  {
   "cell_type": "markdown",
   "metadata": {},
   "source": [
    "# Draft"
   ]
  },
  {
   "cell_type": "code",
   "execution_count": null,
   "metadata": {},
   "outputs": [],
   "source": []
  }
 ],
 "metadata": {
  "kernelspec": {
   "display_name": "Python 3",
   "language": "python",
   "name": "python3"
  },
  "language_info": {
   "codemirror_mode": {
    "name": "ipython",
    "version": 3
   },
   "file_extension": ".py",
   "mimetype": "text/x-python",
   "name": "python",
   "nbconvert_exporter": "python",
   "pygments_lexer": "ipython3",
   "version": "3.8.11"
  },
  "orig_nbformat": 4
 },
 "nbformat": 4,
 "nbformat_minor": 2
}
