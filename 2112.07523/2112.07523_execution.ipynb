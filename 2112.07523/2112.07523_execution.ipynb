{
 "cells": [
  {
   "cell_type": "code",
   "execution_count": 1,
   "metadata": {},
   "outputs": [],
   "source": [
    "from IPython.display import Markdown\n",
    "\n",
    "import sys\n",
    "sys.path.append('..')\n",
    "from utils import *"
   ]
  },
  {
   "cell_type": "code",
   "execution_count": 24,
   "metadata": {},
   "outputs": [],
   "source": [
    "prompt_template='../prompt_template.md'\n",
    "arxiv_number='2112.07523'\n",
    "prompt_dict=load_prompt_template(prompt_template)\n",
    "with open(f'{arxiv_number}.yaml','r') as f:\n",
    "    kwargs= yaml.safe_load(f)"
   ]
  },
  {
   "cell_type": "code",
   "execution_count": 25,
   "metadata": {},
   "outputs": [],
   "source": [
    "prompt=generate_prompt(kwargs[10],prompt_dict)"
   ]
  },
  {
   "cell_type": "code",
   "execution_count": 26,
   "metadata": {},
   "outputs": [
    {
     "data": {
      "text/markdown": [
       "You will now be instructed to combine the Hartree term $\\Sigma_H$ and the Fock term $\\Sigma_F$.  \n",
       "You should recall that the Hartree term $\\Sigma_H = \\frac{1}{S}\\sum_{bb'ss'}\\sum_{\\bm k} V_{bb'}(0) \\langle a_{bs\\bm k}^{\\dagger} a_{bs\\bm k} \\rangle a_{b's'\\bm k}^{\\dagger} a_{b's'\\bm k} $,  \n",
       "and the Fock term $\\Sigma_F = -\\frac{1}{S}\\sum_{bb'ss'}\\sum_{\\bm kq} V_{bb'}(q) \\langle a_{bs\\bm k+\\bm q}^{\\dagger} a_{b's'\\bm k+\\bm q} \\rangle a_{b's'\\bm k}^{\\dagger} a_{bs\\bm k}$.  \n",
       "You should perform the same trick of relabeling the index in the Fock term to make the quadratic operators in the Fock term the same as those in the Hartree term. The relabeling should be done with a swap : Not needed.\n",
       "You should add them, relabel the index in Fock term, and simply their sum. \n",
       "Return the final sum of Hartree and Fock term."
      ],
      "text/plain": [
       "<IPython.core.display.Markdown object>"
      ]
     },
     "execution_count": 26,
     "metadata": {},
     "output_type": "execute_result"
    }
   ],
   "source": [
    "Markdown(prompt['content'])"
   ]
  },
  {
   "cell_type": "code",
   "execution_count": 98,
   "metadata": {},
   "outputs": [
    {
     "name": "stdout",
     "output_type": "stream",
     "text": [
      "You will be instructed to simplify the Hartree term in $\\Sigma_H$ by reducing the momentum inside the expected value $\\rho_{b's'\\,n''}^{b's'\\,n''+n'-n}(\\bm k')$.  \n",
      "The expected value $\\rho_{b's'\\,n''}^{b's'\\,n''+n'-n}(\\bm k')$ is only nonzero when the two momenta $k_i,k_j$ are the same, namely, $\\rho_{b's'n'}^{bsn}(\\bm k) = \\langle a_{b's'n'\\bm k}^{\\dagger} a_{bsn\\bm k} \\rangle - \\delta_{bb'}\\delta_{bv}\\delta_{ss'}\\delta_{nn'}$.  \n",
      "You should use the property of Kronecker delta function $\\delta_{k_i,k_j}$ to reduce one momentum $k_i$ but not $b_i$.\n",
      "Once you reduce one momentum inside the expected value $\\langle\\dots\\rangle$. You will also notice the total momentum conservation will reduce another momentum in the quadratic term. Therefore, you should end up with only two momenta left in the summation.  \n",
      "You should follow the EXAMPLE below to reduce one momentum in the Hartree term, and another momentum in the quadratic term.  \n",
      "You should recall that $\\Sigma_H$ is $$\n",
      "\\begin{split}\n",
      "\\Sigma_H = \\frac{1}{S}\\sum_{bb'\\atop ss'}\\sum_{nn'n''\\atop \\bm k\\bm k'} &V_{bb'}((n'-n)\\bm Q) \\\\\n",
      "\\times&\\rho_{b's'\\,n''}^{b's'\\,n''+n'-n}(\\bm k') \\; a_{bsn'\\bm k}^{\\dagger} a_{bsn\\bm k},\n",
      "\\end{split}\n",
      "$$\n",
      ".  \n",
      "Return the final simplified Hartree term $\\Sigma_H$.\n",
      "\n",
      "===  \n",
      "EXAMPLE:  \n",
      "Given a Hamiltonian where the Hartree term $\\hat{H}^{Hartree}=\\sum_{k_1,k_2, k_3, k_4,b_1,b_2,b_3,b_4} V(k_1-k_4+b_1-b_4) \\langle c_{b_1}^\\dagger(k_1) c_{b_4}(k_4) \\rangle c_{b_2}^\\dagger(k_2) c_{b_3}(k_3) \\delta_{k_1+k_2+b_1+b_2,k_3+k_4+b_3+b_4}$, where $k_i$ is the momentum inside first Brilloun zone and $b_i$ is the reciprocal lattice.   \n",
      "Inside the expected value, we realize $\\langle c_{b_1}^\\dagger(k_1) c_{b_4}(k_4) \\rangle$ is nonzero only when $k_1=k_4$, i.e., $\\langle c_{b_1}^\\dagger(k_1) c_{b_4}(k_4) \\rangle=\\langle c_{b_1}^\\dagger(k_1) c_{b_4}(k_4) \\rangle\\delta_{k_1,k_4}$.  \n",
      "Thus, the Hartree term becomes $\\sum_{k_1,k_2, k_3, k_4,b_1,b_2,b_3,b_4} V(k_1-k_4+b_1-b_4) \\langle c_{b_1}^\\dagger(k_1) c_{b_4}(k_4) \\rangle \\delta_{k_1,k_4} c_{b_2}^\\dagger(k_2) c_{b_3}(k_3) \\delta_{k_1+k_2+b_1+b_2,k_3+k_4+b_3+b_4}$.  \n",
      "Use the property of Kronecker delta function $\\delta_{k_1,k_4}$ to sum over $k_4$, we have $\\sum_{k_1, k_2, k_3,b_1,b_2,b_3,b_4} V(k_1-k_1+b_1-b_4) \\langle c_{b_1}^\\dagger(k_1) c_{b_4}(k_1) \\rangle c_{b_2}^\\dagger(k_2) c_{b_3}(k_3) \\delta_{k_1+k_2+b_1+b_2,k_3+k_1+b_3+b_4}=\\sum_{k_1, k_2, k_3,b_1,b_2,b_3,b_4} V(b_1-b_4) \\langle c_{b_1}^\\dagger(k_1) c_{b_4}(k_1) \\rangle c_{b_2}^\\dagger(k_2) c_{b_3}(k_3) \\delta_{k_2+b_1+b_2,k_3+b_3+b_4}$.  \n",
      "Because $k_i$ is momentum inside first Brilloun zone while $b_i$ is the reciprocal lattice. It is only when $k_2=k_3$ that $\\delta_{k_2+b_1+b_2,k_3+b_3+b_4}$ is nonzero, i.e., $\\delta_{k_2+b_1+b_2,k_3+b_3+b_4}=\\delta_{b_1+b_2,b_3+b_4}\\delta_{k_2,k_3}$. Therefore, the Hartree term simplifies to $\\sum_{k_1, k_2, k_3,b_1,b_2,b_3,b_4} V(b_1-b_4) \\langle c_{b_1}^\\dagger(k_1) c_{b_4}(k_1) \\rangle c_{b_2}^\\dagger(k_2) c_{b_3}(k_3) \\delta_{b_1+b_2,b_3+b_4}\\delta_{k_2,k_3}=\\sum_{k_1, k_2,b_1,b_2,b_3,b_4} V(b_1-b_4) \\langle c_{b_1}^\\dagger(k_1) c_{b_4}(k_1) \\rangle c_{b_2}^\\dagger(k_2) c_{b_3}(k_2) \\delta_{b_1+b_2,b_3+b_4}$.  \n",
      "Therefore, the final simplified Hartree term after reducing two momenta is $\\hat{H}^{Hartree}=\\sum_{k_1, k_2,b_1,b_2,b_3,b_4}  V(b_1-b_4) \\langle c_{b_1}^\\dagger(k_1) c_{b_4}(k_1) \\rangle c_{b_2}^\\dagger(k_2) c_{b_3}(k_2) \\delta_{b_1+b_2,b_3+b_4} \\delta_{b_1+b_2,b_3+b_4}$\n"
     ]
    }
   ],
   "source": [
    "print(prompt['content'])"
   ]
  },
  {
   "cell_type": "code",
   "execution_count": null,
   "metadata": {},
   "outputs": [],
   "source": []
  },
  {
   "cell_type": "code",
   "execution_count": null,
   "metadata": {},
   "outputs": [],
   "source": []
  }
 ],
 "metadata": {
  "kernelspec": {
   "display_name": "base",
   "language": "python",
   "name": "python3"
  },
  "language_info": {
   "codemirror_mode": {
    "name": "ipython",
    "version": 3
   },
   "file_extension": ".py",
   "mimetype": "text/x-python",
   "name": "python",
   "nbconvert_exporter": "python",
   "pygments_lexer": "ipython3",
   "version": "3.11.4"
  }
 },
 "nbformat": 4,
 "nbformat_minor": 2
}
