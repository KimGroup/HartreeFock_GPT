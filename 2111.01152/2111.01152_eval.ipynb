{
 "cells": [
  {
   "cell_type": "code",
   "execution_count": 42,
   "metadata": {},
   "outputs": [],
   "source": [
    "import openai\n",
    "import pandas as pd\n",
    "import json\n",
    "from IPython.display import Markdown\n",
    "import sys\n",
    "import json"
   ]
  },
  {
   "cell_type": "code",
   "execution_count": 43,
   "metadata": {},
   "outputs": [
    {
     "data": {
      "text/plain": [
       "62"
      ]
     },
     "execution_count": 43,
     "metadata": {},
     "output_type": "execute_result"
    }
   ],
   "source": [
    "zz=openai.Model.list()\n",
    "len(zz['data'])"
   ]
  },
  {
   "cell_type": "code",
   "execution_count": 44,
   "metadata": {},
   "outputs": [],
   "source": [
    "model_params = {\n",
    "    'model': \"gpt-4\",\n",
    "    'temperature': 0,\n",
    "}"
   ]
  },
  {
   "cell_type": "markdown",
   "metadata": {},
   "source": [
    "# Load template and descriptor file"
   ]
  },
  {
   "cell_type": "code",
   "execution_count": 45,
   "metadata": {},
   "outputs": [],
   "source": [
    "sys.path.append('..')\n",
    "from utils import *"
   ]
  },
  {
   "cell_type": "code",
   "execution_count": 106,
   "metadata": {},
   "outputs": [],
   "source": [
    "prompt_dict=load_prompt_template('../prompt_template.md')"
   ]
  },
  {
   "cell_type": "code",
   "execution_count": 194,
   "metadata": {},
   "outputs": [],
   "source": [
    "with open('2111.01152.jsonl','r') as f:\n",
    "    kwargs= [json.loads(line) for line in f]\n"
   ]
  },
  {
   "cell_type": "code",
   "execution_count": 108,
   "metadata": {},
   "outputs": [],
   "source": [
    "prompts=[generate_prompt(kwarg,prompt_dict=prompt_dict) for kwarg in kwargs]"
   ]
  },
  {
   "cell_type": "code",
   "execution_count": 235,
   "metadata": {},
   "outputs": [],
   "source": [
    "import re\n",
    "import string\n",
    "def format_check(s, kwargs):\n",
    "    placeholders=  [v[1] for v in (string.Formatter().parse(s)) if v[1] is not None]\n",
    "    extra_args = set(kwargs.keys()) - set(placeholders+ ['task','answer'])  # Check for extra args.\n",
    "    return extra_args\n"
   ]
  },
  {
   "cell_type": "code",
   "execution_count": 236,
   "metadata": {},
   "outputs": [
    {
     "data": {
      "text/plain": [
       "[set(),\n",
       " set(),\n",
       " set(),\n",
       " set(),\n",
       " set(),\n",
       " set(),\n",
       " set(),\n",
       " set(),\n",
       " set(),\n",
       " set(),\n",
       " set(),\n",
       " set(),\n",
       " set()]"
      ]
     },
     "execution_count": 236,
     "metadata": {},
     "output_type": "execute_result"
    }
   ],
   "source": [
    "[format_check(prompt_dict[kwarg['task']],kwarg) for kwarg in kwargs]"
   ]
  },
  {
   "cell_type": "markdown",
   "metadata": {},
   "source": [
    "# LLM"
   ]
  },
  {
   "cell_type": "code",
   "execution_count": 67,
   "metadata": {},
   "outputs": [],
   "source": [
    "def extract_var(prompt):\n",
    "    string='Use the following conventions for the symbols'\n",
    "    contains=False\n",
    "    var_list=[]\n",
    "    for line in prompt.split('\\n'):\n",
    "        if contains:\n",
    "            if len(line.strip())==0:\n",
    "                break\n",
    "            var_list.append(line)\n",
    "\n",
    "        if line.startswith(string):\n",
    "            contains=True\n",
    "        \n",
    "    return var_list"
   ]
  },
  {
   "cell_type": "code",
   "execution_count": 120,
   "metadata": {},
   "outputs": [],
   "source": [
    "def summarizer(summarization, prompt, response):\n",
    "    '''Summarize the background (summarization) + question (prompt) + answer (response)'''\n",
    "    var_old=extract_var(summarization)\n",
    "    var_new=extract_var(prompt)\n",
    "    var=var_old+var_new\n",
    "    \n",
    "    summarization_prompt=prompt_dict['Conversation summarizer'].format(background=summarization,question=prompt, answer=response)\n",
    "    messages= [{'role':'user','content': summarization_prompt}]\n",
    "    rs= openai.ChatCompletion.create(messages=messages, **model_params)\n",
    "\n",
    "    summarized=rs['choices'][0]['message'].content\n",
    "\n",
    "    \n",
    "    if len(var)>0:\n",
    "        if 'Use the following conventions for the symbols:  ' in summarized:\n",
    "            summarized += '\\n'+'\\n'.join(var)\n",
    "        else:\n",
    "            summarized += '\\n\\nUse the following conventions for the symbols:  \\n' +'\\n'.join(var)\n",
    "    return summarized"
   ]
  },
  {
   "cell_type": "code",
   "execution_count": 133,
   "metadata": {},
   "outputs": [],
   "source": [
    "summarized=summarizer(summarization=summarization,\n",
    "prompt=prompt,\n",
    "response=response)"
   ]
  },
  {
   "cell_type": "code",
   "execution_count": 134,
   "metadata": {},
   "outputs": [
    {
     "name": "stdout",
     "output_type": "stream",
     "text": [
      "The question asks to describe the kinetic term of Hamiltonian in the hole-doped AB-stacked MoTe2/WSe2 in real space in the single-particle form. The system's degrees of freedom are the valley index (+K and -K valley) and the layer index (top and bottom layer). The kinetic Hamiltonian $H_{Kinetic}(r)$ is to be expressed using $E_{\\tau,l}$, which are only on the diagonal terms, and the basis is arranged in the order of (+K,bottom), (+K,top), (-K,bottom), (-K,top). The answer provides the kinetic Hamiltonian as a 4x4 diagonal matrix, where the diagonal elements represent the energy dispersion for each combination of layer and valley index. The off-diagonal elements are zero, indicating that transitions between different layers or valleys are not part of the kinetic energy term.\n",
      "\n",
      "Use the following conventions for the symbols:  \n",
      "$l$ : layer index   \n",
      "$t$ : top layer  \n",
      "$b$ : bottom layer  \n",
      "$\\tau$ : valley index  \n",
      "$+K$ : +K valley  \n",
      "$-K$ : -K valley  \n",
      "$k$ : momentum operator  \n",
      "$E_{l,\\tau}$ : energy dispersion for layer $l$ and valley $\\tau$  \n"
     ]
    }
   ],
   "source": [
    "print(summarized)"
   ]
  },
  {
   "cell_type": "code",
   "execution_count": 156,
   "metadata": {},
   "outputs": [],
   "source": [
    "def solver(summarization, prompt):\n",
    "    '''\n",
    "    Solve the problem in the prompt\n",
    "    '''\n",
    "    sys_msg=[{'role': 'system', 'content': prompt_dict['Problem-solver']}]\n",
    "    question_prompt='**Background**  \\n{background}\\n\\n**Question**  \\n{question}'.format(background=summarization,question=prompt)\n",
    "    user_msg=[{'role':'user','content':question_prompt}]\n",
    "    messages = sys_msg + user_msg\n",
    "    rs= openai.ChatCompletion.create(messages=messages, **model_params)\n",
    "\n",
    "    response=rs['choices'][0]['message'].content\n",
    "    return response"
   ]
  },
  {
   "cell_type": "code",
   "execution_count": 149,
   "metadata": {},
   "outputs": [],
   "source": [
    "response=solver(summarization=summarization,prompt=prompt)"
   ]
  },
  {
   "cell_type": "code",
   "execution_count": 150,
   "metadata": {},
   "outputs": [
    {
     "data": {
      "text/markdown": [
       "**Background**  \n",
       "\n",
       "\n",
       "**Question**  \n",
       "You will be instructed to describe the kinetic term of Hamiltonian in the hole-doped AB-stacked MoTe2/WSe2 in the real space in the single-particle form.   \n",
       "The degrees of freedom of the system are: valley index (+K and -K valley), layer index (top and bottom layer). \n",
       "Express the Kinetic Hamiltonian $H_{Kinetic}(r)$ using $E_{\\tau,l}$ which are only on the diagonal terms, and arrange the basis in the order of (+K,bottom), (+K,top), (-K,bottom), (-K,top).\n",
       "\n",
       "Use the following conventions for the symbols:  \n",
       "$l$ : layer index   \n",
       "$t$ : top layer  \n",
       "$b$ : bottom layer  \n",
       "$\\tau$ : valley index  \n",
       "$+K$ : +K valley  \n",
       "$-K$ : -K valley  \n",
       "$k$ : momentum operator  \n",
       "$E_{l,\\tau}$ : energy dispersion for layer $l$ and valley $\\tau$  "
      ],
      "text/plain": [
       "<IPython.core.display.Markdown object>"
      ]
     },
     "execution_count": 150,
     "metadata": {},
     "output_type": "execute_result"
    }
   ],
   "source": [
    "Markdown(response[1]['content'])"
   ]
  },
  {
   "cell_type": "code",
   "execution_count": 141,
   "metadata": {},
   "outputs": [
    {
     "name": "stdout",
     "output_type": "stream",
     "text": [
      "The kinetic Hamiltonian in real space for the hole-doped AB-stacked MoTe2/WSe2 system can be written in the single-particle form as a 4x4 matrix, considering the degrees of freedom of the system. The basis is arranged in the order of (+K,bottom), (+K,top), (-K,bottom), (-K,top). \n",
      "\n",
      "The Hamiltonian $H_{Kinetic}(r)$ is then:\n",
      "\n",
      "$H_{Kinetic}(r) = \\begin{pmatrix} E_{b,+K} & 0 & 0 & 0 \\\\ 0 & E_{t,+K} & 0 & 0 \\\\ 0 & 0 & E_{b,-K} & 0 \\\\ 0 & 0 & 0 & E_{t,-K} \\end{pmatrix}$\n",
      "\n",
      "Here, $E_{l,\\tau}$ represents the energy dispersion for layer $l$ and valley $\\tau$. The diagonal terms of the Hamiltonian matrix represent the kinetic energy in each state. The off-diagonal terms are zero, indicating no coupling between different states in the kinetic term.\n"
     ]
    }
   ],
   "source": [
    "print(response)"
   ]
  },
  {
   "cell_type": "markdown",
   "metadata": {},
   "source": [
    "## Construct Kinetic Hamiltonian (continuum version, single-particle)"
   ]
  },
  {
   "cell_type": "code",
   "execution_count": 157,
   "metadata": {},
   "outputs": [],
   "source": [
    "summarization=''\n",
    "prompt=prompts[0]['content']\n",
    "response=solver(summarization=summarization, prompt=prompt)\n",
    "Markdown(response)"
   ]
  },
  {
   "cell_type": "markdown",
   "metadata": {},
   "source": [
    "## Define each term in Kinetic Hamiltonian (continuum version)\n"
   ]
  },
  {
   "cell_type": "code",
   "execution_count": 159,
   "metadata": {},
   "outputs": [],
   "source": [
    "summarization=summarizer(summarization=summarization, prompt=prompt, response=response)\n",
    "Markdown(summarization)"
   ]
  },
  {
   "cell_type": "code",
   "execution_count": 161,
   "metadata": {},
   "outputs": [],
   "source": [
    "prompt=prompts[1]['content']\n",
    "response=solver(summarization=summarization, prompt=prompt)\n",
    "Markdown(response)"
   ]
  },
  {
   "cell_type": "markdown",
   "metadata": {},
   "source": [
    "## Construct Potential Hamiltonian (continuum version)"
   ]
  },
  {
   "cell_type": "code",
   "execution_count": 163,
   "metadata": {},
   "outputs": [
    {
     "data": {
      "text/markdown": [
       "The problem involves the kinetic term of Hamiltonian in the hole-doped AB-stacked MoTe2/WSe2 in real space. The system's degrees of freedom are the valley index (+K and -K valley) and layer index (top and bottom layer). The Kinetic Hamiltonian $H_{Kinetic}(r)$ is expressed as a 4x4 matrix with diagonal terms $E_{\\tau,l}$, representing the energy dispersion for layer $l$ and valley $\\tau$. The off-diagonal elements are zero, indicating no coupling between different states in the kinetic term.\n",
       "\n",
       "The energy dispersion for free holes in each layer and valley is given by $E_{l,\\tau}(k)= -\\frac{\\hbar^2 k^2}{2 m_l}$. For the top layer, there is a shift of momentum $k$ to make the band bottom at $\\tilde{\\tau}\\kappa$, where $\\tilde{\\tau}$ is +1 for $\\tau=+K$ and -1 for $\\tau=-K$. Therefore, the energy dispersion for the top layer is $E_{\\tau,t}(k)= -\\frac{\\hbar^2 (k-\\tilde{\\tau}\\kappa)^2}{2 m_t}$.\n",
       "\n",
       "Substituting these into the kinetic Hamiltonian, we get:\n",
       "\n",
       "$H_{Kinetic}(r) = \\begin{pmatrix} -\\frac{\\hbar^2 k^2}{2 m_b} & 0 & 0 & 0 \\\\ 0 & -\\frac{\\hbar^2 (k-\\tilde{\\tau}\\kappa)^2}{2 m_t} & 0 & 0 \\\\ 0 & 0 & -\\frac{\\hbar^2 k^2}{2 m_b} & 0 \\\\ 0 & 0 & 0 & -\\frac{\\hbar^2 (k+\\tilde{\\tau}\\kappa)^2}{2 m_t} \\end{pmatrix}$\n",
       "\n",
       "where $k=-i \\partial_r$ is the momentum operator in real space.\n",
       "\n",
       "Use the following conventions for the symbols:  \n",
       "$l$ : layer index   \n",
       "$t$ : top layer  \n",
       "$b$ : bottom layer  \n",
       "$\\tau$ : valley index  \n",
       "$+K$ : +K valley  \n",
       "$-K$ : -K valley  \n",
       "$k$ : momentum operator  \n",
       "$E_{\\tau,l}$ : energy dispersion for layer $l$ and valley $\\tau$\n",
       "$k$ : momentum operator  \n",
       "$r$ : real space operator  \n",
       "$m_l$ : the effective mass for layer $l$  \n",
       "$\\tilde{\\tau}$ : takes value of +1 for $\\tau=+K$ and -1 for $\\tau=-K$  \n",
       "$\\pm\\kappa$ : corners of monolayer moire Brillouin zone"
      ],
      "text/plain": [
       "<IPython.core.display.Markdown object>"
      ]
     },
     "execution_count": 163,
     "metadata": {},
     "output_type": "execute_result"
    }
   ],
   "source": [
    "summarization=summarizer(summarization=summarization, prompt=prompt, response=response)\n",
    "Markdown(summarization)"
   ]
  },
  {
   "cell_type": "code",
   "execution_count": 164,
   "metadata": {},
   "outputs": [
    {
     "data": {
      "text/markdown": [
       "The potential Hamiltonian $H_{Potential}(r)$ can be expressed as a 4x4 matrix in real space, similar to the kinetic Hamiltonian. Each 2x2 block corresponds to a valley, with the diagonal elements representing the intralayer potential and the off-diagonal elements representing the interlayer potential. The potential Hamiltonian is given by:\n",
       "\n",
       "$H_{Potential}(r) = \\begin{pmatrix} \\Delta_b(r) & \\Delta_{T,+K}(r) & 0 & 0 \\\\ \\Delta_{T,+K}^*(r) & \\Delta_t(r) & 0 & 0 \\\\ 0 & 0 & \\Delta_b(r) & \\Delta_{T,-K}(r) \\\\ 0 & 0 & \\Delta_{T,-K}^*(r) & \\Delta_t(r) \\end{pmatrix}$\n",
       "\n",
       "where $\\Delta_b(r)$ and $\\Delta_t(r)$ are the intralayer potentials for the bottom and top layers respectively, $\\Delta_{T,+K}(r)$ and $\\Delta_{T,-K}(r)$ are the interlayer potentials for the +K and -K valleys respectively, and the asterisk denotes the complex conjugate, ensuring the hermiticity of the Hamiltonian. The zero elements represent the absence of hybridization between the +K and -K valleys."
      ],
      "text/plain": [
       "<IPython.core.display.Markdown object>"
      ]
     },
     "execution_count": 164,
     "metadata": {},
     "output_type": "execute_result"
    }
   ],
   "source": [
    "prompt=prompts[2]['content']\n",
    "response=solver(summarization=summarization, prompt=prompt)\n",
    "Markdown(response)"
   ]
  },
  {
   "cell_type": "markdown",
   "metadata": {},
   "source": [
    "## Define each term in Potential Hamiltonian (continuum version)"
   ]
  },
  {
   "cell_type": "code",
   "execution_count": 165,
   "metadata": {},
   "outputs": [
    {
     "data": {
      "text/markdown": [
       "The problem discusses the kinetic term of Hamiltonian in the hole-doped AB-stacked MoTe2/WSe2 in real space. The kinetic Hamiltonian is expressed as a 4x4 matrix with diagonal terms representing the energy dispersion for each layer and valley. The energy dispersion for free holes in each layer and valley is given by $E_{l,\\tau}(k)= -\\frac{\\hbar^2 k^2}{2 m_l}$. For the top layer, there is a shift of momentum $k$ to make the band bottom at $\\tilde{\\tau}\\kappa$. The kinetic Hamiltonian is then given by:\n",
       "\n",
       "$H_{Kinetic}(r) = \\begin{pmatrix} -\\frac{\\hbar^2 k^2}{2 m_b} & 0 & 0 & 0 \\\\ 0 & -\\frac{\\hbar^2 (k-\\tilde{\\tau}\\kappa)^2}{2 m_t} & 0 & 0 \\\\ 0 & 0 & -\\frac{\\hbar^2 k^2}{2 m_b} & 0 \\\\ 0 & 0 & 0 & -\\frac{\\hbar^2 (k+\\tilde{\\tau}\\kappa)^2}{2 m_t} \\end{pmatrix}$\n",
       "\n",
       "The potential Hamiltonian $H_{Potential}(r)$ is a 4x4 matrix in real space, with each 2x2 block corresponding to a valley. The diagonal elements represent the intralayer potential and the off-diagonal elements represent the interlayer potential. The potential Hamiltonian is given by:\n",
       "\n",
       "$H_{Potential}(r) = \\begin{pmatrix} \\Delta_b(r) & \\Delta_{T,+K}(r) & 0 & 0 \\\\ \\Delta_{T,+K}^*(r) & \\Delta_t(r) & 0 & 0 \\\\ 0 & 0 & \\Delta_b(r) & \\Delta_{T,-K}(r) \\\\ 0 & 0 & \\Delta_{T,-K}^*(r) & \\Delta_t(r) \\end{pmatrix}$\n",
       "\n",
       "where $\\Delta_b(r)$ and $\\Delta_t(r)$ are the intralayer potentials for the bottom and top layers respectively, $\\Delta_{T,+K}(r)$ and $\\Delta_{T,-K}(r)$ are the interlayer potentials for the +K and -K valleys respectively. The zero elements represent the absence of hybridization between the +K and -K valleys.\n",
       "\n",
       "Use the following conventions for the symbols:  \n",
       "$l$ : layer index   \n",
       "$t$ : top layer  \n",
       "$b$ : bottom layer  \n",
       "$\\tau$ : valley index  \n",
       "$+K$ : +K valley  \n",
       "$-K$ : -K valley  \n",
       "$k$ : momentum operator  \n",
       "$E_{\\tau,l}$ : energy dispersion for layer $l$ and valley $\\tau$\n",
       "$k$ : momentum operator  \n",
       "$r$ : real space operator  \n",
       "$m_l$ : the effective mass for layer $l$  \n",
       "$\\tilde{\\tau}$ : takes value of +1 for $\\tau=+K$ and -1 for $\\tau=-K$  \n",
       "$\\pm\\kappa$ : corners of monolayer moire Brillouin zone\n",
       "$\\Delta_l$: intralayer potential for layer index $l$  \n",
       "$\\Delta_{T,\\tau}$ : interlayer tunneling at valley index $\\tau$  \n",
       "$H_{Potential}(r)$ : potential term of Hamiltonian in the real space in the single-particle form."
      ],
      "text/plain": [
       "<IPython.core.display.Markdown object>"
      ]
     },
     "execution_count": 165,
     "metadata": {},
     "output_type": "execute_result"
    }
   ],
   "source": [
    "summarization=summarizer(summarization=summarization, prompt=prompt, response=response)\n",
    "Markdown(summarization)"
   ]
  },
  {
   "cell_type": "code",
   "execution_count": 166,
   "metadata": {},
   "outputs": [
    {
     "data": {
      "text/markdown": [
       "The intralayer potential for the top layer $\\Delta_t(r)$ is given by $V_{zt}$.\n",
       "\n",
       "The intralayer potential for the bottom layer $\\Delta_b(r)$ is given by $2V_b\\sum_{j=1,3,5} \\cos(g_j \\cdot r  +\\psi_b)$.\n",
       "\n",
       "The interlayer tunneling at the +K valley $\\Delta_{T,+K}(r)$ is given by $w(1+\\omega e^{i g_2 \\cdot r} + \\omega^2 e^{i g_3 \\cdot r})$.\n",
       "\n",
       "The interlayer tunneling at the -K valley $\\Delta_{T,-K}(r)$ is given by $w(1+\\omega^{-1}e^{-i g_2 \\cdot r} + \\omega^{-2} e^{-i g_3 \\cdot r})$.\n",
       "\n",
       "Substituting these expressions into the potential Hamiltonian $H_{Potential}(r)$, we get:\n",
       "\n",
       "$H_{Potential}(r) = \\begin{pmatrix} 2V_b\\sum_{j=1,3,5} \\cos(g_j \\cdot r  +\\psi_b) & w(1+\\omega e^{i g_2 \\cdot r} + \\omega^2 e^{i g_3 \\cdot r}) & 0 & 0 \\\\ w(1+\\omega^{-1}e^{-i g_2 \\cdot r} + \\omega^{-2} e^{-i g_3 \\cdot r}) & V_{zt} & 0 & 0 \\\\ 0 & 0 & 2V_b\\sum_{j=1,3,5} \\cos(g_j \\cdot r  +\\psi_b) & w(1+\\omega^{-1}e^{-i g_2 \\cdot r} + \\omega^{-2} e^{-i g_3 \\cdot r}) \\\\ 0 & 0 & w(1+\\omega e^{i g_2 \\cdot r} + \\omega^2 e^{i g_3 \\cdot r}) & V_{zt} \\end{pmatrix}$"
      ],
      "text/plain": [
       "<IPython.core.display.Markdown object>"
      ]
     },
     "execution_count": 166,
     "metadata": {},
     "output_type": "execute_result"
    }
   ],
   "source": [
    "prompt=prompts[3]['content']\n",
    "response=solver(summarization=summarization, prompt=prompt)\n",
    "Markdown(response)"
   ]
  },
  {
   "cell_type": "markdown",
   "metadata": {},
   "source": [
    "## Convert from single-particle to second-quantized form, return in matrix\n"
   ]
  },
  {
   "cell_type": "code",
   "execution_count": 167,
   "metadata": {},
   "outputs": [
    {
     "data": {
      "text/markdown": [
       "The problem discusses the kinetic and potential terms of the Hamiltonian in the hole-doped AB-stacked MoTe2/WSe2 in real space. The kinetic Hamiltonian is a 4x4 matrix with diagonal terms representing the energy dispersion for each layer and valley, given by $E_{l,\\tau}(k)= -\\frac{\\hbar^2 k^2}{2 m_l}$. The potential Hamiltonian is also a 4x4 matrix, with each 2x2 block corresponding to a valley. The diagonal elements represent the intralayer potential and the off-diagonal elements represent the interlayer potential. \n",
       "\n",
       "The question asks to construct each term of the potential Hamiltonian, namely, the intralayer potential $\\Delta_l(r)$ and interlayer tunneling $\\Delta_{T,\\tau}(r)$. The intralayer potential for the top layer $\\Delta_t(r)$ is given by $V_{zt}$, and for the bottom layer $\\Delta_b(r)$ is given by $2V_b\\sum_{j=1,3,5} \\cos(g_j \\cdot r  +\\psi_b)$. The interlayer tunneling at the +K valley $\\Delta_{T,+K}(r)$ is given by $w(1+\\omega e^{i g_2 \\cdot r} + \\omega^2 e^{i g_3 \\cdot r})$, and at the -K valley $\\Delta_{T,-K}(r)$ is given by $w(1+\\omega^{-1}e^{-i g_2 \\cdot r} + \\omega^{-2} e^{-i g_3 \\cdot r})$. Substituting these expressions into the potential Hamiltonian $H_{Potential}(r)$ gives the final form of the potential Hamiltonian.\n",
       "\n",
       "Use the following conventions for the symbols:  \n",
       "$l$ : layer index   \n",
       "$t$ : top layer  \n",
       "$b$ : bottom layer  \n",
       "$\\tau$ : valley index  \n",
       "$+K$ : +K valley  \n",
       "$-K$ : -K valley  \n",
       "$k$ : momentum operator  \n",
       "$E_{\\tau,l}$ : energy dispersion for layer $l$ and valley $\\tau$\n",
       "$k$ : momentum operator  \n",
       "$r$ : real space operator  \n",
       "$m_l$ : the effective mass for layer $l$  \n",
       "$\\tilde{\\tau}$ : takes value of +1 for $\\tau=+K$ and -1 for $\\tau=-K$  \n",
       "$\\pm\\kappa$ : corners of monolayer moire Brillouin zone\n",
       "$\\Delta_l$: intralayer potential for layer index $l$  \n",
       "$\\Delta_{T,\\tau}$ : interlayer tunneling at valley index $\\tau$  \n",
       "$H_{Potential}(r)$ : potential term of Hamiltonian in the real space in the single-particle form.\n",
       "$V_b$ : bottom layer potential strength  \n",
       "$\\psi_b$ : bottom layer potential phase  \n",
       "$g_j$ : reciprocal unit vector on the first shell corresponding in the moire Brillouin zone, j varies from 1 to 6.  \n",
       "$r$ : real space position  \n",
       "$\\omega$ : phase factor to respect the threefold rotational symmetry, which is $e^{i2\\pi/3}$, the hermitian conjugate is $\\omega^{-1}=e^{-i2\\pi/3}$  \n",
       "$w$ : interlayer tunneling strength"
      ],
      "text/plain": [
       "<IPython.core.display.Markdown object>"
      ]
     },
     "execution_count": 167,
     "metadata": {},
     "output_type": "execute_result"
    }
   ],
   "source": [
    "summarization=summarizer(summarization=summarization, prompt=prompt, response=response)\n",
    "Markdown(summarization)"
   ]
  },
  {
   "cell_type": "code",
   "execution_count": 168,
   "metadata": {},
   "outputs": [
    {
     "data": {
      "text/markdown": [
       "The noninteracting Hamiltonian in the real space $H^{0}(r)$ is given by the sum of the kinetic and potential Hamiltonians. The kinetic Hamiltonian is a 4x4 matrix with diagonal terms representing the energy dispersion for each layer and valley, and the potential Hamiltonian is also a 4x4 matrix, with each 2x2 block corresponding to a valley. The diagonal elements represent the intralayer potential and the off-diagonal elements represent the interlayer potential.\n",
       "\n",
       "The electron annihilation operator at valley index $\\tau$ and layer index $l$ is denoted by $\\psi_{\\tau,l}(r)$, and the spinor containing all annihilation operators $\\psi_{\\tau,l}(r)$ is denoted by $\\vec{\\psi}(r)$.\n",
       "\n",
       "The second quantized form of the total noninteracting Hamiltonian $\\hat{H}^{0}$ can be obtained by sandwiching the single-particle Hamiltonian $H^{0}(r)$ between the creation and annihilation operators, and summing over the real space position $r$.\n",
       "\n",
       "Therefore, the second quantized form of the total noninteracting Hamiltonian is given by:\n",
       "\n",
       "$\\hat{H}^{0} = \\sum_{r} \\vec{\\psi}^\\dagger(r) H^{0}(r) \\vec{\\psi}(r)$\n",
       "\n",
       "where $\\vec{\\psi}^\\dagger(r)$ is the hermitian conjugate of $\\vec{\\psi}(r)$, and $H^{0}(r)$ is the single-particle noninteracting Hamiltonian in the real space."
      ],
      "text/plain": [
       "<IPython.core.display.Markdown object>"
      ]
     },
     "execution_count": 168,
     "metadata": {},
     "output_type": "execute_result"
    }
   ],
   "source": [
    "prompt=prompts[4]['content']\n",
    "response=solver(summarization=summarization, prompt=prompt)\n",
    "Markdown(response)"
   ]
  },
  {
   "cell_type": "markdown",
   "metadata": {},
   "source": [
    "## Convert from single-particle to second-quantized form, return in summation (expand the matrix)\n"
   ]
  },
  {
   "cell_type": "code",
   "execution_count": 169,
   "metadata": {},
   "outputs": [
    {
     "data": {
      "text/markdown": [
       "The problem discusses the kinetic and potential terms of the Hamiltonian in the hole-doped AB-stacked MoTe2/WSe2 in real space. The kinetic Hamiltonian is a 4x4 matrix with diagonal terms representing the energy dispersion for each layer and valley, given by $E_{l,\\tau}(k)= -\\frac{\\hbar^2 k^2}{2 m_l}$. The potential Hamiltonian is also a 4x4 matrix, with each 2x2 block corresponding to a valley. The diagonal elements represent the intralayer potential and the off-diagonal elements represent the interlayer potential. \n",
       "\n",
       "The question asks to construct the second quantized form of the total noninteracting Hamiltonian in the real space. The noninteracting Hamiltonian in the real space $H^{0}(r)$ is the sum of Kinetic Hamiltonian $H_{Kinetic}(r)$ and Potential Hamiltonian $H_{Potential}(r)$. The second quantized form of the total noninteracting Hamiltonian $\\hat{H}^{0}$ can be obtained by sandwiching the single-particle Hamiltonian $H^{0}(r)$ between the creation and annihilation operators, and summing over the real space position $r$. Therefore, the second quantized form of the total noninteracting Hamiltonian is given by: $\\hat{H}^{0} = \\sum_{r} \\vec{\\psi}^\\dagger(r) H^{0}(r) \\vec{\\psi}(r)$ where $\\vec{\\psi}^\\dagger(r)$ is the hermitian conjugate of $\\vec{\\psi}(r)$, and $H^{0}(r)$ is the single-particle noninteracting Hamiltonian in the real space.\n",
       "\n",
       "Use the following conventions for the symbols:  \n",
       "$l$ : layer index   \n",
       "$t$ : top layer  \n",
       "$b$ : bottom layer  \n",
       "$\\tau$ : valley index  \n",
       "$+K$ : +K valley  \n",
       "$-K$ : -K valley  \n",
       "$k$ : momentum operator  \n",
       "$E_{\\tau,l}$ : energy dispersion for layer $l$ and valley $\\tau$\n",
       "$k$ : momentum operator  \n",
       "$r$ : real space operator  \n",
       "$m_l$ : the effective mass for layer $l$  \n",
       "$\\tilde{\\tau}$ : takes value of +1 for $\\tau=+K$ and -1 for $\\tau=-K$  \n",
       "$\\pm\\kappa$ : corners of monolayer moire Brillouin zone\n",
       "$\\Delta_l$: intralayer potential for layer index $l$  \n",
       "$\\Delta_{T,\\tau}$ : interlayer tunneling at valley index $\\tau$  \n",
       "$H_{Potential}(r)$ : potential term of Hamiltonian in the real space in the single-particle form.\n",
       "$V_b$ : bottom layer potential strength  \n",
       "$\\psi_b$ : bottom layer potential phase  \n",
       "$g_j$ : reciprocal unit vector on the first shell corresponding in the moire Brillouin zone, j varies from 1 to 6.  \n",
       "$r$ : real space position  \n",
       "$\\omega$ : phase factor to respect the threefold rotational symmetry, which is $e^{i2\\pi/3}$, the hermitian conjugate is $\\omega^{-1}=e^{-i2\\pi/3}$  \n",
       "$w$ : interlayer tunneling strength\n",
       "$\\psi_{\\tau,l}(r)$ : electron annihilation operator at valley index $\\tau$ and layer index $l$  \n",
       "$\\vec{\\psi}(r)$ : spinor containing all annihilation operators $\\psi_{\\tau,l}(r)$ following the same order of $H^{0}(r)$  \n",
       "$H^{0}(r)$ : single-particle noninteracting Hamiltonian in the real space  \n",
       "$\\hat{H}^{0}$ : total noninteracting Hamiltonian in the second quantized form "
      ],
      "text/plain": [
       "<IPython.core.display.Markdown object>"
      ]
     },
     "execution_count": 169,
     "metadata": {},
     "output_type": "execute_result"
    }
   ],
   "source": [
    "summarization=summarizer(summarization=summarization, prompt=prompt, response=response)\n",
    "Markdown(summarization)"
   ]
  },
  {
   "cell_type": "code",
   "execution_count": 170,
   "metadata": {},
   "outputs": [
    {
     "data": {
      "text/markdown": [
       "The second-quantized form of the Hamiltonian $\\hat{H}^{0}$ can be expanded as follows:\n",
       "\n",
       "$\\hat{H}^{0} = \\int dr \\vec{\\psi}^\\dagger(r) H^{0}(r) \\vec{\\psi}(r)$\n",
       "\n",
       "where $\\vec{\\psi}(r) = \\begin{pmatrix} \\psi_{+K,b}(r) \\\\ \\psi_{+K,t}(r) \\\\ \\psi_{-K,b}(r) \\\\ \\psi_{-K,t}(r) \\end{pmatrix}$ and $\\vec{\\psi}^\\dagger(r) = \\begin{pmatrix} \\psi_{+K,b}^\\dagger(r) & \\psi_{+K,t}^\\dagger(r) & \\psi_{-K,b}^\\dagger(r) & \\psi_{-K,t}^\\dagger(r) \\end{pmatrix}$.\n",
       "\n",
       "We can then expand $\\hat{H}^{0}$ as:\n",
       "\n",
       "$\\hat{H}^{0} = \\int dr \\sum_{\\tau_1,l_1,\\tau_2,l_2} \\psi_{\\tau_1,l_1}^\\dagger(r) H^{0}_{\\tau_1,l_1,\\tau_2,l_2}(r) \\psi_{\\tau_2,l_2}(r)$\n",
       "\n",
       "where $\\tau_1, \\tau_2 \\in \\{+K, -K\\}$ and $l_1, l_2 \\in \\{t, b\\}$.\n",
       "\n",
       "Given the form of $H^{0}(r)$, we can see that the off-diagonal elements of the kinetic term are zero, and the off-diagonal elements of the potential term are zero when $\\tau_1 \\neq \\tau_2$ or $l_1 = l_2$. Therefore, we can simplify the above expression to:\n",
       "\n",
       "$\\hat{H}^{0} = \\int dr \\sum_{\\tau,l} \\psi_{\\tau,l}^\\dagger(r) H^{0}_{\\tau,l,\\tau,l}(r) \\psi_{\\tau,l}(r) + \\int dr \\sum_{\\tau} \\left( \\psi_{\\tau,b}^\\dagger(r) H^{0}_{\\tau,b,\\tau,t}(r) \\psi_{\\tau,t}(r) + \\psi_{\\tau,t}^\\dagger(r) H^{0}_{\\tau,t,\\tau,b}(r) \\psi_{\\tau,b}(r) \\right)$\n",
       "\n",
       "where $\\tau \\in \\{+K, -K\\}$ and $l \\in \\{t, b\\}$."
      ],
      "text/plain": [
       "<IPython.core.display.Markdown object>"
      ]
     },
     "execution_count": 170,
     "metadata": {},
     "output_type": "execute_result"
    }
   ],
   "source": [
    "prompt=prompts[5]['content']\n",
    "response=solver(summarization=summarization, prompt=prompt)\n",
    "Markdown(response)"
   ]
  },
  {
   "cell_type": "markdown",
   "metadata": {},
   "source": [
    "## Convert noninteracting Hamiltonian in real space to momentum space (continuum version)\n"
   ]
  },
  {
   "cell_type": "code",
   "execution_count": 171,
   "metadata": {},
   "outputs": [
    {
     "data": {
      "text/markdown": [
       "The problem discusses the kinetic and potential terms of the Hamiltonian in the hole-doped AB-stacked MoTe2/WSe2 in real space. The kinetic Hamiltonian is a 4x4 matrix with diagonal terms representing the energy dispersion for each layer and valley, given by $E_{l,\\tau}(k)= -\\frac{\\hbar^2 k^2}{2 m_l}$. The potential Hamiltonian is also a 4x4 matrix, with each 2x2 block corresponding to a valley. The diagonal elements represent the intralayer potential and the off-diagonal elements represent the interlayer potential. \n",
       "\n",
       "The question asks to construct the second quantized form of the total noninteracting Hamiltonian in the real space. The noninteracting Hamiltonian in the real space $H^{0}(r)$ is the sum of Kinetic Hamiltonian $H_{Kinetic}(r)$ and Potential Hamiltonian $H_{Potential}(r)$. The second quantized form of the total noninteracting Hamiltonian $\\hat{H}^{0}$ can be obtained by sandwiching the single-particle Hamiltonian $H^{0}(r)$ between the creation and annihilation operators, and summing over the real space position $r$. Therefore, the second quantized form of the total noninteracting Hamiltonian is given by: $\\hat{H}^{0} = \\sum_{r} \\vec{\\psi}^\\dagger(r) H^{0}(r) \\vec{\\psi}(r)$ where $\\vec{\\psi}^\\dagger(r)$ is the hermitian conjugate of $\\vec{\\psi}(r)$, and $H^{0}(r)$ is the single-particle noninteracting Hamiltonian in the real space.\n",
       "\n",
       "The second-quantized form of the Hamiltonian $\\hat{H}^{0}$ can be expanded as follows:\n",
       "\n",
       "$\\hat{H}^{0} = \\int dr \\vec{\\psi}^\\dagger(r) H^{0}(r) \\vec{\\psi}(r)$\n",
       "\n",
       "where $\\vec{\\psi}(r) = \\begin{pmatrix} \\psi_{+K,b}(r) \\\\ \\psi_{+K,t}(r) \\\\ \\psi_{-K,b}(r) \\\\ \\psi_{-K,t}(r) \\end{pmatrix}$ and $\\vec{\\psi}^\\dagger(r) = \\begin{pmatrix} \\psi_{+K,b}^\\dagger(r) & \\psi_{+K,t}^\\dagger(r) & \\psi_{-K,b}^\\dagger(r) & \\psi_{-K,t}^\\dagger(r) \\end{pmatrix}$.\n",
       "\n",
       "We can then expand $\\hat{H}^{0}$ as:\n",
       "\n",
       "$\\hat{H}^{0} = \\int dr \\sum_{\\tau_1,l_1,\\tau_2,l_2} \\psi_{\\tau_1,l_1}^\\dagger(r) H^{0}_{\\tau_1,l_1,\\tau_2,l_2}(r) \\psi_{\\tau_2,l_2}(r)$\n",
       "\n",
       "where $\\tau_1, \\tau_2 \\in \\{+K, -K\\}$ and $l_1, l_2 \\in \\{t, b\\}$.\n",
       "\n",
       "Given the form of $H^{0}(r)$, we can see that the off-diagonal elements of the kinetic term are zero, and the off-diagonal elements of the potential term are zero when $\\tau_1 \\neq \\tau_2$ or $l_1 = l_2$. Therefore, we can simplify the above expression to:\n",
       "\n",
       "$\\hat{H}^{0} = \\int dr \\sum_{\\tau,l} \\psi_{\\tau,l}^\\dagger(r) H^{0}_{\\tau,l,\\tau,l}(r) \\psi_{\\tau,l}(r) + \\int dr \\sum_{\\tau} \\left( \\psi_{\\tau,b}^\\dagger(r) H^{0}_{\\tau,b,\\tau,t}(r) \\psi_{\\tau,t}(r) + \\psi_{\\tau,t}^\\dagger(r) H^{0}_{\\tau,t,\\tau,b}(r) \\psi_{\\tau,b}(r) \\right)$\n",
       "\n",
       "where $\\tau \\in \\{+K, -K\\}$ and $l \\in \\{t, b\\}$.\n",
       "\n",
       "Use the following conventions for the symbols:  \n",
       "$l$ : layer index   \n",
       "$t$ : top layer  \n",
       "$b$ : bottom layer  \n",
       "$\\tau$ : valley index  \n",
       "$+K$ : +K valley  \n",
       "$-K$ : -K valley  \n",
       "$k$ : momentum operator  \n",
       "$E_{\\tau,l}$ : energy dispersion for layer $l$ and valley $\\tau$\n",
       "$k$ : momentum operator  \n",
       "$r$ : real space operator  \n",
       "$m_l$ : the effective mass for layer $l$  \n",
       "$\\tilde{\\tau}$ : takes value of +1 for $\\tau=+K$ and -1 for $\\tau=-K$  \n",
       "$\\pm\\kappa$ : corners of monolayer moire Brillouin zone\n",
       "$\\Delta_l$: intralayer potential for layer index $l$  \n",
       "$\\Delta_{T,\\tau}$ : interlayer tunneling at valley index $\\tau$  \n",
       "$H_{Potential}(r)$ : potential term of Hamiltonian in the real space in the single-particle form.\n",
       "$V_b$ : bottom layer potential strength  \n",
       "$\\psi_b$ : bottom layer potential phase  \n",
       "$g_j$ : reciprocal unit vector on the first shell corresponding in the moire Brillouin zone, j varies from 1 to 6.  \n",
       "$r$ : real space position  \n",
       "$\\omega$ : phase factor to respect the threefold rotational symmetry, which is $e^{i2\\pi/3}$, the hermitian conjugate is $\\omega^{-1}=e^{-i2\\pi/3}$  \n",
       "$w$ : interlayer tunneling strength\n",
       "$\\psi_{\\tau,l}(r)$ : electron annihilation operator at valley index $\\tau$ and layer index $l$  \n",
       "$\\vec{\\psi}(r)$ : spinor containing all annihilation operators $\\psi_{\\tau,l}(r)$ following the same order of $H^{0}(r)$  \n",
       "$H^{0}(r)$ : single-particle noninteracting Hamiltonian in the real space  \n",
       "$\\hat{H}^{0}$ : total noninteracting Hamiltonian in the second quantized form \n",
       "$H^{0}_{\\tau_1,l_1,\\tau_2,l_2}(r)$ : the matrix element of single-particle noninteracting Hamiltonian in the real space  "
      ],
      "text/plain": [
       "<IPython.core.display.Markdown object>"
      ]
     },
     "execution_count": 171,
     "metadata": {},
     "output_type": "execute_result"
    }
   ],
   "source": [
    "summarization=summarizer(summarization=summarization, prompt=prompt, response=response)\n",
    "Markdown(summarization)"
   ]
  },
  {
   "cell_type": "code",
   "execution_count": 172,
   "metadata": {},
   "outputs": [
    {
     "data": {
      "text/markdown": [
       "Following the example, we can apply the Fourier transformation to the total noninteracting Hamiltonian $\\hat{H}^{0}$ in the second quantized form. \n",
       "\n",
       "First, we define the Fourier transformation of $\\psi_{\\tau,l}^\\dagger(r)$ and $\\psi_{\\tau,l}(r)$ as:\n",
       "\n",
       "$c_{\\tau,l}^\\dagger(k)=\\frac{1}{\\sqrt{V}} \\int dr \\psi_{\\tau,l}^\\dagger(r) e^{i k \\cdot r}$\n",
       "\n",
       "$c_{\\tau,l}(k)=\\frac{1}{\\sqrt{V}} \\int dr \\psi_{\\tau,l}(r) e^{-i k \\cdot r}$\n",
       "\n",
       "This leads to the inverse Fourier transformation:\n",
       "\n",
       "$\\psi_{\\tau,l}^\\dagger(r) = \\frac{1}{\\sqrt{V}} \\sum_{k_1} c_{\\tau,l}^\\dagger(k_1) e^{-i k_1 \\cdot r}$\n",
       "\n",
       "$\\psi_{\\tau,l}(r) = \\frac{1}{\\sqrt{V}} \\sum_{k_2} c_{\\tau,l}(k_2) e^{i k_2 \\cdot r}$\n",
       "\n",
       "Substituting these into $\\hat{H}^{0}$, we get:\n",
       "\n",
       "$\\hat{H}^{0} = \\int dr \\sum_{\\tau,l,k_1,k_2} c_{\\tau,l}^\\dagger(k_1) c_{\\tau,l}(k_2) \\frac{1}{V} e^{-i (k_1-k_2)\\cdot r} H^{0}_{\\tau,l,\\tau,l}(r) + \\int dr \\sum_{\\tau,k_1,k_2} \\left( c_{\\tau,b}^\\dagger(k_1) c_{\\tau,t}(k_2) \\frac{1}{V} e^{-i (k_1-k_2)\\cdot r} H^{0}_{\\tau,b,\\tau,t}(r) + c_{\\tau,t}^\\dagger(k_1) c_{\\tau,b}(k_2) \\frac{1}{V} e^{-i (k_1-k_2)\\cdot r} H^{0}_{\\tau,t,\\tau,b}(r) \\right)$\n",
       "\n",
       "We can then define the Fourier transformation of $H^{0}_{\\tau,l,\\tau,l}(r)$, $H^{0}_{\\tau,b,\\tau,t}(r)$, and $H^{0}_{\\tau,t,\\tau,b}(r)$ as:\n",
       "\n",
       "$H^{0}_{\\tau,l,\\tau,l}(k_1,k_2)=\\frac{1}{V} \\int dr e^{-i (k_1-k_2)\\cdot r} H^{0}_{\\tau,l,\\tau,l}(r)$\n",
       "\n",
       "$H^{0}_{\\tau,b,\\tau,t}(k_1,k_2)=\\frac{1}{V} \\int dr e^{-i (k_1-k_2)\\cdot r} H^{0}_{\\tau,b,\\tau,t}(r)$\n",
       "\n",
       "$H^{0}_{\\tau,t,\\tau,b}(k_1,k_2)=\\frac{1}{V} \\int dr e^{-i (k_1-k_2)\\cdot r} H^{0}_{\\tau,t,\\tau,b}(r)$\n",
       "\n",
       "Finally, we can write $\\hat{H}^{0}$ in terms of $c_{\\tau,l}^\\dagger(k)$ and $c_{\\tau,l}(k)$ as:\n",
       "\n",
       "$\\hat{H}^{0} = \\sum_{\\tau,l,k_1,k_2} c_{\\tau,l}^\\dagger(k_1) H^{0}_{\\tau,l,\\tau,l}(k_1,k_2) c_{\\tau,l}(k_2) + \\sum_{\\tau,k_1,k_2} \\left( c_{\\tau,b}^\\dagger(k_1) H^{0}_{\\tau,b,\\tau,t}(k_1,k_2) c_{\\tau,t}(k_2) + c_{\\tau,t}^\\dagger(k_1) H^{0}_{\\tau,t,\\tau,b}(k_1,k_2) c_{\\tau,b}(k_2) \\right)$\n",
       "\n",
       "where $\\tau \\in \\{+K, -K\\}$, $l \\in \\{t, b\\}$, and $k_1, k_2$ are summed over the extended Brillouin zone."
      ],
      "text/plain": [
       "<IPython.core.display.Markdown object>"
      ]
     },
     "execution_count": 172,
     "metadata": {},
     "output_type": "execute_result"
    }
   ],
   "source": [
    "prompt=prompts[6]['content']\n",
    "response=solver(summarization=summarization, prompt=prompt)\n",
    "Markdown(response)"
   ]
  },
  {
   "cell_type": "markdown",
   "metadata": {},
   "source": [
    "## Particle-hole transformation\n"
   ]
  },
  {
   "cell_type": "code",
   "execution_count": 173,
   "metadata": {},
   "outputs": [
    {
     "data": {
      "text/markdown": [
       "The problem discusses the kinetic and potential terms of the Hamiltonian in the hole-doped AB-stacked MoTe2/WSe2 in real space. The kinetic Hamiltonian is a 4x4 matrix with diagonal terms representing the energy dispersion for each layer and valley, given by $E_{l,\\tau}(k)= -\\frac{\\hbar^2 k^2}{2 m_l}$. The potential Hamiltonian is also a 4x4 matrix, with each 2x2 block corresponding to a valley. The diagonal elements represent the intralayer potential and the off-diagonal elements represent the interlayer potential. \n",
       "\n",
       "The question asks to construct the second quantized form of the total noninteracting Hamiltonian in the real space. The noninteracting Hamiltonian in the real space $H^{0}(r)$ is the sum of Kinetic Hamiltonian $H_{Kinetic}(r)$ and Potential Hamiltonian $H_{Potential}(r)$. The second quantized form of the total noninteracting Hamiltonian $\\hat{H}^{0}$ can be obtained by sandwiching the single-particle Hamiltonian $H^{0}(r)$ between the creation and annihilation operators, and summing over the real space position $r$. Therefore, the second quantized form of the total noninteracting Hamiltonian is given by: $\\hat{H}^{0} = \\sum_{r} \\vec{\\psi}^\\dagger(r) H^{0}(r) \\vec{\\psi}(r)$ where $\\vec{\\psi}^\\dagger(r)$ is the hermitian conjugate of $\\vec{\\psi}(r)$, and $H^{0}(r)$ is the single-particle noninteracting Hamiltonian in the real space.\n",
       "\n",
       "The task is to convert the total noninteracting Hamiltonian in the second quantized form from the basis in real space to the basis by momentum space. To do this, the Fourier transformation is applied to $\\psi_{\\tau,l}^\\dagger(r)$ in the real space to the $c_{\\tau,l}^\\dagger(k)$ in the momentum space, which is defined as $c_{\\tau,l}^\\dagger(k)= \\frac{1}{\\sqrt{V}} \\int dr \\psi_{\\tau,l}^\\dagger(r) e^{i k \\cdot r}$, where $r$ is integrated over the entire real space. The total noninteracting Hamiltonian $\\hat{H}^{0}$ is then expressed in terms of $c_{\\tau,l}^\\dagger(k)$. \n",
       "\n",
       "The Fourier transformation of $H^{0}_{\\tau,l,\\tau,l}(r)$, $H^{0}_{\\tau,b,\\tau,t}(r)$, and $H^{0}_{\\tau,t,\\tau,b}(r)$ is defined and the total noninteracting Hamiltonian $\\hat{H}^{0}$ is written in terms of $c_{\\tau,l}^\\dagger(k)$ and $c_{\\tau,l}(k)$ as:\n",
       "\n",
       "$\\hat{H}^{0} = \\sum_{\\tau,l,k_1,k_2} c_{\\tau,l}^\\dagger(k_1) H^{0}_{\\tau,l,\\tau,l}(k_1,k_2) c_{\\tau,l}(k_2) + \\sum_{\\tau,k_1,k_2} \\left( c_{\\tau,b}^\\dagger(k_1) H^{0}_{\\tau,b,\\tau,t}(k_1,k_2) c_{\\tau,t}(k_2) + c_{\\tau,t}^\\dagger(k_1) H^{0}_{\\tau,t,\\tau,b}(k_1,k_2) c_{\\tau,b}(k_2) \\right)$\n",
       "\n",
       "where $\\tau \\in \\{+K, -K\\}$, $l \\in \\{t, b\\}$, and $k_1, k_2$ are summed over the extended Brillouin zone.\n",
       "\n",
       "Use the following conventions for the symbols:  \n",
       "$l$ : layer index   \n",
       "$t$ : top layer  \n",
       "$b$ : bottom layer  \n",
       "$\\tau$ : valley index  \n",
       "$+K$ : +K valley  \n",
       "$-K$ : -K valley  \n",
       "$k$ : momentum operator  \n",
       "$E_{\\tau,l}$ : energy dispersion for layer $l$ and valley $\\tau$\n",
       "$k$ : momentum operator  \n",
       "$r$ : real space operator  \n",
       "$m_l$ : the effective mass for layer $l$  \n",
       "$\\tilde{\\tau}$ : takes value of +1 for $\\tau=+K$ and -1 for $\\tau=-K$  \n",
       "$\\pm\\kappa$ : corners of monolayer moire Brillouin zone\n",
       "$\\Delta_l$: intralayer potential for layer index $l$  \n",
       "$\\Delta_{T,\\tau}$ : interlayer tunneling at valley index $\\tau$  \n",
       "$H_{Potential}(r)$ : potential term of Hamiltonian in the real space in the single-particle form.\n",
       "$V_b$ : bottom layer potential strength  \n",
       "$\\psi_b$ : bottom layer potential phase  \n",
       "$g_j$ : reciprocal unit vector on the first shell corresponding in the moire Brillouin zone, j varies from 1 to 6.  \n",
       "$r$ : real space position  \n",
       "$\\omega$ : phase factor to respect the threefold rotational symmetry, which is $e^{i2\\pi/3}$, the hermitian conjugate is $\\omega^{-1}=e^{-i2\\pi/3}$  \n",
       "$w$ : interlayer tunneling strength\n",
       "$\\psi_{\\tau,l}(r)$ : electron annihilation operator at valley index $\\tau$ and layer index $l$  \n",
       "$\\vec{\\psi}(r)$ : spinor containing all annihilation operators $\\psi_{\\tau,l}(r)$ following the same order of $H^{0}(r)$  \n",
       "$H^{0}(r)$ : single-particle noninteracting Hamiltonian in the real space  \n",
       "$\\hat{H}^{0}$ : total noninteracting Hamiltonian in the second quantized form \n",
       "$H^{0}_{\\tau_1,l_1,\\tau_2,l_2}(r)$ : the matrix element of single-particle noninteracting Hamiltonian in the real space  \n",
       "$c_{l,\\tau}(k)$ : electron annihilation operator at momentum $k$, layer $l$, and valley $\\tau$  \n",
       "$c_{l,\\tau}^\\dagger(k)$ : electron creation operator at momentum $k$, layer $l$, and valley $\\tau$  \n",
       "$V$ : area of unit cell in the real space  "
      ],
      "text/plain": [
       "<IPython.core.display.Markdown object>"
      ]
     },
     "execution_count": 173,
     "metadata": {},
     "output_type": "execute_result"
    }
   ],
   "source": [
    "summarization=summarizer(summarization=summarization, prompt=prompt, response=response)\n",
    "Markdown(summarization)"
   ]
  },
  {
   "cell_type": "code",
   "execution_count": 174,
   "metadata": {},
   "outputs": [
    {
     "data": {
      "text/markdown": [
       "Following the example, the Hamiltonian $\\hat{H}^{0}$ after the particle-hole transformation is:\n",
       "\n",
       "$\\hat{H}^{0} = \\sum_{\\tau,l,k_1,k_2} b_{\\tau,l}(k_1) H^{0}_{\\tau,l,\\tau,l}(k_1,k_2) b_{\\tau,l}^\\dagger(k_2) + \\sum_{\\tau,k_1,k_2} \\left( b_{\\tau,b}(k_1) H^{0}_{\\tau,b,\\tau,t}(k_1,k_2) b_{\\tau,t}^\\dagger(k_2) + b_{\\tau,t}(k_1) H^{0}_{\\tau,t,\\tau,b}(k_1,k_2) b_{\\tau,b}^\\dagger(k_2) \\right)$\n",
       "\n",
       "where $\\tau \\in \\{+K, -K\\}$, $l \\in \\{t, b\\}$, and $k_1, k_2$ are summed over the extended Brillouin zone."
      ],
      "text/plain": [
       "<IPython.core.display.Markdown object>"
      ]
     },
     "execution_count": 174,
     "metadata": {},
     "output_type": "execute_result"
    }
   ],
   "source": [
    "prompt=prompts[7]['content']\n",
    "response=solver(summarization=summarization, prompt=prompt)\n",
    "Markdown(response)"
   ]
  },
  {
   "cell_type": "markdown",
   "metadata": {},
   "source": [
    "## Simplify the Hamiltonian in the particle-hole basis\n"
   ]
  },
  {
   "cell_type": "code",
   "execution_count": 175,
   "metadata": {},
   "outputs": [
    {
     "data": {
      "text/markdown": [
       "The problem discusses the kinetic and potential terms of the Hamiltonian in the hole-doped AB-stacked MoTe2/WSe2 in real space. The kinetic Hamiltonian is a 4x4 matrix with diagonal terms representing the energy dispersion for each layer and valley, given by $E_{l,\\tau}(k)= -\\frac{\\hbar^2 k^2}{2 m_l}$. The potential Hamiltonian is also a 4x4 matrix, with each 2x2 block corresponding to a valley. The diagonal elements represent the intralayer potential and the off-diagonal elements represent the interlayer potential. \n",
       "\n",
       "The task is to construct the second quantized form of the total noninteracting Hamiltonian in the real space and then convert it to the basis in momentum space using Fourier transformation. The total noninteracting Hamiltonian in the second quantized form is given by: $\\hat{H}^{0} = \\sum_{r} \\vec{\\psi}^\\dagger(r) H^{0}(r) \\vec{\\psi}(r)$, where $\\vec{\\psi}^\\dagger(r)$ is the hermitian conjugate of $\\vec{\\psi}(r)$, and $H^{0}(r)$ is the single-particle noninteracting Hamiltonian in the real space. The Fourier transformation is applied to $\\psi_{\\tau,l}^\\dagger(r)$ in the real space to the $c_{\\tau,l}^\\dagger(k)$ in the momentum space, which is defined as $c_{\\tau,l}^\\dagger(k)= \\frac{1}{\\sqrt{V}} \\int dr \\psi_{\\tau,l}^\\dagger(r) e^{i k \\cdot r}$, where $r$ is integrated over the entire real space. The total noninteracting Hamiltonian $\\hat{H}^{0}$ is then expressed in terms of $c_{\\tau,l}^\\dagger(k)$.\n",
       "\n",
       "The question asks to perform a particle-hole transformation by defining a hole operator, $b_{l,\\tau}(k)$, which equals $c_{l,\\tau}^\\dagger(k)$. The transformed Hamiltonian is $\\hat{H}^{0} = \\sum_{\\tau,l,k_1,k_2} b_{\\tau,l}(k_1) H^{0}_{\\tau,l,\\tau,l}(k_1,k_2) b_{\\tau,l}^\\dagger(k_2) + \\sum_{\\tau,k_1,k_2} \\left( b_{\\tau,b}(k_1) H^{0}_{\\tau,b,\\tau,t}(k_1,k_2) b_{\\tau,t}^\\dagger(k_2) + b_{\\tau,t}(k_1) H^{0}_{\\tau,t,\\tau,b}(k_1,k_2) b_{\\tau,b}^\\dagger(k_2) \\right)$, where $\\tau \\in \\{+K, -K\\}$, $l \\in \\{t, b\\}$, and $k_1, k_2$ are summed over the extended Brillouin zone.\n",
       "\n",
       "Use the following conventions for the symbols:  \n",
       "$l$ : layer index   \n",
       "$t$ : top layer  \n",
       "$b$ : bottom layer  \n",
       "$\\tau$ : valley index  \n",
       "$+K$ : +K valley  \n",
       "$-K$ : -K valley  \n",
       "$k$ : momentum operator  \n",
       "$E_{\\tau,l}$ : energy dispersion for layer $l$ and valley $\\tau$\n",
       "$k$ : momentum operator  \n",
       "$r$ : real space operator  \n",
       "$m_l$ : the effective mass for layer $l$  \n",
       "$\\tilde{\\tau}$ : takes value of +1 for $\\tau=+K$ and -1 for $\\tau=-K$  \n",
       "$\\pm\\kappa$ : corners of monolayer moire Brillouin zone\n",
       "$\\Delta_l$: intralayer potential for layer index $l$  \n",
       "$\\Delta_{T,\\tau}$ : interlayer tunneling at valley index $\\tau$  \n",
       "$H_{Potential}(r)$ : potential term of Hamiltonian in the real space in the single-particle form.\n",
       "$V_b$ : bottom layer potential strength  \n",
       "$\\psi_b$ : bottom layer potential phase  \n",
       "$g_j$ : reciprocal unit vector on the first shell corresponding in the moire Brillouin zone, j varies from 1 to 6.  \n",
       "$r$ : real space position  \n",
       "$\\omega$ : phase factor to respect the threefold rotational symmetry, which is $e^{i2\\pi/3}$, the hermitian conjugate is $\\omega^{-1}=e^{-i2\\pi/3}$  \n",
       "$w$ : interlayer tunneling strength\n",
       "$\\psi_{\\tau,l}(r)$ : electron annihilation operator at valley index $\\tau$ and layer index $l$  \n",
       "$\\vec{\\psi}(r)$ : spinor containing all annihilation operators $\\psi_{\\tau,l}(r)$ following the same order of $H^{0}(r)$  \n",
       "$H^{0}(r)$ : single-particle noninteracting Hamiltonian in the real space  \n",
       "$\\hat{H}^{0}$ : total noninteracting Hamiltonian in the second quantized form \n",
       "$H^{0}_{\\tau_1,l_1,\\tau_2,l_2}(r)$ : the matrix element of single-particle noninteracting Hamiltonian in the real space  \n",
       "$c_{l,\\tau}(k)$ : electron annihilation operator at momentum $k$, layer $l$, and valley $\\tau$  \n",
       "$c_{l,\\tau}^\\dagger(k)$ : electron creation operator at momentum $k$, layer $l$, and valley $\\tau$  \n",
       "$V$ : area of unit cell in the real space  \n",
       "$b_{l,\\tau}(k)$ : hole annihilation operator at momentum $k$, layer $l$, and valley $\\tau$"
      ],
      "text/plain": [
       "<IPython.core.display.Markdown object>"
      ]
     },
     "execution_count": 175,
     "metadata": {},
     "output_type": "execute_result"
    }
   ],
   "source": [
    "summarization=summarizer(summarization=summarization, prompt=prompt, response=response)\n",
    "Markdown(summarization)"
   ]
  },
  {
   "cell_type": "code",
   "execution_count": 176,
   "metadata": {},
   "outputs": [
    {
     "data": {
      "text/markdown": [
       "Following the example, we can simplify the Hamiltonian $\\hat{H}^{0}$ in the hole basis. \n",
       "\n",
       "First, we use the anticommuting relation for fermions, $[b_{\\tau, l_1}(k_1), b_{\\tau, l_2}^\\dagger(k_2)]_{+} = \\delta_{l_1,l_2}\\delta_{k_1,k_2}$, which gives $b_{\\tau, l_1}(k_1) b_{\\tau, l_2}^\\dagger(k_2) = \\delta_{l_1,l_2}\\delta_{k_1,k_2} - b_{\\tau, l_2}^\\dagger(k_2) b_{\\tau, l_1}(k_1)$.\n",
       "\n",
       "Substituting this into $\\hat{H}^{0}$, we get:\n",
       "\n",
       "$\\hat{H}^{0} = \\sum_{\\tau, l_1, l_2, k_1, k_2} (\\delta_{l_1,l_2}\\delta_{k_1,k_2} - b_{\\tau, l_2}^\\dagger(k_2) b_{\\tau, l_1}(k_1)) H^{0}_{\\tau, l_1, \\tau, l_2}(k_1, k_2)$.\n",
       "\n",
       "This simplifies to:\n",
       "\n",
       "$\\hat{H}^{0} = \\sum_{\\tau, l, k} H^{0}_{\\tau, l, \\tau, l}(k, k) - \\sum_{\\tau, l_1, l_2, k_1, k_2} b_{\\tau, l_2}^\\dagger(k_2) H^{0}_{\\tau, l_1, \\tau, l_2}(k_1, k_2) b_{\\tau, l_1}(k_1)$.\n",
       "\n",
       "Next, we relabel the indices $l_1$ and $l_2$ as well as $k_1$ and $k_2$ in the second term to make it consistent with the original order of indices. This gives:\n",
       "\n",
       "$\\hat{H}^{0} = \\sum_{\\tau, l, k} H^{0}_{\\tau, l, \\tau, l}(k, k) - \\sum_{\\tau, l_1, l_2, k_1, k_2} b_{\\tau, l_1}^\\dagger(k_1) H^{0}_{\\tau, l_2, \\tau, l_1}(k_2, k_1) b_{\\tau, l_2}(k_2)$.\n",
       "\n",
       "Finally, we use the fact that $H^{0}_{\\tau, l_2, \\tau, l_1}(k_2, k_1) = (H^{0}_{\\tau, l_1, \\tau, l_2}(k_1, k_2))^*$, because the Hamiltonian is Hermitian. This gives:\n",
       "\n",
       "$\\hat{H}^{0} = \\sum_{\\tau, l, k} H^{0}_{\\tau, l, \\tau, l}(k, k) - \\sum_{\\tau, l_1, l_2, k_1, k_2} b_{\\tau, l_1}^\\dagger(k_1) (H^{0}_{\\tau, l_1, \\tau, l_2}(k_1, k_2))^* b_{\\tau, l_2}(k_2)$.\n",
       "\n",
       "Therefore, the final version of the noninteracting Hamiltonian $\\hat{H}^{0}$ in the hole basis after simplification is:\n",
       "\n",
       "$\\hat{H}^{0,final} = \\sum_{\\tau, l, k} H^{0}_{\\tau, l, \\tau, l}(k, k) - \\sum_{\\tau, l_1, l_2, k_1, k_2} b_{\\tau, l_1}^\\dagger(k_1) (H^{0}_{\\tau, l_1, \\tau, l_2}(k_1, k_2))^* b_{\\tau, l_2}(k_2)$."
      ],
      "text/plain": [
       "<IPython.core.display.Markdown object>"
      ]
     },
     "execution_count": 176,
     "metadata": {},
     "output_type": "execute_result"
    }
   ],
   "source": [
    "prompt=prompts[8]['content']\n",
    "response=solver(summarization=summarization, prompt=prompt)\n",
    "Markdown(response)"
   ]
  },
  {
   "cell_type": "markdown",
   "metadata": {},
   "source": [
    "## Construct interaction Hamiltonian (momentum space)\n"
   ]
  },
  {
   "cell_type": "code",
   "execution_count": 177,
   "metadata": {},
   "outputs": [
    {
     "data": {
      "text/markdown": [
       "The problem discusses the kinetic and potential terms of the Hamiltonian in the hole-doped AB-stacked MoTe2/WSe2 in real space. The kinetic Hamiltonian is a 4x4 matrix with diagonal terms representing the energy dispersion for each layer and valley, given by $E_{l,\\tau}(k)= -\\frac{\\hbar^2 k^2}{2 m_l}$. The potential Hamiltonian is also a 4x4 matrix, with each 2x2 block corresponding to a valley. The diagonal elements represent the intralayer potential and the off-diagonal elements represent the interlayer potential. \n",
       "\n",
       "The task is to construct the second quantized form of the total noninteracting Hamiltonian in the real space and then convert it to the basis in momentum space using Fourier transformation. The total noninteracting Hamiltonian in the second quantized form is given by: $\\hat{H}^{0} = \\sum_{r} \\vec{\\psi}^\\dagger(r) H^{0}(r) \\vec{\\psi}(r)$, where $\\vec{\\psi}^\\dagger(r)$ is the hermitian conjugate of $\\vec{\\psi}(r)$, and $H^{0}(r)$ is the single-particle noninteracting Hamiltonian in the real space. The Fourier transformation is applied to $\\psi_{\\tau,l}^\\dagger(r)$ in the real space to the $c_{\\tau,l}^\\dagger(k)$ in the momentum space, which is defined as $c_{\\tau,l}^\\dagger(k)= \\frac{1}{\\sqrt{V}} \\int dr \\psi_{\\tau,l}^\\dagger(r) e^{i k \\cdot r}$, where $r$ is integrated over the entire real space. The total noninteracting Hamiltonian $\\hat{H}^{0}$ is then expressed in terms of $c_{\\tau,l}^\\dagger(k)$.\n",
       "\n",
       "The question asks to perform a particle-hole transformation by defining a hole operator, $b_{l,\\tau}(k)$, which equals $c_{l,\\tau}^\\dagger(k)$. The transformed Hamiltonian is $\\hat{H}^{0} = \\sum_{\\tau,l,k_1,k_2} b_{\\tau,l}(k_1) H^{0}_{\\tau,l,\\tau,l}(k_1,k_2) b_{\\tau,l}^\\dagger(k_2) + \\sum_{\\tau,k_1,k_2} \\left( b_{\\tau,b}(k_1) H^{0}_{\\tau,b,\\tau,t}(k_1,k_2) b_{\\tau,t}^\\dagger(k_2) + b_{\\tau,t}(k_1) H^{0}_{\\tau,t,\\tau,b}(k_1,k_2) b_{\\tau,b}^\\dagger(k_2) \\right)$, where $\\tau \\in \\{+K, -K\\}$, $l \\in \\{t, b\\}$, and $k_1, k_2$ are summed over the extended Brillouin zone.\n",
       "\n",
       "The task is to simplify the $\\hat{H}^{0}$ in the hole basis using canonical commutator relation for fermions to reorder the hole operator to the normal order. Normal order means that creation operators always appear before the annihilation operators. The final version of the noninteracting Hamiltonian $\\hat{H}^{0}$ in the hole basis after simplification is:\n",
       "\n",
       "$\\hat{H}^{0,final} = \\sum_{\\tau, l, k} H^{0}_{\\tau, l, \\tau, l}(k, k) - \\sum_{\\tau, l_1, l_2, k_1, k_2} b_{\\tau, l_1}^\\dagger(k_1) (H^{0}_{\\tau, l_1, \\tau, l_2}(k_1, k_2))^* b_{\\tau, l_2}(k_2)$.\n",
       "\n",
       "Use the following conventions for the symbols:  \n",
       "$l$ : layer index   \n",
       "$t$ : top layer  \n",
       "$b$ : bottom layer  \n",
       "$\\tau$ : valley index  \n",
       "$+K$ : +K valley  \n",
       "$-K$ : -K valley  \n",
       "$k$ : momentum operator  \n",
       "$E_{\\tau,l}$ : energy dispersion for layer $l$ and valley $\\tau$\n",
       "$k$ : momentum operator  \n",
       "$r$ : real space operator  \n",
       "$m_l$ : the effective mass for layer $l$  \n",
       "$\\tilde{\\tau}$ : takes value of +1 for $\\tau=+K$ and -1 for $\\tau=-K$  \n",
       "$\\pm\\kappa$ : corners of monolayer moire Brillouin zone\n",
       "$\\Delta_l$: intralayer potential for layer index $l$  \n",
       "$\\Delta_{T,\\tau}$ : interlayer tunneling at valley index $\\tau$  \n",
       "$H_{Potential}(r)$ : potential term of Hamiltonian in the real space in the single-particle form.\n",
       "$V_b$ : bottom layer potential strength  \n",
       "$\\psi_b$ : bottom layer potential phase  \n",
       "$g_j$ : reciprocal unit vector on the first shell corresponding in the moire Brillouin zone, j varies from 1 to 6.  \n",
       "$r$ : real space position  \n",
       "$\\omega$ : phase factor to respect the threefold rotational symmetry, which is $e^{i2\\pi/3}$, the hermitian conjugate is $\\omega^{-1}=e^{-i2\\pi/3}$  \n",
       "$w$ : interlayer tunneling strength\n",
       "$\\psi_{\\tau,l}(r)$ : electron annihilation operator at valley index $\\tau$ and layer index $l$  \n",
       "$\\vec{\\psi}(r)$ : spinor containing all annihilation operators $\\psi_{\\tau,l}(r)$ following the same order of $H^{0}(r)$  \n",
       "$H^{0}(r)$ : single-particle noninteracting Hamiltonian in the real space  \n",
       "$\\hat{H}^{0}$ : total noninteracting Hamiltonian in the second quantized form \n",
       "$H^{0}_{\\tau_1,l_1,\\tau_2,l_2}(r)$ : the matrix element of single-particle noninteracting Hamiltonian in the real space  \n",
       "$c_{l,\\tau}(k)$ : electron annihilation operator at momentum $k$, layer $l$, and valley $\\tau$  \n",
       "$c_{l,\\tau}^\\dagger(k)$ : electron creation operator at momentum $k$, layer $l$, and valley $\\tau$  \n",
       "$V$ : area of unit cell in the real space  \n",
       "$b_{l,\\tau}(k)$ : hole annihilation operator at momentum $k$, layer $l$, and valley $\\tau$\n",
       "$\\delta_{i,j}$ : Kronecker delta function, take the value of 1 if $i=j$, and 0 otherwise.  \n",
       "$[b_i, b_j]_{+}$ : anticommuting relation, i.e., $[b_i, b_j]_+= b_i b_j +b_j b_i$  \n",
       "$\\hat{H}^{0,final}$ : the final version of noninteracting Hamiltonian $\\hat{H}^{0}$ in the hole basis after simplification."
      ],
      "text/plain": [
       "<IPython.core.display.Markdown object>"
      ]
     },
     "execution_count": 177,
     "metadata": {},
     "output_type": "execute_result"
    }
   ],
   "source": [
    "summarization=summarizer(summarization=summarization, prompt=prompt, response=response)\n",
    "Markdown(summarization)"
   ]
  },
  {
   "cell_type": "code",
   "execution_count": 178,
   "metadata": {},
   "outputs": [
    {
     "data": {
      "text/markdown": [
       "The interaction Hamiltonian $\\hat{H}^{int}$ in the momentum space can be constructed as follows:\n",
       "\n",
       "$\\hat{H}^{int} = \\frac{1}{2V} \\sum_{\\tau_1, \\tau_2, l_1, l_2, k_1, k_2, k_3, k_4} b_{\\tau_1, l_1}^\\dagger(k_1) b_{\\tau_2, l_2}^\\dagger(k_2) V(k_1 - k_4) b_{\\tau_2, l_2}(k_3) b_{\\tau_1, l_1}(k_4) \\delta_{k_1 + k_2, k_3 + k_4}$\n",
       "\n",
       "where $\\tau_1, \\tau_2 \\in \\{+K, -K\\}$, $l_1, l_2 \\in \\{t, b\\}$, and $k_1, k_2, k_3, k_4$ are summed over the extended Brillouin zone. The Kronecker delta function $\\delta_{k_1 + k_2, k_3 + k_4}$ ensures the conservation of total momentum. The interaction form is given by the dual-gate-screened Coulomb interaction $V(q)=2\\pi e^2\\tanh(|q| d)/(\\epsilon |q|)$, where $q=k_1-k_4$ is the transferred total momentum. The normalization factor is $\\frac{1}{2V}$, where $V$ is the area of the unit cell in the real space."
      ],
      "text/plain": [
       "<IPython.core.display.Markdown object>"
      ]
     },
     "execution_count": 178,
     "metadata": {},
     "output_type": "execute_result"
    }
   ],
   "source": [
    "prompt=prompts[9]['content']\n",
    "response=solver(summarization=summarization, prompt=prompt)\n",
    "Markdown(response)"
   ]
  },
  {
   "cell_type": "markdown",
   "metadata": {},
   "source": [
    "## Wick's theorem\n"
   ]
  },
  {
   "cell_type": "code",
   "execution_count": 179,
   "metadata": {},
   "outputs": [
    {
     "data": {
      "text/markdown": [
       "The problem discusses the kinetic and potential terms of the Hamiltonian in the hole-doped AB-stacked MoTe2/WSe2 in real space. The kinetic Hamiltonian is a 4x4 matrix with diagonal terms representing the energy dispersion for each layer and valley, given by $E_{l,\\tau}(k)= -\\frac{\\hbar^2 k^2}{2 m_l}$. The potential Hamiltonian is also a 4x4 matrix, with each 2x2 block corresponding to a valley. The diagonal elements represent the intralayer potential and the off-diagonal elements represent the interlayer potential. \n",
       "\n",
       "The task is to construct the second quantized form of the total noninteracting Hamiltonian in the real space and then convert it to the basis in momentum space using Fourier transformation. The total noninteracting Hamiltonian in the second quantized form is given by: $\\hat{H}^{0} = \\sum_{r} \\vec{\\psi}^\\dagger(r) H^{0}(r) \\vec{\\psi}(r)$, where $\\vec{\\psi}^\\dagger(r)$ is the hermitian conjugate of $\\vec{\\psi}(r)$, and $H^{0}(r)$ is the single-particle noninteracting Hamiltonian in the real space. The Fourier transformation is applied to $\\psi_{\\tau,l}^\\dagger(r)$ in the real space to the $c_{\\tau,l}^\\dagger(k)$ in the momentum space, which is defined as $c_{\\tau,l}^\\dagger(k)= \\frac{1}{\\sqrt{V}} \\int dr \\psi_{\\tau,l}^\\dagger(r) e^{i k \\cdot r}$, where $r$ is integrated over the entire real space. The total noninteracting Hamiltonian $\\hat{H}^{0}$ is then expressed in terms of $c_{\\tau,l}^\\dagger(k)$.\n",
       "\n",
       "The question asks to perform a particle-hole transformation by defining a hole operator, $b_{l,\\tau}(k)$, which equals $c_{l,\\tau}^\\dagger(k)$. The transformed Hamiltonian is $\\hat{H}^{0} = \\sum_{\\tau,l,k_1,k_2} b_{\\tau,l}(k_1) H^{0}_{\\tau,l,\\tau,l}(k_1,k_2) b_{\\tau,l}^\\dagger(k_2) + \\sum_{\\tau,k_1,k_2} \\left( b_{\\tau,b}(k_1) H^{0}_{\\tau,b,\\tau,t}(k_1,k_2) b_{\\tau,t}^\\dagger(k_2) + b_{\\tau,t}(k_1) H^{0}_{\\tau,t,\\tau,b}(k_1,k_2) b_{\\tau,b}^\\dagger(k_2) \\right)$, where $\\tau \\in \\{+K, -K\\}$, $l \\in \\{t, b\\}$, and $k_1, k_2$ are summed over the extended Brillouin zone.\n",
       "\n",
       "The task is to simplify the $\\hat{H}^{0}$ in the hole basis using canonical commutator relation for fermions to reorder the hole operator to the normal order. Normal order means that creation operators always appear before the annihilation operators. The final version of the noninteracting Hamiltonian $\\hat{H}^{0}$ in the hole basis after simplification is:\n",
       "\n",
       "$\\hat{H}^{0,final} = \\sum_{\\tau, l, k} H^{0}_{\\tau, l, \\tau, l}(k, k) - \\sum_{\\tau, l_1, l_2, k_1, k_2} b_{\\tau, l_1}^\\dagger(k_1) (H^{0}_{\\tau, l_1, \\tau, l_2}(k_1, k_2))^* b_{\\tau, l_2}(k_2)$.\n",
       "\n",
       "The interaction Hamiltonian $\\hat{H}^{int}$ in the momentum space can be constructed as follows:\n",
       "\n",
       "$\\hat{H}^{int} = \\frac{1}{2V} \\sum_{\\tau_1, \\tau_2, l_1, l_2, k_1, k_2, k_3, k_4} b_{\\tau_1, l_1}^\\dagger(k_1) b_{\\tau_2, l_2}^\\dagger(k_2) V(k_1 - k_4) b_{\\tau_2, l_2}(k_3) b_{\\tau_1, l_1}(k_4) \\delta_{k_1 + k_2, k_3 + k_4}$\n",
       "\n",
       "where $\\tau_1, \\tau_2 \\in \\{+K, -K\\}$, $l_1, l_2 \\in \\{t, b\\}$, and $k_1, k_2, k_3, k_4$ are summed over the extended Brillouin zone. The Kronecker delta function $\\delta_{k_1 + k_2, k_3 + k_4}$ ensures the conservation of total momentum. The interaction form is given by the dual-gate-screened Coulomb interaction $V(q)=2\\pi e^2\\tanh(|q| d)/(\\epsilon |q|)$, where $q=k_1-k_4$ is the transferred total momentum. The normalization factor is $\\frac{1}{2V}$, where $V$ is the area of the unit cell in the real space.\n",
       "\n",
       "Use the following conventions for the symbols:  \n",
       "$l$ : layer index   \n",
       "$t$ : top layer  \n",
       "$b$ : bottom layer  \n",
       "$\\tau$ : valley index  \n",
       "$+K$ : +K valley  \n",
       "$-K$ : -K valley  \n",
       "$k$ : momentum operator  \n",
       "$E_{\\tau,l}$ : energy dispersion for layer $l$ and valley $\\tau$\n",
       "$k$ : momentum operator  \n",
       "$r$ : real space operator  \n",
       "$m_l$ : the effective mass for layer $l$  \n",
       "$\\tilde{\\tau}$ : takes value of +1 for $\\tau=+K$ and -1 for $\\tau=-K$  \n",
       "$\\pm\\kappa$ : corners of monolayer moire Brillouin zone\n",
       "$\\Delta_l$: intralayer potential for layer index $l$  \n",
       "$\\Delta_{T,\\tau}$ : interlayer tunneling at valley index $\\tau$  \n",
       "$H_{Potential}(r)$ : potential term of Hamiltonian in the real space in the single-particle form.\n",
       "$V_b$ : bottom layer potential strength  \n",
       "$\\psi_b$ : bottom layer potential phase  \n",
       "$g_j$ : reciprocal unit vector on the first shell corresponding in the moire Brillouin zone, j varies from 1 to 6.  \n",
       "$r$ : real space position  \n",
       "$\\omega$ : phase factor to respect the threefold rotational symmetry, which is $e^{i2\\pi/3}$, the hermitian conjugate is $\\omega^{-1}=e^{-i2\\pi/3}$  \n",
       "$w$ : interlayer tunneling strength\n",
       "$\\psi_{\\tau,l}(r)$ : electron annihilation operator at valley index $\\tau$ and layer index $l$  \n",
       "$\\vec{\\psi}(r)$ : spinor containing all annihilation operators $\\psi_{\\tau,l}(r)$ following the same order of $H^{0}(r)$  \n",
       "$H^{0}(r)$ : single-particle noninteracting Hamiltonian in the real space  \n",
       "$\\hat{H}^{0}$ : total noninteracting Hamiltonian in the second quantized form \n",
       "$H^{0}_{\\tau_1,l_1,\\tau_2,l_2}(r)$ : the matrix element of single-particle noninteracting Hamiltonian in the real space  \n",
       "$c_{l,\\tau}(k)$ : electron annihilation operator at momentum $k$, layer $l$, and valley $\\tau$  \n",
       "$c_{l,\\tau}^\\dagger(k)$ : electron creation operator at momentum $k$, layer $l$, and valley $\\tau$  \n",
       "$V$ : area of unit cell in the real space  \n",
       "$b_{l,\\tau}(k)$ : hole annihilation operator at momentum $k$, layer $l$, and valley $\\tau$\n",
       "$\\delta_{i,j}$ : Kronecker delta function, take the value of 1 if $i=j$, and 0 otherwise.  \n",
       "$[b_i, b_j]_{+}$ : anticommuting relation, i.e., $[b_i, b_j]_+= b_i b_j +b_j b_i$  \n",
       "$\\hat{H}^{0,final}$ : the final version of noninteracting Hamiltonian $\\hat{H}^{0}$ in the hole basis after simplification.\n",
       "$d$ : distance between dual gates  \n",
       "$\\epsilon$ : dielectric constant  \n",
       "$V(q)$ : dual-gate-screened Coulomb interaction in the momentum space"
      ],
      "text/plain": [
       "<IPython.core.display.Markdown object>"
      ]
     },
     "execution_count": 179,
     "metadata": {},
     "output_type": "execute_result"
    }
   ],
   "source": [
    "summarization=summarizer(summarization=summarization, prompt=prompt, response=response)\n",
    "Markdown(summarization)"
   ]
  },
  {
   "cell_type": "code",
   "execution_count": 180,
   "metadata": {},
   "outputs": [
    {
     "data": {
      "text/markdown": [
       "Following the instructions and using Wick's theorem, the interaction term $\\hat{H}^{int}$ can be expanded as follows:\n",
       "\n",
       "$\\hat{H}^{int} = \\frac{1}{2V}\\sum_{\\tau_1,\\tau_2,l_1,l_2,k_1,k_2,k_3,k_4} b_{l_1,\\tau_1}^\\dagger(k_1)b_{l_2,\\tau_2}^\\dagger(k_2)b_{l_2,\\tau_2}(k_3)b_{l_1,\\tau_1}(k_4) V(|k_1-k_4|)\\delta_{k_1+k_2,k_3+k_4}$\n",
       "\n",
       "This can be expanded using Wick's theorem (as shown in EXAMPLE 1) to:\n",
       "\n",
       "$\\hat{H}^{int} = \\frac{1}{2V}\\sum_{\\tau_1,\\tau_2,l_1,l_2,k_1,k_2,k_3,k_4} \\left[ \\langle b_{l_1,\\tau_1}^\\dagger(k_1) b_{l_1,\\tau_1}(k_4) \\rangle b_{l_2,\\tau_2}^\\dagger(k_2) b_{l_2,\\tau_2}(k_3) + \\langle b_{l_2,\\tau_2}^\\dagger(k_2) b_{l_2,\\tau_2}(k_3) \\rangle b_{l_1,\\tau_1}^\\dagger(k_1) b_{l_1,\\tau_1}(k_4) - \\langle b_{l_1,\\tau_1}^\\dagger(k_1) b_{l_1,\\tau_1}(k_4) \\rangle \\langle b_{l_2,\\tau_2}^\\dagger(k_2) b_{l_2,\\tau_2}(k_3) \\rangle - \\langle b_{l_1,\\tau_1}^\\dagger(k_1) b_{l_2,\\tau_2}(k_3) \\rangle b_{l_2,\\tau_2}^\\dagger(k_2) b_{l_1,\\tau_1}(k_4) - \\langle b_{l_2,\\tau_2}^\\dagger(k_2) b_{l_1,\\tau_1}(k_4) \\rangle b_{l_1,\\tau_1}^\\dagger(k_1) b_{l_2,\\tau_2}(k_3) + \\langle b_{l_1,\\tau_1}^\\dagger(k_1) b_{l_2,\\tau_2}(k_3) \\rangle \\langle b_{l_2,\\tau_2}^\\dagger(k_2) b_{l_1,\\tau_1}(k_4) \\rangle \\right] V(|k_1-k_4|)\\delta_{k_1+k_2,k_3+k_4}$\n",
       "\n",
       "Preserving only the normal terms, we get:\n",
       "\n",
       "$\\hat{H}^{int,HF} = \\frac{1}{2V}\\sum_{\\tau_1,\\tau_2,l_1,l_2,k_1,k_2,k_3,k_4} \\left[ \\langle b_{l_1,\\tau_1}^\\dagger(k_1) b_{l_1,\\tau_1}(k_4) \\rangle b_{l_2,\\tau_2}^\\dagger(k_2) b_{l_2,\\tau_2}(k_3) + \\langle b_{l_2,\\tau_2}^\\dagger(k_2) b_{l_2,\\tau_2}(k_3) \\rangle b_{l_1,\\tau_1}^\\dagger(k_1) b_{l_1,\\tau_1}(k_4) \\right] V(|k_1-k_4|)\\delta_{k_1+k_2,k_3+k_4}$\n",
       "\n",
       "This is the interaction term after Hartree-Fock approximation."
      ],
      "text/plain": [
       "<IPython.core.display.Markdown object>"
      ]
     },
     "execution_count": 180,
     "metadata": {},
     "output_type": "execute_result"
    }
   ],
   "source": [
    "prompt=prompts[10]['content']\n",
    "response=solver(summarization=summarization, prompt=prompt)\n",
    "Markdown(response)"
   ]
  },
  {
   "cell_type": "markdown",
   "metadata": {},
   "source": [
    "## Extract quadratic term\n"
   ]
  },
  {
   "cell_type": "code",
   "execution_count": 181,
   "metadata": {},
   "outputs": [
    {
     "data": {
      "text/markdown": [
       "The problem discusses the kinetic and potential terms of the Hamiltonian in the hole-doped AB-stacked MoTe2/WSe2 in real space. The kinetic Hamiltonian is a 4x4 matrix with diagonal terms representing the energy dispersion for each layer and valley, given by $E_{l,\\tau}(k)= -\\frac{\\hbar^2 k^2}{2 m_l}$. The potential Hamiltonian is also a 4x4 matrix, with each 2x2 block corresponding to a valley. The diagonal elements represent the intralayer potential and the off-diagonal elements represent the interlayer potential. \n",
       "\n",
       "The task is to construct the second quantized form of the total noninteracting Hamiltonian in the real space and then convert it to the basis in momentum space using Fourier transformation. The total noninteracting Hamiltonian in the second quantized form is given by: $\\hat{H}^{0} = \\sum_{r} \\vec{\\psi}^\\dagger(r) H^{0}(r) \\vec{\\psi}(r)$, where $\\vec{\\psi}^\\dagger(r)$ is the hermitian conjugate of $\\vec{\\psi}(r)$, and $H^{0}(r)$ is the single-particle noninteracting Hamiltonian in the real space. The Fourier transformation is applied to $\\psi_{\\tau,l}^\\dagger(r)$ in the real space to the $c_{\\tau,l}^\\dagger(k)$ in the momentum space, which is defined as $c_{\\tau,l}^\\dagger(k)= \\frac{1}{\\sqrt{V}} \\int dr \\psi_{\\tau,l}^\\dagger(r) e^{i k \\cdot r}$, where $r$ is integrated over the entire real space. The total noninteracting Hamiltonian $\\hat{H}^{0}$ is then expressed in terms of $c_{\\tau,l}^\\dagger(k)$.\n",
       "\n",
       "The question asks to perform a particle-hole transformation by defining a hole operator, $b_{l,\\tau}(k)$, which equals $c_{l,\\tau}^\\dagger(k)$. The transformed Hamiltonian is $\\hat{H}^{0} = \\sum_{\\tau,l,k_1,k_2} b_{\\tau,l}(k_1) H^{0}_{\\tau,l,\\tau,l}(k_1,k_2) b_{\\tau,l}^\\dagger(k_2) + \\sum_{\\tau,k_1,k_2} \\left( b_{\\tau,b}(k_1) H^{0}_{\\tau,b,\\tau,t}(k_1,k_2) b_{\\tau,t}^\\dagger(k_2) + b_{\\tau,t}(k_1) H^{0}_{\\tau,t,\\tau,b}(k_1,k_2) b_{\\tau,b}^\\dagger(k_2) \\right)$, where $\\tau \\in \\{+K, -K\\}$, $l \\in \\{t, b\\}$, and $k_1, k_2$ are summed over the extended Brillouin zone.\n",
       "\n",
       "The task is to simplify the $\\hat{H}^{0}$ in the hole basis using canonical commutator relation for fermions to reorder the hole operator to the normal order. Normal order means that creation operators always appear before the annihilation operators. The final version of the noninteracting Hamiltonian $\\hat{H}^{0}$ in the hole basis after simplification is:\n",
       "\n",
       "$\\hat{H}^{0,final} = \\sum_{\\tau, l, k} H^{0}_{\\tau, l, \\tau, l}(k, k) - \\sum_{\\tau, l_1, l_2, k_1, k_2} b_{\\tau, l_1}^\\dagger(k_1) (H^{0}_{\\tau, l_1, \\tau, l_2}(k_1, k_2))^* b_{\\tau, l_2}(k_2)$.\n",
       "\n",
       "The interaction Hamiltonian $\\hat{H}^{int}$ in the momentum space can be constructed as follows:\n",
       "\n",
       "$\\hat{H}^{int} = \\frac{1}{2V} \\sum_{\\tau_1, \\tau_2, l_1, l_2, k_1, k_2, k_3, k_4} b_{\\tau_1, l_1}^\\dagger(k_1) b_{\\tau_2, l_2}^\\dagger(k_2) V(k_1 - k_4) b_{\\tau_2, l_2}(k_3) b_{\\tau_1, l_1}(k_4) \\delta_{k_1 + k_2, k_3 + k_4}$\n",
       "\n",
       "where $\\tau_1, \\tau_2 \\in \\{+K, -K\\}$, $l_1, l_2 \\in \\{t, b\\}$, and $k_1, k_2, k_3, k_4$ are summed over the extended Brillouin zone. The Kronecker delta function $\\delta_{k_1 + k_2, k_3 + k_4}$ ensures the conservation of total momentum. The interaction form is given by the dual-gate-screened Coulomb interaction $V(q)=2\\pi e^2\\tanh(|q| d)/(\\epsilon |q|)$, where $q=k_1-k_4$ is the transferred total momentum. The normalization factor is $\\frac{1}{2V}$, where $V$ is the area of the unit cell in the real space.\n",
       "\n",
       "The question asks to perform a Hartree-Fock approximation to expand the interaction term, $\\hat{H}^{int}$. Using Wick's theorem, the interaction term $\\hat{H}^{int}$ can be expanded as follows:\n",
       "\n",
       "$\\hat{H}^{int,HF} = \\frac{1}{2V}\\sum_{\\tau_1,\\tau_2,l_1,l_2,k_1,k_2,k_3,k_4} \\left[ \\langle b_{l_1,\\tau_1}^\\dagger(k_1) b_{l_1,\\tau_1}(k_4) \\rangle b_{l_2,\\tau_2}^\\dagger(k_2) b_{l_2,\\tau_2}(k_3) + \\langle b_{l_2,\\tau_2}^\\dagger(k_2) b_{l_2,\\tau_2}(k_3) \\rangle b_{l_1,\\tau_1}^\\dagger(k_1) b_{l_1,\\tau_1}(k_4) \\right] V(|k_1-k_4|)\\delta_{k_1+k_2,k_3+k_4}$\n",
       "\n",
       "This is the interaction term after Hartree-Fock approximation.\n",
       "\n",
       "Use the following conventions for the symbols:  \n",
       "$l$ : layer index   \n",
       "$t$ : top layer  \n",
       "$b$ : bottom layer  \n",
       "$\\tau$ : valley index  \n",
       "$+K$ : +K valley  \n",
       "$-K$ : -K valley  \n",
       "$k$ : momentum operator  \n",
       "$E_{\\tau,l}$ : energy dispersion for layer $l$ and valley $\\tau$\n",
       "$k$ : momentum operator  \n",
       "$r$ : real space operator  \n",
       "$m_l$ : the effective mass for layer $l$  \n",
       "$\\tilde{\\tau}$ : takes value of +1 for $\\tau=+K$ and -1 for $\\tau=-K$  \n",
       "$\\pm\\kappa$ : corners of monolayer moire Brillouin zone\n",
       "$\\Delta_l$: intralayer potential for layer index $l$  \n",
       "$\\Delta_{T,\\tau}$ : interlayer tunneling at valley index $\\tau$  \n",
       "$H_{Potential}(r)$ : potential term of Hamiltonian in the real space in the single-particle form.\n",
       "$V_b$ : bottom layer potential strength  \n",
       "$\\psi_b$ : bottom layer potential phase  \n",
       "$g_j$ : reciprocal unit vector on the first shell corresponding in the moire Brillouin zone, j varies from 1 to 6.  \n",
       "$r$ : real space position  \n",
       "$\\omega$ : phase factor to respect the threefold rotational symmetry, which is $e^{i2\\pi/3}$, the hermitian conjugate is $\\omega^{-1}=e^{-i2\\pi/3}$  \n",
       "$w$ : interlayer tunneling strength\n",
       "$\\psi_{\\tau,l}(r)$ : electron annihilation operator at valley index $\\tau$ and layer index $l$  \n",
       "$\\vec{\\psi}(r)$ : spinor containing all annihilation operators $\\psi_{\\tau,l}(r)$ following the same order of $H^{0}(r)$  \n",
       "$H^{0}(r)$ : single-particle noninteracting Hamiltonian in the real space  \n",
       "$\\hat{H}^{0}$ : total noninteracting Hamiltonian in the second quantized form \n",
       "$H^{0}_{\\tau_1,l_1,\\tau_2,l_2}(r)$ : the matrix element of single-particle noninteracting Hamiltonian in the real space  \n",
       "$c_{l,\\tau}(k)$ : electron annihilation operator at momentum $k$, layer $l$, and valley $\\tau$  \n",
       "$c_{l,\\tau}^\\dagger(k)$ : electron creation operator at momentum $k$, layer $l$, and valley $\\tau$  \n",
       "$V$ : area of unit cell in the real space  \n",
       "$b_{l,\\tau}(k)$ : hole annihilation operator at momentum $k$, layer $l$, and valley $\\tau$\n",
       "$\\delta_{i,j}$ : Kronecker delta function, take the value of 1 if $i=j$, and 0 otherwise.  \n",
       "$[b_i, b_j]_{+}$ : anticommuting relation, i.e., $[b_i, b_j]_+= b_i b_j +b_j b_i$  \n",
       "$\\hat{H}^{0,final}$ : the final version of noninteracting Hamiltonian $\\hat{H}^{0}$ in the hole basis after simplification.\n",
       "$d$ : distance between dual gates  \n",
       "$\\epsilon$ : dielectric constant  \n",
       "$V(q)$ : dual-gate-screened Coulomb interaction in the momentum space\n",
       "$\\langle b_{l_1,\\tau_1}^\\dagger(k_1) b_{l_2,\\tau_2}(k_2) \\rangle$ : expectation of $b_{l_1,\\tau_1}^\\dagger(k_1) b_{l_2,\\tau_2}(k_2)$ over the many-body ground states.  \n",
       "$\\hat{H}^{int,HF}$ : Interaction term after Hartree-Fock approximation"
      ],
      "text/plain": [
       "<IPython.core.display.Markdown object>"
      ]
     },
     "execution_count": 181,
     "metadata": {},
     "output_type": "execute_result"
    }
   ],
   "source": [
    "summarization=summarizer(summarization=summarization, prompt=prompt, response=response)\n",
    "Markdown(summarization)"
   ]
  },
  {
   "cell_type": "code",
   "execution_count": 182,
   "metadata": {},
   "outputs": [
    {
     "data": {
      "text/markdown": [
       "The quadratic terms in $\\hat{H}^{int,HF}$ are those that contain the product of a creation operator and an annihilation operator. From the given expression for $\\hat{H}^{int,HF}$, the quadratic terms are:\n",
       "\n",
       "$\\hat{H}^{int,HF,2} = \\frac{1}{2V}\\sum_{\\tau_1,\\tau_2,l_1,l_2,k_1,k_2,k_3,k_4} \\left[\\langle b_{l_1,\\tau_1}^\\dagger(k_1) b_{l_1,\\tau_1}(k_4) \\rangle b_{l_2,\\tau_2}^\\dagger(k_2) b_{l_2,\\tau_2}(k_3) + \\langle b_{l_2,\\tau_2}^\\dagger(k_2) b_{l_2,\\tau_2}(k_3) \\rangle b_{l_1,\\tau_1}^\\dagger(k_1) b_{l_1,\\tau_1}(k_4) - \\langle b_{l_1,\\tau_1}^\\dagger(k_1) b_{l_2,\\tau_2}(k_3) \\rangle b_{l_2,\\tau_2}^\\dagger(k_2) b_{l_1,\\tau_1}(k_4) - \\langle b_{l_2,\\tau_2}^\\dagger(k_2) b_{l_1,\\tau_1}(k_4) \\rangle b_{l_1,\\tau_1}^\\dagger(k_1) b_{l_2,\\tau_2}(k_3) \\right] V(|k_1-k_4|)\\delta_{k_1+k_2,k_3+k_4}$\n",
       "\n",
       "The terms that are solely expectations or products of expectations are not included in $\\hat{H}^{int,HF,2}$."
      ],
      "text/plain": [
       "<IPython.core.display.Markdown object>"
      ]
     },
     "execution_count": 182,
     "metadata": {},
     "output_type": "execute_result"
    }
   ],
   "source": [
    "prompt=prompts[11]['content']\n",
    "response=solver(summarization=summarization, prompt=prompt)\n",
    "Markdown(response)"
   ]
  },
  {
   "cell_type": "markdown",
   "metadata": {},
   "source": [
    "## Swap the index to combine Hartree and Fock terms\n"
   ]
  },
  {
   "cell_type": "code",
   "execution_count": 183,
   "metadata": {},
   "outputs": [
    {
     "data": {
      "text/markdown": [
       "The problem discusses the kinetic and potential terms of the Hamiltonian in the hole-doped AB-stacked MoTe2/WSe2 in real space. The kinetic Hamiltonian is a 4x4 matrix with diagonal terms representing the energy dispersion for each layer and valley, given by $E_{l,\\tau}(k)= -\\frac{\\hbar^2 k^2}{2 m_l}$. The potential Hamiltonian is also a 4x4 matrix, with each 2x2 block corresponding to a valley. The diagonal elements represent the intralayer potential and the off-diagonal elements represent the interlayer potential. \n",
       "\n",
       "The task is to construct the second quantized form of the total noninteracting Hamiltonian in the real space and then convert it to the basis in momentum space using Fourier transformation. The total noninteracting Hamiltonian in the second quantized form is given by: $\\hat{H}^{0} = \\sum_{r} \\vec{\\psi}^\\dagger(r) H^{0}(r) \\vec{\\psi}(r)$, where $\\vec{\\psi}^\\dagger(r)$ is the hermitian conjugate of $\\vec{\\psi}(r)$, and $H^{0}(r)$ is the single-particle noninteracting Hamiltonian in the real space. The Fourier transformation is applied to $\\psi_{\\tau,l}^\\dagger(r)$ in the real space to the $c_{\\tau,l}^\\dagger(k)$ in the momentum space, which is defined as $c_{\\tau,l}^\\dagger(k)= \\frac{1}{\\sqrt{V}} \\int dr \\psi_{\\tau,l}^\\dagger(r) e^{i k \\cdot r}$, where $r$ is integrated over the entire real space. The total noninteracting Hamiltonian $\\hat{H}^{0}$ is then expressed in terms of $c_{\\tau,l}^\\dagger(k)$.\n",
       "\n",
       "The question asks to perform a particle-hole transformation by defining a hole operator, $b_{l,\\tau}(k)$, which equals $c_{l,\\tau}^\\dagger(k)$. The transformed Hamiltonian is $\\hat{H}^{0} = \\sum_{\\tau,l,k_1,k_2} b_{\\tau,l}(k_1) H^{0}_{\\tau,l,\\tau,l}(k_1,k_2) b_{\\tau,l}^\\dagger(k_2) + \\sum_{\\tau,k_1,k_2} \\left( b_{\\tau,b}(k_1) H^{0}_{\\tau,b,\\tau,t}(k_1,k_2) b_{\\tau,t}^\\dagger(k_2) + b_{\\tau,t}(k_1) H^{0}_{\\tau,t,\\tau,b}(k_1,k_2) b_{\\tau,b}^\\dagger(k_2) \\right)$, where $\\tau \\in \\{+K, -K\\}$, $l \\in \\{t, b\\}$, and $k_1, k_2$ are summed over the extended Brillouin zone.\n",
       "\n",
       "The task is to simplify the $\\hat{H}^{0}$ in the hole basis using canonical commutator relation for fermions to reorder the hole operator to the normal order. Normal order means that creation operators always appear before the annihilation operators. The final version of the noninteracting Hamiltonian $\\hat{H}^{0}$ in the hole basis after simplification is:\n",
       "\n",
       "$\\hat{H}^{0,final} = \\sum_{\\tau, l, k} H^{0}_{\\tau, l, \\tau, l}(k, k) - \\sum_{\\tau, l_1, l_2, k_1, k_2} b_{\\tau, l_1}^\\dagger(k_1) (H^{0}_{\\tau, l_1, \\tau, l_2}(k_1, k_2))^* b_{\\tau, l_2}(k_2)$.\n",
       "\n",
       "The interaction Hamiltonian $\\hat{H}^{int}$ in the momentum space can be constructed as follows:\n",
       "\n",
       "$\\hat{H}^{int} = \\frac{1}{2V} \\sum_{\\tau_1, \\tau_2, l_1, l_2, k_1, k_2, k_3, k_4} b_{\\tau_1, l_1}^\\dagger(k_1) b_{\\tau_2, l_2}^\\dagger(k_2) V(k_1 - k_4) b_{\\tau_2, l_2}(k_3) b_{\\tau_1, l_1}(k_4) \\delta_{k_1 + k_2, k_3 + k_4}$\n",
       "\n",
       "where $\\tau_1, \\tau_2 \\in \\{+K, -K\\}$, $l_1, l_2 \\in \\{t, b\\}$, and $k_1, k_2, k_3, k_4$ are summed over the extended Brillouin zone. The Kronecker delta function $\\delta_{k_1 + k_2, k_3 + k_4}$ ensures the conservation of total momentum. The interaction form is given by the dual-gate-screened Coulomb interaction $V(q)=2\\pi e^2\\tanh(|q| d)/(\\epsilon |q|)$, where $q=k_1-k_4$ is the transferred total momentum. The normalization factor is $\\frac{1}{2V}$, where $V$ is the area of the unit cell in the real space.\n",
       "\n",
       "The question asks to perform a Hartree-Fock approximation to expand the interaction term, $\\hat{H}^{int}$. Using Wick's theorem, the interaction term $\\hat{H}^{int}$ can be expanded as follows:\n",
       "\n",
       "$\\hat{H}^{int,HF} = \\frac{1}{2V}\\sum_{\\tau_1,\\tau_2,l_1,l_2,k_1,k_2,k_3,k_4} \\left[ \\langle b_{l_1,\\tau_1}^\\dagger(k_1) b_{l_1,\\tau_1}(k_4) \\rangle b_{l_2,\\tau_2}^\\dagger(k_2) b_{l_2,\\tau_2}(k_3) + \\langle b_{l_2,\\tau_2}^\\dagger(k_2) b_{l_2,\\tau_2}(k_3) \\rangle b_{l_1,\\tau_1}^\\dagger(k_1) b_{l_1,\\tau_1}(k_4) \\right] V(|k_1-k_4|)\\delta_{k_1+k_2,k_3+k_4}$\n",
       "\n",
       "This is the interaction term after Hartree-Fock approximation.\n",
       "\n",
       "The question asks to extract the quadratic terms in the $\\hat{H}^{int,HF}$. The quadratic terms mean terms that are proportional to $b^\\dagger b$, which excludes terms that are solely expectations or products of expectations. The quadratic terms in $\\hat{H}^{int,HF}$ are:\n",
       "\n",
       "$\\hat{H}^{int,HF,2} = \\frac{1}{2V}\\sum_{\\tau_1,\\tau_2,l_1,l_2,k_1,k_2,k_3,k_4} \\left[\\langle b_{l_1,\\tau_1}^\\dagger(k_1) b_{l_1,\\tau_1}(k_4) \\rangle b_{l_2,\\tau_2}^\\dagger(k_2) b_{l_2,\\tau_2}(k_3) + \\langle b_{l_2,\\tau_2}^\\dagger(k_2) b_{l_2,\\tau_2}(k_3) \\rangle b_{l_1,\\tau_1}^\\dagger(k_1) b_{l_1,\\tau_1}(k_4) - \\langle b_{l_1,\\tau_1}^\\dagger(k_1) b_{l_2,\\tau_2}(k_3) \\rangle b_{l_2,\\tau_2}^\\dagger(k_2) b_{l_1,\\tau_1}(k_4) - \\langle b_{l_2,\\tau_2}^\\dagger(k_2) b_{l_1,\\tau_1}(k_4) \\rangle b_{l_1,\\tau_1}^\\dagger(k_1) b_{l_2,\\tau_2}(k_3) \\right] V(|k_1-k_4|)\\delta_{k_1+k_2,k_3+k_4}$\n",
       "\n",
       "The terms that are solely expectations or products of expectations are not included in $\\hat{H}^{int,HF,2}$.\n",
       "\n",
       "Use the following conventions for the symbols:  \n",
       "$l$ : layer index   \n",
       "$t$ : top layer  \n",
       "$b$ : bottom layer  \n",
       "$\\tau$ : valley index  \n",
       "$+K$ : +K valley  \n",
       "$-K$ : -K valley  \n",
       "$k$ : momentum operator  \n",
       "$E_{\\tau,l}$ : energy dispersion for layer $l$ and valley $\\tau$\n",
       "$k$ : momentum operator  \n",
       "$r$ : real space operator  \n",
       "$m_l$ : the effective mass for layer $l$  \n",
       "$\\tilde{\\tau}$ : takes value of +1 for $\\tau=+K$ and -1 for $\\tau=-K$  \n",
       "$\\pm\\kappa$ : corners of monolayer moire Brillouin zone\n",
       "$\\Delta_l$: intralayer potential for layer index $l$  \n",
       "$\\Delta_{T,\\tau}$ : interlayer tunneling at valley index $\\tau$  \n",
       "$H_{Potential}(r)$ : potential term of Hamiltonian in the real space in the single-particle form.\n",
       "$V_b$ : bottom layer potential strength  \n",
       "$\\psi_b$ : bottom layer potential phase  \n",
       "$g_j$ : reciprocal unit vector on the first shell corresponding in the moire Brillouin zone, j varies from 1 to 6.  \n",
       "$r$ : real space position  \n",
       "$\\omega$ : phase factor to respect the threefold rotational symmetry, which is $e^{i2\\pi/3}$, the hermitian conjugate is $\\omega^{-1}=e^{-i2\\pi/3}$  \n",
       "$w$ : interlayer tunneling strength\n",
       "$\\psi_{\\tau,l}(r)$ : electron annihilation operator at valley index $\\tau$ and layer index $l$  \n",
       "$\\vec{\\psi}(r)$ : spinor containing all annihilation operators $\\psi_{\\tau,l}(r)$ following the same order of $H^{0}(r)$  \n",
       "$H^{0}(r)$ : single-particle noninteracting Hamiltonian in the real space  \n",
       "$\\hat{H}^{0}$ : total noninteracting Hamiltonian in the second quantized form \n",
       "$H^{0}_{\\tau_1,l_1,\\tau_2,l_2}(r)$ : the matrix element of single-particle noninteracting Hamiltonian in the real space  \n",
       "$c_{l,\\tau}(k)$ : electron annihilation operator at momentum $k$, layer $l$, and valley $\\tau$  \n",
       "$c_{l,\\tau}^\\dagger(k)$ : electron creation operator at momentum $k$, layer $l$, and valley $\\tau$  \n",
       "$V$ : area of unit cell in the real space  \n",
       "$b_{l,\\tau}(k)$ : hole annihilation operator at momentum $k$, layer $l$, and valley $\\tau$\n",
       "$\\delta_{i,j}$ : Kronecker delta function, take the value of 1 if $i=j$, and 0 otherwise.  \n",
       "$[b_i, b_j]_{+}$ : anticommuting relation, i.e., $[b_i, b_j]_+= b_i b_j +b_j b_i$  \n",
       "$\\hat{H}^{0,final}$ : the final version of noninteracting Hamiltonian $\\hat{H}^{0}$ in the hole basis after simplification.\n",
       "$d$ : distance between dual gates  \n",
       "$\\epsilon$ : dielectric constant  \n",
       "$V(q)$ : dual-gate-screened Coulomb interaction in the momentum space\n",
       "$\\langle b_{l_1,\\tau_1}^\\dagger(k_1) b_{l_2,\\tau_2}(k_2) \\rangle$ : expectation of $b_{l_1,\\tau_1}^\\dagger(k_1) b_{l_2,\\tau_2}(k_2)$ over the many-body ground states.  \n",
       "$\\hat{H}^{int,HF}$ : Interaction term after Hartree-Fock approximation\n",
       "$\\hat{H}^{int,HF,2}$ : the quadratic terms in $\\hat{H}^{int,HF}$"
      ],
      "text/plain": [
       "<IPython.core.display.Markdown object>"
      ]
     },
     "execution_count": 183,
     "metadata": {},
     "output_type": "execute_result"
    }
   ],
   "source": [
    "summarization=summarizer(summarization=summarization, prompt=prompt, response=response)\n",
    "Markdown(summarization)"
   ]
  },
  {
   "cell_type": "code",
   "execution_count": 184,
   "metadata": {},
   "outputs": [
    {
     "data": {
      "text/markdown": [
       "Following the example, we can simplify the quadratic term $\\hat{H}^{int,HF,2}$ by relabeling the indices. \n",
       "\n",
       "For the second Hartree term, we swap the indices in the expected value and the indices in the quadratic operators, namely, $\\tau_1 \\leftrightarrow \\tau_2$, $l_1 \\leftrightarrow l_2$, $k_1 \\leftrightarrow k_2$, and $k_3 \\leftrightarrow k_4$. After the replacement, the second Hartree term becomes:\n",
       "\n",
       "$\\langle b_{\\tau_1,l_1}^\\dagger(k_1) b_{\\tau_1,l_1}(k_4) \\rangle b_{\\tau_2,l_2}^\\dagger(k_2) b_{\\tau_2,l_2}(k_3)$\n",
       "\n",
       "Similarly, for the second Fock term, we swap the indices in the expected value and the indices in the quadratic operators, namely, $\\tau_1 \\leftrightarrow \\tau_2$, $l_1 \\leftrightarrow l_2$, $k_1 \\leftrightarrow k_2$, and $k_3 \\leftrightarrow k_4$. After the replacement, the second Fock term becomes:\n",
       "\n",
       "$-\\langle b_{\\tau_1,l_1}^\\dagger(k_1) b_{\\tau_2,l_2}(k_3) \\rangle b_{\\tau_2,l_2}^\\dagger(k_2) b_{\\tau_1,l_1}(k_4)$\n",
       "\n",
       "Therefore, the simplified $\\hat{H}^{int,HF,2}$ is:\n",
       "\n",
       "$\\hat{H}^{int,HF,2} = \\frac{1}{V}\\sum_{\\tau_1,\\tau_2,l_1,l_2,k_1,k_2,k_3,k_4} \\left[\\langle b_{\\tau_1,l_1}^\\dagger(k_1) b_{\\tau_1,l_1}(k_4) \\rangle b_{\\tau_2,l_2}^\\dagger(k_2) b_{\\tau_2,l_2}(k_3) - \\langle b_{\\tau_1,l_1}^\\dagger(k_1) b_{\\tau_2,l_2}(k_3) \\rangle b_{\\tau_2,l_2}^\\dagger(k_2) b_{\\tau_1,l_1}(k_4) \\right] V(|k_1-k_4|)\\delta_{k_1+k_2,k_3+k_4}$\n",
       "\n",
       "This simplification reduces the four terms (two Hartree and two Fock terms) to only two terms (one Hartree and one Fock term)."
      ],
      "text/plain": [
       "<IPython.core.display.Markdown object>"
      ]
     },
     "execution_count": 184,
     "metadata": {},
     "output_type": "execute_result"
    }
   ],
   "source": [
    "prompt=prompts[12]['content']\n",
    "response=solver(summarization=summarization, prompt=prompt)\n",
    "Markdown(response)"
   ]
  },
  {
   "cell_type": "markdown",
   "metadata": {},
   "source": [
    "# In On-Go"
   ]
  },
  {
   "cell_type": "code",
   "execution_count": 185,
   "metadata": {},
   "outputs": [
    {
     "name": "stdout",
     "output_type": "stream",
     "text": [
      "Asking 0..\n",
      "Asking 1..\n",
      "Asking 2..\n",
      "Asking 3..\n",
      "Asking 4..\n",
      "Asking 5..\n",
      "Asking 6..\n",
      "Asking 7..\n",
      "Asking 8..\n",
      "Asking 9..\n",
      "Asking 10..\n",
      "Asking 11..\n",
      "Asking 12..\n"
     ]
    }
   ],
   "source": [
    "answers=[]\n",
    "for idx,prompt_i in enumerate(prompts):\n",
    "    print(f'Asking {idx}..')\n",
    "    prompt=prompt_i['content']\n",
    "    if idx==0:\n",
    "        summarization=''\n",
    "        response=solver(summarization=summarization, prompt=prompt)\n",
    "    else:\n",
    "        summarization=summarizer(summarization=summarization, prompt=prompt, response=response)        \n",
    "        response=solver(summarization=summarization, prompt=prompt)\n",
    "    answers.append(response)\n",
    "    "
   ]
  },
  {
   "cell_type": "code",
   "execution_count": 190,
   "metadata": {},
   "outputs": [],
   "source": [
    "string=''\n",
    "for kwarg,prompt_i,answer in zip(kwargs,prompts,answers):\n",
    "    task=kwarg['task']\n",
    "    prompt=prompt_i['content']\n",
    "    added=f'## {task}  \\n**Prompt:**  \\n{prompt}\\n\\n**Completion:**  \\n{answer}\\n\\n'\n",
    "    string+=added\n",
    "\n",
    "with open('2111.01152_auto.md','w') as f:\n",
    "    f.write(string)"
   ]
  },
  {
   "cell_type": "code",
   "execution_count": null,
   "metadata": {},
   "outputs": [],
   "source": []
  },
  {
   "cell_type": "code",
   "execution_count": null,
   "metadata": {},
   "outputs": [],
   "source": []
  },
  {
   "cell_type": "code",
   "execution_count": 17,
   "metadata": {},
   "outputs": [],
   "source": [
    "user_msg=[]\n",
    "AI_msg=[]\n",
    "sys_msg=[{'role': 'system', 'content': prompt_dict['Preamble']}]"
   ]
  },
  {
   "cell_type": "code",
   "execution_count": null,
   "metadata": {},
   "outputs": [],
   "source": [
    "user_msg.append(generate_prompt(kwargs,prompt_dict=prompt_dict))"
   ]
  },
  {
   "cell_type": "code",
   "execution_count": null,
   "metadata": {},
   "outputs": [],
   "source": []
  },
  {
   "cell_type": "code",
   "execution_count": null,
   "metadata": {},
   "outputs": [],
   "source": [
    "# summarization=''\n",
    "# summarization=r'''The discussion revolves around converting the noninteracting Hamiltonian in the second quantized form from real space to momentum space in a hole-doped AB-stacked MoTe2/WSe2 system. The noninteracting Hamiltonian in real space, $\\hat{H}^{0}$, is represented by the sum of the kinetic and potential Hamiltonians and is expressed as $\\hat{H}^{0} = \\sum_r \\vec{\\psi}^\\dagger(r) H^{0}(r) \\vec{\\psi}(r)$. \n",
    "\n",
    "# To shift from real to momentum space, Fourier transformations of the creation and annihilation operators are applied. The Fourier transforms of these operators for this multilayer system are given by:\n",
    "\n",
    "# $$c_{\\tau,l}^\\dagger(k)= \\frac{1}{\\sqrt{V}} \\int dr \\psi_{\\tau,l}^\\dagger(r) e^{i k \\cdot r}$$\n",
    "# $$c_{\\tau,l}(k)= \\frac{1}{\\sqrt{V}} \\int dr \\psi_{\\tau,l}(r) e^{-i k \\cdot r}$$\n",
    "\n",
    "# And their inverse Fourier transforms are:\n",
    "\n",
    "# $$\\psi_{\\tau,l}^\\dagger(r) = \\frac{1}{\\sqrt{V}} \\sum_{k_1} c_{\\tau,l}^\\dagger(k_1) e^{-i k_1 \\cdot r}$$\n",
    "# $$\\psi_{\\tau,l}(r) = \\frac{1}{\\sqrt{V}} \\sum_{k_2} c_{\\tau,l}(k_2) e^{i k_2 \\cdot r}$$\n",
    "\n",
    "# Using these transforms, the noninteracting Hamiltonian in the second quantized form is converted to momentum space as:\n",
    "\n",
    "# $$\\hat{H}^{0} = \\sum_{k_1,k_2} \\vec{c}^\\dagger(k_1) H^{0}(k_1,k_2) \\vec{c}(k_2)$$\n",
    "\n",
    "# Here, $\\vec{c}^\\dagger(k)$ and $\\vec{c}(k)$ are vectors containing the creation and annihilation operators for all layers and valleys, and $H^{0}(k_1,k_2)$ is the Fourier transform of the noninteracting Hamiltonian:\n",
    "\n",
    "# $$H^{0}(k_1,k_2) = \\frac{1}{V} \\int dr e^{-i (k_1-k_2)\\cdot r} H^{0}(r)$$\n",
    "\n",
    "# This final expression represents the transformed noninteracting Hamiltonian in the second quantized form in the momentum space.\n",
    "\n",
    "# Use the following conventions for the symbols:  \n",
    "# $l$ : layer index   \n",
    "# $t$ : top layer  \n",
    "# $b$ : bottom layer  \n",
    "# $\\tau$ : valley index  \n",
    "# $+K$ : +K valley  \n",
    "# $-K$ : -K valley  \n",
    "# $k$ : momentum operator  \n",
    "# $E_{l,\\tau}$ : energy dispersion for layer $l$ and valley $\\tau$ \n",
    "# $m_l$ : the effective mass for layer $l$  \n",
    "# $\\tilde{\\tau}$ : takes value of +1 for $\\tau=+K$ and -1 for $\\tau=-K$  \n",
    "# $\\pm\\kappa$ : corners of monolayer moire Brillouin zone\n",
    "# $\\Delta_l$: intralayer potential for layer index $l$  \n",
    "# $\\Delta_{T,\\tau}$ : interlayer tunneling at valley index $\\tau$  \n",
    "# $H_{Potential}(r)$ : potential term of Hamiltonian in the real space in the single-particle form.\n",
    "# $V_b$ : bottom layer potential strength  \n",
    "# $\\psi_b$ : bottom layer potential phase  \n",
    "# $g_j$ : reciprocal unit vector on the first shell corresponding in the moire Brillouin zone, j varies from 1 to 6.  \n",
    "# $r$ : real space position  \n",
    "# $\\omega$ : phase factor to respect the threefold rotational symmetry, which is $e^{i2\\pi/3}$, the hermitian conjugate is $\\omega^{-1}=e^{-i2\\pi/3}$  \n",
    "# $w$ : interlayer tunneling strength\n",
    "# $\\psi_{\\tau,l}(r)$ : electron annihilation operator at valley index $\\tau$ and layer index $l$  \n",
    "# $\\vec{\\psi}(r)$ : spinor containing all annihilation operators $\\psi_{\\tau,l}(r)$ following the same order of $H^{0}(r)$  \n",
    "# $H^{0}(r)$ : single-particle noninteracting Hamiltonian in the real space  \n",
    "# $\\hat{H}^{0}$ : total noninteracting Hamiltonian in the second quantized form \n",
    "# $c_{l,\\tau}(k)$ : electron annihilation operator at momentum $k$, layer $l$, and valley $\\tau$  \n",
    "# $c_{l,\\tau}^\\dagger(k)$ : electron creation operator at momentum $k$, layer $l$, and valley $\\tau$  \n",
    "# $V$ : area of unit cell in the real space  '''"
   ]
  },
  {
   "cell_type": "code",
   "execution_count": null,
   "metadata": {},
   "outputs": [],
   "source": [
    "prompt=r'''You will be instructed to describe the kinetic term of Hamiltonian in the hole-doped AB-stacked MoTe2/WSe2 in the real space in the single-particle form.   \n",
    "The degrees of freedom of the system are: valley index (+K and -K valley), layer index (top and bottom layer). \n",
    "Express the Kinetic Hamiltonian $H_{Kinetic}(r)$ using $E_{\\tau,l}$ which are only on the diagonal terms, and arrange the basis in the order of (+K,bottom), (+K,top), (-K,bottom), (-K,top).\n",
    "\n",
    "Use the following conventions for the symbols:  \n",
    "$l$ : layer index   \n",
    "$t$ : top layer  \n",
    "$b$ : bottom layer  \n",
    "$\\tau$ : valley index  \n",
    "$+K$ : +K valley  \n",
    "$-K$ : -K valley  \n",
    "$k$ : momentum operator  \n",
    "$E_{l,\\tau}$ : energy dispersion for layer $l$ and valley $\\tau$  '''\n",
    "# prompt=r'''You will be instructed to perform a particle-hole transformation.  \n",
    "# Define a hole operator, $b_{l,\\tau}(k)$, which equals $c_{l,\\tau}^\\dagger(k)$.  \n",
    "# You should replace $c_{l,\\tau}$ with $b_{l,\\tau}(k)^\\dagger$, and $c_{l,\\tau}^\\dagger$ with $b_{l,\\tau}(k)$. You should follow the EXAMPLE below to apply the particle-hole transformation.  \n",
    "# You should recall that $\\hat{H}^{0} = \\sum_{\\tau, l_1, l_2, k_1, k_2} c_{\\tau,l_1}^\\dagger(k_1) H^{0}_{\\tau,l_1,\\tau,l_2}(k_1,k_2) c_{\\tau,l_2}(k_2)$.\n",
    "# Return the $\\hat{H}^{0}$ in the hole operators.\n",
    "\n",
    "# Use the following conventions for the symbols (You should also obey the conventions in all my previous prompts if you encounter undefined symbols. If you find it is never defined or has conflicts in the conventions, you should stop and let me know):  \n",
    "# $b_{l,\\tau}(k)$ : hole annihilation operator at momentum $k$, layer $l$, and valley $\\tau$\n",
    "\n",
    "# ===  \n",
    "# EXAMPLE:  \n",
    "# Give a Hamiltonian  $\\hat{H}=\\sum_{k_1,k_2} c^\\dagger(k_1) h(k_1,k_2) c(k_2)$ , and the particle-hole transformation as $b(k)=c^\\dagger(k)$. The transformed Hamiltonian is $\\hat{H}=\\sum_{k_1,k_2} b(k_1) h(k_1,k_2) b^\\dagger(k_2)$'''"
   ]
  },
  {
   "cell_type": "code",
   "execution_count": null,
   "metadata": {},
   "outputs": [],
   "source": [
    "response=r'''Given the degrees of freedom and the symbols defined, the kinetic Hamiltonian for a single particle in real space can be expressed as a 4x4 diagonal matrix:\n",
    "\n",
    "$$H_{Kinetic}(r) = \\begin{bmatrix}\n",
    "E_{b,+K} & 0 & 0 & 0 \\\\\n",
    "0 & E_{t,+K} & 0 & 0 \\\\\n",
    "0 & 0 & E_{b,-K} & 0 \\\\\n",
    "0 & 0 & 0 & E_{t,-K}\n",
    "\\end{bmatrix}$$\n",
    "\n",
    "This Hamiltonian describes the energy of a single particle in the system, where the diagonal elements represent the energy dispersion for each combination of layer and valley index. For instance, $E_{b,+K}$ corresponds to the energy of a particle in the +K valley of the bottom layer, while $E_{t,-K}$ refers to the energy of a particle in the -K valley of the top layer. The off-diagonal elements are zero, reflecting the fact that these terms would involve transitions between different layers or valleys, which are not part of the kinetic energy term.'''\n",
    "# response=r'''The real space to momentum space transformation of the total noninteracting Hamiltonian $\\hat{H}^{0}$ can be carried out following the example given and considering the additional complexity of having different layers and valleys. \n",
    "\n",
    "# The Fourier transforms for the creation and annihilation operators in this multilayer system are given by:\n",
    "\n",
    "# $$c_{\\tau,l}^\\dagger(k)= \\frac{1}{\\sqrt{V}} \\int dr \\psi_{\\tau,l}^\\dagger(r) e^{i k \\cdot r}$$\n",
    "# $$c_{\\tau,l}(k)= \\frac{1}{\\sqrt{V}} \\int dr \\psi_{\\tau,l}(r) e^{-i k \\cdot r}$$\n",
    "\n",
    "# Then, applying the inverse Fourier transforms for the operators in real space gives:\n",
    "\n",
    "# $$\\psi_{\\tau,l}^\\dagger(r) = \\frac{1}{\\sqrt{V}} \\sum_{k_1} c_{\\tau,l}^\\dagger(k_1) e^{-i k_1 \\cdot r}$$\n",
    "# $$\\psi_{\\tau,l}(r) = \\frac{1}{\\sqrt{V}} \\sum_{k_2} c_{\\tau,l}(k_2) e^{i k_2 \\cdot r}$$\n",
    "\n",
    "# Therefore, the total noninteracting Hamiltonian in the second quantized form transforms to momentum space as follows:\n",
    "\n",
    "# $$\\hat{H}^{0} = \\sum_r \\vec{\\psi}^\\dagger(r) H^{0}(r) \\vec{\\psi}(r)$$\n",
    "# $$= \\int dr \\frac{1}{V} \\sum_{k_1, k_2} \\vec{c}^\\dagger(k_1) e^{-i k_1 \\cdot r} H^{0}(r) \\vec{c}(k_2) e^{i k_2 \\cdot r}$$\n",
    "# $$= \\sum_{k_1,k_2} \\vec{c}^\\dagger(k_1) \\frac{1}{V} \\int dr e^{-i (k_1-k_2)\\cdot r} H^{0}(r) \\vec{c}(k_2)$$\n",
    "# $$= \\sum_{k_1,k_2} \\vec{c}^\\dagger(k_1) H^{0}(k_1,k_2) \\vec{c}(k_2)$$\n",
    "\n",
    "# Where $\\vec{c}^\\dagger(k)$ and $\\vec{c}(k)$ are vectors containing the creation and annihilation operators for all layers and valleys, and $H^{0}(k_1,k_2)$ is the Fourier transform of the noninteracting Hamiltonian, given by:\n",
    "\n",
    "# $$H^{0}(k_1,k_2) = \\frac{1}{V} \\int dr e^{-i (k_1-k_2)\\cdot r} H^{0}(r)$$\n",
    "\n",
    "# This is the transformed total noninteracting Hamiltonian $\\hat{H}^{0}$ in the second quantized form in the momentum space.'''"
   ]
  },
  {
   "cell_type": "code",
   "execution_count": 19,
   "metadata": {},
   "outputs": [
    {
     "data": {
      "text/plain": [
       "'Below is a chat history about a physical question showing after ```. \\nThe format is 1. Background of the question. 2: Question. 3: Answer.\\nYou should summarize the history. \\nYou should remove redundant information, and keep the main physics,especially, paying attention to the latex equations.\\nReturn the summarized text. \\n\\n```\\n**Background**\\n{}\\n\\n**Question**\\n{}\\n\\n**Answer**\\n{}\\n\\n'"
      ]
     },
     "execution_count": 19,
     "metadata": {},
     "output_type": "execute_result"
    }
   ],
   "source": [
    "'''Below is a chat history about a physical question showing after ```. \n",
    "The format is 1. Background of the question. 2: Question. 3: Answer.\n",
    "You should summarize the history. \n",
    "You should remove redundant information, and keep the main physics,especially, paying attention to the latex equations.\n",
    "Return the summarized text. \n",
    "\n",
    "```\n",
    "**Background**\n",
    "{}\n",
    "\n",
    "**Question**\n",
    "{}\n",
    "\n",
    "**Answer**\n",
    "{}\n",
    "'''"
   ]
  },
  {
   "cell_type": "code",
   "execution_count": null,
   "metadata": {},
   "outputs": [],
   "source": [
    "The question concerns the kinetic term of Hamiltonian in the hole-doped AB-stacked MoTe2/WSe2. The system's degrees of freedom include valley index (+K and -K valley), and layer index (top and bottom layer). The kinetic Hamiltonian, $H_{Kinetic}(r)$, expressed using $E_{\\tau,l}$, is arranged with the basis order of (+K,bottom), (+K,top), (-K,bottom), (-K,top). The kinetic Hamiltonian, represented as a 4x4 diagonal matrix, is as follows:\n",
    "\n",
    "$$H_{Kinetic}(r) = \\begin{bmatrix}\n",
    "E_{b,+K} & 0 & 0 & 0 \\\\\n",
    "0 & E_{t,+K} & 0 & 0 \\\\\n",
    "0 & 0 & E_{b,-K} & 0 \\\\\n",
    "0 & 0 & 0 & E_{t,-K}\n",
    "\\end{bmatrix}$$\n",
    "\n",
    "The diagonal elements depict the energy dispersion for each combination of layer and valley index, while off-diagonal elements being zero indicate no transitions between different layers or valleys in the kinetic energy term.\n",
    "\n",
    "Use the following conventions for the symbols:  \n",
    "$l$ : layer index   \n",
    "$t$ : top layer  \n",
    "$b$ : bottom layer  \n",
    "$\\tau$ : valley index  \n",
    "$+K$ : +K valley  \n",
    "$-K$ : -K valley  \n",
    "$k$ : momentum operator  \n",
    "$E_{l,\\tau}$ : energy dispersion for layer $l$ and valley $\\tau$   "
   ]
  },
  {
   "cell_type": "code",
   "execution_count": 39,
   "metadata": {},
   "outputs": [
    {
     "name": "stdout",
     "output_type": "stream",
     "text": [
      "You will be instructed to perform a particle-hole transformation.  \n",
      "Define a hole operator, $b_{l,\\tau}(k)$, which equals $c_{l,\\tau}^\\dagger(k)$.  \n",
      "You should replace $c_{l,\\tau}$ with $b_{l,\\tau}(k)^\\dagger$, and $c_{l,\\tau}^\\dagger$ with $b_{l,\\tau}(k)$. You should follow the EXAMPLE below to apply the particle-hole transformation.  \n",
      "You should recall that $\\hat{H}^{0} = \\sum_{\\tau, l_1, l_2, k_1, k_2} c_{\\tau,l_1}^\\dagger(k_1) H^{0}_{\\tau,l_1,\\tau,l_2}(k_1,k_2) c_{\\tau,l_2}(k_2)$.\n",
      "Return the $\\hat{H}^{0}$ in the hole operators.\n",
      "\n",
      "Use the following conventions for the symbols (You should also obey the conventions in all my previous prompts if you encounter undefined symbols. If you find it is never defined or has conflicts in the conventions, you should stop and let me know):  \n",
      "$b_{l,\\tau}(k)$ : hole annihilation operator at momentum $k$, layer $l$, and valley $\\tau$\n",
      "\n",
      "===  \n",
      "EXAMPLE:  \n",
      "Give a Hamiltonian  $\\hat{H}=\\sum_{k_1,k_2} c^\\dagger(k_1) h(k_1,k_2) c(k_2)$ , and the particle-hole transformation as $b(k)=c^\\dagger(k)$. The transformed Hamiltonian is $\\hat{H}=\\sum_{k_1,k_2} b(k_1) h(k_1,k_2) b^\\dagger(k_2)$\n"
     ]
    }
   ],
   "source": [
    "print(prompts[7]['content'])"
   ]
  },
  {
   "cell_type": "code",
   "execution_count": 25,
   "metadata": {},
   "outputs": [
    {
     "data": {
      "text/plain": [
       "'\\nYou will be first shown a summary of background of the question.\\nYou will then be asked a further question.\\nIf you find conflicts between the question and background, trust the information in the question\\n'"
      ]
     },
     "execution_count": 25,
     "metadata": {},
     "output_type": "execute_result"
    }
   ],
   "source": [
    "'''\n",
    "You will be first shown a summary of background of the question.\n",
    "You will then be asked a further question.\n",
    "If you find conflicts between the question and background, trust the information in the question\n",
    "'''"
   ]
  },
  {
   "cell_type": "code",
   "execution_count": null,
   "metadata": {},
   "outputs": [],
   "source": [
    "'''\n",
    "You are a physicist assisting me in constructing a Hamiltonian and/or performing Hartree-Fock calculations, adhering meticulously to my instructions. Your responses should be succinct yet comprehensive, without incorporating any unnecessary information. When needed, you will learn and understand relevant background knowledge through examples.\n",
    "\n",
    "First, you will be presented with a background summary pertaining to the question. Following this, you will be posed with a question. Your responses should integrate information from both the background and the question.\n",
    "\n",
    "If you encounter any inconsistencies between the information in the question and the background, prioritize the information provided in the question.\n",
    "'''"
   ]
  },
  {
   "cell_type": "code",
   "execution_count": null,
   "metadata": {},
   "outputs": [],
   "source": [
    "'''\n",
    "From the instructions, the energy dispersion for each layer and valley is defined as $E_{\\tau,l}(k)=-\\frac{\\hbar^2 k^2}{2 m_l}$. For the top layer, there is a shift in the momentum $k$ to make the band bottom at $\\tilde{\\tau}\\kappa$. Here, $\\tilde{\\tau}$ is +1 for $\\tau=+K$ and -1 for $\\tau=-K$.\n",
    "\n",
    "With the momentum operator $k$ defined as $k=-i \\partial_r$, the expressions for four $E_{\\tau,l}(k)$ in the Kinetic Hamiltonian are as follows:\n",
    "\n",
    "1. For $E_{+K,b}(k)$, the energy dispersion for the bottom layer and +K valley is: $E_{+K,b}(k) = -\\frac{\\hbar^2 k^2}{2 m_b}$\n",
    "\n",
    "2. For $E_{+K,t}(k)$, the energy dispersion for the top layer and +K valley is: $E_{+K,t}(k) = -\\frac{\\hbar^2 (k-\\kappa)^2}{2 m_t}$\n",
    "\n",
    "3. For $E_{-K,b}(k)$, the energy dispersion for the bottom layer and -K valley is: $E_{-K,b}(k) = -\\frac{\\hbar^2 k^2}{2 m_b}$\n",
    "\n",
    "4. For $E_{-K,t}(k)$, the energy dispersion for the top layer and -K valley is: $E_{-K,t}(k) = -\\frac{\\hbar^2 (k+\\kappa)^2}{2 m_t}$\n",
    "\n",
    "Substituting these energy dispersions into the Kinetic Hamiltonian $H_{Kinetic}(r)$, we get:\n",
    "\n",
    "$$H_{Kinetic}(r) = \\begin{bmatrix}\n",
    "-\\frac{\\hbar^2 k^2}{2 m_b} & 0 & 0 & 0 \\\\\n",
    "0 & -\\frac{\\hbar^2 (k-\\kappa)^2}{2 m_t} & 0 & 0 \\\\\n",
    "0 & 0 & -\\frac{\\hbar^2 k^2}{2 m_b} & 0 \\\\\n",
    "0 & 0 & 0 & -\\frac{\\hbar^2 (k+\\kappa)^2}{2 m_t}\n",
    "\\end{bmatrix}$$\n",
    "\n",
    "Please note that $k$ here represents the momentum operator, which should be replaced with $-i \\partial_r$ when calculating in the real space.\n",
    "'''"
   ]
  },
  {
   "cell_type": "code",
   "execution_count": null,
   "metadata": {},
   "outputs": [],
   "source": [
    "\"\"\"\n",
    "The discussion revolves around the kinetic term of the Hamiltonian in the hole-doped AB-stacked MoTe2/WSe2 system with degrees of freedom including the valley index and layer index. The kinetic Hamiltonian, denoted as $H_{Kinetic}(r)$, is a 4x4 diagonal matrix representing the energy dispersion for each layer and valley index.\n",
    "\n",
    "The energy dispersions, represented as $E_{\\tau,l}(k)$, are defined as $E_{\\tau,l}(k)=-\\frac{\\hbar^2 k^2}{2 m_l}$. For the top layer, there is a shift in momentum, so $E_{+K,t}(k) = -\\frac{\\hbar^2 (k-\\kappa)^2}{2 m_t}$ and $E_{-K,t}(k) = -\\frac{\\hbar^2 (k+\\kappa)^2}{2 m_t}$. Here, $\\tilde{\\tau}$ corresponds to the valley index, taking +1 for $+K$ and -1 for $-K$. The bottom layer doesn't have a momentum shift.\n",
    "\n",
    "Substituting these energy dispersions into the Kinetic Hamiltonian results in:\n",
    "\n",
    "$$H_{Kinetic}(r) = \\begin{bmatrix}\n",
    "-\\frac{\\hbar^2 k^2}{2 m_b} & 0 & 0 & 0 \\\\\n",
    "0 & -\\frac{\\hbar^2 (k-\\kappa)^2}{2 m_t} & 0 & 0 \\\\\n",
    "0 & 0 & -\\frac{\\hbar^2 k^2}{2 m_b} & 0 \\\\\n",
    "0 & 0 & 0 & -\\frac{\\hbar^2 (k+\\kappa)^2}{2 m_t}\n",
    "\\end{bmatrix}$$\n",
    "\n",
    "Here, $k$ is a momentum operator, defined as $k=-i \\partial_r$, and is used for shorthand notation. It should be replaced with $-i \\partial_r$ when calculating in real space.\n",
    "\"\"\""
   ]
  },
  {
   "cell_type": "code",
   "execution_count": null,
   "metadata": {},
   "outputs": [],
   "source": []
  },
  {
   "cell_type": "code",
   "execution_count": null,
   "metadata": {},
   "outputs": [],
   "source": []
  },
  {
   "cell_type": "code",
   "execution_count": null,
   "metadata": {},
   "outputs": [],
   "source": []
  },
  {
   "cell_type": "code",
   "execution_count": 7,
   "metadata": {},
   "outputs": [],
   "source": [
    "user_msg=[]\n",
    "AI_msg=[]\n",
    "sys_msg=[{'role': 'system', 'content': prompt_dict['Preamble']}]\n",
    "kwargs_list=[]"
   ]
  },
  {
   "cell_type": "code",
   "execution_count": null,
   "metadata": {},
   "outputs": [],
   "source": []
  }
 ],
 "metadata": {
  "kernelspec": {
   "display_name": "base",
   "language": "python",
   "name": "python3"
  },
  "language_info": {
   "codemirror_mode": {
    "name": "ipython",
    "version": 3
   },
   "file_extension": ".py",
   "mimetype": "text/x-python",
   "name": "python",
   "nbconvert_exporter": "python",
   "pygments_lexer": "ipython3",
   "version": "3.8.11"
  },
  "orig_nbformat": 4
 },
 "nbformat": 4,
 "nbformat_minor": 2
}
