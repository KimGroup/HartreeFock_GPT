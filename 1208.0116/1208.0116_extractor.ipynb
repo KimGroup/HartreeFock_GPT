{
 "cells": [
  {
   "cell_type": "code",
   "execution_count": 1,
   "metadata": {},
   "outputs": [],
   "source": [
    "import openai\n",
    "import pandas as pd\n",
    "import json\n",
    "import yaml\n",
    "from IPython.display import Markdown\n",
    "import sys\n",
    "import yaml\n",
    "from tqdm import tqdm"
   ]
  },
  {
   "cell_type": "code",
   "execution_count": 2,
   "metadata": {},
   "outputs": [],
   "source": [
    "zz=openai.Model.list()"
   ]
  },
  {
   "cell_type": "code",
   "execution_count": 3,
   "metadata": {},
   "outputs": [
    {
     "data": {
      "text/plain": [
       "62"
      ]
     },
     "execution_count": 3,
     "metadata": {},
     "output_type": "execute_result"
    }
   ],
   "source": [
    "len(zz['data'])"
   ]
  },
  {
   "cell_type": "code",
   "execution_count": 4,
   "metadata": {},
   "outputs": [],
   "source": [
    "model_params = {\n",
    "    'model': \"gpt-4\",\n",
    "    'temperature': 0,\n",
    "}"
   ]
  },
  {
   "cell_type": "code",
   "execution_count": 5,
   "metadata": {},
   "outputs": [],
   "source": [
    "def print_save(string, file='../cmp2.md'):\n",
    "    print(string)\n",
    "    with open(file,'w') as f:\n",
    "        f.write(string)"
   ]
  },
  {
   "cell_type": "markdown",
   "metadata": {},
   "source": [
    "## Load prompt_template.md"
   ]
  },
  {
   "cell_type": "code",
   "execution_count": 6,
   "metadata": {},
   "outputs": [],
   "source": [
    "sys.path.append('..')\n",
    "from utils import *\n",
    "from functools import partial"
   ]
  },
  {
   "cell_type": "code",
   "execution_count": 7,
   "metadata": {},
   "outputs": [],
   "source": [
    "prompt_dict = partial(load_prompt_template,file='../prompt_template.md')"
   ]
  },
  {
   "cell_type": "code",
   "execution_count": 8,
   "metadata": {},
   "outputs": [
    {
     "data": {
      "text/plain": [
       "dict_keys(['Preamble', 'Problem-solver', 'Conversation summarizer', 'Construct Kinetic Hamiltonian (continuum version, single-particle)', 'Construct Kinetic Hamiltonian (continuum version, second-quantized)', 'Construct Kinetic Hamiltonian (lattice version)', 'Define each term in Kinetic Hamiltonian (continuum version)', 'Construct Potential Hamiltonian (continuum version)', 'Define each term in Potential Hamiltonian (continuum version)', 'Construct interaction Hamiltonian (real space, lattice version)', 'Construct interaction Hamiltonian (momentum space)', 'Convert from single-particle to second-quantized form, return in matrix', 'Convert from single-particle to second-quantized form, return in summation (expand the matrix)', 'Convert noninteracting Hamiltonian in real space to momentum space (continuum version)', 'Convert noninteracting Hamiltonian in real space to momentum space (lattice version)', 'Convert interacting Hamiltonian in real space to momentum space (lattice version)', 'Particle-hole transformation', 'Simplify the Hamiltonian in the particle-hole basis', \"Wick's theorem\", 'Extract quadratic term', 'Hartree term only', 'Fock term only', 'Expand interaction', 'Swap the index only', 'Swap the index to combine Hartree and Fock terms', 'Reduce momentum in Hartree term (momentum in BZ + reciprocal lattice)', 'Reduce momentum in Hartree term (momentum in BZ)', 'Reduce momentum in Fock term (momentum in BZ + reciprocal lattice)', 'Reduce momentum in Fock term (momentum in BZ)', 'Combine the Hartree and Fock term', 'Construct full Hamiltonian after HF', 'Mathematical simplify: inner product expansion', \"Mathematical simplify: Euler's formula\", 'Mathematical simplify: prosthaphaeresis', 'Mathematical simplify: Expand the product using Associative property', 'Mathematical simplify: Combine using Associative property', 'Mathematical simplify: reduce index'])"
      ]
     },
     "execution_count": 8,
     "metadata": {},
     "output_type": "execute_result"
    }
   ],
   "source": [
    "prompt_dict().keys()"
   ]
  },
  {
   "cell_type": "code",
   "execution_count": null,
   "metadata": {},
   "outputs": [],
   "source": []
  },
  {
   "cell_type": "markdown",
   "metadata": {},
   "source": [
    "# Prompt fill place holder"
   ]
  },
  {
   "cell_type": "code",
   "execution_count": 21,
   "metadata": {},
   "outputs": [],
   "source": [
    "import json"
   ]
  },
  {
   "cell_type": "code",
   "execution_count": 22,
   "metadata": {},
   "outputs": [],
   "source": [
    "pwd=os.getcwd()"
   ]
  },
  {
   "cell_type": "code",
   "execution_count": 23,
   "metadata": {},
   "outputs": [],
   "source": [
    "arxiv_number=pwd.split('/')[-1]"
   ]
  },
  {
   "cell_type": "code",
   "execution_count": 32,
   "metadata": {},
   "outputs": [],
   "source": [
    "with open(f'{arxiv_number}.yaml','r') as f:\n",
    "    kwargs_yaml = yaml.safe_load(f)\n",
    "# with open(f'{arxiv_number}.jsonl','r') as f:\n",
    "#     kwargs_jsonl= [json.loads(line) for line in f]"
   ]
  },
  {
   "cell_type": "code",
   "execution_count": 25,
   "metadata": {},
   "outputs": [],
   "source": [
    "def load_excerpt(sources):\n",
    "    excerpt=''\n",
    "    for tex, lines in sources.items():\n",
    "        with open(tex,'r') as f:\n",
    "            f_list=list(f)\n",
    "            for line in lines:\n",
    "                excerpt=excerpt+''.join(f_list[line[0]:line[1]])\n",
    "    return excerpt"
   ]
  },
  {
   "cell_type": "code",
   "execution_count": 26,
   "metadata": {},
   "outputs": [],
   "source": [
    "prompt_system='''I will provide you a Excerpt of physics paper, and a Template. You will need to fill the placeholders in the template using the correct information from the excerpt.\n",
    "Here are conventions: \n",
    "{..} means a placeholder which you need to fill by extracting information from the excerpt.\n",
    "{A|B} means you need to make a choice between A and B\n",
    "[..] means optional sentence. You should decide whether to use it depending on the excerpt.\n",
    "{{..}} DOES NOT mean a placeholder. You should not change the content inside double curly braces {{..}}.\n",
    "`You should recall that {expression_second_nonint}.` : this sentence should be kept as is.\n",
    "\n",
    "\n",
    "Finally, if you cannot figure out the placeholder, you should leave it as is.'''"
   ]
  },
  {
   "cell_type": "code",
   "execution_count": 27,
   "metadata": {},
   "outputs": [],
   "source": [
    "def drop_text_after(string):\n",
    "    string_new=''\n",
    "    for line in string.split('\\n'):\n",
    "        if '===' in line:\n",
    "            break\n",
    "        else:\n",
    "            if 'You should recall that' not in line:\n",
    "                string_new='\\n'.join([string_new,line])\n",
    "    return string_new[1:]\n"
   ]
  },
  {
   "cell_type": "code",
   "execution_count": 28,
   "metadata": {},
   "outputs": [],
   "source": [
    "def extractor(descriptor,message=False):\n",
    "    sys_msg=[{'role': 'system', 'content': prompt_system}]\n",
    "    question_prompt='\\nTemplate:\\n {template} \\n\\n Excerpt:\\n {excerpt}'.format(template=drop_text_after(prompt_dict()[descriptor['task']]), excerpt=load_excerpt(descriptor['source']))\n",
    "    user_msg=[{'role':'user','content':question_prompt}]\n",
    "    messages = sys_msg + user_msg\n",
    "    if message:\n",
    "        return sys_msg[0]['content']+user_msg[0]['content']\n",
    "    rs= openai.ChatCompletion.create(messages=messages, **model_params)\n",
    "    response=rs['choices'][0]['message'].content\n",
    "    return response\n"
   ]
  },
  {
   "cell_type": "markdown",
   "metadata": {},
   "source": [
    "## GPT4"
   ]
  },
  {
   "cell_type": "code",
   "execution_count": 33,
   "metadata": {},
   "outputs": [
    {
     "name": "stderr",
     "output_type": "stream",
     "text": [
      "100%|██████████| 10/10 [06:42<00:00, 40.24s/it]\n"
     ]
    }
   ],
   "source": [
    "# string=''\n",
    "for kwargs in tqdm(kwargs_yaml[3:]):\n",
    "    string+='# '+kwargs['task']+'\\n'\n",
    "    response=(extractor(kwargs, message=False))\n",
    "    string+=response+'\\n\\n'\n",
    "    \n",
    "    "
   ]
  },
  {
   "cell_type": "code",
   "execution_count": 34,
   "metadata": {},
   "outputs": [
    {
     "data": {
      "text/plain": [
       "15"
      ]
     },
     "execution_count": 34,
     "metadata": {},
     "output_type": "execute_result"
    }
   ],
   "source": [
    "string.count('#')"
   ]
  },
  {
   "cell_type": "code",
   "execution_count": 35,
   "metadata": {},
   "outputs": [
    {
     "name": "stdout",
     "output_type": "stream",
     "text": [
      "# Construct Kinetic Hamiltonian (continuum version, single-particle)\n",
      "You will be instructed to describe the kinetic term of Hamiltonian in ABC trilayer graphene in the real space in the second-quantized form.   \n",
      "The degrees of freedom of the system are: six sublattice sites labeled as A, B, A', B', A'', B''.  \n",
      "Express the Kinetic Hamiltonian H_0 using variables γ_0, γ_1, γ_2, γ_3, γ_N, f which are only on the diagonal terms, and arrange the basis in the order of A, B, A', B', A'', B''. [Note that the sublattice degrees of freedom is suppressed for now and will be stated later]\n",
      "\n",
      "Use the following conventions for the symbols:  \n",
      "f(k) = e^(i k_y a / sqrt(3)) * (1 + 2 e^(-i 3 k_{y} a / 2sqrt(3)) * cos(k_x a / 2)), where a = 2.46 Å.  \n",
      "γ_0 = 3.12 eV, γ_1 = 0.377 eV, γ_2 = 0.01 eV, γ_3 = 0.3 eV.  \n",
      "γ_N = γ_N^0 * exp(- |k - K'| / k_r), where k_r = γ_1 / ħυ_F = 0.0573 Å^-1.\n",
      "\n",
      "# Define each term in Kinetic Hamiltonian (continuum version)\n",
      "Template:\n",
      " You will be instructed to construct each term, namely {H}_0.  \n",
      "For all energy dispersions, {H}_0, it characterizes the {Dirac} dispersion for {electrons}.   \n",
      "[In addition, a shift of {k_r} in the momentum {k} for {f(k)}, respectively.]  \n",
      "You should follow the EXAMPLE below to obtain the correct energy dispersion, select the correct EXAMPLE by noticing the type of dispersion.  \n",
      "Finally, in the real space, the momentum ${k}=-i \\partial_{r}$. You should keep the form of ${k}$ in the Hamiltonian for short notations but should remember ${k}$ is an operator.  \n",
      "Return the expression for {H}_0 in the Kinetic Hamiltonian, and substitute it into the Kinetic Hamiltonian {H}_0.  \n",
      "\n",
      "Use the following conventions for the symbols (You should also obey the conventions in all my previous prompts if you encounter undefined symbols. If you find it is never defined or has conflicts in the conventions, you should stop and let me know):  \n",
      "{f\\left( {\\bf k} \\right) &=&    e^{ i k_y a / \\sqrt{3} } \\left( 1 + 2 e^{-i 3 k_{y} a / 2\\sqrt{3}}  \n",
      "                                       \\cos \\left(  \\frac{k_x a}{2} \\right)    \\right)  \n",
      "\\end{eqnarray}\n",
      "with $a = 2.46 \\AA$ using the same triangular lattice vector convention as in Ref. [\\onlinecite{dirachf,jeilbilayer}].\n",
      "The global minus sign in front of the Hamiltonian means that $\\pi$-bonding bands \n",
      "have lower energy than anti-bonding bands when the $\\gamma$ parameters are positive.  \n",
      "In most of our calculations we have used \n",
      "graphite hopping parameter values which are similar to those in Ref. [\\onlinecite{partoens}] :\n",
      "$\\gamma_0 = 3.12$ eV, $\\gamma_1 = 0.377$ eV,  $\\gamma_2 = 0.01$ eV,  $\\gamma_3 = 0.3$ eV.\n",
      "We specifically address the importance of the signs of the remote $\\gamma_2$ and \n",
      "$\\gamma_3$ hopping parameters.  \n",
      "The near-neighbor intralayer and interlayer hopping processes $\\gamma_0$ and $\\gamma_1$ \n",
      "are responsible for broad features of the band structure, while the \n",
      "$\\gamma_2$ and $\\gamma_3$ parameters have their \n",
      "main impact close to the band-crossing points.  \n",
      "This model qualitatively reproduces the {\\em ab initio} band structure in Ref. [\\onlinecite{latil}],\n",
      "in particular capturing the orientation of the triangle formed by the three \n",
      "band-crossing points close to the Brillouin-zone corner.\n",
      "We have ignored the ABC trilayer \n",
      " $\\gamma_4$ and $\\gamma_5$ processes that break particle-hole symmetry, \n",
      "and other small onsite terms that are often introduced in models of graphite, because \n",
      "they do not visibly alter the low energy features of the bands in ABC trilayer graphene.\n",
      "\n",
      "Using a model similar to that used previously for bilayer graphene,\\cite{youngwoo,kruczynski}. \n",
      "we have also examined the influence of a term in the Hamiltonian that is intended to capture the \n",
      "influence on low-energy states of an interlayer relative-translation strain.  \n",
      "We write \n",
      "$\\gamma_N = \\gamma_N^{0} \\exp(- \\left| {\\bf k} - {\\bf K}^{(\\prime)} \\right| / k_r)$, \n",
      "introducing a damping factor which makes the term small\n",
      "away from the Brillouin-zone corners, where this form\n",
      "for the strain Hamiltonian becomes inaccurate, by setting  \n",
      "$k_r = \\gamma_1 / \\hbar \\upsilon_F = 0.0573 \\AA^{-1}$.}\n",
      "\n",
      "# Convert from single-particle to second-quantized form, return in matrix\n",
      "You will be instructed to construct the second quantized form of the total noninteracting Hamiltonian in the momentum space.  \n",
      "The noninteracting Hamiltonian in the momentum space $H_0$ is the sum of Kinetic Hamiltonian and Potential Hamiltonian.  \n",
      "To construct the second quantized form of a Hamiltonian. You should construct the creation and annihilation operators from the basis explicitly. You should follow the EXAMPLE below to convert a Hamiltonian from the single-particle form to second-quantized form.  \n",
      "Finally by \"total\", it means you need to take a summation over the momentum space position $k$.   \n",
      "Return the second quantized form of the total noninteracting Hamiltonian.  \n",
      "\n",
      "Use the following conventions for the symbols (You should also obey the conventions in all my previous prompts if you encounter undefined symbols. If you find it is never defined or has conflicts in the conventions, you should stop and let me know):  \n",
      "$f\\left( {\\bf k} \\right) = e^{ i k_y a / \\sqrt{3} } \\left( 1 + 2 e^{-i 3 k_{y} a / 2\\sqrt{3}}  \n",
      "                                       \\cos \\left(  \\frac{k_x a}{2} \\right)    \\right)$, where $a = 2.46 \\AA$.\n",
      "$\\gamma_0 = 3.12$ eV, $\\gamma_1 = 0.377$ eV,  $\\gamma_2 = 0.01$ eV,  $\\gamma_3 = 0.3$ eV.\n",
      "$\\gamma_N = \\gamma_N^{0} \\exp(- \\left| {\\bf k} - {\\bf K}^{(\\prime)} \\right| / k_r)$, where $k_r = \\gamma_1 / \\hbar \\upsilon_F = 0.0573 \\AA^{-1}$.\n",
      "\n",
      "# Convert from single-particle to second-quantized form, return in summation\n",
      "# Convert from single-particle to second-quantized form, return in summation\n",
      "# Convert from single-particle to second-quantized form, return in summation (expand the matrix)\n",
      "You will be instructed to expand the second-quantized form Hamiltonian ${H}_0$ using $\\gamma$ and $f$ as matrix elements and basis respectively. You should follow the EXAMPLE below to expand the Hamiltonian.  \n",
      "You should use any previous knowledge to simplify it. For example, if any term of $\\gamma$ is zero, you should remove it from the summation.\n",
      "Return the expanded form of ${H}_0$ after simplification.  \n",
      "\n",
      "Use the following conventions for the symbols (You should also obey the conventions in all my previous prompts if you encounter undefined symbols. If you find it is never defined or has conflicts in the conventions, you should stop and let me know):  \n",
      "$f\\left( {\\bf k} \\right) = e^{ i k_y a / \\sqrt{3} } \\left( 1 + 2 e^{-i 3 k_{y} a / 2\\sqrt{3}}  \n",
      "                                       \\cos \\left(  \\frac{k_x a}{2} \\right)    \\right)$, where $a = 2.46 \\AA$.\n",
      "$\\gamma_0 = 3.12$ eV, $\\gamma_1 = 0.377$ eV,  $\\gamma_2 = 0.01$ eV,  $\\gamma_3 = 0.3$ eV.\n",
      "$\\gamma_N = \\gamma_N^{0} \\exp(- \\left| {\\bf k} - {\\bf K}^{(\\prime)} \\right| / k_r)$, where $k_r = \\gamma_1 / \\hbar \\upsilon_F = 0.0573 \\AA^{-1}$.\n",
      "\n",
      "# Convert noninteracting Hamiltonian in real space to momentum space (continuum version)\n",
      "You will be instructed to convert the total noninteracting Hamiltonian in the second quantized form from the basis in real space to the basis by momentum space.  \n",
      "To do that, you should apply the Fourier transform to the creation operator in the real space to the creation operator in the momentum space, which is defined as the integral of the product of the creation operator and the exponential of the product of the negative imaginary unit, the momentum, and the position, where the position is integrated over the entire real space. You should follow the EXAMPLE below to apply the Fourier transform.  \n",
      "Express the total noninteracting Hamiltonian H_0 in terms of the creation operator in the momentum space. Simplify any summation index if possible.  \n",
      "\n",
      "Use the following conventions for the symbols (You should also obey the conventions in all my previous prompts if you encounter undefined symbols. If you find it is never defined or has conflicts in the conventions, you should stop and let me know):  \n",
      "The Hamiltonian H_0 is defined as a 6x6 matrix with elements consisting of the parameters γ_0, γ_1, γ_2, γ_3, and γ_N, and the function f({\\bf k}). The function f({\\bf k}) is defined as e^{ i k_y a / \\sqrt{3} } ( 1 + 2 e^{-i 3 k_{y} a / 2\\sqrt{3}} \\cos ( k_x a/2 ) ). The parameters γ_0, γ_1, γ_2, γ_3 are the hopping parameters with values 3.12 eV, 0.377 eV, 0.01 eV, and 0.3 eV respectively. The parameter γ_N is a term in the Hamiltonian that captures the influence on low-energy states of an interlayer relative-translation strain, defined as γ_N^{0} \\exp(- | {\\bf k} - {\\bf K}^{(\\prime)} | / k_r), where k_r = γ_1 / \\hbar \\upsilon_F = 0.0573 \\AA^{-1}.\n",
      "\n",
      "# Construct interaction Hamiltonian (momentum space)\n",
      "You will be instructed to construct the interaction part of the Hamiltonian $V_{HF}$ in the momentum space.  \n",
      "The interaction Hamiltonian is a product of four parts.\n",
      "The first part is the product of four operators with two creation and two annihilation operators following the normal order, namely, creation operators are before annihilation operators. You should follow the order of $1,2,2,1$ for the $\\lambda$ and $\\lambda^{\\prime}$, and $1,2,3,4$ for the ${\\bf k}$. \n",
      "The second part is the constraint of total momentum conservation, namely the total momentum of all creation operators should be the same as that of all annihilation operators.  \n",
      "The third part is the interaction form. You should use $U_H^{\\lambda \\lambda^{\\prime}}$ and $U_{X}^{\\lambda \\lambda'}$ with $V(q)=U_H^{l l^{\\prime}}$ and $U_X^{l \\, l^{\\prime}} \\left( {\\bf q} \\right)$, where $q$ is the transferred total momentum between a creation operator and an annihilation operator with the same $\\lambda$, namely $q={\\bf k}^{\\prime} - {\\bf k}$.  \n",
      "The fourth part is the normalization factor, you should use $\\frac{1}{A}$ here.\n",
      "Finally, the summation should be running over all $\\lambda$ and ${\\bf k}$\n",
      "Return the interaction term $V_{HF}$ in terms of $c^{\\dag}_{{\\bf k} \\lambda}$, $c_{{\\bf k} \\lambda}$ and $V(q)$ (with $q$ expressed in terms of ${\\bf k}$).  \n",
      "\n",
      "Use the following conventions for the symbols (You should also obey the conventions in all my previous prompts if you encounter undefined symbols. If you find it is never defined or has conflicts in the conventions, you should stop and let me know):  \n",
      "$c^{\\dag}_{{\\bf k} \\lambda}$, $c_{{\\bf k} \\lambda}$ are Bloch state creation and annihilation operators, and $\\lambda = (l,\\sigma)$ lumps lattice and spin indices. The Hartree and Exchange Coulomb integrals in Eq.(~\\ref{hfgen}), $U_H^{l l^{\\prime}}$ and $U_X^{l \\, l^{\\prime}} \\left( {\\bf q} \\right)$ involve sums over reciprocal lattice vectors ${\\bf G}$. In these equations ${\\bf s}_l$ is the (2D projection of the) position of the sublattice in the unit cell.\n",
      "\n",
      "# Wick's theorem\n",
      "You will be instructed to perform a Hartree-Fock approximation to expand the interaction term, $V_{HF}$.  \n",
      "You should use Wick's theorem to expand the four-fermion term in $V_{HF}$ into quadratic terms. You should strictly follow the EXAMPLE below to expand using Wick's theorem, select the correct EXAMPLE by noticing the order of four-term product with and without ${{}}^\\dagger$, and be extremely cautious about the order of the index and sign before each term.  \n",
      "You should only preserve the normal terms. Here, the normal terms mean the product of a creation operator and an annihilation operator.  \n",
      "Return the expanded interaction term after Hartree-Fock approximation as $V_{HF}$.\n",
      "\n",
      "Use the following conventions for the symbols (You should also obey the conventions in all my previous prompts if you encounter undefined symbols. If you find it is never defined or has conflicts in the conventions, you should stop and let me know):  \n",
      "$c^{\\dag}_{{\\bf k} \\lambda}$, $c_{{\\bf k} \\lambda}$ are Bloch state creation and annihilation operators, and $\\lambda = (l,\\sigma)$ lumps lattice and spin indices. The Hartree and Exchange Coulomb integrals in Eq.(~\\ref{hfgen}), $U_H^{l l^{\\prime}}$ and $U_X^{l \\, l^{\\prime}} \\left( {\\bf q} \\right)$ involve sums over reciprocal lattice vectors ${\\bf G}$. In these equations ${\\bf s}_l$ is the (2D projection of the) position of the sublattice in the unit cell.\n",
      "\n",
      "# Extract quadratic term\n",
      "You will be instructed to extract the quadratic terms in the Hartree-Fock term, denoted as $V_{HF}$.  \n",
      "The quadratic terms mean terms that are proportional to $c^{\\dag}_{{\\bf k} \\lambda} c_{{\\bf k} \\lambda}$ and $c^{\\dag}_{{\\bf k} \\lambda} c_{{\\bf k} \\lambda^{\\prime}}$, which excludes terms that are solely expectations or products of expectations.  \n",
      "You should only preserve the quadratic terms in $V_{HF}$, denoted as $V_{HF}^{(2)}$.  \n",
      "Return $V_{HF}^{(2)}$.  \n",
      "\n",
      "Use the following conventions for the symbols (You should also obey the conventions in all my previous prompts if you encounter undefined symbols. If you find it is never defined or has conflicts in the conventions, you should stop and let me know):  \n",
      "$c^{\\dag}_{{\\bf k} \\lambda}$ and $c_{{\\bf k} \\lambda}$ are Bloch state creation and annihilation operators, and $\\lambda = (l,\\sigma)$ lumps lattice and spin indices. The Hartree and Exchange Coulomb integrals in Eq.(~\\ref{hfgen}), denoted as $U_H^{l l^{\\prime}}$ and $U_X^{l \\, l^{\\prime}} \\left( {\\bf q} \\right)$, involve sums over reciprocal lattice vectors ${\\bf G}$. In these equations ${\\bf s}_l$ is the (2D projection of the) position of the sublattice in the unit cell.\n",
      "\n",
      "# Swap the index to combine Hartree and Fock terms\n",
      "You will be instructed to simplify the quadratic term $V_{HF}$ through relabeling the index to combine the two Hartree/Fock term into one Hartree/Fock term.  \n",
      "The logic is that the expected value $\\left<  c^{\\dag}_{{\\bf k}^{\\prime} \\lambda^{\\prime}} c_{{\\bf k}^{\\prime} \\lambda^{\\prime}} \\right>$ in the first Hartree term $U_H^{\\lambda \\lambda^{\\prime}}$ has the same form as the quadratic operators in the second Hartree term $U_{X}^{\\lambda \\lambda'}$, and vice versa. The same applies to the Fock term.  \n",
      "This means, if you relabel the index by swapping the index in the \"expected value\" and \"quadratic operators\" in the second Hartree term, you can make the second Hartree term look identical to the first Hartree term, as long as $V(q)=V(-q)$, which is naturally satisfied in Coulomb interaction. You should follow the EXAMPLE below to simplify it through relabeling the index.  \n",
      "You should perform this trick of \"relabeling the index\" for both two Hartree terms and two Fock terms to reduce them to one Hartree term, and one Fock term.  \n",
      "Return the simplified $V_{HF}$ which reduces from four terms (two Hartree and two Fock terms) to only two terms (one Hartree and one Fock term).\n",
      "\n",
      "# Reduce momentum in Hartree term (momentum in BZ + reciprocal lattice)\n",
      "You will be instructed to simplify the Hartree term in $V_{HF}$ by reducing the momentum inside the expected value $\\left<  c^{\\dag}_{{\\bf k}^{\\prime} \\lambda^{\\prime}} c_{{\\bf k}^{\\prime} \\lambda^{\\prime}} \\right>$.  \n",
      "The expected value $\\left<  c^{\\dag}_{{\\bf k}^{\\prime} \\lambda^{\\prime}} c_{{\\bf k}^{\\prime} \\lambda^{\\prime}} \\right>$ is only nonzero when the two momenta ${\\bf k}^{\\prime}$ are the same, namely, $\\left<  c^{\\dag}_{{\\bf k}^{\\prime} \\lambda^{\\prime}} c_{{\\bf k}^{\\prime} \\lambda^{\\prime}} \\right> \\neq 0$.  \n",
      "You should use the property of Kronecker delta function $\\delta_{{{\\bf k}^{\\prime},{\\bf k}^{\\prime}}}$ to reduce one momentum ${\\bf k}^{\\prime}$ but not $c_{{\\bf k}^{\\prime} \\lambda^{\\prime}}$.\n",
      "Once you reduce one momentum inside the expected value $\\left<  c^{\\dag}_{{\\bf k}^{\\prime} \\lambda^{\\prime}} c_{{\\bf k}^{\\prime} \\lambda^{\\prime}} \\right>$. You will also notice the total momentum conservation will reduce another momentum in the quadratic term. Therefore, you should end up with only two momenta left in the summation.  \n",
      "You should follow the EXAMPLE below to reduce one momentum in the Hartree term, and another momentum in the quadratic term.  \n",
      "Return the final simplified Hartree term $V_{HF}$.\n",
      "\n",
      "# Reduce momentum in Fock term (momentum in BZ + reciprocal lattice)\n",
      "You will be instructed to simplify the Fock term in $V_{HF}$ by reducing the momentum inside the expected value $\\left<  c^{\\dag}_{{\\bf k}^{\\prime} \\lambda^{\\prime}} c_{{\\bf k}^{\\prime} \\lambda^{\\prime}} \\right>$ and $\\left<  c^{\\dag}_{{\\bf k}^{\\prime} \\lambda^{\\prime}} c_{{\\bf k}^{\\prime} \\lambda} \\right>$.  \n",
      "The expected value $\\left<  c^{\\dag}_{{\\bf k}^{\\prime} \\lambda^{\\prime}} c_{{\\bf k}^{\\prime} \\lambda^{\\prime}} \\right>$ and $\\left<  c^{\\dag}_{{\\bf k}^{\\prime} \\lambda^{\\prime}} c_{{\\bf k}^{\\prime} \\lambda} \\right>$ is only nonzero when the two momenta ${\\bf k}^{\\prime}$ are the same, namely, ${\\bf k}^{\\prime} = {\\bf k}$.  \n",
      "You should use the property of Kronecker delta function $\\delta_{{k_i,k_j}}$ to reduce one momentum ${\\bf k}^{\\prime}$ but not ${\\bf k}$.  \n",
      "Once you reduce one momentum inside the expected value $\\langle\\dots\\rangle$. You will also notice the total momentum conservation will reduce another momentum in the quadratic term. Therefore, you should end up with only two momenta left in the summation.\n",
      "You should follow the EXAMPLE below to reduce one momentum in the Fock term, and another momentum in the quadratic term.    \n",
      "Return the final simplified Fock term $V_{HF}$.\n",
      "\n",
      "# Combine the Hartree and Fock term\n",
      "You will now be instructed to combine the Hartree term $U_H^{\\lambda \\lambda^{\\prime}}$ and the Fock term $U_{X}^{\\lambda \\lambda'}$.  \n",
      "You should perform the same trick of relabeling the index in the Fock term to make the quadratic operators in the Fock term the same as those in the Hartree term. The relabeling should be done with a swap : ${\\bf k}^{\\prime} \\lambda^{\\prime}$ with ${\\bf k} \\lambda$.\n",
      "You should add them, relabel the index in Fock term, and simply their sum. \n",
      "Return the final sum of Hartree and Fock term.\n",
      "\n",
      "# Construct full Hamiltonian after HF\n",
      "You will be instructed to construct the entire Hamiltonian after the Hartree-Fock approximation $V_{HF}$. \n",
      "You should first recall the Kinetic Hamiltonian {kinetic_symbol} is {expression_kinetic}.  \n",
      "You should then recall the interacting Hamiltonian {int_symbol} is $V_{HF} = \\sum_{{\\bf k} \\lambda \\lambda^{\\prime}} U_H^{\\lambda \\lambda^{\\prime}}\n",
      "\\left[ \\sum_{{\\bf k}^{\\prime}}\n",
      "\\left<  c^{\\dag}_{{\\bf k}^{\\prime} \\lambda^{\\prime}} c_{{\\bf k}^{\\prime} \\lambda^{\\prime}} \\right>  \\right]\n",
      "c^{\\dag}_{{\\bf k} \\lambda} c_{{\\bf k} \\lambda}   \\nonumber  \\\\  %\n",
      "&-& \\sum_{{\\bf k}^{\\prime}\\lambda \\lambda^{\\prime}} U_{X}^{\\lambda \\lambda'}\n",
      "\\left({\\bf k}^{\\prime} - {\\bf k} \\right)\n",
      "\\left<  c^{\\dag}_{{\\bf k}^{\\prime} \\lambda^{\\prime}} c_{{\\bf k}^{\\prime} \\lambda} \\right>\n",
      "c^{\\dag}_{{\\bf k} \\lambda} c_{{\\bf k} \\lambda^{\\prime}}$.  \n",
      "You should then combine {kinetic_symbol} with the interacting Hamiltonian $V_{HF}$ after the Hartree-Fock approximation, which is the entire Hamiltonian {Ham_symbol} after Hartree-Fock.  \n",
      "Return the expression for {Ham_symbol}.  \n",
      "\n",
      "Use the following conventions for the symbols (You should also obey the conventions in all my previous prompts if you encounter undefined symbols. If you find it is never defined or has conflicts in the conventions, you should stop and let me know):  \n",
      "$c^{\\dag}_{{\\bf k} \\lambda}$, $c_{{\\bf k} \\lambda}$ are Bloch state creation and annihilation operators, and $\\lambda = (l,\\sigma)$ lumps lattice and spin indices. The Hartree and Exchange Coulomb integrals in Eq.(~\\ref{hfgen}), $U_H^{l l^{\\prime}}$ and $U_X^{l \\, l^{\\prime}} \\left( {\\bf q} \\right)$ involve sums over reciprocal lattice vectors ${\\bf G}$. In these equations ${\\bf s}_l$ is the (2D projection of the) position of the sublattice in the unit cell.\n",
      "\n",
      "\n"
     ]
    }
   ],
   "source": [
    "print(string)"
   ]
  },
  {
   "cell_type": "code",
   "execution_count": 36,
   "metadata": {},
   "outputs": [],
   "source": [
    "with open(pwd.split('/')[-1]+'_extractor.md','w') as f:\n",
    "    f.write(string)"
   ]
  },
  {
   "cell_type": "code",
   "execution_count": null,
   "metadata": {},
   "outputs": [],
   "source": []
  }
 ],
 "metadata": {
  "kernelspec": {
   "display_name": "base",
   "language": "python",
   "name": "python3"
  },
  "language_info": {
   "codemirror_mode": {
    "name": "ipython",
    "version": 3
   },
   "file_extension": ".py",
   "mimetype": "text/x-python",
   "name": "python",
   "nbconvert_exporter": "python",
   "pygments_lexer": "ipython3",
   "version": "3.8.11"
  },
  "orig_nbformat": 4
 },
 "nbformat": 4,
 "nbformat_minor": 2
}
