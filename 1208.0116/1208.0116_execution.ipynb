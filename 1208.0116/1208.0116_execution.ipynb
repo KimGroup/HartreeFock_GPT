{
 "cells": [
  {
   "cell_type": "code",
   "execution_count": 27,
   "metadata": {},
   "outputs": [],
   "source": [
    "from IPython.display import Markdown\n",
    "\n",
    "import sys\n",
    "sys.path.append('..')\n",
    "from utils import *"
   ]
  },
  {
   "cell_type": "code",
   "execution_count": 130,
   "metadata": {},
   "outputs": [],
   "source": [
    "prompt_template='../prompt_template.md'\n",
    "arxiv_number='1208.0116'\n",
    "prompt_dict=load_prompt_template(prompt_template)\n",
    "with open(f'{arxiv_number}.yaml','r') as f:\n",
    "    kwargs= yaml.safe_load(f)"
   ]
  },
  {
   "cell_type": "code",
   "execution_count": 132,
   "metadata": {},
   "outputs": [],
   "source": [
    "prompt=generate_prompt(kwargs[11],prompt_dict)"
   ]
  },
  {
   "cell_type": "code",
   "execution_count": 128,
   "metadata": {},
   "outputs": [
    {
     "data": {
      "text/markdown": [
       "You will now be instructed to combine the Hartree term $V_{H}^{(2)}$ and the Fock term $V_{F}^{(2)}$.  \n",
       "You should recall that the Hartree term $V_{H}^{(2)} = \\frac{1}{A} \\sum_{{\\bf k}_1, {\\bf k}_2} \\sum_{\\lambda_1, \\lambda_2} V(0)  \\langle c^{\\dag}_{{\\bf k}_1 \\lambda_1} c_{{\\bf k}_1 \\lambda_1} \\rangle c^{\\dag}_{{\\bf k}_2 \\lambda_2} c_{{\\bf k}_2 \\lambda_2}$.,  \n",
       "and the Fock term $V_{F}^{(2)} = -\\frac{1}{A} \\sum_{{\\bf k}_1, {\\bf k}_2} \\sum_{\\lambda_1, \\lambda_2} V({\\bf k}_1 - {\\bf k}_2)  \\langle c^{\\dag}_{{\\bf k}_1 \\lambda_1} c_{{\\bf k}_1 \\lambda_2} \\rangle c^{\\dag}_{{\\bf k}_2 \\lambda_2} c_{{\\bf k}_2 \\lambda_1}$..  \n",
       "You should perform the same trick of relabeling the index in the Fock term to make the quadratic operators in the Fock term the same as those in the Hartree term. The relabeling should be done with a swap : Not needed.\n",
       "You should add them, relabel the index in Fock term, and simply their sum. \n",
       "Return the final sum of Hartree and Fock term."
      ],
      "text/plain": [
       "<IPython.core.display.Markdown object>"
      ]
     },
     "execution_count": 128,
     "metadata": {},
     "output_type": "execute_result"
    }
   ],
   "source": [
    "Markdown(prompt['content'])"
   ]
  },
  {
   "cell_type": "code",
   "execution_count": 31,
   "metadata": {},
   "outputs": [
    {
     "name": "stdout",
     "output_type": "stream",
     "text": [
      "You will be instructed to construct each term, namely γ_0, γ_1, γ_2, γ_3, γ_N, f.  \n",
      "For all energy dispersions, γ_0, γ_1, γ_2, γ_3, γ_N, f, it characterizes the cos dispersion for electrons.   \n",
      "  \n",
      "You should follow the EXAMPLE below to obtain the correct energy dispersion, select the correct EXAMPLE by noticing the type of dispersion.  \n",
      "Finally, in the real space, the momentum $None=-i \\partial_{r}$. You should keep the form of $None$ in the Hamiltonian for short notations but should remember $None$ is an operator.  \n",
      "You should recall that $$\\begin{pmatrix}\n",
      "0                    &    \\gamma_0 f         &   0 %\\gamma_4 f   \n",
      "  &   \\gamma_3 f^* + \\gamma_N  &  0    &   \\gamma_2   \\\\\n",
      "\\gamma_0 f^*    &      0                        &   \\gamma_1      &   %\\gamma_4 f      \n",
      "&  0    &   0 \\\\\n",
      "%\\gamma_4 f^*\n",
      "0 &       \\gamma_1        &                     0   &   \\gamma_0 f      &  0 %\\gamma_4 f    \n",
      "&   \\gamma_3 f^* \\\\\n",
      "\\gamma_3 f   + \\gamma_N^*    &   0 %\\gamma_4 f^*       \n",
      "& \\gamma_0 f^*   &    0    &      \\gamma_1    &   0   \\\\\n",
      "0                        &   0                           &  0  %\\gamma_4 f^{*}             \n",
      "&   \\gamma_1     &     0    &   \\gamma_0 f   \\\\\n",
      "\\gamma_2                        &   0                           & \\gamma_3 f                       &    0    &     \\gamma_0 f^*    &   0   \\\\\n",
      "\\end{pmatrix}$$\n",
      ".    \n",
      "Return the expression for γ_0, γ_1, γ_2, γ_3, γ_N, f in the Kinetic Hamiltonian, and substitute it into the Kinetic Hamiltonian {H}_0\n",
      ".  \n",
      "\n",
      "Use the following conventions for the symbols (You should also obey the conventions in all my previous prompts if you encounter undefined symbols. If you find it is never defined or has conflicts in the conventions, you should stop and let me know):  \n",
      "f(k) = e^(i k_y a / sqrt(3)) * (1 + 2 e^(-i 3 k_{y} a / 2sqrt(3)) * cos(k_x a / 2)), where a = 2.46 Å.  \n",
      "γ_0 = 3.12 eV, γ_1 = 0.377 eV, γ_2 = 0.01 eV, γ_3 = 0.3 eV.  \n",
      "γ_N = γ_N^0 * exp(- |k - K'| / k_r), where k_r = γ_1 / ħυ_F = 0.0573 Å^-1.\n",
      "\n",
      "\n",
      "===  \n",
      "EXAMPLE 1:  \n",
      "A parabolic dispersion for electron is $E_{\\alpha}=\\frac{\\hbar^2 k^2}{2m_{\\alpha}}$, where $\\alpha$ indicates the type of electron.  If there is a further shift of $q$ in the momentum $k$, the dispersion will become $E_{\\alpha}=\\frac{\\hbar^2 (k-q)^2}{2m_{\\alpha}}$.\n",
      "\n",
      "EXAMPLE 2:\n",
      "A cos dispersion is $E_{\\alpha}=-\\cos(k a / 2)$, where $\\alpha$ indicates the type of particle.  If there is a further shift of $q$ in the momentum $k$, the dispersion will become $E_{\\alpha}=-\\cos((k-q) a / 2))$. However, there could be more prefactors before cos depending on the geometry of the lattice.\n",
      "\n",
      "EXAMPLE 3:  \n",
      "A dirac dispersion for electron/hole is a 2 by 2 matrix, i.e., $h_{\\theta}(k)=-\\hbar v_D |k| \\begin{pmatrix}  0 & e^{i(\\theta_{k}-\\theta)}\\\\ e^{-i(\\theta_{\\bar{k}}-\\theta)} & 0 \\end{pmatrix}$, where $v_D$ is the Fermi velocity, $\\theta$ is the twist angle, and $\\theta_k$ indicates the azumith angle of $k$. If there is a further shift of $K_{\\theta}$ in the momentum $k$, the dispersion will become $h_{\\theta}(k)=-\\hbar v_D |k-K_{\\theta}| \\begin{pmatrix}  0 & e^{i(\\theta_{k-K_{\\theta}}-\\theta)}\\\\ e^{-i(\\theta_{k-K_{\\theta}}-\\theta)} & 0 \\end{pmatrix}$.\n"
     ]
    }
   ],
   "source": [
    "print(prompt['content'])"
   ]
  },
  {
   "cell_type": "code",
   "execution_count": null,
   "metadata": {},
   "outputs": [],
   "source": []
  }
 ],
 "metadata": {
  "kernelspec": {
   "display_name": "base",
   "language": "python",
   "name": "python3"
  },
  "language_info": {
   "codemirror_mode": {
    "name": "ipython",
    "version": 3
   },
   "file_extension": ".py",
   "mimetype": "text/x-python",
   "name": "python",
   "nbconvert_exporter": "python",
   "pygments_lexer": "ipython3",
   "version": "3.11.4"
  }
 },
 "nbformat": 4,
 "nbformat_minor": 2
}
