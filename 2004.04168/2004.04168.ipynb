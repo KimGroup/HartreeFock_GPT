{
 "cells": [
  {
   "cell_type": "code",
   "execution_count": 1,
   "metadata": {},
   "outputs": [],
   "source": [
    "import openai\n",
    "import pandas as pd\n",
    "import json\n",
    "from IPython.display import Markdown\n",
    "import sys"
   ]
  },
  {
   "cell_type": "code",
   "execution_count": 3,
   "metadata": {},
   "outputs": [],
   "source": [
    "zz=openai.Model.list()"
   ]
  },
  {
   "cell_type": "code",
   "execution_count": 4,
   "metadata": {},
   "outputs": [
    {
     "data": {
      "text/plain": [
       "62"
      ]
     },
     "execution_count": 4,
     "metadata": {},
     "output_type": "execute_result"
    }
   ],
   "source": [
    "len(zz['data'])"
   ]
  },
  {
   "cell_type": "code",
   "execution_count": 5,
   "metadata": {},
   "outputs": [
    {
     "data": {
      "text/plain": [
       "['gpt-4-0314',\n",
       " 'gpt-3.5-turbo-16k-0613',\n",
       " 'gpt-3.5-turbo-0301',\n",
       " 'gpt-3.5-turbo-16k',\n",
       " 'gpt-4',\n",
       " 'gpt-3.5-turbo',\n",
       " 'gpt-3.5-turbo-0613',\n",
       " 'gpt-4-0613']"
      ]
     },
     "execution_count": 5,
     "metadata": {},
     "output_type": "execute_result"
    }
   ],
   "source": [
    "[zz['data'][idx]['id'] for idx in range(len(zz['data'])) if 'gpt' in zz['data'][idx]['id']]"
   ]
  },
  {
   "cell_type": "code",
   "execution_count": 6,
   "metadata": {},
   "outputs": [],
   "source": [
    "model_params = {\n",
    "    'model': \"gpt-4\",\n",
    "    'temperature': 0,,\n",
    "}"
   ]
  },
  {
   "cell_type": "code",
   "execution_count": 2,
   "metadata": {},
   "outputs": [],
   "source": [
    "def print_save(string, file='../cmp2.md'):\n",
    "    print(string)\n",
    "    with open(file,'w') as f:\n",
    "        f.write(string)"
   ]
  },
  {
   "cell_type": "markdown",
   "metadata": {},
   "source": [
    "## Load `prompt_template.md`"
   ]
  },
  {
   "cell_type": "code",
   "execution_count": 3,
   "metadata": {},
   "outputs": [],
   "source": [
    "sys.path.append('..')\n",
    "from utils import *\n",
    "from functools import partial"
   ]
  },
  {
   "cell_type": "code",
   "execution_count": 4,
   "metadata": {},
   "outputs": [],
   "source": [
    "# prompt_dict=load_prompt_template('../prompt_template.md')\n",
    "prompt_dict = partial(load_prompt_template,file='../prompt_template.md')"
   ]
  },
  {
   "cell_type": "code",
   "execution_count": null,
   "metadata": {},
   "outputs": [],
   "source": [
    "prompt_dict().keys()"
   ]
  },
  {
   "cell_type": "code",
   "execution_count": 4,
   "metadata": {},
   "outputs": [],
   "source": [
    "with open('2004.04168.jsonl','r') as f:\n",
    "    kwargs= [json.loads(line) for line in f]\n"
   ]
  },
  {
   "cell_type": "code",
   "execution_count": 5,
   "metadata": {},
   "outputs": [],
   "source": [
    "import re\n",
    "import string\n",
    "def format_check(s, kwargs):\n",
    "    placeholders=  [v[1] for v in (string.Formatter().parse(s)) if v[1] is not None]\n",
    "    extra_args = set(kwargs.keys()) - set(placeholders+ ['task','answer'])  # Check for extra args.\n",
    "    return extra_args\n"
   ]
  },
  {
   "cell_type": "code",
   "execution_count": 6,
   "metadata": {},
   "outputs": [
    {
     "data": {
      "text/plain": [
       "[set(), set(), set(), set(), set(), set(), set()]"
      ]
     },
     "execution_count": 6,
     "metadata": {},
     "output_type": "execute_result"
    }
   ],
   "source": [
    "[format_check(prompt_dict[kwarg['task']],kwarg) for kwarg in kwargs]"
   ]
  },
  {
   "cell_type": "code",
   "execution_count": 11,
   "metadata": {},
   "outputs": [],
   "source": [
    "df=pd.DataFrame(list(prompt_dict().items()),columns=['Task','Prompt'])"
   ]
  },
  {
   "cell_type": "markdown",
   "metadata": {},
   "source": [
    "## Construct Kinetic Hamiltonian (lattice version)"
   ]
  },
  {
   "cell_type": "code",
   "execution_count": 8,
   "metadata": {},
   "outputs": [],
   "source": [
    "user_msg=[]\n",
    "AI_msg=[]\n",
    "sys_msg=[{'role': 'system', 'content': prompt_dict()['Preamble']}]\n",
    "kwargs_list=[]"
   ]
  },
  {
   "cell_type": "code",
   "execution_count": 9,
   "metadata": {},
   "outputs": [],
   "source": [
    "kwargs = {\n",
    "    'task': 'Construct Kinetic Hamiltonian (lattice version)',\n",
    "    'system': 'the bilayer WSe$_2$',\n",
    "    'real|momentum': 'real',\n",
    "    'single-particle|second-quantized': 'second-quantized',\n",
    "    'dof': r'spin index ($\\uparrow$ and $\\downarrow$)',\n",
    "    'site i and site j with the amplitude hopping': r'''1. $c_{s}^\\dagger(R_i)$ and $c_{s}^\\dagger(R_j)$ with the hopping amplitude $t_s(R_i-R_j)$.''',\n",
    "    'kinetic_symbol': r'$\\hat{H}_{Kinetic}$',\n",
    "    'You should ensure the hermiticity of the Hamiltonian|None': '',\n",
    "    'def_var': r'''$s$ : spin index  \n",
    "$\\uparrow$ : spin up  \n",
    "$\\downarrow$ : spin down  \n",
    "$c_s^\\dagger(R_i)$ : annihilation operator at site $i$ with spin $s$  \n",
    "$t_s(R_i-R_j)$ : hopping parameter from site $i$ to site $j$ with spin $s$  \n",
    "$R_i$ : real space position of site $i$  \n",
    "$\\hat{H}_{Kinetic}$ : kinetic term of Hamiltonian in the real space in the second quantized form  ''',\n",
    "    'answer':    r'''$$\\hat{H}_{Kinetic} = \\sum_{R_i, R_j} \\sum_{s=\\uparrow,\\downarrow} t_s(R_i - R_j) \\, c_{s}^\\dagger(R_i) c_{s}(R_j)$$''',\n",
    "'source': {'2004.04168.tex':[(226, 230),(246,251)]}\n",
    "\n",
    "}\n"
   ]
  },
  {
   "cell_type": "code",
   "execution_count": 10,
   "metadata": {},
   "outputs": [
    {
     "name": "stdout",
     "output_type": "stream",
     "text": [
      "You will be instructed to describe the kinetic term of Hamiltonian in the bilayer WSe$_2$ in the real space in the second-quantized form.   \n",
      "The degrees of freedom of the system are: spin index ($\\uparrow$ and $\\downarrow$)     \n",
      "The kinetic term is a tight-binding model composed of the following hopping process: \n",
      "1. $c_{s}^\\dagger(R_i)$ and $c_{s}^\\dagger(R_j)$ with the hopping amplitude $t_s(R_i-R_j)$.\n",
      "\n",
      "The summation should be taken over all spin index ($\\uparrow$ and $\\downarrow$) and all real space positions.  \n",
      "Return the Kinetic Hamiltonian $\\hat{H}_{Kinetic}$.\n",
      "\n",
      "Use the following conventions for the symbols:  \n",
      "$s$ : spin index  \n",
      "$\\uparrow$ : spin up  \n",
      "$\\downarrow$ : spin down  \n",
      "$c_s^\\dagger(R_i)$ : annihilation operator at site $i$ with spin $s$  \n",
      "$t_s(R_i-R_j)$ : hopping parameter from site $i$ to site $j$ with spin $s$  \n",
      "$R_i$ : real space position of site $i$  \n",
      "$\\hat{H}_{Kinetic}$ : kinetic term of Hamiltonian in the real space in the second quantized form\n"
     ]
    }
   ],
   "source": [
    "print_save(generate_prompt(kwargs,prompt_dict=prompt_dict())['content'])"
   ]
  },
  {
   "cell_type": "code",
   "execution_count": 11,
   "metadata": {},
   "outputs": [
    {
     "name": "stdout",
     "output_type": "stream",
     "text": [
      "\tThe corresponding tight-binding model on the triangular lattice formed by $\\mathcal{R}_M^M$ sites can be parametrized as\n",
      "\t\\begin{equation}\\label{eq:tb}\n",
      "\tH_{\\text{TB}}=\\sum_{s}\\sum_{i,j}^{} t_{s}\\left(\\bm{R}_i-\\bm{R}_j\\right) c_{i,s}^\\dagger c_{j,s},\n",
      "\t\\end{equation}\n",
      "\twhere $ s= \\uparrow,\\downarrow\\ $ represents spin $\\uparrow$ and $\\downarrow$ states associated respectively with $ +K $ and $-K$ valleys, $ \\bm{R}_i $ represents a site in the triangular lattice, and $ c_{j,s} $ ($ c_{j,s}^\\dagger $) is  electron annihilation (creation) operator. $t_{s}\\left(\\bm{R}_i-\\bm{R}_j\\right)$ is the hopping parameter, which is constrained by the following relations. (1) Hermiticity of Hamiltonian~\\eqref{eq:tb} requires that $  t_{s}\\left(\\bm{R}\\right)= t_{s}^*\\left(-\\bm{R}\\right)  $; (2) threefold rotational symmetry ($ C_3 $) requires that $  t_{s}\\left(\\bm{R}\\right) =  t_{s}\\left(\\hat{\\mathcal{R}}(2\\pi/3)\\bm{R}\\right)  $, where $ \\hat{\\mathcal{R}}(2\\pi/3) $ is a $2\\pi/3$ rotation matrix; (3) time-reversal symmetry ($ \\mathcal{T} $) requires that $  t_{s}\\left(\\bm{R}\\right)= t_{-s}^*\\left(\\bm{R}\\right) $. In Fig.~\\ref{fig:lattice}, we use $ \\abs{t_n} $ and $ \\phi_{n}^{\\uparrow} $ to denote the magnitude and phase for {\\it representative} hopping parameters between $n$-th nearest neighbors in the spin $\\uparrow$ channel. Since all the hopping terms within the $n$-th hopping shell are related by the aforementioned three relations, they can be determined once $ \\abs{t_n} $ and $ \\phi_{n}^{\\uparrow} $ are determined.\n",
      "\tMany-body interactions are effectively enhanced for electrons in the moir\\'e band with a narrow bandwidth because of the strongly suppressed kinetic energy. By combining  the tight-binding Hamiltonian in Eq.~\\eqref{eq:tb} with electron-electron Coulomb repulsion, we can construct a generalized Hubbard model:\n",
      "\t\\begin{eqnarray}\\label{eq:hubbard}\n",
      "\tH&=&\\sum_{s}\\sum_{i,j}^{} t_{s}\\left(\\bm{R}_i-\\bm{R}_j\\right) c_{i,s}^\\dagger c_{j,s}\\nonumber\\\\\n",
      "\t&+&\\frac{1}{2}\\sum_{s,s'}\\sum_{i,j}U(\\bm{R}_i-\\bm{R}_j) c_{i,s}^\\dagger c_{j,s'}^\\dagger c_{j,s'} c_{i,s},\n",
      "\t\\end{eqnarray}\n",
      "\twhere the repulsion $ U(\\bm{R}_i-\\bm{R}_j) $ between sites $i$ and $j$ is calculated by projecting the Coulomb repulsion $\\tilde{U}(\\bm{r})=e^2/(\\epsilon r)$ onto the Wannier states. Here $\\epsilon$ is the effective background dielectric constant that can be controlled by the three-dimensional dielectric environment. We take $\\epsilon$ as a free parameter in our theory since its precise value is tunable (and not always precisely known). Numerical values of $U_0$ (on site repulsion) and $U_n$ ($n=1,2,3$ for repulsion between $n$-th nearest neighbors) are presented in Fig.~\\ref{fig:hopping}(b). For a typical value of $\\epsilon$ about 10, the on-site interaction $U_0$ can be at least one order-of-magnitude greater than the hopping parameters for twist angle $\\theta$ below $5^{\\circ}$. Therefore, tWSe$_2$ provides a platform to simulate the generalized Hubbard model on a triangular lattice. Moreover, the hopping parameters can be {\\it in situ} controlled by an external displacement field. The effective interacting model is a generalized Hubbard model since both interaction and hopping in Eq.~\\eqref{eq:hubbard} are not necessarily restricted to being on-site or nearest-neighbor, respectively as the whole many-body Hamiltonian matrix of Eq.~\\eqref{eq:hubbard} can be calculated from our moir\\'e band calculations for a given $ \\epsilon $.\n",
      "\n"
     ]
    }
   ],
   "source": [
    "# text=''\n",
    "# for file, position in kwargs['source'].items():\n",
    "#     with open(file,'r') as f:\n",
    "#         f_list=list(f)\n",
    "#         for left,right in position:\n",
    "#             text+=''.join(f_list[left-1:right])\n",
    "# print(text)"
   ]
  },
  {
   "cell_type": "code",
   "execution_count": 12,
   "metadata": {},
   "outputs": [],
   "source": [
    "# user_msg.append(generate_prompt(kwargs,prompt_dict=prompt_dict))"
   ]
  },
  {
   "cell_type": "code",
   "execution_count": 13,
   "metadata": {},
   "outputs": [],
   "source": [
    "# messages=assembly_message(sys_msg,user_msg,AI_msg)"
   ]
  },
  {
   "cell_type": "code",
   "execution_count": 14,
   "metadata": {},
   "outputs": [],
   "source": [
    "# rs = openai.ChatCompletion.create(messages=messages, **model_params)\n",
    "\n",
    "# Markdown(rs['choices'][0]['message'].content)"
   ]
  },
  {
   "cell_type": "code",
   "execution_count": 15,
   "metadata": {},
   "outputs": [],
   "source": [
    "# AI_msg.append(dict(rs['choices'][0]['message']))"
   ]
  },
  {
   "cell_type": "code",
   "execution_count": 16,
   "metadata": {},
   "outputs": [],
   "source": [
    "# rs['choices'][0]['message'].content"
   ]
  },
  {
   "cell_type": "code",
   "execution_count": 17,
   "metadata": {},
   "outputs": [],
   "source": [
    "kwargs_list.append(kwargs)"
   ]
  },
  {
   "cell_type": "markdown",
   "metadata": {},
   "source": [
    "## Construct interaction Hamiltonian (real space, lattice version)"
   ]
  },
  {
   "cell_type": "code",
   "execution_count": 18,
   "metadata": {},
   "outputs": [],
   "source": [
    "kwargs = {\n",
    "    'task':'Construct interaction Hamiltonian (real space, lattice version)',\n",
    "    'second_int_symbol':  r'$\\hat{H}^{int}$',\n",
    "    'kinetic_symbol': r'$\\hat{H}_{Kinetic}$',\n",
    "    'site i and site j with the interaction strength': r'''1. interaction between $n_s(R_i)$ and $n_{s^\\prime}(R_j)$ with interaction strength $U(R_i-R_j)/2$ ''',\n",
    "    'dof':r'spin index ($\\uparrow$ and $\\downarrow$)',\n",
    "    'density_symbol':r'$n_s^\\dagger(R_i)$',\n",
    "\n",
    "\n",
    "    'def_var': r'''$U(R_i-R_j)$ : electron-electron Coulomb repulsion in the interaction  ''',\n",
    "    'answer':r'''$$\\hat{H}^{int} = \\frac{1}{2} \\sum_{R_i, R_j} \\sum_{s, s'=\\uparrow,\\downarrow} U(R_i - R_j) \\, n_{s}(R_i) n_{s'}(R_j)$$''',\n",
    "'source': {'2004.04168.tex':[(246,251)]}\n",
    "\n",
    "}\n"
   ]
  },
  {
   "cell_type": "code",
   "execution_count": 19,
   "metadata": {},
   "outputs": [
    {
     "name": "stdout",
     "output_type": "stream",
     "text": [
      "You will be instructed to construct the interaction part of the Hamiltonian, $\\hat{H}^{int}$ in the real space in the second-quantized form.   \n",
      "The interacting Hamiltonian has the same degrees of freedom as the kinetic Hamiltonian $\\hat{H}_{Kinetic}$.  \n",
      "The interaction is a density-density interaction composed of the following process:\n",
      "1. interaction between $n_s(R_i)$ and $n_{s^\\prime}(R_j)$ with interaction strength $U(R_i-R_j)/2$ \n",
      "The summation should be taken over all spin index ($\\uparrow$ and $\\downarrow$) and all real space positions.  \n",
      "Return the interaction term $\\hat{H}^{int}$ in terms of $n_s^\\dagger(R_i)$.\n",
      "\n",
      "Use the following conventions for the symbols (You should also remember the conventions in my previous prompts if there are no conflicts. If you have conflicts in the conventions, you should stop and let me know): \n",
      "$U(R_i-R_j)$ : electron-electron Coulomb repulsion in the interaction\n"
     ]
    }
   ],
   "source": [
    "print_save(generate_prompt(kwargs,prompt_dict=prompt_dict())['content'])"
   ]
  },
  {
   "cell_type": "code",
   "execution_count": 20,
   "metadata": {},
   "outputs": [],
   "source": [
    "kwargs_list.append(kwargs)"
   ]
  },
  {
   "cell_type": "markdown",
   "metadata": {},
   "source": [
    "## Convert noninteracting Hamiltonian in real space to momentum space (lattice version)"
   ]
  },
  {
   "cell_type": "code",
   "execution_count": 21,
   "metadata": {},
   "outputs": [],
   "source": [
    "kwargs = {\n",
    "    'task':'Convert noninteracting Hamiltonian in real space to momentum space (lattice version)',\n",
    "    'nonint_symbol': r'$\\hat{H}_{Kinetic}$',\n",
    "    'real_creation_op': r'$c_s^\\dagger(R_i)$',\n",
    "    'momentum_creation_op': r'$c_s^\\dagger(k)$',\n",
    "    'def_FT': r'$c_s^\\dagger(k)= \\frac{1}{\\sqrt{N}} \\sum_i c_s^\\dagger(R_i) e^{i k \\cdot R_i}$',\n",
    "    'real_var': '$i$',\n",
    "    'Note that hopping have no position dependence now|None':r'',\n",
    "\n",
    "    'expression_nonint': r'''$$\\hat{H}_{Kinetic} = \\sum_{R_i, R_j} \\sum_{s=\\uparrow,\\downarrow} t_s(R_i - R_j) \\, c_{s}^\\dagger(R_i) c_{s}(R_j)$$''',\n",
    "    'def_var': r'''$c_s(k)$ : electron annihilation operator at momentum $k$, spin $s$  \n",
    "$c_s^\\dagger(k)$ : electron creation operator at momentum $k$, spin $s$  \n",
    "$N$ : number of the unit cells in the real space''',\n",
    "    'answer':r'''$\\hat{H}_{Kinetic} = \\sum_{s, k} E_s(k) c^\\dagger_s(k)  c_s(k)$, where $E_s(k)=\\sum_{n} t_s(n) e^{-i k \\cdot n}$''',\n",
    "'source': {}\n",
    "}\n"
   ]
  },
  {
   "cell_type": "code",
   "execution_count": 22,
   "metadata": {},
   "outputs": [
    {
     "name": "stdout",
     "output_type": "stream",
     "text": [
      "You will be instructed to convert the noninteracting Hamiltonian $\\hat{H}_{Kinetic}$ in the second quantized form from the basis in real space to the basis in momentum space. \n",
      "To do that, you should apply the Fourier transformation to $c_s^\\dagger(R_i)$ in the real space to the $c_s^\\dagger(k)$ in the momentum space, which is defined as $c_s^\\dagger(k)= \\frac{1}{\\sqrt{N}} \\sum_i c_s^\\dagger(R_i) e^{i k \\cdot R_i}$, where $i$ is integrated over all sites in the entire real space. You should follow the EXAMPLE below to apply the Fourier transformation. \n",
      "You should recall that $$\\hat{H}_{Kinetic} = \\sum_{R_i, R_j} \\sum_{s=\\uparrow,\\downarrow} t_s(R_i - R_j) \\, c_{s}^\\dagger(R_i) c_{s}(R_j)$$\n",
      "Express the total noninteracting Hamiltonian $\\hat{H}_{Kinetic}$ in terms of $c_s^\\dagger(k)$. Simplify any summation index if possible.\n",
      "\n",
      "Use the following conventions for the symbols (You should also obey the conventions in all my previous prompts if you encounter undefined symbols. If you find it is never defined or has conflicts in the conventions, you should stop and let me know):\n",
      "$c_s(k)$ : electron annihilation operator at momentum $k$, spin $s$  \n",
      "$c_s^\\dagger(k)$ : electron creation operator at momentum $k$, spin $s$  \n",
      "$N$ : number of the unit cells in the real space\n",
      "\n",
      "===\n",
      "EXAMPLE:  \n",
      "Write a Kinetic Hamiltonian $\\hat{H}$ in the second quantized form in the real space, $\\hat{H}=\\sum_{i,j} t(R_i-R_j) c^\\dagger(R_i) c(R_j)$, where $i,j$ are summed over the entire real space.  \n",
      "Define the Fourier transformation $c^\\dagger(k)=\\frac{1}{\\sqrt{N}} \\sum_{i}c^\\dagger(R_i) e^{i k \\cdot R_i}$, where $i$ is integrated over the entire real space containing $N$ unit cells, $N$ is the number of unit cells.  \n",
      "This leads to the inverse Fourier transformation $c^\\dagger(R_i) = \\frac{1}{\\sqrt{N}} \\sum_k c^\\dagger(k) e^{-i k \\cdot R_i}$, where $k$ is first Brillouin zone.  \n",
      "Thus, substitute $c^\\dagger(R_i)$ and $c(R_j)$ into $\\hat{H}$, we get  \n",
      "$$\\hat{H} = \\sum_{i,j} t(R_i-R_j) \\frac{1}{\\sqrt{N}} \\sum_{k_1} c^\\dagger(k_1) e^{-i k_1 \\cdot R_i} \\frac{1}{\\sqrt{N}} \\sum_{k_2} c(k_2) e^{i k_2 \\cdot R_j} =\\frac{1}{N} \\sum_{i,j}\\sum_{k_1,k_2} c^\\dagger(k_1)  c(k_2)  e^{-i k_1\\cdot R_i} e^{i k_2 \\cdot R_j} t(R_i-R_j) $$\n",
      "Now make a replacement by defining $n= R_i-R_j$  \n",
      "The Hamiltonian become  \n",
      "$$\\hat{H}=\\frac{1}{N} \\sum_{i,n} \\sum_{k_1,k_2} c^\\dagger(k_1)  c(k_2) t(n) e^{-i (k_1-k_2)\\cdot R_i} e^{-i k_2 \\cdot n}$$\n",
      "Because $\\frac{1}{N}\\sum_{i} e^{-i (k_1-k_2)\\cdot R_i} = \\delta(k_1,k_2)$, where $\\delta(k_1,k_2)$ is the Kronecker delta function.  \n",
      "therefore   \n",
      "$$\\hat{H}=\\sum_{k_1,k_2} \\sum_{n} t(n) e^{-i k_2 \\cdot n} c^\\dagger(k_1)  c(k_2) \\delta(k_1,k_2)$$\n",
      "Using the property of Kronecker delta function and sum over $k_2$, we obtain  \n",
      "$$\\hat{H}=\\sum_{k_1} \\sum_{n} t(n) e^{-i k_1 \\cdot n} c^\\dagger(k_1)  c(k_1) $$\n",
      "For simplicity, we replace $k_1$ with $k$, we obtain  \n",
      "$$\\hat{H}=\\sum_{k} \\sum_{n} t(n) e^{-i k \\cdot n} c^\\dagger(k)  c(k)$$\n",
      "If we define energy dispersion $E(k)=\\sum_{n} t(n) e^{-i k \\cdot n}$, where $n$ is the summation of all hopping pairs, the Hamiltonian in the momentum space is \n",
      "$$\\hat{H}=\\sum_{k} E(k) c^\\dagger(k)  c(k)$$\n"
     ]
    }
   ],
   "source": [
    "print_save(generate_prompt(kwargs,prompt_dict=prompt_dict())['content'])"
   ]
  },
  {
   "cell_type": "code",
   "execution_count": 23,
   "metadata": {},
   "outputs": [],
   "source": [
    "kwargs_list.append(kwargs)"
   ]
  },
  {
   "cell_type": "markdown",
   "metadata": {},
   "source": [
    "## Convert interacting Hamiltonian in real space to momentum space (lattice version)"
   ]
  },
  {
   "cell_type": "code",
   "execution_count": 24,
   "metadata": {},
   "outputs": [],
   "source": [
    "kwargs = {\n",
    "    'task':'Convert interacting Hamiltonian in real space to momentum space (lattice version)',\n",
    "    'second_int_symbol':  r'$\\hat{H}^{int}$',\n",
    "    'single-particle|second-quantized': r'second-quantized',\n",
    "    'real_creation_op': r'$c_s^\\dagger(R_i)$',\n",
    "    'momentum_creation_op': r'$c_s^\\dagger(k)$',\n",
    "    'def_FT': r'$c_s^\\dagger(k)= \\frac{1}{\\sqrt{N}} \\sum_i c_s^\\dagger(R_i) e^{i k \\cdot R_i}$',\n",
    "    'real_var': '$i$',\n",
    "    'momentum_var': '$k$',\n",
    "    'Note that interaction have no position dependence now|None':'',\n",
    "    'expression_int':r'''$\\frac{1}{2} \\sum_{R_i, R_j} \\sum_{s, s'=\\uparrow,\\downarrow} U(R_i - R_j) \\, n_{s}(R_i) n_{s'}(R_j)$''',\n",
    "    'answer':r'''$$\\hat{H}^{int}=\\frac{1}{N}\\sum_{s,s'}\\sum_{k_1,k_2,k_3,k_4}  U(k_1-k_4) c_s^\\dagger(k_1)c_{s'}^\\dagger(k_2)c_{s'}(k_3)c_s(k_4) \\sum_{G} \\delta(k_1-k_4+k_2-k_3,G)$$''',\n",
    "'source': {}\n",
    "}\n"
   ]
  },
  {
   "cell_type": "code",
   "execution_count": 25,
   "metadata": {},
   "outputs": [
    {
     "name": "stdout",
     "output_type": "stream",
     "text": [
      "You will be instructed to convert the interacting Hamiltonian, $\\hat{H}^{int}$, in the second-quantized form the basis in real space to the basis in momentum space.\n",
      "To do that, you should apply the Fourier transformation to $c_s^\\dagger(R_i)$ in the real space to the $c_s^\\dagger(k)$ in the momentum space, which is defined as $c_s^\\dagger(k)= \\frac{1}{\\sqrt{N}} \\sum_i c_s^\\dagger(R_i) e^{i k \\cdot R_i}$, where $i$ is integrated over all sites in the entire real space, and $k$ is defined within the first Brillouin zone. You should follow the EXAMPLE below to apply the Fourier transformation. \n",
      "You should recall that $\\hat{H}^{int}$ is $\\frac{1}{2} \\sum_{R_i, R_j} \\sum_{s, s'=\\uparrow,\\downarrow} U(R_i - R_j) \\, n_{s}(R_i) n_{s'}(R_j)$.\n",
      "Express $\\hat{H}^{int}$ in terms of $c_s^\\dagger(k)$. Simplify any summation index if possible.  \n",
      "\n",
      "===  \n",
      "EXAMPLE:  \n",
      "Write an interacting Hamiltonian $\\hat{H}^{int}$ in the second quantized form in the real space, $\\hat{H}^{int}=\\sum_{s,s'}\\sum_{i,j} U(R_i-R_j) c_s^\\dagger(R_i) c_{s'}^\\dagger(R_j) c_{s'}(R_j) c_s(R_i)$, where $i,j$ are summed over the entire real space.  \n",
      "Define the Fourier transformation $c_s^\\dagger(k)=\\frac{1}{\\sqrt{N}} \\sum_{i}c_s^\\dagger(R_i) e^{i k \\cdot R_i}$, where $i$ is integrated over the entire real space containing $N$ unit cells, $N$ is the number of unit cells.  \n",
      "This leads to the inverse Fourier transformation $c_s^\\dagger(R_i) = \\frac{1}{\\sqrt{N}} \\sum_k c_s^\\dagger(k) e^{-i k \\cdot R_i}$, where $k$ is summed over the first Brillouin zone.  \n",
      "Thus, substitute $c^\\dagger(R_i)$ and $c(R_j)$ into $\\hat{H}^{int}$, we get  \n",
      "$$\\hat{H}^{int} = \\sum_{s,s'}\\sum_{i,j} U(R_i-R_j) \\frac{1}{\\sqrt{N}} \\sum_{k_1} c_s^\\dagger(k_1) e^{-i k_1 \\cdot R_i} \\frac{1}{\\sqrt{N}} \\sum_{k_2} c_{s'}^\\dagger(k_2) e^{-i k_2 \\cdot R_j} \\frac{1}{\\sqrt{N}} \\sum_{k_3} c_{s'}(k_3) e^{i k_3 \\cdot R_j} \\frac{1}{\\sqrt{N}} \\sum_{k_4} c_s(k_4) e^{i k_4 \\cdot R_i}=\\sum_{s,s'}\\sum_{i,j}\\frac{1}{N^2}\\sum_{k_1,k_2,k_3,k_4}U(R_i-R_j)c_s^\\dagger(k_1)c_{s'}^\\dagger(k_2)c_{s'}(k_3)c_s(k_4)e^{-i(k_1-k_4)\\cdot R_i} e^{-i(k_2-k_3)\\cdot R_j}$$\n",
      "Now make a replacement by defining $n= R_i-R_j$  \n",
      "The Hamiltonian become  \n",
      "$$\\hat{H}^{int}=\\frac{1}{N^2} \\sum_{j,n} \\sum_{s,s'} \\sum_{k_1,k_2,k_3,k_4} U(n) c_s^\\dagger(k_1)c_{s'}^\\dagger(k_2)c_{s'}(k_3)c_s(k_4)e^{-i(k_1-k_4)\\cdot n} e^{-i(k_1-k_4+k_2-k_3)\\cdot r_j }$$\n",
      "Because $\\frac{1}{N}\\sum_{i} e^{-i (k_1-k_4+k_2-k_3)\\cdot R_i} = \\sum\\delta(k_1-k_4+k_2-k_3,G)$, where $\\delta(..,..)$ is the Kronecker delta function, and $G$ is the all reciprocal lattices in the momentum space.  \n",
      "Therefore,  \n",
      "$$\\hat{H}^{int}=\\frac{1}{N}\\sum_{s,s'}\\sum_{k_1,k_2,k_3,k_4} \\sum_{n} U(n) e^{-i (k_1-k_4) \\cdot n} c_s^\\dagger(k_1)c_{s'}^\\dagger(k_2)c_{s'}(k_3)c_s(k_4) \\sum_{G} \\delta(k_1-k_4+k_2-k_3,G)$$\n",
      "If we define interaction in the momentum space $U(k)=\\sum_{n} U(n) e^{-i k \\cdot n}$, where $n$ is the summation of all hopping pairs, the interacting Hamiltonian in the momentum space is  \n",
      "$$\\hat{H}^{int}=\\frac{1}{N}\\sum_{s,s'}\\sum_{k_1,k_2,k_3,k_4}  U(k_1-k_4) c_s^\\dagger(k_1)c_{s'}^\\dagger(k_2)c_{s'}(k_3)c_s(k_4) \\sum_{G} \\delta(k_1-k_4+k_2-k_3,G)$$\n"
     ]
    }
   ],
   "source": [
    "print_save(generate_prompt(kwargs,prompt_dict=prompt_dict())['content'])"
   ]
  },
  {
   "cell_type": "code",
   "execution_count": 26,
   "metadata": {},
   "outputs": [],
   "source": [
    "kwargs_list.append(kwargs)"
   ]
  },
  {
   "cell_type": "markdown",
   "metadata": {},
   "source": [
    "## Wick's theorem"
   ]
  },
  {
   "cell_type": "code",
   "execution_count": 27,
   "metadata": {},
   "outputs": [],
   "source": [
    "kwargs = {\n",
    "    'task':\"Wick's theorem\",\n",
    "    'second_int_symbol':  r'$\\hat{H}^{int}$',\n",
    "    'HF_symbol': r'$\\hat{H}^{int,HF}$',\n",
    "    'expression_int': r'''$\\hat{H}^{int}=\\frac{1}{N}\\sum_{s,s'}\\sum_{k_1,k_2,k_3,k_4}  U(k_1-k_4) c_s^\\dagger(k_1)c_{s'}^\\dagger(k_2)c_{s'}(k_3)c_s(k_4) \\sum_{G} \\delta(k_1-k_4+k_2-k_3,G)$''',\n",
    "    'def_var': r'''$\\langle c_{s}^\\dagger(k_1) c_{s'}(k_2) \\rangle$ : expectation of $c_{s}^\\dagger(k_1) c_{s'}(k_2)$ over the many-body ground states.  \n",
    "$\\hat{H}^{int,HF}$ : Interaction term after Hartree-Fock approximation ''',\n",
    "    'answer':r'''$$\n",
    "\\hat{H}^{int,HF} = \\frac{1}{2N} \\sum_{s, s'} \\sum_{k_1, k_2, k_3, k_4} U(k_1 - k_4) \\left( \\langle c_s^\\dagger(k_1) c_s(k_4) \\rangle c_{s'}^\\dagger(k_2) c_{s'}(k_3) + \\langle c_{s'}^\\dagger(k_2) c_{s'}(k_3) \\rangle c_s^\\dagger(k_1) c_s(k_4) - \\langle c_s^\\dagger(k_1) c_s(k_4) \\rangle \\langle c_{s'}^\\dagger(k_2) c_{s'}(k_3) \\rangle \\\\ - \\langle c_s^\\dagger(k_1) c_{s'}(k_3) \\rangle c_{s'}^\\dagger(k_2) c_s(k_4) - \\langle c_{s'}^\\dagger(k_2) c_s(k_4) \\rangle c_s^\\dagger(k_1) c_{s'}(k_3) + \\langle c_s^\\dagger(k_1) c_{s'}(k_3) \\rangle \\langle c_{s'}^\\dagger(k_2) c_s(k_4) \\rangle \\right) \\sum_G \\delta(k_1-k_4+k_2-k_3, G).\n",
    "$$''',\n",
    "'source': {}\n",
    "}\n"
   ]
  },
  {
   "cell_type": "code",
   "execution_count": 28,
   "metadata": {},
   "outputs": [
    {
     "name": "stdout",
     "output_type": "stream",
     "text": [
      "You will be instructed to perform a Hartree-Fock approximation to expand the interaction term, $\\hat{H}^{int}$.  \n",
      "You should use Wick's theorem to expand the four-fermion term in $\\hat{H}^{int}$ into quadratic terms. You should strictly follow the EXAMPLE below to expand using Wick's theorem, select the correct EXAMPLE by noticing the order of four term product with and without ${}^\\dagger$, and be extremely cautious about the order of the index and sign before each term.  \n",
      "You should only preserve the normal terms. Here, the normal terms mean the product of a creation operator and an annihilation operator.  \n",
      "You should recall that $\\hat{H}^{int}=\\frac{1}{N}\\sum_{s,s'}\\sum_{k_1,k_2,k_3,k_4}  U(k_1-k_4) c_s^\\dagger(k_1)c_{s'}^\\dagger(k_2)c_{s'}(k_3)c_s(k_4) \\sum_{G} \\delta(k_1-k_4+k_2-k_3,G)$.  \n",
      "Return the expanded interaction term after Hartree-Fock approximation as $\\hat{H}^{int,HF}$.\n",
      "\n",
      "Use the following conventions for the symbols (You should also obey the conventions in all my previous prompts if you encounter undefined symbols. If you find it is never defined or has conflicts in the conventions, you should stop and let me know):  \n",
      "$\\langle c_{s}^\\dagger(k_1) c_{s'}(k_2) \\rangle$ : expectation of $c_{s}^\\dagger(k_1) c_{s'}(k_2)$ over the many-body ground states.  \n",
      "$\\hat{H}^{int,HF}$ : Interaction term after Hartree-Fock approximation \n",
      "\n",
      "===  \n",
      "EXAMPLE 1:  \n",
      "For a four-fermion term $a_1^\\dagger a_2^\\dagger a_3 a_4$, using Wick's theorem and preserving only the normal terms. this is expanded as $a_1^\\dagger a_2^\\dagger a_3 a_4 = \\langle a_1^\\dagger a_4 \\rangle a_2^\\dagger a_3 + \\langle a_2^\\dagger a_3 \\rangle a_1^\\dagger a_4 - \\langle a_1^\\dagger a_4 \\rangle \\langle a_2^\\dagger a_3\\rangle - \\langle a_1^\\dagger a_3 \\rangle a_2^\\dagger a_4 - \\langle a_2^\\dagger a_4 \\rangle a_1^\\dagger a_3 + \\langle a_1^\\dagger a_3\\rangle \\langle a_2^\\dagger a_4 \\rangle$  \n",
      "Be cautious about the order of the index and sign before each term here.\n",
      "\n",
      "EXAMPLE 2:  \n",
      "For a four-fermion term $a_1^\\dagger a_2 a_3^\\dagger a_4$, using Wick's theorem and preserving only the normal terms. this is expanded as $a_1^\\dagger a_2 a_3^\\dagger a_4 = \\langle a_1^\\dagger a_2 \\rangle a_3^\\dagger a_4 + \\langle a_3^\\dagger a_4 \\rangle a_1^\\dagger a_2 - \\langle a_1^\\dagger a_2 \\rangle \\langle a_3^\\dagger a_4\\rangle - \\langle a_1^\\dagger a_4 \\rangle a_3^\\dagger a_2 - \\langle a_3^\\dagger a_2 \\rangle a_1^\\dagger a_4 + \\langle a_1^\\dagger a_4\\rangle \\langle a_3^\\dagger a_2 \\rangle$  \n",
      "Be cautious about the order of the index and sign before each term here.\n"
     ]
    }
   ],
   "source": [
    "print_save(generate_prompt(kwargs,prompt_dict=prompt_dict())['content'])"
   ]
  },
  {
   "cell_type": "code",
   "execution_count": 29,
   "metadata": {},
   "outputs": [],
   "source": [
    "kwargs_list.append(kwargs)"
   ]
  },
  {
   "cell_type": "markdown",
   "metadata": {},
   "source": [
    "## Extract quadratic term"
   ]
  },
  {
   "cell_type": "code",
   "execution_count": 30,
   "metadata": {},
   "outputs": [],
   "source": [
    "kwargs = {\n",
    "    'task':\"Extract quadratic term\",\n",
    "    'HF_symbol': r'$\\hat{H}^{int,HF}$',\n",
    "    'bilinear_op': r'$c^\\dagger c$',\n",
    "    'HF_2_symbol': r'$\\hat{H}^{int,HF,2}$',\n",
    "    'expression_HF': r'''$\\hat{H}^{int,HF} = \\frac{1}{2N} \\sum_{s, s'} \\sum_{k_1, k_2, k_3, k_4} U(k_1 - k_4) \\left( \\langle c_s^\\dagger(k_1) c_s(k_4) \\rangle c_{s'}^\\dagger(k_2) c_{s'}(k_3) + \\langle c_{s'}^\\dagger(k_2) c_{s'}(k_3) \\rangle c_s^\\dagger(k_1) c_s(k_4) - \\langle c_s^\\dagger(k_1) c_s(k_4) \\rangle \\langle c_{s'}^\\dagger(k_2) c_{s'}(k_3) \\rangle \\\\ - \\langle c_s^\\dagger(k_1) c_{s'}(k_3) \\rangle c_{s'}^\\dagger(k_2) c_s(k_4) - \\langle c_{s'}^\\dagger(k_2) c_s(k_4) \\rangle c_s^\\dagger(k_1) c_{s'}(k_3) + \\langle c_s^\\dagger(k_1) c_{s'}(k_3) \\rangle \\langle c_{s'}^\\dagger(k_2) c_s(k_4) \\rangle \\right) \\sum_G \\delta(k_1-k_4+k_2-k_3, G).''',\n",
    "    'def_var': r'''$\\hat{H}^{int,HF,2}$ : the quadratic terms in $\\hat{H}^{int,HF}$''',\n",
    "    'answer':r'''$\\hat{H}^{int,HF,2} = \\frac{1}{2N} \\sum_{s, s'} \\sum_{k_1, k_2, k_3, k_4} U(k_1 - k_4) \\left( \\langle c_s^\\dagger(k_1) c_s(k_4) \\rangle c_{s'}^\\dagger(k_2) c_{s'}(k_3) + \\langle c_{s'}^\\dagger(k_2) c_{s'}(k_3) \\rangle c_s^\\dagger(k_1) c_s(k_4) - \\langle c_s^\\dagger(k_1) c_{s'}(k_3) \\rangle c_{s'}^\\dagger(k_2) c_s(k_4) - \\langle c_{s'}^\\dagger(k_2) c_s(k_4) \\rangle c_s^\\dagger(k_1) c_{s'}(k_3) \\right) \\sum_G \\delta(k_1-k_4+k_2-k_3, G)$''',\n",
    "'source': {}\n",
    "}\n"
   ]
  },
  {
   "cell_type": "code",
   "execution_count": 31,
   "metadata": {},
   "outputs": [
    {
     "name": "stdout",
     "output_type": "stream",
     "text": [
      "You will be instructed to extract the quadratic terms in the $\\hat{H}^{int,HF}$.  \n",
      "The quadratic terms mean terms that are proportional to $c^\\dagger c$, which excludes terms that are solely expectations or products of expectations.  \n",
      "You should only preserve the quadratic terms in $\\hat{H}^{int,HF}$, denoted as $\\hat{H}^{int,HF,2}$.  \n",
      "You should recall that $\\hat{H}^{int,HF} = \\frac{1}{2N} \\sum_{s, s'} \\sum_{k_1, k_2, k_3, k_4} U(k_1 - k_4) \\left( \\langle c_s^\\dagger(k_1) c_s(k_4) \\rangle c_{s'}^\\dagger(k_2) c_{s'}(k_3) + \\langle c_{s'}^\\dagger(k_2) c_{s'}(k_3) \\rangle c_s^\\dagger(k_1) c_s(k_4) - \\langle c_s^\\dagger(k_1) c_s(k_4) \\rangle \\langle c_{s'}^\\dagger(k_2) c_{s'}(k_3) \\rangle \\\\ - \\langle c_s^\\dagger(k_1) c_{s'}(k_3) \\rangle c_{s'}^\\dagger(k_2) c_s(k_4) - \\langle c_{s'}^\\dagger(k_2) c_s(k_4) \\rangle c_s^\\dagger(k_1) c_{s'}(k_3) + \\langle c_s^\\dagger(k_1) c_{s'}(k_3) \\rangle \\langle c_{s'}^\\dagger(k_2) c_s(k_4) \\rangle \\right) \\sum_G \\delta(k_1-k_4+k_2-k_3, G)..  \n",
      "Return $\\hat{H}^{int,HF,2}$.  \n",
      "\n",
      "Use the following conventions for the symbols (You should also obey the conventions in all my previous prompts if you encounter undefined symbols. If you find it is never defined or has conflicts in the conventions, you should stop and let me know):  \n",
      "$\\hat{H}^{int,HF,2}$ : the quadratic terms in $\\hat{H}^{int,HF}$\n"
     ]
    }
   ],
   "source": [
    "print_save(generate_prompt(kwargs,prompt_dict=prompt_dict())['content'])"
   ]
  },
  {
   "cell_type": "code",
   "execution_count": 32,
   "metadata": {},
   "outputs": [],
   "source": [
    "kwargs_list.append(kwargs)"
   ]
  },
  {
   "cell_type": "markdown",
   "metadata": {},
   "source": [
    "## Construct full Hamiltonian after HF"
   ]
  },
  {
   "cell_type": "code",
   "execution_count": 33,
   "metadata": {},
   "outputs": [],
   "source": [
    "kwargs = {\n",
    "    'task':\"Construct full Hamiltonian after HF\",\n",
    "    'HF_symbol': r'$\\hat{H}^{HF}$',\n",
    "    'kinetic_symbol':r'$\\hat{H}_{Kinetic}$',\n",
    "    'expression_kinetic': r'$\\hat{H}_{Kinetic} = \\sum_{s, k} E_s(k) c^\\dagger_s(k)  c_s(k)$, where $E_s(k)=\\sum_{n} t_s(n) e^{-i k \\cdot n}$',\n",
    "    'int_symbol': r'$\\hat{H}^{int,HF}$',\n",
    "    'expression_int':r'''$\\hat{H}^{int,HF,2} = \\frac{1}{2N} \\sum_{s, s'} \\sum_{k_1, k_2, k_3, k_4} U(k_1 - k_4) \\left( \\langle c_s^\\dagger(k_1) c_s(k_4) \\rangle c_{s'}^\\dagger(k_2) c_{s'}(k_3) + \\langle c_{s'}^\\dagger(k_2) c_{s'}(k_3) \\rangle c_s^\\dagger(k_1) c_s(k_4) - \\langle c_s^\\dagger(k_1) c_{s'}(k_3) \\rangle c_{s'}^\\dagger(k_2) c_s(k_4) - \\langle c_{s'}^\\dagger(k_2) c_s(k_4) \\rangle c_s^\\dagger(k_1) c_{s'}(k_3) \\right) \\sum_G \\delta(k_1-k_4+k_2-k_3, G)$''',\n",
    "    'Ham_symbol':r'$\\hat{H}^{HF}$',\n",
    "    'def_var': r'$\\hat{H}^{HF}$ : the entire Hamiltonian after the Hartree-Fock approximation',\n",
    "    'answer':r'''$$\n",
    "\\hat{H}^{HF} = \\sum_{s, k} E_s(k) c_s^{\\dagger}(k) c_s(k) + \\frac{1}{2N} \\sum_{s, s'} \\sum_{k_1, k_2, k_3, k_4} U(k_1 - k_4) \\left( \\langle c_s^\\dagger(k_1) c_s(k_4) \\rangle c_{s'}^\\dagger(k_2) c_{s'}(k_3) + \\langle c_{s'}^\\dagger(k_2) c_{s'}(k_3) \\rangle c_s^\\dagger(k_1) c_s(k_4) - \\langle c_s^\\dagger(k_1) c_s(k_4) \\rangle \\langle c_{s'}^\\dagger(k_2) c_{s'}(k_3) \\rangle \\\\ - \\langle c_s^\\dagger(k_1) c_{s'}(k_3) \\rangle c_{s'}^\\dagger(k_2) c_s(k_4) - \\langle c_{s'}^\\dagger(k_2) c_s(k_4) \\rangle c_s^\\dagger(k_1) c_{s'}(k_3) + \\langle c_s^\\dagger(k_1) c_{s'}(k_3) \\rangle \\langle c_{s'}^\\dagger(k_2) c_s(k_4) \\rangle \\right) \\sum_G \\delta(k_1-k_4+k_2-k_3, G).\n",
    "$$''',\n",
    "'source': {}\n",
    "}\n"
   ]
  },
  {
   "cell_type": "code",
   "execution_count": 34,
   "metadata": {},
   "outputs": [
    {
     "name": "stdout",
     "output_type": "stream",
     "text": [
      "You will be instructed to construct the entire Hamiltonian after the Hartree-Fock approximation $\\hat{H}^{HF}$. \n",
      "You should first recall the Kinetic Hamiltonian $\\hat{H}_{Kinetic}$ is $\\hat{H}_{Kinetic} = \\sum_{s, k} E_s(k) c^\\dagger_s(k)  c_s(k)$, where $E_s(k)=\\sum_{n} t_s(n) e^{-i k \\cdot n}$.  \n",
      "You should then recall the interacting Hamiltonian $\\hat{H}^{int,HF}$ is $\\hat{H}^{int,HF,2} = \\frac{1}{2N} \\sum_{s, s'} \\sum_{k_1, k_2, k_3, k_4} U(k_1 - k_4) \\left( \\langle c_s^\\dagger(k_1) c_s(k_4) \\rangle c_{s'}^\\dagger(k_2) c_{s'}(k_3) + \\langle c_{s'}^\\dagger(k_2) c_{s'}(k_3) \\rangle c_s^\\dagger(k_1) c_s(k_4) - \\langle c_s^\\dagger(k_1) c_{s'}(k_3) \\rangle c_{s'}^\\dagger(k_2) c_s(k_4) - \\langle c_{s'}^\\dagger(k_2) c_s(k_4) \\rangle c_s^\\dagger(k_1) c_{s'}(k_3) \\right) \\sum_G \\delta(k_1-k_4+k_2-k_3, G)$.  \n",
      "You should then combine $\\hat{H}_{Kinetic}$ with the interacting Hamiltonian $\\hat{H}^{int,HF}$ after the Hartree-Fock approximation, which is the entire Hamiltonian $\\hat{H}^{HF}$ after Hartree-Fock.  \n",
      "Return the expression for $\\hat{H}^{HF}$.  \n",
      "\n",
      "Use the following conventions for the symbols (You should also obey the conventions in all my previous prompts if you encounter undefined symbols. If you find it is never defined or has conflicts in the conventions, you should stop and let me know):  \n",
      "$\\hat{H}^{HF}$ : the entire Hamiltonian after the Hartree-Fock approximation\n"
     ]
    }
   ],
   "source": [
    "print_save(generate_prompt(kwargs,prompt_dict=prompt_dict())['content'])"
   ]
  },
  {
   "cell_type": "code",
   "execution_count": 35,
   "metadata": {},
   "outputs": [],
   "source": [
    "kwargs_list.append(kwargs)"
   ]
  },
  {
   "cell_type": "code",
   "execution_count": 36,
   "metadata": {},
   "outputs": [
    {
     "data": {
      "text/plain": [
       "7"
      ]
     },
     "execution_count": 36,
     "metadata": {},
     "output_type": "execute_result"
    }
   ],
   "source": [
    "len(kwargs_list)"
   ]
  },
  {
   "cell_type": "code",
   "execution_count": 37,
   "metadata": {},
   "outputs": [
    {
     "ename": "SyntaxError",
     "evalue": "invalid syntax (3659366440.py, line 1)",
     "output_type": "error",
     "traceback": [
      "\u001b[0;36m  File \u001b[0;32m\"/tmp/ipykernel_8059/3659366440.py\"\u001b[0;36m, line \u001b[0;32m1\u001b[0m\n\u001b[0;31m    --\u001b[0m\n\u001b[0m      ^\u001b[0m\n\u001b[0;31mSyntaxError\u001b[0m\u001b[0;31m:\u001b[0m invalid syntax\n"
     ]
    }
   ],
   "source": [
    "--"
   ]
  },
  {
   "cell_type": "markdown",
   "metadata": {},
   "source": [
    "## Save jsonl"
   ]
  },
  {
   "cell_type": "code",
   "execution_count": 38,
   "metadata": {},
   "outputs": [],
   "source": [
    "with open('2004.04168.jsonl', 'w') as f:\n",
    "    for dict_obj in kwargs_list:\n",
    "        f.write(json.dumps(dict_obj) + '\\n')"
   ]
  },
  {
   "cell_type": "markdown",
   "metadata": {},
   "source": [
    "# Draft"
   ]
  },
  {
   "cell_type": "code",
   "execution_count": null,
   "metadata": {},
   "outputs": [],
   "source": []
  }
 ],
 "metadata": {
  "kernelspec": {
   "display_name": "Python 3",
   "language": "python",
   "name": "python3"
  },
  "language_info": {
   "codemirror_mode": {
    "name": "ipython",
    "version": 3
   },
   "file_extension": ".py",
   "mimetype": "text/x-python",
   "name": "python",
   "nbconvert_exporter": "python",
   "pygments_lexer": "ipython3",
   "version": "3.8.11"
  },
  "orig_nbformat": 4
 },
 "nbformat": 4,
 "nbformat_minor": 2
}
