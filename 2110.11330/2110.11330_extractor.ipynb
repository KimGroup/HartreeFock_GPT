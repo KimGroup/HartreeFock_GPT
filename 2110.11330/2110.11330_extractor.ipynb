{
 "cells": [
  {
   "cell_type": "code",
   "execution_count": 1,
   "metadata": {},
   "outputs": [],
   "source": [
    "import openai\n",
    "import pandas as pd\n",
    "import json\n",
    "import yaml\n",
    "from IPython.display import Markdown\n",
    "import sys\n",
    "import yaml\n",
    "from tqdm import tqdm"
   ]
  },
  {
   "cell_type": "code",
   "execution_count": 2,
   "metadata": {},
   "outputs": [],
   "source": [
    "zz=openai.Model.list()"
   ]
  },
  {
   "cell_type": "code",
   "execution_count": 3,
   "metadata": {},
   "outputs": [
    {
     "data": {
      "text/plain": [
       "62"
      ]
     },
     "execution_count": 3,
     "metadata": {},
     "output_type": "execute_result"
    }
   ],
   "source": [
    "len(zz['data'])"
   ]
  },
  {
   "cell_type": "code",
   "execution_count": 4,
   "metadata": {},
   "outputs": [],
   "source": [
    "model_params = {\n",
    "    'model': \"gpt-4\",\n",
    "    'temperature': 0,\n",
    "}"
   ]
  },
  {
   "cell_type": "code",
   "execution_count": 5,
   "metadata": {},
   "outputs": [],
   "source": [
    "def print_save(string, file='../cmp2.md'):\n",
    "    print(string)\n",
    "    with open(file,'w') as f:\n",
    "        f.write(string)"
   ]
  },
  {
   "cell_type": "markdown",
   "metadata": {},
   "source": [
    "## Load prompt_template.md"
   ]
  },
  {
   "cell_type": "code",
   "execution_count": 6,
   "metadata": {},
   "outputs": [],
   "source": [
    "sys.path.append('..')\n",
    "from utils import *\n",
    "from functools import partial"
   ]
  },
  {
   "cell_type": "code",
   "execution_count": 7,
   "metadata": {},
   "outputs": [],
   "source": [
    "prompt_dict = partial(load_prompt_template,file='../prompt_template.md')"
   ]
  },
  {
   "cell_type": "code",
   "execution_count": 8,
   "metadata": {},
   "outputs": [
    {
     "data": {
      "text/plain": [
       "dict_keys(['Preamble', 'Problem-solver', 'Conversation summarizer', 'Construct Kinetic Hamiltonian (continuum version, single-particle)', 'Construct Kinetic Hamiltonian (continuum version, second-quantized)', 'Construct Kinetic Hamiltonian (lattice version)', 'Define each term in Kinetic Hamiltonian (continuum version)', 'Construct Potential Hamiltonian (continuum version)', 'Define each term in Potential Hamiltonian (continuum version)', 'Construct interaction Hamiltonian (real space, lattice version)', 'Construct interaction Hamiltonian (momentum space)', 'Convert from single-particle to second-quantized form, return in matrix', 'Convert from single-particle to second-quantized form, return in summation (expand the matrix)', 'Convert noninteracting Hamiltonian in real space to momentum space (continuum version)', 'Convert noninteracting Hamiltonian in real space to momentum space (lattice version)', 'Convert interacting Hamiltonian in real space to momentum space (lattice version)', 'Particle-hole transformation', 'Simplify the Hamiltonian in the particle-hole basis', \"Wick's theorem\", 'Extract quadratic term', 'Hartree term only', 'Fock term only', 'Expand interaction', 'Swap the index only', 'Swap the index to combine Hartree and Fock terms', 'Reduce momentum in Hartree term (momentum in BZ + reciprocal lattice)', 'Reduce momentum in Hartree term (momentum in BZ)', 'Reduce momentum in Fock term (momentum in BZ + reciprocal lattice)', 'Reduce momentum in Fock term (momentum in BZ)', 'Combine the Hartree and Fock term', 'Construct full Hamiltonian after HF', 'Mathematical simplify: inner product expansion', \"Mathematical simplify: Euler's formula\", 'Mathematical simplify: prosthaphaeresis', 'Mathematical simplify: Expand the product using Associative property', 'Mathematical simplify: Combine using Associative property', 'Mathematical simplify: reduce index'])"
      ]
     },
     "execution_count": 8,
     "metadata": {},
     "output_type": "execute_result"
    }
   ],
   "source": [
    "prompt_dict().keys()"
   ]
  },
  {
   "cell_type": "code",
   "execution_count": null,
   "metadata": {},
   "outputs": [],
   "source": []
  },
  {
   "cell_type": "markdown",
   "metadata": {},
   "source": [
    "# Prompt fill place holder"
   ]
  },
  {
   "cell_type": "code",
   "execution_count": 9,
   "metadata": {},
   "outputs": [],
   "source": [
    "import json"
   ]
  },
  {
   "cell_type": "code",
   "execution_count": 10,
   "metadata": {},
   "outputs": [],
   "source": [
    "pwd=os.getcwd()"
   ]
  },
  {
   "cell_type": "code",
   "execution_count": 11,
   "metadata": {},
   "outputs": [],
   "source": [
    "arxiv_number=pwd.split('/')[-1]"
   ]
  },
  {
   "cell_type": "code",
   "execution_count": 12,
   "metadata": {},
   "outputs": [],
   "source": [
    "with open(f'{arxiv_number}.yaml','r') as f:\n",
    "    kwargs_yaml = yaml.safe_load(f)\n",
    "# with open(f'{arxiv_number}.jsonl','r') as f:\n",
    "#     kwargs_jsonl= [json.loads(line) for line in f]"
   ]
  },
  {
   "cell_type": "code",
   "execution_count": 13,
   "metadata": {},
   "outputs": [],
   "source": [
    "def load_excerpt(sources):\n",
    "    excerpt=''\n",
    "    for tex, lines in sources.items():\n",
    "        with open(tex,'r') as f:\n",
    "            f_list=list(f)\n",
    "            for line in lines:\n",
    "                excerpt=excerpt+''.join(f_list[line[0]:line[1]])\n",
    "    return excerpt"
   ]
  },
  {
   "cell_type": "code",
   "execution_count": 14,
   "metadata": {},
   "outputs": [],
   "source": [
    "prompt_system='''I will provide you a Excerpt of physics paper, and a Template. You will need to fill the placeholders in the template using the correct information from the excerpt.\n",
    "Here are conventions: \n",
    "{..} means a placeholder which you need to fill by extracting information from the excerpt.\n",
    "{A|B} means you need to make a choice between A and B\n",
    "[..] means optional sentence. You should decide whether to use it depending on the excerpt.\n",
    "{{..}} DOES NOT mean a placeholder. You should not change the content inside double curly braces {{..}}.\n",
    "`You should recall that {expression_second_nonint}.` : this sentence should be kept as is.\n",
    "\n",
    "\n",
    "Finally, if you cannot figure out the placeholder, you should leave it as is.'''"
   ]
  },
  {
   "cell_type": "code",
   "execution_count": 15,
   "metadata": {},
   "outputs": [],
   "source": [
    "def drop_text_after(string):\n",
    "    string_new=''\n",
    "    for line in string.split('\\n'):\n",
    "        if '===' in line:\n",
    "            break\n",
    "        else:\n",
    "            if 'You should recall that' not in line:\n",
    "                string_new='\\n'.join([string_new,line])\n",
    "    return string_new[1:]\n"
   ]
  },
  {
   "cell_type": "code",
   "execution_count": 16,
   "metadata": {},
   "outputs": [],
   "source": [
    "def extractor(descriptor,message=False):\n",
    "    sys_msg=[{'role': 'system', 'content': prompt_system}]\n",
    "    question_prompt='\\nTemplate:\\n {template} \\n\\n Excerpt:\\n {excerpt}'.format(template=drop_text_after(prompt_dict()[descriptor['task']]), excerpt=load_excerpt(descriptor['source']))\n",
    "    user_msg=[{'role':'user','content':question_prompt}]\n",
    "    messages = sys_msg + user_msg\n",
    "    if message:\n",
    "        return sys_msg[0]['content']+user_msg[0]['content']\n",
    "    rs= openai.ChatCompletion.create(messages=messages, **model_params)\n",
    "    response=rs['choices'][0]['message'].content\n",
    "    return response\n"
   ]
  },
  {
   "cell_type": "markdown",
   "metadata": {},
   "source": [
    "## GPT4"
   ]
  },
  {
   "cell_type": "code",
   "execution_count": 17,
   "metadata": {},
   "outputs": [
    {
     "name": "stderr",
     "output_type": "stream",
     "text": [
      "100%|██████████| 12/12 [06:07<00:00, 30.60s/it]\n"
     ]
    }
   ],
   "source": [
    "string=''\n",
    "for kwargs in tqdm(kwargs_yaml):\n",
    "    string+='# '+kwargs['task']+'\\n'\n",
    "    response=(extractor(kwargs, message=False))\n",
    "    string+=response+'\\n\\n'\n",
    "    \n",
    "    "
   ]
  },
  {
   "cell_type": "code",
   "execution_count": 18,
   "metadata": {},
   "outputs": [
    {
     "name": "stdout",
     "output_type": "stream",
     "text": [
      "# Construct Kinetic Hamiltonian (lattice version)\n",
      "You will be instructed to describe the kinetic term of Hamiltonian in the moiré lattice system in the real space in the second-quantized form.   \n",
      "The degrees of freedom of the system are: spin $s=\\uparrow$ and $ \\downarrow$ coupled with the $+K$ and $-K$ valleys.     \n",
      "The kinetic term is a tight-binding model composed of the following hopping process: \n",
      "site $i$ and site $j$ with the amplitude $t_{s}\\left(\\bm{R}_i-\\bm{R}_j\\right)$.\n",
      "You should ensure the hermiticity of the Hamiltonian.\n",
      "The summation should be taken over all spin degrees of freedom and all real space positions.  \n",
      "Return the Kinetic Hamiltonian $H$.\n",
      "\n",
      "Use the following conventions for the symbols:  \n",
      "$t_{s}\\left(\\bm{R}_i-\\bm{R}_j\\right)$ is the hopping between the moir\\'e lattice site $i$ and $j$, fitted from the first moir\\'e valence band of twisted WSe$_2$ at $\\pm K$ valleys in the noninteracting picture. $s=\\uparrow$ and $ \\downarrow$ are coupled with the $+K$ and $-K$ valleys.\n",
      "\n",
      "# Construct interaction Hamiltonian (real space, lattice version)\n",
      "You will be instructed to construct the interaction part of the Hamiltonian, $\\frac{1}{2}\\sum_{s,s'}\\sum_{i,j}U(\\bm{R}_i-\\bm{R}_j) c_{i,s}^\\dagger c_{j,s'}^\\dagger c_{j,s'} c_{i,s}$ in the real space in the second-quantized form.   \n",
      "The interacting Hamiltonian has the same degrees of freedom as the kinetic Hamiltonian $\\sum_{s}\\sum_{i,j}^{} t_{s}\\left(\\bm{R}_i-\\bm{R}_j\\right) c_{i,s}^\\dagger c_{j,s}$.  \n",
      "The interaction is a density-density interaction composed of the following process:\n",
      "site i and site j with the interaction strength $U(\\bm{R}_i-\\bm{R}_j)$.\n",
      "The summation should be taken over all $s, s'$ and all real space positions.  \n",
      "Return the interaction term $\\frac{1}{2}\\sum_{s,s'}\\sum_{i,j}U(\\bm{R}_i-\\bm{R}_j) c_{i,s}^\\dagger c_{j,s'}^\\dagger c_{j,s'} c_{i,s}$ in terms of $c_{i,s}^\\dagger c_{j,s'}^\\dagger c_{j,s'} c_{i,s}$.\n",
      "\n",
      "Use the following conventions for the symbols (You should also obey the conventions in all my previous prompts if you encounter undefined symbols. If you find it is never defined or has conflicts in the conventions, you should stop and let me know): \n",
      "$t_{s}\\left(\\bm{R}_i-\\bm{R}_j\\right)$ is the hopping between the moir\\'e lattice site $i$ and $j$, $s=\\uparrow$ and $ \\downarrow$ are coupled with the $+K$ and $-K$ valleys, $U(\\bm{R}_i-\\bm{R}_j)$ describes the Coulomb repulsion between site $i$ and $j$.\n",
      "\n",
      "# Convert noninteracting Hamiltonian in real space to momentum space (lattice version)\n",
      "You will be instructed to convert the noninteracting Hamiltonian H in the second quantized form from the basis in real space to the basis in momentum space. \n",
      "To do that, you should apply the Fourier transform to c_{i,s}^\\dagger in the real space to the {momentum_creation_op} in the momentum space, which is defined as {definition_of_Fourier_Transformation}, where i is integrated over all sites in the entire real space. You should follow the EXAMPLE below to apply the Fourier transform. [Note that hopping have no position dependence now.]\n",
      "Express the total noninteracting Hamiltonian H in terms of {momentum_creation_op}. Simplify any summation index if possible.\n",
      "\n",
      "Use the following conventions for the symbols (You should also obey the conventions in all my previous prompts if you encounter undefined symbols. If you find it is never defined or has conflicts in the conventions, you should stop and let me know):\n",
      "H is the noninteracting Hamiltonian, t_{s}\\left(\\bm{R}_i-\\bm{R}_j\\right) is the hopping between the moir\\'e lattice site i and j, s=\\uparrow and $ \\downarrow are coupled with the +K and -K valleys, U(\\bm{R}_i-\\bm{R}_j) describes the Coulomb repulsion between site i and j, and c_{i,s}^\\dagger is the creation operator in real space.\n",
      "\n",
      "# Convert interacting Hamiltonian in real space to momentum space (lattice version)\n",
      "You will be instructed to convert the interacting Hamiltonian, $H$, in the second-quantized form the basis in real space to the basis in momentum space.\n",
      "To do that, you should apply the Fourier transform to $c_{i,s}^\\dagger$ in the real space to the {momentum_creation_op} in the momentum space, which is defined as {definition_of_Fourier_Transformation}, where $\\bm{R}_i$ is integrated over all sites in the entire real space, and {momentum_var} is defined within the first Brillouin zone. You should follow the EXAMPLE below to apply the Fourier transform. [Note that interaction have no position dependence now]\n",
      "Express $H$ in terms of {momentum_creation_op}. Simplify any summation index if possible.\n",
      "\n",
      "# Wick's theorem\n",
      "You will be instructed to perform a Hartree-Fock approximation to expand the interaction term, $\\frac{1}{2}\\sum_{s,s'}\\sum_{i,j}U(\\bm{R}_i-\\bm{R}_j) c_{i,s}^\\dagger c_{j,s'}^\\dagger c_{j,s'} c_{i,s}$.  \n",
      "You should use Wick's theorem to expand the four-fermion term in $\\frac{1}{2}\\sum_{s,s'}\\sum_{i,j}U(\\bm{R}_i-\\bm{R}_j) c_{i,s}^\\dagger c_{j,s'}^\\dagger c_{j,s'} c_{i,s}$ into quadratic terms. You should strictly follow the EXAMPLE below to expand using Wick's theorem, select the correct EXAMPLE by noticing the order of four-term product with and without ${{}}^\\dagger$, and be extremely cautious about the order of the index and sign before each term.  \n",
      "You should only preserve the normal terms. Here, the normal terms mean the product of a creation operator and an annihilation operator.  \n",
      "Return the expanded interaction term after Hartree-Fock approximation as {Hartree_Fock_symbol}.\n",
      "\n",
      "Use the following conventions for the symbols (You should also obey the conventions in all my previous prompts if you encounter undefined symbols. If you find it is never defined or has conflicts in the conventions, you should stop and let me know):  \n",
      "$t_{s}\\left(\\bm{R}_i-\\bm{R}_j\\right)$ is the hopping between the moir\\'e lattice site $i$ and $j$, fitted from the first moir\\'e valence band of twisted WSe$_2$ at $\\pm K$ valleys in the noninteracting picture, and $s=\\uparrow$ and $ \\downarrow$ are coupled with the $+K$ and $-K$ valleys. $U(\\bm{R}_i-\\bm{R}_j)$ describes the Coulomb repulsion between site $i$ and $j$.\n",
      "\n",
      "# Extract quadratic term\n",
      "You will be instructed to extract the quadratic terms in the Hartree-Fock term symbol $H$.  \n",
      "The quadratic terms mean terms that are proportional to $c_{i,s}^\\dagger c_{j,s}$ and $c_{i,s}^\\dagger c_{j,s'}^\\dagger c_{j,s'} c_{i,s}$, which excludes terms that are solely expectations or products of expectations.  \n",
      "You should only preserve the quadratic terms in $H$, denoted as $H_{\\text{quadratic}}$.  \n",
      "Return $H_{\\text{quadratic}}$.  \n",
      "\n",
      "Use the following conventions for the symbols (You should also obey the conventions in all my previous prompts if you encounter undefined symbols. If you find it is never defined or has conflicts in the conventions, you should stop and let me know):  \n",
      "$t_{s}\\left(\\bm{R}_i-\\bm{R}_j\\right)$ is the hopping between the moir\\'e lattice site $i$ and $j$, fitted from the first moir\\'e valence band of twisted WSe$_2$ at $\\pm K$ valleys in the noninteracting picture, and $s=\\uparrow$ and $ \\downarrow$ are coupled with the $+K$ and $-K$ valleys. $U(\\bm{R}_i-\\bm{R}_j)$ describes the Coulomb repulsion between site $i$ and $j$.\n",
      "\n",
      "# Expand interaction\n",
      "You will be instructed to expand interaction term $U(\\bm{R}_i-\\bm{R}_j)$ in the MF quadratic term $H$.\n",
      "If you find the $U(\\bm{R}_i-\\bm{R}_j)$ in $H$ does not contain any momentum that is not in the summation sign. The interaction term is already expanded. No action to perform on interaction term.\n",
      "Otherwise, you will expand $U(\\bm{R}_i-\\bm{R}_j)$ by replacing $\\bm{R}_i-\\bm{R}_j$ with the momentum.\n",
      "Return $H$ with expanded interaction.\n",
      "\n",
      "# Swap the index only\n",
      "Template:\n",
      " You will be instructed to simplify the quadratic term $H$ through relabeling the index.  \n",
      "The logic is that the expected value ($t_{s}\\left(\\bm{R}_i-\\bm{R}_j\\right)$) in the first Hartree term ($\\sum_{s}\\sum_{i,j}^{} t_{s}\\left(\\bm{R}_i-\\bm{R}_j\\right) c_{i,s}^\\dagger c_{j,s}$) has the same form as the quadratic operators in the second Hartree term ($\\frac{1}{2}\\sum_{s,s'}\\sum_{i,j}U(\\bm{R}_i-\\bm{R}_j) c_{i,s}^\\dagger c_{j,s'}^\\dagger c_{j,s'} c_{i,s}$), and vice versa. The same applies to the Fock term.  \n",
      "Namely, a replacement of $i$ and $j$ is applied to ONLY the second Hartree or Fock term. You should not swap any index that is not in the summation, which includes $s$ and $s'$.  \n",
      "This means, if you relabel the index by swapping the index in the \"expected value\" and \"quadratic operators\" in the second Hartree or Fock term, you can make the second Hartree or Fock term look identical to the first Hartree or Fock term, as long as $U(\\bm{R}_i-\\bm{R}_j)=U(\\bm{R}_j-\\bm{R}_i)$, which is naturally satisfied in Coulomb interaction. You should follow the EXAMPLE below to simplify it through relabeling the index.  \n",
      "Return the simplified $H$.\n",
      "\n",
      "# Reduce momentum in Hartree term (momentum in BZ)\n",
      "You will be instructed to simplify the Hartree term, $H$, by reducing the momentum inside the expected value $\\langle\\dots\\rangle$.  \n",
      "The expected value $\\langle\\dots\\rangle$ is only nonzero when the two momenta $k_i,k_j$ are the same, namely, $\\langle k_i,k_j\\rangle$.  \n",
      "You should use the property of Kronecker delta function $\\delta_{{k_i,k_j}}$ to reduce one momentum $k_i$.\n",
      "Once you reduce one momentum inside the expected value $\\langle\\dots\\rangle$. You will also notice the total momentum conservation will reduce another momentum in the quadratic term. Therefore, you should end up with only two momenta left in the summation.  \n",
      "You should follow the EXAMPLE below to reduce one momentum in the Hartree term, and another momentum in the quadratic term.  \n",
      "Return the final simplified Hartree term $H$.\n",
      "\n",
      "# Reduce momentum in Fock term (momentum in BZ)\n",
      "You will be instructed to simplify the Fock term in $H$ by reducing the momentum inside the expected value $\\langle c_{i,s}^\\dagger c_{j,s'}^\\dagger c_{j,s'} c_{i,s} \\rangle$.  \n",
      "The expected value $\\langle c_{i,s}^\\dagger c_{j,s'}^\\dagger c_{j,s'} c_{i,s} \\rangle$ is only nonzero when the two momenta $k_i,k_j$ are the same, namely, $\\langle c_{i,s}^\\dagger c_{j,s'}^\\dagger c_{j,s'} c_{i,s} \\rangle \\neq 0$.  \n",
      "You should use the property of Kronecker delta function $\\delta_{{k_i,k_j}}$ to reduce one momentum $k_i$.  \n",
      "Once you reduce one momentum inside the expected value $\\langle c_{i,s}^\\dagger c_{j,s'}^\\dagger c_{j,s'} c_{i,s} \\rangle$. You will also notice the total momentum conservation will reduce another momentum in the quadratic term. Therefore, you should end up with only two momenta left in the summation.\n",
      "You should follow the EXAMPLE below to reduce one momentum in the Fock term, and another momentum in the quadratic term.    \n",
      "Return the final simplified Fock term $H$.\n",
      "\n",
      "# Combine the Hartree and Fock term\n",
      "You will now be instructed to combine the Hartree term $H=\\sum_{s}\\sum_{i,j}^{} t_{s}\\left(\\bm{R}_i-\\bm{R}_j\\right) c_{i,s}^\\dagger c_{j,s}$ and the Fock term $\\frac{1}{2}\\sum_{s,s'}\\sum_{i,j}U(\\bm{R}_i-\\bm{R}_j) c_{i,s}^\\dagger c_{j,s'}^\\dagger c_{j,s'} c_{i,s}$.  \n",
      "You should perform the same trick of relabeling the index in the Fock term to make the quadratic operators in the Fock term the same as those in the Hartree term. The relabeling should be done with a swap : {swap rule}.\n",
      "You should add them, relabel the index in Fock term, and simply their sum. \n",
      "Return the final sum of Hartree and Fock term.\n",
      "\n",
      "# Construct full Hamiltonian after HF\n",
      "You will be instructed to construct the entire Hamiltonian after the Hartree-Fock approximation $H$. \n",
      "You should first recall the Kinetic Hamiltonian $t_{s}\\left(\\bm{R}_i-\\bm{R}_j\\right)$ is the hopping between the moir\\'e lattice site $i$ and $j$, fitted from the first moir\\'e valence band of twisted WSe$_2$ at $\\pm K$ valleys in the noninteracting picture.  \n",
      "You should then recall the interacting Hamiltonian $U(\\bm{R}_i-\\bm{R}_j)$ is the Coulomb repulsion between site $i$ and $j$.  \n",
      "You should then combine $t_{s}\\left(\\bm{R}_i-\\bm{R}_j\\right)$ with the interacting Hamiltonian $U(\\bm{R}_i-\\bm{R}_j)$ after the Hartree-Fock approximation, which is the entire Hamiltonian $H$ after Hartree-Fock.  \n",
      "Return the expression for $H$.  \n",
      "\n",
      "Use the following conventions for the symbols (You should also obey the conventions in all my previous prompts if you encounter undefined symbols. If you find it is never defined or has conflicts in the conventions, you should stop and let me know):  \n",
      "$t_{s}\\left(\\bm{R}_i-\\bm{R}_j\\right)$ is the hopping between the moir\\'e lattice site $i$ and $j$, fitted from the first moir\\'e valence band of twisted WSe$_2$ at $\\pm K$ valleys in the noninteracting picture. $U(\\bm{R}_i-\\bm{R}_j)$ describes the Coulomb repulsion between site $i$ and $j$. $s=\\uparrow$ and $ \\downarrow$ are coupled with the $+K$ and $-K$ valleys.\n",
      "\n",
      "\n"
     ]
    }
   ],
   "source": [
    "print(string)"
   ]
  },
  {
   "cell_type": "code",
   "execution_count": 19,
   "metadata": {},
   "outputs": [],
   "source": [
    "with open(pwd.split('/')[-1]+'_extractor.md','w') as f:\n",
    "    f.write(string)"
   ]
  },
  {
   "cell_type": "code",
   "execution_count": null,
   "metadata": {},
   "outputs": [],
   "source": []
  }
 ],
 "metadata": {
  "kernelspec": {
   "display_name": "base",
   "language": "python",
   "name": "python3"
  },
  "language_info": {
   "codemirror_mode": {
    "name": "ipython",
    "version": 3
   },
   "file_extension": ".py",
   "mimetype": "text/x-python",
   "name": "python",
   "nbconvert_exporter": "python",
   "pygments_lexer": "ipython3",
   "version": "3.8.11"
  },
  "orig_nbformat": 4
 },
 "nbformat": 4,
 "nbformat_minor": 2
}
